{
  "cells": [
    {
      "cell_type": "markdown",
      "metadata": {
        "id": "w8M5wO3_btHp"
      },
      "source": [
        "# Baselines: LR, KNN, SVM, DT, RF"
      ]
    },
    {
      "cell_type": "code",
      "execution_count": null,
      "metadata": {
        "colab": {
          "base_uri": "https://localhost:8080/"
        },
        "id": "gWBg5gkKbaLX",
        "outputId": "24a2a1c9-996d-496f-c5ae-f2ecac1d00c2"
      },
      "outputs": [
        {
          "output_type": "stream",
          "name": "stdout",
          "text": [
            "Requirement already satisfied: pandas in /usr/local/lib/python3.10/dist-packages (2.1.4)\n",
            "Requirement already satisfied: scikit-learn in /usr/local/lib/python3.10/dist-packages (1.5.2)\n",
            "Collecting openml\n",
            "  Downloading openml-0.15.0-py3-none-any.whl.metadata (9.9 kB)\n",
            "Requirement already satisfied: numpy<2,>=1.22.4 in /usr/local/lib/python3.10/dist-packages (from pandas) (1.26.4)\n",
            "Requirement already satisfied: python-dateutil>=2.8.2 in /usr/local/lib/python3.10/dist-packages (from pandas) (2.8.2)\n",
            "Requirement already satisfied: pytz>=2020.1 in /usr/local/lib/python3.10/dist-packages (from pandas) (2024.2)\n",
            "Requirement already satisfied: tzdata>=2022.1 in /usr/local/lib/python3.10/dist-packages (from pandas) (2024.1)\n",
            "Requirement already satisfied: scipy>=1.6.0 in /usr/local/lib/python3.10/dist-packages (from scikit-learn) (1.13.1)\n",
            "Requirement already satisfied: joblib>=1.2.0 in /usr/local/lib/python3.10/dist-packages (from scikit-learn) (1.4.2)\n",
            "Requirement already satisfied: threadpoolctl>=3.1.0 in /usr/local/lib/python3.10/dist-packages (from scikit-learn) (3.5.0)\n",
            "Collecting liac-arff>=2.4.0 (from openml)\n",
            "  Downloading liac-arff-2.5.0.tar.gz (13 kB)\n",
            "  Preparing metadata (setup.py) ... \u001b[?25l\u001b[?25hdone\n",
            "Collecting xmltodict (from openml)\n",
            "  Downloading xmltodict-0.14.2-py2.py3-none-any.whl.metadata (8.0 kB)\n",
            "Requirement already satisfied: requests in /usr/local/lib/python3.10/dist-packages (from openml) (2.32.3)\n",
            "Collecting minio (from openml)\n",
            "  Downloading minio-7.2.10-py3-none-any.whl.metadata (6.5 kB)\n",
            "Requirement already satisfied: pyarrow in /usr/local/lib/python3.10/dist-packages (from openml) (14.0.2)\n",
            "Requirement already satisfied: tqdm in /usr/local/lib/python3.10/dist-packages (from openml) (4.66.5)\n",
            "Requirement already satisfied: packaging in /usr/local/lib/python3.10/dist-packages (from openml) (24.1)\n",
            "Requirement already satisfied: six>=1.5 in /usr/local/lib/python3.10/dist-packages (from python-dateutil>=2.8.2->pandas) (1.16.0)\n",
            "Requirement already satisfied: certifi in /usr/local/lib/python3.10/dist-packages (from minio->openml) (2024.8.30)\n",
            "Requirement already satisfied: urllib3 in /usr/local/lib/python3.10/dist-packages (from minio->openml) (2.2.3)\n",
            "Requirement already satisfied: argon2-cffi in /usr/local/lib/python3.10/dist-packages (from minio->openml) (23.1.0)\n",
            "Collecting pycryptodome (from minio->openml)\n",
            "  Downloading pycryptodome-3.21.0-cp36-abi3-manylinux_2_17_x86_64.manylinux2014_x86_64.whl.metadata (3.4 kB)\n",
            "Requirement already satisfied: typing-extensions in /usr/local/lib/python3.10/dist-packages (from minio->openml) (4.12.2)\n",
            "Requirement already satisfied: charset-normalizer<4,>=2 in /usr/local/lib/python3.10/dist-packages (from requests->openml) (3.3.2)\n",
            "Requirement already satisfied: idna<4,>=2.5 in /usr/local/lib/python3.10/dist-packages (from requests->openml) (3.10)\n",
            "Requirement already satisfied: argon2-cffi-bindings in /usr/local/lib/python3.10/dist-packages (from argon2-cffi->minio->openml) (21.2.0)\n",
            "Requirement already satisfied: cffi>=1.0.1 in /usr/local/lib/python3.10/dist-packages (from argon2-cffi-bindings->argon2-cffi->minio->openml) (1.17.1)\n",
            "Requirement already satisfied: pycparser in /usr/local/lib/python3.10/dist-packages (from cffi>=1.0.1->argon2-cffi-bindings->argon2-cffi->minio->openml) (2.22)\n",
            "Downloading openml-0.15.0-py3-none-any.whl (157 kB)\n",
            "\u001b[2K   \u001b[90m━━━━━━━━━━━━━━━━━━━━━━━━━━━━━━━━━━━━━━━━\u001b[0m \u001b[32m158.0/158.0 kB\u001b[0m \u001b[31m4.4 MB/s\u001b[0m eta \u001b[36m0:00:00\u001b[0m\n",
            "\u001b[?25hDownloading minio-7.2.10-py3-none-any.whl (93 kB)\n",
            "\u001b[2K   \u001b[90m━━━━━━━━━━━━━━━━━━━━━━━━━━━━━━━━━━━━━━━━\u001b[0m \u001b[32m93.9/93.9 kB\u001b[0m \u001b[31m5.3 MB/s\u001b[0m eta \u001b[36m0:00:00\u001b[0m\n",
            "\u001b[?25hDownloading xmltodict-0.14.2-py2.py3-none-any.whl (10.0 kB)\n",
            "Downloading pycryptodome-3.21.0-cp36-abi3-manylinux_2_17_x86_64.manylinux2014_x86_64.whl (2.3 MB)\n",
            "\u001b[2K   \u001b[90m━━━━━━━━━━━━━━━━━━━━━━━━━━━━━━━━━━━━━━━━\u001b[0m \u001b[32m2.3/2.3 MB\u001b[0m \u001b[31m25.6 MB/s\u001b[0m eta \u001b[36m0:00:00\u001b[0m\n",
            "\u001b[?25hBuilding wheels for collected packages: liac-arff\n",
            "  Building wheel for liac-arff (setup.py) ... \u001b[?25l\u001b[?25hdone\n",
            "  Created wheel for liac-arff: filename=liac_arff-2.5.0-py3-none-any.whl size=11717 sha256=51c1aae60405bbe86069f4eb9086f65ffeb8a21d7a4b85039d835ee474eda6f8\n",
            "  Stored in directory: /root/.cache/pip/wheels/5d/2a/9c/3895d9617f8f49a0883ba686326d598e78a1c2f54fe3cae86d\n",
            "Successfully built liac-arff\n",
            "Installing collected packages: xmltodict, pycryptodome, liac-arff, minio, openml\n",
            "Successfully installed liac-arff-2.5.0 minio-7.2.10 openml-0.15.0 pycryptodome-3.21.0 xmltodict-0.14.2\n"
          ]
        }
      ],
      "source": [
        "pip install pandas scikit-learn openml"
      ]
    },
    {
      "cell_type": "code",
      "execution_count": null,
      "metadata": {
        "colab": {
          "base_uri": "https://localhost:8080/"
        },
        "id": "muSPURHdbBcZ",
        "outputId": "99f77ba6-d9b1-4884-89e8-f59203ee9ce5"
      },
      "outputs": [
        {
          "output_type": "stream",
          "name": "stderr",
          "text": [
            "WARNING:openml:No permission to create OpenML directory at /root/.config/openml! This can result in OpenML-Python not working properly.\n"
          ]
        }
      ],
      "source": [
        "import os\n",
        "import numpy as np\n",
        "import pandas as pd\n",
        "import openml\n",
        "from sklearn.preprocessing import StandardScaler, LabelEncoder, OneHotEncoder\n",
        "from sklearn.compose import ColumnTransformer\n",
        "from sklearn.pipeline import Pipeline\n",
        "from sklearn.impute import SimpleImputer\n",
        "from sklearn.linear_model import LogisticRegression\n",
        "from sklearn.neighbors import KNeighborsClassifier, KNeighborsRegressor\n",
        "from sklearn.svm import SVC, SVR\n",
        "from sklearn.tree import DecisionTreeClassifier, DecisionTreeRegressor\n",
        "from sklearn.ensemble import RandomForestClassifier, RandomForestRegressor\n",
        "from sklearn.model_selection import cross_val_score\n",
        "from sklearn.metrics import accuracy_score, mean_squared_error\n",
        "from sklearn.model_selection import StratifiedKFold, KFold\n",
        "\n",
        "\n",
        "# Set OpenML configuration directory to a temporary location\n",
        "os.environ[\"OPENML_CONFIG\"] = \"/tmp/openml_config\""
      ]
    },
    {
      "cell_type": "markdown",
      "metadata": {
        "id": "39x0zBfP4c-7"
      },
      "source": [
        "# Preprocessing"
      ]
    },
    {
      "cell_type": "code",
      "execution_count": null,
      "metadata": {
        "id": "U23wsqcIb8GT"
      },
      "outputs": [],
      "source": [
        "def load_preprocess_task(task_id, task_type=\"classification\", target_encode=None, cat_feature_encode=True):\n",
        "    \"\"\"\n",
        "    Load and preprocess dataset from OpenML based on task type (classification or regression).\n",
        "    Args:\n",
        "        task_id (int): OpenML task ID\n",
        "        task_type (str): Either 'classification' or 'regression'\n",
        "        target_encode (bool or None): Encode target if classification task (default: True if not regression)\n",
        "        cat_feature_encode (bool): Whether to one-hot encode categorical features (default: True)\n",
        "    Returns:\n",
        "        X_preprocessed (ndarray): Preprocessed feature set\n",
        "        y (ndarray): Target values (encoded for classification tasks)\n",
        "    \"\"\"\n",
        "    # Load task from OpenML using the task ID\n",
        "    task = openml.tasks.get_task(task_id)\n",
        "    dataset = task.get_dataset()\n",
        "    X, y, _, _ = dataset.get_data(target=task.target_name)\n",
        "\n",
        "    print(f\"Dataset shape: {X.shape}\")\n",
        "\n",
        "    # Infer and apply target encoding based on task type and target_encode flag\n",
        "    is_regression = (task_type == \"regression\")\n",
        "    if (target_encode is None and not is_regression) or target_encode:\n",
        "        le = LabelEncoder()\n",
        "        y = le.fit_transform(y)\n",
        "\n",
        "    # Detect and preprocess categorical features\n",
        "    categorical_cols = X.select_dtypes(include=['object', 'category']).columns\n",
        "    numeric_cols = X.select_dtypes(include=['number']).columns\n",
        "\n",
        "    # Preprocessing pipelines for numeric and categorical features\n",
        "    numeric_transformer = Pipeline(steps=[\n",
        "        ('imputer', SimpleImputer(strategy='mean')),\n",
        "        ('scaler', StandardScaler())])\n",
        "\n",
        "    if cat_feature_encode:\n",
        "        categorical_transformer = Pipeline(steps=[\n",
        "            ('imputer', SimpleImputer(strategy='most_frequent')),\n",
        "            ('onehot', OneHotEncoder(handle_unknown='ignore'))])\n",
        "        preprocessor = ColumnTransformer(\n",
        "            transformers=[\n",
        "                ('num', numeric_transformer, numeric_cols),\n",
        "                ('cat', categorical_transformer, categorical_cols)])\n",
        "    else:\n",
        "        preprocessor = ColumnTransformer(\n",
        "            transformers=[\n",
        "                ('num', numeric_transformer, numeric_cols)])\n",
        "\n",
        "    # Apply transformations\n",
        "    X_preprocessed = preprocessor.fit_transform(X)\n",
        "\n",
        "    return X_preprocessed, y\n",
        "\n"
      ]
    },
    {
      "cell_type": "markdown",
      "metadata": {
        "id": "YR9y_VVF4kAA"
      },
      "source": [
        "# Cross Validation"
      ]
    },
    {
      "cell_type": "code",
      "execution_count": null,
      "metadata": {
        "id": "4ZRdrbcEb-EE"
      },
      "outputs": [],
      "source": [
        "def cross_validate_model(model, X, y, task_type=\"classification\", n_folds=10):\n",
        "    \"\"\"\n",
        "    Cross-validate model based on task type (classification or regression).\n",
        "    Args:\n",
        "        model: Machine learning model to train and evaluate\n",
        "        X (ndarray): Feature matrix\n",
        "        y (ndarray): Target vector\n",
        "        task_type (str): 'classification' or 'regression'\n",
        "        n_folds (int): Number of cross-validation folds\n",
        "    Returns:\n",
        "        avg_score (float): Average cross-validated score\n",
        "    \"\"\"\n",
        "    if task_type == \"classification\":\n",
        "        cv = StratifiedKFold(n_splits=n_folds, shuffle=True, random_state=42)\n",
        "        scoring_func = accuracy_score\n",
        "    elif task_type == \"regression\":\n",
        "        cv = KFold(n_splits=n_folds, shuffle=True, random_state=42)\n",
        "        scoring_func = mean_squared_error\n",
        "    else:\n",
        "        raise ValueError(\"Invalid task type. Use 'classification' or 'regression'.\")\n",
        "\n",
        "    scores = []\n",
        "    for train_index, test_index in cv.split(X, y):\n",
        "        X_train, X_test = X[train_index], X[test_index]\n",
        "        y_train, y_test = y[train_index], y[test_index]\n",
        "\n",
        "        model.fit(X_train, y_train)\n",
        "        y_pred = model.predict(X_test)\n",
        "\n",
        "        # Calculate accuracy for classification or RMSE for regression\n",
        "        score = scoring_func(y_test, y_pred)\n",
        "        if task_type == \"regression\":\n",
        "            score = np.sqrt(score)  # RMSE\n",
        "\n",
        "        scores.append(score)\n",
        "\n",
        "    avg_score = np.mean(scores)\n",
        "    metric_name = \"Accuracy\" if task_type == \"classification\" else \"RMSE\"\n",
        "    print(f\"Average {metric_name}: {avg_score:.4f}\")\n",
        "\n",
        "    return avg_score\n"
      ]
    },
    {
      "cell_type": "markdown",
      "metadata": {
        "id": "-8w8hT1u4oJJ"
      },
      "source": [
        "\n",
        "# Logistic Regression"
      ]
    },
    {
      "cell_type": "code",
      "execution_count": null,
      "metadata": {
        "id": "qV7NJw6mcF32"
      },
      "outputs": [],
      "source": [
        "def linear_model_trial(trial, task_type=\"classification\"):\n",
        "    if task_type == \"classification\":\n",
        "        model = LogisticRegression(n_jobs=-1)\n",
        "    else:\n",
        "        raise NotImplementedError(\"Linear regression not implemented.\")\n",
        "    return model\n",
        "\n",
        "def run_linear_model(X, y, task_type=\"classification\"):\n",
        "    model = linear_model_trial(None, task_type)\n",
        "    scoring = 'accuracy' if task_type == \"classification\" else 'neg_root_mean_squared_error'\n",
        "    scores = cross_val_score(model, X, y, cv=10, scoring=scoring)\n",
        "    print(f\"10-fold CV {scoring}: {scores.mean():.4f} ± {scores.std():.4f}\")\n"
      ]
    },
    {
      "cell_type": "markdown",
      "metadata": {
        "id": "h5rP8tPf4ydh"
      },
      "source": [
        "# KNN"
      ]
    },
    {
      "cell_type": "code",
      "execution_count": null,
      "metadata": {
        "id": "lY2cwRyicHgi"
      },
      "outputs": [],
      "source": [
        "def get_random_knn_parameters(seed, task_type=\"classification\"):\n",
        "    rs = np.random.RandomState(seed)\n",
        "    params = {\n",
        "        \"n_neighbors\": 1 + 2 * rs.randint(1, 21),\n",
        "        \"knn_alg\": rs.choice([\"kd_tree\", \"ball_tree\"]),\n",
        "        \"leaf_size\": rs.choice([30, 50, 70, 100, 300]),\n",
        "    }\n",
        "    return params\n",
        "\n",
        "def run_knn(X, y, seed=42, task_type=\"classification\"):\n",
        "    params = get_random_knn_parameters(seed, task_type)\n",
        "    if task_type == \"classification\":\n",
        "        knn = KNeighborsClassifier(n_neighbors=params[\"n_neighbors\"],\n",
        "                                   algorithm=params[\"knn_alg\"],\n",
        "                                   leaf_size=params[\"leaf_size\"],\n",
        "                                   n_jobs=-1)\n",
        "        scoring = 'accuracy'\n",
        "    else:\n",
        "        knn = KNeighborsRegressor(n_neighbors=params[\"n_neighbors\"],\n",
        "                                  algorithm=params[\"knn_alg\"],\n",
        "                                  leaf_size=params[\"leaf_size\"],\n",
        "                                  n_jobs=-1)\n",
        "        scoring = 'neg_root_mean_squared_error'\n",
        "\n",
        "    scores = cross_val_score(knn, X, y, cv=10, scoring=scoring)\n",
        "    print(f\"KNN with random params: {params}\")\n",
        "    print(f\"10-fold CV {scoring}: {scores.mean():.4f} ± {scores.std():.4f}\")"
      ]
    },
    {
      "cell_type": "markdown",
      "metadata": {
        "id": "m-7UPM-t41LM"
      },
      "source": [
        "# SVM"
      ]
    },
    {
      "cell_type": "code",
      "execution_count": null,
      "metadata": {
        "id": "wjOm2JU8cLA2"
      },
      "outputs": [],
      "source": [
        "def get_random_svm_parameters(seed: int):\n",
        "    # Generate random parameters for SVM\n",
        "    rs = np.random.RandomState(seed)\n",
        "    params = {\"C\": np.power(10, rs.uniform(-10, 10))}\n",
        "    return params\n",
        "\n",
        "\n",
        "def run_svm(X, y, seed=42, task_type=\"classification\"):\n",
        "    params = get_random_svm_parameters(seed)\n",
        "\n",
        "    if task_type == \"classification\":\n",
        "        svm_model = SVC(C=params[\"C\"], probability=True)\n",
        "        scoring = 'accuracy'\n",
        "    else:\n",
        "        svm_model = SVR(C=params[\"C\"])\n",
        "        scoring = 'neg_root_mean_squared_error'\n",
        "\n",
        "    scores = cross_val_score(svm_model, X, y, cv=10, scoring=scoring)\n",
        "    print(f\"10-fold CV {scoring}: {scores.mean():.4f} ± {scores.std():.4f}\")"
      ]
    },
    {
      "cell_type": "markdown",
      "metadata": {
        "id": "7ZzSV4As45E-"
      },
      "source": [
        "# Decision Tree"
      ]
    },
    {
      "cell_type": "code",
      "execution_count": null,
      "metadata": {
        "id": "yFDFObj-cPYk"
      },
      "outputs": [],
      "source": [
        "def get_random_decision_tree_parameters(seed, task_type=\"classification\"):\n",
        "    rs = np.random.RandomState(seed)\n",
        "    params = {\"max_depth\": int(np.round(np.power(2, rs.uniform(1, np.log2(12)))))}\n",
        "    return params\n",
        "\n",
        "def run_decision_tree(X, y, seed=42, task_type=\"classification\"):\n",
        "    params = get_random_decision_tree_parameters(seed, task_type)\n",
        "    if task_type == \"classification\":\n",
        "        dt = DecisionTreeClassifier(max_depth=params[\"max_depth\"], random_state=seed)\n",
        "        scoring = 'accuracy'\n",
        "    else:\n",
        "        dt = DecisionTreeRegressor(max_depth=params[\"max_depth\"], random_state=seed)\n",
        "        scoring = 'neg_root_mean_squared_error'\n",
        "\n",
        "    scores = cross_val_score(dt, X, y, cv=10, scoring=scoring)\n",
        "    print(f\"Decision Tree with random params: {params}\")\n",
        "    print(f\"10-fold CV {scoring}: {scores.mean():.4f} ± {scores.std():.4f}\")\n"
      ]
    },
    {
      "cell_type": "markdown",
      "metadata": {
        "id": "oSJpAD2G5BLf"
      },
      "source": [
        "# Random Forest"
      ]
    },
    {
      "cell_type": "code",
      "execution_count": null,
      "metadata": {
        "id": "A0XA-ahecSkW"
      },
      "outputs": [],
      "source": [
        "def get_random_forest_parameters(seed, task_type=\"classification\"):\n",
        "    rs = np.random.RandomState(seed)\n",
        "    params = {\n",
        "        \"max_depth\": int(np.round(np.power(2, rs.uniform(1, np.log2(12))))),\n",
        "        \"n_estimators\": int(np.round(np.power(5, rs.uniform(1, np.log2(100) / np.log2(5)))))\n",
        "    }\n",
        "    return params\n",
        "\n",
        "def run_random_forest(X, y, seed=42, task_type=\"classification\"):\n",
        "    params = get_random_forest_parameters(seed, task_type)\n",
        "    if task_type == \"classification\":\n",
        "        rf = RandomForestClassifier(n_estimators=params[\"n_estimators\"],\n",
        "                                    max_depth=params[\"max_depth\"],\n",
        "                                    random_state=seed,\n",
        "                                    n_jobs=-1)\n",
        "        scoring = 'accuracy'\n",
        "    else:\n",
        "        rf = RandomForestRegressor(n_estimators=params[\"n_estimators\"],\n",
        "                                   max_depth=params[\"max_depth\"],\n",
        "                                   random_state=seed,\n",
        "                                   n_jobs=-1)\n",
        "        scoring = 'neg_root_mean_squared_error'\n",
        "\n",
        "    scores = cross_val_score(rf, X, y, cv=10, scoring=scoring)\n",
        "    print(f\"Random Forest with random params: {params}\")\n",
        "    print(f\"10-fold CV {scoring}: {scores.mean():.4f} ± {scores.std():.4f}\")"
      ]
    },
    {
      "cell_type": "markdown",
      "metadata": {
        "id": "2suByRaJ5Pt6"
      },
      "source": [
        "# Task ID1: 14965"
      ]
    },
    {
      "cell_type": "code",
      "execution_count": null,
      "metadata": {
        "colab": {
          "base_uri": "https://localhost:8080/"
        },
        "id": "mFxOy5QFcVzJ",
        "outputId": "a0251366-9855-454b-e5e6-815c7fb1f51a"
      },
      "outputs": [
        {
          "name": "stdout",
          "output_type": "stream",
          "text": [
            "Dataset shape: (45211, 16)\n"
          ]
        }
      ],
      "source": [
        "# Load and preprocess data using OpenML Task ID\n",
        "X, y = load_preprocess_task(14965)  # Replace with an actual task ID\n"
      ]
    },
    {
      "cell_type": "code",
      "execution_count": null,
      "metadata": {
        "colab": {
          "base_uri": "https://localhost:8080/"
        },
        "id": "m8tDr4bwJvLM",
        "outputId": "e26559a8-b687-4413-88d8-7a60f7c0d850"
      },
      "outputs": [
        {
          "name": "stdout",
          "output_type": "stream",
          "text": [
            "10-fold CV accuracy: 0.8142 ± 0.1492\n"
          ]
        }
      ],
      "source": [
        "# Choose and run models with 10-fold cross-validation\n",
        "run_linear_model(X, y)"
      ]
    },
    {
      "cell_type": "code",
      "execution_count": null,
      "metadata": {
        "colab": {
          "base_uri": "https://localhost:8080/"
        },
        "id": "nwbCnY9mlAKS",
        "outputId": "aeac25c8-1fd9-4195-af86-01a3cdbc217c"
      },
      "outputs": [
        {
          "name": "stdout",
          "output_type": "stream",
          "text": [
            "KNN with random params: {'n_neighbors': 15, 'knn_alg': 'ball_tree', 'leaf_size': 300}\n",
            "10-fold CV accuracy: 0.8398 ± 0.0424\n"
          ]
        }
      ],
      "source": [
        "run_knn(X, y, seed=42)\n"
      ]
    },
    {
      "cell_type": "code",
      "execution_count": null,
      "metadata": {
        "colab": {
          "base_uri": "https://localhost:8080/"
        },
        "id": "8nX4SgHHlBzV",
        "outputId": "c74cf372-efd7-4952-df0f-f3ece72225cd"
      },
      "outputs": [
        {
          "name": "stdout",
          "output_type": "stream",
          "text": [
            "10-fold CV accuracy: 0.7432 ± 0.1386\n"
          ]
        }
      ],
      "source": [
        "run_svm(X, y, seed=42)\n"
      ]
    },
    {
      "cell_type": "code",
      "execution_count": null,
      "metadata": {
        "colab": {
          "base_uri": "https://localhost:8080/"
        },
        "id": "OxDjuF_WlDOP",
        "outputId": "dc544c3d-dcc5-49e6-974b-938384e7f0d1"
      },
      "outputs": [
        {
          "name": "stdout",
          "output_type": "stream",
          "text": [
            "Decision Tree with random params: {'max_depth': 4}\n",
            "10-fold CV accuracy: 0.8235 ± 0.1123\n"
          ]
        }
      ],
      "source": [
        "run_decision_tree(X, y, seed=42)\n"
      ]
    },
    {
      "cell_type": "code",
      "execution_count": null,
      "metadata": {
        "colab": {
          "base_uri": "https://localhost:8080/"
        },
        "id": "60S503d7lFB4",
        "outputId": "5329db10-6db2-48ee-ba6f-8e58322ecca1"
      },
      "outputs": [
        {
          "name": "stdout",
          "output_type": "stream",
          "text": [
            "Random Forest with random params: {'max_depth': 4, 'n_estimators': 86}\n",
            "10-fold CV accuracy: 0.8769 ± 0.0159\n"
          ]
        }
      ],
      "source": [
        "run_random_forest(X, y, seed=42)"
      ]
    },
    {
      "cell_type": "markdown",
      "metadata": {
        "id": "zojzAMHO6Q_K"
      },
      "source": [
        "# Task ID2: 9977"
      ]
    },
    {
      "cell_type": "code",
      "execution_count": null,
      "metadata": {
        "colab": {
          "base_uri": "https://localhost:8080/"
        },
        "id": "4af1RcN46erR",
        "outputId": "b8b5451a-5645-45d5-c83c-0187fe537b2d"
      },
      "outputs": [
        {
          "name": "stdout",
          "output_type": "stream",
          "text": [
            "Dataset shape: (34465, 118)\n"
          ]
        }
      ],
      "source": [
        "# Load and preprocess data using OpenML Task ID\n",
        "X, y = load_preprocess_task(9977)  # Replace with an actual task ID\n"
      ]
    },
    {
      "cell_type": "code",
      "execution_count": null,
      "metadata": {
        "colab": {
          "base_uri": "https://localhost:8080/"
        },
        "id": "XrknfTbuCqlo",
        "outputId": "6c77ab80-9522-4269-ab07-0049659e4334"
      },
      "outputs": [
        {
          "name": "stdout",
          "output_type": "stream",
          "text": [
            "Average Accuracy: 0.9493\n"
          ]
        }
      ],
      "source": [
        "# Choose and run models with 10-fold cross-validation\n",
        "run_linear_model(X, y)"
      ]
    },
    {
      "cell_type": "code",
      "execution_count": null,
      "metadata": {
        "colab": {
          "base_uri": "https://localhost:8080/"
        },
        "id": "MVG0LT3_6erS",
        "outputId": "b293fd71-6bdd-4252-fb3e-42ff51a0c095"
      },
      "outputs": [
        {
          "name": "stdout",
          "output_type": "stream",
          "text": [
            "KNN with random params: {'n_neighbors': 15, 'knn_alg': 'ball_tree', 'leaf_size': 300}\n",
            "10-fold CV Accuracy: 0.9274 ± 0.0276\n"
          ]
        }
      ],
      "source": [
        "run_knn(X, y, seed=42)\n"
      ]
    },
    {
      "cell_type": "code",
      "execution_count": null,
      "metadata": {
        "colab": {
          "base_uri": "https://localhost:8080/"
        },
        "id": "-H1TotA26erS",
        "outputId": "0663fbfa-52a4-4811-fe99-a361f55ec4a5"
      },
      "outputs": [
        {
          "name": "stdout",
          "output_type": "stream",
          "text": [
            "10-fold CV Accuracy: 0.9408 ± 0.0296\n"
          ]
        }
      ],
      "source": [
        "run_svm(X, y, seed=42)\n"
      ]
    },
    {
      "cell_type": "code",
      "execution_count": null,
      "metadata": {
        "colab": {
          "base_uri": "https://localhost:8080/"
        },
        "id": "AxffUZTH6erS",
        "outputId": "640460d4-e18b-488a-8438-eef29e3f0c90"
      },
      "outputs": [
        {
          "name": "stdout",
          "output_type": "stream",
          "text": [
            "Decision Tree with random params: {'max_depth': 4}\n",
            "10-fold CV Accuracy: 0.8235 ± 0.1123\n"
          ]
        }
      ],
      "source": [
        "run_decision_tree(X, y, seed=42)\n"
      ]
    },
    {
      "cell_type": "code",
      "execution_count": null,
      "metadata": {
        "colab": {
          "base_uri": "https://localhost:8080/"
        },
        "id": "oP4QcliE6erT",
        "outputId": "45ddd52a-0a05-4b62-8bea-2fc6c1bdedd1"
      },
      "outputs": [
        {
          "name": "stdout",
          "output_type": "stream",
          "text": [
            "Random Forest with random params: {'max_depth': 4, 'n_estimators': 86}\n",
            "10-fold CV Accuracy: 0.8769 ± 0.0159\n"
          ]
        }
      ],
      "source": [
        "run_random_forest(X, y, seed=42)"
      ]
    },
    {
      "cell_type": "markdown",
      "metadata": {
        "id": "7Hz-jF53KD4A"
      },
      "source": [
        "# Task ID3: 34539"
      ]
    },
    {
      "cell_type": "code",
      "execution_count": null,
      "metadata": {
        "colab": {
          "base_uri": "https://localhost:8080/"
        },
        "id": "6r1ojz5XKFG2",
        "outputId": "07f423b5-4eb3-4250-ac0c-868b5d4b2058"
      },
      "outputs": [
        {
          "name": "stdout",
          "output_type": "stream",
          "text": [
            "Dataset shape: (32769, 9)\n"
          ]
        }
      ],
      "source": [
        "# Load and preprocess data using OpenML Task ID\n",
        "X, y = load_preprocess_task(34539)  # Replace with an actual task ID\n"
      ]
    },
    {
      "cell_type": "code",
      "execution_count": null,
      "metadata": {
        "colab": {
          "base_uri": "https://localhost:8080/"
        },
        "id": "_QEhF17lKFG3",
        "outputId": "93e1337d-9e4d-4f23-e15e-1d2e193a013e"
      },
      "outputs": [
        {
          "name": "stdout",
          "output_type": "stream",
          "text": [
            "Average Accuracy: 0.9472\n"
          ]
        }
      ],
      "source": [
        "# Choose and run models with 10-fold cross-validation\n",
        "run_linear_model(X, y)"
      ]
    },
    {
      "cell_type": "code",
      "execution_count": null,
      "metadata": {
        "colab": {
          "base_uri": "https://localhost:8080/"
        },
        "id": "WDpYa4HYKFG3",
        "outputId": "c8b27740-ec7c-42cd-9782-ae015470697f"
      },
      "outputs": [
        {
          "name": "stderr",
          "output_type": "stream",
          "text": [
            "/usr/local/lib/python3.10/dist-packages/sklearn/neighbors/_base.py:583: UserWarning: cannot use tree with sparse input: using brute force\n",
            "  warnings.warn(\"cannot use tree with sparse input: using brute force\")\n",
            "/usr/local/lib/python3.10/dist-packages/sklearn/neighbors/_base.py:583: UserWarning: cannot use tree with sparse input: using brute force\n",
            "  warnings.warn(\"cannot use tree with sparse input: using brute force\")\n",
            "/usr/local/lib/python3.10/dist-packages/sklearn/neighbors/_base.py:583: UserWarning: cannot use tree with sparse input: using brute force\n",
            "  warnings.warn(\"cannot use tree with sparse input: using brute force\")\n",
            "/usr/local/lib/python3.10/dist-packages/sklearn/neighbors/_base.py:583: UserWarning: cannot use tree with sparse input: using brute force\n",
            "  warnings.warn(\"cannot use tree with sparse input: using brute force\")\n",
            "/usr/local/lib/python3.10/dist-packages/sklearn/neighbors/_base.py:583: UserWarning: cannot use tree with sparse input: using brute force\n",
            "  warnings.warn(\"cannot use tree with sparse input: using brute force\")\n",
            "/usr/local/lib/python3.10/dist-packages/sklearn/neighbors/_base.py:583: UserWarning: cannot use tree with sparse input: using brute force\n",
            "  warnings.warn(\"cannot use tree with sparse input: using brute force\")\n",
            "/usr/local/lib/python3.10/dist-packages/sklearn/neighbors/_base.py:583: UserWarning: cannot use tree with sparse input: using brute force\n",
            "  warnings.warn(\"cannot use tree with sparse input: using brute force\")\n",
            "/usr/local/lib/python3.10/dist-packages/sklearn/neighbors/_base.py:583: UserWarning: cannot use tree with sparse input: using brute force\n",
            "  warnings.warn(\"cannot use tree with sparse input: using brute force\")\n",
            "/usr/local/lib/python3.10/dist-packages/sklearn/neighbors/_base.py:583: UserWarning: cannot use tree with sparse input: using brute force\n",
            "  warnings.warn(\"cannot use tree with sparse input: using brute force\")\n",
            "/usr/local/lib/python3.10/dist-packages/sklearn/neighbors/_base.py:583: UserWarning: cannot use tree with sparse input: using brute force\n",
            "  warnings.warn(\"cannot use tree with sparse input: using brute force\")\n"
          ]
        },
        {
          "name": "stdout",
          "output_type": "stream",
          "text": [
            "KNN with random params: {'n_neighbors': 15, 'knn_alg': 'ball_tree', 'leaf_size': 300}\n",
            "10-fold CV Accuracy: 0.9460 ± 0.0018\n"
          ]
        }
      ],
      "source": [
        "run_knn(X, y, seed=42)\n"
      ]
    },
    {
      "cell_type": "code",
      "execution_count": null,
      "metadata": {
        "colab": {
          "base_uri": "https://localhost:8080/"
        },
        "id": "LFFF63rFKFG3",
        "outputId": "b59ab841-f247-4a6b-99a5-54f7311b48a9"
      },
      "outputs": [
        {
          "name": "stdout",
          "output_type": "stream",
          "text": [
            "10-fold CV Accuracy: 0.9482 ± 0.0011\n"
          ]
        }
      ],
      "source": [
        "run_svm(X, y, seed=42)\n"
      ]
    },
    {
      "cell_type": "code",
      "execution_count": null,
      "metadata": {
        "colab": {
          "base_uri": "https://localhost:8080/"
        },
        "id": "kBdAAP2LKFG4",
        "outputId": "2fe494c9-75a1-460f-feb9-7ce8c51ea330"
      },
      "outputs": [
        {
          "name": "stdout",
          "output_type": "stream",
          "text": [
            "Decision Tree with random params: {'max_depth': 4}\n",
            "10-fold CV Accuracy: 0.9437 ± 0.0009\n"
          ]
        }
      ],
      "source": [
        "run_decision_tree(X, y, seed=42)\n"
      ]
    },
    {
      "cell_type": "code",
      "execution_count": null,
      "metadata": {
        "colab": {
          "base_uri": "https://localhost:8080/"
        },
        "id": "bFBGQcsRKFG4",
        "outputId": "58c74d48-5633-4930-d4d4-76d46c8fb33f"
      },
      "outputs": [
        {
          "name": "stdout",
          "output_type": "stream",
          "text": [
            "Random Forest with random params: {'max_depth': 4, 'n_estimators': 86}\n",
            "10-fold CV Accuracy: 0.9421 ± 0.0001\n"
          ]
        }
      ],
      "source": [
        "run_random_forest(X, y, seed=42)"
      ]
    },
    {
      "cell_type": "markdown",
      "metadata": {
        "id": "HvwXkeugnnxT"
      },
      "source": [
        "# Task ID4: 146606"
      ]
    },
    {
      "cell_type": "code",
      "execution_count": null,
      "metadata": {
        "colab": {
          "base_uri": "https://localhost:8080/"
        },
        "id": "NpK-BrI_nppN",
        "outputId": "498580dc-b857-4753-d82c-e7e4b57b4757"
      },
      "outputs": [
        {
          "name": "stdout",
          "output_type": "stream",
          "text": [
            "Dataset shape: (98050, 28)\n"
          ]
        }
      ],
      "source": [
        "# Load and preprocess data using OpenML Task ID\n",
        "X, y = load_preprocess_task(146606)  # Replace with an actual task ID\n"
      ]
    },
    {
      "cell_type": "code",
      "execution_count": null,
      "metadata": {
        "colab": {
          "base_uri": "https://localhost:8080/"
        },
        "id": "A4AAgCVYnppN",
        "outputId": "00100a64-4e30-4199-894f-a9a3c0b14260"
      },
      "outputs": [
        {
          "name": "stdout",
          "output_type": "stream",
          "text": [
            "Average Accuracy: 0.6410\n"
          ]
        }
      ],
      "source": [
        "# Choose and run models with 10-fold cross-validation\n",
        "run_linear_model(X, y)"
      ]
    },
    {
      "cell_type": "code",
      "execution_count": null,
      "metadata": {
        "colab": {
          "base_uri": "https://localhost:8080/"
        },
        "id": "yHrS1WrznppO",
        "outputId": "02168a71-4679-4e68-c59d-dd44aa0af459"
      },
      "outputs": [
        {
          "name": "stdout",
          "output_type": "stream",
          "text": [
            "KNN with random params: {'n_neighbors': 15, 'knn_alg': 'ball_tree', 'leaf_size': 300}\n",
            "10-fold CV Accuracy: 0.6434 ± 0.0053\n"
          ]
        }
      ],
      "source": [
        "run_knn(X, y, seed=42)\n"
      ]
    },
    {
      "cell_type": "code",
      "execution_count": null,
      "metadata": {
        "id": "S9mjE-trnppO"
      },
      "outputs": [],
      "source": [
        "run_svm(X, y, seed=42)\n"
      ]
    },
    {
      "cell_type": "code",
      "execution_count": null,
      "metadata": {
        "colab": {
          "base_uri": "https://localhost:8080/"
        },
        "id": "lEhPNj41nppP",
        "outputId": "7fd7315f-be8b-4d34-fbe8-cfab82860a3e"
      },
      "outputs": [
        {
          "name": "stdout",
          "output_type": "stream",
          "text": [
            "Decision Tree with random params: {'max_depth': 4}\n",
            "10-fold CV Accuracy: 0.6586 ± 0.0030\n"
          ]
        }
      ],
      "source": [
        "run_decision_tree(X, y, seed=42)\n"
      ]
    },
    {
      "cell_type": "code",
      "execution_count": null,
      "metadata": {
        "colab": {
          "base_uri": "https://localhost:8080/"
        },
        "id": "gFLIFwgynppP",
        "outputId": "21983738-a9fd-4b3e-d964-cec9a952ae9e"
      },
      "outputs": [
        {
          "name": "stdout",
          "output_type": "stream",
          "text": [
            "Random Forest with random params: {'max_depth': 4, 'n_estimators': 86}\n",
            "10-fold CV Accuracy: 0.6645 ± 0.0038\n"
          ]
        }
      ],
      "source": [
        "run_random_forest(X, y, seed=42)"
      ]
    },
    {
      "cell_type": "markdown",
      "metadata": {
        "id": "agXkkvFj-uRE"
      },
      "source": [
        "# Task ID5: 7592\n",
        "\n"
      ]
    },
    {
      "cell_type": "code",
      "execution_count": null,
      "metadata": {
        "colab": {
          "base_uri": "https://localhost:8080/"
        },
        "id": "qef1YPgY-uRF",
        "outputId": "01dbfb11-4975-4475-8072-f3d7723ad144"
      },
      "outputs": [
        {
          "name": "stdout",
          "output_type": "stream",
          "text": [
            "Dataset shape: (48842, 14)\n"
          ]
        }
      ],
      "source": [
        "# Load and preprocess data using OpenML Task ID\n",
        "X, y = load_preprocess_task(7592)  # Replace with an actual task ID\n"
      ]
    },
    {
      "cell_type": "code",
      "execution_count": null,
      "metadata": {
        "colab": {
          "base_uri": "https://localhost:8080/"
        },
        "id": "JVGfknW5-uRG",
        "outputId": "d2c2899f-0f71-416e-f4a9-c18ae7ea4850"
      },
      "outputs": [
        {
          "name": "stdout",
          "output_type": "stream",
          "text": [
            "Average Accuracy: 0.8516\n"
          ]
        }
      ],
      "source": [
        "# Choose and run models with 10-fold cross-validation\n",
        "run_linear_model(X, y)"
      ]
    },
    {
      "cell_type": "code",
      "execution_count": null,
      "metadata": {
        "colab": {
          "base_uri": "https://localhost:8080/"
        },
        "id": "V1zEjAoL-uRH",
        "outputId": "1bf782c2-4c08-4f38-b804-bd18ea1ae0d8"
      },
      "outputs": [
        {
          "name": "stderr",
          "output_type": "stream",
          "text": [
            "/usr/local/lib/python3.10/dist-packages/sklearn/neighbors/_base.py:583: UserWarning: cannot use tree with sparse input: using brute force\n",
            "  warnings.warn(\"cannot use tree with sparse input: using brute force\")\n",
            "/usr/local/lib/python3.10/dist-packages/sklearn/neighbors/_base.py:583: UserWarning: cannot use tree with sparse input: using brute force\n",
            "  warnings.warn(\"cannot use tree with sparse input: using brute force\")\n",
            "/usr/local/lib/python3.10/dist-packages/sklearn/neighbors/_base.py:583: UserWarning: cannot use tree with sparse input: using brute force\n",
            "  warnings.warn(\"cannot use tree with sparse input: using brute force\")\n",
            "/usr/local/lib/python3.10/dist-packages/sklearn/neighbors/_base.py:583: UserWarning: cannot use tree with sparse input: using brute force\n",
            "  warnings.warn(\"cannot use tree with sparse input: using brute force\")\n",
            "/usr/local/lib/python3.10/dist-packages/sklearn/neighbors/_base.py:583: UserWarning: cannot use tree with sparse input: using brute force\n",
            "  warnings.warn(\"cannot use tree with sparse input: using brute force\")\n",
            "/usr/local/lib/python3.10/dist-packages/sklearn/neighbors/_base.py:583: UserWarning: cannot use tree with sparse input: using brute force\n",
            "  warnings.warn(\"cannot use tree with sparse input: using brute force\")\n",
            "/usr/local/lib/python3.10/dist-packages/sklearn/neighbors/_base.py:583: UserWarning: cannot use tree with sparse input: using brute force\n",
            "  warnings.warn(\"cannot use tree with sparse input: using brute force\")\n",
            "/usr/local/lib/python3.10/dist-packages/sklearn/neighbors/_base.py:583: UserWarning: cannot use tree with sparse input: using brute force\n",
            "  warnings.warn(\"cannot use tree with sparse input: using brute force\")\n",
            "/usr/local/lib/python3.10/dist-packages/sklearn/neighbors/_base.py:583: UserWarning: cannot use tree with sparse input: using brute force\n",
            "  warnings.warn(\"cannot use tree with sparse input: using brute force\")\n",
            "/usr/local/lib/python3.10/dist-packages/sklearn/neighbors/_base.py:583: UserWarning: cannot use tree with sparse input: using brute force\n",
            "  warnings.warn(\"cannot use tree with sparse input: using brute force\")\n"
          ]
        },
        {
          "name": "stdout",
          "output_type": "stream",
          "text": [
            "KNN with random params: {'n_neighbors': 15, 'knn_alg': 'ball_tree', 'leaf_size': 300}\n",
            "10-fold CV Accuracy: 0.8434 ± 0.0033\n"
          ]
        }
      ],
      "source": [
        "run_knn(X, y, seed=42)\n"
      ]
    },
    {
      "cell_type": "code",
      "execution_count": null,
      "metadata": {
        "colab": {
          "base_uri": "https://localhost:8080/"
        },
        "id": "q8wpFec_-uRI",
        "outputId": "d077752f-7730-4732-bab1-e84b1f38972a"
      },
      "outputs": [
        {
          "name": "stdout",
          "output_type": "stream",
          "text": [
            "Decision Tree with random params: {'max_depth': 4}\n",
            "10-fold CV Accuracy: 0.8432 ± 0.0032\n"
          ]
        }
      ],
      "source": [
        "run_decision_tree(X, y, seed=42)\n"
      ]
    },
    {
      "cell_type": "code",
      "execution_count": null,
      "metadata": {
        "colab": {
          "base_uri": "https://localhost:8080/"
        },
        "id": "M_oAxfn6-uRI",
        "outputId": "05acc519-152e-40a8-c78f-fef868eab917"
      },
      "outputs": [
        {
          "name": "stdout",
          "output_type": "stream",
          "text": [
            "Random Forest with random params: {'max_depth': 4, 'n_estimators': 86}\n",
            "10-fold CV Accuracy: 0.8257 ± 0.0040\n"
          ]
        }
      ],
      "source": [
        "run_random_forest(X, y, seed=42)"
      ]
    },
    {
      "cell_type": "markdown",
      "metadata": {
        "id": "WCGiaodFBGNK"
      },
      "source": [
        "# Task ID6: 146195\n",
        "\n"
      ]
    },
    {
      "cell_type": "code",
      "execution_count": null,
      "metadata": {
        "colab": {
          "base_uri": "https://localhost:8080/"
        },
        "id": "Wx_GD9-LBGNL",
        "outputId": "cbfe0634-31ed-4bfa-c715-d44664a8d784"
      },
      "outputs": [
        {
          "name": "stdout",
          "output_type": "stream",
          "text": [
            "Dataset shape: (67557, 42)\n"
          ]
        }
      ],
      "source": [
        "# Load and preprocess data using OpenML Task ID\n",
        "X, y = load_preprocess_task(146195)  # Replace with an actual task ID\n"
      ]
    },
    {
      "cell_type": "code",
      "execution_count": null,
      "metadata": {
        "colab": {
          "base_uri": "https://localhost:8080/"
        },
        "id": "QCAI04jJBGNL",
        "outputId": "fc020b10-ce6f-42e2-d294-89ca8baa3b5f"
      },
      "outputs": [
        {
          "name": "stdout",
          "output_type": "stream",
          "text": [
            "Average Accuracy: 0.7571\n"
          ]
        }
      ],
      "source": [
        "# Choose and run classification models with 10-fold cross-validation\n",
        "run_linear_model(X, y)"
      ]
    },
    {
      "cell_type": "code",
      "execution_count": null,
      "metadata": {
        "colab": {
          "base_uri": "https://localhost:8080/"
        },
        "id": "G4CMhWolBGNL",
        "outputId": "9b1a2695-f604-49d0-bdf3-bf44d05f55e9"
      },
      "outputs": [
        {
          "name": "stdout",
          "output_type": "stream",
          "text": [
            "KNN with random params: {'n_neighbors': 15, 'knn_alg': 'ball_tree', 'leaf_size': 300}\n",
            "10-fold CV Accuracy: 0.6227 ± 0.0459\n"
          ]
        }
      ],
      "source": [
        "run_knn(X, y, seed=42)\n"
      ]
    },
    {
      "cell_type": "code",
      "execution_count": null,
      "metadata": {
        "colab": {
          "base_uri": "https://localhost:8080/"
        },
        "id": "cPXFjQSrBGNL",
        "outputId": "a90ea47c-502c-469f-969c-98ed75468dae"
      },
      "outputs": [
        {
          "name": "stdout",
          "output_type": "stream",
          "text": [
            "Decision Tree with random params: {'max_depth': 4}\n",
            "10-fold CV Accuracy: 0.5900 ± 0.1039\n"
          ]
        }
      ],
      "source": [
        "run_decision_tree(X, y, seed=42)\n"
      ]
    },
    {
      "cell_type": "code",
      "execution_count": null,
      "metadata": {
        "colab": {
          "base_uri": "https://localhost:8080/"
        },
        "id": "xMAEFPv3BGNM",
        "outputId": "d6cc1ccd-83fc-473f-b26b-eabfdd4fbf37"
      },
      "outputs": [
        {
          "name": "stdout",
          "output_type": "stream",
          "text": [
            "Random Forest with random params: {'max_depth': 4, 'n_estimators': 86}\n",
            "10-fold CV Accuracy: 0.6601 ± 0.0034\n"
          ]
        }
      ],
      "source": [
        "run_random_forest(X, y, seed=42)"
      ]
    },
    {
      "cell_type": "markdown",
      "metadata": {
        "id": "LpQ09vBX6GbE"
      },
      "source": [
        "# Task ID7: 167119\n",
        "\n"
      ]
    },
    {
      "cell_type": "code",
      "execution_count": null,
      "metadata": {
        "colab": {
          "base_uri": "https://localhost:8080/"
        },
        "id": "4yzn3qD-6GbF",
        "outputId": "548936f0-583f-4060-9e0f-463d97c7ec75"
      },
      "outputs": [
        {
          "name": "stdout",
          "output_type": "stream",
          "text": [
            "Dataset shape: (44819, 6)\n"
          ]
        }
      ],
      "source": [
        "# Load and preprocess data using OpenML Task ID\n",
        "X, y = load_preprocess_task(167119)  # Replace with an actual task ID\n"
      ]
    },
    {
      "cell_type": "code",
      "execution_count": null,
      "metadata": {
        "colab": {
          "base_uri": "https://localhost:8080/"
        },
        "id": "F_tbAV3t6GbG",
        "outputId": "2b6e2dd0-a6a3-4d52-9605-de6d647b351c"
      },
      "outputs": [
        {
          "name": "stdout",
          "output_type": "stream",
          "text": [
            "10-fold CV accuracy: 0.6539 ± 0.0666\n"
          ]
        }
      ],
      "source": [
        "# Choose and run classification models with 10-fold cross-validation\n",
        "run_linear_model(X, y)"
      ]
    },
    {
      "cell_type": "code",
      "execution_count": null,
      "metadata": {
        "colab": {
          "base_uri": "https://localhost:8080/"
        },
        "id": "CaDmWxDI6GbG",
        "outputId": "8138a557-3048-4388-9b17-850c1407a3d1"
      },
      "outputs": [
        {
          "name": "stdout",
          "output_type": "stream",
          "text": [
            "KNN with random params: {'n_neighbors': 15, 'knn_alg': 'ball_tree', 'leaf_size': 300}\n",
            "10-fold CV accuracy: 0.7219 ± 0.0975\n"
          ]
        }
      ],
      "source": [
        "run_knn(X, y, seed=42)\n"
      ]
    },
    {
      "cell_type": "code",
      "execution_count": null,
      "metadata": {
        "colab": {
          "base_uri": "https://localhost:8080/"
        },
        "id": "arMzkO806GbH",
        "outputId": "00adf691-a0a3-4af5-acdb-fee022680257"
      },
      "outputs": [
        {
          "name": "stdout",
          "output_type": "stream",
          "text": [
            "Decision Tree with random params: {'max_depth': 4}\n",
            "10-fold CV accuracy: 0.6412 ± 0.0753\n"
          ]
        }
      ],
      "source": [
        "run_decision_tree(X, y, seed=42)\n"
      ]
    },
    {
      "cell_type": "code",
      "execution_count": null,
      "metadata": {
        "colab": {
          "base_uri": "https://localhost:8080/"
        },
        "id": "tAA52F7n6GbH",
        "outputId": "8d1ff078-9dba-4926-e64b-0bf8e0d7770c"
      },
      "outputs": [
        {
          "name": "stdout",
          "output_type": "stream",
          "text": [
            "Random Forest with random params: {'max_depth': 4, 'n_estimators': 86}\n",
            "10-fold CV accuracy: 0.7051 ± 0.0600\n"
          ]
        }
      ],
      "source": [
        "run_random_forest(X, y, seed=42)"
      ]
    },
    {
      "cell_type": "markdown",
      "metadata": {
        "id": "UhMkxXLjFYC_"
      },
      "source": [
        "# Task ID8: 167120\n",
        "\n"
      ]
    },
    {
      "cell_type": "code",
      "execution_count": null,
      "metadata": {
        "colab": {
          "base_uri": "https://localhost:8080/"
        },
        "id": "24VJEJaqFYC_",
        "outputId": "4dc055d9-c0d9-4736-85c9-f525decb6a19"
      },
      "outputs": [
        {
          "name": "stdout",
          "output_type": "stream",
          "text": [
            "Dataset shape: (96320, 21)\n"
          ]
        }
      ],
      "source": [
        "# Load and preprocess data using OpenML Task ID\n",
        "X, y = load_preprocess_task(167120)  # Replace with an actual task ID\n"
      ]
    },
    {
      "cell_type": "code",
      "execution_count": null,
      "metadata": {
        "colab": {
          "base_uri": "https://localhost:8080/"
        },
        "id": "gUhH6tXgFYDA",
        "outputId": "60cce544-824b-451d-ed08-b134f9181ae6"
      },
      "outputs": [
        {
          "name": "stdout",
          "output_type": "stream",
          "text": [
            "Average Accuracy: 0.5234\n"
          ]
        }
      ],
      "source": [
        "# Choose and run models with 10-fold cross-validation\n",
        "run_linear_model(X, y)"
      ]
    },
    {
      "cell_type": "code",
      "execution_count": null,
      "metadata": {
        "colab": {
          "base_uri": "https://localhost:8080/"
        },
        "id": "AE_MHiB4FYDA",
        "outputId": "21e1c882-9587-4713-a0de-bede8a3c8b1c"
      },
      "outputs": [
        {
          "name": "stdout",
          "output_type": "stream",
          "text": [
            "KNN with random params: {'n_neighbors': 15, 'knn_alg': 'ball_tree', 'leaf_size': 300}\n",
            "10-fold CV Accuracy: 0.5088 ± 0.0045\n"
          ]
        }
      ],
      "source": [
        "run_knn(X, y, seed=42)\n"
      ]
    },
    {
      "cell_type": "code",
      "execution_count": null,
      "metadata": {
        "colab": {
          "base_uri": "https://localhost:8080/"
        },
        "id": "t0i88aLWFYDB",
        "outputId": "abdd971d-7bdf-4220-cfe1-b6f0a1fa6cb5"
      },
      "outputs": [
        {
          "name": "stdout",
          "output_type": "stream",
          "text": [
            "Decision Tree with random params: {'max_depth': 4}\n",
            "10-fold CV Accuracy: 0.5177 ± 0.0036\n"
          ]
        }
      ],
      "source": [
        "run_decision_tree(X, y, seed=42)\n"
      ]
    },
    {
      "cell_type": "code",
      "execution_count": null,
      "metadata": {
        "colab": {
          "base_uri": "https://localhost:8080/"
        },
        "id": "PtLp4QIOFYDB",
        "outputId": "b6dababf-c251-4e39-a402-b32846a20d41"
      },
      "outputs": [
        {
          "name": "stdout",
          "output_type": "stream",
          "text": [
            "Random Forest with random params: {'max_depth': 4, 'n_estimators': 86}\n",
            "10-fold CV Accuracy: 0.5193 ± 0.0034\n"
          ]
        }
      ],
      "source": [
        "run_random_forest(X, y, seed=42)"
      ]
    },
    {
      "cell_type": "markdown",
      "metadata": {
        "id": "0i_GKe1EIZUZ"
      },
      "source": [
        "# Task ID10: \t3945\n",
        "\n"
      ]
    },
    {
      "cell_type": "code",
      "execution_count": null,
      "metadata": {
        "colab": {
          "base_uri": "https://localhost:8080/"
        },
        "id": "FrgVeUIhIZUZ",
        "outputId": "39360c11-0b78-406d-fa75-f6f30a4e70a6"
      },
      "outputs": [
        {
          "name": "stdout",
          "output_type": "stream",
          "text": [
            "Dataset shape: (50000, 230)\n"
          ]
        }
      ],
      "source": [
        "# Load and preprocess data using OpenML Task ID\n",
        "X, y = load_preprocess_task(3945)  # Replace with an actual task ID\n"
      ]
    },
    {
      "cell_type": "code",
      "execution_count": null,
      "metadata": {
        "colab": {
          "base_uri": "https://localhost:8080/"
        },
        "id": "M1vKAQ9bIZUZ",
        "outputId": "81f62488-ee84-4e03-8bf8-365eae54451d"
      },
      "outputs": [
        {
          "name": "stdout",
          "output_type": "stream",
          "text": [
            "Average Accuracy: 0.9806\n"
          ]
        }
      ],
      "source": [
        "# Choose and run models with 10-fold cross-validation\n",
        "run_linear_model(X, y)"
      ]
    },
    {
      "cell_type": "code",
      "execution_count": null,
      "metadata": {
        "colab": {
          "base_uri": "https://localhost:8080/"
        },
        "id": "HfmlNiY-IZUZ",
        "outputId": "8fc69e33-ca81-4223-c2fe-bc96a0cdf9d3"
      },
      "outputs": [
        {
          "name": "stderr",
          "output_type": "stream",
          "text": [
            "/usr/local/lib/python3.10/dist-packages/sklearn/neighbors/_base.py:583: UserWarning: cannot use tree with sparse input: using brute force\n",
            "  warnings.warn(\"cannot use tree with sparse input: using brute force\")\n",
            "/usr/local/lib/python3.10/dist-packages/sklearn/neighbors/_base.py:583: UserWarning: cannot use tree with sparse input: using brute force\n",
            "  warnings.warn(\"cannot use tree with sparse input: using brute force\")\n",
            "/usr/local/lib/python3.10/dist-packages/sklearn/neighbors/_base.py:583: UserWarning: cannot use tree with sparse input: using brute force\n",
            "  warnings.warn(\"cannot use tree with sparse input: using brute force\")\n",
            "/usr/local/lib/python3.10/dist-packages/sklearn/neighbors/_base.py:583: UserWarning: cannot use tree with sparse input: using brute force\n",
            "  warnings.warn(\"cannot use tree with sparse input: using brute force\")\n",
            "/usr/local/lib/python3.10/dist-packages/sklearn/neighbors/_base.py:583: UserWarning: cannot use tree with sparse input: using brute force\n",
            "  warnings.warn(\"cannot use tree with sparse input: using brute force\")\n",
            "/usr/local/lib/python3.10/dist-packages/sklearn/neighbors/_base.py:583: UserWarning: cannot use tree with sparse input: using brute force\n",
            "  warnings.warn(\"cannot use tree with sparse input: using brute force\")\n",
            "/usr/local/lib/python3.10/dist-packages/sklearn/neighbors/_base.py:583: UserWarning: cannot use tree with sparse input: using brute force\n",
            "  warnings.warn(\"cannot use tree with sparse input: using brute force\")\n",
            "/usr/local/lib/python3.10/dist-packages/sklearn/neighbors/_base.py:583: UserWarning: cannot use tree with sparse input: using brute force\n",
            "  warnings.warn(\"cannot use tree with sparse input: using brute force\")\n",
            "/usr/local/lib/python3.10/dist-packages/sklearn/neighbors/_base.py:583: UserWarning: cannot use tree with sparse input: using brute force\n",
            "  warnings.warn(\"cannot use tree with sparse input: using brute force\")\n",
            "/usr/local/lib/python3.10/dist-packages/sklearn/neighbors/_base.py:583: UserWarning: cannot use tree with sparse input: using brute force\n",
            "  warnings.warn(\"cannot use tree with sparse input: using brute force\")\n"
          ]
        },
        {
          "name": "stdout",
          "output_type": "stream",
          "text": [
            "KNN with random params: {'n_neighbors': 15, 'knn_alg': 'ball_tree', 'leaf_size': 300}\n",
            "10-fold CV Accuracy: 0.9822 ± 0.0000\n"
          ]
        }
      ],
      "source": [
        "run_knn(X, y, seed=42)\n"
      ]
    },
    {
      "cell_type": "code",
      "execution_count": null,
      "metadata": {
        "colab": {
          "base_uri": "https://localhost:8080/"
        },
        "id": "3iQYMR3BIZUa",
        "outputId": "22474f7a-0c7a-428f-fadb-23dacb997557"
      },
      "outputs": [
        {
          "name": "stdout",
          "output_type": "stream",
          "text": [
            "Decision Tree with random params: {'max_depth': 4}\n",
            "10-fold CV Accuracy: 0.9821 ± 0.0004\n"
          ]
        }
      ],
      "source": [
        "run_decision_tree(X, y, seed=42)\n"
      ]
    },
    {
      "cell_type": "code",
      "execution_count": null,
      "metadata": {
        "colab": {
          "base_uri": "https://localhost:8080/"
        },
        "id": "YeiFv2j_IZUa",
        "outputId": "c33e7fe9-3c2e-4920-b117-b0156dcb38c5"
      },
      "outputs": [
        {
          "name": "stdout",
          "output_type": "stream",
          "text": [
            "Random Forest with random params: {'max_depth': 4, 'n_estimators': 86}\n",
            "10-fold CV Accuracy: 0.9822 ± 0.0000\n"
          ]
        }
      ],
      "source": [
        "run_random_forest(X, y, seed=42)"
      ]
    },
    {
      "cell_type": "markdown",
      "metadata": {
        "id": "7Or_hKHXYB39"
      },
      "source": [
        "# Task ID11: \t168331\n",
        "\n"
      ]
    },
    {
      "cell_type": "code",
      "execution_count": null,
      "metadata": {
        "colab": {
          "base_uri": "https://localhost:8080/"
        },
        "id": "EK0dIwCaYB3-",
        "outputId": "339ce63b-3d76-4ea1-a389-927a28c67049"
      },
      "outputs": [
        {
          "name": "stdout",
          "output_type": "stream",
          "text": [
            "Dataset shape: (58310, 180)\n"
          ]
        }
      ],
      "source": [
        "# Load and preprocess data using OpenML Task ID\n",
        "X, y = load_preprocess_task(168331)  # Replace with an actual task ID\n"
      ]
    },
    {
      "cell_type": "code",
      "execution_count": null,
      "metadata": {
        "colab": {
          "base_uri": "https://localhost:8080/"
        },
        "id": "d3Qj1fPvYB3-",
        "outputId": "047f1c33-7ebc-44e6-ffb5-1f290db4ea65"
      },
      "outputs": [
        {
          "name": "stdout",
          "output_type": "stream",
          "text": [
            "Average Accuracy: 0.5827\n"
          ]
        }
      ],
      "source": [
        "# Choose and run models with 10-fold cross-validation\n",
        "run_linear_model(X, y)"
      ]
    },
    {
      "cell_type": "code",
      "execution_count": null,
      "metadata": {
        "colab": {
          "base_uri": "https://localhost:8080/"
        },
        "id": "951p0lF3YB3-",
        "outputId": "05504bd5-e92a-479e-8110-352ee583fb6a"
      },
      "outputs": [
        {
          "name": "stdout",
          "output_type": "stream",
          "text": [
            "KNN with random params: {'n_neighbors': 15, 'knn_alg': 'ball_tree', 'leaf_size': 300}\n",
            "10-fold CV Accuracy: 0.6704 ± 0.0050\n"
          ]
        }
      ],
      "source": [
        "run_knn(X, y, seed=42)\n"
      ]
    },
    {
      "cell_type": "code",
      "execution_count": null,
      "metadata": {
        "colab": {
          "base_uri": "https://localhost:8080/"
        },
        "id": "hA7Xb8jRYB3-",
        "outputId": "17df7ac6-322f-4a05-c5ec-c20e8d8209c6"
      },
      "outputs": [
        {
          "name": "stdout",
          "output_type": "stream",
          "text": [
            "Decision Tree with random params: {'max_depth': 4}\n",
            "10-fold CV Accuracy: 0.4678 ± 0.0045\n"
          ]
        }
      ],
      "source": [
        "run_decision_tree(X, y, seed=42)\n"
      ]
    },
    {
      "cell_type": "code",
      "execution_count": null,
      "metadata": {
        "colab": {
          "base_uri": "https://localhost:8080/"
        },
        "id": "TiQ1ksG8YB3-",
        "outputId": "4ca28928-bab3-4297-bc20-5fef003eb24a"
      },
      "outputs": [
        {
          "name": "stdout",
          "output_type": "stream",
          "text": [
            "Random Forest with random params: {'max_depth': 4, 'n_estimators': 86}\n",
            "10-fold CV Accuracy: 0.4994 ± 0.0040\n"
          ]
        }
      ],
      "source": [
        "run_random_forest(X, y, seed=42)"
      ]
    },
    {
      "cell_type": "markdown",
      "metadata": {
        "id": "yUMhEOrBdFAA"
      },
      "source": [
        "# Task ID12: \t168330\n",
        "\n"
      ]
    },
    {
      "cell_type": "code",
      "execution_count": null,
      "metadata": {
        "colab": {
          "base_uri": "https://localhost:8080/"
        },
        "id": "li5QMmi9dFAA",
        "outputId": "24c53c40-421e-4754-bd34-29566bc2e19f"
      },
      "outputs": [
        {
          "name": "stdout",
          "output_type": "stream",
          "text": [
            "Dataset shape: (83733, 54)\n"
          ]
        }
      ],
      "source": [
        "# Load and preprocess data using OpenML Task ID\n",
        "X, y = load_preprocess_task(168330)  # Replace with an actual task ID\n"
      ]
    },
    {
      "cell_type": "code",
      "execution_count": null,
      "metadata": {
        "colab": {
          "base_uri": "https://localhost:8080/"
        },
        "id": "t37NBADmdFAB",
        "outputId": "90814303-afe4-49c2-d02a-a02118c47de5"
      },
      "outputs": [
        {
          "name": "stdout",
          "output_type": "stream",
          "text": [
            "Average Accuracy: 0.6436\n"
          ]
        }
      ],
      "source": [
        "# Choose and run models with 10-fold cross-validation\n",
        "run_linear_model(X, y)"
      ]
    },
    {
      "cell_type": "code",
      "execution_count": null,
      "metadata": {
        "colab": {
          "base_uri": "https://localhost:8080/"
        },
        "id": "J_IfKfYPdFAB",
        "outputId": "f2c99a6b-1606-4bb0-dddd-6e1e37aa2f6d"
      },
      "outputs": [
        {
          "name": "stdout",
          "output_type": "stream",
          "text": [
            "KNN with random params: {'n_neighbors': 15, 'knn_alg': 'ball_tree', 'leaf_size': 300}\n",
            "10-fold CV Accuracy: 0.6266 ± 0.0041\n"
          ]
        }
      ],
      "source": [
        "run_knn(X, y, seed=42)\n"
      ]
    },
    {
      "cell_type": "code",
      "execution_count": null,
      "metadata": {
        "colab": {
          "base_uri": "https://localhost:8080/"
        },
        "id": "hWCYkGSidFAB",
        "outputId": "9839fe9e-fafb-406a-97b6-6b0ebe54253a"
      },
      "outputs": [
        {
          "name": "stdout",
          "output_type": "stream",
          "text": [
            "Decision Tree with random params: {'max_depth': 4}\n",
            "10-fold CV Accuracy: 0.6169 ± 0.0041\n"
          ]
        }
      ],
      "source": [
        "run_decision_tree(X, y, seed=42)\n"
      ]
    },
    {
      "cell_type": "code",
      "execution_count": null,
      "metadata": {
        "colab": {
          "base_uri": "https://localhost:8080/"
        },
        "id": "nmbybi8jdFAB",
        "outputId": "0e367a53-633c-4eeb-b10c-aa86d16a52b8"
      },
      "outputs": [
        {
          "name": "stdout",
          "output_type": "stream",
          "text": [
            "Random Forest with random params: {'max_depth': 4, 'n_estimators': 86}\n",
            "10-fold CV Accuracy: 0.6377 ± 0.0032\n"
          ]
        }
      ],
      "source": [
        "run_random_forest(X, y, seed=42)"
      ]
    },
    {
      "cell_type": "markdown",
      "metadata": {
        "id": "sgm3xuHO6hUr"
      },
      "source": [
        "\n",
        "\n",
        "\n",
        "# Task ID13: \t168335\n",
        "\n"
      ]
    },
    {
      "cell_type": "code",
      "execution_count": null,
      "metadata": {
        "colab": {
          "base_uri": "https://localhost:8080/"
        },
        "id": "HAI-NW5m6hUs",
        "outputId": "8aa0e685-a4d8-4721-cf87-5382cec6f1fa"
      },
      "outputs": [
        {
          "name": "stdout",
          "output_type": "stream",
          "text": [
            "Dataset shape: (130064, 50)\n"
          ]
        }
      ],
      "source": [
        "# Load and preprocess data using OpenML Task ID\n",
        "X, y = load_preprocess_task(168335)  # Replace with an actual task ID\n"
      ]
    },
    {
      "cell_type": "code",
      "execution_count": null,
      "metadata": {
        "colab": {
          "base_uri": "https://localhost:8080/"
        },
        "id": "JX7KOn896hUs",
        "outputId": "7cea44ce-9567-4536-d258-efbb0b2e9c68"
      },
      "outputs": [
        {
          "name": "stdout",
          "output_type": "stream",
          "text": [
            "10-fold CV accuracy: 0.8829 ± 0.0028\n"
          ]
        }
      ],
      "source": [
        "# Choose and run models with 10-fold cross-validation\n",
        "run_linear_model(X, y)"
      ]
    },
    {
      "cell_type": "code",
      "execution_count": null,
      "metadata": {
        "colab": {
          "base_uri": "https://localhost:8080/"
        },
        "id": "cf09kp7P6hUt",
        "outputId": "81330170-74f9-4a3c-dea7-cc56be7e98ac"
      },
      "outputs": [
        {
          "name": "stdout",
          "output_type": "stream",
          "text": [
            "KNN with random params: {'n_neighbors': 15, 'knn_alg': 'ball_tree', 'leaf_size': 300}\n",
            "10-fold CV accuracy: 0.8966 ± 0.0025\n"
          ]
        }
      ],
      "source": [
        "run_knn(X, y, seed=42)\n"
      ]
    },
    {
      "cell_type": "code",
      "execution_count": null,
      "metadata": {
        "colab": {
          "base_uri": "https://localhost:8080/"
        },
        "id": "bSCbHKr16hUt",
        "outputId": "4f626361-caa3-4351-8e25-ef0475db384a"
      },
      "outputs": [
        {
          "name": "stdout",
          "output_type": "stream",
          "text": [
            "Decision Tree with random params: {'max_depth': 4}\n",
            "10-fold CV accuracy: 0.8779 ± 0.0030\n"
          ]
        }
      ],
      "source": [
        "run_decision_tree(X, y, seed=42)\n"
      ]
    },
    {
      "cell_type": "code",
      "execution_count": null,
      "metadata": {
        "colab": {
          "base_uri": "https://localhost:8080/"
        },
        "id": "qAeM3jRc6hUt",
        "outputId": "dfe64f2d-c22f-4ca7-d69f-85deed89ed9f"
      },
      "outputs": [
        {
          "name": "stdout",
          "output_type": "stream",
          "text": [
            "Random Forest with random params: {'max_depth': 4, 'n_estimators': 86}\n",
            "10-fold CV accuracy: 0.8846 ± 0.0039\n"
          ]
        }
      ],
      "source": [
        "run_random_forest(X, y, seed=42)"
      ]
    },
    {
      "cell_type": "markdown",
      "metadata": {
        "id": "-R-Is94K6lVs"
      },
      "source": [
        "# Task ID16: \t146212\n",
        "\n"
      ]
    },
    {
      "cell_type": "code",
      "execution_count": null,
      "metadata": {
        "colab": {
          "base_uri": "https://localhost:8080/"
        },
        "id": "pjWn8eK76lVs",
        "outputId": "41db2440-f03a-4a93-b800-bb67b1db6e25"
      },
      "outputs": [
        {
          "name": "stdout",
          "output_type": "stream",
          "text": [
            "Dataset shape: (58000, 9)\n"
          ]
        }
      ],
      "source": [
        "# Load and preprocess data using OpenML Task ID\n",
        "X, y = load_preprocess_task(146212)  # Replace with an actual task ID\n"
      ]
    },
    {
      "cell_type": "code",
      "execution_count": null,
      "metadata": {
        "colab": {
          "base_uri": "https://localhost:8080/"
        },
        "id": "XIjDTKBC6lVs",
        "outputId": "f8d87f13-61f5-4dac-9123-5c23a8cd3b20"
      },
      "outputs": [
        {
          "name": "stdout",
          "output_type": "stream",
          "text": [
            "10-fold CV accuracy: 0.9665 ± 0.0021\n"
          ]
        }
      ],
      "source": [
        "# Choose and run models with 10-fold cross-validation\n",
        "run_linear_model(X, y)"
      ]
    },
    {
      "cell_type": "code",
      "execution_count": null,
      "metadata": {
        "colab": {
          "base_uri": "https://localhost:8080/"
        },
        "id": "RjuMENvg6lVt",
        "outputId": "e28b9b60-e9f4-477d-e7e0-74b6050ce506"
      },
      "outputs": [
        {
          "name": "stdout",
          "output_type": "stream",
          "text": [
            "KNN with random params: {'n_neighbors': 15, 'knn_alg': 'ball_tree', 'leaf_size': 300}\n",
            "10-fold CV accuracy: 0.9981 ± 0.0004\n"
          ]
        }
      ],
      "source": [
        "run_knn(X, y, seed=42)\n"
      ]
    },
    {
      "cell_type": "code",
      "execution_count": null,
      "metadata": {
        "colab": {
          "base_uri": "https://localhost:8080/"
        },
        "id": "q6970gnu6lVt",
        "outputId": "2b5a725f-d805-41c6-aa33-db81e294bf7d"
      },
      "outputs": [
        {
          "name": "stdout",
          "output_type": "stream",
          "text": [
            "Decision Tree with random params: {'max_depth': 4}\n",
            "10-fold CV accuracy: 0.9979 ± 0.0004\n"
          ]
        }
      ],
      "source": [
        "run_decision_tree(X, y, seed=42)\n"
      ]
    },
    {
      "cell_type": "code",
      "execution_count": null,
      "metadata": {
        "colab": {
          "base_uri": "https://localhost:8080/"
        },
        "id": "yeXF_trD6lVt",
        "outputId": "87223d66-5e8f-4c29-c049-9a930d072e03"
      },
      "outputs": [
        {
          "name": "stdout",
          "output_type": "stream",
          "text": [
            "Random Forest with random params: {'max_depth': 4, 'n_estimators': 86}\n",
            "10-fold CV accuracy: 0.9971 ± 0.0003\n"
          ]
        }
      ],
      "source": [
        "run_random_forest(X, y, seed=42)"
      ]
    },
    {
      "cell_type": "markdown",
      "metadata": {
        "id": "tKBJFfbK6mI6"
      },
      "source": [
        "# Task ID19: \t168868\n",
        "\n"
      ]
    },
    {
      "cell_type": "code",
      "execution_count": null,
      "metadata": {
        "colab": {
          "base_uri": "https://localhost:8080/"
        },
        "id": "wrA8P1t66mI6",
        "outputId": "02b6d7f2-4603-4dc0-f8b5-3cfab4ab0767"
      },
      "outputs": [
        {
          "output_type": "stream",
          "name": "stdout",
          "text": [
            "Dataset shape: (76000, 170)\n"
          ]
        }
      ],
      "source": [
        "# Load and preprocess data using OpenML Task ID\n",
        "X, y = load_preprocess_task(168868)  # Replace with an actual task ID\n"
      ]
    },
    {
      "cell_type": "code",
      "execution_count": null,
      "metadata": {
        "colab": {
          "base_uri": "https://localhost:8080/"
        },
        "id": "LrJznCnc6mI7",
        "outputId": "09384c8c-154b-4992-ce3e-f955ee6dc5c8"
      },
      "outputs": [
        {
          "name": "stdout",
          "output_type": "stream",
          "text": [
            "10-fold CV accuracy: 0.9910 ± 0.0014\n"
          ]
        }
      ],
      "source": [
        "# Choose and run models with 10-fold cross-validation\n",
        "run_linear_model(X, y)"
      ]
    },
    {
      "cell_type": "code",
      "execution_count": null,
      "metadata": {
        "colab": {
          "base_uri": "https://localhost:8080/"
        },
        "id": "nAokXumA6mI7",
        "outputId": "611d3231-6026-43fa-9cbd-ece6d74ca5a1"
      },
      "outputs": [
        {
          "output_type": "stream",
          "name": "stdout",
          "text": [
            "KNN with random params: {'n_neighbors': 15, 'knn_alg': 'ball_tree', 'leaf_size': 300}\n",
            "10-fold CV accuracy: 0.9892 ± 0.0010\n"
          ]
        }
      ],
      "source": [
        "run_knn(X, y, seed=42)\n"
      ]
    },
    {
      "cell_type": "code",
      "execution_count": null,
      "metadata": {
        "colab": {
          "base_uri": "https://localhost:8080/"
        },
        "id": "9dhqlpoS6mI7",
        "outputId": "710d733b-d6bf-4a6e-c072-a8d0559442d9"
      },
      "outputs": [
        {
          "name": "stdout",
          "output_type": "stream",
          "text": [
            "Decision Tree with random params: {'max_depth': 4}\n",
            "10-fold CV accuracy: 0.9888 ± 0.0011\n"
          ]
        }
      ],
      "source": [
        "run_decision_tree(X, y, seed=42)\n"
      ]
    },
    {
      "cell_type": "code",
      "execution_count": null,
      "metadata": {
        "colab": {
          "base_uri": "https://localhost:8080/"
        },
        "id": "2R9PT_ZD6mI8",
        "outputId": "15154160-c274-403b-9c04-65096c599455"
      },
      "outputs": [
        {
          "name": "stdout",
          "output_type": "stream",
          "text": [
            "Random Forest with random params: {'max_depth': 4, 'n_estimators': 86}\n",
            "10-fold CV accuracy: 0.9896 ± 0.0008\n"
          ]
        }
      ],
      "source": [
        "run_random_forest(X, y, seed=42)"
      ]
    },
    {
      "cell_type": "markdown",
      "source": [
        "#  OpenML-CC18 Curated Classification benchmark"
      ],
      "metadata": {
        "id": "yrj97EfRui0K"
      }
    },
    {
      "cell_type": "markdown",
      "source": [
        "# Task ID20: 31"
      ],
      "metadata": {
        "id": "UkfKJeLtuxt7"
      }
    },
    {
      "cell_type": "code",
      "execution_count": null,
      "metadata": {
        "colab": {
          "base_uri": "https://localhost:8080/"
        },
        "outputId": "67b4e007-a78d-42a6-f9b9-5b2e93f97fe7",
        "id": "li-TPclsu9wd"
      },
      "outputs": [
        {
          "output_type": "stream",
          "name": "stdout",
          "text": [
            "Dataset shape: (1000, 20)\n"
          ]
        }
      ],
      "source": [
        "# Load and preprocess data using OpenML Task ID\n",
        "X, y = load_preprocess_task(31)  # Replace with an actual task ID\n"
      ]
    },
    {
      "cell_type": "code",
      "execution_count": null,
      "metadata": {
        "colab": {
          "base_uri": "https://localhost:8080/"
        },
        "outputId": "d6585b56-94fc-4145-8ae9-b7978b7c36a0",
        "id": "3FxKyPB6u9we"
      },
      "outputs": [
        {
          "output_type": "stream",
          "name": "stdout",
          "text": [
            "10-fold CV accuracy: 0.7500 ± 0.0498\n"
          ]
        }
      ],
      "source": [
        "# Choose and run models with 10-fold cross-validation\n",
        "run_linear_model(X, y)"
      ]
    },
    {
      "cell_type": "code",
      "execution_count": null,
      "metadata": {
        "colab": {
          "base_uri": "https://localhost:8080/"
        },
        "outputId": "513002ba-1e1a-4724-8988-3ebc8123b33f",
        "id": "IK6fVPPyu9we"
      },
      "outputs": [
        {
          "output_type": "stream",
          "name": "stdout",
          "text": [
            "KNN with random params: {'n_neighbors': 15, 'knn_alg': 'ball_tree', 'leaf_size': 300}\n",
            "10-fold CV accuracy: 0.7320 ± 0.0232\n"
          ]
        }
      ],
      "source": [
        "run_knn(X, y, seed=42)\n"
      ]
    },
    {
      "cell_type": "code",
      "execution_count": null,
      "metadata": {
        "colab": {
          "base_uri": "https://localhost:8080/"
        },
        "outputId": "b5f775ef-17b1-43f6-b129-0548a2b3e6ac",
        "id": "tlVQn8bIu9wf"
      },
      "outputs": [
        {
          "output_type": "stream",
          "name": "stdout",
          "text": [
            "Decision Tree with random params: {'max_depth': 4}\n",
            "10-fold CV accuracy: 0.7080 ± 0.0199\n"
          ]
        }
      ],
      "source": [
        "run_decision_tree(X, y, seed=42)\n"
      ]
    },
    {
      "cell_type": "code",
      "execution_count": null,
      "metadata": {
        "colab": {
          "base_uri": "https://localhost:8080/"
        },
        "outputId": "d5e726fd-bb5d-45a2-a05c-dc83d5124983",
        "id": "OYszrk8Ku9wf"
      },
      "outputs": [
        {
          "output_type": "stream",
          "name": "stdout",
          "text": [
            "Random Forest with random params: {'max_depth': 4, 'n_estimators': 86}\n",
            "10-fold CV accuracy: 0.7190 ± 0.0255\n"
          ]
        }
      ],
      "source": [
        "run_random_forest(X, y, seed=42)"
      ]
    },
    {
      "cell_type": "markdown",
      "source": [
        "# Task ID21: 10101"
      ],
      "metadata": {
        "id": "u6DpJWyJu_Um"
      }
    },
    {
      "cell_type": "code",
      "execution_count": null,
      "metadata": {
        "colab": {
          "base_uri": "https://localhost:8080/"
        },
        "outputId": "44b809ac-d04e-44cc-d3c2-528974c4baac",
        "id": "tRzCa0OJvAS0"
      },
      "outputs": [
        {
          "output_type": "stream",
          "name": "stdout",
          "text": [
            "Dataset shape: (748, 4)\n"
          ]
        }
      ],
      "source": [
        "# Load and preprocess data using OpenML Task ID\n",
        "X, y = load_preprocess_task(10101)  # Replace with an actual task ID\n"
      ]
    },
    {
      "cell_type": "code",
      "execution_count": null,
      "metadata": {
        "colab": {
          "base_uri": "https://localhost:8080/"
        },
        "outputId": "e3724100-93bb-4892-c8c1-2fa82c768dc6",
        "id": "Q6ndHVM9vAS1"
      },
      "outputs": [
        {
          "output_type": "stream",
          "name": "stdout",
          "text": [
            "10-fold CV accuracy: 0.7687 ± 0.0119\n"
          ]
        }
      ],
      "source": [
        "# Choose and run models with 10-fold cross-validation\n",
        "run_linear_model(X, y)"
      ]
    },
    {
      "cell_type": "code",
      "execution_count": null,
      "metadata": {
        "colab": {
          "base_uri": "https://localhost:8080/"
        },
        "outputId": "f9f04555-43fc-4d6e-f932-86fdc894b906",
        "id": "DD_PNQ5evAS1"
      },
      "outputs": [
        {
          "output_type": "stream",
          "name": "stdout",
          "text": [
            "KNN with random params: {'n_neighbors': 15, 'knn_alg': 'ball_tree', 'leaf_size': 300}\n",
            "10-fold CV accuracy: 0.7301 ± 0.0881\n"
          ]
        }
      ],
      "source": [
        "run_knn(X, y, seed=42)\n"
      ]
    },
    {
      "cell_type": "code",
      "execution_count": null,
      "metadata": {
        "colab": {
          "base_uri": "https://localhost:8080/"
        },
        "outputId": "bf742f5b-3d92-4fa4-9415-91c8b156845c",
        "id": "MB3GsvHHvAS2"
      },
      "outputs": [
        {
          "output_type": "stream",
          "name": "stdout",
          "text": [
            "Decision Tree with random params: {'max_depth': 4}\n",
            "10-fold CV accuracy: 0.7488 ± 0.1405\n"
          ]
        }
      ],
      "source": [
        "run_decision_tree(X, y, seed=42)\n"
      ]
    },
    {
      "cell_type": "code",
      "execution_count": null,
      "metadata": {
        "colab": {
          "base_uri": "https://localhost:8080/"
        },
        "outputId": "ba266455-d573-48ec-90bc-b5cd7db168c5",
        "id": "naVeqThHvAS2"
      },
      "outputs": [
        {
          "output_type": "stream",
          "name": "stdout",
          "text": [
            "Random Forest with random params: {'max_depth': 4, 'n_estimators': 86}\n",
            "10-fold CV accuracy: 0.7674 ± 0.0698\n"
          ]
        }
      ],
      "source": [
        "run_random_forest(X, y, seed=42)"
      ]
    },
    {
      "cell_type": "markdown",
      "source": [
        "# Task ID22: \t3913"
      ],
      "metadata": {
        "id": "L4PMg4K1vD9b"
      }
    },
    {
      "cell_type": "code",
      "execution_count": null,
      "metadata": {
        "colab": {
          "base_uri": "https://localhost:8080/"
        },
        "outputId": "f1b01068-a696-4b09-af04-c34348a86e04",
        "id": "s1fnAZHNvEcn"
      },
      "outputs": [
        {
          "output_type": "stream",
          "name": "stdout",
          "text": [
            "Dataset shape: (522, 21)\n"
          ]
        }
      ],
      "source": [
        "# Load and preprocess data using OpenML Task ID\n",
        "X, y = load_preprocess_task(3913)  # Replace with an actual task ID\n"
      ]
    },
    {
      "cell_type": "code",
      "execution_count": null,
      "metadata": {
        "colab": {
          "base_uri": "https://localhost:8080/"
        },
        "outputId": "0048d7d4-2848-4145-fc7f-b1d633c5448b",
        "id": "G3VXNSnHvEcn"
      },
      "outputs": [
        {
          "output_type": "stream",
          "name": "stdout",
          "text": [
            "10-fold CV accuracy: 0.8406 ± 0.0733\n"
          ]
        }
      ],
      "source": [
        "# Choose and run models with 10-fold cross-validation\n",
        "run_linear_model(X, y)"
      ]
    },
    {
      "cell_type": "code",
      "execution_count": null,
      "metadata": {
        "colab": {
          "base_uri": "https://localhost:8080/"
        },
        "outputId": "9df90349-d7d8-4f57-b313-a54282fc0bce",
        "id": "HpXhaOw5vEcn"
      },
      "outputs": [
        {
          "output_type": "stream",
          "name": "stdout",
          "text": [
            "KNN with random params: {'n_neighbors': 15, 'knn_alg': 'ball_tree', 'leaf_size': 300}\n",
            "10-fold CV accuracy: 0.8216 ± 0.0625\n"
          ]
        }
      ],
      "source": [
        "run_knn(X, y, seed=42)\n"
      ]
    },
    {
      "cell_type": "code",
      "execution_count": null,
      "metadata": {
        "colab": {
          "base_uri": "https://localhost:8080/"
        },
        "outputId": "0d99360d-d715-4f0e-fe86-8b976ffdcf23",
        "id": "hnZcUbk_vEco"
      },
      "outputs": [
        {
          "output_type": "stream",
          "name": "stdout",
          "text": [
            "Decision Tree with random params: {'max_depth': 4}\n",
            "10-fold CV accuracy: 0.7851 ± 0.0811\n"
          ]
        }
      ],
      "source": [
        "run_decision_tree(X, y, seed=42)\n"
      ]
    },
    {
      "cell_type": "code",
      "execution_count": null,
      "metadata": {
        "colab": {
          "base_uri": "https://localhost:8080/"
        },
        "outputId": "d1995c70-16e6-4d36-ebd2-4d7c74eebb65",
        "id": "rtvc6eBMvEco"
      },
      "outputs": [
        {
          "output_type": "stream",
          "name": "stdout",
          "text": [
            "Random Forest with random params: {'max_depth': 4, 'n_estimators': 86}\n",
            "10-fold CV accuracy: 0.8272 ± 0.0782\n"
          ]
        }
      ],
      "source": [
        "run_random_forest(X, y, seed=42)"
      ]
    },
    {
      "cell_type": "markdown",
      "source": [
        "# Task ID23: 3"
      ],
      "metadata": {
        "id": "6UVYtFS5vFdg"
      }
    },
    {
      "cell_type": "code",
      "execution_count": null,
      "metadata": {
        "colab": {
          "base_uri": "https://localhost:8080/"
        },
        "outputId": "8092aaf5-5d11-486a-fb24-c17fcaf23e11",
        "id": "y5Ro7aC6vF76"
      },
      "outputs": [
        {
          "output_type": "stream",
          "name": "stdout",
          "text": [
            "Dataset shape: (3196, 36)\n"
          ]
        }
      ],
      "source": [
        "# Load and preprocess data using OpenML Task ID\n",
        "X, y = load_preprocess_task(3)  # Replace with an actual task ID\n"
      ]
    },
    {
      "cell_type": "code",
      "execution_count": null,
      "metadata": {
        "colab": {
          "base_uri": "https://localhost:8080/"
        },
        "outputId": "83eedb89-c1fa-467d-ceb1-6ebe787440ea",
        "id": "PTZK0BjKvF77"
      },
      "outputs": [
        {
          "output_type": "stream",
          "name": "stdout",
          "text": [
            "10-fold CV accuracy: 0.9393 ± 0.0471\n"
          ]
        }
      ],
      "source": [
        "# Choose and run models with 10-fold cross-validation\n",
        "run_linear_model(X, y)"
      ]
    },
    {
      "cell_type": "code",
      "execution_count": null,
      "metadata": {
        "colab": {
          "base_uri": "https://localhost:8080/"
        },
        "outputId": "a9923d7a-2d9c-4f8a-d3f2-7bd25d7ea021",
        "id": "dSbPaJ-vvF77"
      },
      "outputs": [
        {
          "output_type": "stream",
          "name": "stdout",
          "text": [
            "KNN with random params: {'n_neighbors': 15, 'knn_alg': 'ball_tree', 'leaf_size': 300}\n",
            "10-fold CV accuracy: 0.7844 ± 0.0701\n"
          ]
        }
      ],
      "source": [
        "run_knn(X, y, seed=42)\n"
      ]
    },
    {
      "cell_type": "code",
      "execution_count": null,
      "metadata": {
        "colab": {
          "base_uri": "https://localhost:8080/"
        },
        "outputId": "5cd5e111-8484-4c4f-c6bc-c49631f2ef1e",
        "id": "6_iM5kupvF78"
      },
      "outputs": [
        {
          "output_type": "stream",
          "name": "stdout",
          "text": [
            "Decision Tree with random params: {'max_depth': 4}\n",
            "10-fold CV accuracy: 0.9409 ± 0.0568\n"
          ]
        }
      ],
      "source": [
        "run_decision_tree(X, y, seed=42)\n"
      ]
    },
    {
      "cell_type": "code",
      "execution_count": null,
      "metadata": {
        "colab": {
          "base_uri": "https://localhost:8080/"
        },
        "outputId": "9ef28b5f-86f6-43f9-acb3-9a6447cb1c3c",
        "id": "KqfrhX7rvF78"
      },
      "outputs": [
        {
          "output_type": "stream",
          "name": "stdout",
          "text": [
            "Random Forest with random params: {'max_depth': 4, 'n_estimators': 86}\n",
            "10-fold CV accuracy: 0.9324 ± 0.0642\n"
          ]
        }
      ],
      "source": [
        "run_random_forest(X, y, seed=42)"
      ]
    },
    {
      "cell_type": "markdown",
      "source": [
        "# Task ID24: 3917"
      ],
      "metadata": {
        "id": "vyRHJUzZvHFc"
      }
    },
    {
      "cell_type": "code",
      "execution_count": null,
      "metadata": {
        "colab": {
          "base_uri": "https://localhost:8080/"
        },
        "outputId": "9d0f693d-8f77-45bb-b1a4-cc6416903fb7",
        "id": "ltwmoLB4vIBd"
      },
      "outputs": [
        {
          "output_type": "stream",
          "name": "stdout",
          "text": [
            "Dataset shape: (2109, 21)\n"
          ]
        }
      ],
      "source": [
        "# Load and preprocess data using OpenML Task ID\n",
        "X, y = load_preprocess_task(3917)  # Replace with an actual task ID\n"
      ]
    },
    {
      "cell_type": "code",
      "execution_count": null,
      "metadata": {
        "colab": {
          "base_uri": "https://localhost:8080/"
        },
        "outputId": "46164c32-b52c-460f-8e8d-94364f669fd1",
        "id": "O-0hVteevIBe"
      },
      "outputs": [
        {
          "output_type": "stream",
          "name": "stdout",
          "text": [
            "10-fold CV accuracy: 0.8521 ± 0.0241\n"
          ]
        }
      ],
      "source": [
        "# Choose and run models with 10-fold cross-validation\n",
        "run_linear_model(X, y)"
      ]
    },
    {
      "cell_type": "code",
      "execution_count": null,
      "metadata": {
        "colab": {
          "base_uri": "https://localhost:8080/"
        },
        "outputId": "2918214b-ae0a-42eb-dcee-be294f6049b9",
        "id": "xdSglpS1vIBe"
      },
      "outputs": [
        {
          "output_type": "stream",
          "name": "stdout",
          "text": [
            "KNN with random params: {'n_neighbors': 15, 'knn_alg': 'ball_tree', 'leaf_size': 300}\n",
            "10-fold CV accuracy: 0.8379 ± 0.0212\n"
          ]
        }
      ],
      "source": [
        "run_knn(X, y, seed=42)\n"
      ]
    },
    {
      "cell_type": "code",
      "execution_count": null,
      "metadata": {
        "colab": {
          "base_uri": "https://localhost:8080/"
        },
        "outputId": "27b7df43-18f3-46b3-9b08-60fb37f68b81",
        "id": "D1aXt3bnvIBf"
      },
      "outputs": [
        {
          "output_type": "stream",
          "name": "stdout",
          "text": [
            "Decision Tree with random params: {'max_depth': 4}\n",
            "10-fold CV accuracy: 0.8312 ± 0.0342\n"
          ]
        }
      ],
      "source": [
        "run_decision_tree(X, y, seed=42)\n"
      ]
    },
    {
      "cell_type": "code",
      "execution_count": null,
      "metadata": {
        "colab": {
          "base_uri": "https://localhost:8080/"
        },
        "outputId": "d6428e9e-5198-437e-8366-9854566e0995",
        "id": "MsceSw67vIBf"
      },
      "outputs": [
        {
          "output_type": "stream",
          "name": "stdout",
          "text": [
            "Random Forest with random params: {'max_depth': 4, 'n_estimators': 86}\n",
            "10-fold CV accuracy: 0.8492 ± 0.0202\n"
          ]
        }
      ],
      "source": [
        "run_random_forest(X, y, seed=42)"
      ]
    },
    {
      "cell_type": "markdown",
      "source": [
        "# Task ID25: 9957"
      ],
      "metadata": {
        "id": "dzf2O5cvvLhe"
      }
    },
    {
      "cell_type": "code",
      "execution_count": null,
      "metadata": {
        "colab": {
          "base_uri": "https://localhost:8080/"
        },
        "outputId": "ecf1b7d7-1b8a-4886-b75e-2861d80f5fde",
        "id": "rWUJ6OTgvMOY"
      },
      "outputs": [
        {
          "output_type": "stream",
          "name": "stdout",
          "text": [
            "Dataset shape: (1055, 41)\n"
          ]
        }
      ],
      "source": [
        "# Load and preprocess data using OpenML Task ID\n",
        "X, y = load_preprocess_task(9957)  # Replace with an actual task ID\n"
      ]
    },
    {
      "cell_type": "code",
      "execution_count": null,
      "metadata": {
        "colab": {
          "base_uri": "https://localhost:8080/"
        },
        "outputId": "bca077fc-e8a2-4ac5-998c-4395b4adfeda",
        "id": "Zy8t5V15vMOZ"
      },
      "outputs": [
        {
          "output_type": "stream",
          "name": "stdout",
          "text": [
            "10-fold CV accuracy: 0.8606 ± 0.0387\n"
          ]
        }
      ],
      "source": [
        "# Choose and run models with 10-fold cross-validation\n",
        "run_linear_model(X, y)"
      ]
    },
    {
      "cell_type": "code",
      "execution_count": null,
      "metadata": {
        "colab": {
          "base_uri": "https://localhost:8080/"
        },
        "outputId": "1b9ec975-d1af-4d9b-90d7-8f09993ac73f",
        "id": "XQpXe5HjvMOZ"
      },
      "outputs": [
        {
          "output_type": "stream",
          "name": "stdout",
          "text": [
            "KNN with random params: {'n_neighbors': 15, 'knn_alg': 'ball_tree', 'leaf_size': 300}\n",
            "10-fold CV accuracy: 0.8454 ± 0.0580\n"
          ]
        }
      ],
      "source": [
        "run_knn(X, y, seed=42)\n"
      ]
    },
    {
      "cell_type": "code",
      "execution_count": null,
      "metadata": {
        "colab": {
          "base_uri": "https://localhost:8080/"
        },
        "outputId": "8a4f26cf-cb42-4ba7-9480-9fccf21a56b4",
        "id": "gdsahFOsvMOZ"
      },
      "outputs": [
        {
          "output_type": "stream",
          "name": "stdout",
          "text": [
            "Decision Tree with random params: {'max_depth': 4}\n",
            "10-fold CV accuracy: 0.7809 ± 0.0668\n"
          ]
        }
      ],
      "source": [
        "run_decision_tree(X, y, seed=42)\n"
      ]
    },
    {
      "cell_type": "code",
      "execution_count": null,
      "metadata": {
        "colab": {
          "base_uri": "https://localhost:8080/"
        },
        "outputId": "cadb4a9f-9cea-46a0-e752-a30645aa438c",
        "id": "SPgrEmugvMOZ"
      },
      "outputs": [
        {
          "output_type": "stream",
          "name": "stdout",
          "text": [
            "Random Forest with random params: {'max_depth': 4, 'n_estimators': 86}\n",
            "10-fold CV accuracy: 0.8170 ± 0.0715\n"
          ]
        }
      ],
      "source": [
        "run_random_forest(X, y, seed=42)"
      ]
    },
    {
      "cell_type": "markdown",
      "source": [
        "# Task ID26: 9946"
      ],
      "metadata": {
        "id": "xbL7uSt3vBp0"
      }
    },
    {
      "cell_type": "code",
      "execution_count": null,
      "metadata": {
        "colab": {
          "base_uri": "https://localhost:8080/"
        },
        "outputId": "c4bb872c-d9db-4af1-a46f-bfd09012c7e0",
        "id": "k6cJzLd5vCVc"
      },
      "outputs": [
        {
          "output_type": "stream",
          "name": "stdout",
          "text": [
            "Dataset shape: (569, 30)\n"
          ]
        }
      ],
      "source": [
        "# Load and preprocess data using OpenML Task ID\n",
        "X, y = load_preprocess_task(9946)  # Replace with an actual task ID\n"
      ]
    },
    {
      "cell_type": "code",
      "execution_count": null,
      "metadata": {
        "colab": {
          "base_uri": "https://localhost:8080/"
        },
        "outputId": "84f5dbb9-098c-4e7b-f0b6-11164e57f2a2",
        "id": "_Ll78D2SvCVd"
      },
      "outputs": [
        {
          "output_type": "stream",
          "name": "stdout",
          "text": [
            "10-fold CV accuracy: 0.9807 ± 0.0146\n"
          ]
        }
      ],
      "source": [
        "# Choose and run models with 10-fold cross-validation\n",
        "run_linear_model(X, y)"
      ]
    },
    {
      "cell_type": "code",
      "execution_count": null,
      "metadata": {
        "colab": {
          "base_uri": "https://localhost:8080/"
        },
        "outputId": "95c404c5-06ef-474c-98f1-89c5b740015f",
        "id": "PxjmtSAivCVd"
      },
      "outputs": [
        {
          "output_type": "stream",
          "name": "stdout",
          "text": [
            "KNN with random params: {'n_neighbors': 15, 'knn_alg': 'ball_tree', 'leaf_size': 300}\n",
            "10-fold CV accuracy: 0.9613 ± 0.0233\n"
          ]
        }
      ],
      "source": [
        "run_knn(X, y, seed=42)\n"
      ]
    },
    {
      "cell_type": "code",
      "execution_count": null,
      "metadata": {
        "colab": {
          "base_uri": "https://localhost:8080/"
        },
        "outputId": "4404c09e-dc9f-46b1-d8f1-04a074beb56e",
        "id": "VEzfoim9vCVd"
      },
      "outputs": [
        {
          "output_type": "stream",
          "name": "stdout",
          "text": [
            "Decision Tree with random params: {'max_depth': 4}\n",
            "10-fold CV accuracy: 0.9158 ± 0.0449\n"
          ]
        }
      ],
      "source": [
        "run_decision_tree(X, y, seed=42)\n"
      ]
    },
    {
      "cell_type": "code",
      "execution_count": null,
      "metadata": {
        "colab": {
          "base_uri": "https://localhost:8080/"
        },
        "outputId": "7739eba7-d2a7-480e-c758-f244350466ce",
        "id": "uAhgRSMavCVd"
      },
      "outputs": [
        {
          "output_type": "stream",
          "name": "stdout",
          "text": [
            "Random Forest with random params: {'max_depth': 4, 'n_estimators': 86}\n",
            "10-fold CV accuracy: 0.9596 ± 0.0342\n"
          ]
        }
      ],
      "source": [
        "run_random_forest(X, y, seed=42)"
      ]
    },
    {
      "cell_type": "markdown",
      "source": [
        "# Task ID27: 3918"
      ],
      "metadata": {
        "id": "4_3XUL5zOr31"
      }
    },
    {
      "cell_type": "code",
      "execution_count": null,
      "metadata": {
        "colab": {
          "base_uri": "https://localhost:8080/"
        },
        "outputId": "ead80c4c-7062-4741-dd42-ea5cd24d9cb8",
        "id": "VYfNp5fcOr32"
      },
      "outputs": [
        {
          "output_type": "stream",
          "name": "stdout",
          "text": [
            "Dataset shape: (1109, 21)\n"
          ]
        }
      ],
      "source": [
        "# Load and preprocess data using OpenML Task ID\n",
        "X, y = load_preprocess_task(3918)  # Replace with an actual task ID\n"
      ]
    },
    {
      "cell_type": "code",
      "execution_count": null,
      "metadata": {
        "colab": {
          "base_uri": "https://localhost:8080/"
        },
        "outputId": "7a2b7cc8-bfe4-4017-a532-78997cac6267",
        "id": "GPG9Rs-lOr32"
      },
      "outputs": [
        {
          "output_type": "stream",
          "name": "stdout",
          "text": [
            "10-fold CV accuracy: 0.9297 ± 0.0184\n"
          ]
        }
      ],
      "source": [
        "# Choose and run models with 10-fold cross-validation\n",
        "run_linear_model(X, y)"
      ]
    },
    {
      "cell_type": "code",
      "execution_count": null,
      "metadata": {
        "colab": {
          "base_uri": "https://localhost:8080/"
        },
        "outputId": "1f6997c3-2116-4268-e079-54a4ef32ce13",
        "id": "jwt4BOefOr32"
      },
      "outputs": [
        {
          "output_type": "stream",
          "name": "stdout",
          "text": [
            "KNN with random params: {'n_neighbors': 15, 'knn_alg': 'ball_tree', 'leaf_size': 300}\n",
            "10-fold CV accuracy: 0.9270 ± 0.0102\n"
          ]
        }
      ],
      "source": [
        "run_knn(X, y, seed=42)\n"
      ]
    },
    {
      "cell_type": "code",
      "execution_count": null,
      "metadata": {
        "colab": {
          "base_uri": "https://localhost:8080/"
        },
        "outputId": "0e620d06-9ed6-48ee-eadb-76939a9e305d",
        "id": "nn8zOuMIOr33"
      },
      "outputs": [
        {
          "output_type": "stream",
          "name": "stdout",
          "text": [
            "Decision Tree with random params: {'max_depth': 4}\n",
            "10-fold CV accuracy: 0.9315 ± 0.0128\n"
          ]
        }
      ],
      "source": [
        "run_decision_tree(X, y, seed=42)\n"
      ]
    },
    {
      "cell_type": "code",
      "execution_count": null,
      "metadata": {
        "colab": {
          "base_uri": "https://localhost:8080/"
        },
        "outputId": "ce96ea5d-0651-493b-92c7-181b0dd66019",
        "id": "gaauQmAxOr33"
      },
      "outputs": [
        {
          "output_type": "stream",
          "name": "stdout",
          "text": [
            "Random Forest with random params: {'max_depth': 4, 'n_estimators': 86}\n",
            "10-fold CV accuracy: 0.9297 ± 0.0053\n"
          ]
        }
      ],
      "source": [
        "run_random_forest(X, y, seed=42)"
      ]
    },
    {
      "cell_type": "markdown",
      "source": [
        "# Task ID28: 3903"
      ],
      "metadata": {
        "id": "gMfLQ_viOsKc"
      }
    },
    {
      "cell_type": "code",
      "execution_count": null,
      "metadata": {
        "colab": {
          "base_uri": "https://localhost:8080/"
        },
        "outputId": "4dbfa1e2-bdd8-4499-816b-26ff2ef79682",
        "id": "5idMGXSBOsKd"
      },
      "outputs": [
        {
          "output_type": "stream",
          "name": "stdout",
          "text": [
            "Dataset shape: (1563, 37)\n"
          ]
        }
      ],
      "source": [
        "# Load and preprocess data using OpenML Task ID\n",
        "X, y = load_preprocess_task(3903)  # Replace with an actual task ID\n"
      ]
    },
    {
      "cell_type": "code",
      "execution_count": null,
      "metadata": {
        "colab": {
          "base_uri": "https://localhost:8080/"
        },
        "outputId": "9139bae4-a97c-4530-a2bc-7555e2fa9451",
        "id": "VU_rzECWOsKd"
      },
      "outputs": [
        {
          "output_type": "stream",
          "name": "stdout",
          "text": [
            "10-fold CV accuracy: 0.9021 ± 0.0112\n"
          ]
        }
      ],
      "source": [
        "# Choose and run models with 10-fold cross-validation\n",
        "run_linear_model(X, y)"
      ]
    },
    {
      "cell_type": "code",
      "execution_count": null,
      "metadata": {
        "colab": {
          "base_uri": "https://localhost:8080/"
        },
        "outputId": "db4e5469-2199-4bd4-89b3-441006704100",
        "id": "0b-gEGOSOsKe"
      },
      "outputs": [
        {
          "output_type": "stream",
          "name": "stdout",
          "text": [
            "KNN with random params: {'n_neighbors': 15, 'knn_alg': 'ball_tree', 'leaf_size': 300}\n",
            "10-fold CV accuracy: 0.8938 ± 0.0109\n"
          ]
        }
      ],
      "source": [
        "run_knn(X, y, seed=42)\n"
      ]
    },
    {
      "cell_type": "code",
      "execution_count": null,
      "metadata": {
        "colab": {
          "base_uri": "https://localhost:8080/"
        },
        "outputId": "34ab1e3c-4e9a-4fa3-b06f-fecee277998f",
        "id": "opOJBrNiOsKe"
      },
      "outputs": [
        {
          "output_type": "stream",
          "name": "stdout",
          "text": [
            "Decision Tree with random params: {'max_depth': 4}\n",
            "10-fold CV accuracy: 0.8925 ± 0.0080\n"
          ]
        }
      ],
      "source": [
        "run_decision_tree(X, y, seed=42)\n"
      ]
    },
    {
      "cell_type": "code",
      "execution_count": null,
      "metadata": {
        "colab": {
          "base_uri": "https://localhost:8080/"
        },
        "outputId": "844cfa3b-447d-466e-d3fa-7f91b434fb5c",
        "id": "If20AUxhOsKf"
      },
      "outputs": [
        {
          "output_type": "stream",
          "name": "stdout",
          "text": [
            "Random Forest with random params: {'max_depth': 4, 'n_estimators': 86}\n",
            "10-fold CV accuracy: 0.8957 ± 0.0042\n"
          ]
        }
      ],
      "source": [
        "run_random_forest(X, y, seed=42)"
      ]
    },
    {
      "cell_type": "markdown",
      "source": [
        "# Task ID29: 37"
      ],
      "metadata": {
        "id": "p8r0_x-wOsYx"
      }
    },
    {
      "cell_type": "code",
      "execution_count": null,
      "metadata": {
        "colab": {
          "base_uri": "https://localhost:8080/"
        },
        "outputId": "041a6071-a9ca-4592-e81b-7199f25c9c4c",
        "id": "GwDd8OA5OsYy"
      },
      "outputs": [
        {
          "output_type": "stream",
          "name": "stdout",
          "text": [
            "Dataset shape: (768, 8)\n"
          ]
        }
      ],
      "source": [
        "# Load and preprocess data using OpenML Task ID\n",
        "X, y = load_preprocess_task(37)  # Replace with an actual task ID\n"
      ]
    },
    {
      "cell_type": "code",
      "execution_count": null,
      "metadata": {
        "colab": {
          "base_uri": "https://localhost:8080/"
        },
        "outputId": "9f999719-79d6-41cf-b788-68aa1ff58d3c",
        "id": "01LeUanaOsYy"
      },
      "outputs": [
        {
          "output_type": "stream",
          "name": "stdout",
          "text": [
            "10-fold CV accuracy: 0.7722 ± 0.0362\n"
          ]
        }
      ],
      "source": [
        "# Choose and run models with 10-fold cross-validation\n",
        "run_linear_model(X, y)"
      ]
    },
    {
      "cell_type": "code",
      "execution_count": null,
      "metadata": {
        "colab": {
          "base_uri": "https://localhost:8080/"
        },
        "outputId": "b2596e22-3319-458c-d521-1a110aee37c7",
        "id": "969FlODoOsYy"
      },
      "outputs": [
        {
          "output_type": "stream",
          "name": "stdout",
          "text": [
            "KNN with random params: {'n_neighbors': 15, 'knn_alg': 'ball_tree', 'leaf_size': 300}\n",
            "10-fold CV accuracy: 0.7474 ± 0.0413\n"
          ]
        }
      ],
      "source": [
        "run_knn(X, y, seed=42)\n"
      ]
    },
    {
      "cell_type": "code",
      "execution_count": null,
      "metadata": {
        "colab": {
          "base_uri": "https://localhost:8080/"
        },
        "outputId": "e0d34608-b91d-4be3-eca3-200dcc0b173f",
        "id": "ZhOmRqzsOsYy"
      },
      "outputs": [
        {
          "output_type": "stream",
          "name": "stdout",
          "text": [
            "Decision Tree with random params: {'max_depth': 4}\n",
            "10-fold CV accuracy: 0.7226 ± 0.0444\n"
          ]
        }
      ],
      "source": [
        "run_decision_tree(X, y, seed=42)\n"
      ]
    },
    {
      "cell_type": "code",
      "execution_count": null,
      "metadata": {
        "colab": {
          "base_uri": "https://localhost:8080/"
        },
        "outputId": "aa8f8c72-b27f-465d-ee91-1b3e995dfb09",
        "id": "XndBjradOsYz"
      },
      "outputs": [
        {
          "output_type": "stream",
          "name": "stdout",
          "text": [
            "Random Forest with random params: {'max_depth': 4, 'n_estimators': 86}\n",
            "10-fold CV accuracy: 0.7643 ± 0.0380\n"
          ]
        }
      ],
      "source": [
        "run_random_forest(X, y, seed=42)"
      ]
    },
    {
      "cell_type": "markdown",
      "source": [
        "# Task ID30: 9971"
      ],
      "metadata": {
        "id": "ZInQ-9WoOsu9"
      }
    },
    {
      "cell_type": "code",
      "execution_count": null,
      "metadata": {
        "colab": {
          "base_uri": "https://localhost:8080/"
        },
        "outputId": "be713b0d-2f78-40f7-b796-5ed2addabc03",
        "id": "tYBvVcn2Osu9"
      },
      "outputs": [
        {
          "output_type": "stream",
          "name": "stdout",
          "text": [
            "Dataset shape: (583, 10)\n"
          ]
        }
      ],
      "source": [
        "# Load and preprocess data using OpenML Task ID\n",
        "X, y = load_preprocess_task(9971)  # Replace with an actual task ID\n"
      ]
    },
    {
      "cell_type": "code",
      "execution_count": null,
      "metadata": {
        "colab": {
          "base_uri": "https://localhost:8080/"
        },
        "outputId": "d0b95c57-8e3d-4c59-8876-66aac8dccc7f",
        "id": "BV88WfqXOsu9"
      },
      "outputs": [
        {
          "output_type": "stream",
          "name": "stdout",
          "text": [
            "10-fold CV accuracy: 0.7222 ± 0.0191\n"
          ]
        }
      ],
      "source": [
        "# Choose and run models with 10-fold cross-validation\n",
        "run_linear_model(X, y)"
      ]
    },
    {
      "cell_type": "code",
      "execution_count": null,
      "metadata": {
        "colab": {
          "base_uri": "https://localhost:8080/"
        },
        "outputId": "36902eba-8e8b-46f5-f2ba-9f5e5f8021ba",
        "id": "avC-hvRlOsu-"
      },
      "outputs": [
        {
          "output_type": "stream",
          "name": "stdout",
          "text": [
            "KNN with random params: {'n_neighbors': 15, 'knn_alg': 'ball_tree', 'leaf_size': 300}\n",
            "10-fold CV accuracy: 0.6724 ± 0.0427\n"
          ]
        }
      ],
      "source": [
        "run_knn(X, y, seed=42)\n"
      ]
    },
    {
      "cell_type": "code",
      "execution_count": null,
      "metadata": {
        "colab": {
          "base_uri": "https://localhost:8080/"
        },
        "outputId": "7dcfdf70-d96f-46d0-bc2f-d657ff7aa23f",
        "id": "1rf3hxwwOsu-"
      },
      "outputs": [
        {
          "output_type": "stream",
          "name": "stdout",
          "text": [
            "Decision Tree with random params: {'max_depth': 4}\n",
            "10-fold CV accuracy: 0.6810 ± 0.0272\n"
          ]
        }
      ],
      "source": [
        "run_decision_tree(X, y, seed=42)\n"
      ]
    },
    {
      "cell_type": "code",
      "execution_count": null,
      "metadata": {
        "colab": {
          "base_uri": "https://localhost:8080/"
        },
        "outputId": "3a5a0ca3-cf84-44e7-85e6-70420d20f350",
        "id": "x-LreBNMOsu-"
      },
      "outputs": [
        {
          "output_type": "stream",
          "name": "stdout",
          "text": [
            "Random Forest with random params: {'max_depth': 4, 'n_estimators': 86}\n",
            "10-fold CV accuracy: 0.7084 ± 0.0337\n"
          ]
        }
      ],
      "source": [
        "run_random_forest(X, y, seed=42)"
      ]
    },
    {
      "cell_type": "markdown",
      "source": [
        "# Task ID31: 9952"
      ],
      "metadata": {
        "id": "JXEaEKEaOtAm"
      }
    },
    {
      "cell_type": "code",
      "execution_count": null,
      "metadata": {
        "colab": {
          "base_uri": "https://localhost:8080/"
        },
        "outputId": "85054ac2-0c94-45d7-baaa-e75be824f79a",
        "id": "-4zbJZsXOtAn"
      },
      "outputs": [
        {
          "output_type": "stream",
          "name": "stdout",
          "text": [
            "Dataset shape: (5404, 5)\n"
          ]
        }
      ],
      "source": [
        "# Load and preprocess data using OpenML Task ID\n",
        "X, y = load_preprocess_task(9952)  # Replace with an actual task ID\n"
      ]
    },
    {
      "cell_type": "code",
      "execution_count": null,
      "metadata": {
        "colab": {
          "base_uri": "https://localhost:8080/"
        },
        "outputId": "152c1f9b-b852-4bb9-82b3-b6d68496e2e8",
        "id": "D8nt379pOtAn"
      },
      "outputs": [
        {
          "output_type": "stream",
          "name": "stdout",
          "text": [
            "10-fold CV accuracy: 0.7513 ± 0.0092\n"
          ]
        }
      ],
      "source": [
        "# Choose and run models with 10-fold cross-validation\n",
        "run_linear_model(X, y)"
      ]
    },
    {
      "cell_type": "code",
      "execution_count": null,
      "metadata": {
        "colab": {
          "base_uri": "https://localhost:8080/"
        },
        "outputId": "6efae08c-8c93-4089-a26b-723c902d0101",
        "id": "tIFO7NaIOtAn"
      },
      "outputs": [
        {
          "output_type": "stream",
          "name": "stdout",
          "text": [
            "KNN with random params: {'n_neighbors': 15, 'knn_alg': 'ball_tree', 'leaf_size': 300}\n",
            "10-fold CV accuracy: 0.8618 ± 0.0150\n"
          ]
        }
      ],
      "source": [
        "run_knn(X, y, seed=42)\n"
      ]
    },
    {
      "cell_type": "code",
      "execution_count": null,
      "metadata": {
        "colab": {
          "base_uri": "https://localhost:8080/"
        },
        "outputId": "c0e0d21f-bcb7-4ee5-8262-a6169a621790",
        "id": "aUNxwF7aOtAn"
      },
      "outputs": [
        {
          "output_type": "stream",
          "name": "stdout",
          "text": [
            "Decision Tree with random params: {'max_depth': 4}\n",
            "10-fold CV accuracy: 0.7966 ± 0.0105\n"
          ]
        }
      ],
      "source": [
        "run_decision_tree(X, y, seed=42)\n"
      ]
    },
    {
      "cell_type": "code",
      "execution_count": null,
      "metadata": {
        "colab": {
          "base_uri": "https://localhost:8080/"
        },
        "outputId": "c32b8b06-7868-4da0-d85f-322bd474a064",
        "id": "bk-A4adVOtAo"
      },
      "outputs": [
        {
          "output_type": "stream",
          "name": "stdout",
          "text": [
            "Random Forest with random params: {'max_depth': 4, 'n_estimators': 86}\n",
            "10-fold CV accuracy: 0.8168 ± 0.0105\n"
          ]
        }
      ],
      "source": [
        "run_random_forest(X, y, seed=42)"
      ]
    },
    {
      "cell_type": "markdown",
      "source": [
        "# Task ID32: 3902"
      ],
      "metadata": {
        "id": "pW00w70pOtPI"
      }
    },
    {
      "cell_type": "code",
      "execution_count": null,
      "metadata": {
        "colab": {
          "base_uri": "https://localhost:8080/"
        },
        "outputId": "ff001439-28cb-45f2-e55e-a875d3e70dd6",
        "id": "Yve6Ha7AOtPJ"
      },
      "outputs": [
        {
          "output_type": "stream",
          "name": "stdout",
          "text": [
            "Dataset shape: (1458, 37)\n"
          ]
        }
      ],
      "source": [
        "# Load and preprocess data using OpenML Task ID\n",
        "X, y = load_preprocess_task(3902)  # Replace with an actual task ID\n"
      ]
    },
    {
      "cell_type": "code",
      "execution_count": null,
      "metadata": {
        "colab": {
          "base_uri": "https://localhost:8080/"
        },
        "outputId": "4f247bc7-a413-4b33-956a-64c8bfe3bf11",
        "id": "JXWZ0Nk_OtPJ"
      },
      "outputs": [
        {
          "output_type": "stream",
          "name": "stdout",
          "text": [
            "10-fold CV accuracy: 0.9095 ± 0.0147\n"
          ]
        }
      ],
      "source": [
        "# Choose and run models with 10-fold cross-validation\n",
        "run_linear_model(X, y)"
      ]
    },
    {
      "cell_type": "code",
      "execution_count": null,
      "metadata": {
        "colab": {
          "base_uri": "https://localhost:8080/"
        },
        "outputId": "4f0c0182-355d-492c-e390-c6ee236c396e",
        "id": "1xI2xPDuOtPJ"
      },
      "outputs": [
        {
          "output_type": "stream",
          "name": "stdout",
          "text": [
            "KNN with random params: {'n_neighbors': 15, 'knn_alg': 'ball_tree', 'leaf_size': 300}\n",
            "10-fold CV accuracy: 0.8937 ± 0.0140\n"
          ]
        }
      ],
      "source": [
        "run_knn(X, y, seed=42)\n"
      ]
    },
    {
      "cell_type": "code",
      "execution_count": null,
      "metadata": {
        "colab": {
          "base_uri": "https://localhost:8080/"
        },
        "outputId": "c036019e-0f4e-4cb2-a404-fa36ebe9bf03",
        "id": "W3npCrZIOtPJ"
      },
      "outputs": [
        {
          "output_type": "stream",
          "name": "stdout",
          "text": [
            "Decision Tree with random params: {'max_depth': 4}\n",
            "10-fold CV accuracy: 0.8944 ± 0.0192\n"
          ]
        }
      ],
      "source": [
        "run_decision_tree(X, y, seed=42)\n"
      ]
    },
    {
      "cell_type": "code",
      "execution_count": null,
      "metadata": {
        "colab": {
          "base_uri": "https://localhost:8080/"
        },
        "outputId": "dd7b8651-891c-4fc2-a0e3-57f6fcd8c61c",
        "id": "aHHQVruJOtPK"
      },
      "outputs": [
        {
          "output_type": "stream",
          "name": "stdout",
          "text": [
            "Random Forest with random params: {'max_depth': 4, 'n_estimators': 86}\n",
            "10-fold CV accuracy: 0.8923 ± 0.0061\n"
          ]
        }
      ],
      "source": [
        "run_random_forest(X, y, seed=42)"
      ]
    },
    {
      "cell_type": "markdown",
      "source": [
        "# Task ID33: 49"
      ],
      "metadata": {
        "id": "6zZ17oDlOtbo"
      }
    },
    {
      "cell_type": "code",
      "execution_count": null,
      "metadata": {
        "colab": {
          "base_uri": "https://localhost:8080/"
        },
        "outputId": "838e782c-89ab-4776-f609-5c138040c98c",
        "id": "3XUbfRA4Otbp"
      },
      "outputs": [
        {
          "output_type": "stream",
          "name": "stdout",
          "text": [
            "Dataset shape: (958, 9)\n"
          ]
        }
      ],
      "source": [
        "# Load and preprocess data using OpenML Task ID\n",
        "X, y = load_preprocess_task(49)  # Replace with an actual task ID\n"
      ]
    },
    {
      "cell_type": "code",
      "execution_count": null,
      "metadata": {
        "colab": {
          "base_uri": "https://localhost:8080/"
        },
        "outputId": "42d99af2-5a97-4aaf-d871-5b5039837a38",
        "id": "PLfWlFsBOtbp"
      },
      "outputs": [
        {
          "output_type": "stream",
          "name": "stdout",
          "text": [
            "10-fold CV accuracy: 0.9759 ± 0.0492\n"
          ]
        }
      ],
      "source": [
        "# Choose and run models with 10-fold cross-validation\n",
        "run_linear_model(X, y)"
      ]
    },
    {
      "cell_type": "code",
      "execution_count": null,
      "metadata": {
        "colab": {
          "base_uri": "https://localhost:8080/"
        },
        "outputId": "b857d394-df52-4a2f-ba56-a64fa6520225",
        "id": "adDzFrnnOtbq"
      },
      "outputs": [
        {
          "output_type": "stream",
          "name": "stdout",
          "text": [
            "KNN with random params: {'n_neighbors': 15, 'knn_alg': 'ball_tree', 'leaf_size': 300}\n",
            "10-fold CV accuracy: 0.8613 ± 0.0866\n"
          ]
        }
      ],
      "source": [
        "run_knn(X, y, seed=42)\n"
      ]
    },
    {
      "cell_type": "code",
      "execution_count": null,
      "metadata": {
        "colab": {
          "base_uri": "https://localhost:8080/"
        },
        "outputId": "9b0c1bcb-c276-46ae-db8b-4aa0d1bdbb33",
        "id": "vkswOnb9Otbq"
      },
      "outputs": [
        {
          "output_type": "stream",
          "name": "stdout",
          "text": [
            "Decision Tree with random params: {'max_depth': 4}\n",
            "10-fold CV accuracy: 0.6870 ± 0.1060\n"
          ]
        }
      ],
      "source": [
        "run_decision_tree(X, y, seed=42)\n"
      ]
    },
    {
      "cell_type": "code",
      "execution_count": null,
      "metadata": {
        "colab": {
          "base_uri": "https://localhost:8080/"
        },
        "outputId": "76ccd913-c6f5-4129-a278-139f3ce4707e",
        "id": "Qiw8R1XJOtbq"
      },
      "outputs": [
        {
          "output_type": "stream",
          "name": "stdout",
          "text": [
            "Random Forest with random params: {'max_depth': 4, 'n_estimators': 86}\n",
            "10-fold CV accuracy: 0.7464 ± 0.0594\n"
          ]
        }
      ],
      "source": [
        "run_random_forest(X, y, seed=42)"
      ]
    },
    {
      "cell_type": "markdown",
      "source": [
        "# Task ID34: 43"
      ],
      "metadata": {
        "id": "U5j20q0COtoD"
      }
    },
    {
      "cell_type": "code",
      "execution_count": null,
      "metadata": {
        "colab": {
          "base_uri": "https://localhost:8080/"
        },
        "outputId": "ae3c2a5c-fc82-4887-be46-a17dd96ecb9c",
        "id": "3OTTLs0LOtoD"
      },
      "outputs": [
        {
          "output_type": "stream",
          "name": "stdout",
          "text": [
            "Dataset shape: (4601, 57)\n"
          ]
        }
      ],
      "source": [
        "# Load and preprocess data using OpenML Task ID\n",
        "X, y = load_preprocess_task(43)  # Replace with an actual task ID\n"
      ]
    },
    {
      "cell_type": "code",
      "execution_count": null,
      "metadata": {
        "colab": {
          "base_uri": "https://localhost:8080/"
        },
        "outputId": "de66ab33-1a80-46d7-9fc7-068c413e4db2",
        "id": "91CbDYbDOtoD"
      },
      "outputs": [
        {
          "output_type": "stream",
          "name": "stdout",
          "text": [
            "10-fold CV accuracy: 0.9170 ± 0.0287\n"
          ]
        }
      ],
      "source": [
        "# Choose and run models with 10-fold cross-validation\n",
        "run_linear_model(X, y)"
      ]
    },
    {
      "cell_type": "code",
      "execution_count": null,
      "metadata": {
        "colab": {
          "base_uri": "https://localhost:8080/"
        },
        "outputId": "23fe6735-b059-4105-a3c6-e42e7bdbef2a",
        "id": "9Po5iGOrOtoD"
      },
      "outputs": [
        {
          "output_type": "stream",
          "name": "stdout",
          "text": [
            "KNN with random params: {'n_neighbors': 15, 'knn_alg': 'ball_tree', 'leaf_size': 300}\n",
            "10-fold CV accuracy: 0.8935 ± 0.0367\n"
          ]
        }
      ],
      "source": [
        "run_knn(X, y, seed=42)\n"
      ]
    },
    {
      "cell_type": "code",
      "execution_count": null,
      "metadata": {
        "colab": {
          "base_uri": "https://localhost:8080/"
        },
        "outputId": "819f6f53-7b61-4a75-dfe8-7e01acd9f109",
        "id": "xvU4AcJTOtoE"
      },
      "outputs": [
        {
          "output_type": "stream",
          "name": "stdout",
          "text": [
            "Decision Tree with random params: {'max_depth': 4}\n",
            "10-fold CV accuracy: 0.8907 ± 0.0374\n"
          ]
        }
      ],
      "source": [
        "run_decision_tree(X, y, seed=42)\n"
      ]
    },
    {
      "cell_type": "code",
      "execution_count": null,
      "metadata": {
        "colab": {
          "base_uri": "https://localhost:8080/"
        },
        "outputId": "aaaf7c61-3aaa-43a8-83b5-5b5d06ad0754",
        "id": "F7q0apvbOtoE"
      },
      "outputs": [
        {
          "output_type": "stream",
          "name": "stdout",
          "text": [
            "Random Forest with random params: {'max_depth': 4, 'n_estimators': 86}\n",
            "10-fold CV accuracy: 0.9178 ± 0.0314\n"
          ]
        }
      ],
      "source": [
        "run_random_forest(X, y, seed=42)"
      ]
    },
    {
      "cell_type": "markdown",
      "source": [
        "# Task ID35: 9978"
      ],
      "metadata": {
        "id": "I-iHZbecOt0s"
      }
    },
    {
      "cell_type": "code",
      "execution_count": null,
      "metadata": {
        "colab": {
          "base_uri": "https://localhost:8080/"
        },
        "outputId": "9598fa14-8352-4359-ae1e-b6186942d17e",
        "id": "yzuCJkqMOt0t"
      },
      "outputs": [
        {
          "output_type": "stream",
          "name": "stdout",
          "text": [
            "Dataset shape: (2534, 72)\n"
          ]
        }
      ],
      "source": [
        "# Load and preprocess data using OpenML Task ID\n",
        "X, y = load_preprocess_task(9978)  # Replace with an actual task ID\n"
      ]
    },
    {
      "cell_type": "code",
      "execution_count": null,
      "metadata": {
        "colab": {
          "base_uri": "https://localhost:8080/"
        },
        "outputId": "51d43b80-f28c-4f63-a8a2-9224d9364bf7",
        "id": "HFYYRdkaOt0t"
      },
      "outputs": [
        {
          "output_type": "stream",
          "name": "stdout",
          "text": [
            "10-fold CV accuracy: 0.9357 ± 0.0217\n"
          ]
        }
      ],
      "source": [
        "# Choose and run models with 10-fold cross-validation\n",
        "run_linear_model(X, y)"
      ]
    },
    {
      "cell_type": "code",
      "execution_count": null,
      "metadata": {
        "colab": {
          "base_uri": "https://localhost:8080/"
        },
        "outputId": "7f46ab5d-a6fd-4777-f17b-ac83b9d2694c",
        "id": "M42BKsUoOt0u"
      },
      "outputs": [
        {
          "output_type": "stream",
          "name": "stdout",
          "text": [
            "KNN with random params: {'n_neighbors': 15, 'knn_alg': 'ball_tree', 'leaf_size': 300}\n",
            "10-fold CV accuracy: 0.9369 ± 0.0058\n"
          ]
        }
      ],
      "source": [
        "run_knn(X, y, seed=42)\n"
      ]
    },
    {
      "cell_type": "code",
      "execution_count": null,
      "metadata": {
        "colab": {
          "base_uri": "https://localhost:8080/"
        },
        "outputId": "a5e2d4eb-2f05-4723-b58b-e245cd3ef7ca",
        "id": "Zn2hpG4GOt0u"
      },
      "outputs": [
        {
          "output_type": "stream",
          "name": "stdout",
          "text": [
            "Decision Tree with random params: {'max_depth': 4}\n",
            "10-fold CV accuracy: 0.9037 ± 0.0376\n"
          ]
        }
      ],
      "source": [
        "run_decision_tree(X, y, seed=42)\n"
      ]
    },
    {
      "cell_type": "code",
      "execution_count": null,
      "metadata": {
        "colab": {
          "base_uri": "https://localhost:8080/"
        },
        "outputId": "c8f99339-6e7a-4c72-ef8d-04c329941ccd",
        "id": "WRW8aafUOt0u"
      },
      "outputs": [
        {
          "output_type": "stream",
          "name": "stdout",
          "text": [
            "Random Forest with random params: {'max_depth': 4, 'n_estimators': 86}\n",
            "10-fold CV accuracy: 0.9317 ± 0.0168\n"
          ]
        }
      ],
      "source": [
        "run_random_forest(X, y, seed=42)"
      ]
    },
    {
      "cell_type": "markdown",
      "source": [
        "# Task ID36: 10093"
      ],
      "metadata": {
        "id": "uysN5WV0Oxpu"
      }
    },
    {
      "cell_type": "code",
      "execution_count": null,
      "metadata": {
        "colab": {
          "base_uri": "https://localhost:8080/"
        },
        "outputId": "fd58d272-c438-4920-9c6a-7f024ac9335a",
        "id": "sAL9pAjTOxpu"
      },
      "outputs": [
        {
          "output_type": "stream",
          "name": "stdout",
          "text": [
            "Dataset shape: (1372, 4)\n"
          ]
        }
      ],
      "source": [
        "# Load and preprocess data using OpenML Task ID\n",
        "X, y = load_preprocess_task(10093)  # Replace with an actual task ID\n"
      ]
    },
    {
      "cell_type": "code",
      "execution_count": null,
      "metadata": {
        "colab": {
          "base_uri": "https://localhost:8080/"
        },
        "outputId": "9f40b6ce-8c1f-47fa-e941-3c7acb38642c",
        "id": "C0f9jKzlOxpu"
      },
      "outputs": [
        {
          "output_type": "stream",
          "name": "stdout",
          "text": [
            "10-fold CV accuracy: 0.9810 ± 0.0099\n"
          ]
        }
      ],
      "source": [
        "# Choose and run models with 10-fold cross-validation\n",
        "run_linear_model(X, y)"
      ]
    },
    {
      "cell_type": "code",
      "execution_count": null,
      "metadata": {
        "colab": {
          "base_uri": "https://localhost:8080/"
        },
        "outputId": "51dc9a5d-8ccb-4a49-b769-c3719f5cd038",
        "id": "XZZHysTkOxpv"
      },
      "outputs": [
        {
          "output_type": "stream",
          "name": "stdout",
          "text": [
            "KNN with random params: {'n_neighbors': 15, 'knn_alg': 'ball_tree', 'leaf_size': 300}\n",
            "10-fold CV accuracy: 0.9993 ± 0.0022\n"
          ]
        }
      ],
      "source": [
        "run_knn(X, y, seed=42)\n"
      ]
    },
    {
      "cell_type": "code",
      "execution_count": null,
      "metadata": {
        "colab": {
          "base_uri": "https://localhost:8080/"
        },
        "outputId": "6ab60329-1532-42e0-c371-c8722dd40aa5",
        "id": "ucelT5N8Oxpv"
      },
      "outputs": [
        {
          "output_type": "stream",
          "name": "stdout",
          "text": [
            "Decision Tree with random params: {'max_depth': 4}\n",
            "10-fold CV accuracy: 0.9519 ± 0.0199\n"
          ]
        }
      ],
      "source": [
        "run_decision_tree(X, y, seed=42)\n"
      ]
    },
    {
      "cell_type": "code",
      "execution_count": null,
      "metadata": {
        "colab": {
          "base_uri": "https://localhost:8080/"
        },
        "outputId": "56faa110-d77d-40da-9bf1-3fef5b1a67f1",
        "id": "q5cifxeROxpv"
      },
      "outputs": [
        {
          "output_type": "stream",
          "name": "stdout",
          "text": [
            "Random Forest with random params: {'max_depth': 4, 'n_estimators': 86}\n",
            "10-fold CV accuracy: 0.9723 ± 0.0112\n"
          ]
        }
      ],
      "source": [
        "run_random_forest(X, y, seed=42)"
      ]
    },
    {
      "cell_type": "markdown",
      "source": [
        "# Task ID37: 219"
      ],
      "metadata": {
        "id": "yGgmlLAKULw-"
      }
    },
    {
      "cell_type": "code",
      "execution_count": null,
      "metadata": {
        "colab": {
          "base_uri": "https://localhost:8080/"
        },
        "outputId": "e343b525-8e7a-4f5e-8359-1aaa0dc6fae7",
        "id": "U78e6HLYULw_"
      },
      "outputs": [
        {
          "output_type": "stream",
          "name": "stdout",
          "text": [
            "Dataset shape: (45312, 8)\n"
          ]
        }
      ],
      "source": [
        "# Load and preprocess data using OpenML Task ID\n",
        "X, y = load_preprocess_task(219)  # Replace with an actual task ID\n"
      ]
    },
    {
      "cell_type": "code",
      "execution_count": null,
      "metadata": {
        "colab": {
          "base_uri": "https://localhost:8080/"
        },
        "outputId": "216d582d-ac13-4ba2-f897-53d8c5ea77e5",
        "id": "fxPxbG7aULw_"
      },
      "outputs": [
        {
          "output_type": "stream",
          "name": "stdout",
          "text": [
            "10-fold CV accuracy: 0.7427 ± 0.0722\n"
          ]
        }
      ],
      "source": [
        "# Choose and run models with 10-fold cross-validation\n",
        "run_linear_model(X, y)"
      ]
    },
    {
      "cell_type": "code",
      "execution_count": null,
      "metadata": {
        "colab": {
          "base_uri": "https://localhost:8080/"
        },
        "outputId": "36a13ab7-5e5b-4f15-d45b-4cfe42508a5f",
        "id": "zdsCtfi6ULxA"
      },
      "outputs": [
        {
          "output_type": "stream",
          "name": "stdout",
          "text": [
            "KNN with random params: {'n_neighbors': 15, 'knn_alg': 'ball_tree', 'leaf_size': 300}\n",
            "10-fold CV accuracy: 0.7250 ± 0.0611\n"
          ]
        }
      ],
      "source": [
        "run_knn(X, y, seed=42)\n"
      ]
    },
    {
      "cell_type": "code",
      "execution_count": null,
      "metadata": {
        "colab": {
          "base_uri": "https://localhost:8080/"
        },
        "outputId": "a1772119-1a29-43bb-f373-8b4c67aa4ec6",
        "id": "0LvkFmBjULxA"
      },
      "outputs": [
        {
          "output_type": "stream",
          "name": "stdout",
          "text": [
            "Decision Tree with random params: {'max_depth': 4}\n",
            "10-fold CV accuracy: 0.7227 ± 0.0958\n"
          ]
        }
      ],
      "source": [
        "run_decision_tree(X, y, seed=42)\n"
      ]
    },
    {
      "cell_type": "code",
      "execution_count": null,
      "metadata": {
        "colab": {
          "base_uri": "https://localhost:8080/"
        },
        "outputId": "1bc05953-6df1-4150-8182-d2026f933288",
        "id": "4zQduxJRULxA"
      },
      "outputs": [
        {
          "output_type": "stream",
          "name": "stdout",
          "text": [
            "Random Forest with random params: {'max_depth': 4, 'n_estimators': 86}\n",
            "10-fold CV accuracy: 0.7346 ± 0.0932\n"
          ]
        }
      ],
      "source": [
        "run_random_forest(X, y, seed=42)"
      ]
    },
    {
      "cell_type": "markdown",
      "source": [
        "# Task ID38: 9976"
      ],
      "metadata": {
        "id": "1SP0wCLxUMfZ"
      }
    },
    {
      "cell_type": "code",
      "execution_count": null,
      "metadata": {
        "colab": {
          "base_uri": "https://localhost:8080/"
        },
        "outputId": "ee494e23-bd9c-4ca2-ee49-33f15782f6a0",
        "id": "Ys_nl9kRUMfa"
      },
      "outputs": [
        {
          "output_type": "stream",
          "name": "stdout",
          "text": [
            "Dataset shape: (2600, 500)\n"
          ]
        }
      ],
      "source": [
        "# Load and preprocess data using OpenML Task ID\n",
        "X, y = load_preprocess_task(9976)  # Replace with an actual task ID\n"
      ]
    },
    {
      "cell_type": "code",
      "execution_count": null,
      "metadata": {
        "colab": {
          "base_uri": "https://localhost:8080/"
        },
        "outputId": "b39fd629-394b-49e6-beb0-dd802c5b4e87",
        "id": "qhmqO4iIUMfa"
      },
      "outputs": [
        {
          "output_type": "stream",
          "name": "stdout",
          "text": [
            "10-fold CV accuracy: 0.5519 ± 0.0359\n"
          ]
        }
      ],
      "source": [
        "# Choose and run models with 10-fold cross-validation\n",
        "run_linear_model(X, y)"
      ]
    },
    {
      "cell_type": "code",
      "execution_count": null,
      "metadata": {
        "colab": {
          "base_uri": "https://localhost:8080/"
        },
        "outputId": "9ecd4d17-3c9c-493b-c748-5f92e4352f6c",
        "id": "CtLyV57QUMfa"
      },
      "outputs": [
        {
          "output_type": "stream",
          "name": "stdout",
          "text": [
            "KNN with random params: {'n_neighbors': 15, 'knn_alg': 'ball_tree', 'leaf_size': 300}\n",
            "10-fold CV accuracy: 0.5723 ± 0.0309\n"
          ]
        }
      ],
      "source": [
        "run_knn(X, y, seed=42)\n"
      ]
    },
    {
      "cell_type": "code",
      "execution_count": null,
      "metadata": {
        "colab": {
          "base_uri": "https://localhost:8080/"
        },
        "outputId": "374ec6e4-da0e-4784-9625-b1e3f576e7dd",
        "id": "Lz7nTFhkUMfa"
      },
      "outputs": [
        {
          "output_type": "stream",
          "name": "stdout",
          "text": [
            "Decision Tree with random params: {'max_depth': 4}\n",
            "10-fold CV accuracy: 0.7327 ± 0.0382\n"
          ]
        }
      ],
      "source": [
        "run_decision_tree(X, y, seed=42)\n"
      ]
    },
    {
      "cell_type": "code",
      "execution_count": null,
      "metadata": {
        "colab": {
          "base_uri": "https://localhost:8080/"
        },
        "outputId": "3e1321c7-44b0-411d-9b63-5f682af069bb",
        "id": "JLX4B_rFUMfa"
      },
      "outputs": [
        {
          "output_type": "stream",
          "name": "stdout",
          "text": [
            "Random Forest with random params: {'max_depth': 4, 'n_estimators': 86}\n",
            "10-fold CV accuracy: 0.6446 ± 0.0194\n"
          ]
        }
      ],
      "source": [
        "run_random_forest(X, y, seed=42)"
      ]
    },
    {
      "cell_type": "markdown",
      "source": [
        "# Task ID39: 6"
      ],
      "metadata": {
        "id": "S65JoO55UMry"
      }
    },
    {
      "cell_type": "code",
      "execution_count": null,
      "metadata": {
        "colab": {
          "base_uri": "https://localhost:8080/"
        },
        "outputId": "51434a37-1f06-4a1c-e8f7-7d3632b359d1",
        "id": "XIVWSoBIUMrz"
      },
      "outputs": [
        {
          "output_type": "stream",
          "name": "stdout",
          "text": [
            "Dataset shape: (20000, 16)\n"
          ]
        }
      ],
      "source": [
        "# Load and preprocess data using OpenML Task ID\n",
        "X, y = load_preprocess_task(6)  # Replace with an actual task ID\n"
      ]
    },
    {
      "cell_type": "code",
      "execution_count": null,
      "metadata": {
        "colab": {
          "base_uri": "https://localhost:8080/"
        },
        "outputId": "b49af461-8957-4e3b-c7c2-c84cca7549e6",
        "id": "JofdqbEPUMrz"
      },
      "outputs": [
        {
          "output_type": "stream",
          "name": "stdout",
          "text": [
            "10-fold CV accuracy: 0.7728 ± 0.0109\n"
          ]
        }
      ],
      "source": [
        "# Choose and run models with 10-fold cross-validation\n",
        "run_linear_model(X, y)"
      ]
    },
    {
      "cell_type": "code",
      "execution_count": null,
      "metadata": {
        "colab": {
          "base_uri": "https://localhost:8080/"
        },
        "outputId": "06a2cd74-c332-4d3d-9509-01b0db102bc9",
        "id": "AKool9fHUMrz"
      },
      "outputs": [
        {
          "output_type": "stream",
          "name": "stdout",
          "text": [
            "KNN with random params: {'n_neighbors': 15, 'knn_alg': 'ball_tree', 'leaf_size': 300}\n",
            "10-fold CV accuracy: 0.9352 ± 0.0066\n"
          ]
        }
      ],
      "source": [
        "run_knn(X, y, seed=42)\n"
      ]
    },
    {
      "cell_type": "code",
      "execution_count": null,
      "metadata": {
        "colab": {
          "base_uri": "https://localhost:8080/"
        },
        "outputId": "14e36ac2-682d-4a9b-de27-936107a0ea4d",
        "id": "P2--bZKuUMrz"
      },
      "outputs": [
        {
          "output_type": "stream",
          "name": "stdout",
          "text": [
            "Decision Tree with random params: {'max_depth': 4}\n",
            "10-fold CV accuracy: 0.2533 ± 0.0039\n"
          ]
        }
      ],
      "source": [
        "run_decision_tree(X, y, seed=42)\n"
      ]
    },
    {
      "cell_type": "code",
      "execution_count": null,
      "metadata": {
        "colab": {
          "base_uri": "https://localhost:8080/"
        },
        "outputId": "d546d8d3-dfb0-4852-ace9-883649bd9947",
        "id": "yaJyTg6jUMr0"
      },
      "outputs": [
        {
          "output_type": "stream",
          "name": "stdout",
          "text": [
            "Random Forest with random params: {'max_depth': 4, 'n_estimators': 86}\n",
            "10-fold CV accuracy: 0.6069 ± 0.0110\n"
          ]
        }
      ],
      "source": [
        "run_random_forest(X, y, seed=42)"
      ]
    },
    {
      "cell_type": "markdown",
      "source": [
        "# Task ID40: 53"
      ],
      "metadata": {
        "id": "BEsQTY0-UM3x"
      }
    },
    {
      "cell_type": "code",
      "execution_count": null,
      "metadata": {
        "colab": {
          "base_uri": "https://localhost:8080/"
        },
        "outputId": "f602e13c-8956-48b8-deee-16c859ca10e2",
        "id": "h81Iqxc1UM3x"
      },
      "outputs": [
        {
          "output_type": "stream",
          "name": "stdout",
          "text": [
            "Dataset shape: (846, 18)\n"
          ]
        }
      ],
      "source": [
        "# Load and preprocess data using OpenML Task ID\n",
        "X, y = load_preprocess_task(53)  # Replace with an actual task ID\n"
      ]
    },
    {
      "cell_type": "code",
      "execution_count": null,
      "metadata": {
        "colab": {
          "base_uri": "https://localhost:8080/"
        },
        "outputId": "0c2fd2dd-3ad7-40c1-8529-3c97a4d41d05",
        "id": "D5s6xIifUM3y"
      },
      "outputs": [
        {
          "output_type": "stream",
          "name": "stdout",
          "text": [
            "10-fold CV accuracy: 0.7991 ± 0.0267\n"
          ]
        }
      ],
      "source": [
        "# Choose and run models with 10-fold cross-validation\n",
        "run_linear_model(X, y)"
      ]
    },
    {
      "cell_type": "code",
      "execution_count": null,
      "metadata": {
        "colab": {
          "base_uri": "https://localhost:8080/"
        },
        "outputId": "48dfe7f9-2043-4fe3-fb85-ac5a4dfe91fa",
        "id": "XZ3Rny_dUM3y"
      },
      "outputs": [
        {
          "output_type": "stream",
          "name": "stdout",
          "text": [
            "KNN with random params: {'n_neighbors': 15, 'knn_alg': 'ball_tree', 'leaf_size': 300}\n",
            "10-fold CV accuracy: 0.7011 ± 0.0452\n"
          ]
        }
      ],
      "source": [
        "run_knn(X, y, seed=42)\n"
      ]
    },
    {
      "cell_type": "code",
      "execution_count": null,
      "metadata": {
        "colab": {
          "base_uri": "https://localhost:8080/"
        },
        "outputId": "ee6dd6bf-97ae-40f9-d9c7-60432285f651",
        "id": "jXvhtAF9UM3y"
      },
      "outputs": [
        {
          "output_type": "stream",
          "name": "stdout",
          "text": [
            "Decision Tree with random params: {'max_depth': 4}\n",
            "10-fold CV accuracy: 0.6631 ± 0.0390\n"
          ]
        }
      ],
      "source": [
        "run_decision_tree(X, y, seed=42)\n"
      ]
    },
    {
      "cell_type": "code",
      "execution_count": null,
      "metadata": {
        "colab": {
          "base_uri": "https://localhost:8080/"
        },
        "outputId": "118ef103-787a-4372-b9fe-4ed32079198d",
        "id": "iLOYv1g0UM3z"
      },
      "outputs": [
        {
          "output_type": "stream",
          "name": "stdout",
          "text": [
            "Random Forest with random params: {'max_depth': 4, 'n_estimators': 86}\n",
            "10-fold CV accuracy: 0.7116 ± 0.0266\n"
          ]
        }
      ],
      "source": [
        "run_random_forest(X, y, seed=42)"
      ]
    },
    {
      "cell_type": "markdown",
      "source": [
        "# Task ID41: 11"
      ],
      "metadata": {
        "id": "dI13mhhGUNDw"
      }
    },
    {
      "cell_type": "code",
      "execution_count": null,
      "metadata": {
        "colab": {
          "base_uri": "https://localhost:8080/"
        },
        "outputId": "28f01758-b24e-4a16-f431-26900575bde9",
        "id": "9kwzhfI9UNDx"
      },
      "outputs": [
        {
          "output_type": "stream",
          "name": "stdout",
          "text": [
            "Dataset shape: (625, 4)\n"
          ]
        }
      ],
      "source": [
        "# Load and preprocess data using OpenML Task ID\n",
        "X, y = load_preprocess_task(11)  # Replace with an actual task ID\n"
      ]
    },
    {
      "cell_type": "code",
      "execution_count": null,
      "metadata": {
        "colab": {
          "base_uri": "https://localhost:8080/"
        },
        "outputId": "3f93f76f-5b7a-4599-ccb5-c384c8cd9c95",
        "id": "1G_p10YZUNDx"
      },
      "outputs": [
        {
          "output_type": "stream",
          "name": "stdout",
          "text": [
            "10-fold CV accuracy: 0.8497 ± 0.0556\n"
          ]
        }
      ],
      "source": [
        "# Choose and run models with 10-fold cross-validation\n",
        "run_linear_model(X, y)"
      ]
    },
    {
      "cell_type": "code",
      "execution_count": null,
      "metadata": {
        "colab": {
          "base_uri": "https://localhost:8080/"
        },
        "outputId": "bd8191b6-975b-4181-fb4e-f2b40fbb8693",
        "id": "5oIwjfb_UNDx"
      },
      "outputs": [
        {
          "output_type": "stream",
          "name": "stdout",
          "text": [
            "KNN with random params: {'n_neighbors': 15, 'knn_alg': 'ball_tree', 'leaf_size': 300}\n",
            "10-fold CV accuracy: 0.8369 ± 0.0542\n"
          ]
        }
      ],
      "source": [
        "run_knn(X, y, seed=42)\n"
      ]
    },
    {
      "cell_type": "code",
      "execution_count": null,
      "metadata": {
        "colab": {
          "base_uri": "https://localhost:8080/"
        },
        "outputId": "1f2f9d45-8eba-4874-986b-4975de2a58f3",
        "id": "wAcuB__8UNDx"
      },
      "outputs": [
        {
          "output_type": "stream",
          "name": "stdout",
          "text": [
            "Decision Tree with random params: {'max_depth': 4}\n",
            "10-fold CV accuracy: 0.6932 ± 0.0861\n"
          ]
        }
      ],
      "source": [
        "run_decision_tree(X, y, seed=42)\n"
      ]
    },
    {
      "cell_type": "code",
      "execution_count": null,
      "metadata": {
        "colab": {
          "base_uri": "https://localhost:8080/"
        },
        "outputId": "17935075-a2bf-4d35-9c20-9472f68cc105",
        "id": "RETd3EdiUNDy"
      },
      "outputs": [
        {
          "output_type": "stream",
          "name": "stdout",
          "text": [
            "Random Forest with random params: {'max_depth': 4, 'n_estimators': 86}\n",
            "10-fold CV accuracy: 0.6800 ± 0.1023\n"
          ]
        }
      ],
      "source": [
        "run_random_forest(X, y, seed=42)"
      ]
    },
    {
      "cell_type": "markdown",
      "source": [
        "# Task ID42: 15"
      ],
      "metadata": {
        "id": "L6e6nkQbUNPt"
      }
    },
    {
      "cell_type": "code",
      "execution_count": null,
      "metadata": {
        "colab": {
          "base_uri": "https://localhost:8080/"
        },
        "outputId": "404c0bba-eb9e-4bb3-a0b2-5714a9dc6ceb",
        "id": "Teek6QgpUNPu"
      },
      "outputs": [
        {
          "output_type": "stream",
          "name": "stdout",
          "text": [
            "Dataset shape: (699, 9)\n"
          ]
        }
      ],
      "source": [
        "# Load and preprocess data using OpenML Task ID\n",
        "X, y = load_preprocess_task(15)  # Replace with an actual task ID\n"
      ]
    },
    {
      "cell_type": "code",
      "execution_count": null,
      "metadata": {
        "colab": {
          "base_uri": "https://localhost:8080/"
        },
        "outputId": "c1cf9dc6-f754-4afe-9adf-ccd73888b636",
        "id": "vAurp_cFUNPu"
      },
      "outputs": [
        {
          "output_type": "stream",
          "name": "stdout",
          "text": [
            "10-fold CV accuracy: 0.9671 ± 0.0300\n"
          ]
        }
      ],
      "source": [
        "# Choose and run models with 10-fold cross-validation\n",
        "run_linear_model(X, y)"
      ]
    },
    {
      "cell_type": "code",
      "execution_count": null,
      "metadata": {
        "colab": {
          "base_uri": "https://localhost:8080/"
        },
        "outputId": "ee955401-9555-4a28-9e0e-8a702cc8e469",
        "id": "jOcOPlSUUNPu"
      },
      "outputs": [
        {
          "output_type": "stream",
          "name": "stdout",
          "text": [
            "KNN with random params: {'n_neighbors': 15, 'knn_alg': 'ball_tree', 'leaf_size': 300}\n",
            "10-fold CV accuracy: 0.9671 ± 0.0293\n"
          ]
        }
      ],
      "source": [
        "run_knn(X, y, seed=42)\n"
      ]
    },
    {
      "cell_type": "code",
      "execution_count": null,
      "metadata": {
        "colab": {
          "base_uri": "https://localhost:8080/"
        },
        "outputId": "0dd9ebf4-392a-4382-a13d-84cec7e26a76",
        "id": "kefhtSHSUNPv"
      },
      "outputs": [
        {
          "output_type": "stream",
          "name": "stdout",
          "text": [
            "Decision Tree with random params: {'max_depth': 4}\n",
            "10-fold CV accuracy: 0.9428 ± 0.0325\n"
          ]
        }
      ],
      "source": [
        "run_decision_tree(X, y, seed=42)\n"
      ]
    },
    {
      "cell_type": "code",
      "execution_count": null,
      "metadata": {
        "colab": {
          "base_uri": "https://localhost:8080/"
        },
        "outputId": "71d81576-6aed-454b-f7d3-e3f68efb6c1c",
        "id": "phn9okJsUNPv"
      },
      "outputs": [
        {
          "output_type": "stream",
          "name": "stdout",
          "text": [
            "Random Forest with random params: {'max_depth': 4, 'n_estimators': 86}\n",
            "10-fold CV accuracy: 0.9686 ± 0.0246\n"
          ]
        }
      ],
      "source": [
        "run_random_forest(X, y, seed=42)"
      ]
    },
    {
      "cell_type": "markdown",
      "source": [
        "# Task ID43: 16"
      ],
      "metadata": {
        "id": "iNhJDlrKUNat"
      }
    },
    {
      "cell_type": "code",
      "execution_count": null,
      "metadata": {
        "colab": {
          "base_uri": "https://localhost:8080/"
        },
        "outputId": "a5cf894c-cba4-4d1d-829d-faa59b96a18d",
        "id": "KAadd-hGUNat"
      },
      "outputs": [
        {
          "output_type": "stream",
          "name": "stdout",
          "text": [
            "Dataset shape: (2000, 64)\n"
          ]
        }
      ],
      "source": [
        "# Load and preprocess data using OpenML Task ID\n",
        "X, y = load_preprocess_task(16)  # Replace with an actual task ID\n"
      ]
    },
    {
      "cell_type": "code",
      "execution_count": null,
      "metadata": {
        "colab": {
          "base_uri": "https://localhost:8080/"
        },
        "outputId": "360b5a8d-ca5a-4b83-8926-2963c81dc038",
        "id": "moJOCbDQUNau"
      },
      "outputs": [
        {
          "output_type": "stream",
          "name": "stdout",
          "text": [
            "10-fold CV accuracy: 0.9490 ± 0.0118\n"
          ]
        }
      ],
      "source": [
        "# Choose and run models with 10-fold cross-validation\n",
        "run_linear_model(X, y)"
      ]
    },
    {
      "cell_type": "code",
      "execution_count": null,
      "metadata": {
        "colab": {
          "base_uri": "https://localhost:8080/"
        },
        "outputId": "00422924-eb37-4982-f10e-c9804b13cef9",
        "id": "tfGd1f_SUNau"
      },
      "outputs": [
        {
          "output_type": "stream",
          "name": "stdout",
          "text": [
            "KNN with random params: {'n_neighbors': 15, 'knn_alg': 'ball_tree', 'leaf_size': 300}\n",
            "10-fold CV accuracy: 0.9420 ± 0.0121\n"
          ]
        }
      ],
      "source": [
        "run_knn(X, y, seed=42)\n"
      ]
    },
    {
      "cell_type": "code",
      "execution_count": null,
      "metadata": {
        "colab": {
          "base_uri": "https://localhost:8080/"
        },
        "outputId": "3bf4245d-ad7d-4ed9-bdd7-c5b199d56ffb",
        "id": "5JBWBImXUNav"
      },
      "outputs": [
        {
          "output_type": "stream",
          "name": "stdout",
          "text": [
            "Decision Tree with random params: {'max_depth': 4}\n",
            "10-fold CV accuracy: 0.5880 ± 0.0308\n"
          ]
        }
      ],
      "source": [
        "run_decision_tree(X, y, seed=42)\n"
      ]
    },
    {
      "cell_type": "code",
      "execution_count": null,
      "metadata": {
        "colab": {
          "base_uri": "https://localhost:8080/"
        },
        "outputId": "6a215281-b834-45c5-839c-9a226e4a3c36",
        "id": "4sN1KzNWUNav"
      },
      "outputs": [
        {
          "output_type": "stream",
          "name": "stdout",
          "text": [
            "Random Forest with random params: {'max_depth': 4, 'n_estimators': 86}\n",
            "10-fold CV accuracy: 0.9135 ± 0.0204\n"
          ]
        }
      ],
      "source": [
        "run_random_forest(X, y, seed=42)"
      ]
    },
    {
      "cell_type": "markdown",
      "source": [
        "# Task ID44: 14"
      ],
      "metadata": {
        "id": "Ng32K-haUNl5"
      }
    },
    {
      "cell_type": "code",
      "execution_count": null,
      "metadata": {
        "colab": {
          "base_uri": "https://localhost:8080/"
        },
        "outputId": "548e16b0-5f6e-4afe-9b25-a72869fc2671",
        "id": "xCCHn07SUNl6"
      },
      "outputs": [
        {
          "output_type": "stream",
          "name": "stdout",
          "text": [
            "Dataset shape: (2000, 76)\n"
          ]
        }
      ],
      "source": [
        "# Load and preprocess data using OpenML Task ID\n",
        "X, y = load_preprocess_task(14)  # Replace with an actual task ID\n"
      ]
    },
    {
      "cell_type": "code",
      "execution_count": null,
      "metadata": {
        "colab": {
          "base_uri": "https://localhost:8080/"
        },
        "outputId": "41165a32-b876-41e1-dcd7-d7a6890f0a32",
        "id": "cGCBZUazUNl6"
      },
      "outputs": [
        {
          "output_type": "stream",
          "name": "stdout",
          "text": [
            "10-fold CV accuracy: 0.8210 ± 0.0143\n"
          ]
        }
      ],
      "source": [
        "# Choose and run models with 10-fold cross-validation\n",
        "run_linear_model(X, y)"
      ]
    },
    {
      "cell_type": "code",
      "execution_count": null,
      "metadata": {
        "colab": {
          "base_uri": "https://localhost:8080/"
        },
        "outputId": "f24ef2a9-0797-4951-c9d9-11eb839d2702",
        "id": "7S1ABn2KUNl7"
      },
      "outputs": [
        {
          "output_type": "stream",
          "name": "stdout",
          "text": [
            "KNN with random params: {'n_neighbors': 15, 'knn_alg': 'ball_tree', 'leaf_size': 300}\n",
            "10-fold CV accuracy: 0.8040 ± 0.0219\n"
          ]
        }
      ],
      "source": [
        "run_knn(X, y, seed=42)\n"
      ]
    },
    {
      "cell_type": "code",
      "execution_count": null,
      "metadata": {
        "colab": {
          "base_uri": "https://localhost:8080/"
        },
        "outputId": "8096ee3a-76a2-4a0a-c97e-508897f21a0c",
        "id": "7FqVCP9TUNl7"
      },
      "outputs": [
        {
          "output_type": "stream",
          "name": "stdout",
          "text": [
            "Decision Tree with random params: {'max_depth': 4}\n",
            "10-fold CV accuracy: 0.5405 ± 0.0430\n"
          ]
        }
      ],
      "source": [
        "run_decision_tree(X, y, seed=42)\n"
      ]
    },
    {
      "cell_type": "code",
      "execution_count": null,
      "metadata": {
        "colab": {
          "base_uri": "https://localhost:8080/"
        },
        "outputId": "e083e8b9-8000-4790-ecb7-79aef37f81c3",
        "id": "KozblJqBUNl7"
      },
      "outputs": [
        {
          "output_type": "stream",
          "name": "stdout",
          "text": [
            "Random Forest with random params: {'max_depth': 4, 'n_estimators': 86}\n",
            "10-fold CV accuracy: 0.7790 ± 0.0258\n"
          ]
        }
      ],
      "source": [
        "run_random_forest(X, y, seed=42)"
      ]
    },
    {
      "cell_type": "markdown",
      "source": [
        "# Task ID45: 32"
      ],
      "metadata": {
        "id": "WL9ZOy4AUNws"
      }
    },
    {
      "cell_type": "code",
      "execution_count": null,
      "metadata": {
        "colab": {
          "base_uri": "https://localhost:8080/"
        },
        "outputId": "08bc8784-30ce-4793-9081-1865e7347254",
        "id": "eXcZc4KhUNwt"
      },
      "outputs": [
        {
          "output_type": "stream",
          "name": "stdout",
          "text": [
            "Dataset shape: (10992, 16)\n"
          ]
        }
      ],
      "source": [
        "# Load and preprocess data using OpenML Task ID\n",
        "X, y = load_preprocess_task(32)  # Replace with an actual task ID\n"
      ]
    },
    {
      "cell_type": "code",
      "execution_count": null,
      "metadata": {
        "colab": {
          "base_uri": "https://localhost:8080/"
        },
        "outputId": "fd953a0e-262f-4c27-ae60-49668aba77ce",
        "id": "zQmvuGb3UNwt"
      },
      "outputs": [
        {
          "output_type": "stream",
          "name": "stdout",
          "text": [
            "10-fold CV accuracy: 0.9503 ± 0.0105\n"
          ]
        }
      ],
      "source": [
        "# Choose and run models with 10-fold cross-validation\n",
        "run_linear_model(X, y)"
      ]
    },
    {
      "cell_type": "code",
      "execution_count": null,
      "metadata": {
        "colab": {
          "base_uri": "https://localhost:8080/"
        },
        "outputId": "5bd77152-3f7e-44f2-c06b-f4403ac8f097",
        "id": "XIZMvbx7UNwu"
      },
      "outputs": [
        {
          "output_type": "stream",
          "name": "stdout",
          "text": [
            "KNN with random params: {'n_neighbors': 15, 'knn_alg': 'ball_tree', 'leaf_size': 300}\n",
            "10-fold CV accuracy: 0.9881 ± 0.0039\n"
          ]
        }
      ],
      "source": [
        "run_knn(X, y, seed=42)\n"
      ]
    },
    {
      "cell_type": "code",
      "execution_count": null,
      "metadata": {
        "colab": {
          "base_uri": "https://localhost:8080/"
        },
        "outputId": "27820398-fac5-41e0-e58b-9fe25b9ebbdf",
        "id": "NHbw9zV9UNwv"
      },
      "outputs": [
        {
          "output_type": "stream",
          "name": "stdout",
          "text": [
            "Decision Tree with random params: {'max_depth': 4}\n",
            "10-fold CV accuracy: 0.7196 ± 0.0143\n"
          ]
        }
      ],
      "source": [
        "run_decision_tree(X, y, seed=42)\n"
      ]
    },
    {
      "cell_type": "code",
      "execution_count": null,
      "metadata": {
        "colab": {
          "base_uri": "https://localhost:8080/"
        },
        "outputId": "58661b5d-b953-4223-e4fd-e5f9446f644a",
        "id": "q_fhfg-EUNwv"
      },
      "outputs": [
        {
          "output_type": "stream",
          "name": "stdout",
          "text": [
            "Random Forest with random params: {'max_depth': 4, 'n_estimators': 86}\n",
            "10-fold CV accuracy: 0.8659 ± 0.0170\n"
          ]
        }
      ],
      "source": [
        "run_random_forest(X, y, seed=42)"
      ]
    },
    {
      "cell_type": "markdown",
      "source": [
        "# Task ID46: 3549"
      ],
      "metadata": {
        "id": "ewtX2G2PUN7x"
      }
    },
    {
      "cell_type": "code",
      "execution_count": null,
      "metadata": {
        "colab": {
          "base_uri": "https://localhost:8080/"
        },
        "outputId": "6cb154ca-1b90-43c0-b6d4-dde94e56a6cc",
        "id": "RwHzBeDmUN7x"
      },
      "outputs": [
        {
          "output_type": "stream",
          "name": "stdout",
          "text": [
            "Dataset shape: (841, 70)\n"
          ]
        }
      ],
      "source": [
        "# Load and preprocess data using OpenML Task ID\n",
        "X, y = load_preprocess_task(3549)  # Replace with an actual task ID\n"
      ]
    },
    {
      "cell_type": "code",
      "execution_count": null,
      "metadata": {
        "colab": {
          "base_uri": "https://localhost:8080/"
        },
        "outputId": "a8b38461-eab2-4e4d-8cf2-6c13c5a7b2d4",
        "id": "vJWU5gLrUN7x"
      },
      "outputs": [
        {
          "output_type": "stream",
          "name": "stdout",
          "text": [
            "10-fold CV accuracy: 0.9964 ± 0.0054\n"
          ]
        }
      ],
      "source": [
        "# Choose and run models with 10-fold cross-validation\n",
        "run_linear_model(X, y)"
      ]
    },
    {
      "cell_type": "code",
      "execution_count": null,
      "metadata": {
        "colab": {
          "base_uri": "https://localhost:8080/"
        },
        "outputId": "42ffb7af-845a-4a72-8c2f-bf20767a02a1",
        "id": "badjm4XqUN7y"
      },
      "outputs": [
        {
          "output_type": "stream",
          "name": "stdout",
          "text": [
            "KNN with random params: {'n_neighbors': 15, 'knn_alg': 'ball_tree', 'leaf_size': 300}\n",
            "10-fold CV accuracy: 0.9941 ± 0.0079\n"
          ]
        }
      ],
      "source": [
        "run_knn(X, y, seed=42)\n"
      ]
    },
    {
      "cell_type": "code",
      "execution_count": null,
      "metadata": {
        "colab": {
          "base_uri": "https://localhost:8080/"
        },
        "outputId": "c813f4e1-8c90-4e56-cdcc-90da8b0ae4d8",
        "id": "0WH4n_S6UN7y"
      },
      "outputs": [
        {
          "output_type": "stream",
          "name": "stdout",
          "text": [
            "Decision Tree with random params: {'max_depth': 4}\n",
            "10-fold CV accuracy: 0.9133 ± 0.0492\n"
          ]
        }
      ],
      "source": [
        "run_decision_tree(X, y, seed=42)\n"
      ]
    },
    {
      "cell_type": "code",
      "execution_count": null,
      "metadata": {
        "colab": {
          "base_uri": "https://localhost:8080/"
        },
        "outputId": "dbd0fc8f-1cbb-43a5-c627-796dca71d27f",
        "id": "wwNBekEXUN7y"
      },
      "outputs": [
        {
          "output_type": "stream",
          "name": "stdout",
          "text": [
            "Random Forest with random params: {'max_depth': 4, 'n_estimators': 86}\n",
            "10-fold CV accuracy: 0.9834 ± 0.0109\n"
          ]
        }
      ],
      "source": [
        "run_random_forest(X, y, seed=42)"
      ]
    },
    {
      "cell_type": "markdown",
      "source": [
        "# Task ID47: 12"
      ],
      "metadata": {
        "id": "7vNpomuQUOGc"
      }
    },
    {
      "cell_type": "code",
      "execution_count": null,
      "metadata": {
        "colab": {
          "base_uri": "https://localhost:8080/"
        },
        "outputId": "2c899360-feb9-4488-877c-a62ae2a8dd8f",
        "id": "5wKx6mlhUOGc"
      },
      "outputs": [
        {
          "output_type": "stream",
          "name": "stdout",
          "text": [
            "Dataset shape: (2000, 216)\n"
          ]
        }
      ],
      "source": [
        "# Load and preprocess data using OpenML Task ID\n",
        "X, y = load_preprocess_task(12)  # Replace with an actual task ID\n"
      ]
    },
    {
      "cell_type": "code",
      "execution_count": null,
      "metadata": {
        "colab": {
          "base_uri": "https://localhost:8080/"
        },
        "outputId": "512e5da2-d4c5-4ecb-ebf3-8dbc0ddd7528",
        "id": "lTWBI6cOUOGd"
      },
      "outputs": [
        {
          "output_type": "stream",
          "name": "stdout",
          "text": [
            "10-fold CV accuracy: 0.9785 ± 0.0078\n"
          ]
        }
      ],
      "source": [
        "# Choose and run models with 10-fold cross-validation\n",
        "run_linear_model(X, y)"
      ]
    },
    {
      "cell_type": "code",
      "execution_count": null,
      "metadata": {
        "colab": {
          "base_uri": "https://localhost:8080/"
        },
        "outputId": "9a75647f-f9e7-45de-9aa6-a344ab67609c",
        "id": "teGM9f5DUOGd"
      },
      "outputs": [
        {
          "output_type": "stream",
          "name": "stdout",
          "text": [
            "KNN with random params: {'n_neighbors': 15, 'knn_alg': 'ball_tree', 'leaf_size': 300}\n",
            "10-fold CV accuracy: 0.9600 ± 0.0105\n"
          ]
        }
      ],
      "source": [
        "run_knn(X, y, seed=42)\n"
      ]
    },
    {
      "cell_type": "code",
      "execution_count": null,
      "metadata": {
        "colab": {
          "base_uri": "https://localhost:8080/"
        },
        "outputId": "fd88b9a2-1a1b-4de7-c287-a083567cf55d",
        "id": "M0-BBAAzUOGe"
      },
      "outputs": [
        {
          "output_type": "stream",
          "name": "stdout",
          "text": [
            "Decision Tree with random params: {'max_depth': 4}\n",
            "10-fold CV accuracy: 0.5235 ± 0.0166\n"
          ]
        }
      ],
      "source": [
        "run_decision_tree(X, y, seed=42)\n"
      ]
    },
    {
      "cell_type": "code",
      "execution_count": null,
      "metadata": {
        "colab": {
          "base_uri": "https://localhost:8080/"
        },
        "outputId": "855702c6-236d-4685-8b64-fdc69b53d89a",
        "id": "IzZtC6huUOGe"
      },
      "outputs": [
        {
          "output_type": "stream",
          "name": "stdout",
          "text": [
            "Random Forest with random params: {'max_depth': 4, 'n_estimators': 86}\n",
            "10-fold CV accuracy: 0.9255 ± 0.0175\n"
          ]
        }
      ],
      "source": [
        "run_random_forest(X, y, seed=42)"
      ]
    },
    {
      "cell_type": "markdown",
      "source": [
        "# Task ID48: 9981"
      ],
      "metadata": {
        "id": "fWOstqIAUORB"
      }
    },
    {
      "cell_type": "code",
      "execution_count": null,
      "metadata": {
        "colab": {
          "base_uri": "https://localhost:8080/"
        },
        "outputId": "8ca64354-d0a8-4b64-b936-87fa4e066331",
        "id": "HFKFlyRgUORB"
      },
      "outputs": [
        {
          "output_type": "stream",
          "name": "stdout",
          "text": [
            "Dataset shape: (1080, 856)\n"
          ]
        }
      ],
      "source": [
        "# Load and preprocess data using OpenML Task ID\n",
        "X, y = load_preprocess_task(9981)  # Replace with an actual task ID\n"
      ]
    },
    {
      "cell_type": "code",
      "execution_count": null,
      "metadata": {
        "colab": {
          "base_uri": "https://localhost:8080/"
        },
        "outputId": "f66ab112-90d6-450d-ff09-82c396729bf8",
        "id": "UPMhbP9pUORC"
      },
      "outputs": [
        {
          "output_type": "stream",
          "name": "stdout",
          "text": [
            "10-fold CV accuracy: 0.9509 ± 0.0227\n"
          ]
        }
      ],
      "source": [
        "# Choose and run models with 10-fold cross-validation\n",
        "run_linear_model(X, y)"
      ]
    },
    {
      "cell_type": "code",
      "execution_count": null,
      "metadata": {
        "colab": {
          "base_uri": "https://localhost:8080/"
        },
        "outputId": "dd2df32e-0ca0-4a57-d1be-e25fe2adf22a",
        "id": "_7MUL71UUORC"
      },
      "outputs": [
        {
          "output_type": "stream",
          "name": "stdout",
          "text": [
            "KNN with random params: {'n_neighbors': 15, 'knn_alg': 'ball_tree', 'leaf_size': 300}\n",
            "10-fold CV accuracy: 0.8343 ± 0.0322\n"
          ]
        }
      ],
      "source": [
        "run_knn(X, y, seed=42)\n"
      ]
    },
    {
      "cell_type": "code",
      "execution_count": null,
      "metadata": {
        "colab": {
          "base_uri": "https://localhost:8080/"
        },
        "outputId": "bee95429-2cba-4926-9900-9f431feab4d7",
        "id": "X_1rGVvzUORC"
      },
      "outputs": [
        {
          "output_type": "stream",
          "name": "stdout",
          "text": [
            "Decision Tree with random params: {'max_depth': 4}\n",
            "10-fold CV accuracy: 0.4278 ± 0.0301\n"
          ]
        }
      ],
      "source": [
        "run_decision_tree(X, y, seed=42)\n"
      ]
    },
    {
      "cell_type": "code",
      "execution_count": null,
      "metadata": {
        "colab": {
          "base_uri": "https://localhost:8080/"
        },
        "outputId": "95eb4ae8-bad9-420d-bf84-90697283ba6b",
        "id": "o6CnZDD5UORC"
      },
      "outputs": [
        {
          "output_type": "stream",
          "name": "stdout",
          "text": [
            "Random Forest with random params: {'max_depth': 4, 'n_estimators': 86}\n",
            "10-fold CV accuracy: 0.8806 ± 0.0232\n"
          ]
        }
      ],
      "source": [
        "run_random_forest(X, y, seed=42)"
      ]
    },
    {
      "cell_type": "markdown",
      "source": [
        "# Task ID49: 18"
      ],
      "metadata": {
        "id": "lhXlnoGdUObZ"
      }
    },
    {
      "cell_type": "code",
      "execution_count": null,
      "metadata": {
        "colab": {
          "base_uri": "https://localhost:8080/"
        },
        "outputId": "cfd7d1ce-29ea-4494-9c9c-a958504f972f",
        "id": "83RPH8DlUObZ"
      },
      "outputs": [
        {
          "output_type": "stream",
          "name": "stdout",
          "text": [
            "Dataset shape: (2000, 6)\n"
          ]
        }
      ],
      "source": [
        "# Load and preprocess data using OpenML Task ID\n",
        "X, y = load_preprocess_task(18)  # Replace with an actual task ID\n"
      ]
    },
    {
      "cell_type": "code",
      "execution_count": null,
      "metadata": {
        "colab": {
          "base_uri": "https://localhost:8080/"
        },
        "outputId": "e236f390-2533-4ad7-8850-28fdc4378d2d",
        "id": "WtoK8HPUUOba"
      },
      "outputs": [
        {
          "output_type": "stream",
          "name": "stdout",
          "text": [
            "10-fold CV accuracy: 0.7360 ± 0.0206\n"
          ]
        }
      ],
      "source": [
        "# Choose and run models with 10-fold cross-validation\n",
        "run_linear_model(X, y)"
      ]
    },
    {
      "cell_type": "code",
      "execution_count": null,
      "metadata": {
        "colab": {
          "base_uri": "https://localhost:8080/"
        },
        "outputId": "285b38cb-1f64-46c5-ffea-5de7ebd0e874",
        "id": "bLrOaReVUOba"
      },
      "outputs": [
        {
          "output_type": "stream",
          "name": "stdout",
          "text": [
            "KNN with random params: {'n_neighbors': 15, 'knn_alg': 'ball_tree', 'leaf_size': 300}\n",
            "10-fold CV accuracy: 0.7170 ± 0.0125\n"
          ]
        }
      ],
      "source": [
        "run_knn(X, y, seed=42)\n"
      ]
    },
    {
      "cell_type": "code",
      "execution_count": null,
      "metadata": {
        "colab": {
          "base_uri": "https://localhost:8080/"
        },
        "outputId": "348b8dfb-f3a9-4fca-a712-d97f10195528",
        "id": "HJ7rsCBvUObb"
      },
      "outputs": [
        {
          "output_type": "stream",
          "name": "stdout",
          "text": [
            "Decision Tree with random params: {'max_depth': 4}\n",
            "10-fold CV accuracy: 0.6355 ± 0.0584\n"
          ]
        }
      ],
      "source": [
        "run_decision_tree(X, y, seed=42)\n"
      ]
    },
    {
      "cell_type": "code",
      "execution_count": null,
      "metadata": {
        "colab": {
          "base_uri": "https://localhost:8080/"
        },
        "outputId": "ddf76e50-f733-493a-a6b5-7eb386443898",
        "id": "OSAuzasgUObb"
      },
      "outputs": [
        {
          "output_type": "stream",
          "name": "stdout",
          "text": [
            "Random Forest with random params: {'max_depth': 4, 'n_estimators': 86}\n",
            "10-fold CV accuracy: 0.7040 ± 0.0211\n"
          ]
        }
      ],
      "source": [
        "run_random_forest(X, y, seed=42)"
      ]
    },
    {
      "cell_type": "markdown",
      "source": [
        "# Task ID50: 28"
      ],
      "metadata": {
        "id": "WJJ0ZiGDUOnY"
      }
    },
    {
      "cell_type": "code",
      "execution_count": null,
      "metadata": {
        "colab": {
          "base_uri": "https://localhost:8080/"
        },
        "outputId": "d7718a34-ce43-47ec-a203-a3fde1b3cf3d",
        "id": "cFjmeURAUOnY"
      },
      "outputs": [
        {
          "output_type": "stream",
          "name": "stdout",
          "text": [
            "Dataset shape: (5620, 64)\n"
          ]
        }
      ],
      "source": [
        "# Load and preprocess data using OpenML Task ID\n",
        "X, y = load_preprocess_task(28)  # Replace with an actual task ID\n"
      ]
    },
    {
      "cell_type": "code",
      "execution_count": null,
      "metadata": {
        "colab": {
          "base_uri": "https://localhost:8080/"
        },
        "outputId": "3724a971-e399-4cd6-8076-279e2760e442",
        "id": "EVhqfAvQUOnY"
      },
      "outputs": [
        {
          "output_type": "stream",
          "name": "stdout",
          "text": [
            "10-fold CV accuracy: 0.9635 ± 0.0065\n"
          ]
        }
      ],
      "source": [
        "# Choose and run models with 10-fold cross-validation\n",
        "run_linear_model(X, y)"
      ]
    },
    {
      "cell_type": "code",
      "execution_count": null,
      "metadata": {
        "colab": {
          "base_uri": "https://localhost:8080/"
        },
        "outputId": "762613bc-62c8-42cc-e756-dc59212fef98",
        "id": "e5obhRhLUOnY"
      },
      "outputs": [
        {
          "output_type": "stream",
          "name": "stdout",
          "text": [
            "KNN with random params: {'n_neighbors': 15, 'knn_alg': 'ball_tree', 'leaf_size': 300}\n",
            "10-fold CV accuracy: 0.9676 ± 0.0054\n"
          ]
        }
      ],
      "source": [
        "run_knn(X, y, seed=42)\n"
      ]
    },
    {
      "cell_type": "code",
      "execution_count": null,
      "metadata": {
        "colab": {
          "base_uri": "https://localhost:8080/"
        },
        "outputId": "92951b1a-1739-4c09-d611-765a4cf700ea",
        "id": "II6HqrTOUOnY"
      },
      "outputs": [
        {
          "output_type": "stream",
          "name": "stdout",
          "text": [
            "Decision Tree with random params: {'max_depth': 4}\n",
            "10-fold CV accuracy: 0.5235 ± 0.0325\n"
          ]
        }
      ],
      "source": [
        "run_decision_tree(X, y, seed=42)\n"
      ]
    },
    {
      "cell_type": "code",
      "execution_count": null,
      "metadata": {
        "colab": {
          "base_uri": "https://localhost:8080/"
        },
        "outputId": "5fe4f491-5bc7-4512-f9cd-c28efa07daa9",
        "id": "bGV-CarTUOnY"
      },
      "outputs": [
        {
          "output_type": "stream",
          "name": "stdout",
          "text": [
            "Random Forest with random params: {'max_depth': 4, 'n_estimators': 86}\n",
            "10-fold CV accuracy: 0.9034 ± 0.0192\n"
          ]
        }
      ],
      "source": [
        "run_random_forest(X, y, seed=42)"
      ]
    },
    {
      "cell_type": "markdown",
      "source": [
        "# Task ID51: 2074"
      ],
      "metadata": {
        "id": "cDW6wxhbUOzO"
      }
    },
    {
      "cell_type": "code",
      "execution_count": null,
      "metadata": {
        "colab": {
          "base_uri": "https://localhost:8080/"
        },
        "outputId": "d4f48b94-7863-4736-ab5e-4ae99a30a965",
        "id": "sVFN742eUOzO"
      },
      "outputs": [
        {
          "output_type": "stream",
          "name": "stdout",
          "text": [
            "Dataset shape: (6430, 36)\n"
          ]
        }
      ],
      "source": [
        "# Load and preprocess data using OpenML Task ID\n",
        "X, y = load_preprocess_task(2074)  # Replace with an actual task ID\n"
      ]
    },
    {
      "cell_type": "code",
      "execution_count": null,
      "metadata": {
        "colab": {
          "base_uri": "https://localhost:8080/"
        },
        "outputId": "9b3a7652-4553-452d-bc17-afb67e8b94cc",
        "id": "4CXyz3TXUOzO"
      },
      "outputs": [
        {
          "output_type": "stream",
          "name": "stdout",
          "text": [
            "10-fold CV accuracy: 0.8575 ± 0.0111\n"
          ]
        }
      ],
      "source": [
        "# Choose and run models with 10-fold cross-validation\n",
        "run_linear_model(X, y)"
      ]
    },
    {
      "cell_type": "code",
      "execution_count": null,
      "metadata": {
        "colab": {
          "base_uri": "https://localhost:8080/"
        },
        "outputId": "29e43194-c2b6-4eb4-dbf9-5701a21654d9",
        "id": "e7wBxyITUOzP"
      },
      "outputs": [
        {
          "output_type": "stream",
          "name": "stdout",
          "text": [
            "KNN with random params: {'n_neighbors': 15, 'knn_alg': 'ball_tree', 'leaf_size': 300}\n",
            "10-fold CV accuracy: 0.8994 ± 0.0089\n"
          ]
        }
      ],
      "source": [
        "run_knn(X, y, seed=42)\n"
      ]
    },
    {
      "cell_type": "code",
      "execution_count": null,
      "metadata": {
        "colab": {
          "base_uri": "https://localhost:8080/"
        },
        "outputId": "cd2ba197-4951-461c-c19a-e87c2dff8205",
        "id": "RAI_FuNvUOzP"
      },
      "outputs": [
        {
          "output_type": "stream",
          "name": "stdout",
          "text": [
            "Decision Tree with random params: {'max_depth': 4}\n",
            "10-fold CV accuracy: 0.7876 ± 0.0145\n"
          ]
        }
      ],
      "source": [
        "run_decision_tree(X, y, seed=42)\n"
      ]
    },
    {
      "cell_type": "code",
      "execution_count": null,
      "metadata": {
        "colab": {
          "base_uri": "https://localhost:8080/"
        },
        "outputId": "084b7ed8-24ae-45a3-92be-cbe83c1f02a9",
        "id": "uy7Cmp1mUOzP"
      },
      "outputs": [
        {
          "output_type": "stream",
          "name": "stdout",
          "text": [
            "Random Forest with random params: {'max_depth': 4, 'n_estimators': 86}\n",
            "10-fold CV accuracy: 0.8375 ± 0.0076\n"
          ]
        }
      ],
      "source": [
        "run_random_forest(X, y, seed=42)"
      ]
    },
    {
      "cell_type": "markdown",
      "source": [
        "# Task ID52: 29"
      ],
      "metadata": {
        "id": "x8l_UBrFUO-k"
      }
    },
    {
      "cell_type": "code",
      "execution_count": null,
      "metadata": {
        "colab": {
          "base_uri": "https://localhost:8080/"
        },
        "outputId": "f2c5363a-5151-4df6-8aeb-5dfb94024f55",
        "id": "AMpHfpUHUO-l"
      },
      "outputs": [
        {
          "output_type": "stream",
          "name": "stdout",
          "text": [
            "Dataset shape: (690, 15)\n"
          ]
        }
      ],
      "source": [
        "# Load and preprocess data using OpenML Task ID\n",
        "X, y = load_preprocess_task(29)  # Replace with an actual task ID\n"
      ]
    },
    {
      "cell_type": "code",
      "execution_count": null,
      "metadata": {
        "colab": {
          "base_uri": "https://localhost:8080/"
        },
        "outputId": "999cfb36-a55e-4300-ab12-6f1a58ce70d8",
        "id": "OntSrVakUO-l"
      },
      "outputs": [
        {
          "output_type": "stream",
          "name": "stdout",
          "text": [
            "10-fold CV accuracy: 0.8420 ± 0.1574\n"
          ]
        }
      ],
      "source": [
        "# Choose and run models with 10-fold cross-validation\n",
        "run_linear_model(X, y)"
      ]
    },
    {
      "cell_type": "code",
      "execution_count": null,
      "metadata": {
        "colab": {
          "base_uri": "https://localhost:8080/"
        },
        "outputId": "68f68818-e6bb-47d7-e1e8-1fc1c9727606",
        "id": "CFhsGv_mUO-l"
      },
      "outputs": [
        {
          "output_type": "stream",
          "name": "stdout",
          "text": [
            "KNN with random params: {'n_neighbors': 15, 'knn_alg': 'ball_tree', 'leaf_size': 300}\n",
            "10-fold CV accuracy: 0.8406 ± 0.1126\n"
          ]
        }
      ],
      "source": [
        "run_knn(X, y, seed=42)\n"
      ]
    },
    {
      "cell_type": "code",
      "execution_count": null,
      "metadata": {
        "colab": {
          "base_uri": "https://localhost:8080/"
        },
        "outputId": "e235ce8d-9a3b-47ea-e1d0-edbf90bcb44e",
        "id": "Kg7LFmXbUO-m"
      },
      "outputs": [
        {
          "output_type": "stream",
          "name": "stdout",
          "text": [
            "Decision Tree with random params: {'max_depth': 4}\n",
            "10-fold CV accuracy: 0.8377 ± 0.1391\n"
          ]
        }
      ],
      "source": [
        "run_decision_tree(X, y, seed=42)\n"
      ]
    },
    {
      "cell_type": "code",
      "execution_count": null,
      "metadata": {
        "colab": {
          "base_uri": "https://localhost:8080/"
        },
        "outputId": "87a9f214-5f5a-4075-9069-e968c499b2a3",
        "id": "NzDoIs23UO-m"
      },
      "outputs": [
        {
          "output_type": "stream",
          "name": "stdout",
          "text": [
            "Random Forest with random params: {'max_depth': 4, 'n_estimators': 86}\n",
            "10-fold CV accuracy: 0.8536 ± 0.1334\n"
          ]
        }
      ],
      "source": [
        "run_random_forest(X, y, seed=42)"
      ]
    },
    {
      "cell_type": "markdown",
      "source": [
        "# Task ID53: 45"
      ],
      "metadata": {
        "id": "K8UnhnOzUPJ-"
      }
    },
    {
      "cell_type": "code",
      "execution_count": null,
      "metadata": {
        "colab": {
          "base_uri": "https://localhost:8080/"
        },
        "outputId": "2cc45ed0-d076-42f6-94b9-b8cf1bf4839a",
        "id": "iGcVYixEUPJ_"
      },
      "outputs": [
        {
          "output_type": "stream",
          "name": "stdout",
          "text": [
            "Dataset shape: (3190, 60)\n"
          ]
        }
      ],
      "source": [
        "# Load and preprocess data using OpenML Task ID\n",
        "X, y = load_preprocess_task(45)  # Replace with an actual task ID\n"
      ]
    },
    {
      "cell_type": "code",
      "execution_count": null,
      "metadata": {
        "colab": {
          "base_uri": "https://localhost:8080/"
        },
        "outputId": "437c6f53-1e1c-49f8-e2ad-42f7b88f92cc",
        "id": "HncC23hAUPJ_"
      },
      "outputs": [
        {
          "output_type": "stream",
          "name": "stdout",
          "text": [
            "10-fold CV accuracy: 0.9411 ± 0.0174\n"
          ]
        }
      ],
      "source": [
        "# Choose and run models with 10-fold cross-validation\n",
        "run_linear_model(X, y)"
      ]
    },
    {
      "cell_type": "code",
      "execution_count": null,
      "metadata": {
        "colab": {
          "base_uri": "https://localhost:8080/"
        },
        "outputId": "a9d3c880-e2a8-4630-89d3-18493bd7a98c",
        "id": "vsi-EUY0UPKA"
      },
      "outputs": [
        {
          "output_type": "stream",
          "name": "stderr",
          "text": [
            "/usr/local/lib/python3.10/dist-packages/sklearn/neighbors/_base.py:583: UserWarning: cannot use tree with sparse input: using brute force\n",
            "  warnings.warn(\"cannot use tree with sparse input: using brute force\")\n",
            "/usr/local/lib/python3.10/dist-packages/sklearn/neighbors/_base.py:583: UserWarning: cannot use tree with sparse input: using brute force\n",
            "  warnings.warn(\"cannot use tree with sparse input: using brute force\")\n",
            "/usr/local/lib/python3.10/dist-packages/sklearn/neighbors/_base.py:583: UserWarning: cannot use tree with sparse input: using brute force\n",
            "  warnings.warn(\"cannot use tree with sparse input: using brute force\")\n",
            "/usr/local/lib/python3.10/dist-packages/sklearn/neighbors/_base.py:583: UserWarning: cannot use tree with sparse input: using brute force\n",
            "  warnings.warn(\"cannot use tree with sparse input: using brute force\")\n",
            "/usr/local/lib/python3.10/dist-packages/sklearn/neighbors/_base.py:583: UserWarning: cannot use tree with sparse input: using brute force\n",
            "  warnings.warn(\"cannot use tree with sparse input: using brute force\")\n",
            "/usr/local/lib/python3.10/dist-packages/sklearn/neighbors/_base.py:583: UserWarning: cannot use tree with sparse input: using brute force\n",
            "  warnings.warn(\"cannot use tree with sparse input: using brute force\")\n",
            "/usr/local/lib/python3.10/dist-packages/sklearn/neighbors/_base.py:583: UserWarning: cannot use tree with sparse input: using brute force\n",
            "  warnings.warn(\"cannot use tree with sparse input: using brute force\")\n",
            "/usr/local/lib/python3.10/dist-packages/sklearn/neighbors/_base.py:583: UserWarning: cannot use tree with sparse input: using brute force\n",
            "  warnings.warn(\"cannot use tree with sparse input: using brute force\")\n",
            "/usr/local/lib/python3.10/dist-packages/sklearn/neighbors/_base.py:583: UserWarning: cannot use tree with sparse input: using brute force\n",
            "  warnings.warn(\"cannot use tree with sparse input: using brute force\")\n",
            "/usr/local/lib/python3.10/dist-packages/sklearn/neighbors/_base.py:583: UserWarning: cannot use tree with sparse input: using brute force\n",
            "  warnings.warn(\"cannot use tree with sparse input: using brute force\")\n"
          ]
        },
        {
          "output_type": "stream",
          "name": "stdout",
          "text": [
            "KNN with random params: {'n_neighbors': 15, 'knn_alg': 'ball_tree', 'leaf_size': 300}\n",
            "10-fold CV accuracy: 0.8379 ± 0.0260\n"
          ]
        }
      ],
      "source": [
        "run_knn(X, y, seed=42)\n"
      ]
    },
    {
      "cell_type": "code",
      "execution_count": null,
      "metadata": {
        "colab": {
          "base_uri": "https://localhost:8080/"
        },
        "outputId": "914a44a0-0ebe-440c-ddd1-40326da9fee0",
        "id": "qSJl5L9-UPKA"
      },
      "outputs": [
        {
          "output_type": "stream",
          "name": "stdout",
          "text": [
            "Decision Tree with random params: {'max_depth': 4}\n",
            "10-fold CV accuracy: 0.9210 ± 0.0135\n"
          ]
        }
      ],
      "source": [
        "run_decision_tree(X, y, seed=42)\n"
      ]
    },
    {
      "cell_type": "code",
      "execution_count": null,
      "metadata": {
        "colab": {
          "base_uri": "https://localhost:8080/"
        },
        "outputId": "e4dbdb39-d542-40c0-94ca-29dd4c685b6f",
        "id": "gVBcDU6LUPKA"
      },
      "outputs": [
        {
          "output_type": "stream",
          "name": "stdout",
          "text": [
            "Random Forest with random params: {'max_depth': 4, 'n_estimators': 86}\n",
            "10-fold CV accuracy: 0.9088 ± 0.0332\n"
          ]
        }
      ],
      "source": [
        "run_random_forest(X, y, seed=42)"
      ]
    },
    {
      "cell_type": "markdown",
      "source": [
        "# Task ID54: 125922"
      ],
      "metadata": {
        "id": "FIX9XbrkUPVf"
      }
    },
    {
      "cell_type": "code",
      "execution_count": null,
      "metadata": {
        "colab": {
          "base_uri": "https://localhost:8080/"
        },
        "outputId": "647ffb26-bc31-4d6a-e469-df9e3dcfe430",
        "id": "q2hyutzkUPVf"
      },
      "outputs": [
        {
          "output_type": "stream",
          "name": "stdout",
          "text": [
            "Dataset shape: (5500, 40)\n"
          ]
        }
      ],
      "source": [
        "# Load and preprocess data using OpenML Task ID\n",
        "X, y = load_preprocess_task(125922)  # Replace with an actual task ID\n"
      ]
    },
    {
      "cell_type": "code",
      "execution_count": null,
      "metadata": {
        "colab": {
          "base_uri": "https://localhost:8080/"
        },
        "outputId": "6bd5d25c-3aa2-421b-d0ce-413329b2a318",
        "id": "qEG3eS9pUPVg"
      },
      "outputs": [
        {
          "output_type": "stream",
          "name": "stdout",
          "text": [
            "10-fold CV accuracy: 0.9955 ± 0.0017\n"
          ]
        }
      ],
      "source": [
        "# Choose and run models with 10-fold cross-validation\n",
        "run_linear_model(X, y)"
      ]
    },
    {
      "cell_type": "code",
      "execution_count": null,
      "metadata": {
        "colab": {
          "base_uri": "https://localhost:8080/"
        },
        "outputId": "131c7300-1120-4815-9324-ca407c370d26",
        "id": "EuCcIdi8UPVg"
      },
      "outputs": [
        {
          "output_type": "stream",
          "name": "stdout",
          "text": [
            "KNN with random params: {'n_neighbors': 15, 'knn_alg': 'ball_tree', 'leaf_size': 300}\n",
            "10-fold CV accuracy: 0.9735 ± 0.0068\n"
          ]
        }
      ],
      "source": [
        "run_knn(X, y, seed=42)\n"
      ]
    },
    {
      "cell_type": "code",
      "execution_count": null,
      "metadata": {
        "colab": {
          "base_uri": "https://localhost:8080/"
        },
        "outputId": "6dbd9b51-a68e-4f33-cfba-115cb9eceadb",
        "id": "RWTDNAW-UPVg"
      },
      "outputs": [
        {
          "output_type": "stream",
          "name": "stdout",
          "text": [
            "Decision Tree with random params: {'max_depth': 4}\n",
            "10-fold CV accuracy: 0.5316 ± 0.0084\n"
          ]
        }
      ],
      "source": [
        "run_decision_tree(X, y, seed=42)\n"
      ]
    },
    {
      "cell_type": "code",
      "execution_count": null,
      "metadata": {
        "colab": {
          "base_uri": "https://localhost:8080/"
        },
        "outputId": "e49f1d2f-036b-4286-f6ad-f8b7edf4636e",
        "id": "0oa-c_CsUPVg"
      },
      "outputs": [
        {
          "output_type": "stream",
          "name": "stdout",
          "text": [
            "Random Forest with random params: {'max_depth': 4, 'n_estimators': 86}\n",
            "10-fold CV accuracy: 0.8138 ± 0.0123\n"
          ]
        }
      ],
      "source": [
        "run_random_forest(X, y, seed=42)"
      ]
    },
    {
      "cell_type": "markdown",
      "source": [
        "# Task ID55: 9960"
      ],
      "metadata": {
        "id": "KbGl87-KUPhg"
      }
    },
    {
      "cell_type": "code",
      "execution_count": null,
      "metadata": {
        "colab": {
          "base_uri": "https://localhost:8080/"
        },
        "outputId": "c4a308d7-ab26-4d27-ff3a-f6dcfd15a5fa",
        "id": "1QpnLvtsUPhg"
      },
      "outputs": [
        {
          "output_type": "stream",
          "name": "stdout",
          "text": [
            "Dataset shape: (5456, 24)\n"
          ]
        }
      ],
      "source": [
        "# Load and preprocess data using OpenML Task ID\n",
        "X, y = load_preprocess_task(9960)  # Replace with an actual task ID\n"
      ]
    },
    {
      "cell_type": "code",
      "execution_count": null,
      "metadata": {
        "colab": {
          "base_uri": "https://localhost:8080/"
        },
        "outputId": "1a26e172-bff0-4366-cb06-7ca8812b484d",
        "id": "tNrXecmKUPhg"
      },
      "outputs": [
        {
          "output_type": "stream",
          "name": "stdout",
          "text": [
            "10-fold CV accuracy: 0.6692 ± 0.0426\n"
          ]
        }
      ],
      "source": [
        "# Choose and run models with 10-fold cross-validation\n",
        "run_linear_model(X, y)"
      ]
    },
    {
      "cell_type": "code",
      "execution_count": null,
      "metadata": {
        "colab": {
          "base_uri": "https://localhost:8080/"
        },
        "outputId": "b4e6cbf8-d5c2-4a32-e2a8-6f7abc662a55",
        "id": "a5d6z77NUPhh"
      },
      "outputs": [
        {
          "output_type": "stream",
          "name": "stdout",
          "text": [
            "KNN with random params: {'n_neighbors': 15, 'knn_alg': 'ball_tree', 'leaf_size': 300}\n",
            "10-fold CV accuracy: 0.7572 ± 0.0626\n"
          ]
        }
      ],
      "source": [
        "run_knn(X, y, seed=42)\n"
      ]
    },
    {
      "cell_type": "code",
      "execution_count": null,
      "metadata": {
        "colab": {
          "base_uri": "https://localhost:8080/"
        },
        "outputId": "78b74b73-fa7b-4ae1-9558-2132347f47bf",
        "id": "MqM7acfCUPhh"
      },
      "outputs": [
        {
          "output_type": "stream",
          "name": "stdout",
          "text": [
            "Decision Tree with random params: {'max_depth': 4}\n",
            "10-fold CV accuracy: 0.9062 ± 0.0403\n"
          ]
        }
      ],
      "source": [
        "run_decision_tree(X, y, seed=42)\n"
      ]
    },
    {
      "cell_type": "code",
      "execution_count": null,
      "metadata": {
        "colab": {
          "base_uri": "https://localhost:8080/"
        },
        "outputId": "ed2caf19-7371-4798-8d92-2570faefd021",
        "id": "bi_SyeHjUPhh"
      },
      "outputs": [
        {
          "output_type": "stream",
          "name": "stdout",
          "text": [
            "Random Forest with random params: {'max_depth': 4, 'n_estimators': 86}\n",
            "10-fold CV accuracy: 0.9256 ± 0.0394\n"
          ]
        }
      ],
      "source": [
        "run_random_forest(X, y, seed=42)"
      ]
    },
    {
      "cell_type": "markdown",
      "source": [
        "# Task ID56: 9964"
      ],
      "metadata": {
        "id": "XykMaPm-UPuA"
      }
    },
    {
      "cell_type": "code",
      "execution_count": null,
      "metadata": {
        "colab": {
          "base_uri": "https://localhost:8080/"
        },
        "outputId": "6a1088f6-172d-4af5-e51d-b3c4a082594f",
        "id": "R0qJ6nc3UPuB"
      },
      "outputs": [
        {
          "output_type": "stream",
          "name": "stdout",
          "text": [
            "Dataset shape: (1593, 256)\n"
          ]
        }
      ],
      "source": [
        "# Load and preprocess data using OpenML Task ID\n",
        "X, y = load_preprocess_task(9964)  # Replace with an actual task ID\n"
      ]
    },
    {
      "cell_type": "code",
      "execution_count": null,
      "metadata": {
        "colab": {
          "base_uri": "https://localhost:8080/"
        },
        "outputId": "ff58808d-0499-47e8-bc01-55beac4794f4",
        "id": "Zw4IHAXLUPuB"
      },
      "outputs": [
        {
          "output_type": "stream",
          "name": "stdout",
          "text": [
            "10-fold CV accuracy: 0.9178 ± 0.0191\n"
          ]
        }
      ],
      "source": [
        "# Choose and run models with 10-fold cross-validation\n",
        "run_linear_model(X, y)"
      ]
    },
    {
      "cell_type": "code",
      "execution_count": null,
      "metadata": {
        "colab": {
          "base_uri": "https://localhost:8080/"
        },
        "outputId": "18087998-b93f-48b2-807c-b1ba3c39f0e5",
        "id": "ekYc_tH1UPuB"
      },
      "outputs": [
        {
          "output_type": "stream",
          "name": "stdout",
          "text": [
            "KNN with random params: {'n_neighbors': 15, 'knn_alg': 'ball_tree', 'leaf_size': 300}\n",
            "10-fold CV accuracy: 0.9021 ± 0.0295\n"
          ]
        }
      ],
      "source": [
        "run_knn(X, y, seed=42)\n"
      ]
    },
    {
      "cell_type": "code",
      "execution_count": null,
      "metadata": {
        "colab": {
          "base_uri": "https://localhost:8080/"
        },
        "outputId": "53d2d699-6136-413e-c69a-2f2f3bb73ac3",
        "id": "W0y0luWBUPuC"
      },
      "outputs": [
        {
          "output_type": "stream",
          "name": "stdout",
          "text": [
            "Decision Tree with random params: {'max_depth': 4}\n",
            "10-fold CV accuracy: 0.5776 ± 0.0403\n"
          ]
        }
      ],
      "source": [
        "run_decision_tree(X, y, seed=42)\n"
      ]
    },
    {
      "cell_type": "code",
      "execution_count": null,
      "metadata": {
        "colab": {
          "base_uri": "https://localhost:8080/"
        },
        "outputId": "dc87fcca-8383-47ef-bb88-30809702371e",
        "id": "xsVAFiZMUPuC"
      },
      "outputs": [
        {
          "output_type": "stream",
          "name": "stdout",
          "text": [
            "Random Forest with random params: {'max_depth': 4, 'n_estimators': 86}\n",
            "10-fold CV accuracy: 0.8173 ± 0.0345\n"
          ]
        }
      ],
      "source": [
        "run_random_forest(X, y, seed=42)"
      ]
    },
    {
      "cell_type": "markdown",
      "source": [
        "# Task ID57: 22"
      ],
      "metadata": {
        "id": "sgLsaY6mUP5o"
      }
    },
    {
      "cell_type": "code",
      "execution_count": null,
      "metadata": {
        "colab": {
          "base_uri": "https://localhost:8080/"
        },
        "outputId": "45b007b6-c3e8-4734-f9ab-e2d18a9655e0",
        "id": "xftL2aHgUP5o"
      },
      "outputs": [
        {
          "output_type": "stream",
          "name": "stdout",
          "text": [
            "Dataset shape: (2000, 47)\n"
          ]
        }
      ],
      "source": [
        "# Load and preprocess data using OpenML Task ID\n",
        "X, y = load_preprocess_task(22)  # Replace with an actual task ID\n"
      ]
    },
    {
      "cell_type": "code",
      "execution_count": null,
      "metadata": {
        "colab": {
          "base_uri": "https://localhost:8080/"
        },
        "outputId": "00c3a7ac-16ff-48ac-be46-88fd1e4364f7",
        "id": "n_s8O1EVUP5o"
      },
      "outputs": [
        {
          "output_type": "stream",
          "name": "stdout",
          "text": [
            "10-fold CV accuracy: 0.8245 ± 0.0199\n"
          ]
        }
      ],
      "source": [
        "# Choose and run models with 10-fold cross-validation\n",
        "run_linear_model(X, y)"
      ]
    },
    {
      "cell_type": "code",
      "execution_count": null,
      "metadata": {
        "colab": {
          "base_uri": "https://localhost:8080/"
        },
        "outputId": "e25c670f-df3b-43fd-c104-3f29e730a50e",
        "id": "IbgwN7KFUP5p"
      },
      "outputs": [
        {
          "output_type": "stream",
          "name": "stdout",
          "text": [
            "KNN with random params: {'n_neighbors': 15, 'knn_alg': 'ball_tree', 'leaf_size': 300}\n",
            "10-fold CV accuracy: 0.8040 ± 0.0237\n"
          ]
        }
      ],
      "source": [
        "run_knn(X, y, seed=42)\n"
      ]
    },
    {
      "cell_type": "code",
      "execution_count": null,
      "metadata": {
        "colab": {
          "base_uri": "https://localhost:8080/"
        },
        "outputId": "46d4fbb2-7e4d-4380-b472-184835520ae4",
        "id": "B2pbig5HUP5p"
      },
      "outputs": [
        {
          "output_type": "stream",
          "name": "stdout",
          "text": [
            "Decision Tree with random params: {'max_depth': 4}\n",
            "10-fold CV accuracy: 0.4935 ± 0.0535\n"
          ]
        }
      ],
      "source": [
        "run_decision_tree(X, y, seed=42)\n"
      ]
    },
    {
      "cell_type": "code",
      "execution_count": null,
      "metadata": {
        "colab": {
          "base_uri": "https://localhost:8080/"
        },
        "outputId": "ffdfedb4-ea89-4930-c079-eff1e36e0bd6",
        "id": "sFF-FUrIUP5p"
      },
      "outputs": [
        {
          "output_type": "stream",
          "name": "stdout",
          "text": [
            "Random Forest with random params: {'max_depth': 4, 'n_estimators': 86}\n",
            "10-fold CV accuracy: 0.6935 ± 0.0265\n"
          ]
        }
      ],
      "source": [
        "run_random_forest(X, y, seed=42)"
      ]
    },
    {
      "cell_type": "markdown",
      "source": [
        "# Task ID58: 2079"
      ],
      "metadata": {
        "id": "iPjBiyKOUQGo"
      }
    },
    {
      "cell_type": "code",
      "execution_count": null,
      "metadata": {
        "colab": {
          "base_uri": "https://localhost:8080/"
        },
        "outputId": "13e511b5-b490-46bd-c233-2674c2995bed",
        "id": "y6e0JqgQUQGo"
      },
      "outputs": [
        {
          "output_type": "stream",
          "name": "stdout",
          "text": [
            "Dataset shape: (736, 19)\n"
          ]
        }
      ],
      "source": [
        "# Load and preprocess data using OpenML Task ID\n",
        "X, y = load_preprocess_task(2079)  # Replace with an actual task ID\n"
      ]
    },
    {
      "cell_type": "code",
      "execution_count": null,
      "metadata": {
        "colab": {
          "base_uri": "https://localhost:8080/"
        },
        "outputId": "e1d062b4-fcc6-405b-9f14-22d988dd8065",
        "id": "j-ak376_UQGo"
      },
      "outputs": [
        {
          "output_type": "stream",
          "name": "stdout",
          "text": [
            "10-fold CV accuracy: 0.4828 ± 0.0909\n"
          ]
        }
      ],
      "source": [
        "# Choose and run models with 10-fold cross-validation\n",
        "run_linear_model(X, y)"
      ]
    },
    {
      "cell_type": "code",
      "execution_count": null,
      "metadata": {
        "colab": {
          "base_uri": "https://localhost:8080/"
        },
        "outputId": "13a5ce97-2742-475c-84af-4753be9c5526",
        "id": "EX_QRNylUQGp"
      },
      "outputs": [
        {
          "output_type": "stream",
          "name": "stdout",
          "text": [
            "KNN with random params: {'n_neighbors': 15, 'knn_alg': 'ball_tree', 'leaf_size': 300}\n",
            "10-fold CV accuracy: 0.4245 ± 0.1145\n"
          ]
        },
        {
          "output_type": "stream",
          "name": "stderr",
          "text": [
            "/usr/local/lib/python3.10/dist-packages/sklearn/neighbors/_base.py:583: UserWarning: cannot use tree with sparse input: using brute force\n",
            "  warnings.warn(\"cannot use tree with sparse input: using brute force\")\n",
            "/usr/local/lib/python3.10/dist-packages/sklearn/neighbors/_base.py:583: UserWarning: cannot use tree with sparse input: using brute force\n",
            "  warnings.warn(\"cannot use tree with sparse input: using brute force\")\n",
            "/usr/local/lib/python3.10/dist-packages/sklearn/neighbors/_base.py:583: UserWarning: cannot use tree with sparse input: using brute force\n",
            "  warnings.warn(\"cannot use tree with sparse input: using brute force\")\n",
            "/usr/local/lib/python3.10/dist-packages/sklearn/neighbors/_base.py:583: UserWarning: cannot use tree with sparse input: using brute force\n",
            "  warnings.warn(\"cannot use tree with sparse input: using brute force\")\n",
            "/usr/local/lib/python3.10/dist-packages/sklearn/neighbors/_base.py:583: UserWarning: cannot use tree with sparse input: using brute force\n",
            "  warnings.warn(\"cannot use tree with sparse input: using brute force\")\n",
            "/usr/local/lib/python3.10/dist-packages/sklearn/neighbors/_base.py:583: UserWarning: cannot use tree with sparse input: using brute force\n",
            "  warnings.warn(\"cannot use tree with sparse input: using brute force\")\n",
            "/usr/local/lib/python3.10/dist-packages/sklearn/neighbors/_base.py:583: UserWarning: cannot use tree with sparse input: using brute force\n",
            "  warnings.warn(\"cannot use tree with sparse input: using brute force\")\n",
            "/usr/local/lib/python3.10/dist-packages/sklearn/neighbors/_base.py:583: UserWarning: cannot use tree with sparse input: using brute force\n",
            "  warnings.warn(\"cannot use tree with sparse input: using brute force\")\n",
            "/usr/local/lib/python3.10/dist-packages/sklearn/neighbors/_base.py:583: UserWarning: cannot use tree with sparse input: using brute force\n",
            "  warnings.warn(\"cannot use tree with sparse input: using brute force\")\n",
            "/usr/local/lib/python3.10/dist-packages/sklearn/neighbors/_base.py:583: UserWarning: cannot use tree with sparse input: using brute force\n",
            "  warnings.warn(\"cannot use tree with sparse input: using brute force\")\n"
          ]
        }
      ],
      "source": [
        "run_knn(X, y, seed=42)\n"
      ]
    },
    {
      "cell_type": "code",
      "execution_count": null,
      "metadata": {
        "colab": {
          "base_uri": "https://localhost:8080/"
        },
        "outputId": "2001d065-1cbf-4dba-93f9-868fe31d0fa3",
        "id": "CppY-gm5UQGp"
      },
      "outputs": [
        {
          "output_type": "stream",
          "name": "stdout",
          "text": [
            "Decision Tree with random params: {'max_depth': 4}\n",
            "10-fold CV accuracy: 0.5655 ± 0.0622\n"
          ]
        }
      ],
      "source": [
        "run_decision_tree(X, y, seed=42)\n"
      ]
    },
    {
      "cell_type": "code",
      "execution_count": null,
      "metadata": {
        "colab": {
          "base_uri": "https://localhost:8080/"
        },
        "outputId": "90b99b26-8b93-419a-c9ee-9508c99879f5",
        "id": "Xah1yGttUQGp"
      },
      "outputs": [
        {
          "output_type": "stream",
          "name": "stdout",
          "text": [
            "Random Forest with random params: {'max_depth': 4, 'n_estimators': 86}\n",
            "10-fold CV accuracy: 0.4557 ± 0.0925\n"
          ]
        }
      ],
      "source": [
        "run_random_forest(X, y, seed=42)"
      ]
    },
    {
      "cell_type": "markdown",
      "source": [
        "# Task ID59: 14969"
      ],
      "metadata": {
        "id": "DCBskzEeUQTb"
      }
    },
    {
      "cell_type": "code",
      "execution_count": null,
      "metadata": {
        "colab": {
          "base_uri": "https://localhost:8080/"
        },
        "outputId": "3cd47a77-c0be-4ad2-a642-c7b2b3ed3697",
        "id": "ENN7Xyj3UQTc"
      },
      "outputs": [
        {
          "output_type": "stream",
          "name": "stdout",
          "text": [
            "Dataset shape: (9873, 32)\n"
          ]
        }
      ],
      "source": [
        "# Load and preprocess data using OpenML Task ID\n",
        "X, y = load_preprocess_task(14969)  # Replace with an actual task ID\n"
      ]
    },
    {
      "cell_type": "code",
      "execution_count": null,
      "metadata": {
        "colab": {
          "base_uri": "https://localhost:8080/"
        },
        "outputId": "2e6a9a4f-98ac-4fe9-9d7f-a36125eafa2f",
        "id": "7rNTeMXDUQTc"
      },
      "outputs": [
        {
          "output_type": "stream",
          "name": "stdout",
          "text": [
            "10-fold CV accuracy: 0.4598 ± 0.0498\n"
          ]
        }
      ],
      "source": [
        "# Choose and run models with 10-fold cross-validation\n",
        "run_linear_model(X, y)"
      ]
    },
    {
      "cell_type": "code",
      "execution_count": null,
      "metadata": {
        "colab": {
          "base_uri": "https://localhost:8080/"
        },
        "outputId": "74ee8645-d8ee-47c2-e464-be89cb7c947e",
        "id": "RGViU4B_UQTc"
      },
      "outputs": [
        {
          "output_type": "stream",
          "name": "stdout",
          "text": [
            "KNN with random params: {'n_neighbors': 15, 'knn_alg': 'ball_tree', 'leaf_size': 300}\n",
            "10-fold CV accuracy: 0.4234 ± 0.0623\n"
          ]
        }
      ],
      "source": [
        "run_knn(X, y, seed=42)\n"
      ]
    },
    {
      "cell_type": "code",
      "execution_count": null,
      "metadata": {
        "colab": {
          "base_uri": "https://localhost:8080/"
        },
        "outputId": "39436fba-f253-4802-b87a-3e3cc21bfcf3",
        "id": "WCHGfmyNUQTc"
      },
      "outputs": [
        {
          "output_type": "stream",
          "name": "stdout",
          "text": [
            "Decision Tree with random params: {'max_depth': 4}\n",
            "10-fold CV accuracy: 0.4444 ± 0.0496\n"
          ]
        }
      ],
      "source": [
        "run_decision_tree(X, y, seed=42)\n"
      ]
    },
    {
      "cell_type": "code",
      "execution_count": null,
      "metadata": {
        "colab": {
          "base_uri": "https://localhost:8080/"
        },
        "outputId": "b7a308e5-89b8-4606-ac08-2bcd8c920576",
        "id": "lnAQanxWUQTd"
      },
      "outputs": [
        {
          "output_type": "stream",
          "name": "stdout",
          "text": [
            "Random Forest with random params: {'max_depth': 4, 'n_estimators': 86}\n",
            "10-fold CV accuracy: 0.4620 ± 0.0466\n"
          ]
        }
      ],
      "source": [
        "run_random_forest(X, y, seed=42)"
      ]
    },
    {
      "cell_type": "markdown",
      "source": [
        "# Task ID60: 3560"
      ],
      "metadata": {
        "id": "3scdUqaAUQfh"
      }
    },
    {
      "cell_type": "code",
      "execution_count": null,
      "metadata": {
        "colab": {
          "base_uri": "https://localhost:8080/"
        },
        "outputId": "7376361e-af75-46b1-f483-2fdab1ac3536",
        "id": "xzD4eIsYUQfh"
      },
      "outputs": [
        {
          "output_type": "stream",
          "name": "stdout",
          "text": [
            "Dataset shape: (797, 4)\n"
          ]
        }
      ],
      "source": [
        "# Load and preprocess data using OpenML Task ID\n",
        "X, y = load_preprocess_task(3560)  # Replace with an actual task ID\n"
      ]
    },
    {
      "cell_type": "code",
      "execution_count": null,
      "metadata": {
        "colab": {
          "base_uri": "https://localhost:8080/"
        },
        "outputId": "f55b72fb-f08b-4955-9a11-b09d03bc6e5e",
        "id": "svq9woTQUQfh"
      },
      "outputs": [
        {
          "output_type": "stream",
          "name": "stdout",
          "text": [
            "10-fold CV accuracy: 0.2034 ± 0.0436\n"
          ]
        }
      ],
      "source": [
        "# Choose and run models with 10-fold cross-validation\n",
        "run_linear_model(X, y)"
      ]
    },
    {
      "cell_type": "code",
      "execution_count": null,
      "metadata": {
        "colab": {
          "base_uri": "https://localhost:8080/"
        },
        "outputId": "fe47b20a-835c-4500-d62f-5a76d2370eef",
        "id": "ihcmL5SWUQfi"
      },
      "outputs": [
        {
          "output_type": "stream",
          "name": "stdout",
          "text": [
            "KNN with random params: {'n_neighbors': 15, 'knn_alg': 'ball_tree', 'leaf_size': 300}\n",
            "10-fold CV accuracy: 0.1895 ± 0.0194\n"
          ]
        },
        {
          "output_type": "stream",
          "name": "stderr",
          "text": [
            "/usr/local/lib/python3.10/dist-packages/sklearn/neighbors/_base.py:583: UserWarning: cannot use tree with sparse input: using brute force\n",
            "  warnings.warn(\"cannot use tree with sparse input: using brute force\")\n",
            "/usr/local/lib/python3.10/dist-packages/sklearn/neighbors/_base.py:583: UserWarning: cannot use tree with sparse input: using brute force\n",
            "  warnings.warn(\"cannot use tree with sparse input: using brute force\")\n",
            "/usr/local/lib/python3.10/dist-packages/sklearn/neighbors/_base.py:583: UserWarning: cannot use tree with sparse input: using brute force\n",
            "  warnings.warn(\"cannot use tree with sparse input: using brute force\")\n",
            "/usr/local/lib/python3.10/dist-packages/sklearn/neighbors/_base.py:583: UserWarning: cannot use tree with sparse input: using brute force\n",
            "  warnings.warn(\"cannot use tree with sparse input: using brute force\")\n",
            "/usr/local/lib/python3.10/dist-packages/sklearn/neighbors/_base.py:583: UserWarning: cannot use tree with sparse input: using brute force\n",
            "  warnings.warn(\"cannot use tree with sparse input: using brute force\")\n",
            "/usr/local/lib/python3.10/dist-packages/sklearn/neighbors/_base.py:583: UserWarning: cannot use tree with sparse input: using brute force\n",
            "  warnings.warn(\"cannot use tree with sparse input: using brute force\")\n",
            "/usr/local/lib/python3.10/dist-packages/sklearn/neighbors/_base.py:583: UserWarning: cannot use tree with sparse input: using brute force\n",
            "  warnings.warn(\"cannot use tree with sparse input: using brute force\")\n",
            "/usr/local/lib/python3.10/dist-packages/sklearn/neighbors/_base.py:583: UserWarning: cannot use tree with sparse input: using brute force\n",
            "  warnings.warn(\"cannot use tree with sparse input: using brute force\")\n",
            "/usr/local/lib/python3.10/dist-packages/sklearn/neighbors/_base.py:583: UserWarning: cannot use tree with sparse input: using brute force\n",
            "  warnings.warn(\"cannot use tree with sparse input: using brute force\")\n",
            "/usr/local/lib/python3.10/dist-packages/sklearn/neighbors/_base.py:583: UserWarning: cannot use tree with sparse input: using brute force\n",
            "  warnings.warn(\"cannot use tree with sparse input: using brute force\")\n"
          ]
        }
      ],
      "source": [
        "run_knn(X, y, seed=42)\n"
      ]
    },
    {
      "cell_type": "code",
      "execution_count": null,
      "metadata": {
        "colab": {
          "base_uri": "https://localhost:8080/"
        },
        "outputId": "f5d70fd3-3c9e-4fff-9308-4a88b2a56ac2",
        "id": "XKezc-ojUQfi"
      },
      "outputs": [
        {
          "output_type": "stream",
          "name": "stdout",
          "text": [
            "Decision Tree with random params: {'max_depth': 4}\n",
            "10-fold CV accuracy: 0.1969 ± 0.0485\n"
          ]
        }
      ],
      "source": [
        "run_decision_tree(X, y, seed=42)\n"
      ]
    },
    {
      "cell_type": "code",
      "execution_count": null,
      "metadata": {
        "colab": {
          "base_uri": "https://localhost:8080/"
        },
        "outputId": "0b48413f-8823-46dc-9bb4-9620b34ff182",
        "id": "SGzQCDA9UQfi"
      },
      "outputs": [
        {
          "output_type": "stream",
          "name": "stdout",
          "text": [
            "Random Forest with random params: {'max_depth': 4, 'n_estimators': 86}\n",
            "10-fold CV accuracy: 0.1997 ± 0.0395\n"
          ]
        }
      ],
      "source": [
        "run_random_forest(X, y, seed=42)"
      ]
    },
    {
      "cell_type": "markdown",
      "source": [
        "# Task ID61: 14952"
      ],
      "metadata": {
        "id": "cyp2ScRKUQtY"
      }
    },
    {
      "cell_type": "code",
      "execution_count": null,
      "metadata": {
        "colab": {
          "base_uri": "https://localhost:8080/"
        },
        "outputId": "43adb4f4-01f0-4806-dbf2-ac49a6931ceb",
        "id": "sP66dD9aUQtY"
      },
      "outputs": [
        {
          "output_type": "stream",
          "name": "stdout",
          "text": [
            "Dataset shape: (11055, 30)\n"
          ]
        }
      ],
      "source": [
        "# Load and preprocess data using OpenML Task ID\n",
        "X, y = load_preprocess_task(14952)  # Replace with an actual task ID\n"
      ]
    },
    {
      "cell_type": "code",
      "execution_count": null,
      "metadata": {
        "colab": {
          "base_uri": "https://localhost:8080/"
        },
        "outputId": "5faa7ace-63ef-4b1b-91f6-bfe8b5396997",
        "id": "rURKT_31UQtY"
      },
      "outputs": [
        {
          "output_type": "stream",
          "name": "stdout",
          "text": [
            "10-fold CV accuracy: 0.9372 ± 0.0068\n"
          ]
        }
      ],
      "source": [
        "# Choose and run models with 10-fold cross-validation\n",
        "run_linear_model(X, y)"
      ]
    },
    {
      "cell_type": "code",
      "execution_count": null,
      "metadata": {
        "colab": {
          "base_uri": "https://localhost:8080/"
        },
        "outputId": "11ec729c-6bdf-4942-ba74-f2dce6df2537",
        "id": "Hld-mJFtUQtZ"
      },
      "outputs": [
        {
          "output_type": "stream",
          "name": "stdout",
          "text": [
            "KNN with random params: {'n_neighbors': 15, 'knn_alg': 'ball_tree', 'leaf_size': 300}\n",
            "10-fold CV accuracy: 0.9438 ± 0.0119\n"
          ]
        }
      ],
      "source": [
        "run_knn(X, y, seed=42)\n"
      ]
    },
    {
      "cell_type": "code",
      "execution_count": null,
      "metadata": {
        "colab": {
          "base_uri": "https://localhost:8080/"
        },
        "outputId": "d7582c39-d9df-4808-fe07-b3f3056981c8",
        "id": "XnxI6DfgUQtZ"
      },
      "outputs": [
        {
          "output_type": "stream",
          "name": "stdout",
          "text": [
            "Decision Tree with random params: {'max_depth': 4}\n",
            "10-fold CV accuracy: 0.9174 ± 0.0077\n"
          ]
        }
      ],
      "source": [
        "run_decision_tree(X, y, seed=42)\n"
      ]
    },
    {
      "cell_type": "code",
      "execution_count": null,
      "metadata": {
        "colab": {
          "base_uri": "https://localhost:8080/"
        },
        "outputId": "c174775d-232e-4015-96c1-1fc2124921b0",
        "id": "UACEMX0qUQtZ"
      },
      "outputs": [
        {
          "output_type": "stream",
          "name": "stdout",
          "text": [
            "Random Forest with random params: {'max_depth': 4, 'n_estimators': 86}\n",
            "10-fold CV accuracy: 0.9233 ± 0.0099\n"
          ]
        }
      ],
      "source": [
        "run_random_forest(X, y, seed=42)"
      ]
    },
    {
      "cell_type": "markdown",
      "source": [
        "# Task ID62: 125920"
      ],
      "metadata": {
        "id": "wmm8YmtYdYqs"
      }
    },
    {
      "cell_type": "code",
      "execution_count": null,
      "metadata": {
        "colab": {
          "base_uri": "https://localhost:8080/"
        },
        "outputId": "ef419e35-a41b-45b7-9b1c-db2b39d04b67",
        "id": "Y19KhC5LdYqs"
      },
      "outputs": [
        {
          "output_type": "stream",
          "name": "stdout",
          "text": [
            "Dataset shape: (500, 12)\n"
          ]
        }
      ],
      "source": [
        "# Load and preprocess data using OpenML Task ID\n",
        "X, y = load_preprocess_task(125920)  # Replace with an actual task ID\n"
      ]
    },
    {
      "cell_type": "code",
      "execution_count": null,
      "metadata": {
        "colab": {
          "base_uri": "https://localhost:8080/"
        },
        "outputId": "76edf004-56fe-40f6-8a5f-cc689bc56bf5",
        "id": "H_AeNQhkdYqt"
      },
      "outputs": [
        {
          "output_type": "stream",
          "name": "stdout",
          "text": [
            "10-fold CV accuracy: 0.6060 ± 0.0664\n"
          ]
        }
      ],
      "source": [
        "# Choose and run models with 10-fold cross-validation\n",
        "run_linear_model(X, y)"
      ]
    },
    {
      "cell_type": "code",
      "execution_count": null,
      "metadata": {
        "colab": {
          "base_uri": "https://localhost:8080/"
        },
        "outputId": "352539db-02ec-44f3-be6e-1273c4ab4e78",
        "id": "MDKek7WjdYqt"
      },
      "outputs": [
        {
          "output_type": "stream",
          "name": "stdout",
          "text": [
            "KNN with random params: {'n_neighbors': 15, 'knn_alg': 'ball_tree', 'leaf_size': 300}\n",
            "10-fold CV accuracy: 0.5900 ± 0.0694\n"
          ]
        },
        {
          "output_type": "stream",
          "name": "stderr",
          "text": [
            "/usr/local/lib/python3.10/dist-packages/sklearn/neighbors/_base.py:583: UserWarning: cannot use tree with sparse input: using brute force\n",
            "  warnings.warn(\"cannot use tree with sparse input: using brute force\")\n",
            "/usr/local/lib/python3.10/dist-packages/sklearn/neighbors/_base.py:583: UserWarning: cannot use tree with sparse input: using brute force\n",
            "  warnings.warn(\"cannot use tree with sparse input: using brute force\")\n",
            "/usr/local/lib/python3.10/dist-packages/sklearn/neighbors/_base.py:583: UserWarning: cannot use tree with sparse input: using brute force\n",
            "  warnings.warn(\"cannot use tree with sparse input: using brute force\")\n",
            "/usr/local/lib/python3.10/dist-packages/sklearn/neighbors/_base.py:583: UserWarning: cannot use tree with sparse input: using brute force\n",
            "  warnings.warn(\"cannot use tree with sparse input: using brute force\")\n",
            "/usr/local/lib/python3.10/dist-packages/sklearn/neighbors/_base.py:583: UserWarning: cannot use tree with sparse input: using brute force\n",
            "  warnings.warn(\"cannot use tree with sparse input: using brute force\")\n",
            "/usr/local/lib/python3.10/dist-packages/sklearn/neighbors/_base.py:583: UserWarning: cannot use tree with sparse input: using brute force\n",
            "  warnings.warn(\"cannot use tree with sparse input: using brute force\")\n",
            "/usr/local/lib/python3.10/dist-packages/sklearn/neighbors/_base.py:583: UserWarning: cannot use tree with sparse input: using brute force\n",
            "  warnings.warn(\"cannot use tree with sparse input: using brute force\")\n",
            "/usr/local/lib/python3.10/dist-packages/sklearn/neighbors/_base.py:583: UserWarning: cannot use tree with sparse input: using brute force\n",
            "  warnings.warn(\"cannot use tree with sparse input: using brute force\")\n",
            "/usr/local/lib/python3.10/dist-packages/sklearn/neighbors/_base.py:583: UserWarning: cannot use tree with sparse input: using brute force\n",
            "  warnings.warn(\"cannot use tree with sparse input: using brute force\")\n",
            "/usr/local/lib/python3.10/dist-packages/sklearn/neighbors/_base.py:583: UserWarning: cannot use tree with sparse input: using brute force\n",
            "  warnings.warn(\"cannot use tree with sparse input: using brute force\")\n"
          ]
        }
      ],
      "source": [
        "run_knn(X, y, seed=42)\n"
      ]
    },
    {
      "cell_type": "code",
      "execution_count": null,
      "metadata": {
        "colab": {
          "base_uri": "https://localhost:8080/"
        },
        "outputId": "7dea6b19-4d34-4445-9d22-cc9bbb84397b",
        "id": "2QpJ6l9xdYqu"
      },
      "outputs": [
        {
          "output_type": "stream",
          "name": "stdout",
          "text": [
            "Decision Tree with random params: {'max_depth': 4}\n",
            "10-fold CV accuracy: 0.5840 ± 0.0578\n"
          ]
        }
      ],
      "source": [
        "run_decision_tree(X, y, seed=42)\n"
      ]
    },
    {
      "cell_type": "code",
      "execution_count": null,
      "metadata": {
        "colab": {
          "base_uri": "https://localhost:8080/"
        },
        "outputId": "d2685c0b-40f7-4788-ad9d-e9cd64a4448b",
        "id": "5-6JXzQtdYqu"
      },
      "outputs": [
        {
          "output_type": "stream",
          "name": "stdout",
          "text": [
            "Random Forest with random params: {'max_depth': 4, 'n_estimators': 86}\n",
            "10-fold CV accuracy: 0.6120 ± 0.0421\n"
          ]
        }
      ],
      "source": [
        "run_random_forest(X, y, seed=42)"
      ]
    },
    {
      "cell_type": "markdown",
      "source": [
        "# Task ID63: 23"
      ],
      "metadata": {
        "id": "OOeFMqFydZr3"
      }
    },
    {
      "cell_type": "code",
      "execution_count": null,
      "metadata": {
        "colab": {
          "base_uri": "https://localhost:8080/"
        },
        "outputId": "3d98d861-be52-487f-ec59-90dc4acae25b",
        "id": "D7dc8ePKdZr3"
      },
      "outputs": [
        {
          "output_type": "stream",
          "name": "stdout",
          "text": [
            "Dataset shape: (1473, 9)\n"
          ]
        }
      ],
      "source": [
        "# Load and preprocess data using OpenML Task ID\n",
        "X, y = load_preprocess_task(23)  # Replace with an actual task ID\n"
      ]
    },
    {
      "cell_type": "code",
      "execution_count": null,
      "metadata": {
        "colab": {
          "base_uri": "https://localhost:8080/"
        },
        "outputId": "ef957195-ba1e-4e6b-f85b-065af46eecc1",
        "id": "XgwIbMNCdZr3"
      },
      "outputs": [
        {
          "output_type": "stream",
          "name": "stdout",
          "text": [
            "10-fold CV accuracy: 0.5098 ± 0.0369\n"
          ]
        }
      ],
      "source": [
        "# Choose and run models with 10-fold cross-validation\n",
        "run_linear_model(X, y)"
      ]
    },
    {
      "cell_type": "code",
      "execution_count": null,
      "metadata": {
        "colab": {
          "base_uri": "https://localhost:8080/"
        },
        "outputId": "95c6210e-ed1c-41f0-98bc-b885af01da25",
        "id": "it6jMgoydZr3"
      },
      "outputs": [
        {
          "output_type": "stream",
          "name": "stdout",
          "text": [
            "KNN with random params: {'n_neighbors': 15, 'knn_alg': 'ball_tree', 'leaf_size': 300}\n",
            "10-fold CV accuracy: 0.5153 ± 0.0181\n"
          ]
        }
      ],
      "source": [
        "run_knn(X, y, seed=42)\n"
      ]
    },
    {
      "cell_type": "code",
      "execution_count": null,
      "metadata": {
        "colab": {
          "base_uri": "https://localhost:8080/"
        },
        "outputId": "6dd1d9ea-a4d5-4717-c916-87c9aee14404",
        "id": "Rxok3cKLdZr4"
      },
      "outputs": [
        {
          "output_type": "stream",
          "name": "stdout",
          "text": [
            "Decision Tree with random params: {'max_depth': 4}\n",
            "10-fold CV accuracy: 0.5520 ± 0.0307\n"
          ]
        }
      ],
      "source": [
        "run_decision_tree(X, y, seed=42)\n"
      ]
    },
    {
      "cell_type": "code",
      "execution_count": null,
      "metadata": {
        "colab": {
          "base_uri": "https://localhost:8080/"
        },
        "outputId": "46747753-466e-4a37-fad4-95f6e3a5ab84",
        "id": "p8JHz6TDdZr4"
      },
      "outputs": [
        {
          "output_type": "stream",
          "name": "stdout",
          "text": [
            "Random Forest with random params: {'max_depth': 4, 'n_estimators': 86}\n",
            "10-fold CV accuracy: 0.5268 ± 0.0260\n"
          ]
        }
      ],
      "source": [
        "run_random_forest(X, y, seed=42)"
      ]
    },
    {
      "cell_type": "markdown",
      "source": [
        "# Task ID64: 3904"
      ],
      "metadata": {
        "id": "j0ZiCc7_dZ5N"
      }
    },
    {
      "cell_type": "code",
      "execution_count": null,
      "metadata": {
        "colab": {
          "base_uri": "https://localhost:8080/"
        },
        "outputId": "7af1e22d-c16a-4d13-d493-d013e2404a97",
        "id": "4LPIV1WHdZ5O"
      },
      "outputs": [
        {
          "output_type": "stream",
          "name": "stdout",
          "text": [
            "Dataset shape: (10885, 21)\n"
          ]
        }
      ],
      "source": [
        "# Load and preprocess data using OpenML Task ID\n",
        "X, y = load_preprocess_task(3904)  # Replace with an actual task ID\n"
      ]
    },
    {
      "cell_type": "code",
      "execution_count": null,
      "metadata": {
        "colab": {
          "base_uri": "https://localhost:8080/"
        },
        "outputId": "bd8171bc-0fca-4a26-9583-ffb3746979e9",
        "id": "yfA6zAL8dZ5O"
      },
      "outputs": [
        {
          "output_type": "stream",
          "name": "stdout",
          "text": [
            "10-fold CV accuracy: 0.8100 ± 0.0211\n"
          ]
        }
      ],
      "source": [
        "# Choose and run models with 10-fold cross-validation\n",
        "run_linear_model(X, y)"
      ]
    },
    {
      "cell_type": "code",
      "execution_count": null,
      "metadata": {
        "colab": {
          "base_uri": "https://localhost:8080/"
        },
        "outputId": "64523e6e-76a8-4e6b-bf72-0af47e523247",
        "id": "bZoz65-zdZ5O"
      },
      "outputs": [
        {
          "output_type": "stream",
          "name": "stdout",
          "text": [
            "KNN with random params: {'n_neighbors': 15, 'knn_alg': 'ball_tree', 'leaf_size': 300}\n",
            "10-fold CV accuracy: 0.7984 ± 0.0167\n"
          ]
        }
      ],
      "source": [
        "run_knn(X, y, seed=42)\n"
      ]
    },
    {
      "cell_type": "code",
      "execution_count": null,
      "metadata": {
        "colab": {
          "base_uri": "https://localhost:8080/"
        },
        "outputId": "2ddc11d5-dfe3-48b2-c5c4-1b3050faaae5",
        "id": "LJW-v28WdZ5P"
      },
      "outputs": [
        {
          "output_type": "stream",
          "name": "stdout",
          "text": [
            "Decision Tree with random params: {'max_depth': 4}\n",
            "10-fold CV accuracy: 0.7962 ± 0.0164\n"
          ]
        }
      ],
      "source": [
        "run_decision_tree(X, y, seed=42)\n"
      ]
    },
    {
      "cell_type": "code",
      "execution_count": null,
      "metadata": {
        "colab": {
          "base_uri": "https://localhost:8080/"
        },
        "outputId": "e7213869-8fff-4164-a100-abf5971005b5",
        "id": "htil_oQBdZ5P"
      },
      "outputs": [
        {
          "output_type": "stream",
          "name": "stdout",
          "text": [
            "Random Forest with random params: {'max_depth': 4, 'n_estimators': 86}\n",
            "10-fold CV accuracy: 0.8084 ± 0.0126\n"
          ]
        }
      ],
      "source": [
        "run_random_forest(X, y, seed=42)"
      ]
    },
    {
      "cell_type": "markdown",
      "source": [
        "# Task ID65: 3022"
      ],
      "metadata": {
        "id": "JgmWq_NbdaFn"
      }
    },
    {
      "cell_type": "code",
      "execution_count": null,
      "metadata": {
        "colab": {
          "base_uri": "https://localhost:8080/"
        },
        "outputId": "7e2404a5-440f-4e1c-b607-c2d58a16ae85",
        "id": "mKRq8_F3daFn"
      },
      "outputs": [
        {
          "output_type": "stream",
          "name": "stdout",
          "text": [
            "Dataset shape: (990, 12)\n"
          ]
        }
      ],
      "source": [
        "# Load and preprocess data using OpenML Task ID\n",
        "X, y = load_preprocess_task(3022)  # Replace with an actual task ID\n"
      ]
    },
    {
      "cell_type": "code",
      "execution_count": null,
      "metadata": {
        "colab": {
          "base_uri": "https://localhost:8080/"
        },
        "outputId": "c46a4f83-6fa7-406a-d16f-885c3374e43f",
        "id": "AavhMTPodaFo"
      },
      "outputs": [
        {
          "output_type": "stream",
          "name": "stdout",
          "text": [
            "10-fold CV accuracy: 0.5495 ± 0.0663\n"
          ]
        }
      ],
      "source": [
        "# Choose and run models with 10-fold cross-validation\n",
        "run_linear_model(X, y)"
      ]
    },
    {
      "cell_type": "code",
      "execution_count": null,
      "metadata": {
        "colab": {
          "base_uri": "https://localhost:8080/"
        },
        "outputId": "28c6407f-91b1-4007-a5d2-70add76bf7e9",
        "id": "dEA_g3yFdaFo"
      },
      "outputs": [
        {
          "output_type": "stream",
          "name": "stdout",
          "text": [
            "KNN with random params: {'n_neighbors': 15, 'knn_alg': 'ball_tree', 'leaf_size': 300}\n",
            "10-fold CV accuracy: 0.6071 ± 0.0481\n"
          ]
        }
      ],
      "source": [
        "run_knn(X, y, seed=42)\n"
      ]
    },
    {
      "cell_type": "code",
      "execution_count": null,
      "metadata": {
        "colab": {
          "base_uri": "https://localhost:8080/"
        },
        "outputId": "c7a65b56-6e0b-4989-e389-b0b0cfb2cd77",
        "id": "eQmgXt63daFo"
      },
      "outputs": [
        {
          "output_type": "stream",
          "name": "stdout",
          "text": [
            "Decision Tree with random params: {'max_depth': 4}\n",
            "10-fold CV accuracy: 0.4222 ± 0.0952\n"
          ]
        }
      ],
      "source": [
        "run_decision_tree(X, y, seed=42)\n"
      ]
    },
    {
      "cell_type": "code",
      "execution_count": null,
      "metadata": {
        "colab": {
          "base_uri": "https://localhost:8080/"
        },
        "outputId": "64d7ad0e-09da-4b65-c6f0-f72810489522",
        "id": "Sb7IqJOIdaFo"
      },
      "outputs": [
        {
          "output_type": "stream",
          "name": "stdout",
          "text": [
            "Random Forest with random params: {'max_depth': 4, 'n_estimators': 86}\n",
            "10-fold CV accuracy: 0.5808 ± 0.0713\n"
          ]
        }
      ],
      "source": [
        "run_random_forest(X, y, seed=42)"
      ]
    },
    {
      "cell_type": "markdown",
      "source": [
        "# Task ID66: 9985"
      ],
      "metadata": {
        "id": "k1saJ1SSdaTj"
      }
    },
    {
      "cell_type": "code",
      "execution_count": null,
      "metadata": {
        "colab": {
          "base_uri": "https://localhost:8080/"
        },
        "outputId": "0259e80b-b273-4d21-9402-02b17718077f",
        "id": "JYN-CbMYdaTk"
      },
      "outputs": [
        {
          "output_type": "stream",
          "name": "stdout",
          "text": [
            "Dataset shape: (6118, 51)\n"
          ]
        }
      ],
      "source": [
        "# Load and preprocess data using OpenML Task ID\n",
        "X, y = load_preprocess_task(9985)  # Replace with an actual task ID\n"
      ]
    },
    {
      "cell_type": "code",
      "execution_count": null,
      "metadata": {
        "colab": {
          "base_uri": "https://localhost:8080/"
        },
        "outputId": "e72002a4-7955-4d31-b710-a10001328ff9",
        "id": "PzZdmE2MdaTk"
      },
      "outputs": [
        {
          "output_type": "stream",
          "name": "stdout",
          "text": [
            "10-fold CV accuracy: 0.4580 ± 0.0622\n"
          ]
        }
      ],
      "source": [
        "# Choose and run models with 10-fold cross-validation\n",
        "run_linear_model(X, y)"
      ]
    },
    {
      "cell_type": "code",
      "execution_count": null,
      "metadata": {
        "colab": {
          "base_uri": "https://localhost:8080/"
        },
        "outputId": "abc2eb17-11f9-4d68-c6c4-3360733c5672",
        "id": "ok9DoeZvdaTl"
      },
      "outputs": [
        {
          "output_type": "stream",
          "name": "stdout",
          "text": [
            "KNN with random params: {'n_neighbors': 15, 'knn_alg': 'ball_tree', 'leaf_size': 300}\n",
            "10-fold CV accuracy: 0.5031 ± 0.0568\n"
          ]
        }
      ],
      "source": [
        "run_knn(X, y, seed=42)\n"
      ]
    },
    {
      "cell_type": "code",
      "execution_count": null,
      "metadata": {
        "colab": {
          "base_uri": "https://localhost:8080/"
        },
        "outputId": "45a3b7ff-abe5-48e7-8e7d-a914f5b2d800",
        "id": "NFiWjeqvdaTl"
      },
      "outputs": [
        {
          "output_type": "stream",
          "name": "stdout",
          "text": [
            "Decision Tree with random params: {'max_depth': 4}\n",
            "10-fold CV accuracy: 0.4333 ± 0.0421\n"
          ]
        }
      ],
      "source": [
        "run_decision_tree(X, y, seed=42)\n"
      ]
    },
    {
      "cell_type": "code",
      "execution_count": null,
      "metadata": {
        "colab": {
          "base_uri": "https://localhost:8080/"
        },
        "outputId": "dc15e773-902e-4fb5-f5d5-d124a568471f",
        "id": "OLQclOfpdaTl"
      },
      "outputs": [
        {
          "output_type": "stream",
          "name": "stdout",
          "text": [
            "Random Forest with random params: {'max_depth': 4, 'n_estimators': 86}\n",
            "10-fold CV accuracy: 0.4706 ± 0.0492\n"
          ]
        }
      ],
      "source": [
        "run_random_forest(X, y, seed=42)"
      ]
    },
    {
      "cell_type": "markdown",
      "source": [
        "# Task ID67: 9910"
      ],
      "metadata": {
        "id": "NmZiZ5TQdagj"
      }
    },
    {
      "cell_type": "code",
      "execution_count": null,
      "metadata": {
        "colab": {
          "base_uri": "https://localhost:8080/"
        },
        "outputId": "6153cd6a-1815-49d1-e6fc-3582ad4056aa",
        "id": "rT2WDeXkdagj"
      },
      "outputs": [
        {
          "output_type": "stream",
          "name": "stdout",
          "text": [
            "Dataset shape: (3751, 1776)\n"
          ]
        }
      ],
      "source": [
        "# Load and preprocess data using OpenML Task ID\n",
        "X, y = load_preprocess_task(9910)  # Replace with an actual task ID\n"
      ]
    },
    {
      "cell_type": "code",
      "execution_count": null,
      "metadata": {
        "colab": {
          "base_uri": "https://localhost:8080/"
        },
        "outputId": "9a7501c8-e0c9-46a5-d314-3b8462b7ceec",
        "id": "O2xzH3EDdagj"
      },
      "outputs": [
        {
          "output_type": "stream",
          "name": "stdout",
          "text": [
            "10-fold CV accuracy: 0.7337 ± 0.0228\n"
          ]
        }
      ],
      "source": [
        "# Choose and run models with 10-fold cross-validation\n",
        "run_linear_model(X, y)"
      ]
    },
    {
      "cell_type": "code",
      "execution_count": null,
      "metadata": {
        "colab": {
          "base_uri": "https://localhost:8080/"
        },
        "outputId": "104a349c-a461-4458-cb6e-642fb0231b19",
        "id": "blxUpW6kdagj"
      },
      "outputs": [
        {
          "output_type": "stream",
          "name": "stdout",
          "text": [
            "KNN with random params: {'n_neighbors': 15, 'knn_alg': 'ball_tree', 'leaf_size': 300}\n",
            "10-fold CV accuracy: 0.7438 ± 0.0349\n"
          ]
        }
      ],
      "source": [
        "run_knn(X, y, seed=42)\n"
      ]
    },
    {
      "cell_type": "code",
      "execution_count": null,
      "metadata": {
        "colab": {
          "base_uri": "https://localhost:8080/"
        },
        "outputId": "e743ee9c-b2fd-4547-cb58-5401dd2fed4e",
        "id": "81mJSqqOdagk"
      },
      "outputs": [
        {
          "output_type": "stream",
          "name": "stdout",
          "text": [
            "Decision Tree with random params: {'max_depth': 4}\n",
            "10-fold CV accuracy: 0.7643 ± 0.0167\n"
          ]
        }
      ],
      "source": [
        "run_decision_tree(X, y, seed=42)\n"
      ]
    },
    {
      "cell_type": "code",
      "execution_count": null,
      "metadata": {
        "colab": {
          "base_uri": "https://localhost:8080/"
        },
        "outputId": "fed13358-bb4a-43bd-e82a-4718c22ce3c6",
        "id": "2gskN_UJdagk"
      },
      "outputs": [
        {
          "output_type": "stream",
          "name": "stdout",
          "text": [
            "Random Forest with random params: {'max_depth': 4, 'n_estimators': 86}\n",
            "10-fold CV accuracy: 0.7254 ± 0.0181\n"
          ]
        }
      ],
      "source": [
        "run_random_forest(X, y, seed=42)"
      ]
    },
    {
      "cell_type": "markdown",
      "source": [
        "# Task ID68: 14970"
      ],
      "metadata": {
        "id": "hbFnAU79das-"
      }
    },
    {
      "cell_type": "code",
      "execution_count": null,
      "metadata": {
        "colab": {
          "base_uri": "https://localhost:8080/"
        },
        "outputId": "1cd683f7-8bc8-4d98-ea75-f7a94cfe6a0d",
        "id": "gQB-rgNLdas_"
      },
      "outputs": [
        {
          "output_type": "stream",
          "name": "stdout",
          "text": [
            "Dataset shape: (10299, 561)\n"
          ]
        }
      ],
      "source": [
        "# Load and preprocess data using OpenML Task ID\n",
        "X, y = load_preprocess_task(14970)  # Replace with an actual task ID\n"
      ]
    },
    {
      "cell_type": "code",
      "execution_count": null,
      "metadata": {
        "colab": {
          "base_uri": "https://localhost:8080/"
        },
        "outputId": "f18a6466-365a-448c-e2e6-03baca555c7e",
        "id": "2IYssSKbdas_"
      },
      "outputs": [
        {
          "output_type": "stream",
          "name": "stdout",
          "text": [
            "10-fold CV accuracy: 0.9581 ± 0.0266\n"
          ]
        }
      ],
      "source": [
        "# Choose and run models with 10-fold cross-validation\n",
        "run_linear_model(X, y)"
      ]
    },
    {
      "cell_type": "code",
      "execution_count": null,
      "metadata": {
        "colab": {
          "base_uri": "https://localhost:8080/"
        },
        "outputId": "77a9739c-f50a-406c-e00f-c2cac4056b83",
        "id": "Mp2DjPrGdas_"
      },
      "outputs": [
        {
          "output_type": "stream",
          "name": "stdout",
          "text": [
            "KNN with random params: {'n_neighbors': 15, 'knn_alg': 'ball_tree', 'leaf_size': 300}\n",
            "10-fold CV accuracy: 0.9054 ± 0.0171\n"
          ]
        }
      ],
      "source": [
        "run_knn(X, y, seed=42)\n"
      ]
    },
    {
      "cell_type": "code",
      "execution_count": null,
      "metadata": {
        "colab": {
          "base_uri": "https://localhost:8080/"
        },
        "outputId": "518dc1c6-a03e-44e2-bc98-731cbb41ecc9",
        "id": "Cri60Kw_datA"
      },
      "outputs": [
        {
          "output_type": "stream",
          "name": "stdout",
          "text": [
            "Decision Tree with random params: {'max_depth': 4}\n",
            "10-fold CV accuracy: 0.8490 ± 0.0343\n"
          ]
        }
      ],
      "source": [
        "run_decision_tree(X, y, seed=42)\n"
      ]
    },
    {
      "cell_type": "code",
      "execution_count": null,
      "metadata": {
        "colab": {
          "base_uri": "https://localhost:8080/"
        },
        "outputId": "f9fbeb90-d50a-44bc-d4d7-e3663c4d8b35",
        "id": "SNspgwOidatA"
      },
      "outputs": [
        {
          "output_type": "stream",
          "name": "stdout",
          "text": [
            "Random Forest with random params: {'max_depth': 4, 'n_estimators': 86}\n",
            "10-fold CV accuracy: 0.8851 ± 0.0166\n"
          ]
        }
      ],
      "source": [
        "run_random_forest(X, y, seed=42)"
      ]
    },
    {
      "cell_type": "markdown",
      "source": [
        "# Task ID69: 3021"
      ],
      "metadata": {
        "id": "HXGqTwEwda5r"
      }
    },
    {
      "cell_type": "code",
      "execution_count": null,
      "metadata": {
        "colab": {
          "base_uri": "https://localhost:8080/"
        },
        "outputId": "e51a90f5-1ae9-46c3-bd98-9764f8cb775b",
        "id": "8ArWzc5dda5r"
      },
      "outputs": [
        {
          "output_type": "stream",
          "name": "stdout",
          "text": [
            "Dataset shape: (3772, 29)\n"
          ]
        }
      ],
      "source": [
        "# Load and preprocess data using OpenML Task ID\n",
        "X, y = load_preprocess_task(3021)  # Replace with an actual task ID\n"
      ]
    },
    {
      "cell_type": "code",
      "execution_count": null,
      "metadata": {
        "colab": {
          "base_uri": "https://localhost:8080/"
        },
        "outputId": "75338af7-9101-4327-889b-2aee7d30d474",
        "id": "pEg9alWhda5r"
      },
      "outputs": [
        {
          "output_type": "stream",
          "name": "stdout",
          "text": [
            "10-fold CV accuracy: 0.9669 ± 0.0057\n"
          ]
        }
      ],
      "source": [
        "# Choose and run models with 10-fold cross-validation\n",
        "run_linear_model(X, y)"
      ]
    },
    {
      "cell_type": "code",
      "execution_count": null,
      "metadata": {
        "colab": {
          "base_uri": "https://localhost:8080/"
        },
        "outputId": "1003730d-e534-4b4c-8a66-f0618252a234",
        "id": "LvQtS3h2da5r"
      },
      "outputs": [
        {
          "output_type": "stream",
          "name": "stdout",
          "text": [
            "KNN with random params: {'n_neighbors': 15, 'knn_alg': 'ball_tree', 'leaf_size': 300}\n",
            "10-fold CV accuracy: 0.9642 ± 0.0101\n"
          ]
        }
      ],
      "source": [
        "run_knn(X, y, seed=42)\n"
      ]
    },
    {
      "cell_type": "code",
      "execution_count": null,
      "metadata": {
        "colab": {
          "base_uri": "https://localhost:8080/"
        },
        "outputId": "42891e0b-e9bb-4a9a-f0f1-4454b9df63dc",
        "id": "gA5BBMNZda5r"
      },
      "outputs": [
        {
          "output_type": "stream",
          "name": "stdout",
          "text": [
            "Decision Tree with random params: {'max_depth': 4}\n",
            "10-fold CV accuracy: 0.9849 ± 0.0063\n"
          ]
        }
      ],
      "source": [
        "run_decision_tree(X, y, seed=42)\n"
      ]
    },
    {
      "cell_type": "code",
      "execution_count": null,
      "metadata": {
        "colab": {
          "base_uri": "https://localhost:8080/"
        },
        "outputId": "afcb8524-b741-44dc-aa68-f85087a78cea",
        "id": "YTTtb9Fzda5s"
      },
      "outputs": [
        {
          "output_type": "stream",
          "name": "stdout",
          "text": [
            "Random Forest with random params: {'max_depth': 4, 'n_estimators': 86}\n",
            "10-fold CV accuracy: 0.9443 ± 0.0060\n"
          ]
        }
      ],
      "source": [
        "run_random_forest(X, y, seed=42)"
      ]
    },
    {
      "cell_type": "markdown",
      "source": [
        "# Task ID70: 3481"
      ],
      "metadata": {
        "id": "_SGwxPNTdbG5"
      }
    },
    {
      "cell_type": "code",
      "execution_count": null,
      "metadata": {
        "colab": {
          "base_uri": "https://localhost:8080/"
        },
        "outputId": "1a5c389b-46a1-4c73-9de7-e3f3d883bba2",
        "id": "6OdJMITXdbG5"
      },
      "outputs": [
        {
          "output_type": "stream",
          "name": "stdout",
          "text": [
            "Dataset shape: (7797, 617)\n"
          ]
        }
      ],
      "source": [
        "# Load and preprocess data using OpenML Task ID\n",
        "X, y = load_preprocess_task(3481)  # Replace with an actual task ID\n"
      ]
    },
    {
      "cell_type": "code",
      "execution_count": null,
      "metadata": {
        "colab": {
          "base_uri": "https://localhost:8080/"
        },
        "outputId": "6419ab21-4098-4217-ea34-f9687c4a9427",
        "id": "hIlTZqRvdbG5"
      },
      "outputs": [
        {
          "output_type": "stream",
          "name": "stdout",
          "text": [
            "10-fold CV accuracy: 0.9556 ± 0.0138\n"
          ]
        }
      ],
      "source": [
        "# Choose and run models with 10-fold cross-validation\n",
        "run_linear_model(X, y)"
      ]
    },
    {
      "cell_type": "code",
      "execution_count": null,
      "metadata": {
        "colab": {
          "base_uri": "https://localhost:8080/"
        },
        "outputId": "43801cdd-962e-41c5-87c9-3e4fea1089a6",
        "id": "VPDYZoYTdbG5"
      },
      "outputs": [
        {
          "output_type": "stream",
          "name": "stdout",
          "text": [
            "KNN with random params: {'n_neighbors': 15, 'knn_alg': 'ball_tree', 'leaf_size': 300}\n",
            "10-fold CV accuracy: 0.9151 ± 0.0279\n"
          ]
        }
      ],
      "source": [
        "run_knn(X, y, seed=42)\n"
      ]
    },
    {
      "cell_type": "code",
      "execution_count": null,
      "metadata": {
        "colab": {
          "base_uri": "https://localhost:8080/"
        },
        "outputId": "45ac1740-3870-43d5-97a7-a99fa2a1767b",
        "id": "bzsOFxOXdbG6"
      },
      "outputs": [
        {
          "output_type": "stream",
          "name": "stdout",
          "text": [
            "Decision Tree with random params: {'max_depth': 4}\n",
            "10-fold CV accuracy: 0.3926 ± 0.0204\n"
          ]
        }
      ],
      "source": [
        "run_decision_tree(X, y, seed=42)\n"
      ]
    },
    {
      "cell_type": "code",
      "execution_count": null,
      "metadata": {
        "colab": {
          "base_uri": "https://localhost:8080/"
        },
        "outputId": "146b2098-1561-45e2-f150-f176b834c5a3",
        "id": "dd20l2NtdbG6"
      },
      "outputs": [
        {
          "output_type": "stream",
          "name": "stdout",
          "text": [
            "Random Forest with random params: {'max_depth': 4, 'n_estimators': 86}\n",
            "10-fold CV accuracy: 0.7816 ± 0.0239\n"
          ]
        }
      ],
      "source": [
        "run_random_forest(X, y, seed=42)"
      ]
    },
    {
      "cell_type": "markdown",
      "source": [
        "# Task ID71: 3573"
      ],
      "metadata": {
        "id": "pRv7Cn0GdbT-"
      }
    },
    {
      "cell_type": "code",
      "execution_count": null,
      "metadata": {
        "colab": {
          "base_uri": "https://localhost:8080/"
        },
        "outputId": "31943aa4-2c4e-470a-a9bf-3f947fd66193",
        "id": "poPjuFN4dbT-"
      },
      "outputs": [
        {
          "output_type": "stream",
          "name": "stdout",
          "text": [
            "Dataset shape: (70000, 784)\n"
          ]
        }
      ],
      "source": [
        "# Load and preprocess data using OpenML Task ID\n",
        "X, y = load_preprocess_task(3573)  # Replace with an actual task ID\n"
      ]
    },
    {
      "cell_type": "code",
      "execution_count": null,
      "metadata": {
        "colab": {
          "base_uri": "https://localhost:8080/"
        },
        "outputId": "8b331316-cdc9-45db-c8f2-f370fed9db90",
        "id": "U2pi4yQOdbT-"
      },
      "outputs": [
        {
          "output_type": "stream",
          "name": "stdout",
          "text": [
            "10-fold CV accuracy: 0.9173 ± 0.0069\n"
          ]
        }
      ],
      "source": [
        "# Choose and run models with 10-fold cross-validation\n",
        "run_linear_model(X, y)"
      ]
    },
    {
      "cell_type": "code",
      "execution_count": null,
      "metadata": {
        "id": "G-_peKTZdbT-"
      },
      "outputs": [],
      "source": [
        "run_knn(X, y, seed=42)\n"
      ]
    },
    {
      "cell_type": "code",
      "execution_count": null,
      "metadata": {
        "id": "ImF6qfEtdbT-"
      },
      "outputs": [],
      "source": [
        "run_decision_tree(X, y, seed=42)\n"
      ]
    },
    {
      "cell_type": "code",
      "execution_count": null,
      "metadata": {
        "id": "jeSrsnAadbT_"
      },
      "outputs": [],
      "source": [
        "run_random_forest(X, y, seed=42)"
      ]
    },
    {
      "cell_type": "markdown",
      "source": [
        "# Task ID72: 146824"
      ],
      "metadata": {
        "id": "yyid9hePdbi9"
      }
    },
    {
      "cell_type": "code",
      "execution_count": null,
      "metadata": {
        "colab": {
          "base_uri": "https://localhost:8080/"
        },
        "outputId": "1706a9ba-953c-4f45-e5d3-f0eb5a0d94b5",
        "id": "AiexN3l2dbi9"
      },
      "outputs": [
        {
          "output_type": "stream",
          "name": "stdout",
          "text": [
            "Dataset shape: (2000, 240)\n"
          ]
        }
      ],
      "source": [
        "# Load and preprocess data using OpenML Task ID\n",
        "X, y = load_preprocess_task(146824)  # Replace with an actual task ID\n"
      ]
    },
    {
      "cell_type": "code",
      "execution_count": null,
      "metadata": {
        "colab": {
          "base_uri": "https://localhost:8080/"
        },
        "outputId": "fbce53c0-9157-4285-ee4d-92fbd32601f2",
        "id": "Qj_3R6UIdbi9"
      },
      "outputs": [
        {
          "output_type": "stream",
          "name": "stdout",
          "text": [
            "10-fold CV accuracy: 0.9640 ± 0.0080\n"
          ]
        }
      ],
      "source": [
        "# Choose and run models with 10-fold cross-validation\n",
        "run_linear_model(X, y)"
      ]
    },
    {
      "cell_type": "code",
      "execution_count": null,
      "metadata": {
        "colab": {
          "base_uri": "https://localhost:8080/"
        },
        "outputId": "9ff240e1-0714-4d93-bf64-25ff91b3fd2c",
        "id": "mgQnb1Uldbi-"
      },
      "outputs": [
        {
          "output_type": "stream",
          "name": "stdout",
          "text": [
            "KNN with random params: {'n_neighbors': 15, 'knn_alg': 'ball_tree', 'leaf_size': 300}\n",
            "10-fold CV accuracy: 0.9695 ± 0.0123\n"
          ]
        }
      ],
      "source": [
        "run_knn(X, y, seed=42)\n"
      ]
    },
    {
      "cell_type": "code",
      "execution_count": null,
      "metadata": {
        "colab": {
          "base_uri": "https://localhost:8080/"
        },
        "outputId": "4da06e10-aca6-4b38-fce3-2b548672dbec",
        "id": "MgNQugtrdbi-"
      },
      "outputs": [
        {
          "output_type": "stream",
          "name": "stdout",
          "text": [
            "Decision Tree with random params: {'max_depth': 4}\n",
            "10-fold CV accuracy: 0.7735 ± 0.0281\n"
          ]
        }
      ],
      "source": [
        "run_decision_tree(X, y, seed=42)\n"
      ]
    },
    {
      "cell_type": "code",
      "execution_count": null,
      "metadata": {
        "colab": {
          "base_uri": "https://localhost:8080/"
        },
        "outputId": "de9b2788-211d-4ea4-c980-b473832c35d0",
        "id": "Ei6OoX1kdbi-"
      },
      "outputs": [
        {
          "output_type": "stream",
          "name": "stdout",
          "text": [
            "Random Forest with random params: {'max_depth': 4, 'n_estimators': 86}\n",
            "10-fold CV accuracy: 0.9405 ± 0.0149\n"
          ]
        }
      ],
      "source": [
        "run_random_forest(X, y, seed=42)"
      ]
    },
    {
      "cell_type": "markdown",
      "source": [
        "# Task ID73: 146820"
      ],
      "metadata": {
        "id": "ZErycBTkjcTT"
      }
    },
    {
      "cell_type": "code",
      "execution_count": null,
      "metadata": {
        "colab": {
          "base_uri": "https://localhost:8080/"
        },
        "outputId": "5e07eff5-a088-4068-d474-cb4baeda61bc",
        "id": "gyjNJFyGjcTT"
      },
      "outputs": [
        {
          "output_type": "stream",
          "name": "stdout",
          "text": [
            "Dataset shape: (4839, 5)\n"
          ]
        }
      ],
      "source": [
        "# Load and preprocess data using OpenML Task ID\n",
        "X, y = load_preprocess_task(146820)  # Replace with an actual task ID\n"
      ]
    },
    {
      "cell_type": "code",
      "execution_count": null,
      "metadata": {
        "colab": {
          "base_uri": "https://localhost:8080/"
        },
        "outputId": "0796826e-dddf-42fd-92c5-605e4cb4ebd2",
        "id": "gx47w5KPjcTU"
      },
      "outputs": [
        {
          "output_type": "stream",
          "name": "stdout",
          "text": [
            "10-fold CV accuracy: 0.9465 ± 0.0321\n"
          ]
        }
      ],
      "source": [
        "# Choose and run models with 10-fold cross-validation\n",
        "run_linear_model(X, y)"
      ]
    },
    {
      "cell_type": "code",
      "execution_count": null,
      "metadata": {
        "colab": {
          "base_uri": "https://localhost:8080/"
        },
        "outputId": "ab0dffeb-c211-4a52-ac0a-c1d8555c3840",
        "id": "V9HQFemijcTU"
      },
      "outputs": [
        {
          "output_type": "stream",
          "name": "stdout",
          "text": [
            "KNN with random params: {'n_neighbors': 15, 'knn_alg': 'ball_tree', 'leaf_size': 300}\n",
            "10-fold CV accuracy: 0.9599 ± 0.0096\n"
          ]
        }
      ],
      "source": [
        "run_knn(X, y, seed=42)\n"
      ]
    },
    {
      "cell_type": "code",
      "execution_count": null,
      "metadata": {
        "colab": {
          "base_uri": "https://localhost:8080/"
        },
        "outputId": "40d87327-e91a-4f08-8e1f-36f7979a1edb",
        "id": "NzNd03JljcTU"
      },
      "outputs": [
        {
          "output_type": "stream",
          "name": "stdout",
          "text": [
            "Decision Tree with random params: {'max_depth': 4}\n",
            "10-fold CV accuracy: 0.9777 ± 0.0107\n"
          ]
        }
      ],
      "source": [
        "run_decision_tree(X, y, seed=42)\n"
      ]
    },
    {
      "cell_type": "code",
      "execution_count": null,
      "metadata": {
        "colab": {
          "base_uri": "https://localhost:8080/"
        },
        "outputId": "e690bbff-735a-4ad0-8696-694c5d27e5d1",
        "id": "kf7aOhwWjcTU"
      },
      "outputs": [
        {
          "output_type": "stream",
          "name": "stdout",
          "text": [
            "Random Forest with random params: {'max_depth': 4, 'n_estimators': 86}\n",
            "10-fold CV accuracy: 0.9702 ± 0.0088\n"
          ]
        }
      ],
      "source": [
        "run_random_forest(X, y, seed=42)"
      ]
    },
    {
      "cell_type": "markdown",
      "source": [
        "# Task ID74: 146822"
      ],
      "metadata": {
        "id": "ApnHqxGOjclf"
      }
    },
    {
      "cell_type": "code",
      "execution_count": null,
      "metadata": {
        "colab": {
          "base_uri": "https://localhost:8080/"
        },
        "outputId": "2d66a735-dcad-453c-d031-4c5b3b400f2f",
        "id": "P9OYX0R-jclg"
      },
      "outputs": [
        {
          "output_type": "stream",
          "name": "stdout",
          "text": [
            "Dataset shape: (2310, 16)\n"
          ]
        }
      ],
      "source": [
        "# Load and preprocess data using OpenML Task ID\n",
        "X, y = load_preprocess_task(146822)  # Replace with an actual task ID\n"
      ]
    },
    {
      "cell_type": "code",
      "execution_count": null,
      "metadata": {
        "colab": {
          "base_uri": "https://localhost:8080/"
        },
        "outputId": "172ff906-0137-4f3a-8894-9ff4e0aaef9e",
        "id": "AvmJ0MeAjclg"
      },
      "outputs": [
        {
          "output_type": "stream",
          "name": "stdout",
          "text": [
            "10-fold CV accuracy: 0.8745 ± 0.0099\n"
          ]
        }
      ],
      "source": [
        "# Choose and run models with 10-fold cross-validation\n",
        "run_linear_model(X, y)"
      ]
    },
    {
      "cell_type": "code",
      "execution_count": null,
      "metadata": {
        "colab": {
          "base_uri": "https://localhost:8080/"
        },
        "outputId": "66d0711f-7065-4f5e-cd4a-bca294c3a3f2",
        "id": "oScScjvzjclh"
      },
      "outputs": [
        {
          "output_type": "stream",
          "name": "stdout",
          "text": [
            "KNN with random params: {'n_neighbors': 15, 'knn_alg': 'ball_tree', 'leaf_size': 300}\n",
            "10-fold CV accuracy: 0.8831 ± 0.0190\n"
          ]
        }
      ],
      "source": [
        "run_knn(X, y, seed=42)\n"
      ]
    },
    {
      "cell_type": "code",
      "execution_count": null,
      "metadata": {
        "colab": {
          "base_uri": "https://localhost:8080/"
        },
        "outputId": "016c8c4d-ffdb-473a-ee8f-7e36f21198bc",
        "id": "2mRWod0djclh"
      },
      "outputs": [
        {
          "output_type": "stream",
          "name": "stdout",
          "text": [
            "Decision Tree with random params: {'max_depth': 4}\n",
            "10-fold CV accuracy: 0.7558 ± 0.0116\n"
          ]
        }
      ],
      "source": [
        "run_decision_tree(X, y, seed=42)\n"
      ]
    },
    {
      "cell_type": "code",
      "execution_count": null,
      "metadata": {
        "colab": {
          "base_uri": "https://localhost:8080/"
        },
        "outputId": "a6bfb539-bd2d-4724-b319-f34396d4cea1",
        "id": "PoYzxkoMjclh"
      },
      "outputs": [
        {
          "output_type": "stream",
          "name": "stdout",
          "text": [
            "Random Forest with random params: {'max_depth': 4, 'n_estimators': 86}\n",
            "10-fold CV accuracy: 0.8485 ± 0.0130\n"
          ]
        }
      ],
      "source": [
        "run_random_forest(X, y, seed=42)"
      ]
    },
    {
      "cell_type": "markdown",
      "source": [
        "# Task ID75: 146195"
      ],
      "metadata": {
        "id": "Ybce50ysjc0s"
      }
    },
    {
      "cell_type": "code",
      "execution_count": null,
      "metadata": {
        "colab": {
          "base_uri": "https://localhost:8080/"
        },
        "outputId": "622ed1e3-ebfe-4005-9f39-8605cc9bac0a",
        "id": "Vgh-XdZIjc0t"
      },
      "outputs": [
        {
          "output_type": "stream",
          "name": "stdout",
          "text": [
            "Dataset shape: (67557, 42)\n"
          ]
        }
      ],
      "source": [
        "# Load and preprocess data using OpenML Task ID\n",
        "X, y = load_preprocess_task(146195)  # Replace with an actual task ID\n"
      ]
    },
    {
      "cell_type": "code",
      "execution_count": null,
      "metadata": {
        "colab": {
          "base_uri": "https://localhost:8080/"
        },
        "outputId": "663de838-9aa7-4ebe-85f8-d24f2ac23910",
        "id": "_zLXK9dEjc0t"
      },
      "outputs": [
        {
          "output_type": "stream",
          "name": "stdout",
          "text": [
            "10-fold CV accuracy: 0.7244 ± 0.0440\n"
          ]
        }
      ],
      "source": [
        "# Choose and run models with 10-fold cross-validation\n",
        "run_linear_model(X, y)"
      ]
    },
    {
      "cell_type": "code",
      "execution_count": null,
      "metadata": {
        "colab": {
          "base_uri": "https://localhost:8080/"
        },
        "outputId": "4c7f16f5-1094-4346-b784-bb894733f46e",
        "id": "GwW_FF3xjc0u"
      },
      "outputs": [
        {
          "output_type": "stream",
          "name": "stdout",
          "text": [
            "KNN with random params: {'n_neighbors': 15, 'knn_alg': 'ball_tree', 'leaf_size': 300}\n",
            "10-fold CV accuracy: 0.6227 ± 0.0459\n"
          ]
        }
      ],
      "source": [
        "run_knn(X, y, seed=42)\n"
      ]
    },
    {
      "cell_type": "code",
      "execution_count": null,
      "metadata": {
        "colab": {
          "base_uri": "https://localhost:8080/"
        },
        "outputId": "b822b30e-a013-4bc3-ff33-d06c86ec9b86",
        "id": "a4Qpx-o4jc0u"
      },
      "outputs": [
        {
          "output_type": "stream",
          "name": "stdout",
          "text": [
            "Decision Tree with random params: {'max_depth': 4}\n",
            "10-fold CV accuracy: 0.5900 ± 0.1039\n"
          ]
        }
      ],
      "source": [
        "run_decision_tree(X, y, seed=42)\n"
      ]
    },
    {
      "cell_type": "code",
      "execution_count": null,
      "metadata": {
        "colab": {
          "base_uri": "https://localhost:8080/"
        },
        "outputId": "e44859c7-9086-422f-c6b1-071e7b7f0034",
        "id": "B1HFpxCOjc0u"
      },
      "outputs": [
        {
          "output_type": "stream",
          "name": "stdout",
          "text": [
            "Random Forest with random params: {'max_depth': 4, 'n_estimators': 86}\n",
            "10-fold CV accuracy: 0.6601 ± 0.0034\n"
          ]
        }
      ],
      "source": [
        "run_random_forest(X, y, seed=42)"
      ]
    },
    {
      "cell_type": "markdown",
      "source": [
        "# Task ID76: 146800"
      ],
      "metadata": {
        "id": "hS7jGUhzjdCn"
      }
    },
    {
      "cell_type": "code",
      "execution_count": null,
      "metadata": {
        "colab": {
          "base_uri": "https://localhost:8080/"
        },
        "outputId": "9a7f5f31-c067-4618-d4c5-b52e1fb66af1",
        "id": "P1ngLKfMjdCn"
      },
      "outputs": [
        {
          "output_type": "stream",
          "name": "stdout",
          "text": [
            "Dataset shape: (1080, 77)\n"
          ]
        }
      ],
      "source": [
        "# Load and preprocess data using OpenML Task ID\n",
        "X, y = load_preprocess_task(146800)  # Replace with an actual task ID\n"
      ]
    },
    {
      "cell_type": "code",
      "execution_count": null,
      "metadata": {
        "colab": {
          "base_uri": "https://localhost:8080/"
        },
        "outputId": "d788d1d8-15d6-4276-a54a-91b241249d60",
        "id": "yPSZWzVTjdCn"
      },
      "outputs": [
        {
          "output_type": "stream",
          "name": "stdout",
          "text": [
            "10-fold CV accuracy: 0.8407 ± 0.0767\n"
          ]
        }
      ],
      "source": [
        "# Choose and run models with 10-fold cross-validation\n",
        "run_linear_model(X, y)"
      ]
    },
    {
      "cell_type": "code",
      "execution_count": null,
      "metadata": {
        "colab": {
          "base_uri": "https://localhost:8080/"
        },
        "outputId": "a4c8ae49-16e2-40a5-c987-f7febcc0744e",
        "id": "gTeBF3MSjdCn"
      },
      "outputs": [
        {
          "output_type": "stream",
          "name": "stdout",
          "text": [
            "KNN with random params: {'n_neighbors': 15, 'knn_alg': 'ball_tree', 'leaf_size': 300}\n",
            "10-fold CV accuracy: 0.5741 ± 0.1253\n"
          ]
        }
      ],
      "source": [
        "run_knn(X, y, seed=42)\n"
      ]
    },
    {
      "cell_type": "code",
      "execution_count": null,
      "metadata": {
        "colab": {
          "base_uri": "https://localhost:8080/"
        },
        "outputId": "a1634258-be12-45c5-e062-ac9e9a07ee22",
        "id": "QWoHhkI9jdCo"
      },
      "outputs": [
        {
          "output_type": "stream",
          "name": "stdout",
          "text": [
            "Decision Tree with random params: {'max_depth': 4}\n",
            "10-fold CV accuracy: 0.5139 ± 0.1086\n"
          ]
        }
      ],
      "source": [
        "run_decision_tree(X, y, seed=42)\n"
      ]
    },
    {
      "cell_type": "code",
      "execution_count": null,
      "metadata": {
        "colab": {
          "base_uri": "https://localhost:8080/"
        },
        "outputId": "76fc223d-247d-4198-efa9-ca3466eede48",
        "id": "q5-95nb_jdCo"
      },
      "outputs": [
        {
          "output_type": "stream",
          "name": "stdout",
          "text": [
            "Random Forest with random params: {'max_depth': 4, 'n_estimators': 86}\n",
            "10-fold CV accuracy: 0.6426 ± 0.1076\n"
          ]
        }
      ],
      "source": [
        "run_random_forest(X, y, seed=42)"
      ]
    },
    {
      "cell_type": "markdown",
      "source": [
        "# Task ID77: 146817"
      ],
      "metadata": {
        "id": "Cp2KgzM5jdPc"
      }
    },
    {
      "cell_type": "code",
      "execution_count": null,
      "metadata": {
        "colab": {
          "base_uri": "https://localhost:8080/"
        },
        "outputId": "cbb443c7-2fd3-4e0b-da03-044c6105bfd2",
        "id": "fbiJFjQgjdPd"
      },
      "outputs": [
        {
          "output_type": "stream",
          "name": "stdout",
          "text": [
            "Dataset shape: (1941, 27)\n"
          ]
        }
      ],
      "source": [
        "# Load and preprocess data using OpenML Task ID\n",
        "X, y = load_preprocess_task(146817)  # Replace with an actual task ID\n"
      ]
    },
    {
      "cell_type": "code",
      "execution_count": null,
      "metadata": {
        "colab": {
          "base_uri": "https://localhost:8080/"
        },
        "outputId": "a3cf9f28-f221-44a3-c735-99f8539377e5",
        "id": "w9prgyupjdPd"
      },
      "outputs": [
        {
          "output_type": "stream",
          "name": "stdout",
          "text": [
            "10-fold CV accuracy: 0.6322 ± 0.0939\n"
          ]
        }
      ],
      "source": [
        "# Choose and run models with 10-fold cross-validation\n",
        "run_linear_model(X, y)"
      ]
    },
    {
      "cell_type": "code",
      "execution_count": null,
      "metadata": {
        "colab": {
          "base_uri": "https://localhost:8080/"
        },
        "outputId": "85060bf9-3df0-4a4d-bac3-de0092a19d71",
        "id": "OPwojqT8jdPd"
      },
      "outputs": [
        {
          "output_type": "stream",
          "name": "stdout",
          "text": [
            "KNN with random params: {'n_neighbors': 15, 'knn_alg': 'ball_tree', 'leaf_size': 300}\n",
            "10-fold CV accuracy: 0.6132 ± 0.1021\n"
          ]
        }
      ],
      "source": [
        "run_knn(X, y, seed=42)\n"
      ]
    },
    {
      "cell_type": "code",
      "execution_count": null,
      "metadata": {
        "colab": {
          "base_uri": "https://localhost:8080/"
        },
        "outputId": "7e23e71c-26df-4410-ccb8-b76402b45d61",
        "id": "qwEfSsYojdPe"
      },
      "outputs": [
        {
          "output_type": "stream",
          "name": "stdout",
          "text": [
            "Decision Tree with random params: {'max_depth': 4}\n",
            "10-fold CV accuracy: 0.5534 ± 0.0802\n"
          ]
        }
      ],
      "source": [
        "run_decision_tree(X, y, seed=42)\n"
      ]
    },
    {
      "cell_type": "code",
      "execution_count": null,
      "metadata": {
        "colab": {
          "base_uri": "https://localhost:8080/"
        },
        "outputId": "0f59866c-93dd-4901-a2bc-d8f0ad6f6601",
        "id": "VAOiohrojdPe"
      },
      "outputs": [
        {
          "output_type": "stream",
          "name": "stdout",
          "text": [
            "Random Forest with random params: {'max_depth': 4, 'n_estimators': 86}\n",
            "10-fold CV accuracy: 0.5931 ± 0.0807\n"
          ]
        }
      ],
      "source": [
        "run_random_forest(X, y, seed=42)"
      ]
    },
    {
      "cell_type": "markdown",
      "source": [
        "# Task ID78: 146819"
      ],
      "metadata": {
        "id": "yXXQpbjwjdb3"
      }
    },
    {
      "cell_type": "code",
      "execution_count": null,
      "metadata": {
        "colab": {
          "base_uri": "https://localhost:8080/"
        },
        "outputId": "4aafb5e3-7f79-49ca-f0d8-58bf3d8f57ec",
        "id": "cF43RL0Ojdb3"
      },
      "outputs": [
        {
          "output_type": "stream",
          "name": "stdout",
          "text": [
            "Dataset shape: (540, 18)\n"
          ]
        }
      ],
      "source": [
        "# Load and preprocess data using OpenML Task ID\n",
        "X, y = load_preprocess_task(146819)  # Replace with an actual task ID\n"
      ]
    },
    {
      "cell_type": "code",
      "execution_count": null,
      "metadata": {
        "colab": {
          "base_uri": "https://localhost:8080/"
        },
        "outputId": "06ed85c6-d0bb-4723-8a6e-50a9a4135349",
        "id": "ML3GSIxejdb3"
      },
      "outputs": [
        {
          "output_type": "stream",
          "name": "stdout",
          "text": [
            "10-fold CV accuracy: 0.9611 ± 0.0175\n"
          ]
        }
      ],
      "source": [
        "# Choose and run models with 10-fold cross-validation\n",
        "run_linear_model(X, y)"
      ]
    },
    {
      "cell_type": "code",
      "execution_count": null,
      "metadata": {
        "colab": {
          "base_uri": "https://localhost:8080/"
        },
        "outputId": "8947edaf-355c-464b-ea5d-3ea9a18a4062",
        "id": "E7T1v-Dhjdb3"
      },
      "outputs": [
        {
          "output_type": "stream",
          "name": "stdout",
          "text": [
            "KNN with random params: {'n_neighbors': 15, 'knn_alg': 'ball_tree', 'leaf_size': 300}\n",
            "10-fold CV accuracy: 0.9148 ± 0.0091\n"
          ]
        }
      ],
      "source": [
        "run_knn(X, y, seed=42)\n"
      ]
    },
    {
      "cell_type": "code",
      "execution_count": null,
      "metadata": {
        "colab": {
          "base_uri": "https://localhost:8080/"
        },
        "outputId": "8cb3bb17-52b6-4117-ff99-34a667816a1a",
        "id": "Y31gaWi1jdb4"
      },
      "outputs": [
        {
          "output_type": "stream",
          "name": "stdout",
          "text": [
            "Decision Tree with random params: {'max_depth': 4}\n",
            "10-fold CV accuracy: 0.9259 ± 0.0166\n"
          ]
        }
      ],
      "source": [
        "run_decision_tree(X, y, seed=42)\n"
      ]
    },
    {
      "cell_type": "code",
      "execution_count": null,
      "metadata": {
        "colab": {
          "base_uri": "https://localhost:8080/"
        },
        "outputId": "0950b0d6-9c6c-44bf-c607-28656b9c7bc3",
        "id": "i4nfwoIljdb4"
      },
      "outputs": [
        {
          "output_type": "stream",
          "name": "stdout",
          "text": [
            "Random Forest with random params: {'max_depth': 4, 'n_estimators': 86}\n",
            "10-fold CV accuracy: 0.9148 ± 0.0091\n"
          ]
        }
      ],
      "source": [
        "run_random_forest(X, y, seed=42)"
      ]
    },
    {
      "cell_type": "markdown",
      "source": [
        "# Task ID79: 146821"
      ],
      "metadata": {
        "id": "FQWP6NUVjdoM"
      }
    },
    {
      "cell_type": "code",
      "execution_count": null,
      "metadata": {
        "colab": {
          "base_uri": "https://localhost:8080/"
        },
        "outputId": "349f99ff-eaed-4cf3-fd7f-139ee79340ed",
        "id": "-hQrP6MhjdoN"
      },
      "outputs": [
        {
          "output_type": "stream",
          "name": "stdout",
          "text": [
            "Dataset shape: (1728, 6)\n"
          ]
        }
      ],
      "source": [
        "# Load and preprocess data using OpenML Task ID\n",
        "X, y = load_preprocess_task(146821)  # Replace with an actual task ID\n"
      ]
    },
    {
      "cell_type": "code",
      "execution_count": null,
      "metadata": {
        "colab": {
          "base_uri": "https://localhost:8080/"
        },
        "outputId": "c6733b94-4fd4-4614-d33b-be92ffa1ffc9",
        "id": "sFXoIdRzjdoN"
      },
      "outputs": [
        {
          "output_type": "stream",
          "name": "stdout",
          "text": [
            "10-fold CV accuracy: 0.8327 ± 0.0780\n"
          ]
        }
      ],
      "source": [
        "# Choose and run models with 10-fold cross-validation\n",
        "run_linear_model(X, y)"
      ]
    },
    {
      "cell_type": "code",
      "execution_count": null,
      "metadata": {
        "colab": {
          "base_uri": "https://localhost:8080/"
        },
        "outputId": "78b62db7-b5b3-4956-eea4-bb3115ad8d4b",
        "id": "tEajdBYAjdoN"
      },
      "outputs": [
        {
          "output_type": "stream",
          "name": "stderr",
          "text": [
            "/usr/local/lib/python3.10/dist-packages/sklearn/neighbors/_base.py:583: UserWarning: cannot use tree with sparse input: using brute force\n",
            "  warnings.warn(\"cannot use tree with sparse input: using brute force\")\n",
            "/usr/local/lib/python3.10/dist-packages/sklearn/neighbors/_base.py:583: UserWarning: cannot use tree with sparse input: using brute force\n",
            "  warnings.warn(\"cannot use tree with sparse input: using brute force\")\n",
            "/usr/local/lib/python3.10/dist-packages/sklearn/neighbors/_base.py:583: UserWarning: cannot use tree with sparse input: using brute force\n",
            "  warnings.warn(\"cannot use tree with sparse input: using brute force\")\n",
            "/usr/local/lib/python3.10/dist-packages/sklearn/neighbors/_base.py:583: UserWarning: cannot use tree with sparse input: using brute force\n",
            "  warnings.warn(\"cannot use tree with sparse input: using brute force\")\n",
            "/usr/local/lib/python3.10/dist-packages/sklearn/neighbors/_base.py:583: UserWarning: cannot use tree with sparse input: using brute force\n",
            "  warnings.warn(\"cannot use tree with sparse input: using brute force\")\n",
            "/usr/local/lib/python3.10/dist-packages/sklearn/neighbors/_base.py:583: UserWarning: cannot use tree with sparse input: using brute force\n",
            "  warnings.warn(\"cannot use tree with sparse input: using brute force\")\n"
          ]
        },
        {
          "output_type": "stream",
          "name": "stdout",
          "text": [
            "KNN with random params: {'n_neighbors': 15, 'knn_alg': 'ball_tree', 'leaf_size': 300}\n",
            "10-fold CV accuracy: 0.7617 ± 0.0899\n"
          ]
        },
        {
          "output_type": "stream",
          "name": "stderr",
          "text": [
            "/usr/local/lib/python3.10/dist-packages/sklearn/neighbors/_base.py:583: UserWarning: cannot use tree with sparse input: using brute force\n",
            "  warnings.warn(\"cannot use tree with sparse input: using brute force\")\n",
            "/usr/local/lib/python3.10/dist-packages/sklearn/neighbors/_base.py:583: UserWarning: cannot use tree with sparse input: using brute force\n",
            "  warnings.warn(\"cannot use tree with sparse input: using brute force\")\n",
            "/usr/local/lib/python3.10/dist-packages/sklearn/neighbors/_base.py:583: UserWarning: cannot use tree with sparse input: using brute force\n",
            "  warnings.warn(\"cannot use tree with sparse input: using brute force\")\n",
            "/usr/local/lib/python3.10/dist-packages/sklearn/neighbors/_base.py:583: UserWarning: cannot use tree with sparse input: using brute force\n",
            "  warnings.warn(\"cannot use tree with sparse input: using brute force\")\n"
          ]
        }
      ],
      "source": [
        "run_knn(X, y, seed=42)\n"
      ]
    },
    {
      "cell_type": "code",
      "execution_count": null,
      "metadata": {
        "colab": {
          "base_uri": "https://localhost:8080/"
        },
        "outputId": "48338a68-e35d-4a15-ff94-f568358e2009",
        "id": "35tdCAhkjdoO"
      },
      "outputs": [
        {
          "output_type": "stream",
          "name": "stdout",
          "text": [
            "Decision Tree with random params: {'max_depth': 4}\n",
            "10-fold CV accuracy: 0.7326 ± 0.0674\n"
          ]
        }
      ],
      "source": [
        "run_decision_tree(X, y, seed=42)\n"
      ]
    },
    {
      "cell_type": "code",
      "execution_count": null,
      "metadata": {
        "colab": {
          "base_uri": "https://localhost:8080/"
        },
        "outputId": "588f746e-bcd8-4db2-9113-607e10715cd2",
        "id": "UMANDVmZjdoO"
      },
      "outputs": [
        {
          "output_type": "stream",
          "name": "stdout",
          "text": [
            "Random Forest with random params: {'max_depth': 4, 'n_estimators': 86}\n",
            "10-fold CV accuracy: 0.7344 ± 0.0587\n"
          ]
        }
      ],
      "source": [
        "run_random_forest(X, y, seed=42)"
      ]
    },
    {
      "cell_type": "markdown",
      "source": [
        "# Task ID80: 14954"
      ],
      "metadata": {
        "id": "R1dUVRBFjd0n"
      }
    },
    {
      "cell_type": "code",
      "execution_count": null,
      "metadata": {
        "colab": {
          "base_uri": "https://localhost:8080/"
        },
        "outputId": "1ec8e461-35dc-42a1-b9c8-beacffd87153",
        "id": "9zyTHIiUjd0o"
      },
      "outputs": [
        {
          "output_type": "stream",
          "name": "stdout",
          "text": [
            "Dataset shape: (540, 37)\n"
          ]
        }
      ],
      "source": [
        "# Load and preprocess data using OpenML Task ID\n",
        "X, y = load_preprocess_task(14954)  # Replace with an actual task ID\n"
      ]
    },
    {
      "cell_type": "code",
      "execution_count": null,
      "metadata": {
        "colab": {
          "base_uri": "https://localhost:8080/"
        },
        "outputId": "93cd4220-280e-437e-e5c6-4b6162e906d7",
        "id": "QlBm-f6Bjd0o"
      },
      "outputs": [
        {
          "output_type": "stream",
          "name": "stdout",
          "text": [
            "10-fold CV accuracy: 0.6019 ± 0.1229\n"
          ]
        }
      ],
      "source": [
        "# Choose and run models with 10-fold cross-validation\n",
        "run_linear_model(X, y)"
      ]
    },
    {
      "cell_type": "code",
      "execution_count": null,
      "metadata": {
        "colab": {
          "base_uri": "https://localhost:8080/"
        },
        "outputId": "0d5532c7-56f5-445f-e6b0-93801f985d4a",
        "id": "SD-N2zC2jd0p"
      },
      "outputs": [
        {
          "output_type": "stream",
          "name": "stdout",
          "text": [
            "KNN with random params: {'n_neighbors': 15, 'knn_alg': 'ball_tree', 'leaf_size': 300}\n",
            "10-fold CV accuracy: 0.6278 ± 0.0770\n"
          ]
        },
        {
          "output_type": "stream",
          "name": "stderr",
          "text": [
            "/usr/local/lib/python3.10/dist-packages/sklearn/neighbors/_base.py:583: UserWarning: cannot use tree with sparse input: using brute force\n",
            "  warnings.warn(\"cannot use tree with sparse input: using brute force\")\n",
            "/usr/local/lib/python3.10/dist-packages/sklearn/neighbors/_base.py:583: UserWarning: cannot use tree with sparse input: using brute force\n",
            "  warnings.warn(\"cannot use tree with sparse input: using brute force\")\n",
            "/usr/local/lib/python3.10/dist-packages/sklearn/neighbors/_base.py:583: UserWarning: cannot use tree with sparse input: using brute force\n",
            "  warnings.warn(\"cannot use tree with sparse input: using brute force\")\n",
            "/usr/local/lib/python3.10/dist-packages/sklearn/neighbors/_base.py:583: UserWarning: cannot use tree with sparse input: using brute force\n",
            "  warnings.warn(\"cannot use tree with sparse input: using brute force\")\n",
            "/usr/local/lib/python3.10/dist-packages/sklearn/neighbors/_base.py:583: UserWarning: cannot use tree with sparse input: using brute force\n",
            "  warnings.warn(\"cannot use tree with sparse input: using brute force\")\n",
            "/usr/local/lib/python3.10/dist-packages/sklearn/neighbors/_base.py:583: UserWarning: cannot use tree with sparse input: using brute force\n",
            "  warnings.warn(\"cannot use tree with sparse input: using brute force\")\n",
            "/usr/local/lib/python3.10/dist-packages/sklearn/neighbors/_base.py:583: UserWarning: cannot use tree with sparse input: using brute force\n",
            "  warnings.warn(\"cannot use tree with sparse input: using brute force\")\n",
            "/usr/local/lib/python3.10/dist-packages/sklearn/neighbors/_base.py:583: UserWarning: cannot use tree with sparse input: using brute force\n",
            "  warnings.warn(\"cannot use tree with sparse input: using brute force\")\n",
            "/usr/local/lib/python3.10/dist-packages/sklearn/neighbors/_base.py:583: UserWarning: cannot use tree with sparse input: using brute force\n",
            "  warnings.warn(\"cannot use tree with sparse input: using brute force\")\n",
            "/usr/local/lib/python3.10/dist-packages/sklearn/neighbors/_base.py:583: UserWarning: cannot use tree with sparse input: using brute force\n",
            "  warnings.warn(\"cannot use tree with sparse input: using brute force\")\n"
          ]
        }
      ],
      "source": [
        "run_knn(X, y, seed=42)\n"
      ]
    },
    {
      "cell_type": "code",
      "execution_count": null,
      "metadata": {
        "colab": {
          "base_uri": "https://localhost:8080/"
        },
        "outputId": "9aae9d1d-c8a5-48b4-ad89-d6afc8c699cf",
        "id": "K0pNh8_Gjd0p"
      },
      "outputs": [
        {
          "output_type": "stream",
          "name": "stdout",
          "text": [
            "Decision Tree with random params: {'max_depth': 4}\n",
            "10-fold CV accuracy: 0.6111 ± 0.1356\n"
          ]
        }
      ],
      "source": [
        "run_decision_tree(X, y, seed=42)\n"
      ]
    },
    {
      "cell_type": "code",
      "execution_count": null,
      "metadata": {
        "colab": {
          "base_uri": "https://localhost:8080/"
        },
        "outputId": "69a5a2cd-1432-4eb1-a8ea-3948a3258146",
        "id": "Fs01Vl-Xjd0p"
      },
      "outputs": [
        {
          "output_type": "stream",
          "name": "stdout",
          "text": [
            "Random Forest with random params: {'max_depth': 4, 'n_estimators': 86}\n",
            "10-fold CV accuracy: 0.6444 ± 0.1239\n"
          ]
        }
      ],
      "source": [
        "run_random_forest(X, y, seed=42)"
      ]
    },
    {
      "cell_type": "markdown",
      "source": [
        "# Task ID81: 167141"
      ],
      "metadata": {
        "id": "hZqVKYjojeA6"
      }
    },
    {
      "cell_type": "code",
      "execution_count": null,
      "metadata": {
        "colab": {
          "base_uri": "https://localhost:8080/"
        },
        "outputId": "003e5160-f91a-422b-fdd9-763bd39bdd86",
        "id": "51YGj8FDjeA6"
      },
      "outputs": [
        {
          "output_type": "stream",
          "name": "stdout",
          "text": [
            "Dataset shape: (5000, 20)\n"
          ]
        }
      ],
      "source": [
        "# Load and preprocess data using OpenML Task ID\n",
        "X, y = load_preprocess_task(167141)  # Replace with an actual task ID\n"
      ]
    },
    {
      "cell_type": "code",
      "execution_count": null,
      "metadata": {
        "colab": {
          "base_uri": "https://localhost:8080/"
        },
        "outputId": "0458a196-72da-4328-e495-4380fa50819e",
        "id": "zp8OvRxHjeA6"
      },
      "outputs": [
        {
          "output_type": "stream",
          "name": "stdout",
          "text": [
            "10-fold CV accuracy: 0.8546 ± 0.0073\n"
          ]
        }
      ],
      "source": [
        "# Choose and run models with 10-fold cross-validation\n",
        "run_linear_model(X, y)"
      ]
    },
    {
      "cell_type": "code",
      "execution_count": null,
      "metadata": {
        "colab": {
          "base_uri": "https://localhost:8080/"
        },
        "outputId": "ba9f0ddd-d4c9-4abc-bf85-a8018b734d69",
        "id": "gnBYAlGMjeA7"
      },
      "outputs": [
        {
          "output_type": "stream",
          "name": "stdout",
          "text": [
            "KNN with random params: {'n_neighbors': 15, 'knn_alg': 'ball_tree', 'leaf_size': 300}\n",
            "10-fold CV accuracy: 0.8778 ± 0.0050\n"
          ]
        }
      ],
      "source": [
        "run_knn(X, y, seed=42)\n"
      ]
    },
    {
      "cell_type": "code",
      "execution_count": null,
      "metadata": {
        "colab": {
          "base_uri": "https://localhost:8080/"
        },
        "outputId": "a60b5fce-e106-483b-f542-74241ab71020",
        "id": "mZ31VbeAjeA7"
      },
      "outputs": [
        {
          "output_type": "stream",
          "name": "stdout",
          "text": [
            "Decision Tree with random params: {'max_depth': 4}\n",
            "10-fold CV accuracy: 0.9264 ± 0.0088\n"
          ]
        }
      ],
      "source": [
        "run_decision_tree(X, y, seed=42)\n"
      ]
    },
    {
      "cell_type": "code",
      "execution_count": null,
      "metadata": {
        "colab": {
          "base_uri": "https://localhost:8080/"
        },
        "outputId": "0edb4d4f-392e-4278-849b-d0bbf08db290",
        "id": "fQEYnMIajeA7"
      },
      "outputs": [
        {
          "output_type": "stream",
          "name": "stdout",
          "text": [
            "Random Forest with random params: {'max_depth': 4, 'n_estimators': 86}\n",
            "10-fold CV accuracy: 0.8892 ± 0.0077\n"
          ]
        }
      ],
      "source": [
        "run_random_forest(X, y, seed=42)"
      ]
    },
    {
      "cell_type": "markdown",
      "source": [
        "# Task ID82: 167140"
      ],
      "metadata": {
        "id": "S19sCYYBjeNI"
      }
    },
    {
      "cell_type": "code",
      "execution_count": null,
      "metadata": {
        "colab": {
          "base_uri": "https://localhost:8080/"
        },
        "outputId": "fa13bfc8-0dea-49ff-818f-ba13aca7452d",
        "id": "Q-_iDOv_jeNI"
      },
      "outputs": [
        {
          "output_type": "stream",
          "name": "stdout",
          "text": [
            "Dataset shape: (3186, 180)\n"
          ]
        }
      ],
      "source": [
        "# Load and preprocess data using OpenML Task ID\n",
        "X, y = load_preprocess_task(167140)  # Replace with an actual task ID\n"
      ]
    },
    {
      "cell_type": "code",
      "execution_count": null,
      "metadata": {
        "colab": {
          "base_uri": "https://localhost:8080/"
        },
        "outputId": "71f649cb-eacd-4233-e15a-d32db5cb9b2e",
        "id": "bQdkO5fUjeNI"
      },
      "outputs": [
        {
          "output_type": "stream",
          "name": "stdout",
          "text": [
            "10-fold CV accuracy: 0.9466 ± 0.0115\n"
          ]
        }
      ],
      "source": [
        "# Choose and run models with 10-fold cross-validation\n",
        "run_linear_model(X, y)"
      ]
    },
    {
      "cell_type": "code",
      "execution_count": null,
      "metadata": {
        "colab": {
          "base_uri": "https://localhost:8080/"
        },
        "outputId": "242b838c-df2a-4b85-958c-c0aec9878960",
        "id": "0x1hUDOAjeNJ"
      },
      "outputs": [
        {
          "output_type": "stream",
          "name": "stdout",
          "text": [
            "KNN with random params: {'n_neighbors': 15, 'knn_alg': 'ball_tree', 'leaf_size': 300}\n",
            "10-fold CV accuracy: 0.8528 ± 0.0167\n"
          ]
        }
      ],
      "source": [
        "run_knn(X, y, seed=42)\n"
      ]
    },
    {
      "cell_type": "code",
      "execution_count": null,
      "metadata": {
        "colab": {
          "base_uri": "https://localhost:8080/"
        },
        "outputId": "6f641d5b-425b-4edc-d4b2-a9950a64a735",
        "id": "MFTetWJyjeNJ"
      },
      "outputs": [
        {
          "output_type": "stream",
          "name": "stdout",
          "text": [
            "Decision Tree with random params: {'max_depth': 4}\n",
            "10-fold CV accuracy: 0.8939 ± 0.0155\n"
          ]
        }
      ],
      "source": [
        "run_decision_tree(X, y, seed=42)\n"
      ]
    },
    {
      "cell_type": "code",
      "execution_count": null,
      "metadata": {
        "colab": {
          "base_uri": "https://localhost:8080/"
        },
        "outputId": "224b9424-8660-4252-f907-6aa043401292",
        "id": "RG5lBL_WjeNJ"
      },
      "outputs": [
        {
          "output_type": "stream",
          "name": "stdout",
          "text": [
            "Random Forest with random params: {'max_depth': 4, 'n_estimators': 86}\n",
            "10-fold CV accuracy: 0.9005 ± 0.0119\n"
          ]
        }
      ],
      "source": [
        "run_random_forest(X, y, seed=42)"
      ]
    },
    {
      "cell_type": "markdown",
      "source": [
        "# Task ID83: 167125"
      ],
      "metadata": {
        "id": "LDgS_tZ8jeZ6"
      }
    },
    {
      "cell_type": "code",
      "execution_count": null,
      "metadata": {
        "colab": {
          "base_uri": "https://localhost:8080/"
        },
        "outputId": "64dca9c7-dc8f-41cb-d12b-3cb443df965d",
        "id": "Y-N90ndKjeZ7"
      },
      "outputs": [
        {
          "output_type": "stream",
          "name": "stdout",
          "text": [
            "Dataset shape: (3279, 1558)\n"
          ]
        }
      ],
      "source": [
        "# Load and preprocess data using OpenML Task ID\n",
        "X, y = load_preprocess_task(167125)  # Replace with an actual task ID\n"
      ]
    },
    {
      "cell_type": "code",
      "execution_count": null,
      "metadata": {
        "colab": {
          "base_uri": "https://localhost:8080/"
        },
        "outputId": "372ffa8d-ee65-4371-df47-681847f0e4a7",
        "id": "6mgwgGWUjeZ7"
      },
      "outputs": [
        {
          "output_type": "stream",
          "name": "stdout",
          "text": [
            "10-fold CV accuracy: 0.9634 ± 0.0248\n"
          ]
        }
      ],
      "source": [
        "# Choose and run models with 10-fold cross-validation\n",
        "run_linear_model(X, y)"
      ]
    },
    {
      "cell_type": "code",
      "execution_count": null,
      "metadata": {
        "colab": {
          "base_uri": "https://localhost:8080/"
        },
        "outputId": "6f2703af-2daa-4434-d8f0-0a212075a22f",
        "id": "vUqm-BdxjeZ7"
      },
      "outputs": [
        {
          "output_type": "stream",
          "name": "stdout",
          "text": [
            "KNN with random params: {'n_neighbors': 15, 'knn_alg': 'ball_tree', 'leaf_size': 300}\n",
            "10-fold CV accuracy: 0.9341 ± 0.0289\n"
          ]
        }
      ],
      "source": [
        "run_knn(X, y, seed=42)\n"
      ]
    },
    {
      "cell_type": "code",
      "execution_count": null,
      "metadata": {
        "colab": {
          "base_uri": "https://localhost:8080/"
        },
        "outputId": "ba4c0b29-3749-4007-a381-e0ce7c943e72",
        "id": "Vt1nadnXjeZ7"
      },
      "outputs": [
        {
          "output_type": "stream",
          "name": "stdout",
          "text": [
            "Decision Tree with random params: {'max_depth': 4}\n",
            "10-fold CV accuracy: 0.9558 ± 0.0231\n"
          ]
        }
      ],
      "source": [
        "run_decision_tree(X, y, seed=42)\n"
      ]
    },
    {
      "cell_type": "code",
      "execution_count": null,
      "metadata": {
        "colab": {
          "base_uri": "https://localhost:8080/"
        },
        "outputId": "92651a50-7eb7-4b6c-f4eb-cfa11f422f70",
        "id": "rJCI97UzjeZ7"
      },
      "outputs": [
        {
          "output_type": "stream",
          "name": "stdout",
          "text": [
            "Random Forest with random params: {'max_depth': 4, 'n_estimators': 86}\n",
            "10-fold CV accuracy: 0.8990 ± 0.0204\n"
          ]
        }
      ],
      "source": [
        "run_random_forest(X, y, seed=42)"
      ]
    },
    {
      "cell_type": "markdown",
      "source": [
        "# Task ID84: 167124"
      ],
      "metadata": {
        "id": "y5x3ad8gjenJ"
      }
    },
    {
      "cell_type": "code",
      "execution_count": null,
      "metadata": {
        "colab": {
          "base_uri": "https://localhost:8080/"
        },
        "outputId": "58dd0746-3367-444e-ebae-0689791967b7",
        "id": "sXTULHs4jenK"
      },
      "outputs": [
        {
          "output_type": "stream",
          "name": "stdout",
          "text": [
            "Dataset shape: (60000, 3072)\n"
          ]
        }
      ],
      "source": [
        "# Load and preprocess data using OpenML Task ID\n",
        "X, y = load_preprocess_task(167124)  # Replace with an actual task ID\n"
      ]
    },
    {
      "cell_type": "code",
      "execution_count": null,
      "metadata": {
        "id": "8JBLKuaZjenK"
      },
      "outputs": [],
      "source": [
        "# Choose and run models with 10-fold cross-validation\n",
        "run_linear_model(X, y)"
      ]
    },
    {
      "cell_type": "code",
      "execution_count": null,
      "metadata": {
        "id": "gJ80Zdk9jenK"
      },
      "outputs": [],
      "source": [
        "run_knn(X, y, seed=42)\n"
      ]
    },
    {
      "cell_type": "code",
      "execution_count": null,
      "metadata": {
        "id": "z5tNmqr3jenK"
      },
      "outputs": [],
      "source": [
        "run_decision_tree(X, y, seed=42)\n"
      ]
    },
    {
      "cell_type": "code",
      "execution_count": null,
      "metadata": {
        "id": "fGH_E9UdjenL"
      },
      "outputs": [],
      "source": [
        "run_random_forest(X, y, seed=42)"
      ]
    },
    {
      "cell_type": "markdown",
      "source": [
        "# Task ID85: 167121"
      ],
      "metadata": {
        "id": "Q82DhhLtjezZ"
      }
    },
    {
      "cell_type": "code",
      "execution_count": null,
      "metadata": {
        "colab": {
          "base_uri": "https://localhost:8080/"
        },
        "outputId": "c3dba311-b828-454a-c101-3472ac3a5604",
        "id": "aKG4coGDjezZ"
      },
      "outputs": [
        {
          "output_type": "stream",
          "name": "stdout",
          "text": [
            "Dataset shape: (92000, 1024)\n"
          ]
        }
      ],
      "source": [
        "# Load and preprocess data using OpenML Task ID\n",
        "X, y = load_preprocess_task(167121)  # Replace with an actual task ID\n"
      ]
    },
    {
      "cell_type": "code",
      "execution_count": null,
      "metadata": {
        "id": "FvkcLSxQjeza"
      },
      "outputs": [],
      "source": [
        "# Choose and run models with 10-fold cross-validation\n",
        "run_linear_model(X, y)"
      ]
    },
    {
      "cell_type": "code",
      "execution_count": null,
      "metadata": {
        "id": "SgjE7i6Ijezb"
      },
      "outputs": [],
      "source": [
        "run_knn(X, y, seed=42)\n"
      ]
    },
    {
      "cell_type": "code",
      "execution_count": null,
      "metadata": {
        "id": "_84I0LEUjezc"
      },
      "outputs": [],
      "source": [
        "run_decision_tree(X, y, seed=42)\n"
      ]
    },
    {
      "cell_type": "code",
      "execution_count": null,
      "metadata": {
        "id": "AGesQ2hujezc"
      },
      "outputs": [],
      "source": [
        "run_random_forest(X, y, seed=42)"
      ]
    },
    {
      "cell_type": "code",
      "source": [
        "pip freeze > requirements.txt"
      ],
      "metadata": {
        "id": "EkD7bl3-aIjJ"
      },
      "execution_count": null,
      "outputs": []
    }
  ],
  "metadata": {
    "colab": {
      "provenance": []
    },
    "kernelspec": {
      "display_name": "Python 3",
      "name": "python3"
    },
    "language_info": {
      "name": "python"
    }
  },
  "nbformat": 4,
  "nbformat_minor": 0
}