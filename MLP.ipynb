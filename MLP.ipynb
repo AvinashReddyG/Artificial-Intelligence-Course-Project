{
  "nbformat": 4,
  "nbformat_minor": 0,
  "metadata": {
    "colab": {
      "provenance": []
    },
    "kernelspec": {
      "name": "python3",
      "display_name": "Python 3"
    },
    "language_info": {
      "name": "python"
    }
  },
  "cells": [
    {
      "cell_type": "markdown",
      "source": [
        "# MLP"
      ],
      "metadata": {
        "id": "TExf50FwwwrX"
      }
    },
    {
      "cell_type": "code",
      "source": [
        "pip install pandas scikit-learn openml torch"
      ],
      "metadata": {
        "colab": {
          "base_uri": "https://localhost:8080/"
        },
        "id": "5l-6wZqWP0Ui",
        "outputId": "228d5228-c9a6-48e2-fcdf-211dd5738a33"
      },
      "execution_count": null,
      "outputs": [
        {
          "output_type": "stream",
          "name": "stdout",
          "text": [
            "Requirement already satisfied: pandas in /usr/local/lib/python3.10/dist-packages (2.2.2)\n",
            "Requirement already satisfied: scikit-learn in /usr/local/lib/python3.10/dist-packages (1.5.2)\n",
            "Collecting openml\n",
            "  Downloading openml-0.15.0-py3-none-any.whl.metadata (9.9 kB)\n",
            "Requirement already satisfied: torch in /usr/local/lib/python3.10/dist-packages (2.5.0+cu121)\n",
            "Requirement already satisfied: numpy>=1.22.4 in /usr/local/lib/python3.10/dist-packages (from pandas) (1.26.4)\n",
            "Requirement already satisfied: python-dateutil>=2.8.2 in /usr/local/lib/python3.10/dist-packages (from pandas) (2.8.2)\n",
            "Requirement already satisfied: pytz>=2020.1 in /usr/local/lib/python3.10/dist-packages (from pandas) (2024.2)\n",
            "Requirement already satisfied: tzdata>=2022.7 in /usr/local/lib/python3.10/dist-packages (from pandas) (2024.2)\n",
            "Requirement already satisfied: scipy>=1.6.0 in /usr/local/lib/python3.10/dist-packages (from scikit-learn) (1.13.1)\n",
            "Requirement already satisfied: joblib>=1.2.0 in /usr/local/lib/python3.10/dist-packages (from scikit-learn) (1.4.2)\n",
            "Requirement already satisfied: threadpoolctl>=3.1.0 in /usr/local/lib/python3.10/dist-packages (from scikit-learn) (3.5.0)\n",
            "Collecting liac-arff>=2.4.0 (from openml)\n",
            "  Downloading liac-arff-2.5.0.tar.gz (13 kB)\n",
            "  Preparing metadata (setup.py) ... \u001b[?25l\u001b[?25hdone\n",
            "Collecting xmltodict (from openml)\n",
            "  Downloading xmltodict-0.14.2-py2.py3-none-any.whl.metadata (8.0 kB)\n",
            "Requirement already satisfied: requests in /usr/local/lib/python3.10/dist-packages (from openml) (2.32.3)\n",
            "Collecting minio (from openml)\n",
            "  Downloading minio-7.2.10-py3-none-any.whl.metadata (6.5 kB)\n",
            "Requirement already satisfied: pyarrow in /usr/local/lib/python3.10/dist-packages (from openml) (17.0.0)\n",
            "Requirement already satisfied: tqdm in /usr/local/lib/python3.10/dist-packages (from openml) (4.66.6)\n",
            "Requirement already satisfied: packaging in /usr/local/lib/python3.10/dist-packages (from openml) (24.1)\n",
            "Requirement already satisfied: filelock in /usr/local/lib/python3.10/dist-packages (from torch) (3.16.1)\n",
            "Requirement already satisfied: typing-extensions>=4.8.0 in /usr/local/lib/python3.10/dist-packages (from torch) (4.12.2)\n",
            "Requirement already satisfied: networkx in /usr/local/lib/python3.10/dist-packages (from torch) (3.4.2)\n",
            "Requirement already satisfied: jinja2 in /usr/local/lib/python3.10/dist-packages (from torch) (3.1.4)\n",
            "Requirement already satisfied: fsspec in /usr/local/lib/python3.10/dist-packages (from torch) (2024.10.0)\n",
            "Requirement already satisfied: sympy==1.13.1 in /usr/local/lib/python3.10/dist-packages (from torch) (1.13.1)\n",
            "Requirement already satisfied: mpmath<1.4,>=1.1.0 in /usr/local/lib/python3.10/dist-packages (from sympy==1.13.1->torch) (1.3.0)\n",
            "Requirement already satisfied: six>=1.5 in /usr/local/lib/python3.10/dist-packages (from python-dateutil>=2.8.2->pandas) (1.16.0)\n",
            "Requirement already satisfied: MarkupSafe>=2.0 in /usr/local/lib/python3.10/dist-packages (from jinja2->torch) (3.0.2)\n",
            "Requirement already satisfied: certifi in /usr/local/lib/python3.10/dist-packages (from minio->openml) (2024.8.30)\n",
            "Requirement already satisfied: urllib3 in /usr/local/lib/python3.10/dist-packages (from minio->openml) (2.2.3)\n",
            "Requirement already satisfied: argon2-cffi in /usr/local/lib/python3.10/dist-packages (from minio->openml) (23.1.0)\n",
            "Collecting pycryptodome (from minio->openml)\n",
            "  Downloading pycryptodome-3.21.0-cp36-abi3-manylinux_2_17_x86_64.manylinux2014_x86_64.whl.metadata (3.4 kB)\n",
            "Requirement already satisfied: charset-normalizer<4,>=2 in /usr/local/lib/python3.10/dist-packages (from requests->openml) (3.4.0)\n",
            "Requirement already satisfied: idna<4,>=2.5 in /usr/local/lib/python3.10/dist-packages (from requests->openml) (3.10)\n",
            "Requirement already satisfied: argon2-cffi-bindings in /usr/local/lib/python3.10/dist-packages (from argon2-cffi->minio->openml) (21.2.0)\n",
            "Requirement already satisfied: cffi>=1.0.1 in /usr/local/lib/python3.10/dist-packages (from argon2-cffi-bindings->argon2-cffi->minio->openml) (1.17.1)\n",
            "Requirement already satisfied: pycparser in /usr/local/lib/python3.10/dist-packages (from cffi>=1.0.1->argon2-cffi-bindings->argon2-cffi->minio->openml) (2.22)\n",
            "Downloading openml-0.15.0-py3-none-any.whl (157 kB)\n",
            "\u001b[2K   \u001b[90m━━━━━━━━━━━━━━━━━━━━━━━━━━━━━━━━━━━━━━━━\u001b[0m \u001b[32m158.0/158.0 kB\u001b[0m \u001b[31m5.7 MB/s\u001b[0m eta \u001b[36m0:00:00\u001b[0m\n",
            "\u001b[?25hDownloading minio-7.2.10-py3-none-any.whl (93 kB)\n",
            "\u001b[2K   \u001b[90m━━━━━━━━━━━━━━━━━━━━━━━━━━━━━━━━━━━━━━━━\u001b[0m \u001b[32m93.9/93.9 kB\u001b[0m \u001b[31m3.4 MB/s\u001b[0m eta \u001b[36m0:00:00\u001b[0m\n",
            "\u001b[?25hDownloading xmltodict-0.14.2-py2.py3-none-any.whl (10.0 kB)\n",
            "Downloading pycryptodome-3.21.0-cp36-abi3-manylinux_2_17_x86_64.manylinux2014_x86_64.whl (2.3 MB)\n",
            "\u001b[2K   \u001b[90m━━━━━━━━━━━━━━━━━━━━━━━━━━━━━━━━━━━━━━━━\u001b[0m \u001b[32m2.3/2.3 MB\u001b[0m \u001b[31m12.6 MB/s\u001b[0m eta \u001b[36m0:00:00\u001b[0m\n",
            "\u001b[?25hBuilding wheels for collected packages: liac-arff\n",
            "  Building wheel for liac-arff (setup.py) ... \u001b[?25l\u001b[?25hdone\n",
            "  Created wheel for liac-arff: filename=liac_arff-2.5.0-py3-none-any.whl size=11716 sha256=94c69f7ae318707bde9b7b73ce8971ec00fb361063e7c1276aa082efb1b70d57\n",
            "  Stored in directory: /root/.cache/pip/wheels/5d/2a/9c/3895d9617f8f49a0883ba686326d598e78a1c2f54fe3cae86d\n",
            "Successfully built liac-arff\n",
            "Installing collected packages: xmltodict, pycryptodome, liac-arff, minio, openml\n",
            "Successfully installed liac-arff-2.5.0 minio-7.2.10 openml-0.15.0 pycryptodome-3.21.0 xmltodict-0.14.2\n"
          ]
        }
      ]
    },
    {
      "cell_type": "code",
      "execution_count": null,
      "metadata": {
        "colab": {
          "base_uri": "https://localhost:8080/"
        },
        "id": "FYUT4Lc1PdJI",
        "outputId": "f634e98b-4d6d-4479-9c81-65026c74e908"
      },
      "outputs": [
        {
          "output_type": "stream",
          "name": "stderr",
          "text": [
            "WARNING:openml:No permission to create OpenML directory at /root/.config/openml! This can result in OpenML-Python not working properly.\n"
          ]
        },
        {
          "output_type": "stream",
          "name": "stdout",
          "text": [
            "Using device: cpu\n"
          ]
        }
      ],
      "source": [
        "import numpy as np\n",
        "import torch\n",
        "import torch.nn as nn\n",
        "import torch.optim as optim\n",
        "from torch.utils.data import DataLoader, TensorDataset\n",
        "from sklearn.model_selection import train_test_split\n",
        "from sklearn.metrics import accuracy_score\n",
        "from sklearn.preprocessing import StandardScaler\n",
        "import openml\n",
        "import pandas as pd\n",
        "\n",
        "# Function for random parameter generation\n",
        "def get_random_parameters(seed):\n",
        "    rs = np.random.RandomState(seed)\n",
        "    params = {\n",
        "        \"hidden_dim\": rs.randint(10, 101),\n",
        "        \"n_layers\": rs.randint(2, 6),\n",
        "        \"learning_rate\": rs.uniform(0.00005, 0.0005),  # Adjusted lower learning rate range\n",
        "    }\n",
        "    return params\n",
        "\n",
        "device = torch.device(\"cuda\" if torch.cuda.is_available() else \"cpu\")\n",
        "print(f\"Using device: {device}\")\n",
        "\n",
        "# Load data from OpenML using task ID\n",
        "def load_openml_data(task_id):\n",
        "\n",
        "    task = openml.tasks.get_task(task_id)\n",
        "    dataset = task.get_dataset()\n",
        "    X, y, _, _ = dataset.get_data(target=dataset.default_target_attribute)\n",
        "\n",
        "    # Convert categorical features to numeric using one-hot encoding\n",
        "    X = pd.get_dummies(X, drop_first=True)\n",
        "\n",
        "    # Fill NaN values with column means and Inf with large finite values\n",
        "    X = X.fillna(X.mean())\n",
        "    X.replace([np.inf, -np.inf], np.nan, inplace=True)\n",
        "    X = X.dropna()  # Optionally drop remaining NaNs if any\n",
        "\n",
        "    # Convert to numpy\n",
        "    X = X.to_numpy().astype(np.float32)\n",
        "    y = pd.factorize(y)[0]\n",
        "\n",
        "    return X, y\n",
        "\n",
        "\n",
        "# Define MLP model\n",
        "def initialize_mlp(n_layers, input_dim, hidden_dim, output_dim, objective):\n",
        "    layers = [nn.Linear(input_dim, hidden_dim), nn.ReLU()]\n",
        "    layers.extend([nn.Linear(hidden_dim, hidden_dim), nn.ReLU()] * (n_layers - 1))\n",
        "    layers.append(nn.Linear(hidden_dim, output_dim))\n",
        "    model = nn.Sequential(*layers)\n",
        "    return model\n",
        "\n",
        "# Training function with gradient clipping\n",
        "def train_mlp(model, X_train, y_train, X_val, y_val, args, params):\n",
        "    device = torch.device(\"cuda\" if torch.cuda.is_available() else \"cpu\")\n",
        "    model.to(device)\n",
        "\n",
        "    optimizer = optim.AdamW(model.parameters(), lr=params[\"learning_rate\"])\n",
        "    loss_func = nn.CrossEntropyLoss()\n",
        "\n",
        "    train_dataset = TensorDataset(torch.tensor(X_train, dtype=torch.float32), torch.tensor(y_train, dtype=torch.long))\n",
        "    train_loader = DataLoader(dataset=train_dataset, batch_size=args[\"batch_size\"], shuffle=True)\n",
        "\n",
        "    val_dataset = TensorDataset(torch.tensor(X_val, dtype=torch.float32), torch.tensor(y_val, dtype=torch.long))\n",
        "    val_loader = DataLoader(dataset=val_dataset, batch_size=args[\"val_batch_size\"], shuffle=False)\n",
        "\n",
        "    for epoch in range(args[\"epochs\"]):\n",
        "        model.train()\n",
        "        for batch_X, batch_y in train_loader:\n",
        "            batch_X, batch_y = batch_X.to(device), batch_y.to(device)\n",
        "            optimizer.zero_grad()\n",
        "            output = model(batch_X)\n",
        "            loss = loss_func(output, batch_y)\n",
        "            loss.backward()\n",
        "\n",
        "            # Apply gradient clipping\n",
        "            torch.nn.utils.clip_grad_norm_(model.parameters(), max_norm=1.0)\n",
        "            optimizer.step()\n",
        "\n",
        "        # Validation\n",
        "        model.eval()\n",
        "        val_loss = 0.0\n",
        "        with torch.no_grad():\n",
        "            for batch_X, batch_y in val_loader:\n",
        "                batch_X, batch_y = batch_X.to(device), batch_y.to(device)\n",
        "                output = model(batch_X)\n",
        "                val_loss += loss_func(output, batch_y).item()\n",
        "\n",
        "        val_loss /= len(val_loader)\n",
        "        print(f\"Epoch {epoch+1}, Validation Loss: {val_loss:.4f}\")\n",
        "\n",
        "    return model\n",
        "\n",
        "# Prediction function\n",
        "def predict_mlp(model, X, args):\n",
        "    device = torch.device(\"cuda\" if torch.cuda.is_available() else \"cpu\")\n",
        "    model.to(device)\n",
        "    model.eval()\n",
        "\n",
        "    X_tensor = torch.tensor(X, dtype=torch.float32).to(device)\n",
        "    with torch.no_grad():\n",
        "        output = model(X_tensor)\n",
        "        predictions = output.argmax(dim=1).cpu().numpy()\n",
        "\n",
        "    return predictions\n",
        "\n",
        "# Set hyperparameters and arguments\n",
        "args = {\n",
        "    \"objective\": \"classification\",\n",
        "    \"batch_size\": 64,\n",
        "    \"val_batch_size\": 64,\n",
        "    \"epochs\": 10,\n",
        "    \"num_features\": None,\n",
        "    \"num_classes\": None,\n",
        "}\n",
        "\n",
        "seed = 42\n",
        "params = get_random_parameters(seed)\n",
        "\n"
      ]
    },
    {
      "cell_type": "markdown",
      "source": [
        "# Task ID1: 14965"
      ],
      "metadata": {
        "id": "Av3Ht0glwhhn"
      }
    },
    {
      "cell_type": "code",
      "source": [
        "# Load and preprocess data\n",
        "X, y = load_openml_data(task_id=14965)\n",
        "X_train, X_val, y_train, y_val = train_test_split(X, y, test_size=0.2, random_state=42)\n",
        "\n",
        "# Standardize features\n",
        "scaler = StandardScaler()\n",
        "X_train = scaler.fit_transform(X_train)\n",
        "X_val = scaler.transform(X_val)\n",
        "\n",
        "# Update args based on data\n",
        "args[\"num_features\"] = X_train.shape[1]\n",
        "args[\"num_classes\"] = len(np.unique(y))\n",
        "\n",
        "# Initialize and train the model\n",
        "mlp_model = initialize_mlp(params[\"n_layers\"], args[\"num_features\"], params[\"hidden_dim\"], args[\"num_classes\"], args[\"objective\"])\n",
        "trained_model = train_mlp(mlp_model, X_train, y_train, X_val, y_val, args, params)\n",
        "\n",
        "# Make predictions and calculate accuracy\n",
        "predictions = predict_mlp(trained_model, X_val, args)\n",
        "accuracy = accuracy_score(y_val, predictions)\n",
        "print(f\"Validation Accuracy: {accuracy:.4f}\")\n"
      ],
      "metadata": {
        "colab": {
          "base_uri": "https://localhost:8080/"
        },
        "id": "V55mursFwb6w",
        "outputId": "221f0d29-136a-418b-8e99-5ca219109328"
      },
      "execution_count": null,
      "outputs": [
        {
          "output_type": "stream",
          "name": "stdout",
          "text": [
            "Epoch 1, Validation Loss: 0.2617\n",
            "Epoch 2, Validation Loss: 0.2339\n",
            "Epoch 3, Validation Loss: 0.2280\n",
            "Epoch 4, Validation Loss: 0.2242\n",
            "Epoch 5, Validation Loss: 0.2222\n",
            "Epoch 6, Validation Loss: 0.2206\n",
            "Epoch 7, Validation Loss: 0.2194\n",
            "Epoch 8, Validation Loss: 0.2180\n",
            "Epoch 9, Validation Loss: 0.2175\n",
            "Epoch 10, Validation Loss: 0.2166\n",
            "Validation Accuracy: 0.9035\n"
          ]
        }
      ]
    },
    {
      "cell_type": "markdown",
      "source": [
        "# Task ID2: 9977"
      ],
      "metadata": {
        "id": "_bEEFrVDxJk6"
      }
    },
    {
      "cell_type": "code",
      "source": [
        "# Load and preprocess data\n",
        "X, y = load_openml_data(task_id=9977)\n",
        "X_train, X_val, y_train, y_val = train_test_split(X, y, test_size=0.2, random_state=42)\n",
        "\n",
        "# Standardize features\n",
        "scaler = StandardScaler()\n",
        "X_train = scaler.fit_transform(X_train)\n",
        "X_val = scaler.transform(X_val)\n",
        "\n",
        "# Update args based on data\n",
        "args[\"num_features\"] = X_train.shape[1]\n",
        "args[\"num_classes\"] = len(np.unique(y))\n",
        "\n",
        "# Initialize and train the model\n",
        "mlp_model = initialize_mlp(params[\"n_layers\"], args[\"num_features\"], params[\"hidden_dim\"], args[\"num_classes\"], args[\"objective\"])\n",
        "trained_model = train_mlp(mlp_model, X_train, y_train, X_val, y_val, args, params)\n",
        "\n",
        "# Make predictions and calculate accuracy\n",
        "predictions = predict_mlp(trained_model, X_val, args)\n",
        "accuracy = accuracy_score(y_val, predictions)\n",
        "print(f\"Validation Accuracy: {accuracy:.4f}\")\n"
      ],
      "metadata": {
        "colab": {
          "base_uri": "https://localhost:8080/"
        },
        "id": "cLAu_7R90MQg",
        "outputId": "531f1e55-0a5e-4a50-8fb2-c7036bd38a04"
      },
      "execution_count": null,
      "outputs": [
        {
          "output_type": "stream",
          "name": "stdout",
          "text": [
            "Epoch 1, Validation Loss: 0.1591\n",
            "Epoch 2, Validation Loss: 0.1377\n",
            "Epoch 3, Validation Loss: 0.1296\n",
            "Epoch 4, Validation Loss: 0.1253\n",
            "Epoch 5, Validation Loss: 0.1221\n",
            "Epoch 6, Validation Loss: 0.1208\n",
            "Epoch 7, Validation Loss: 0.1183\n",
            "Epoch 8, Validation Loss: 0.1173\n",
            "Epoch 9, Validation Loss: 0.1144\n",
            "Epoch 10, Validation Loss: 0.1163\n",
            "Validation Accuracy: 0.9542\n"
          ]
        }
      ]
    },
    {
      "cell_type": "markdown",
      "metadata": {
        "id": "7Hz-jF53KD4A"
      },
      "source": [
        "# Task ID3: 34539"
      ]
    },
    {
      "cell_type": "code",
      "source": [
        "# Load and preprocess data\n",
        "X, y = load_openml_data(task_id=34539)\n",
        "X_train, X_val, y_train, y_val = train_test_split(X, y, test_size=0.2, random_state=42)\n",
        "\n",
        "# Standardize features\n",
        "scaler = StandardScaler()\n",
        "X_train = scaler.fit_transform(X_train)\n",
        "X_val = scaler.transform(X_val)\n",
        "\n",
        "# Update args based on data\n",
        "args[\"num_features\"] = X_train.shape[1]\n",
        "args[\"num_classes\"] = len(np.unique(y))\n",
        "\n",
        "# Initialize and train the model\n",
        "mlp_model = initialize_mlp(params[\"n_layers\"], args[\"num_features\"], params[\"hidden_dim\"], args[\"num_classes\"], args[\"objective\"])\n",
        "trained_model = train_mlp(mlp_model, X_train, y_train, X_val, y_val, args, params)\n",
        "\n",
        "# Make predictions and calculate accuracy\n",
        "predictions = predict_mlp(trained_model, X_val, args)\n",
        "accuracy = accuracy_score(y_val, predictions)\n",
        "print(f\"Validation Accuracy: {accuracy:.4f}\")\n"
      ],
      "metadata": {
        "colab": {
          "base_uri": "https://localhost:8080/"
        },
        "id": "3RVpMSL60hAW",
        "outputId": "dbeb7a0e-3f8c-42ad-c0e2-ffb069fa3d49"
      },
      "execution_count": null,
      "outputs": [
        {
          "output_type": "stream",
          "name": "stdout",
          "text": [
            "Epoch 1, Validation Loss: 0.2228\n",
            "Epoch 2, Validation Loss: 0.1846\n",
            "Epoch 3, Validation Loss: 0.1945\n",
            "Epoch 4, Validation Loss: 0.2289\n",
            "Epoch 5, Validation Loss: 0.2576\n",
            "Epoch 6, Validation Loss: 0.2801\n",
            "Epoch 7, Validation Loss: 0.3096\n",
            "Epoch 8, Validation Loss: 0.3476\n",
            "Epoch 9, Validation Loss: 0.3596\n",
            "Epoch 10, Validation Loss: 0.4040\n",
            "Validation Accuracy: 0.9362\n"
          ]
        }
      ]
    },
    {
      "cell_type": "markdown",
      "metadata": {
        "id": "KJ1lM1Bv99qs"
      },
      "source": [
        "# Task ID4: 146606"
      ]
    },
    {
      "cell_type": "code",
      "source": [
        "# Load and preprocess data\n",
        "X, y = load_openml_data(task_id=146606)\n",
        "X_train, X_val, y_train, y_val = train_test_split(X, y, test_size=0.2, random_state=42)\n",
        "\n",
        "# Standardize features\n",
        "scaler = StandardScaler()\n",
        "X_train = scaler.fit_transform(X_train)\n",
        "X_val = scaler.transform(X_val)\n",
        "\n",
        "# Update args based on data\n",
        "args[\"num_features\"] = X_train.shape[1]\n",
        "args[\"num_classes\"] = len(np.unique(y))\n",
        "\n",
        "# Initialize and train the model\n",
        "mlp_model = initialize_mlp(params[\"n_layers\"], args[\"num_features\"], params[\"hidden_dim\"], args[\"num_classes\"], args[\"objective\"])\n",
        "trained_model = train_mlp(mlp_model, X_train, y_train, X_val, y_val, args, params)\n",
        "\n",
        "# Make predictions and calculate accuracy\n",
        "predictions = predict_mlp(trained_model, X_val, args)\n",
        "accuracy = accuracy_score(y_val, predictions)\n",
        "print(f\"Validation Accuracy: {accuracy:.4f}\")\n"
      ],
      "metadata": {
        "colab": {
          "base_uri": "https://localhost:8080/"
        },
        "id": "0odrZK6405zj",
        "outputId": "9781db26-8823-4787-a2a3-77b280be74a0"
      },
      "execution_count": null,
      "outputs": [
        {
          "output_type": "stream",
          "name": "stdout",
          "text": [
            "Epoch 1, Validation Loss: 0.6401\n",
            "Epoch 2, Validation Loss: 0.6242\n",
            "Epoch 3, Validation Loss: 0.6142\n",
            "Epoch 4, Validation Loss: 0.6077\n",
            "Epoch 5, Validation Loss: 0.6024\n",
            "Epoch 6, Validation Loss: 0.5982\n",
            "Epoch 7, Validation Loss: 0.5935\n",
            "Epoch 8, Validation Loss: 0.5907\n",
            "Epoch 9, Validation Loss: 0.5875\n",
            "Epoch 10, Validation Loss: 0.5851\n",
            "Validation Accuracy: 0.6917\n"
          ]
        }
      ]
    },
    {
      "cell_type": "markdown",
      "metadata": {
        "id": "agXkkvFj-uRE"
      },
      "source": [
        "# Task ID5: 7592\n",
        "\n"
      ]
    },
    {
      "cell_type": "code",
      "source": [
        "# Load and preprocess data\n",
        "X, y = load_openml_data(task_id=7592)\n",
        "X_train, X_val, y_train, y_val = train_test_split(X, y, test_size=0.2, random_state=42)\n",
        "\n",
        "# Standardize features\n",
        "scaler = StandardScaler()\n",
        "X_train = scaler.fit_transform(X_train)\n",
        "X_val = scaler.transform(X_val)\n",
        "\n",
        "# Update args based on data\n",
        "args[\"num_features\"] = X_train.shape[1]\n",
        "args[\"num_classes\"] = len(np.unique(y))\n",
        "\n",
        "# Initialize and train the model\n",
        "mlp_model = initialize_mlp(params[\"n_layers\"], args[\"num_features\"], params[\"hidden_dim\"], args[\"num_classes\"], args[\"objective\"])\n",
        "trained_model = train_mlp(mlp_model, X_train, y_train, X_val, y_val, args, params)\n",
        "\n",
        "# Make predictions and calculate accuracy\n",
        "predictions = predict_mlp(trained_model, X_val, args)\n",
        "accuracy = accuracy_score(y_val, predictions)\n",
        "print(f\"Validation Accuracy: {accuracy:.4f}\")\n"
      ],
      "metadata": {
        "colab": {
          "base_uri": "https://localhost:8080/"
        },
        "id": "glpuATaK0--V",
        "outputId": "48b90bae-9439-4062-af78-0a4d683f09b6"
      },
      "execution_count": null,
      "outputs": [
        {
          "output_type": "stream",
          "name": "stdout",
          "text": [
            "Epoch 1, Validation Loss: 0.3434\n",
            "Epoch 2, Validation Loss: 0.3242\n",
            "Epoch 3, Validation Loss: 0.3154\n",
            "Epoch 4, Validation Loss: 0.3106\n",
            "Epoch 5, Validation Loss: 0.3086\n",
            "Epoch 6, Validation Loss: 0.3070\n",
            "Epoch 7, Validation Loss: 0.3053\n",
            "Epoch 8, Validation Loss: 0.3050\n",
            "Epoch 9, Validation Loss: 0.3043\n",
            "Epoch 10, Validation Loss: 0.3035\n",
            "Validation Accuracy: 0.8590\n"
          ]
        }
      ]
    },
    {
      "cell_type": "markdown",
      "metadata": {
        "id": "5qB-NZ-t-wyd"
      },
      "source": [
        "# Task ID6: 146195\n",
        "\n"
      ]
    },
    {
      "cell_type": "code",
      "source": [
        "# Load and preprocess data\n",
        "X, y = load_openml_data(task_id=146195)\n",
        "X_train, X_val, y_train, y_val = train_test_split(X, y, test_size=0.2, random_state=42)\n",
        "\n",
        "# Standardize features\n",
        "scaler = StandardScaler()\n",
        "X_train = scaler.fit_transform(X_train)\n",
        "X_val = scaler.transform(X_val)\n",
        "\n",
        "# Update args based on data\n",
        "args[\"num_features\"] = X_train.shape[1]\n",
        "args[\"num_classes\"] = len(np.unique(y))\n",
        "\n",
        "# Initialize and train the model\n",
        "mlp_model = initialize_mlp(params[\"n_layers\"], args[\"num_features\"], params[\"hidden_dim\"], args[\"num_classes\"], args[\"objective\"])\n",
        "trained_model = train_mlp(mlp_model, X_train, y_train, X_val, y_val, args, params)\n",
        "\n",
        "# Make predictions and calculate accuracy\n",
        "predictions = predict_mlp(trained_model, X_val, args)\n",
        "accuracy = accuracy_score(y_val, predictions)\n",
        "print(f\"Validation Accuracy: {accuracy:.4f}\")\n"
      ],
      "metadata": {
        "colab": {
          "base_uri": "https://localhost:8080/"
        },
        "id": "liv01-xj1Aib",
        "outputId": "64a23a26-4c47-402a-f501-c8d540fab7fa"
      },
      "execution_count": null,
      "outputs": [
        {
          "output_type": "stream",
          "name": "stdout",
          "text": [
            "Epoch 1, Validation Loss: 0.6165\n",
            "Epoch 2, Validation Loss: 0.5790\n",
            "Epoch 3, Validation Loss: 0.5577\n",
            "Epoch 4, Validation Loss: 0.5400\n",
            "Epoch 5, Validation Loss: 0.5217\n",
            "Epoch 6, Validation Loss: 0.5079\n",
            "Epoch 7, Validation Loss: 0.4953\n",
            "Epoch 8, Validation Loss: 0.4868\n",
            "Epoch 9, Validation Loss: 0.4793\n",
            "Epoch 10, Validation Loss: 0.4734\n",
            "Validation Accuracy: 0.8105\n"
          ]
        }
      ]
    },
    {
      "cell_type": "markdown",
      "metadata": {
        "id": "D-6lP2ED-yYw"
      },
      "source": [
        "# Task ID7: 167119\n",
        "\n"
      ]
    },
    {
      "cell_type": "code",
      "source": [
        "# Load and preprocess data\n",
        "X, y = load_openml_data(task_id=167119)\n",
        "X_train, X_val, y_train, y_val = train_test_split(X, y, test_size=0.2, random_state=42)\n",
        "\n",
        "# Standardize features\n",
        "scaler = StandardScaler()\n",
        "X_train = scaler.fit_transform(X_train)\n",
        "X_val = scaler.transform(X_val)\n",
        "\n",
        "# Update args based on data\n",
        "args[\"num_features\"] = X_train.shape[1]\n",
        "args[\"num_classes\"] = len(np.unique(y))\n",
        "\n",
        "# Initialize and train the model\n",
        "mlp_model = initialize_mlp(params[\"n_layers\"], args[\"num_features\"], params[\"hidden_dim\"], args[\"num_classes\"], args[\"objective\"])\n",
        "trained_model = train_mlp(mlp_model, X_train, y_train, X_val, y_val, args, params)\n",
        "\n",
        "# Make predictions and calculate accuracy\n",
        "predictions = predict_mlp(trained_model, X_val, args)\n",
        "accuracy = accuracy_score(y_val, predictions)\n",
        "print(f\"Validation Accuracy: {accuracy:.4f}\")\n"
      ],
      "metadata": {
        "colab": {
          "base_uri": "https://localhost:8080/"
        },
        "id": "s8NttQDk1BiC",
        "outputId": "629bc654-2596-4dee-fd9e-e22fa24abc59"
      },
      "execution_count": null,
      "outputs": [
        {
          "output_type": "stream",
          "name": "stdout",
          "text": [
            "Epoch 1, Validation Loss: 0.7152\n",
            "Epoch 2, Validation Loss: 0.6600\n",
            "Epoch 3, Validation Loss: 0.6155\n",
            "Epoch 4, Validation Loss: 0.5792\n",
            "Epoch 5, Validation Loss: 0.5527\n",
            "Epoch 6, Validation Loss: 0.5334\n",
            "Epoch 7, Validation Loss: 0.5176\n",
            "Epoch 8, Validation Loss: 0.5044\n",
            "Epoch 9, Validation Loss: 0.4946\n",
            "Epoch 10, Validation Loss: 0.4844\n",
            "Validation Accuracy: 0.8017\n"
          ]
        }
      ]
    },
    {
      "cell_type": "markdown",
      "metadata": {
        "id": "UhMkxXLjFYC_"
      },
      "source": [
        "# Task ID8: 167120\n",
        "\n"
      ]
    },
    {
      "cell_type": "code",
      "source": [
        "# Load and preprocess data\n",
        "X, y = load_openml_data(task_id=167120)\n",
        "X_train, X_val, y_train, y_val = train_test_split(X, y, test_size=0.2, random_state=42)\n",
        "\n",
        "# Standardize features\n",
        "scaler = StandardScaler()\n",
        "X_train = scaler.fit_transform(X_train)\n",
        "X_val = scaler.transform(X_val)\n",
        "\n",
        "# Update args based on data\n",
        "args[\"num_features\"] = X_train.shape[1]\n",
        "args[\"num_classes\"] = len(np.unique(y))\n",
        "\n",
        "# Initialize and train the model\n",
        "mlp_model = initialize_mlp(params[\"n_layers\"], args[\"num_features\"], params[\"hidden_dim\"], args[\"num_classes\"], args[\"objective\"])\n",
        "trained_model = train_mlp(mlp_model, X_train, y_train, X_val, y_val, args, params)\n",
        "\n",
        "# Make predictions and calculate accuracy\n",
        "predictions = predict_mlp(trained_model, X_val, args)\n",
        "accuracy = accuracy_score(y_val, predictions)\n",
        "print(f\"Validation Accuracy: {accuracy:.4f}\")\n"
      ],
      "metadata": {
        "colab": {
          "base_uri": "https://localhost:8080/"
        },
        "id": "aT6fd-hO1CrH",
        "outputId": "4122eaf1-6f2f-4f7d-bda6-30a791c5653b"
      },
      "execution_count": null,
      "outputs": [
        {
          "output_type": "stream",
          "name": "stdout",
          "text": [
            "Epoch 1, Validation Loss: 0.6932\n",
            "Epoch 2, Validation Loss: 0.6927\n",
            "Epoch 3, Validation Loss: 0.6927\n",
            "Epoch 4, Validation Loss: 0.6926\n",
            "Epoch 5, Validation Loss: 0.6926\n",
            "Epoch 6, Validation Loss: 0.6927\n",
            "Epoch 7, Validation Loss: 0.6926\n",
            "Epoch 8, Validation Loss: 0.6925\n",
            "Epoch 9, Validation Loss: 0.6927\n",
            "Epoch 10, Validation Loss: 0.6928\n",
            "Validation Accuracy: 0.5166\n"
          ]
        }
      ]
    },
    {
      "cell_type": "markdown",
      "metadata": {
        "id": "7Or_hKHXYB39"
      },
      "source": [
        "# Task ID11: \t168331\n",
        "\n"
      ]
    },
    {
      "cell_type": "code",
      "source": [
        "# Load and preprocess data\n",
        "X, y = load_openml_data(task_id=168331)\n",
        "X_train, X_val, y_train, y_val = train_test_split(X, y, test_size=0.2, random_state=42)\n",
        "\n",
        "# Standardize features\n",
        "scaler = StandardScaler()\n",
        "X_train = scaler.fit_transform(X_train)\n",
        "X_val = scaler.transform(X_val)\n",
        "\n",
        "# Update args based on data\n",
        "args[\"num_features\"] = X_train.shape[1]\n",
        "args[\"num_classes\"] = len(np.unique(y))\n",
        "\n",
        "# Initialize and train the model\n",
        "mlp_model = initialize_mlp(params[\"n_layers\"], args[\"num_features\"], params[\"hidden_dim\"], args[\"num_classes\"], args[\"objective\"])\n",
        "trained_model = train_mlp(mlp_model, X_train, y_train, X_val, y_val, args, params)\n",
        "\n",
        "# Make predictions and calculate accuracy\n",
        "predictions = predict_mlp(trained_model, X_val, args)\n",
        "accuracy = accuracy_score(y_val, predictions)\n",
        "print(f\"Validation Accuracy: {accuracy:.4f}\")\n"
      ],
      "metadata": {
        "colab": {
          "base_uri": "https://localhost:8080/"
        },
        "id": "TNZovAQU1FRh",
        "outputId": "7b344cbb-1887-45be-d7f0-b7a0dd1ab930"
      },
      "execution_count": null,
      "outputs": [
        {
          "output_type": "stream",
          "name": "stdout",
          "text": [
            "Epoch 1, Validation Loss: 1.3411\n",
            "Epoch 2, Validation Loss: 1.2322\n",
            "Epoch 3, Validation Loss: 1.1965\n",
            "Epoch 4, Validation Loss: 1.1750\n",
            "Epoch 5, Validation Loss: 1.1582\n",
            "Epoch 6, Validation Loss: 1.1426\n",
            "Epoch 7, Validation Loss: 1.1332\n",
            "Epoch 8, Validation Loss: 1.1247\n",
            "Epoch 9, Validation Loss: 1.1153\n",
            "Epoch 10, Validation Loss: 1.1086\n",
            "Validation Accuracy: 0.6020\n"
          ]
        }
      ]
    },
    {
      "cell_type": "markdown",
      "metadata": {
        "id": "yUMhEOrBdFAA"
      },
      "source": [
        "# Task ID12: \t168330\n",
        "\n"
      ]
    },
    {
      "cell_type": "code",
      "source": [
        "# Load and preprocess data\n",
        "X, y = load_openml_data(task_id=168330)\n",
        "X_train, X_val, y_train, y_val = train_test_split(X, y, test_size=0.2, random_state=42)\n",
        "\n",
        "# Standardize features\n",
        "scaler = StandardScaler()\n",
        "X_train = scaler.fit_transform(X_train)\n",
        "X_val = scaler.transform(X_val)\n",
        "\n",
        "# Update args based on data\n",
        "args[\"num_features\"] = X_train.shape[1]\n",
        "args[\"num_classes\"] = len(np.unique(y))\n",
        "\n",
        "# Initialize and train the model\n",
        "mlp_model = initialize_mlp(params[\"n_layers\"], args[\"num_features\"], params[\"hidden_dim\"], args[\"num_classes\"], args[\"objective\"])\n",
        "trained_model = train_mlp(mlp_model, X_train, y_train, X_val, y_val, args, params)\n",
        "\n",
        "# Make predictions and calculate accuracy\n",
        "predictions = predict_mlp(trained_model, X_val, args)\n",
        "accuracy = accuracy_score(y_val, predictions)\n",
        "print(f\"Validation Accuracy: {accuracy:.4f}\")\n"
      ],
      "metadata": {
        "colab": {
          "base_uri": "https://localhost:8080/"
        },
        "id": "EDFx0vtX1Go6",
        "outputId": "13556f82-df25-41b8-d391-ac288f7315c7"
      },
      "execution_count": null,
      "outputs": [
        {
          "output_type": "stream",
          "name": "stdout",
          "text": [
            "Epoch 1, Validation Loss: 0.8471\n",
            "Epoch 2, Validation Loss: 0.8239\n",
            "Epoch 3, Validation Loss: 0.8099\n",
            "Epoch 4, Validation Loss: 0.7987\n",
            "Epoch 5, Validation Loss: 0.7902\n",
            "Epoch 6, Validation Loss: 0.7818\n",
            "Epoch 7, Validation Loss: 0.7741\n",
            "Epoch 8, Validation Loss: 0.7683\n",
            "Epoch 9, Validation Loss: 0.7628\n",
            "Epoch 10, Validation Loss: 0.7589\n",
            "Validation Accuracy: 0.6781\n"
          ]
        }
      ]
    },
    {
      "cell_type": "markdown",
      "metadata": {
        "id": "d3yrnlEGULX7"
      },
      "source": [
        "# Task ID13: \t168335\n",
        "\n"
      ]
    },
    {
      "cell_type": "code",
      "source": [
        "# Load and preprocess data\n",
        "X, y = load_openml_data(task_id=168335)\n",
        "X_train, X_val, y_train, y_val = train_test_split(X, y, test_size=0.2, random_state=42)\n",
        "\n",
        "# Standardize features\n",
        "scaler = StandardScaler()\n",
        "X_train = scaler.fit_transform(X_train)\n",
        "X_val = scaler.transform(X_val)\n",
        "\n",
        "# Update args based on data\n",
        "args[\"num_features\"] = X_train.shape[1]\n",
        "args[\"num_classes\"] = len(np.unique(y))\n",
        "\n",
        "# Initialize and train the model\n",
        "mlp_model = initialize_mlp(params[\"n_layers\"], args[\"num_features\"], params[\"hidden_dim\"], args[\"num_classes\"], args[\"objective\"])\n",
        "trained_model = train_mlp(mlp_model, X_train, y_train, X_val, y_val, args, params)\n",
        "\n",
        "# Make predictions and calculate accuracy\n",
        "predictions = predict_mlp(trained_model, X_val, args)\n",
        "accuracy = accuracy_score(y_val, predictions)\n",
        "print(f\"Validation Accuracy: {accuracy:.4f}\")\n"
      ],
      "metadata": {
        "colab": {
          "base_uri": "https://localhost:8080/"
        },
        "id": "NiObocx31Hr3",
        "outputId": "fae3efa1-8205-4466-c7a4-e05735b75f28"
      },
      "execution_count": null,
      "outputs": [
        {
          "output_type": "stream",
          "name": "stdout",
          "text": [
            "Epoch 1, Validation Loss: 0.2862\n",
            "Epoch 2, Validation Loss: 0.2583\n",
            "Epoch 3, Validation Loss: 0.2466\n",
            "Epoch 4, Validation Loss: 0.2383\n",
            "Epoch 5, Validation Loss: 0.2342\n",
            "Epoch 6, Validation Loss: 0.2281\n",
            "Epoch 7, Validation Loss: 0.2243\n",
            "Epoch 8, Validation Loss: 0.2217\n",
            "Epoch 9, Validation Loss: 0.2180\n",
            "Epoch 10, Validation Loss: 0.2138\n",
            "Validation Accuracy: 0.9114\n"
          ]
        }
      ]
    },
    {
      "cell_type": "markdown",
      "metadata": {
        "id": "065Jhn3bUN3E"
      },
      "source": [
        "\n",
        "# Task ID16: \t146212\n",
        "\n"
      ]
    },
    {
      "cell_type": "code",
      "source": [
        "# Load and preprocess data\n",
        "X, y = load_openml_data(task_id=146212)\n",
        "X_train, X_val, y_train, y_val = train_test_split(X, y, test_size=0.2, random_state=42)\n",
        "\n",
        "# Standardize features\n",
        "scaler = StandardScaler()\n",
        "X_train = scaler.fit_transform(X_train)\n",
        "X_val = scaler.transform(X_val)\n",
        "\n",
        "# Update args based on data\n",
        "args[\"num_features\"] = X_train.shape[1]\n",
        "args[\"num_classes\"] = len(np.unique(y))\n",
        "\n",
        "# Initialize and train the model\n",
        "mlp_model = initialize_mlp(params[\"n_layers\"], args[\"num_features\"], params[\"hidden_dim\"], args[\"num_classes\"], args[\"objective\"])\n",
        "trained_model = train_mlp(mlp_model, X_train, y_train, X_val, y_val, args, params)\n",
        "\n",
        "# Make predictions and calculate accuracy\n",
        "predictions = predict_mlp(trained_model, X_val, args)\n",
        "accuracy = accuracy_score(y_val, predictions)\n",
        "print(f\"Validation Accuracy: {accuracy:.4f}\")\n"
      ],
      "metadata": {
        "colab": {
          "base_uri": "https://localhost:8080/"
        },
        "id": "TfYhh9pY1Ibv",
        "outputId": "f162b000-c7aa-4a1a-bb76-68191882e03a"
      },
      "execution_count": null,
      "outputs": [
        {
          "output_type": "stream",
          "name": "stdout",
          "text": [
            "Epoch 1, Validation Loss: 0.2034\n",
            "Epoch 2, Validation Loss: 0.1067\n",
            "Epoch 3, Validation Loss: 0.0710\n",
            "Epoch 4, Validation Loss: 0.0523\n",
            "Epoch 5, Validation Loss: 0.0421\n",
            "Epoch 6, Validation Loss: 0.0360\n",
            "Epoch 7, Validation Loss: 0.0320\n",
            "Epoch 8, Validation Loss: 0.0293\n",
            "Epoch 9, Validation Loss: 0.0272\n",
            "Epoch 10, Validation Loss: 0.0261\n",
            "Validation Accuracy: 0.9962\n"
          ]
        }
      ]
    },
    {
      "cell_type": "markdown",
      "metadata": {
        "id": "lPP_6tsjUQVe"
      },
      "source": [
        "# Task ID19: \t168868\n",
        "\n"
      ]
    },
    {
      "cell_type": "code",
      "source": [
        "# Load and preprocess data\n",
        "X, y = load_openml_data(task_id=168868)\n",
        "X_train, X_val, y_train, y_val = train_test_split(X, y, test_size=0.2, random_state=42)\n",
        "\n",
        "# Standardize features\n",
        "scaler = StandardScaler()\n",
        "X_train = scaler.fit_transform(X_train)\n",
        "X_val = scaler.transform(X_val)\n",
        "\n",
        "# Update args based on data\n",
        "args[\"num_features\"] = X_train.shape[1]\n",
        "args[\"num_classes\"] = len(np.unique(y))\n",
        "\n",
        "# Initialize and train the model\n",
        "mlp_model = initialize_mlp(params[\"n_layers\"], args[\"num_features\"], params[\"hidden_dim\"], args[\"num_classes\"], args[\"objective\"])\n",
        "trained_model = train_mlp(mlp_model, X_train, y_train, X_val, y_val, args, params)\n",
        "\n",
        "# Make predictions and calculate accuracy\n",
        "predictions = predict_mlp(trained_model, X_val, args)\n",
        "accuracy = accuracy_score(y_val, predictions)\n",
        "print(f\"Validation Accuracy: {accuracy:.4f}\")\n"
      ],
      "metadata": {
        "colab": {
          "base_uri": "https://localhost:8080/"
        },
        "id": "_mObmSiH1JPP",
        "outputId": "4c6bbfcd-e666-44fd-89a8-063dfec73f77"
      },
      "execution_count": null,
      "outputs": [
        {
          "output_type": "stream",
          "name": "stdout",
          "text": [
            "Epoch 1, Validation Loss: 0.0426\n",
            "Epoch 2, Validation Loss: 0.0381\n",
            "Epoch 3, Validation Loss: 0.0379\n",
            "Epoch 4, Validation Loss: 0.0369\n",
            "Epoch 5, Validation Loss: 0.0378\n",
            "Epoch 6, Validation Loss: 0.0383\n",
            "Epoch 7, Validation Loss: 0.0405\n",
            "Epoch 8, Validation Loss: 0.0446\n",
            "Epoch 9, Validation Loss: 0.0424\n",
            "Epoch 10, Validation Loss: 0.0426\n",
            "Validation Accuracy: 0.9909\n"
          ]
        }
      ]
    },
    {
      "cell_type": "markdown",
      "source": [
        "# Task ID20: 31"
      ],
      "metadata": {
        "id": "UkfKJeLtuxt7"
      }
    },
    {
      "cell_type": "code",
      "source": [
        "# Load and preprocess data\n",
        "X, y = load_openml_data(task_id=31)\n",
        "X_train, X_val, y_train, y_val = train_test_split(X, y, test_size=0.2, random_state=42)\n",
        "\n",
        "# Standardize features\n",
        "scaler = StandardScaler()\n",
        "X_train = scaler.fit_transform(X_train)\n",
        "X_val = scaler.transform(X_val)\n",
        "\n",
        "# Update args based on data\n",
        "args[\"num_features\"] = X_train.shape[1]\n",
        "args[\"num_classes\"] = len(np.unique(y))\n",
        "\n",
        "# Initialize and train the model\n",
        "mlp_model = initialize_mlp(params[\"n_layers\"], args[\"num_features\"], params[\"hidden_dim\"], args[\"num_classes\"], args[\"objective\"])\n",
        "trained_model = train_mlp(mlp_model, X_train, y_train, X_val, y_val, args, params)\n",
        "\n",
        "# Make predictions and calculate accuracy\n",
        "predictions = predict_mlp(trained_model, X_val, args)\n",
        "accuracy = accuracy_score(y_val, predictions)\n",
        "print(f\"Validation Accuracy: {accuracy:.4f}\")\n"
      ],
      "metadata": {
        "colab": {
          "base_uri": "https://localhost:8080/"
        },
        "id": "iO_X-I5z8SpY",
        "outputId": "f7d808f7-d5fd-428e-d259-aec6f5402143"
      },
      "execution_count": null,
      "outputs": [
        {
          "output_type": "stream",
          "name": "stdout",
          "text": [
            "Epoch 1, Validation Loss: 0.6796\n",
            "Epoch 2, Validation Loss: 0.6699\n",
            "Epoch 3, Validation Loss: 0.6615\n",
            "Epoch 4, Validation Loss: 0.6542\n",
            "Epoch 5, Validation Loss: 0.6480\n",
            "Epoch 6, Validation Loss: 0.6422\n",
            "Epoch 7, Validation Loss: 0.6373\n",
            "Epoch 8, Validation Loss: 0.6326\n",
            "Epoch 9, Validation Loss: 0.6285\n",
            "Epoch 10, Validation Loss: 0.6248\n",
            "Validation Accuracy: 0.7050\n"
          ]
        }
      ]
    },
    {
      "cell_type": "markdown",
      "source": [
        "# Task ID21: 10101"
      ],
      "metadata": {
        "id": "u6DpJWyJu_Um"
      }
    },
    {
      "cell_type": "code",
      "source": [
        "# Load and preprocess data\n",
        "X, y = load_openml_data(task_id=10101)\n",
        "X_train, X_val, y_train, y_val = train_test_split(X, y, test_size=0.2, random_state=42)\n",
        "\n",
        "# Standardize features\n",
        "scaler = StandardScaler()\n",
        "X_train = scaler.fit_transform(X_train)\n",
        "X_val = scaler.transform(X_val)\n",
        "\n",
        "# Update args based on data\n",
        "args[\"num_features\"] = X_train.shape[1]\n",
        "args[\"num_classes\"] = len(np.unique(y))\n",
        "\n",
        "# Initialize and train the model\n",
        "mlp_model = initialize_mlp(params[\"n_layers\"], args[\"num_features\"], params[\"hidden_dim\"], args[\"num_classes\"], args[\"objective\"])\n",
        "trained_model = train_mlp(mlp_model, X_train, y_train, X_val, y_val, args, params)\n",
        "\n",
        "# Make predictions and calculate accuracy\n",
        "predictions = predict_mlp(trained_model, X_val, args)\n",
        "accuracy = accuracy_score(y_val, predictions)\n",
        "print(f\"Validation Accuracy: {accuracy:.4f}\")\n"
      ],
      "metadata": {
        "colab": {
          "base_uri": "https://localhost:8080/"
        },
        "id": "LMDHBSTD8Tv7",
        "outputId": "f22b232d-decd-427e-df85-2eadeb870022"
      },
      "execution_count": null,
      "outputs": [
        {
          "output_type": "stream",
          "name": "stdout",
          "text": [
            "Epoch 1, Validation Loss: 0.6583\n",
            "Epoch 2, Validation Loss: 0.6488\n",
            "Epoch 3, Validation Loss: 0.6396\n",
            "Epoch 4, Validation Loss: 0.6304\n",
            "Epoch 5, Validation Loss: 0.6215\n",
            "Epoch 6, Validation Loss: 0.6122\n",
            "Epoch 7, Validation Loss: 0.6034\n",
            "Epoch 8, Validation Loss: 0.5944\n",
            "Epoch 9, Validation Loss: 0.5860\n",
            "Epoch 10, Validation Loss: 0.5780\n",
            "Validation Accuracy: 0.7533\n"
          ]
        }
      ]
    },
    {
      "cell_type": "markdown",
      "source": [
        "# Task ID22: \t3913"
      ],
      "metadata": {
        "id": "L4PMg4K1vD9b"
      }
    },
    {
      "cell_type": "code",
      "source": [
        "# Load and preprocess data\n",
        "X, y = load_openml_data(task_id=3913)\n",
        "X_train, X_val, y_train, y_val = train_test_split(X, y, test_size=0.2, random_state=42)\n",
        "\n",
        "# Standardize features\n",
        "scaler = StandardScaler()\n",
        "X_train = scaler.fit_transform(X_train)\n",
        "X_val = scaler.transform(X_val)\n",
        "\n",
        "# Update args based on data\n",
        "args[\"num_features\"] = X_train.shape[1]\n",
        "args[\"num_classes\"] = len(np.unique(y))\n",
        "\n",
        "# Initialize and train the model\n",
        "mlp_model = initialize_mlp(params[\"n_layers\"], args[\"num_features\"], params[\"hidden_dim\"], args[\"num_classes\"], args[\"objective\"])\n",
        "trained_model = train_mlp(mlp_model, X_train, y_train, X_val, y_val, args, params)\n",
        "\n",
        "# Make predictions and calculate accuracy\n",
        "predictions = predict_mlp(trained_model, X_val, args)\n",
        "accuracy = accuracy_score(y_val, predictions)\n",
        "print(f\"Validation Accuracy: {accuracy:.4f}\")\n"
      ],
      "metadata": {
        "colab": {
          "base_uri": "https://localhost:8080/"
        },
        "id": "JgQwz31Z8Uk_",
        "outputId": "253ae6f5-9115-45ce-bbe8-11c21128ab4f"
      },
      "execution_count": null,
      "outputs": [
        {
          "output_type": "stream",
          "name": "stdout",
          "text": [
            "Epoch 1, Validation Loss: 0.6336\n",
            "Epoch 2, Validation Loss: 0.6247\n",
            "Epoch 3, Validation Loss: 0.6157\n",
            "Epoch 4, Validation Loss: 0.6071\n",
            "Epoch 5, Validation Loss: 0.5979\n",
            "Epoch 6, Validation Loss: 0.5885\n",
            "Epoch 7, Validation Loss: 0.5789\n",
            "Epoch 8, Validation Loss: 0.5693\n",
            "Epoch 9, Validation Loss: 0.5597\n",
            "Epoch 10, Validation Loss: 0.5496\n",
            "Validation Accuracy: 0.8095\n"
          ]
        }
      ]
    },
    {
      "cell_type": "markdown",
      "source": [
        "# Task ID23: 3"
      ],
      "metadata": {
        "id": "6UVYtFS5vFdg"
      }
    },
    {
      "cell_type": "code",
      "source": [
        "# Load and preprocess data\n",
        "X, y = load_openml_data(task_id=3)\n",
        "X_train, X_val, y_train, y_val = train_test_split(X, y, test_size=0.2, random_state=42)\n",
        "\n",
        "# Standardize features\n",
        "scaler = StandardScaler()\n",
        "X_train = scaler.fit_transform(X_train)\n",
        "X_val = scaler.transform(X_val)\n",
        "\n",
        "# Update args based on data\n",
        "args[\"num_features\"] = X_train.shape[1]\n",
        "args[\"num_classes\"] = len(np.unique(y))\n",
        "\n",
        "# Initialize and train the model\n",
        "mlp_model = initialize_mlp(params[\"n_layers\"], args[\"num_features\"], params[\"hidden_dim\"], args[\"num_classes\"], args[\"objective\"])\n",
        "trained_model = train_mlp(mlp_model, X_train, y_train, X_val, y_val, args, params)\n",
        "\n",
        "# Make predictions and calculate accuracy\n",
        "predictions = predict_mlp(trained_model, X_val, args)\n",
        "accuracy = accuracy_score(y_val, predictions)\n",
        "print(f\"Validation Accuracy: {accuracy:.4f}\")\n"
      ],
      "metadata": {
        "colab": {
          "base_uri": "https://localhost:8080/"
        },
        "id": "Qc-CqG0o8Vll",
        "outputId": "b4c3a23f-7a7e-4a9f-def2-7aaa7c2976d1"
      },
      "execution_count": null,
      "outputs": [
        {
          "output_type": "stream",
          "name": "stdout",
          "text": [
            "Epoch 1, Validation Loss: 0.6705\n",
            "Epoch 2, Validation Loss: 0.6494\n",
            "Epoch 3, Validation Loss: 0.6219\n",
            "Epoch 4, Validation Loss: 0.5850\n",
            "Epoch 5, Validation Loss: 0.5380\n",
            "Epoch 6, Validation Loss: 0.4850\n",
            "Epoch 7, Validation Loss: 0.4317\n",
            "Epoch 8, Validation Loss: 0.3815\n",
            "Epoch 9, Validation Loss: 0.3370\n",
            "Epoch 10, Validation Loss: 0.2992\n",
            "Validation Accuracy: 0.9062\n"
          ]
        }
      ]
    },
    {
      "cell_type": "markdown",
      "source": [
        "# Task ID24: 3917"
      ],
      "metadata": {
        "id": "vyRHJUzZvHFc"
      }
    },
    {
      "cell_type": "code",
      "source": [
        "# Load and preprocess data\n",
        "X, y = load_openml_data(task_id=3917)\n",
        "X_train, X_val, y_train, y_val = train_test_split(X, y, test_size=0.2, random_state=42)\n",
        "\n",
        "# Standardize features\n",
        "scaler = StandardScaler()\n",
        "X_train = scaler.fit_transform(X_train)\n",
        "X_val = scaler.transform(X_val)\n",
        "\n",
        "# Update args based on data\n",
        "args[\"num_features\"] = X_train.shape[1]\n",
        "args[\"num_classes\"] = len(np.unique(y))\n",
        "\n",
        "# Initialize and train the model\n",
        "mlp_model = initialize_mlp(params[\"n_layers\"], args[\"num_features\"], params[\"hidden_dim\"], args[\"num_classes\"], args[\"objective\"])\n",
        "trained_model = train_mlp(mlp_model, X_train, y_train, X_val, y_val, args, params)\n",
        "\n",
        "# Make predictions and calculate accuracy\n",
        "predictions = predict_mlp(trained_model, X_val, args)\n",
        "accuracy = accuracy_score(y_val, predictions)\n",
        "print(f\"Validation Accuracy: {accuracy:.4f}\")\n"
      ],
      "metadata": {
        "colab": {
          "base_uri": "https://localhost:8080/"
        },
        "id": "67Xc4AOZ8WS-",
        "outputId": "d9dc8efc-291b-46c2-a229-795a63572489"
      },
      "execution_count": null,
      "outputs": [
        {
          "output_type": "stream",
          "name": "stdout",
          "text": [
            "Epoch 1, Validation Loss: 0.6958\n",
            "Epoch 2, Validation Loss: 0.6509\n",
            "Epoch 3, Validation Loss: 0.6055\n",
            "Epoch 4, Validation Loss: 0.5575\n",
            "Epoch 5, Validation Loss: 0.5046\n",
            "Epoch 6, Validation Loss: 0.4568\n",
            "Epoch 7, Validation Loss: 0.4231\n",
            "Epoch 8, Validation Loss: 0.4041\n",
            "Epoch 9, Validation Loss: 0.3947\n",
            "Epoch 10, Validation Loss: 0.3909\n",
            "Validation Accuracy: 0.8412\n"
          ]
        }
      ]
    },
    {
      "cell_type": "markdown",
      "source": [
        "# Task ID25: 9957"
      ],
      "metadata": {
        "id": "dzf2O5cvvLhe"
      }
    },
    {
      "cell_type": "code",
      "source": [
        "# Load and preprocess data\n",
        "X, y = load_openml_data(task_id=9957)\n",
        "X_train, X_val, y_train, y_val = train_test_split(X, y, test_size=0.2, random_state=42)\n",
        "\n",
        "# Standardize features\n",
        "scaler = StandardScaler()\n",
        "X_train = scaler.fit_transform(X_train)\n",
        "X_val = scaler.transform(X_val)\n",
        "\n",
        "# Update args based on data\n",
        "args[\"num_features\"] = X_train.shape[1]\n",
        "args[\"num_classes\"] = len(np.unique(y))\n",
        "\n",
        "# Initialize and train the model\n",
        "mlp_model = initialize_mlp(params[\"n_layers\"], args[\"num_features\"], params[\"hidden_dim\"], args[\"num_classes\"], args[\"objective\"])\n",
        "trained_model = train_mlp(mlp_model, X_train, y_train, X_val, y_val, args, params)\n",
        "\n",
        "# Make predictions and calculate accuracy\n",
        "predictions = predict_mlp(trained_model, X_val, args)\n",
        "accuracy = accuracy_score(y_val, predictions)\n",
        "print(f\"Validation Accuracy: {accuracy:.4f}\")\n"
      ],
      "metadata": {
        "colab": {
          "base_uri": "https://localhost:8080/"
        },
        "id": "PKS2wRZ88XFX",
        "outputId": "fba80e3b-c410-4441-e734-44353a277153"
      },
      "execution_count": null,
      "outputs": [
        {
          "output_type": "stream",
          "name": "stdout",
          "text": [
            "Epoch 1, Validation Loss: 0.6828\n",
            "Epoch 2, Validation Loss: 0.6638\n",
            "Epoch 3, Validation Loss: 0.6472\n",
            "Epoch 4, Validation Loss: 0.6314\n",
            "Epoch 5, Validation Loss: 0.6163\n",
            "Epoch 6, Validation Loss: 0.6010\n",
            "Epoch 7, Validation Loss: 0.5852\n",
            "Epoch 8, Validation Loss: 0.5687\n",
            "Epoch 9, Validation Loss: 0.5516\n",
            "Epoch 10, Validation Loss: 0.5351\n",
            "Validation Accuracy: 0.7630\n"
          ]
        }
      ]
    },
    {
      "cell_type": "markdown",
      "source": [
        "# Task ID26: 9946"
      ],
      "metadata": {
        "id": "xbL7uSt3vBp0"
      }
    },
    {
      "cell_type": "code",
      "source": [
        "# Load and preprocess data\n",
        "X, y = load_openml_data(task_id=9946)\n",
        "X_train, X_val, y_train, y_val = train_test_split(X, y, test_size=0.2, random_state=42)\n",
        "\n",
        "# Standardize features\n",
        "scaler = StandardScaler()\n",
        "X_train = scaler.fit_transform(X_train)\n",
        "X_val = scaler.transform(X_val)\n",
        "\n",
        "# Update args based on data\n",
        "args[\"num_features\"] = X_train.shape[1]\n",
        "args[\"num_classes\"] = len(np.unique(y))\n",
        "\n",
        "# Initialize and train the model\n",
        "mlp_model = initialize_mlp(params[\"n_layers\"], args[\"num_features\"], params[\"hidden_dim\"], args[\"num_classes\"], args[\"objective\"])\n",
        "trained_model = train_mlp(mlp_model, X_train, y_train, X_val, y_val, args, params)\n",
        "\n",
        "# Make predictions and calculate accuracy\n",
        "predictions = predict_mlp(trained_model, X_val, args)\n",
        "accuracy = accuracy_score(y_val, predictions)\n",
        "print(f\"Validation Accuracy: {accuracy:.4f}\")\n"
      ],
      "metadata": {
        "colab": {
          "base_uri": "https://localhost:8080/"
        },
        "id": "TJv04mNj8X7o",
        "outputId": "248a217b-dcbf-478b-a97f-26a1af46e02f"
      },
      "execution_count": null,
      "outputs": [
        {
          "output_type": "stream",
          "name": "stdout",
          "text": [
            "Epoch 1, Validation Loss: 0.6439\n",
            "Epoch 2, Validation Loss: 0.6249\n",
            "Epoch 3, Validation Loss: 0.6068\n",
            "Epoch 4, Validation Loss: 0.5884\n",
            "Epoch 5, Validation Loss: 0.5695\n",
            "Epoch 6, Validation Loss: 0.5504\n",
            "Epoch 7, Validation Loss: 0.5311\n",
            "Epoch 8, Validation Loss: 0.5119\n",
            "Epoch 9, Validation Loss: 0.4920\n",
            "Epoch 10, Validation Loss: 0.4710\n",
            "Validation Accuracy: 0.9474\n"
          ]
        }
      ]
    },
    {
      "cell_type": "markdown",
      "source": [
        "# Task ID27: 3918"
      ],
      "metadata": {
        "id": "4_3XUL5zOr31"
      }
    },
    {
      "cell_type": "code",
      "source": [
        "# Load and preprocess data\n",
        "X, y = load_openml_data(task_id=3918)\n",
        "X_train, X_val, y_train, y_val = train_test_split(X, y, test_size=0.2, random_state=42)\n",
        "\n",
        "# Standardize features\n",
        "scaler = StandardScaler()\n",
        "X_train = scaler.fit_transform(X_train)\n",
        "X_val = scaler.transform(X_val)\n",
        "\n",
        "# Update args based on data\n",
        "args[\"num_features\"] = X_train.shape[1]\n",
        "args[\"num_classes\"] = len(np.unique(y))\n",
        "\n",
        "# Initialize and train the model\n",
        "mlp_model = initialize_mlp(params[\"n_layers\"], args[\"num_features\"], params[\"hidden_dim\"], args[\"num_classes\"], args[\"objective\"])\n",
        "trained_model = train_mlp(mlp_model, X_train, y_train, X_val, y_val, args, params)\n",
        "\n",
        "# Make predictions and calculate accuracy\n",
        "predictions = predict_mlp(trained_model, X_val, args)\n",
        "accuracy = accuracy_score(y_val, predictions)\n",
        "print(f\"Validation Accuracy: {accuracy:.4f}\")\n"
      ],
      "metadata": {
        "colab": {
          "base_uri": "https://localhost:8080/"
        },
        "id": "98LvNGkTfar4",
        "outputId": "00d12069-90a8-43ea-8430-d9b48fecc0ce"
      },
      "execution_count": null,
      "outputs": [
        {
          "output_type": "stream",
          "name": "stdout",
          "text": [
            "Epoch 1, Validation Loss: 0.6102\n",
            "Epoch 2, Validation Loss: 0.5890\n",
            "Epoch 3, Validation Loss: 0.5686\n",
            "Epoch 4, Validation Loss: 0.5492\n",
            "Epoch 5, Validation Loss: 0.5296\n",
            "Epoch 6, Validation Loss: 0.5104\n",
            "Epoch 7, Validation Loss: 0.4907\n",
            "Epoch 8, Validation Loss: 0.4704\n",
            "Epoch 9, Validation Loss: 0.4500\n",
            "Epoch 10, Validation Loss: 0.4292\n",
            "Validation Accuracy: 0.9144\n"
          ]
        }
      ]
    },
    {
      "cell_type": "markdown",
      "source": [
        "# Task ID28: 3903"
      ],
      "metadata": {
        "id": "gMfLQ_viOsKc"
      }
    },
    {
      "cell_type": "code",
      "source": [
        "# Load and preprocess data\n",
        "X, y = load_openml_data(task_id=3903)\n",
        "X_train, X_val, y_train, y_val = train_test_split(X, y, test_size=0.2, random_state=42)\n",
        "\n",
        "# Standardize features\n",
        "scaler = StandardScaler()\n",
        "X_train = scaler.fit_transform(X_train)\n",
        "X_val = scaler.transform(X_val)\n",
        "\n",
        "# Update args based on data\n",
        "args[\"num_features\"] = X_train.shape[1]\n",
        "args[\"num_classes\"] = len(np.unique(y))\n",
        "\n",
        "# Initialize and train the model\n",
        "mlp_model = initialize_mlp(params[\"n_layers\"], args[\"num_features\"], params[\"hidden_dim\"], args[\"num_classes\"], args[\"objective\"])\n",
        "trained_model = train_mlp(mlp_model, X_train, y_train, X_val, y_val, args, params)\n",
        "\n",
        "# Make predictions and calculate accuracy\n",
        "predictions = predict_mlp(trained_model, X_val, args)\n",
        "accuracy = accuracy_score(y_val, predictions)\n",
        "print(f\"Validation Accuracy: {accuracy:.4f}\")\n"
      ],
      "metadata": {
        "colab": {
          "base_uri": "https://localhost:8080/"
        },
        "id": "opQFzrCafbc4",
        "outputId": "6a9dc7e5-60aa-4e7a-8115-ebeb84219f99"
      },
      "execution_count": null,
      "outputs": [
        {
          "output_type": "stream",
          "name": "stdout",
          "text": [
            "Epoch 1, Validation Loss: 0.6419\n",
            "Epoch 2, Validation Loss: 0.6060\n",
            "Epoch 3, Validation Loss: 0.5697\n",
            "Epoch 4, Validation Loss: 0.5309\n",
            "Epoch 5, Validation Loss: 0.4889\n",
            "Epoch 6, Validation Loss: 0.4463\n",
            "Epoch 7, Validation Loss: 0.4095\n",
            "Epoch 8, Validation Loss: 0.3783\n",
            "Epoch 9, Validation Loss: 0.3557\n",
            "Epoch 10, Validation Loss: 0.3417\n",
            "Validation Accuracy: 0.8978\n"
          ]
        }
      ]
    },
    {
      "cell_type": "markdown",
      "source": [
        "# Task ID29: 37"
      ],
      "metadata": {
        "id": "p8r0_x-wOsYx"
      }
    },
    {
      "cell_type": "code",
      "source": [
        "# Load and preprocess data\n",
        "X, y = load_openml_data(task_id=37)\n",
        "X_train, X_val, y_train, y_val = train_test_split(X, y, test_size=0.2, random_state=42)\n",
        "\n",
        "# Standardize features\n",
        "scaler = StandardScaler()\n",
        "X_train = scaler.fit_transform(X_train)\n",
        "X_val = scaler.transform(X_val)\n",
        "\n",
        "# Update args based on data\n",
        "args[\"num_features\"] = X_train.shape[1]\n",
        "args[\"num_classes\"] = len(np.unique(y))\n",
        "\n",
        "# Initialize and train the model\n",
        "mlp_model = initialize_mlp(params[\"n_layers\"], args[\"num_features\"], params[\"hidden_dim\"], args[\"num_classes\"], args[\"objective\"])\n",
        "trained_model = train_mlp(mlp_model, X_train, y_train, X_val, y_val, args, params)\n",
        "\n",
        "# Make predictions and calculate accuracy\n",
        "predictions = predict_mlp(trained_model, X_val, args)\n",
        "accuracy = accuracy_score(y_val, predictions)\n",
        "print(f\"Validation Accuracy: {accuracy:.4f}\")\n"
      ],
      "metadata": {
        "colab": {
          "base_uri": "https://localhost:8080/"
        },
        "id": "CDO--wuKfcgx",
        "outputId": "6682a562-8d3d-47b4-a209-fdb39b0dffb2"
      },
      "execution_count": null,
      "outputs": [
        {
          "output_type": "stream",
          "name": "stdout",
          "text": [
            "Epoch 1, Validation Loss: 0.6940\n",
            "Epoch 2, Validation Loss: 0.6859\n",
            "Epoch 3, Validation Loss: 0.6777\n",
            "Epoch 4, Validation Loss: 0.6699\n",
            "Epoch 5, Validation Loss: 0.6616\n",
            "Epoch 6, Validation Loss: 0.6538\n",
            "Epoch 7, Validation Loss: 0.6454\n",
            "Epoch 8, Validation Loss: 0.6369\n",
            "Epoch 9, Validation Loss: 0.6284\n",
            "Epoch 10, Validation Loss: 0.6191\n",
            "Validation Accuracy: 0.7143\n"
          ]
        }
      ]
    },
    {
      "cell_type": "markdown",
      "source": [
        "# Task ID30: 9971"
      ],
      "metadata": {
        "id": "ZInQ-9WoOsu9"
      }
    },
    {
      "cell_type": "code",
      "source": [
        "# Load and preprocess data\n",
        "X, y = load_openml_data(task_id=9971)\n",
        "X_train, X_val, y_train, y_val = train_test_split(X, y, test_size=0.2, random_state=42)\n",
        "\n",
        "# Standardize features\n",
        "scaler = StandardScaler()\n",
        "X_train = scaler.fit_transform(X_train)\n",
        "X_val = scaler.transform(X_val)\n",
        "\n",
        "# Update args based on data\n",
        "args[\"num_features\"] = X_train.shape[1]\n",
        "args[\"num_classes\"] = len(np.unique(y))\n",
        "\n",
        "# Initialize and train the model\n",
        "mlp_model = initialize_mlp(params[\"n_layers\"], args[\"num_features\"], params[\"hidden_dim\"], args[\"num_classes\"], args[\"objective\"])\n",
        "trained_model = train_mlp(mlp_model, X_train, y_train, X_val, y_val, args, params)\n",
        "\n",
        "# Make predictions and calculate accuracy\n",
        "predictions = predict_mlp(trained_model, X_val, args)\n",
        "accuracy = accuracy_score(y_val, predictions)\n",
        "print(f\"Validation Accuracy: {accuracy:.4f}\")\n"
      ],
      "metadata": {
        "colab": {
          "base_uri": "https://localhost:8080/"
        },
        "id": "jkWxY27FfdTf",
        "outputId": "bc07dd50-0686-45ee-8726-e817af126a66"
      },
      "execution_count": null,
      "outputs": [
        {
          "output_type": "stream",
          "name": "stdout",
          "text": [
            "Epoch 1, Validation Loss: 0.6758\n",
            "Epoch 2, Validation Loss: 0.6643\n",
            "Epoch 3, Validation Loss: 0.6537\n",
            "Epoch 4, Validation Loss: 0.6440\n",
            "Epoch 5, Validation Loss: 0.6347\n",
            "Epoch 6, Validation Loss: 0.6262\n",
            "Epoch 7, Validation Loss: 0.6183\n",
            "Epoch 8, Validation Loss: 0.6105\n",
            "Epoch 9, Validation Loss: 0.6031\n",
            "Epoch 10, Validation Loss: 0.5962\n",
            "Validation Accuracy: 0.7436\n"
          ]
        }
      ]
    },
    {
      "cell_type": "markdown",
      "source": [
        "# Task ID31: 9952"
      ],
      "metadata": {
        "id": "JXEaEKEaOtAm"
      }
    },
    {
      "cell_type": "code",
      "source": [
        "# Load and preprocess data\n",
        "X, y = load_openml_data(task_id=9952)\n",
        "X_train, X_val, y_train, y_val = train_test_split(X, y, test_size=0.2, random_state=42)\n",
        "\n",
        "# Standardize features\n",
        "scaler = StandardScaler()\n",
        "X_train = scaler.fit_transform(X_train)\n",
        "X_val = scaler.transform(X_val)\n",
        "\n",
        "# Update args based on data\n",
        "args[\"num_features\"] = X_train.shape[1]\n",
        "args[\"num_classes\"] = len(np.unique(y))\n",
        "\n",
        "# Initialize and train the model\n",
        "mlp_model = initialize_mlp(params[\"n_layers\"], args[\"num_features\"], params[\"hidden_dim\"], args[\"num_classes\"], args[\"objective\"])\n",
        "trained_model = train_mlp(mlp_model, X_train, y_train, X_val, y_val, args, params)\n",
        "\n",
        "# Make predictions and calculate accuracy\n",
        "predictions = predict_mlp(trained_model, X_val, args)\n",
        "accuracy = accuracy_score(y_val, predictions)\n",
        "print(f\"Validation Accuracy: {accuracy:.4f}\")\n"
      ],
      "metadata": {
        "colab": {
          "base_uri": "https://localhost:8080/"
        },
        "id": "ywb0ug_6feQL",
        "outputId": "9e354041-bb94-4be1-92a6-b7bbb46a691d"
      },
      "execution_count": null,
      "outputs": [
        {
          "output_type": "stream",
          "name": "stdout",
          "text": [
            "Epoch 1, Validation Loss: 0.5894\n",
            "Epoch 2, Validation Loss: 0.5326\n",
            "Epoch 3, Validation Loss: 0.4930\n",
            "Epoch 4, Validation Loss: 0.4664\n",
            "Epoch 5, Validation Loss: 0.4503\n",
            "Epoch 6, Validation Loss: 0.4404\n",
            "Epoch 7, Validation Loss: 0.4341\n",
            "Epoch 8, Validation Loss: 0.4290\n",
            "Epoch 9, Validation Loss: 0.4250\n",
            "Epoch 10, Validation Loss: 0.4212\n",
            "Validation Accuracy: 0.7928\n"
          ]
        }
      ]
    },
    {
      "cell_type": "markdown",
      "source": [
        "# Task ID32: 3902"
      ],
      "metadata": {
        "id": "pW00w70pOtPI"
      }
    },
    {
      "cell_type": "code",
      "source": [
        "# Load and preprocess data\n",
        "X, y = load_openml_data(task_id=3902)\n",
        "X_train, X_val, y_train, y_val = train_test_split(X, y, test_size=0.2, random_state=42)\n",
        "\n",
        "# Standardize features\n",
        "scaler = StandardScaler()\n",
        "X_train = scaler.fit_transform(X_train)\n",
        "X_val = scaler.transform(X_val)\n",
        "\n",
        "# Update args based on data\n",
        "args[\"num_features\"] = X_train.shape[1]\n",
        "args[\"num_classes\"] = len(np.unique(y))\n",
        "\n",
        "# Initialize and train the model\n",
        "mlp_model = initialize_mlp(params[\"n_layers\"], args[\"num_features\"], params[\"hidden_dim\"], args[\"num_classes\"], args[\"objective\"])\n",
        "trained_model = train_mlp(mlp_model, X_train, y_train, X_val, y_val, args, params)\n",
        "\n",
        "# Make predictions and calculate accuracy\n",
        "predictions = predict_mlp(trained_model, X_val, args)\n",
        "accuracy = accuracy_score(y_val, predictions)\n",
        "print(f\"Validation Accuracy: {accuracy:.4f}\")\n"
      ],
      "metadata": {
        "colab": {
          "base_uri": "https://localhost:8080/"
        },
        "id": "mtZwdPldfe8g",
        "outputId": "cccdad0f-4152-4dee-9e61-70bfa0b82a19"
      },
      "execution_count": null,
      "outputs": [
        {
          "output_type": "stream",
          "name": "stdout",
          "text": [
            "Epoch 1, Validation Loss: 0.6374\n",
            "Epoch 2, Validation Loss: 0.6065\n",
            "Epoch 3, Validation Loss: 0.5770\n",
            "Epoch 4, Validation Loss: 0.5469\n",
            "Epoch 5, Validation Loss: 0.5155\n",
            "Epoch 6, Validation Loss: 0.4833\n",
            "Epoch 7, Validation Loss: 0.4533\n",
            "Epoch 8, Validation Loss: 0.4270\n",
            "Epoch 9, Validation Loss: 0.4056\n",
            "Epoch 10, Validation Loss: 0.3884\n",
            "Validation Accuracy: 0.8562\n"
          ]
        }
      ]
    },
    {
      "cell_type": "markdown",
      "source": [
        "# Task ID33: 49"
      ],
      "metadata": {
        "id": "6zZ17oDlOtbo"
      }
    },
    {
      "cell_type": "code",
      "source": [
        "# Load and preprocess data\n",
        "X, y = load_openml_data(task_id=49)\n",
        "X_train, X_val, y_train, y_val = train_test_split(X, y, test_size=0.2, random_state=42)\n",
        "\n",
        "# Standardize features\n",
        "scaler = StandardScaler()\n",
        "X_train = scaler.fit_transform(X_train)\n",
        "X_val = scaler.transform(X_val)\n",
        "\n",
        "# Update args based on data\n",
        "args[\"num_features\"] = X_train.shape[1]\n",
        "args[\"num_classes\"] = len(np.unique(y))\n",
        "\n",
        "# Initialize and train the model\n",
        "mlp_model = initialize_mlp(params[\"n_layers\"], args[\"num_features\"], params[\"hidden_dim\"], args[\"num_classes\"], args[\"objective\"])\n",
        "trained_model = train_mlp(mlp_model, X_train, y_train, X_val, y_val, args, params)\n",
        "\n",
        "# Make predictions and calculate accuracy\n",
        "predictions = predict_mlp(trained_model, X_val, args)\n",
        "accuracy = accuracy_score(y_val, predictions)\n",
        "print(f\"Validation Accuracy: {accuracy:.4f}\")\n"
      ],
      "metadata": {
        "colab": {
          "base_uri": "https://localhost:8080/"
        },
        "id": "DjOP7H5dfgGg",
        "outputId": "c4cc3bcc-e777-427f-acee-d8c5d9c3bdb9"
      },
      "execution_count": null,
      "outputs": [
        {
          "output_type": "stream",
          "name": "stdout",
          "text": [
            "Epoch 1, Validation Loss: 0.6989\n",
            "Epoch 2, Validation Loss: 0.6880\n",
            "Epoch 3, Validation Loss: 0.6777\n",
            "Epoch 4, Validation Loss: 0.6678\n",
            "Epoch 5, Validation Loss: 0.6581\n",
            "Epoch 6, Validation Loss: 0.6489\n",
            "Epoch 7, Validation Loss: 0.6397\n",
            "Epoch 8, Validation Loss: 0.6311\n",
            "Epoch 9, Validation Loss: 0.6227\n",
            "Epoch 10, Validation Loss: 0.6157\n",
            "Validation Accuracy: 0.6510\n"
          ]
        }
      ]
    },
    {
      "cell_type": "markdown",
      "source": [
        "# Task ID34: 43"
      ],
      "metadata": {
        "id": "U5j20q0COtoD"
      }
    },
    {
      "cell_type": "code",
      "source": [
        "# Load and preprocess data\n",
        "X, y = load_openml_data(task_id=43)\n",
        "X_train, X_val, y_train, y_val = train_test_split(X, y, test_size=0.2, random_state=42)\n",
        "\n",
        "# Standardize features\n",
        "scaler = StandardScaler()\n",
        "X_train = scaler.fit_transform(X_train)\n",
        "X_val = scaler.transform(X_val)\n",
        "\n",
        "# Update args based on data\n",
        "args[\"num_features\"] = X_train.shape[1]\n",
        "args[\"num_classes\"] = len(np.unique(y))\n",
        "\n",
        "# Initialize and train the model\n",
        "mlp_model = initialize_mlp(params[\"n_layers\"], args[\"num_features\"], params[\"hidden_dim\"], args[\"num_classes\"], args[\"objective\"])\n",
        "trained_model = train_mlp(mlp_model, X_train, y_train, X_val, y_val, args, params)\n",
        "\n",
        "# Make predictions and calculate accuracy\n",
        "predictions = predict_mlp(trained_model, X_val, args)\n",
        "accuracy = accuracy_score(y_val, predictions)\n",
        "print(f\"Validation Accuracy: {accuracy:.4f}\")\n"
      ],
      "metadata": {
        "colab": {
          "base_uri": "https://localhost:8080/"
        },
        "id": "3CJI0cVSfhCl",
        "outputId": "1c91c6f3-c084-4a48-9a59-40106807ff17"
      },
      "execution_count": null,
      "outputs": [
        {
          "output_type": "stream",
          "name": "stdout",
          "text": [
            "Epoch 1, Validation Loss: 0.6400\n",
            "Epoch 2, Validation Loss: 0.5789\n",
            "Epoch 3, Validation Loss: 0.4994\n",
            "Epoch 4, Validation Loss: 0.4110\n",
            "Epoch 5, Validation Loss: 0.3360\n",
            "Epoch 6, Validation Loss: 0.2877\n",
            "Epoch 7, Validation Loss: 0.2573\n",
            "Epoch 8, Validation Loss: 0.2394\n",
            "Epoch 9, Validation Loss: 0.2264\n",
            "Epoch 10, Validation Loss: 0.2177\n",
            "Validation Accuracy: 0.9327\n"
          ]
        }
      ]
    },
    {
      "cell_type": "markdown",
      "source": [
        "# Task ID35: 9978"
      ],
      "metadata": {
        "id": "I-iHZbecOt0s"
      }
    },
    {
      "cell_type": "code",
      "source": [
        "# Load and preprocess data\n",
        "X, y = load_openml_data(task_id=9978)\n",
        "X_train, X_val, y_train, y_val = train_test_split(X, y, test_size=0.2, random_state=42)\n",
        "\n",
        "# Standardize features\n",
        "scaler = StandardScaler()\n",
        "X_train = scaler.fit_transform(X_train)\n",
        "X_val = scaler.transform(X_val)\n",
        "\n",
        "# Update args based on data\n",
        "args[\"num_features\"] = X_train.shape[1]\n",
        "args[\"num_classes\"] = len(np.unique(y))\n",
        "\n",
        "# Initialize and train the model\n",
        "mlp_model = initialize_mlp(params[\"n_layers\"], args[\"num_features\"], params[\"hidden_dim\"], args[\"num_classes\"], args[\"objective\"])\n",
        "trained_model = train_mlp(mlp_model, X_train, y_train, X_val, y_val, args, params)\n",
        "\n",
        "# Make predictions and calculate accuracy\n",
        "predictions = predict_mlp(trained_model, X_val, args)\n",
        "accuracy = accuracy_score(y_val, predictions)\n",
        "print(f\"Validation Accuracy: {accuracy:.4f}\")\n"
      ],
      "metadata": {
        "colab": {
          "base_uri": "https://localhost:8080/"
        },
        "id": "NL7WsQRVfhr8",
        "outputId": "6c890de5-bd2f-461c-803d-eefb8a116358"
      },
      "execution_count": null,
      "outputs": [
        {
          "output_type": "stream",
          "name": "stdout",
          "text": [
            "Epoch 1, Validation Loss: 0.5707\n",
            "Epoch 2, Validation Loss: 0.4667\n",
            "Epoch 3, Validation Loss: 0.3744\n",
            "Epoch 4, Validation Loss: 0.3052\n",
            "Epoch 5, Validation Loss: 0.2637\n",
            "Epoch 6, Validation Loss: 0.2391\n",
            "Epoch 7, Validation Loss: 0.2235\n",
            "Epoch 8, Validation Loss: 0.2130\n",
            "Epoch 9, Validation Loss: 0.2048\n",
            "Epoch 10, Validation Loss: 0.1986\n",
            "Validation Accuracy: 0.9349\n"
          ]
        }
      ]
    },
    {
      "cell_type": "markdown",
      "source": [
        "# Task ID36: 10093"
      ],
      "metadata": {
        "id": "uysN5WV0Oxpu"
      }
    },
    {
      "cell_type": "code",
      "source": [
        "# Load and preprocess data\n",
        "X, y = load_openml_data(task_id=10093)\n",
        "X_train, X_val, y_train, y_val = train_test_split(X, y, test_size=0.2, random_state=42)\n",
        "\n",
        "# Standardize features\n",
        "scaler = StandardScaler()\n",
        "X_train = scaler.fit_transform(X_train)\n",
        "X_val = scaler.transform(X_val)\n",
        "\n",
        "# Update args based on data\n",
        "args[\"num_features\"] = X_train.shape[1]\n",
        "args[\"num_classes\"] = len(np.unique(y))\n",
        "\n",
        "# Initialize and train the model\n",
        "mlp_model = initialize_mlp(params[\"n_layers\"], args[\"num_features\"], params[\"hidden_dim\"], args[\"num_classes\"], args[\"objective\"])\n",
        "trained_model = train_mlp(mlp_model, X_train, y_train, X_val, y_val, args, params)\n",
        "\n",
        "# Make predictions and calculate accuracy\n",
        "predictions = predict_mlp(trained_model, X_val, args)\n",
        "accuracy = accuracy_score(y_val, predictions)\n",
        "print(f\"Validation Accuracy: {accuracy:.4f}\")\n"
      ],
      "metadata": {
        "colab": {
          "base_uri": "https://localhost:8080/"
        },
        "id": "2rAAOIIXfiVZ",
        "outputId": "c27b5a90-0a2f-448b-a62a-53b2ba500815"
      },
      "execution_count": null,
      "outputs": [
        {
          "output_type": "stream",
          "name": "stdout",
          "text": [
            "Epoch 1, Validation Loss: 0.6556\n",
            "Epoch 2, Validation Loss: 0.6368\n",
            "Epoch 3, Validation Loss: 0.6176\n",
            "Epoch 4, Validation Loss: 0.5975\n",
            "Epoch 5, Validation Loss: 0.5765\n",
            "Epoch 6, Validation Loss: 0.5538\n",
            "Epoch 7, Validation Loss: 0.5295\n",
            "Epoch 8, Validation Loss: 0.5030\n",
            "Epoch 9, Validation Loss: 0.4755\n",
            "Epoch 10, Validation Loss: 0.4461\n",
            "Validation Accuracy: 0.8618\n"
          ]
        }
      ]
    },
    {
      "cell_type": "markdown",
      "source": [
        "# Task ID37: 219"
      ],
      "metadata": {
        "id": "yGgmlLAKULw-"
      }
    },
    {
      "cell_type": "code",
      "source": [
        "# Load and preprocess data\n",
        "X, y = load_openml_data(task_id=219)\n",
        "X_train, X_val, y_train, y_val = train_test_split(X, y, test_size=0.2, random_state=42)\n",
        "\n",
        "# Standardize features\n",
        "scaler = StandardScaler()\n",
        "X_train = scaler.fit_transform(X_train)\n",
        "X_val = scaler.transform(X_val)\n",
        "\n",
        "# Update args based on data\n",
        "args[\"num_features\"] = X_train.shape[1]\n",
        "args[\"num_classes\"] = len(np.unique(y))\n",
        "\n",
        "# Initialize and train the model\n",
        "mlp_model = initialize_mlp(params[\"n_layers\"], args[\"num_features\"], params[\"hidden_dim\"], args[\"num_classes\"], args[\"objective\"])\n",
        "trained_model = train_mlp(mlp_model, X_train, y_train, X_val, y_val, args, params)\n",
        "\n",
        "# Make predictions and calculate accuracy\n",
        "predictions = predict_mlp(trained_model, X_val, args)\n",
        "accuracy = accuracy_score(y_val, predictions)\n",
        "print(f\"Validation Accuracy: {accuracy:.4f}\")\n"
      ],
      "metadata": {
        "colab": {
          "base_uri": "https://localhost:8080/"
        },
        "id": "XZkusjKlfjGT",
        "outputId": "8f2d9a2a-60b5-4f7b-a8e2-108f70809671"
      },
      "execution_count": null,
      "outputs": [
        {
          "output_type": "stream",
          "name": "stdout",
          "text": [
            "Epoch 1, Validation Loss: 0.5211\n",
            "Epoch 2, Validation Loss: 0.4844\n",
            "Epoch 3, Validation Loss: 0.4739\n",
            "Epoch 4, Validation Loss: 0.4685\n",
            "Epoch 5, Validation Loss: 0.4635\n",
            "Epoch 6, Validation Loss: 0.4606\n",
            "Epoch 7, Validation Loss: 0.4582\n",
            "Epoch 8, Validation Loss: 0.4547\n",
            "Epoch 9, Validation Loss: 0.4522\n",
            "Epoch 10, Validation Loss: 0.4505\n",
            "Validation Accuracy: 0.7888\n"
          ]
        }
      ]
    },
    {
      "cell_type": "markdown",
      "source": [
        "# Task ID38: 9976"
      ],
      "metadata": {
        "id": "1SP0wCLxUMfZ"
      }
    },
    {
      "cell_type": "code",
      "source": [
        "# Load and preprocess data\n",
        "X, y = load_openml_data(task_id=9976)\n",
        "X_train, X_val, y_train, y_val = train_test_split(X, y, test_size=0.2, random_state=42)\n",
        "\n",
        "# Standardize features\n",
        "scaler = StandardScaler()\n",
        "X_train = scaler.fit_transform(X_train)\n",
        "X_val = scaler.transform(X_val)\n",
        "\n",
        "# Update args based on data\n",
        "args[\"num_features\"] = X_train.shape[1]\n",
        "args[\"num_classes\"] = len(np.unique(y))\n",
        "\n",
        "# Initialize and train the model\n",
        "mlp_model = initialize_mlp(params[\"n_layers\"], args[\"num_features\"], params[\"hidden_dim\"], args[\"num_classes\"], args[\"objective\"])\n",
        "trained_model = train_mlp(mlp_model, X_train, y_train, X_val, y_val, args, params)\n",
        "\n",
        "# Make predictions and calculate accuracy\n",
        "predictions = predict_mlp(trained_model, X_val, args)\n",
        "accuracy = accuracy_score(y_val, predictions)\n",
        "print(f\"Validation Accuracy: {accuracy:.4f}\")\n"
      ],
      "metadata": {
        "colab": {
          "base_uri": "https://localhost:8080/"
        },
        "id": "rt13BQ3zfj5u",
        "outputId": "6f4d8a7f-1670-438e-9b4e-6276b6274bf5"
      },
      "execution_count": null,
      "outputs": [
        {
          "output_type": "stream",
          "name": "stdout",
          "text": [
            "Epoch 1, Validation Loss: 0.6944\n",
            "Epoch 2, Validation Loss: 0.6916\n",
            "Epoch 3, Validation Loss: 0.6885\n",
            "Epoch 4, Validation Loss: 0.6854\n",
            "Epoch 5, Validation Loss: 0.6819\n",
            "Epoch 6, Validation Loss: 0.6773\n",
            "Epoch 7, Validation Loss: 0.6732\n",
            "Epoch 8, Validation Loss: 0.6692\n",
            "Epoch 9, Validation Loss: 0.6670\n",
            "Epoch 10, Validation Loss: 0.6687\n",
            "Validation Accuracy: 0.5423\n"
          ]
        }
      ]
    },
    {
      "cell_type": "markdown",
      "source": [
        "# Task ID39: 6"
      ],
      "metadata": {
        "id": "S65JoO55UMry"
      }
    },
    {
      "cell_type": "code",
      "source": [
        "# Load and preprocess data\n",
        "X, y = load_openml_data(task_id=6)\n",
        "X_train, X_val, y_train, y_val = train_test_split(X, y, test_size=0.2, random_state=42)\n",
        "\n",
        "# Standardize features\n",
        "scaler = StandardScaler()\n",
        "X_train = scaler.fit_transform(X_train)\n",
        "X_val = scaler.transform(X_val)\n",
        "\n",
        "# Update args based on data\n",
        "args[\"num_features\"] = X_train.shape[1]\n",
        "args[\"num_classes\"] = len(np.unique(y))\n",
        "\n",
        "# Initialize and train the model\n",
        "mlp_model = initialize_mlp(params[\"n_layers\"], args[\"num_features\"], params[\"hidden_dim\"], args[\"num_classes\"], args[\"objective\"])\n",
        "trained_model = train_mlp(mlp_model, X_train, y_train, X_val, y_val, args, params)\n",
        "\n",
        "# Make predictions and calculate accuracy\n",
        "predictions = predict_mlp(trained_model, X_val, args)\n",
        "accuracy = accuracy_score(y_val, predictions)\n",
        "print(f\"Validation Accuracy: {accuracy:.4f}\")\n"
      ],
      "metadata": {
        "colab": {
          "base_uri": "https://localhost:8080/"
        },
        "id": "pE_pIlvwfk7m",
        "outputId": "d3418f6f-59ff-480c-c67d-cb700aaa842a"
      },
      "execution_count": null,
      "outputs": [
        {
          "output_type": "stream",
          "name": "stdout",
          "text": [
            "Epoch 1, Validation Loss: 3.0598\n",
            "Epoch 2, Validation Loss: 2.5152\n",
            "Epoch 3, Validation Loss: 1.9552\n",
            "Epoch 4, Validation Loss: 1.6047\n",
            "Epoch 5, Validation Loss: 1.3912\n",
            "Epoch 6, Validation Loss: 1.2533\n",
            "Epoch 7, Validation Loss: 1.1598\n",
            "Epoch 8, Validation Loss: 1.0897\n",
            "Epoch 9, Validation Loss: 1.0362\n",
            "Epoch 10, Validation Loss: 0.9918\n",
            "Validation Accuracy: 0.7130\n"
          ]
        }
      ]
    },
    {
      "cell_type": "markdown",
      "source": [
        "# Task ID40: 53"
      ],
      "metadata": {
        "id": "BEsQTY0-UM3x"
      }
    },
    {
      "cell_type": "code",
      "source": [
        "# Load and preprocess data\n",
        "X, y = load_openml_data(task_id=53)\n",
        "X_train, X_val, y_train, y_val = train_test_split(X, y, test_size=0.2, random_state=42)\n",
        "\n",
        "# Standardize features\n",
        "scaler = StandardScaler()\n",
        "X_train = scaler.fit_transform(X_train)\n",
        "X_val = scaler.transform(X_val)\n",
        "\n",
        "# Update args based on data\n",
        "args[\"num_features\"] = X_train.shape[1]\n",
        "args[\"num_classes\"] = len(np.unique(y))\n",
        "\n",
        "# Initialize and train the model\n",
        "mlp_model = initialize_mlp(params[\"n_layers\"], args[\"num_features\"], params[\"hidden_dim\"], args[\"num_classes\"], args[\"objective\"])\n",
        "trained_model = train_mlp(mlp_model, X_train, y_train, X_val, y_val, args, params)\n",
        "\n",
        "# Make predictions and calculate accuracy\n",
        "predictions = predict_mlp(trained_model, X_val, args)\n",
        "accuracy = accuracy_score(y_val, predictions)\n",
        "print(f\"Validation Accuracy: {accuracy:.4f}\")\n"
      ],
      "metadata": {
        "colab": {
          "base_uri": "https://localhost:8080/"
        },
        "id": "s2FPDp9cflwI",
        "outputId": "415ec3e4-b0bc-4253-9a99-87af257d405a"
      },
      "execution_count": null,
      "outputs": [
        {
          "output_type": "stream",
          "name": "stdout",
          "text": [
            "Epoch 1, Validation Loss: 1.3758\n",
            "Epoch 2, Validation Loss: 1.3669\n",
            "Epoch 3, Validation Loss: 1.3582\n",
            "Epoch 4, Validation Loss: 1.3493\n",
            "Epoch 5, Validation Loss: 1.3408\n",
            "Epoch 6, Validation Loss: 1.3316\n",
            "Epoch 7, Validation Loss: 1.3224\n",
            "Epoch 8, Validation Loss: 1.3135\n",
            "Epoch 9, Validation Loss: 1.3037\n",
            "Epoch 10, Validation Loss: 1.2932\n",
            "Validation Accuracy: 0.4471\n"
          ]
        }
      ]
    },
    {
      "cell_type": "markdown",
      "source": [
        "# Task ID41: 11"
      ],
      "metadata": {
        "id": "dI13mhhGUNDw"
      }
    },
    {
      "cell_type": "code",
      "source": [
        "# Load and preprocess data\n",
        "X, y = load_openml_data(task_id=11)\n",
        "X_train, X_val, y_train, y_val = train_test_split(X, y, test_size=0.2, random_state=42)\n",
        "\n",
        "# Standardize features\n",
        "scaler = StandardScaler()\n",
        "X_train = scaler.fit_transform(X_train)\n",
        "X_val = scaler.transform(X_val)\n",
        "\n",
        "# Update args based on data\n",
        "args[\"num_features\"] = X_train.shape[1]\n",
        "args[\"num_classes\"] = len(np.unique(y))\n",
        "\n",
        "# Initialize and train the model\n",
        "mlp_model = initialize_mlp(params[\"n_layers\"], args[\"num_features\"], params[\"hidden_dim\"], args[\"num_classes\"], args[\"objective\"])\n",
        "trained_model = train_mlp(mlp_model, X_train, y_train, X_val, y_val, args, params)\n",
        "\n",
        "# Make predictions and calculate accuracy\n",
        "predictions = predict_mlp(trained_model, X_val, args)\n",
        "accuracy = accuracy_score(y_val, predictions)\n",
        "print(f\"Validation Accuracy: {accuracy:.4f}\")\n"
      ],
      "metadata": {
        "colab": {
          "base_uri": "https://localhost:8080/"
        },
        "id": "0PD52XlSfmbZ",
        "outputId": "6b68492d-aeb4-4022-b926-8d732a3b47d7"
      },
      "execution_count": null,
      "outputs": [
        {
          "output_type": "stream",
          "name": "stdout",
          "text": [
            "Epoch 1, Validation Loss: 1.0777\n",
            "Epoch 2, Validation Loss: 1.0609\n",
            "Epoch 3, Validation Loss: 1.0445\n",
            "Epoch 4, Validation Loss: 1.0284\n",
            "Epoch 5, Validation Loss: 1.0130\n",
            "Epoch 6, Validation Loss: 0.9978\n",
            "Epoch 7, Validation Loss: 0.9828\n",
            "Epoch 8, Validation Loss: 0.9681\n",
            "Epoch 9, Validation Loss: 0.9534\n",
            "Epoch 10, Validation Loss: 0.9387\n",
            "Validation Accuracy: 0.5760\n"
          ]
        }
      ]
    },
    {
      "cell_type": "markdown",
      "source": [
        "# Task ID42: 15"
      ],
      "metadata": {
        "id": "L6e6nkQbUNPt"
      }
    },
    {
      "cell_type": "code",
      "source": [
        "# Load and preprocess data\n",
        "X, y = load_openml_data(task_id=15)\n",
        "X_train, X_val, y_train, y_val = train_test_split(X, y, test_size=0.2, random_state=42)\n",
        "\n",
        "# Standardize features\n",
        "scaler = StandardScaler()\n",
        "X_train = scaler.fit_transform(X_train)\n",
        "X_val = scaler.transform(X_val)\n",
        "\n",
        "# Update args based on data\n",
        "args[\"num_features\"] = X_train.shape[1]\n",
        "args[\"num_classes\"] = len(np.unique(y))\n",
        "\n",
        "# Initialize and train the model\n",
        "mlp_model = initialize_mlp(params[\"n_layers\"], args[\"num_features\"], params[\"hidden_dim\"], args[\"num_classes\"], args[\"objective\"])\n",
        "trained_model = train_mlp(mlp_model, X_train, y_train, X_val, y_val, args, params)\n",
        "\n",
        "# Make predictions and calculate accuracy\n",
        "predictions = predict_mlp(trained_model, X_val, args)\n",
        "accuracy = accuracy_score(y_val, predictions)\n",
        "print(f\"Validation Accuracy: {accuracy:.4f}\")\n"
      ],
      "metadata": {
        "colab": {
          "base_uri": "https://localhost:8080/"
        },
        "id": "mSXlIWdrfnLR",
        "outputId": "8cf2b814-4bcd-4ec5-b511-8f0a451f74a8"
      },
      "execution_count": null,
      "outputs": [
        {
          "output_type": "stream",
          "name": "stdout",
          "text": [
            "Epoch 1, Validation Loss: 0.6640\n",
            "Epoch 2, Validation Loss: 0.6463\n",
            "Epoch 3, Validation Loss: 0.6286\n",
            "Epoch 4, Validation Loss: 0.6108\n",
            "Epoch 5, Validation Loss: 0.5924\n",
            "Epoch 6, Validation Loss: 0.5734\n",
            "Epoch 7, Validation Loss: 0.5538\n",
            "Epoch 8, Validation Loss: 0.5335\n",
            "Epoch 9, Validation Loss: 0.5123\n",
            "Epoch 10, Validation Loss: 0.4902\n",
            "Validation Accuracy: 0.9643\n"
          ]
        }
      ]
    },
    {
      "cell_type": "markdown",
      "source": [
        "# Task ID43: 16"
      ],
      "metadata": {
        "id": "iNhJDlrKUNat"
      }
    },
    {
      "cell_type": "code",
      "source": [
        "# Load and preprocess data\n",
        "X, y = load_openml_data(task_id=16)\n",
        "X_train, X_val, y_train, y_val = train_test_split(X, y, test_size=0.2, random_state=42)\n",
        "\n",
        "# Standardize features\n",
        "scaler = StandardScaler()\n",
        "X_train = scaler.fit_transform(X_train)\n",
        "X_val = scaler.transform(X_val)\n",
        "\n",
        "# Update args based on data\n",
        "args[\"num_features\"] = X_train.shape[1]\n",
        "args[\"num_classes\"] = len(np.unique(y))\n",
        "\n",
        "# Initialize and train the model\n",
        "mlp_model = initialize_mlp(params[\"n_layers\"], args[\"num_features\"], params[\"hidden_dim\"], args[\"num_classes\"], args[\"objective\"])\n",
        "trained_model = train_mlp(mlp_model, X_train, y_train, X_val, y_val, args, params)\n",
        "\n",
        "# Make predictions and calculate accuracy\n",
        "predictions = predict_mlp(trained_model, X_val, args)\n",
        "accuracy = accuracy_score(y_val, predictions)\n",
        "print(f\"Validation Accuracy: {accuracy:.4f}\")\n"
      ],
      "metadata": {
        "colab": {
          "base_uri": "https://localhost:8080/"
        },
        "id": "nrPSbPdTfoQS",
        "outputId": "7b23ddfb-cee0-4650-86d2-b81c34e7dfa0"
      },
      "execution_count": null,
      "outputs": [
        {
          "output_type": "stream",
          "name": "stdout",
          "text": [
            "Epoch 1, Validation Loss: 2.2873\n",
            "Epoch 2, Validation Loss: 2.2541\n",
            "Epoch 3, Validation Loss: 2.2198\n",
            "Epoch 4, Validation Loss: 2.1813\n",
            "Epoch 5, Validation Loss: 2.1356\n",
            "Epoch 6, Validation Loss: 2.0804\n",
            "Epoch 7, Validation Loss: 2.0135\n",
            "Epoch 8, Validation Loss: 1.9330\n",
            "Epoch 9, Validation Loss: 1.8391\n",
            "Epoch 10, Validation Loss: 1.7345\n",
            "Validation Accuracy: 0.7475\n"
          ]
        }
      ]
    },
    {
      "cell_type": "markdown",
      "source": [
        "# Task ID44: 14"
      ],
      "metadata": {
        "id": "Ng32K-haUNl5"
      }
    },
    {
      "cell_type": "code",
      "source": [
        "# Load and preprocess data\n",
        "X, y = load_openml_data(task_id=14)\n",
        "X_train, X_val, y_train, y_val = train_test_split(X, y, test_size=0.2, random_state=42)\n",
        "\n",
        "# Standardize features\n",
        "scaler = StandardScaler()\n",
        "X_train = scaler.fit_transform(X_train)\n",
        "X_val = scaler.transform(X_val)\n",
        "\n",
        "# Update args based on data\n",
        "args[\"num_features\"] = X_train.shape[1]\n",
        "args[\"num_classes\"] = len(np.unique(y))\n",
        "\n",
        "# Initialize and train the model\n",
        "mlp_model = initialize_mlp(params[\"n_layers\"], args[\"num_features\"], params[\"hidden_dim\"], args[\"num_classes\"], args[\"objective\"])\n",
        "trained_model = train_mlp(mlp_model, X_train, y_train, X_val, y_val, args, params)\n",
        "\n",
        "# Make predictions and calculate accuracy\n",
        "predictions = predict_mlp(trained_model, X_val, args)\n",
        "accuracy = accuracy_score(y_val, predictions)\n",
        "print(f\"Validation Accuracy: {accuracy:.4f}\")\n"
      ],
      "metadata": {
        "colab": {
          "base_uri": "https://localhost:8080/"
        },
        "id": "CA9Uhf9_fpPG",
        "outputId": "9994d1cd-606c-4f2b-8be0-3a293ab8e000"
      },
      "execution_count": null,
      "outputs": [
        {
          "output_type": "stream",
          "name": "stdout",
          "text": [
            "Epoch 1, Validation Loss: 2.2667\n",
            "Epoch 2, Validation Loss: 2.2367\n",
            "Epoch 3, Validation Loss: 2.2022\n",
            "Epoch 4, Validation Loss: 2.1601\n",
            "Epoch 5, Validation Loss: 2.1078\n",
            "Epoch 6, Validation Loss: 2.0448\n",
            "Epoch 7, Validation Loss: 1.9664\n",
            "Epoch 8, Validation Loss: 1.8777\n",
            "Epoch 9, Validation Loss: 1.7794\n",
            "Epoch 10, Validation Loss: 1.6748\n",
            "Validation Accuracy: 0.6650\n"
          ]
        }
      ]
    },
    {
      "cell_type": "markdown",
      "source": [
        "# Task ID45: 32"
      ],
      "metadata": {
        "id": "WL9ZOy4AUNws"
      }
    },
    {
      "cell_type": "code",
      "source": [
        "# Load and preprocess data\n",
        "X, y = load_openml_data(task_id=32)\n",
        "X_train, X_val, y_train, y_val = train_test_split(X, y, test_size=0.2, random_state=42)\n",
        "\n",
        "# Standardize features\n",
        "scaler = StandardScaler()\n",
        "X_train = scaler.fit_transform(X_train)\n",
        "X_val = scaler.transform(X_val)\n",
        "\n",
        "# Update args based on data\n",
        "args[\"num_features\"] = X_train.shape[1]\n",
        "args[\"num_classes\"] = len(np.unique(y))\n",
        "\n",
        "# Initialize and train the model\n",
        "mlp_model = initialize_mlp(params[\"n_layers\"], args[\"num_features\"], params[\"hidden_dim\"], args[\"num_classes\"], args[\"objective\"])\n",
        "trained_model = train_mlp(mlp_model, X_train, y_train, X_val, y_val, args, params)\n",
        "\n",
        "# Make predictions and calculate accuracy\n",
        "predictions = predict_mlp(trained_model, X_val, args)\n",
        "accuracy = accuracy_score(y_val, predictions)\n",
        "print(f\"Validation Accuracy: {accuracy:.4f}\")\n"
      ],
      "metadata": {
        "colab": {
          "base_uri": "https://localhost:8080/"
        },
        "id": "Lw5DeGUqfqA4",
        "outputId": "63b014ba-24e5-4dd8-d40a-ee247b20e014"
      },
      "execution_count": null,
      "outputs": [
        {
          "output_type": "stream",
          "name": "stdout",
          "text": [
            "Epoch 1, Validation Loss: 2.0543\n",
            "Epoch 2, Validation Loss: 1.5984\n",
            "Epoch 3, Validation Loss: 1.0985\n",
            "Epoch 4, Validation Loss: 0.7730\n",
            "Epoch 5, Validation Loss: 0.5953\n",
            "Epoch 6, Validation Loss: 0.4847\n",
            "Epoch 7, Validation Loss: 0.4060\n",
            "Epoch 8, Validation Loss: 0.3460\n",
            "Epoch 9, Validation Loss: 0.2996\n",
            "Epoch 10, Validation Loss: 0.2613\n",
            "Validation Accuracy: 0.9395\n"
          ]
        }
      ]
    },
    {
      "cell_type": "markdown",
      "source": [
        "# Task ID46: 3549"
      ],
      "metadata": {
        "id": "ewtX2G2PUN7x"
      }
    },
    {
      "cell_type": "code",
      "source": [
        "# Load and preprocess data\n",
        "X, y = load_openml_data(task_id=3549)\n",
        "X_train, X_val, y_train, y_val = train_test_split(X, y, test_size=0.2, random_state=42)\n",
        "\n",
        "# Standardize features\n",
        "scaler = StandardScaler()\n",
        "X_train = scaler.fit_transform(X_train)\n",
        "X_val = scaler.transform(X_val)\n",
        "\n",
        "# Update args based on data\n",
        "args[\"num_features\"] = X_train.shape[1]\n",
        "args[\"num_classes\"] = len(np.unique(y))\n",
        "\n",
        "# Initialize and train the model\n",
        "mlp_model = initialize_mlp(params[\"n_layers\"], args[\"num_features\"], params[\"hidden_dim\"], args[\"num_classes\"], args[\"objective\"])\n",
        "trained_model = train_mlp(mlp_model, X_train, y_train, X_val, y_val, args, params)\n",
        "\n",
        "# Make predictions and calculate accuracy\n",
        "predictions = predict_mlp(trained_model, X_val, args)\n",
        "accuracy = accuracy_score(y_val, predictions)\n",
        "print(f\"Validation Accuracy: {accuracy:.4f}\")\n"
      ],
      "metadata": {
        "colab": {
          "base_uri": "https://localhost:8080/"
        },
        "id": "0FKfi0lefqxz",
        "outputId": "bf3d2e3f-babe-4213-be5d-d413218f7b9f"
      },
      "execution_count": null,
      "outputs": [
        {
          "output_type": "stream",
          "name": "stdout",
          "text": [
            "Epoch 1, Validation Loss: 1.3434\n",
            "Epoch 2, Validation Loss: 1.3177\n",
            "Epoch 3, Validation Loss: 1.2914\n",
            "Epoch 4, Validation Loss: 1.2630\n",
            "Epoch 5, Validation Loss: 1.2317\n",
            "Epoch 6, Validation Loss: 1.1964\n",
            "Epoch 7, Validation Loss: 1.1564\n",
            "Epoch 8, Validation Loss: 1.1114\n",
            "Epoch 9, Validation Loss: 1.0612\n",
            "Epoch 10, Validation Loss: 1.0068\n",
            "Validation Accuracy: 0.8698\n"
          ]
        }
      ]
    },
    {
      "cell_type": "markdown",
      "source": [
        "# Task ID47: 12"
      ],
      "metadata": {
        "id": "7vNpomuQUOGc"
      }
    },
    {
      "cell_type": "code",
      "source": [
        "# Load and preprocess data\n",
        "X, y = load_openml_data(task_id=12)\n",
        "X_train, X_val, y_train, y_val = train_test_split(X, y, test_size=0.2, random_state=42)\n",
        "\n",
        "# Standardize features\n",
        "scaler = StandardScaler()\n",
        "X_train = scaler.fit_transform(X_train)\n",
        "X_val = scaler.transform(X_val)\n",
        "\n",
        "# Update args based on data\n",
        "args[\"num_features\"] = X_train.shape[1]\n",
        "args[\"num_classes\"] = len(np.unique(y))\n",
        "\n",
        "# Initialize and train the model\n",
        "mlp_model = initialize_mlp(params[\"n_layers\"], args[\"num_features\"], params[\"hidden_dim\"], args[\"num_classes\"], args[\"objective\"])\n",
        "trained_model = train_mlp(mlp_model, X_train, y_train, X_val, y_val, args, params)\n",
        "\n",
        "# Make predictions and calculate accuracy\n",
        "predictions = predict_mlp(trained_model, X_val, args)\n",
        "accuracy = accuracy_score(y_val, predictions)\n",
        "print(f\"Validation Accuracy: {accuracy:.4f}\")\n"
      ],
      "metadata": {
        "colab": {
          "base_uri": "https://localhost:8080/"
        },
        "id": "Orx8-spjfrxJ",
        "outputId": "9487dc23-38dd-4c92-e9fb-6a098348e20e"
      },
      "execution_count": null,
      "outputs": [
        {
          "output_type": "stream",
          "name": "stdout",
          "text": [
            "Epoch 1, Validation Loss: 2.2062\n",
            "Epoch 2, Validation Loss: 2.0821\n",
            "Epoch 3, Validation Loss: 1.9274\n",
            "Epoch 4, Validation Loss: 1.7305\n",
            "Epoch 5, Validation Loss: 1.5005\n",
            "Epoch 6, Validation Loss: 1.2659\n",
            "Epoch 7, Validation Loss: 1.0485\n",
            "Epoch 8, Validation Loss: 0.8616\n",
            "Epoch 9, Validation Loss: 0.7098\n",
            "Epoch 10, Validation Loss: 0.5956\n",
            "Validation Accuracy: 0.9050\n"
          ]
        }
      ]
    },
    {
      "cell_type": "markdown",
      "source": [
        "# Task ID48: 9981"
      ],
      "metadata": {
        "id": "fWOstqIAUORB"
      }
    },
    {
      "cell_type": "code",
      "source": [
        "# Load and preprocess data\n",
        "X, y = load_openml_data(task_id=9981)\n",
        "X_train, X_val, y_train, y_val = train_test_split(X, y, test_size=0.2, random_state=42)\n",
        "\n",
        "# Standardize features\n",
        "scaler = StandardScaler()\n",
        "X_train = scaler.fit_transform(X_train)\n",
        "X_val = scaler.transform(X_val)\n",
        "\n",
        "# Update args based on data\n",
        "args[\"num_features\"] = X_train.shape[1]\n",
        "args[\"num_classes\"] = len(np.unique(y))\n",
        "\n",
        "# Initialize and train the model\n",
        "mlp_model = initialize_mlp(params[\"n_layers\"], args[\"num_features\"], params[\"hidden_dim\"], args[\"num_classes\"], args[\"objective\"])\n",
        "trained_model = train_mlp(mlp_model, X_train, y_train, X_val, y_val, args, params)\n",
        "\n",
        "# Make predictions and calculate accuracy\n",
        "predictions = predict_mlp(trained_model, X_val, args)\n",
        "accuracy = accuracy_score(y_val, predictions)\n",
        "print(f\"Validation Accuracy: {accuracy:.4f}\")\n"
      ],
      "metadata": {
        "colab": {
          "base_uri": "https://localhost:8080/"
        },
        "id": "Yb-vWWQ4fstR",
        "outputId": "0a1444e2-08f4-4522-caa4-7a7d501db6a1"
      },
      "execution_count": null,
      "outputs": [
        {
          "output_type": "stream",
          "name": "stdout",
          "text": [
            "Epoch 1, Validation Loss: 2.1943\n",
            "Epoch 2, Validation Loss: 2.1784\n",
            "Epoch 3, Validation Loss: 2.1623\n",
            "Epoch 4, Validation Loss: 2.1441\n",
            "Epoch 5, Validation Loss: 2.1234\n",
            "Epoch 6, Validation Loss: 2.0991\n",
            "Epoch 7, Validation Loss: 2.0694\n",
            "Epoch 8, Validation Loss: 2.0333\n",
            "Epoch 9, Validation Loss: 1.9903\n",
            "Epoch 10, Validation Loss: 1.9388\n",
            "Validation Accuracy: 0.6343\n"
          ]
        }
      ]
    },
    {
      "cell_type": "markdown",
      "source": [
        "# Task ID49: 18"
      ],
      "metadata": {
        "id": "lhXlnoGdUObZ"
      }
    },
    {
      "cell_type": "code",
      "source": [
        "# Load and preprocess data\n",
        "X, y = load_openml_data(task_id=18)\n",
        "X_train, X_val, y_train, y_val = train_test_split(X, y, test_size=0.2, random_state=42)\n",
        "\n",
        "# Standardize features\n",
        "scaler = StandardScaler()\n",
        "X_train = scaler.fit_transform(X_train)\n",
        "X_val = scaler.transform(X_val)\n",
        "\n",
        "# Update args based on data\n",
        "args[\"num_features\"] = X_train.shape[1]\n",
        "args[\"num_classes\"] = len(np.unique(y))\n",
        "\n",
        "# Initialize and train the model\n",
        "mlp_model = initialize_mlp(params[\"n_layers\"], args[\"num_features\"], params[\"hidden_dim\"], args[\"num_classes\"], args[\"objective\"])\n",
        "trained_model = train_mlp(mlp_model, X_train, y_train, X_val, y_val, args, params)\n",
        "\n",
        "# Make predictions and calculate accuracy\n",
        "predictions = predict_mlp(trained_model, X_val, args)\n",
        "accuracy = accuracy_score(y_val, predictions)\n",
        "print(f\"Validation Accuracy: {accuracy:.4f}\")\n"
      ],
      "metadata": {
        "colab": {
          "base_uri": "https://localhost:8080/"
        },
        "id": "Isnf2gjNftr1",
        "outputId": "a1db7985-4554-442f-afaa-ace0a6325ff3"
      },
      "execution_count": null,
      "outputs": [
        {
          "output_type": "stream",
          "name": "stdout",
          "text": [
            "Epoch 1, Validation Loss: 2.2746\n",
            "Epoch 2, Validation Loss: 2.2305\n",
            "Epoch 3, Validation Loss: 2.1823\n",
            "Epoch 4, Validation Loss: 2.1290\n",
            "Epoch 5, Validation Loss: 2.0712\n",
            "Epoch 6, Validation Loss: 2.0048\n",
            "Epoch 7, Validation Loss: 1.9350\n",
            "Epoch 8, Validation Loss: 1.8620\n",
            "Epoch 9, Validation Loss: 1.7887\n",
            "Epoch 10, Validation Loss: 1.7161\n",
            "Validation Accuracy: 0.4850\n"
          ]
        }
      ]
    },
    {
      "cell_type": "markdown",
      "source": [
        "# Task ID50: 28"
      ],
      "metadata": {
        "id": "WJJ0ZiGDUOnY"
      }
    },
    {
      "cell_type": "code",
      "source": [
        "# Load and preprocess data\n",
        "X, y = load_openml_data(task_id=28)\n",
        "X_train, X_val, y_train, y_val = train_test_split(X, y, test_size=0.2, random_state=42)\n",
        "\n",
        "# Standardize features\n",
        "scaler = StandardScaler()\n",
        "X_train = scaler.fit_transform(X_train)\n",
        "X_val = scaler.transform(X_val)\n",
        "\n",
        "# Update args based on data\n",
        "args[\"num_features\"] = X_train.shape[1]\n",
        "args[\"num_classes\"] = len(np.unique(y))\n",
        "\n",
        "# Initialize and train the model\n",
        "mlp_model = initialize_mlp(params[\"n_layers\"], args[\"num_features\"], params[\"hidden_dim\"], args[\"num_classes\"], args[\"objective\"])\n",
        "trained_model = train_mlp(mlp_model, X_train, y_train, X_val, y_val, args, params)\n",
        "\n",
        "# Make predictions and calculate accuracy\n",
        "predictions = predict_mlp(trained_model, X_val, args)\n",
        "accuracy = accuracy_score(y_val, predictions)\n",
        "print(f\"Validation Accuracy: {accuracy:.4f}\")\n"
      ],
      "metadata": {
        "colab": {
          "base_uri": "https://localhost:8080/"
        },
        "id": "zCjw4WvSfuph",
        "outputId": "6839defe-4a25-4163-ce1b-f3cd684e3ff7"
      },
      "execution_count": null,
      "outputs": [
        {
          "output_type": "stream",
          "name": "stdout",
          "text": [
            "Epoch 1, Validation Loss: 2.1857\n",
            "Epoch 2, Validation Loss: 2.0054\n",
            "Epoch 3, Validation Loss: 1.7261\n",
            "Epoch 4, Validation Loss: 1.3772\n",
            "Epoch 5, Validation Loss: 1.0364\n",
            "Epoch 6, Validation Loss: 0.7710\n",
            "Epoch 7, Validation Loss: 0.5834\n",
            "Epoch 8, Validation Loss: 0.4555\n",
            "Epoch 9, Validation Loss: 0.3731\n",
            "Epoch 10, Validation Loss: 0.3176\n",
            "Validation Accuracy: 0.9262\n"
          ]
        }
      ]
    },
    {
      "cell_type": "markdown",
      "source": [
        "# Task ID51: 2074"
      ],
      "metadata": {
        "id": "cDW6wxhbUOzO"
      }
    },
    {
      "cell_type": "code",
      "source": [
        "# Load and preprocess data\n",
        "X, y = load_openml_data(task_id=2074)\n",
        "X_train, X_val, y_train, y_val = train_test_split(X, y, test_size=0.2, random_state=42)\n",
        "\n",
        "# Standardize features\n",
        "scaler = StandardScaler()\n",
        "X_train = scaler.fit_transform(X_train)\n",
        "X_val = scaler.transform(X_val)\n",
        "\n",
        "# Update args based on data\n",
        "args[\"num_features\"] = X_train.shape[1]\n",
        "args[\"num_classes\"] = len(np.unique(y))\n",
        "\n",
        "# Initialize and train the model\n",
        "mlp_model = initialize_mlp(params[\"n_layers\"], args[\"num_features\"], params[\"hidden_dim\"], args[\"num_classes\"], args[\"objective\"])\n",
        "trained_model = train_mlp(mlp_model, X_train, y_train, X_val, y_val, args, params)\n",
        "\n",
        "# Make predictions and calculate accuracy\n",
        "predictions = predict_mlp(trained_model, X_val, args)\n",
        "accuracy = accuracy_score(y_val, predictions)\n",
        "print(f\"Validation Accuracy: {accuracy:.4f}\")\n"
      ],
      "metadata": {
        "colab": {
          "base_uri": "https://localhost:8080/"
        },
        "id": "IzSMZlfEfvVy",
        "outputId": "1b3d71e5-8aec-45f9-b119-6d88055b396d"
      },
      "execution_count": null,
      "outputs": [
        {
          "output_type": "stream",
          "name": "stdout",
          "text": [
            "Epoch 1, Validation Loss: 1.4955\n",
            "Epoch 2, Validation Loss: 1.1203\n",
            "Epoch 3, Validation Loss: 0.8331\n",
            "Epoch 4, Validation Loss: 0.6529\n",
            "Epoch 5, Validation Loss: 0.5382\n",
            "Epoch 6, Validation Loss: 0.4693\n",
            "Epoch 7, Validation Loss: 0.4304\n",
            "Epoch 8, Validation Loss: 0.4069\n",
            "Epoch 9, Validation Loss: 0.3908\n",
            "Epoch 10, Validation Loss: 0.3777\n",
            "Validation Accuracy: 0.8429\n"
          ]
        }
      ]
    },
    {
      "cell_type": "markdown",
      "source": [
        "# Task ID52: 29"
      ],
      "metadata": {
        "id": "x8l_UBrFUO-k"
      }
    },
    {
      "cell_type": "code",
      "source": [
        "# Load and preprocess data\n",
        "X, y = load_openml_data(task_id=29)\n",
        "X_train, X_val, y_train, y_val = train_test_split(X, y, test_size=0.2, random_state=42)\n",
        "\n",
        "# Standardize features\n",
        "scaler = StandardScaler()\n",
        "X_train = scaler.fit_transform(X_train)\n",
        "X_val = scaler.transform(X_val)\n",
        "\n",
        "# Update args based on data\n",
        "args[\"num_features\"] = X_train.shape[1]\n",
        "args[\"num_classes\"] = len(np.unique(y))\n",
        "\n",
        "# Initialize and train the model\n",
        "mlp_model = initialize_mlp(params[\"n_layers\"], args[\"num_features\"], params[\"hidden_dim\"], args[\"num_classes\"], args[\"objective\"])\n",
        "trained_model = train_mlp(mlp_model, X_train, y_train, X_val, y_val, args, params)\n",
        "\n",
        "# Make predictions and calculate accuracy\n",
        "predictions = predict_mlp(trained_model, X_val, args)\n",
        "accuracy = accuracy_score(y_val, predictions)\n",
        "print(f\"Validation Accuracy: {accuracy:.4f}\")\n"
      ],
      "metadata": {
        "colab": {
          "base_uri": "https://localhost:8080/"
        },
        "id": "cAK6-4Hhfv4S",
        "outputId": "f0ecb65e-57c8-4d43-f0d6-34419c66037b"
      },
      "execution_count": null,
      "outputs": [
        {
          "output_type": "stream",
          "name": "stdout",
          "text": [
            "Epoch 1, Validation Loss: 0.7111\n",
            "Epoch 2, Validation Loss: 0.7075\n",
            "Epoch 3, Validation Loss: 0.7037\n",
            "Epoch 4, Validation Loss: 0.7000\n",
            "Epoch 5, Validation Loss: 0.6961\n",
            "Epoch 6, Validation Loss: 0.6926\n",
            "Epoch 7, Validation Loss: 0.6879\n",
            "Epoch 8, Validation Loss: 0.6830\n",
            "Epoch 9, Validation Loss: 0.6778\n",
            "Epoch 10, Validation Loss: 0.6720\n",
            "Validation Accuracy: 0.5290\n"
          ]
        }
      ]
    },
    {
      "cell_type": "markdown",
      "source": [
        "# Task ID53: 45"
      ],
      "metadata": {
        "id": "K8UnhnOzUPJ-"
      }
    },
    {
      "cell_type": "code",
      "source": [
        "# Load and preprocess data\n",
        "X, y = load_openml_data(task_id=45)\n",
        "X_train, X_val, y_train, y_val = train_test_split(X, y, test_size=0.2, random_state=42)\n",
        "\n",
        "# Standardize features\n",
        "scaler = StandardScaler()\n",
        "X_train = scaler.fit_transform(X_train)\n",
        "X_val = scaler.transform(X_val)\n",
        "\n",
        "# Update args based on data\n",
        "args[\"num_features\"] = X_train.shape[1]\n",
        "args[\"num_classes\"] = len(np.unique(y))\n",
        "\n",
        "# Initialize and train the model\n",
        "mlp_model = initialize_mlp(params[\"n_layers\"], args[\"num_features\"], params[\"hidden_dim\"], args[\"num_classes\"], args[\"objective\"])\n",
        "trained_model = train_mlp(mlp_model, X_train, y_train, X_val, y_val, args, params)\n",
        "\n",
        "# Make predictions and calculate accuracy\n",
        "predictions = predict_mlp(trained_model, X_val, args)\n",
        "accuracy = accuracy_score(y_val, predictions)\n",
        "print(f\"Validation Accuracy: {accuracy:.4f}\")\n"
      ],
      "metadata": {
        "colab": {
          "base_uri": "https://localhost:8080/"
        },
        "id": "0oGPNoM6fwq3",
        "outputId": "524635f4-d058-41bd-c56e-6c246f838fad"
      },
      "execution_count": null,
      "outputs": [
        {
          "output_type": "stream",
          "name": "stdout",
          "text": [
            "Epoch 1, Validation Loss: 1.0605\n",
            "Epoch 2, Validation Loss: 1.0213\n",
            "Epoch 3, Validation Loss: 0.9760\n",
            "Epoch 4, Validation Loss: 0.9206\n",
            "Epoch 5, Validation Loss: 0.8491\n",
            "Epoch 6, Validation Loss: 0.7591\n",
            "Epoch 7, Validation Loss: 0.6581\n",
            "Epoch 8, Validation Loss: 0.5572\n",
            "Epoch 9, Validation Loss: 0.4657\n",
            "Epoch 10, Validation Loss: 0.3918\n",
            "Validation Accuracy: 0.8997\n"
          ]
        }
      ]
    },
    {
      "cell_type": "markdown",
      "source": [
        "# Task ID54: 125922"
      ],
      "metadata": {
        "id": "FIX9XbrkUPVf"
      }
    },
    {
      "cell_type": "code",
      "source": [
        "# Load and preprocess data\n",
        "X, y = load_openml_data(task_id=125922)\n",
        "X_train, X_val, y_train, y_val = train_test_split(X, y, test_size=0.2, random_state=42)\n",
        "\n",
        "# Standardize features\n",
        "scaler = StandardScaler()\n",
        "X_train = scaler.fit_transform(X_train)\n",
        "X_val = scaler.transform(X_val)\n",
        "\n",
        "# Update args based on data\n",
        "args[\"num_features\"] = X_train.shape[1]\n",
        "args[\"num_classes\"] = len(np.unique(y))\n",
        "\n",
        "# Initialize and train the model\n",
        "mlp_model = initialize_mlp(params[\"n_layers\"], args[\"num_features\"], params[\"hidden_dim\"], args[\"num_classes\"], args[\"objective\"])\n",
        "trained_model = train_mlp(mlp_model, X_train, y_train, X_val, y_val, args, params)\n",
        "\n",
        "# Make predictions and calculate accuracy\n",
        "predictions = predict_mlp(trained_model, X_val, args)\n",
        "accuracy = accuracy_score(y_val, predictions)\n",
        "print(f\"Validation Accuracy: {accuracy:.4f}\")\n"
      ],
      "metadata": {
        "colab": {
          "base_uri": "https://localhost:8080/"
        },
        "id": "_pOstywjfxjT",
        "outputId": "f6522911-897f-4d03-f8eb-804679894a1c"
      },
      "execution_count": null,
      "outputs": [
        {
          "output_type": "stream",
          "name": "stdout",
          "text": [
            "Epoch 1, Validation Loss: 2.2950\n",
            "Epoch 2, Validation Loss: 2.1239\n",
            "Epoch 3, Validation Loss: 1.8690\n",
            "Epoch 4, Validation Loss: 1.6383\n",
            "Epoch 5, Validation Loss: 1.4472\n",
            "Epoch 6, Validation Loss: 1.2707\n",
            "Epoch 7, Validation Loss: 1.1165\n",
            "Epoch 8, Validation Loss: 0.9866\n",
            "Epoch 9, Validation Loss: 0.8817\n",
            "Epoch 10, Validation Loss: 0.7872\n",
            "Validation Accuracy: 0.7736\n"
          ]
        }
      ]
    },
    {
      "cell_type": "markdown",
      "source": [
        "# Task ID55: 9960"
      ],
      "metadata": {
        "id": "KbGl87-KUPhg"
      }
    },
    {
      "cell_type": "code",
      "source": [
        "# Load and preprocess data\n",
        "X, y = load_openml_data(task_id=9960)\n",
        "X_train, X_val, y_train, y_val = train_test_split(X, y, test_size=0.2, random_state=42)\n",
        "\n",
        "# Standardize features\n",
        "scaler = StandardScaler()\n",
        "X_train = scaler.fit_transform(X_train)\n",
        "X_val = scaler.transform(X_val)\n",
        "\n",
        "# Update args based on data\n",
        "args[\"num_features\"] = X_train.shape[1]\n",
        "args[\"num_classes\"] = len(np.unique(y))\n",
        "\n",
        "# Initialize and train the model\n",
        "mlp_model = initialize_mlp(params[\"n_layers\"], args[\"num_features\"], params[\"hidden_dim\"], args[\"num_classes\"], args[\"objective\"])\n",
        "trained_model = train_mlp(mlp_model, X_train, y_train, X_val, y_val, args, params)\n",
        "\n",
        "# Make predictions and calculate accuracy\n",
        "predictions = predict_mlp(trained_model, X_val, args)\n",
        "accuracy = accuracy_score(y_val, predictions)\n",
        "print(f\"Validation Accuracy: {accuracy:.4f}\")\n"
      ],
      "metadata": {
        "colab": {
          "base_uri": "https://localhost:8080/"
        },
        "id": "rQZ9CgYtfycE",
        "outputId": "bcb68144-5e3e-4953-c09b-9252e77c95df"
      },
      "execution_count": null,
      "outputs": [
        {
          "output_type": "stream",
          "name": "stdout",
          "text": [
            "Epoch 1, Validation Loss: 1.3750\n",
            "Epoch 2, Validation Loss: 1.2335\n",
            "Epoch 3, Validation Loss: 1.1062\n",
            "Epoch 4, Validation Loss: 1.0164\n",
            "Epoch 5, Validation Loss: 0.9501\n",
            "Epoch 6, Validation Loss: 0.8935\n",
            "Epoch 7, Validation Loss: 0.8453\n",
            "Epoch 8, Validation Loss: 0.8035\n",
            "Epoch 9, Validation Loss: 0.7678\n",
            "Epoch 10, Validation Loss: 0.7366\n",
            "Validation Accuracy: 0.7033\n"
          ]
        }
      ]
    },
    {
      "cell_type": "markdown",
      "source": [
        "# Task ID56: 9964"
      ],
      "metadata": {
        "id": "XykMaPm-UPuA"
      }
    },
    {
      "cell_type": "code",
      "source": [
        "# Load and preprocess data\n",
        "X, y = load_openml_data(task_id=9964)\n",
        "X_train, X_val, y_train, y_val = train_test_split(X, y, test_size=0.2, random_state=42)\n",
        "\n",
        "# Standardize features\n",
        "scaler = StandardScaler()\n",
        "X_train = scaler.fit_transform(X_train)\n",
        "X_val = scaler.transform(X_val)\n",
        "\n",
        "# Update args based on data\n",
        "args[\"num_features\"] = X_train.shape[1]\n",
        "args[\"num_classes\"] = len(np.unique(y))\n",
        "\n",
        "# Initialize and train the model\n",
        "mlp_model = initialize_mlp(params[\"n_layers\"], args[\"num_features\"], params[\"hidden_dim\"], args[\"num_classes\"], args[\"objective\"])\n",
        "trained_model = train_mlp(mlp_model, X_train, y_train, X_val, y_val, args, params)\n",
        "\n",
        "# Make predictions and calculate accuracy\n",
        "predictions = predict_mlp(trained_model, X_val, args)\n",
        "accuracy = accuracy_score(y_val, predictions)\n",
        "print(f\"Validation Accuracy: {accuracy:.4f}\")\n"
      ],
      "metadata": {
        "colab": {
          "base_uri": "https://localhost:8080/"
        },
        "id": "diltBFXkfzOc",
        "outputId": "920866a8-71c5-49fb-d975-2d454037625d"
      },
      "execution_count": null,
      "outputs": [
        {
          "output_type": "stream",
          "name": "stdout",
          "text": [
            "Epoch 1, Validation Loss: 2.2544\n",
            "Epoch 2, Validation Loss: 2.2103\n",
            "Epoch 3, Validation Loss: 2.1569\n",
            "Epoch 4, Validation Loss: 2.0902\n",
            "Epoch 5, Validation Loss: 2.0091\n",
            "Epoch 6, Validation Loss: 1.9161\n",
            "Epoch 7, Validation Loss: 1.8119\n",
            "Epoch 8, Validation Loss: 1.6974\n",
            "Epoch 9, Validation Loss: 1.5791\n",
            "Epoch 10, Validation Loss: 1.4525\n",
            "Validation Accuracy: 0.6991\n"
          ]
        }
      ]
    },
    {
      "cell_type": "markdown",
      "source": [
        "# Task ID57: 22"
      ],
      "metadata": {
        "id": "sgLsaY6mUP5o"
      }
    },
    {
      "cell_type": "code",
      "source": [
        "# Load and preprocess data\n",
        "X, y = load_openml_data(task_id=22)\n",
        "X_train, X_val, y_train, y_val = train_test_split(X, y, test_size=0.2, random_state=42)\n",
        "\n",
        "# Standardize features\n",
        "scaler = StandardScaler()\n",
        "X_train = scaler.fit_transform(X_train)\n",
        "X_val = scaler.transform(X_val)\n",
        "\n",
        "# Update args based on data\n",
        "args[\"num_features\"] = X_train.shape[1]\n",
        "args[\"num_classes\"] = len(np.unique(y))\n",
        "\n",
        "# Initialize and train the model\n",
        "mlp_model = initialize_mlp(params[\"n_layers\"], args[\"num_features\"], params[\"hidden_dim\"], args[\"num_classes\"], args[\"objective\"])\n",
        "trained_model = train_mlp(mlp_model, X_train, y_train, X_val, y_val, args, params)\n",
        "\n",
        "# Make predictions and calculate accuracy\n",
        "predictions = predict_mlp(trained_model, X_val, args)\n",
        "accuracy = accuracy_score(y_val, predictions)\n",
        "print(f\"Validation Accuracy: {accuracy:.4f}\")\n"
      ],
      "metadata": {
        "colab": {
          "base_uri": "https://localhost:8080/"
        },
        "id": "0U_own0Vfz3u",
        "outputId": "15a8479d-0bd0-4c7f-9b0a-fffa98f9a867"
      },
      "execution_count": null,
      "outputs": [
        {
          "output_type": "stream",
          "name": "stdout",
          "text": [
            "Epoch 1, Validation Loss: 2.2549\n",
            "Epoch 2, Validation Loss: 2.2111\n",
            "Epoch 3, Validation Loss: 2.1641\n",
            "Epoch 4, Validation Loss: 2.1103\n",
            "Epoch 5, Validation Loss: 2.0456\n",
            "Epoch 6, Validation Loss: 1.9719\n",
            "Epoch 7, Validation Loss: 1.8883\n",
            "Epoch 8, Validation Loss: 1.7946\n",
            "Epoch 9, Validation Loss: 1.6943\n",
            "Epoch 10, Validation Loss: 1.5930\n",
            "Validation Accuracy: 0.6400\n"
          ]
        }
      ]
    },
    {
      "cell_type": "markdown",
      "source": [
        "# Task ID58: 2079"
      ],
      "metadata": {
        "id": "iPjBiyKOUQGo"
      }
    },
    {
      "cell_type": "code",
      "source": [
        "# Load and preprocess data\n",
        "X, y = load_openml_data(task_id=2079)\n",
        "X_train, X_val, y_train, y_val = train_test_split(X, y, test_size=0.2, random_state=42)\n",
        "\n",
        "# Standardize features\n",
        "scaler = StandardScaler()\n",
        "X_train = scaler.fit_transform(X_train)\n",
        "X_val = scaler.transform(X_val)\n",
        "\n",
        "# Update args based on data\n",
        "args[\"num_features\"] = X_train.shape[1]\n",
        "args[\"num_classes\"] = len(np.unique(y))\n",
        "\n",
        "# Initialize and train the model\n",
        "mlp_model = initialize_mlp(params[\"n_layers\"], args[\"num_features\"], params[\"hidden_dim\"], args[\"num_classes\"], args[\"objective\"])\n",
        "trained_model = train_mlp(mlp_model, X_train, y_train, X_val, y_val, args, params)\n",
        "\n",
        "# Make predictions and calculate accuracy\n",
        "predictions = predict_mlp(trained_model, X_val, args)\n",
        "accuracy = accuracy_score(y_val, predictions)\n",
        "print(f\"Validation Accuracy: {accuracy:.4f}\")\n"
      ],
      "metadata": {
        "colab": {
          "base_uri": "https://localhost:8080/"
        },
        "id": "mX_Lt088f0n7",
        "outputId": "bbad7d6f-0428-4706-c427-bef6951869f8"
      },
      "execution_count": null,
      "outputs": [
        {
          "output_type": "stream",
          "name": "stdout",
          "text": [
            "Epoch 1, Validation Loss: 1.6230\n",
            "Epoch 2, Validation Loss: 1.6110\n",
            "Epoch 3, Validation Loss: 1.6001\n",
            "Epoch 4, Validation Loss: 1.5892\n",
            "Epoch 5, Validation Loss: 1.5793\n",
            "Epoch 6, Validation Loss: 1.5685\n",
            "Epoch 7, Validation Loss: 1.5575\n",
            "Epoch 8, Validation Loss: 1.5465\n",
            "Epoch 9, Validation Loss: 1.5355\n",
            "Epoch 10, Validation Loss: 1.5239\n",
            "Validation Accuracy: 0.4189\n"
          ]
        }
      ]
    },
    {
      "cell_type": "markdown",
      "source": [
        "# Task ID59: 14969"
      ],
      "metadata": {
        "id": "DCBskzEeUQTb"
      }
    },
    {
      "cell_type": "code",
      "source": [
        "# Load and preprocess data\n",
        "X, y = load_openml_data(task_id=14969)\n",
        "X_train, X_val, y_train, y_val = train_test_split(X, y, test_size=0.2, random_state=42)\n",
        "\n",
        "# Standardize features\n",
        "scaler = StandardScaler()\n",
        "X_train = scaler.fit_transform(X_train)\n",
        "X_val = scaler.transform(X_val)\n",
        "\n",
        "# Update args based on data\n",
        "args[\"num_features\"] = X_train.shape[1]\n",
        "args[\"num_classes\"] = len(np.unique(y))\n",
        "\n",
        "# Initialize and train the model\n",
        "mlp_model = initialize_mlp(params[\"n_layers\"], args[\"num_features\"], params[\"hidden_dim\"], args[\"num_classes\"], args[\"objective\"])\n",
        "trained_model = train_mlp(mlp_model, X_train, y_train, X_val, y_val, args, params)\n",
        "\n",
        "# Make predictions and calculate accuracy\n",
        "predictions = predict_mlp(trained_model, X_val, args)\n",
        "accuracy = accuracy_score(y_val, predictions)\n",
        "print(f\"Validation Accuracy: {accuracy:.4f}\")\n"
      ],
      "metadata": {
        "colab": {
          "base_uri": "https://localhost:8080/"
        },
        "id": "N_it__I7f1mC",
        "outputId": "fd7c4afb-5855-47d7-fe19-74f29a282030"
      },
      "execution_count": null,
      "outputs": [
        {
          "output_type": "stream",
          "name": "stdout",
          "text": [
            "Epoch 1, Validation Loss: 1.4949\n",
            "Epoch 2, Validation Loss: 1.4222\n",
            "Epoch 3, Validation Loss: 1.3568\n",
            "Epoch 4, Validation Loss: 1.3166\n",
            "Epoch 5, Validation Loss: 1.2917\n",
            "Epoch 6, Validation Loss: 1.2732\n",
            "Epoch 7, Validation Loss: 1.2587\n",
            "Epoch 8, Validation Loss: 1.2465\n",
            "Epoch 9, Validation Loss: 1.2376\n",
            "Epoch 10, Validation Loss: 1.2295\n",
            "Validation Accuracy: 0.4942\n"
          ]
        }
      ]
    },
    {
      "cell_type": "markdown",
      "source": [
        "# Task ID60: 3560"
      ],
      "metadata": {
        "id": "3scdUqaAUQfh"
      }
    },
    {
      "cell_type": "code",
      "source": [
        "# Load and preprocess data\n",
        "X, y = load_openml_data(task_id=3560)\n",
        "X_train, X_val, y_train, y_val = train_test_split(X, y, test_size=0.2, random_state=42)\n",
        "\n",
        "# Standardize features\n",
        "scaler = StandardScaler()\n",
        "X_train = scaler.fit_transform(X_train)\n",
        "X_val = scaler.transform(X_val)\n",
        "\n",
        "# Update args based on data\n",
        "args[\"num_features\"] = X_train.shape[1]\n",
        "args[\"num_classes\"] = len(np.unique(y))\n",
        "\n",
        "# Initialize and train the model\n",
        "mlp_model = initialize_mlp(params[\"n_layers\"], args[\"num_features\"], params[\"hidden_dim\"], args[\"num_classes\"], args[\"objective\"])\n",
        "trained_model = train_mlp(mlp_model, X_train, y_train, X_val, y_val, args, params)\n",
        "\n",
        "# Make predictions and calculate accuracy\n",
        "predictions = predict_mlp(trained_model, X_val, args)\n",
        "accuracy = accuracy_score(y_val, predictions)\n",
        "print(f\"Validation Accuracy: {accuracy:.4f}\")\n"
      ],
      "metadata": {
        "colab": {
          "base_uri": "https://localhost:8080/"
        },
        "id": "Q0Ff7v3ff2Zd",
        "outputId": "1facc962-244d-4f24-db30-4f34d39b9a28"
      },
      "execution_count": null,
      "outputs": [
        {
          "output_type": "stream",
          "name": "stdout",
          "text": [
            "Epoch 1, Validation Loss: 1.7911\n",
            "Epoch 2, Validation Loss: 1.7899\n",
            "Epoch 3, Validation Loss: 1.7889\n",
            "Epoch 4, Validation Loss: 1.7883\n",
            "Epoch 5, Validation Loss: 1.7875\n",
            "Epoch 6, Validation Loss: 1.7870\n",
            "Epoch 7, Validation Loss: 1.7861\n",
            "Epoch 8, Validation Loss: 1.7857\n",
            "Epoch 9, Validation Loss: 1.7852\n",
            "Epoch 10, Validation Loss: 1.7847\n",
            "Validation Accuracy: 0.2062\n"
          ]
        }
      ]
    },
    {
      "cell_type": "markdown",
      "source": [
        "# Task ID61: 14952"
      ],
      "metadata": {
        "id": "cyp2ScRKUQtY"
      }
    },
    {
      "cell_type": "code",
      "source": [
        "# Load and preprocess data\n",
        "X, y = load_openml_data(task_id=14952)\n",
        "X_train, X_val, y_train, y_val = train_test_split(X, y, test_size=0.2, random_state=42)\n",
        "\n",
        "# Standardize features\n",
        "scaler = StandardScaler()\n",
        "X_train = scaler.fit_transform(X_train)\n",
        "X_val = scaler.transform(X_val)\n",
        "\n",
        "# Update args based on data\n",
        "args[\"num_features\"] = X_train.shape[1]\n",
        "args[\"num_classes\"] = len(np.unique(y))\n",
        "\n",
        "# Initialize and train the model\n",
        "mlp_model = initialize_mlp(params[\"n_layers\"], args[\"num_features\"], params[\"hidden_dim\"], args[\"num_classes\"], args[\"objective\"])\n",
        "trained_model = train_mlp(mlp_model, X_train, y_train, X_val, y_val, args, params)\n",
        "\n",
        "# Make predictions and calculate accuracy\n",
        "predictions = predict_mlp(trained_model, X_val, args)\n",
        "accuracy = accuracy_score(y_val, predictions)\n",
        "print(f\"Validation Accuracy: {accuracy:.4f}\")\n"
      ],
      "metadata": {
        "colab": {
          "base_uri": "https://localhost:8080/"
        },
        "id": "NJ0UyQ7ef3bD",
        "outputId": "10f078c1-6e0d-4516-c5d7-203d6929b238"
      },
      "execution_count": null,
      "outputs": [
        {
          "output_type": "stream",
          "name": "stdout",
          "text": [
            "Epoch 1, Validation Loss: 0.5276\n",
            "Epoch 2, Validation Loss: 0.2956\n",
            "Epoch 3, Validation Loss: 0.2029\n",
            "Epoch 4, Validation Loss: 0.1713\n",
            "Epoch 5, Validation Loss: 0.1561\n",
            "Epoch 6, Validation Loss: 0.1467\n",
            "Epoch 7, Validation Loss: 0.1411\n",
            "Epoch 8, Validation Loss: 0.1361\n",
            "Epoch 9, Validation Loss: 0.1325\n",
            "Epoch 10, Validation Loss: 0.1294\n",
            "Validation Accuracy: 0.9466\n"
          ]
        }
      ]
    },
    {
      "cell_type": "markdown",
      "source": [
        "# Task ID62: 125920"
      ],
      "metadata": {
        "id": "wmm8YmtYdYqs"
      }
    },
    {
      "cell_type": "code",
      "source": [
        "# Load and preprocess data\n",
        "X, y = load_openml_data(task_id=125920)\n",
        "X_train, X_val, y_train, y_val = train_test_split(X, y, test_size=0.2, random_state=42)\n",
        "\n",
        "# Standardize features\n",
        "scaler = StandardScaler()\n",
        "X_train = scaler.fit_transform(X_train)\n",
        "X_val = scaler.transform(X_val)\n",
        "\n",
        "# Update args based on data\n",
        "args[\"num_features\"] = X_train.shape[1]\n",
        "args[\"num_classes\"] = len(np.unique(y))\n",
        "\n",
        "# Initialize and train the model\n",
        "mlp_model = initialize_mlp(params[\"n_layers\"], args[\"num_features\"], params[\"hidden_dim\"], args[\"num_classes\"], args[\"objective\"])\n",
        "trained_model = train_mlp(mlp_model, X_train, y_train, X_val, y_val, args, params)\n",
        "\n",
        "# Make predictions and calculate accuracy\n",
        "predictions = predict_mlp(trained_model, X_val, args)\n",
        "accuracy = accuracy_score(y_val, predictions)\n",
        "print(f\"Validation Accuracy: {accuracy:.4f}\")\n"
      ],
      "metadata": {
        "colab": {
          "base_uri": "https://localhost:8080/"
        },
        "id": "LWsHNPphf8OH",
        "outputId": "f8e49aad-4e54-497f-8b3e-d7f86dd54c44"
      },
      "execution_count": null,
      "outputs": [
        {
          "output_type": "stream",
          "name": "stdout",
          "text": [
            "Epoch 1, Validation Loss: 0.6992\n",
            "Epoch 2, Validation Loss: 0.6978\n",
            "Epoch 3, Validation Loss: 0.6960\n",
            "Epoch 4, Validation Loss: 0.6944\n",
            "Epoch 5, Validation Loss: 0.6931\n",
            "Epoch 6, Validation Loss: 0.6918\n",
            "Epoch 7, Validation Loss: 0.6906\n",
            "Epoch 8, Validation Loss: 0.6894\n",
            "Epoch 9, Validation Loss: 0.6884\n",
            "Epoch 10, Validation Loss: 0.6875\n",
            "Validation Accuracy: 0.5500\n"
          ]
        }
      ]
    },
    {
      "cell_type": "markdown",
      "source": [
        "# Task ID63: 23"
      ],
      "metadata": {
        "id": "OOeFMqFydZr3"
      }
    },
    {
      "cell_type": "code",
      "source": [
        "# Load and preprocess data\n",
        "X, y = load_openml_data(task_id=23)\n",
        "X_train, X_val, y_train, y_val = train_test_split(X, y, test_size=0.2, random_state=42)\n",
        "\n",
        "# Standardize features\n",
        "scaler = StandardScaler()\n",
        "X_train = scaler.fit_transform(X_train)\n",
        "X_val = scaler.transform(X_val)\n",
        "\n",
        "# Update args based on data\n",
        "args[\"num_features\"] = X_train.shape[1]\n",
        "args[\"num_classes\"] = len(np.unique(y))\n",
        "\n",
        "# Initialize and train the model\n",
        "mlp_model = initialize_mlp(params[\"n_layers\"], args[\"num_features\"], params[\"hidden_dim\"], args[\"num_classes\"], args[\"objective\"])\n",
        "trained_model = train_mlp(mlp_model, X_train, y_train, X_val, y_val, args, params)\n",
        "\n",
        "# Make predictions and calculate accuracy\n",
        "predictions = predict_mlp(trained_model, X_val, args)\n",
        "accuracy = accuracy_score(y_val, predictions)\n",
        "print(f\"Validation Accuracy: {accuracy:.4f}\")\n"
      ],
      "metadata": {
        "colab": {
          "base_uri": "https://localhost:8080/"
        },
        "id": "0CvmYVBXf9HY",
        "outputId": "fb637647-8934-45c7-a862-d1a0eb0b0665"
      },
      "execution_count": null,
      "outputs": [
        {
          "output_type": "stream",
          "name": "stdout",
          "text": [
            "Epoch 1, Validation Loss: 1.0792\n",
            "Epoch 2, Validation Loss: 1.0700\n",
            "Epoch 3, Validation Loss: 1.0620\n",
            "Epoch 4, Validation Loss: 1.0542\n",
            "Epoch 5, Validation Loss: 1.0474\n",
            "Epoch 6, Validation Loss: 1.0411\n",
            "Epoch 7, Validation Loss: 1.0348\n",
            "Epoch 8, Validation Loss: 1.0299\n",
            "Epoch 9, Validation Loss: 1.0247\n",
            "Epoch 10, Validation Loss: 1.0197\n",
            "Validation Accuracy: 0.4441\n"
          ]
        }
      ]
    },
    {
      "cell_type": "markdown",
      "source": [
        "# Task ID64: 3904"
      ],
      "metadata": {
        "id": "j0ZiCc7_dZ5N"
      }
    },
    {
      "cell_type": "code",
      "source": [
        "# Load and preprocess data\n",
        "X, y = load_openml_data(task_id=3904)\n",
        "X_train, X_val, y_train, y_val = train_test_split(X, y, test_size=0.2, random_state=42)\n",
        "\n",
        "# Standardize features\n",
        "scaler = StandardScaler()\n",
        "X_train = scaler.fit_transform(X_train)\n",
        "X_val = scaler.transform(X_val)\n",
        "\n",
        "# Update args based on data\n",
        "args[\"num_features\"] = X_train.shape[1]\n",
        "args[\"num_classes\"] = len(np.unique(y))\n",
        "\n",
        "# Initialize and train the model\n",
        "mlp_model = initialize_mlp(params[\"n_layers\"], args[\"num_features\"], params[\"hidden_dim\"], args[\"num_classes\"], args[\"objective\"])\n",
        "trained_model = train_mlp(mlp_model, X_train, y_train, X_val, y_val, args, params)\n",
        "\n",
        "# Make predictions and calculate accuracy\n",
        "predictions = predict_mlp(trained_model, X_val, args)\n",
        "accuracy = accuracy_score(y_val, predictions)\n",
        "print(f\"Validation Accuracy: {accuracy:.4f}\")\n"
      ],
      "metadata": {
        "colab": {
          "base_uri": "https://localhost:8080/"
        },
        "id": "2KA2D69sf9yE",
        "outputId": "ac564f44-7725-420a-efb8-f56208fc7441"
      },
      "execution_count": null,
      "outputs": [
        {
          "output_type": "stream",
          "name": "stdout",
          "text": [
            "Epoch 1, Validation Loss: 0.5274\n",
            "Epoch 2, Validation Loss: 0.4472\n",
            "Epoch 3, Validation Loss: 0.4368\n",
            "Epoch 4, Validation Loss: 0.4322\n",
            "Epoch 5, Validation Loss: 0.4301\n",
            "Epoch 6, Validation Loss: 0.4286\n",
            "Epoch 7, Validation Loss: 0.4277\n",
            "Epoch 8, Validation Loss: 0.4278\n",
            "Epoch 9, Validation Loss: 0.4269\n",
            "Epoch 10, Validation Loss: 0.4269\n",
            "Validation Accuracy: 0.8103\n"
          ]
        }
      ]
    },
    {
      "cell_type": "markdown",
      "source": [
        "# Task ID65: 3022"
      ],
      "metadata": {
        "id": "JgmWq_NbdaFn"
      }
    },
    {
      "cell_type": "code",
      "source": [
        "# Load and preprocess data\n",
        "X, y = load_openml_data(task_id=3022)\n",
        "X_train, X_val, y_train, y_val = train_test_split(X, y, test_size=0.2, random_state=42)\n",
        "\n",
        "# Standardize features\n",
        "scaler = StandardScaler()\n",
        "X_train = scaler.fit_transform(X_train)\n",
        "X_val = scaler.transform(X_val)\n",
        "\n",
        "# Update args based on data\n",
        "args[\"num_features\"] = X_train.shape[1]\n",
        "args[\"num_classes\"] = len(np.unique(y))\n",
        "\n",
        "# Initialize and train the model\n",
        "mlp_model = initialize_mlp(params[\"n_layers\"], args[\"num_features\"], params[\"hidden_dim\"], args[\"num_classes\"], args[\"objective\"])\n",
        "trained_model = train_mlp(mlp_model, X_train, y_train, X_val, y_val, args, params)\n",
        "\n",
        "# Make predictions and calculate accuracy\n",
        "predictions = predict_mlp(trained_model, X_val, args)\n",
        "accuracy = accuracy_score(y_val, predictions)\n",
        "print(f\"Validation Accuracy: {accuracy:.4f}\")\n"
      ],
      "metadata": {
        "colab": {
          "base_uri": "https://localhost:8080/"
        },
        "id": "jdjIvjgFf-WD",
        "outputId": "879af115-67da-4c94-bacf-eb250780c48d"
      },
      "execution_count": null,
      "outputs": [
        {
          "output_type": "stream",
          "name": "stdout",
          "text": [
            "Epoch 1, Validation Loss: 2.4103\n",
            "Epoch 2, Validation Loss: 2.4044\n",
            "Epoch 3, Validation Loss: 2.3989\n",
            "Epoch 4, Validation Loss: 2.3929\n",
            "Epoch 5, Validation Loss: 2.3870\n",
            "Epoch 6, Validation Loss: 2.3805\n",
            "Epoch 7, Validation Loss: 2.3737\n",
            "Epoch 8, Validation Loss: 2.3668\n",
            "Epoch 9, Validation Loss: 2.3592\n",
            "Epoch 10, Validation Loss: 2.3508\n",
            "Validation Accuracy: 0.2020\n"
          ]
        }
      ]
    },
    {
      "cell_type": "markdown",
      "source": [
        "# Task ID66: 9985"
      ],
      "metadata": {
        "id": "k1saJ1SSdaTj"
      }
    },
    {
      "cell_type": "code",
      "source": [
        "# Load and preprocess data\n",
        "X, y = load_openml_data(task_id=9985)\n",
        "X_train, X_val, y_train, y_val = train_test_split(X, y, test_size=0.2, random_state=42)\n",
        "\n",
        "# Standardize features\n",
        "scaler = StandardScaler()\n",
        "X_train = scaler.fit_transform(X_train)\n",
        "X_val = scaler.transform(X_val)\n",
        "\n",
        "# Update args based on data\n",
        "args[\"num_features\"] = X_train.shape[1]\n",
        "args[\"num_classes\"] = len(np.unique(y))\n",
        "\n",
        "# Initialize and train the model\n",
        "mlp_model = initialize_mlp(params[\"n_layers\"], args[\"num_features\"], params[\"hidden_dim\"], args[\"num_classes\"], args[\"objective\"])\n",
        "trained_model = train_mlp(mlp_model, X_train, y_train, X_val, y_val, args, params)\n",
        "\n",
        "# Make predictions and calculate accuracy\n",
        "predictions = predict_mlp(trained_model, X_val, args)\n",
        "accuracy = accuracy_score(y_val, predictions)\n",
        "print(f\"Validation Accuracy: {accuracy:.4f}\")\n"
      ],
      "metadata": {
        "colab": {
          "base_uri": "https://localhost:8080/"
        },
        "id": "fHbo2JWIf-7U",
        "outputId": "1406210a-3b54-48c7-d801-b5d2fdb71961"
      },
      "execution_count": null,
      "outputs": [
        {
          "output_type": "stream",
          "name": "stdout",
          "text": [
            "Epoch 1, Validation Loss: 1.7212\n",
            "Epoch 2, Validation Loss: 1.6468\n",
            "Epoch 3, Validation Loss: 1.5865\n",
            "Epoch 4, Validation Loss: 1.5565\n",
            "Epoch 5, Validation Loss: 1.5380\n",
            "Epoch 6, Validation Loss: 1.5222\n",
            "Epoch 7, Validation Loss: 1.5085\n",
            "Epoch 8, Validation Loss: 1.4947\n",
            "Epoch 9, Validation Loss: 1.4838\n",
            "Epoch 10, Validation Loss: 1.4735\n",
            "Validation Accuracy: 0.4379\n"
          ]
        }
      ]
    },
    {
      "cell_type": "markdown",
      "source": [
        "# Task ID67: 9910"
      ],
      "metadata": {
        "id": "NmZiZ5TQdagj"
      }
    },
    {
      "cell_type": "code",
      "source": [
        "# Load and preprocess data\n",
        "X, y = load_openml_data(task_id=9910)\n",
        "X_train, X_val, y_train, y_val = train_test_split(X, y, test_size=0.2, random_state=42)\n",
        "\n",
        "# Standardize features\n",
        "scaler = StandardScaler()\n",
        "X_train = scaler.fit_transform(X_train)\n",
        "X_val = scaler.transform(X_val)\n",
        "\n",
        "# Update args based on data\n",
        "args[\"num_features\"] = X_train.shape[1]\n",
        "args[\"num_classes\"] = len(np.unique(y))\n",
        "\n",
        "# Initialize and train the model\n",
        "mlp_model = initialize_mlp(params[\"n_layers\"], args[\"num_features\"], params[\"hidden_dim\"], args[\"num_classes\"], args[\"objective\"])\n",
        "trained_model = train_mlp(mlp_model, X_train, y_train, X_val, y_val, args, params)\n",
        "\n",
        "# Make predictions and calculate accuracy\n",
        "predictions = predict_mlp(trained_model, X_val, args)\n",
        "accuracy = accuracy_score(y_val, predictions)\n",
        "print(f\"Validation Accuracy: {accuracy:.4f}\")\n"
      ],
      "metadata": {
        "colab": {
          "base_uri": "https://localhost:8080/"
        },
        "id": "TSIpOa9kgAp-",
        "outputId": "f5524588-6b94-4262-bbb9-a09d1500f300"
      },
      "execution_count": null,
      "outputs": [
        {
          "output_type": "stream",
          "name": "stdout",
          "text": [
            "Epoch 1, Validation Loss: 0.6170\n",
            "Epoch 2, Validation Loss: 0.5535\n",
            "Epoch 3, Validation Loss: 0.5076\n",
            "Epoch 4, Validation Loss: 0.4806\n",
            "Epoch 5, Validation Loss: 0.4689\n",
            "Epoch 6, Validation Loss: 0.4688\n",
            "Epoch 7, Validation Loss: 0.4845\n",
            "Epoch 8, Validation Loss: 0.4881\n",
            "Epoch 9, Validation Loss: 0.5072\n",
            "Epoch 10, Validation Loss: 0.5125\n",
            "Validation Accuracy: 0.7803\n"
          ]
        }
      ]
    },
    {
      "cell_type": "markdown",
      "source": [
        "# Task ID68: 14970"
      ],
      "metadata": {
        "id": "hbFnAU79das-"
      }
    },
    {
      "cell_type": "code",
      "source": [
        "# Load and preprocess data\n",
        "X, y = load_openml_data(task_id=14970)\n",
        "X_train, X_val, y_train, y_val = train_test_split(X, y, test_size=0.2, random_state=42)\n",
        "\n",
        "# Standardize features\n",
        "scaler = StandardScaler()\n",
        "X_train = scaler.fit_transform(X_train)\n",
        "X_val = scaler.transform(X_val)\n",
        "\n",
        "# Update args based on data\n",
        "args[\"num_features\"] = X_train.shape[1]\n",
        "args[\"num_classes\"] = len(np.unique(y))\n",
        "\n",
        "# Initialize and train the model\n",
        "mlp_model = initialize_mlp(params[\"n_layers\"], args[\"num_features\"], params[\"hidden_dim\"], args[\"num_classes\"], args[\"objective\"])\n",
        "trained_model = train_mlp(mlp_model, X_train, y_train, X_val, y_val, args, params)\n",
        "\n",
        "# Make predictions and calculate accuracy\n",
        "predictions = predict_mlp(trained_model, X_val, args)\n",
        "accuracy = accuracy_score(y_val, predictions)\n",
        "print(f\"Validation Accuracy: {accuracy:.4f}\")\n"
      ],
      "metadata": {
        "colab": {
          "base_uri": "https://localhost:8080/"
        },
        "id": "E7kEUM7UgBey",
        "outputId": "a72df24a-f12b-48b1-b124-22016a04cff9"
      },
      "execution_count": null,
      "outputs": [
        {
          "output_type": "stream",
          "name": "stdout",
          "text": [
            "Epoch 1, Validation Loss: 0.7674\n",
            "Epoch 2, Validation Loss: 0.4253\n",
            "Epoch 3, Validation Loss: 0.2916\n",
            "Epoch 4, Validation Loss: 0.2276\n",
            "Epoch 5, Validation Loss: 0.1757\n",
            "Epoch 6, Validation Loss: 0.1487\n",
            "Epoch 7, Validation Loss: 0.1308\n",
            "Epoch 8, Validation Loss: 0.1237\n",
            "Epoch 9, Validation Loss: 0.1068\n",
            "Epoch 10, Validation Loss: 0.0977\n",
            "Validation Accuracy: 0.9665\n"
          ]
        }
      ]
    },
    {
      "cell_type": "markdown",
      "source": [
        "# Task ID69: 3021"
      ],
      "metadata": {
        "id": "HXGqTwEwda5r"
      }
    },
    {
      "cell_type": "code",
      "source": [
        "# Load and preprocess data\n",
        "X, y = load_openml_data(task_id=3021)\n",
        "X_train, X_val, y_train, y_val = train_test_split(X, y, test_size=0.2, random_state=42)\n",
        "\n",
        "# Standardize features\n",
        "scaler = StandardScaler()\n",
        "X_train = scaler.fit_transform(X_train)\n",
        "X_val = scaler.transform(X_val)\n",
        "\n",
        "# Update args based on data\n",
        "args[\"num_features\"] = X_train.shape[1]\n",
        "args[\"num_classes\"] = len(np.unique(y))\n",
        "\n",
        "# Initialize and train the model\n",
        "mlp_model = initialize_mlp(params[\"n_layers\"], args[\"num_features\"], params[\"hidden_dim\"], args[\"num_classes\"], args[\"objective\"])\n",
        "trained_model = train_mlp(mlp_model, X_train, y_train, X_val, y_val, args, params)\n",
        "\n",
        "# Make predictions and calculate accuracy\n",
        "predictions = predict_mlp(trained_model, X_val, args)\n",
        "accuracy = accuracy_score(y_val, predictions)\n",
        "print(f\"Validation Accuracy: {accuracy:.4f}\")\n"
      ],
      "metadata": {
        "colab": {
          "base_uri": "https://localhost:8080/"
        },
        "id": "fNCzt3K6gCUS",
        "outputId": "eafab2a9-b9b4-449b-b57a-9d8f8ce2c787"
      },
      "execution_count": null,
      "outputs": [
        {
          "output_type": "stream",
          "name": "stdout",
          "text": [
            "Epoch 1, Validation Loss: 0.5455\n",
            "Epoch 2, Validation Loss: 0.4186\n",
            "Epoch 3, Validation Loss: 0.3130\n",
            "Epoch 4, Validation Loss: 0.2420\n",
            "Epoch 5, Validation Loss: 0.2021\n",
            "Epoch 6, Validation Loss: 0.1798\n",
            "Epoch 7, Validation Loss: 0.1655\n",
            "Epoch 8, Validation Loss: 0.1548\n",
            "Epoch 9, Validation Loss: 0.1467\n",
            "Epoch 10, Validation Loss: 0.1397\n",
            "Validation Accuracy: 0.9497\n"
          ]
        }
      ]
    },
    {
      "cell_type": "markdown",
      "source": [
        "# Task ID70: 3481"
      ],
      "metadata": {
        "id": "_SGwxPNTdbG5"
      }
    },
    {
      "cell_type": "code",
      "source": [
        "# Load and preprocess data\n",
        "X, y = load_openml_data(task_id=3481)\n",
        "X_train, X_val, y_train, y_val = train_test_split(X, y, test_size=0.2, random_state=42)\n",
        "\n",
        "# Standardize features\n",
        "scaler = StandardScaler()\n",
        "X_train = scaler.fit_transform(X_train)\n",
        "X_val = scaler.transform(X_val)\n",
        "\n",
        "# Update args based on data\n",
        "args[\"num_features\"] = X_train.shape[1]\n",
        "args[\"num_classes\"] = len(np.unique(y))\n",
        "\n",
        "# Initialize and train the model\n",
        "mlp_model = initialize_mlp(params[\"n_layers\"], args[\"num_features\"], params[\"hidden_dim\"], args[\"num_classes\"], args[\"objective\"])\n",
        "trained_model = train_mlp(mlp_model, X_train, y_train, X_val, y_val, args, params)\n",
        "\n",
        "# Make predictions and calculate accuracy\n",
        "predictions = predict_mlp(trained_model, X_val, args)\n",
        "accuracy = accuracy_score(y_val, predictions)\n",
        "print(f\"Validation Accuracy: {accuracy:.4f}\")\n"
      ],
      "metadata": {
        "colab": {
          "base_uri": "https://localhost:8080/"
        },
        "id": "bXI320RlgDEt",
        "outputId": "9e774080-73e1-484c-8402-b309cd2137d1"
      },
      "execution_count": null,
      "outputs": [
        {
          "output_type": "stream",
          "name": "stdout",
          "text": [
            "Epoch 1, Validation Loss: 2.6960\n",
            "Epoch 2, Validation Loss: 1.9094\n",
            "Epoch 3, Validation Loss: 1.2953\n",
            "Epoch 4, Validation Loss: 0.8847\n",
            "Epoch 5, Validation Loss: 0.6628\n",
            "Epoch 6, Validation Loss: 0.5382\n",
            "Epoch 7, Validation Loss: 0.4591\n",
            "Epoch 8, Validation Loss: 0.4028\n",
            "Epoch 9, Validation Loss: 0.3583\n",
            "Epoch 10, Validation Loss: 0.3219\n",
            "Validation Accuracy: 0.9135\n"
          ]
        }
      ]
    },
    {
      "cell_type": "markdown",
      "source": [
        "# Task ID71: 3573"
      ],
      "metadata": {
        "id": "pRv7Cn0GdbT-"
      }
    },
    {
      "cell_type": "code",
      "source": [
        "# Load and preprocess data\n",
        "X, y = load_openml_data(task_id=9946)\n",
        "X_train, X_val, y_train, y_val = train_test_split(X, y, test_size=0.2, random_state=42)\n",
        "\n",
        "# Standardize features\n",
        "scaler = StandardScaler()\n",
        "X_train = scaler.fit_transform(X_train)\n",
        "X_val = scaler.transform(X_val)\n",
        "\n",
        "# Update args based on data\n",
        "args[\"num_features\"] = X_train.shape[1]\n",
        "args[\"num_classes\"] = len(np.unique(y))\n",
        "\n",
        "# Initialize and train the model\n",
        "mlp_model = initialize_mlp(params[\"n_layers\"], args[\"num_features\"], params[\"hidden_dim\"], args[\"num_classes\"], args[\"objective\"])\n",
        "trained_model = train_mlp(mlp_model, X_train, y_train, X_val, y_val, args, params)\n",
        "\n",
        "# Make predictions and calculate accuracy\n",
        "predictions = predict_mlp(trained_model, X_val, args)\n",
        "accuracy = accuracy_score(y_val, predictions)\n",
        "print(f\"Validation Accuracy: {accuracy:.4f}\")\n"
      ],
      "metadata": {
        "id": "VYgwf5pTgD6F"
      },
      "execution_count": null,
      "outputs": []
    },
    {
      "cell_type": "markdown",
      "source": [
        "# Task ID72: 146824"
      ],
      "metadata": {
        "id": "yyid9hePdbi9"
      }
    },
    {
      "cell_type": "code",
      "source": [
        "# Load and preprocess data\n",
        "X, y = load_openml_data(task_id=146824)\n",
        "X_train, X_val, y_train, y_val = train_test_split(X, y, test_size=0.2, random_state=42)\n",
        "\n",
        "# Standardize features\n",
        "scaler = StandardScaler()\n",
        "X_train = scaler.fit_transform(X_train)\n",
        "X_val = scaler.transform(X_val)\n",
        "\n",
        "# Update args based on data\n",
        "args[\"num_features\"] = X_train.shape[1]\n",
        "args[\"num_classes\"] = len(np.unique(y))\n",
        "\n",
        "# Initialize and train the model\n",
        "mlp_model = initialize_mlp(params[\"n_layers\"], args[\"num_features\"], params[\"hidden_dim\"], args[\"num_classes\"], args[\"objective\"])\n",
        "trained_model = train_mlp(mlp_model, X_train, y_train, X_val, y_val, args, params)\n",
        "\n",
        "# Make predictions and calculate accuracy\n",
        "predictions = predict_mlp(trained_model, X_val, args)\n",
        "accuracy = accuracy_score(y_val, predictions)\n",
        "print(f\"Validation Accuracy: {accuracy:.4f}\")\n"
      ],
      "metadata": {
        "colab": {
          "base_uri": "https://localhost:8080/"
        },
        "id": "GkClEmZRgEmS",
        "outputId": "3bb3ea4b-3418-466d-b8f5-288942475b80"
      },
      "execution_count": null,
      "outputs": [
        {
          "output_type": "stream",
          "name": "stdout",
          "text": [
            "Epoch 1, Validation Loss: 2.1643\n",
            "Epoch 2, Validation Loss: 2.0326\n",
            "Epoch 3, Validation Loss: 1.8724\n",
            "Epoch 4, Validation Loss: 1.6769\n",
            "Epoch 5, Validation Loss: 1.4650\n",
            "Epoch 6, Validation Loss: 1.2563\n",
            "Epoch 7, Validation Loss: 1.0627\n",
            "Epoch 8, Validation Loss: 0.8854\n",
            "Epoch 9, Validation Loss: 0.7300\n",
            "Epoch 10, Validation Loss: 0.6046\n",
            "Validation Accuracy: 0.9025\n"
          ]
        }
      ]
    },
    {
      "cell_type": "markdown",
      "source": [
        "# Task ID73: 146820"
      ],
      "metadata": {
        "id": "ZErycBTkjcTT"
      }
    },
    {
      "cell_type": "code",
      "source": [
        "# Load and preprocess data\n",
        "X, y = load_openml_data(task_id=146820)\n",
        "X_train, X_val, y_train, y_val = train_test_split(X, y, test_size=0.2, random_state=42)\n",
        "\n",
        "# Standardize features\n",
        "scaler = StandardScaler()\n",
        "X_train = scaler.fit_transform(X_train)\n",
        "X_val = scaler.transform(X_val)\n",
        "\n",
        "# Update args based on data\n",
        "args[\"num_features\"] = X_train.shape[1]\n",
        "args[\"num_classes\"] = len(np.unique(y))\n",
        "\n",
        "# Initialize and train the model\n",
        "mlp_model = initialize_mlp(params[\"n_layers\"], args[\"num_features\"], params[\"hidden_dim\"], args[\"num_classes\"], args[\"objective\"])\n",
        "trained_model = train_mlp(mlp_model, X_train, y_train, X_val, y_val, args, params)\n",
        "\n",
        "# Make predictions and calculate accuracy\n",
        "predictions = predict_mlp(trained_model, X_val, args)\n",
        "accuracy = accuracy_score(y_val, predictions)\n",
        "print(f\"Validation Accuracy: {accuracy:.4f}\")\n"
      ],
      "metadata": {
        "colab": {
          "base_uri": "https://localhost:8080/"
        },
        "id": "i3G_VygTgFcB",
        "outputId": "316a644f-94fb-4ca4-897f-9da794a47638"
      },
      "execution_count": null,
      "outputs": [
        {
          "output_type": "stream",
          "name": "stdout",
          "text": [
            "Epoch 1, Validation Loss: 0.4838\n",
            "Epoch 2, Validation Loss: 0.3455\n",
            "Epoch 3, Validation Loss: 0.2481\n",
            "Epoch 4, Validation Loss: 0.2040\n",
            "Epoch 5, Validation Loss: 0.1864\n",
            "Epoch 6, Validation Loss: 0.1785\n",
            "Epoch 7, Validation Loss: 0.1737\n",
            "Epoch 8, Validation Loss: 0.1702\n",
            "Epoch 9, Validation Loss: 0.1673\n",
            "Epoch 10, Validation Loss: 0.1648\n",
            "Validation Accuracy: 0.9473\n"
          ]
        }
      ]
    },
    {
      "cell_type": "markdown",
      "source": [
        "# Task ID74: 146822"
      ],
      "metadata": {
        "id": "ApnHqxGOjclf"
      }
    },
    {
      "cell_type": "code",
      "source": [
        "# Load and preprocess data\n",
        "X, y = load_openml_data(task_id=146822)\n",
        "X_train, X_val, y_train, y_val = train_test_split(X, y, test_size=0.2, random_state=42)\n",
        "\n",
        "# Standardize features\n",
        "scaler = StandardScaler()\n",
        "X_train = scaler.fit_transform(X_train)\n",
        "X_val = scaler.transform(X_val)\n",
        "\n",
        "# Update args based on data\n",
        "args[\"num_features\"] = X_train.shape[1]\n",
        "args[\"num_classes\"] = len(np.unique(y))\n",
        "\n",
        "# Initialize and train the model\n",
        "mlp_model = initialize_mlp(params[\"n_layers\"], args[\"num_features\"], params[\"hidden_dim\"], args[\"num_classes\"], args[\"objective\"])\n",
        "trained_model = train_mlp(mlp_model, X_train, y_train, X_val, y_val, args, params)\n",
        "\n",
        "# Make predictions and calculate accuracy\n",
        "predictions = predict_mlp(trained_model, X_val, args)\n",
        "accuracy = accuracy_score(y_val, predictions)\n",
        "print(f\"Validation Accuracy: {accuracy:.4f}\")\n"
      ],
      "metadata": {
        "colab": {
          "base_uri": "https://localhost:8080/"
        },
        "id": "nhoQnCEkgGMs",
        "outputId": "3d42dac5-8b5c-47b8-e1bc-f8d54133add8"
      },
      "execution_count": null,
      "outputs": [
        {
          "output_type": "stream",
          "name": "stdout",
          "text": [
            "Epoch 1, Validation Loss: 1.9233\n",
            "Epoch 2, Validation Loss: 1.8733\n",
            "Epoch 3, Validation Loss: 1.8190\n",
            "Epoch 4, Validation Loss: 1.7579\n",
            "Epoch 5, Validation Loss: 1.6870\n",
            "Epoch 6, Validation Loss: 1.6068\n",
            "Epoch 7, Validation Loss: 1.5206\n",
            "Epoch 8, Validation Loss: 1.4356\n",
            "Epoch 9, Validation Loss: 1.3555\n",
            "Epoch 10, Validation Loss: 1.2816\n",
            "Validation Accuracy: 0.6429\n"
          ]
        }
      ]
    },
    {
      "cell_type": "markdown",
      "source": [
        "# Task ID75: 146195"
      ],
      "metadata": {
        "id": "Ybce50ysjc0s"
      }
    },
    {
      "cell_type": "code",
      "source": [
        "# Load and preprocess data\n",
        "X, y = load_openml_data(task_id=146195)\n",
        "X_train, X_val, y_train, y_val = train_test_split(X, y, test_size=0.2, random_state=42)\n",
        "\n",
        "# Standardize features\n",
        "scaler = StandardScaler()\n",
        "X_train = scaler.fit_transform(X_train)\n",
        "X_val = scaler.transform(X_val)\n",
        "\n",
        "# Update args based on data\n",
        "args[\"num_features\"] = X_train.shape[1]\n",
        "args[\"num_classes\"] = len(np.unique(y))\n",
        "\n",
        "# Initialize and train the model\n",
        "mlp_model = initialize_mlp(params[\"n_layers\"], args[\"num_features\"], params[\"hidden_dim\"], args[\"num_classes\"], args[\"objective\"])\n",
        "trained_model = train_mlp(mlp_model, X_train, y_train, X_val, y_val, args, params)\n",
        "\n",
        "# Make predictions and calculate accuracy\n",
        "predictions = predict_mlp(trained_model, X_val, args)\n",
        "accuracy = accuracy_score(y_val, predictions)\n",
        "print(f\"Validation Accuracy: {accuracy:.4f}\")\n"
      ],
      "metadata": {
        "colab": {
          "base_uri": "https://localhost:8080/"
        },
        "id": "qCScBJ2agHDD",
        "outputId": "013af9a2-2bff-48f4-ccaa-9bb7febe7eb8"
      },
      "execution_count": null,
      "outputs": [
        {
          "output_type": "stream",
          "name": "stdout",
          "text": [
            "Epoch 1, Validation Loss: 0.6205\n",
            "Epoch 2, Validation Loss: 0.5788\n",
            "Epoch 3, Validation Loss: 0.5567\n",
            "Epoch 4, Validation Loss: 0.5365\n",
            "Epoch 5, Validation Loss: 0.5192\n",
            "Epoch 6, Validation Loss: 0.5063\n",
            "Epoch 7, Validation Loss: 0.4956\n",
            "Epoch 8, Validation Loss: 0.4878\n",
            "Epoch 9, Validation Loss: 0.4815\n",
            "Epoch 10, Validation Loss: 0.4753\n",
            "Validation Accuracy: 0.8122\n"
          ]
        }
      ]
    },
    {
      "cell_type": "markdown",
      "source": [
        "# Task ID76: 146800"
      ],
      "metadata": {
        "id": "hS7jGUhzjdCn"
      }
    },
    {
      "cell_type": "code",
      "source": [
        "# Load and preprocess data\n",
        "X, y = load_openml_data(task_id=146800)\n",
        "X_train, X_val, y_train, y_val = train_test_split(X, y, test_size=0.2, random_state=42)\n",
        "\n",
        "# Standardize features\n",
        "scaler = StandardScaler()\n",
        "X_train = scaler.fit_transform(X_train)\n",
        "X_val = scaler.transform(X_val)\n",
        "\n",
        "# Update args based on data\n",
        "args[\"num_features\"] = X_train.shape[1]\n",
        "args[\"num_classes\"] = len(np.unique(y))\n",
        "\n",
        "# Initialize and train the model\n",
        "mlp_model = initialize_mlp(params[\"n_layers\"], args[\"num_features\"], params[\"hidden_dim\"], args[\"num_classes\"], args[\"objective\"])\n",
        "trained_model = train_mlp(mlp_model, X_train, y_train, X_val, y_val, args, params)\n",
        "\n",
        "# Make predictions and calculate accuracy\n",
        "predictions = predict_mlp(trained_model, X_val, args)\n",
        "accuracy = accuracy_score(y_val, predictions)\n",
        "print(f\"Validation Accuracy: {accuracy:.4f}\")\n"
      ],
      "metadata": {
        "colab": {
          "base_uri": "https://localhost:8080/"
        },
        "id": "ltcaq7wHgH8l",
        "outputId": "ce22037c-df59-484d-c08c-5ab9ed46c7ba"
      },
      "execution_count": null,
      "outputs": [
        {
          "output_type": "stream",
          "name": "stdout",
          "text": [
            "Epoch 1, Validation Loss: 2.0621\n",
            "Epoch 2, Validation Loss: 2.0422\n",
            "Epoch 3, Validation Loss: 2.0219\n",
            "Epoch 4, Validation Loss: 2.0011\n",
            "Epoch 5, Validation Loss: 1.9783\n",
            "Epoch 6, Validation Loss: 1.9540\n",
            "Epoch 7, Validation Loss: 1.9259\n",
            "Epoch 8, Validation Loss: 1.8951\n",
            "Epoch 9, Validation Loss: 1.8606\n",
            "Epoch 10, Validation Loss: 1.8221\n",
            "Validation Accuracy: 0.5787\n"
          ]
        }
      ]
    },
    {
      "cell_type": "markdown",
      "source": [
        "# Task ID77: 146817"
      ],
      "metadata": {
        "id": "Cp2KgzM5jdPc"
      }
    },
    {
      "cell_type": "code",
      "source": [
        "# Load and preprocess data\n",
        "X, y = load_openml_data(task_id=146817)\n",
        "X_train, X_val, y_train, y_val = train_test_split(X, y, test_size=0.2, random_state=42)\n",
        "\n",
        "# Standardize features\n",
        "scaler = StandardScaler()\n",
        "X_train = scaler.fit_transform(X_train)\n",
        "X_val = scaler.transform(X_val)\n",
        "\n",
        "# Update args based on data\n",
        "args[\"num_features\"] = X_train.shape[1]\n",
        "args[\"num_classes\"] = len(np.unique(y))\n",
        "\n",
        "# Initialize and train the model\n",
        "mlp_model = initialize_mlp(params[\"n_layers\"], args[\"num_features\"], params[\"hidden_dim\"], args[\"num_classes\"], args[\"objective\"])\n",
        "trained_model = train_mlp(mlp_model, X_train, y_train, X_val, y_val, args, params)\n",
        "\n",
        "# Make predictions and calculate accuracy\n",
        "predictions = predict_mlp(trained_model, X_val, args)\n",
        "accuracy = accuracy_score(y_val, predictions)\n",
        "print(f\"Validation Accuracy: {accuracy:.4f}\")\n"
      ],
      "metadata": {
        "colab": {
          "base_uri": "https://localhost:8080/"
        },
        "id": "LmS70aACgIky",
        "outputId": "1b6f344a-d63a-42b4-8ae2-9a056bfe979a"
      },
      "execution_count": null,
      "outputs": [
        {
          "output_type": "stream",
          "name": "stdout",
          "text": [
            "Epoch 1, Validation Loss: 1.8724\n",
            "Epoch 2, Validation Loss: 1.8041\n",
            "Epoch 3, Validation Loss: 1.7286\n",
            "Epoch 4, Validation Loss: 1.6425\n",
            "Epoch 5, Validation Loss: 1.5520\n",
            "Epoch 6, Validation Loss: 1.4630\n",
            "Epoch 7, Validation Loss: 1.3808\n",
            "Epoch 8, Validation Loss: 1.3095\n",
            "Epoch 9, Validation Loss: 1.2487\n",
            "Epoch 10, Validation Loss: 1.1969\n",
            "Validation Accuracy: 0.5424\n"
          ]
        }
      ]
    },
    {
      "cell_type": "markdown",
      "source": [
        "# Task ID78: 146819"
      ],
      "metadata": {
        "id": "yXXQpbjwjdb3"
      }
    },
    {
      "cell_type": "code",
      "source": [
        "# Load and preprocess data\n",
        "X, y = load_openml_data(task_id=146819)\n",
        "X_train, X_val, y_train, y_val = train_test_split(X, y, test_size=0.2, random_state=42)\n",
        "\n",
        "# Standardize features\n",
        "scaler = StandardScaler()\n",
        "X_train = scaler.fit_transform(X_train)\n",
        "X_val = scaler.transform(X_val)\n",
        "\n",
        "# Update args based on data\n",
        "args[\"num_features\"] = X_train.shape[1]\n",
        "args[\"num_classes\"] = len(np.unique(y))\n",
        "\n",
        "# Initialize and train the model\n",
        "mlp_model = initialize_mlp(params[\"n_layers\"], args[\"num_features\"], params[\"hidden_dim\"], args[\"num_classes\"], args[\"objective\"])\n",
        "trained_model = train_mlp(mlp_model, X_train, y_train, X_val, y_val, args, params)\n",
        "\n",
        "# Make predictions and calculate accuracy\n",
        "predictions = predict_mlp(trained_model, X_val, args)\n",
        "accuracy = accuracy_score(y_val, predictions)\n",
        "print(f\"Validation Accuracy: {accuracy:.4f}\")\n"
      ],
      "metadata": {
        "colab": {
          "base_uri": "https://localhost:8080/"
        },
        "id": "-hOPeV4bgJO_",
        "outputId": "950ef55d-d31c-43ba-f41c-ab14334ed4e4"
      },
      "execution_count": null,
      "outputs": [
        {
          "output_type": "stream",
          "name": "stdout",
          "text": [
            "Epoch 1, Validation Loss: 0.6470\n",
            "Epoch 2, Validation Loss: 0.6295\n",
            "Epoch 3, Validation Loss: 0.6127\n",
            "Epoch 4, Validation Loss: 0.5961\n",
            "Epoch 5, Validation Loss: 0.5802\n",
            "Epoch 6, Validation Loss: 0.5644\n",
            "Epoch 7, Validation Loss: 0.5490\n",
            "Epoch 8, Validation Loss: 0.5338\n",
            "Epoch 9, Validation Loss: 0.5189\n",
            "Epoch 10, Validation Loss: 0.5042\n",
            "Validation Accuracy: 0.9074\n"
          ]
        }
      ]
    },
    {
      "cell_type": "markdown",
      "source": [
        "# Task ID79: 146821"
      ],
      "metadata": {
        "id": "FQWP6NUVjdoM"
      }
    },
    {
      "cell_type": "code",
      "source": [
        "# Load and preprocess data\n",
        "X, y = load_openml_data(task_id=146821)\n",
        "X_train, X_val, y_train, y_val = train_test_split(X, y, test_size=0.2, random_state=42)\n",
        "\n",
        "# Standardize features\n",
        "scaler = StandardScaler()\n",
        "X_train = scaler.fit_transform(X_train)\n",
        "X_val = scaler.transform(X_val)\n",
        "\n",
        "# Update args based on data\n",
        "args[\"num_features\"] = X_train.shape[1]\n",
        "args[\"num_classes\"] = len(np.unique(y))\n",
        "\n",
        "# Initialize and train the model\n",
        "mlp_model = initialize_mlp(params[\"n_layers\"], args[\"num_features\"], params[\"hidden_dim\"], args[\"num_classes\"], args[\"objective\"])\n",
        "trained_model = train_mlp(mlp_model, X_train, y_train, X_val, y_val, args, params)\n",
        "\n",
        "# Make predictions and calculate accuracy\n",
        "predictions = predict_mlp(trained_model, X_val, args)\n",
        "accuracy = accuracy_score(y_val, predictions)\n",
        "print(f\"Validation Accuracy: {accuracy:.4f}\")\n"
      ],
      "metadata": {
        "colab": {
          "base_uri": "https://localhost:8080/"
        },
        "id": "TAlp5jI2gJx3",
        "outputId": "3ab888dc-5bcf-4292-c281-b3ad9e5e3069"
      },
      "execution_count": null,
      "outputs": [
        {
          "output_type": "stream",
          "name": "stdout",
          "text": [
            "Epoch 1, Validation Loss: 1.3637\n",
            "Epoch 2, Validation Loss: 1.3112\n",
            "Epoch 3, Validation Loss: 1.2607\n",
            "Epoch 4, Validation Loss: 1.2085\n",
            "Epoch 5, Validation Loss: 1.1542\n",
            "Epoch 6, Validation Loss: 1.0967\n",
            "Epoch 7, Validation Loss: 1.0378\n",
            "Epoch 8, Validation Loss: 0.9819\n",
            "Epoch 9, Validation Loss: 0.9317\n",
            "Epoch 10, Validation Loss: 0.8885\n",
            "Validation Accuracy: 0.6792\n"
          ]
        }
      ]
    },
    {
      "cell_type": "markdown",
      "source": [
        "# Task ID80: 14954"
      ],
      "metadata": {
        "id": "R1dUVRBFjd0n"
      }
    },
    {
      "cell_type": "code",
      "source": [
        "# Load and preprocess data\n",
        "X, y = load_openml_data(task_id=14954)\n",
        "X_train, X_val, y_train, y_val = train_test_split(X, y, test_size=0.2, random_state=42)\n",
        "\n",
        "# Standardize features\n",
        "scaler = StandardScaler()\n",
        "X_train = scaler.fit_transform(X_train)\n",
        "X_val = scaler.transform(X_val)\n",
        "\n",
        "# Update args based on data\n",
        "args[\"num_features\"] = X_train.shape[1]\n",
        "args[\"num_classes\"] = len(np.unique(y))\n",
        "\n",
        "# Initialize and train the model\n",
        "mlp_model = initialize_mlp(params[\"n_layers\"], args[\"num_features\"], params[\"hidden_dim\"], args[\"num_classes\"], args[\"objective\"])\n",
        "trained_model = train_mlp(mlp_model, X_train, y_train, X_val, y_val, args, params)\n",
        "\n",
        "# Make predictions and calculate accuracy\n",
        "predictions = predict_mlp(trained_model, X_val, args)\n",
        "accuracy = accuracy_score(y_val, predictions)\n",
        "print(f\"Validation Accuracy: {accuracy:.4f}\")\n"
      ],
      "metadata": {
        "colab": {
          "base_uri": "https://localhost:8080/"
        },
        "id": "lfT0wXzagKac",
        "outputId": "4fd1fbab-d405-45cd-c5a5-fe7ac9798098"
      },
      "execution_count": null,
      "outputs": [
        {
          "output_type": "stream",
          "name": "stdout",
          "text": [
            "Epoch 1, Validation Loss: 0.6938\n",
            "Epoch 2, Validation Loss: 0.6906\n",
            "Epoch 3, Validation Loss: 0.6875\n",
            "Epoch 4, Validation Loss: 0.6842\n",
            "Epoch 5, Validation Loss: 0.6810\n",
            "Epoch 6, Validation Loss: 0.6775\n",
            "Epoch 7, Validation Loss: 0.6740\n",
            "Epoch 8, Validation Loss: 0.6703\n",
            "Epoch 9, Validation Loss: 0.6663\n",
            "Epoch 10, Validation Loss: 0.6620\n",
            "Validation Accuracy: 0.6204\n"
          ]
        }
      ]
    },
    {
      "cell_type": "markdown",
      "source": [
        "# Task ID81: 167141"
      ],
      "metadata": {
        "id": "hZqVKYjojeA6"
      }
    },
    {
      "cell_type": "code",
      "source": [
        "# Load and preprocess data\n",
        "X, y = load_openml_data(task_id=167141)\n",
        "X_train, X_val, y_train, y_val = train_test_split(X, y, test_size=0.2, random_state=42)\n",
        "\n",
        "# Standardize features\n",
        "scaler = StandardScaler()\n",
        "X_train = scaler.fit_transform(X_train)\n",
        "X_val = scaler.transform(X_val)\n",
        "\n",
        "# Update args based on data\n",
        "args[\"num_features\"] = X_train.shape[1]\n",
        "args[\"num_classes\"] = len(np.unique(y))\n",
        "\n",
        "# Initialize and train the model\n",
        "mlp_model = initialize_mlp(params[\"n_layers\"], args[\"num_features\"], params[\"hidden_dim\"], args[\"num_classes\"], args[\"objective\"])\n",
        "trained_model = train_mlp(mlp_model, X_train, y_train, X_val, y_val, args, params)\n",
        "\n",
        "# Make predictions and calculate accuracy\n",
        "predictions = predict_mlp(trained_model, X_val, args)\n",
        "accuracy = accuracy_score(y_val, predictions)\n",
        "print(f\"Validation Accuracy: {accuracy:.4f}\")\n"
      ],
      "metadata": {
        "colab": {
          "base_uri": "https://localhost:8080/"
        },
        "id": "jxzeCSopgLTx",
        "outputId": "a5294100-811c-4de6-efc7-a8939031f20a"
      },
      "execution_count": null,
      "outputs": [
        {
          "output_type": "stream",
          "name": "stdout",
          "text": [
            "Epoch 1, Validation Loss: 0.5772\n",
            "Epoch 2, Validation Loss: 0.4845\n",
            "Epoch 3, Validation Loss: 0.4260\n",
            "Epoch 4, Validation Loss: 0.3952\n",
            "Epoch 5, Validation Loss: 0.3730\n",
            "Epoch 6, Validation Loss: 0.3538\n",
            "Epoch 7, Validation Loss: 0.3358\n",
            "Epoch 8, Validation Loss: 0.3198\n",
            "Epoch 9, Validation Loss: 0.3072\n",
            "Epoch 10, Validation Loss: 0.2973\n",
            "Validation Accuracy: 0.8610\n"
          ]
        }
      ]
    },
    {
      "cell_type": "markdown",
      "source": [
        "# Task ID82: 167140"
      ],
      "metadata": {
        "id": "S19sCYYBjeNI"
      }
    },
    {
      "cell_type": "code",
      "source": [
        "# Load and preprocess data\n",
        "X, y = load_openml_data(task_id=167140)\n",
        "X_train, X_val, y_train, y_val = train_test_split(X, y, test_size=0.2, random_state=42)\n",
        "\n",
        "# Standardize features\n",
        "scaler = StandardScaler()\n",
        "X_train = scaler.fit_transform(X_train)\n",
        "X_val = scaler.transform(X_val)\n",
        "\n",
        "# Update args based on data\n",
        "args[\"num_features\"] = X_train.shape[1]\n",
        "args[\"num_classes\"] = len(np.unique(y))\n",
        "\n",
        "# Initialize and train the model\n",
        "mlp_model = initialize_mlp(params[\"n_layers\"], args[\"num_features\"], params[\"hidden_dim\"], args[\"num_classes\"], args[\"objective\"])\n",
        "trained_model = train_mlp(mlp_model, X_train, y_train, X_val, y_val, args, params)\n",
        "\n",
        "# Make predictions and calculate accuracy\n",
        "predictions = predict_mlp(trained_model, X_val, args)\n",
        "accuracy = accuracy_score(y_val, predictions)\n",
        "print(f\"Validation Accuracy: {accuracy:.4f}\")\n"
      ],
      "metadata": {
        "colab": {
          "base_uri": "https://localhost:8080/"
        },
        "id": "ovLIKw_mgMPy",
        "outputId": "189a93ce-5223-4503-cb3d-ee1128544c04"
      },
      "execution_count": null,
      "outputs": [
        {
          "output_type": "stream",
          "name": "stdout",
          "text": [
            "Epoch 1, Validation Loss: 1.0362\n",
            "Epoch 2, Validation Loss: 0.9816\n",
            "Epoch 3, Validation Loss: 0.9197\n",
            "Epoch 4, Validation Loss: 0.8465\n",
            "Epoch 5, Validation Loss: 0.7579\n",
            "Epoch 6, Validation Loss: 0.6573\n",
            "Epoch 7, Validation Loss: 0.5527\n",
            "Epoch 8, Validation Loss: 0.4574\n",
            "Epoch 9, Validation Loss: 0.3820\n",
            "Epoch 10, Validation Loss: 0.3258\n",
            "Validation Accuracy: 0.9060\n"
          ]
        }
      ]
    },
    {
      "cell_type": "markdown",
      "source": [
        "# Task ID83: 167125"
      ],
      "metadata": {
        "id": "LDgS_tZ8jeZ6"
      }
    },
    {
      "cell_type": "code",
      "source": [
        "# Load and preprocess data\n",
        "X, y = load_openml_data(task_id=167125)\n",
        "X_train, X_val, y_train, y_val = train_test_split(X, y, test_size=0.2, random_state=42)\n",
        "\n",
        "# Standardize features\n",
        "scaler = StandardScaler()\n",
        "X_train = scaler.fit_transform(X_train)\n",
        "X_val = scaler.transform(X_val)\n",
        "\n",
        "# Update args based on data\n",
        "args[\"num_features\"] = X_train.shape[1]\n",
        "args[\"num_classes\"] = len(np.unique(y))\n",
        "\n",
        "# Initialize and train the model\n",
        "mlp_model = initialize_mlp(params[\"n_layers\"], args[\"num_features\"], params[\"hidden_dim\"], args[\"num_classes\"], args[\"objective\"])\n",
        "trained_model = train_mlp(mlp_model, X_train, y_train, X_val, y_val, args, params)\n",
        "\n",
        "# Make predictions and calculate accuracy\n",
        "predictions = predict_mlp(trained_model, X_val, args)\n",
        "accuracy = accuracy_score(y_val, predictions)\n",
        "print(f\"Validation Accuracy: {accuracy:.4f}\")\n"
      ],
      "metadata": {
        "colab": {
          "base_uri": "https://localhost:8080/"
        },
        "id": "kKt3HX1EgNI4",
        "outputId": "dfe0e1dd-f9a7-4131-d978-78cb4ad593f6"
      },
      "execution_count": null,
      "outputs": [
        {
          "output_type": "stream",
          "name": "stdout",
          "text": [
            "Epoch 1, Validation Loss: 0.5308\n",
            "Epoch 2, Validation Loss: 0.3286\n",
            "Epoch 3, Validation Loss: 0.1991\n",
            "Epoch 4, Validation Loss: 0.1481\n",
            "Epoch 5, Validation Loss: 0.1243\n",
            "Epoch 6, Validation Loss: 0.1097\n",
            "Epoch 7, Validation Loss: 0.0990\n",
            "Epoch 8, Validation Loss: 0.0946\n",
            "Epoch 9, Validation Loss: 0.0911\n",
            "Epoch 10, Validation Loss: 0.0889\n",
            "Validation Accuracy: 0.9710\n"
          ]
        }
      ]
    },
    {
      "cell_type": "markdown",
      "source": [
        "# Task ID84: 167124"
      ],
      "metadata": {
        "id": "y5x3ad8gjenJ"
      }
    },
    {
      "cell_type": "markdown",
      "source": [
        "# Task ID85: 167121"
      ],
      "metadata": {
        "id": "Q82DhhLtjezZ"
      }
    },
    {
      "cell_type": "code",
      "source": [
        "pip freeze > requirements.txt"
      ],
      "metadata": {
        "id": "MDWmwmJp4Lgw"
      },
      "execution_count": null,
      "outputs": []
    }
  ]
}