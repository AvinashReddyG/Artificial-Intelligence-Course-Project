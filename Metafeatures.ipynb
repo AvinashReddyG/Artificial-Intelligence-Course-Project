{
  "nbformat": 4,
  "nbformat_minor": 0,
  "metadata": {
    "colab": {
      "provenance": []
    },
    "kernelspec": {
      "name": "python3",
      "display_name": "Python 3"
    },
    "language_info": {
      "name": "python"
    }
  },
  "cells": [
    {
      "cell_type": "code",
      "source": [
        "pip install pandas scikit-learn openml pymfe tqdm"
      ],
      "metadata": {
        "colab": {
          "base_uri": "https://localhost:8080/"
        },
        "id": "v-HwWXxNL18R",
        "outputId": "133991a7-e0c0-464a-9cae-c0f251d24932"
      },
      "execution_count": null,
      "outputs": [
        {
          "output_type": "stream",
          "name": "stdout",
          "text": [
            "Requirement already satisfied: pandas in /usr/local/lib/python3.10/dist-packages (2.2.2)\n",
            "Requirement already satisfied: scikit-learn in /usr/local/lib/python3.10/dist-packages (1.5.2)\n",
            "Collecting openml\n",
            "  Downloading openml-0.15.0-py3-none-any.whl.metadata (9.9 kB)\n",
            "Collecting pymfe\n",
            "  Downloading pymfe-0.4.3-py3-none-any.whl.metadata (14 kB)\n",
            "Requirement already satisfied: tqdm in /usr/local/lib/python3.10/dist-packages (4.66.6)\n",
            "Requirement already satisfied: numpy>=1.22.4 in /usr/local/lib/python3.10/dist-packages (from pandas) (1.26.4)\n",
            "Requirement already satisfied: python-dateutil>=2.8.2 in /usr/local/lib/python3.10/dist-packages (from pandas) (2.8.2)\n",
            "Requirement already satisfied: pytz>=2020.1 in /usr/local/lib/python3.10/dist-packages (from pandas) (2024.2)\n",
            "Requirement already satisfied: tzdata>=2022.7 in /usr/local/lib/python3.10/dist-packages (from pandas) (2024.2)\n",
            "Requirement already satisfied: scipy>=1.6.0 in /usr/local/lib/python3.10/dist-packages (from scikit-learn) (1.13.1)\n",
            "Requirement already satisfied: joblib>=1.2.0 in /usr/local/lib/python3.10/dist-packages (from scikit-learn) (1.4.2)\n",
            "Requirement already satisfied: threadpoolctl>=3.1.0 in /usr/local/lib/python3.10/dist-packages (from scikit-learn) (3.5.0)\n",
            "Collecting liac-arff>=2.4.0 (from openml)\n",
            "  Downloading liac-arff-2.5.0.tar.gz (13 kB)\n",
            "  Preparing metadata (setup.py) ... \u001b[?25l\u001b[?25hdone\n",
            "Collecting xmltodict (from openml)\n",
            "  Downloading xmltodict-0.14.2-py2.py3-none-any.whl.metadata (8.0 kB)\n",
            "Requirement already satisfied: requests in /usr/local/lib/python3.10/dist-packages (from openml) (2.32.3)\n",
            "Collecting minio (from openml)\n",
            "  Downloading minio-7.2.10-py3-none-any.whl.metadata (6.5 kB)\n",
            "Requirement already satisfied: pyarrow in /usr/local/lib/python3.10/dist-packages (from openml) (17.0.0)\n",
            "Requirement already satisfied: packaging in /usr/local/lib/python3.10/dist-packages (from openml) (24.1)\n",
            "Requirement already satisfied: patsy in /usr/local/lib/python3.10/dist-packages (from pymfe) (0.5.6)\n",
            "Requirement already satisfied: statsmodels in /usr/local/lib/python3.10/dist-packages (from pymfe) (0.14.4)\n",
            "Collecting texttable (from pymfe)\n",
            "  Downloading texttable-1.7.0-py2.py3-none-any.whl.metadata (9.8 kB)\n",
            "Collecting igraph>=0.10.1 (from pymfe)\n",
            "  Downloading igraph-0.11.8-cp39-abi3-manylinux_2_17_x86_64.manylinux2014_x86_64.whl.metadata (3.8 kB)\n",
            "Collecting gower (from pymfe)\n",
            "  Downloading gower-0.1.2-py3-none-any.whl.metadata (3.7 kB)\n",
            "Requirement already satisfied: six>=1.5 in /usr/local/lib/python3.10/dist-packages (from python-dateutil>=2.8.2->pandas) (1.16.0)\n",
            "Requirement already satisfied: certifi in /usr/local/lib/python3.10/dist-packages (from minio->openml) (2024.8.30)\n",
            "Requirement already satisfied: urllib3 in /usr/local/lib/python3.10/dist-packages (from minio->openml) (2.2.3)\n",
            "Requirement already satisfied: argon2-cffi in /usr/local/lib/python3.10/dist-packages (from minio->openml) (23.1.0)\n",
            "Collecting pycryptodome (from minio->openml)\n",
            "  Downloading pycryptodome-3.21.0-cp36-abi3-manylinux_2_17_x86_64.manylinux2014_x86_64.whl.metadata (3.4 kB)\n",
            "Requirement already satisfied: typing-extensions in /usr/local/lib/python3.10/dist-packages (from minio->openml) (4.12.2)\n",
            "Requirement already satisfied: charset-normalizer<4,>=2 in /usr/local/lib/python3.10/dist-packages (from requests->openml) (3.4.0)\n",
            "Requirement already satisfied: idna<4,>=2.5 in /usr/local/lib/python3.10/dist-packages (from requests->openml) (3.10)\n",
            "Requirement already satisfied: argon2-cffi-bindings in /usr/local/lib/python3.10/dist-packages (from argon2-cffi->minio->openml) (21.2.0)\n",
            "Requirement already satisfied: cffi>=1.0.1 in /usr/local/lib/python3.10/dist-packages (from argon2-cffi-bindings->argon2-cffi->minio->openml) (1.17.1)\n",
            "Requirement already satisfied: pycparser in /usr/local/lib/python3.10/dist-packages (from cffi>=1.0.1->argon2-cffi-bindings->argon2-cffi->minio->openml) (2.22)\n",
            "Downloading openml-0.15.0-py3-none-any.whl (157 kB)\n",
            "\u001b[2K   \u001b[90m━━━━━━━━━━━━━━━━━━━━━━━━━━━━━━━━━━━━━━━━\u001b[0m \u001b[32m158.0/158.0 kB\u001b[0m \u001b[31m10.2 MB/s\u001b[0m eta \u001b[36m0:00:00\u001b[0m\n",
            "\u001b[?25hDownloading pymfe-0.4.3-py3-none-any.whl (155 kB)\n",
            "\u001b[2K   \u001b[90m━━━━━━━━━━━━━━━━━━━━━━━━━━━━━━━━━━━━━━━━\u001b[0m \u001b[32m156.0/156.0 kB\u001b[0m \u001b[31m10.2 MB/s\u001b[0m eta \u001b[36m0:00:00\u001b[0m\n",
            "\u001b[?25hDownloading igraph-0.11.8-cp39-abi3-manylinux_2_17_x86_64.manylinux2014_x86_64.whl (3.1 MB)\n",
            "\u001b[2K   \u001b[90m━━━━━━━━━━━━━━━━━━━━━━━━━━━━━━━━━━━━━━━━\u001b[0m \u001b[32m3.1/3.1 MB\u001b[0m \u001b[31m45.2 MB/s\u001b[0m eta \u001b[36m0:00:00\u001b[0m\n",
            "\u001b[?25hDownloading texttable-1.7.0-py2.py3-none-any.whl (10 kB)\n",
            "Downloading gower-0.1.2-py3-none-any.whl (5.2 kB)\n",
            "Downloading minio-7.2.10-py3-none-any.whl (93 kB)\n",
            "\u001b[2K   \u001b[90m━━━━━━━━━━━━━━━━━━━━━━━━━━━━━━━━━━━━━━━━\u001b[0m \u001b[32m93.9/93.9 kB\u001b[0m \u001b[31m7.6 MB/s\u001b[0m eta \u001b[36m0:00:00\u001b[0m\n",
            "\u001b[?25hDownloading xmltodict-0.14.2-py2.py3-none-any.whl (10.0 kB)\n",
            "Downloading pycryptodome-3.21.0-cp36-abi3-manylinux_2_17_x86_64.manylinux2014_x86_64.whl (2.3 MB)\n",
            "\u001b[2K   \u001b[90m━━━━━━━━━━━━━━━━━━━━━━━━━━━━━━━━━━━━━━━━\u001b[0m \u001b[32m2.3/2.3 MB\u001b[0m \u001b[31m45.3 MB/s\u001b[0m eta \u001b[36m0:00:00\u001b[0m\n",
            "\u001b[?25hBuilding wheels for collected packages: liac-arff\n",
            "  Building wheel for liac-arff (setup.py) ... \u001b[?25l\u001b[?25hdone\n",
            "  Created wheel for liac-arff: filename=liac_arff-2.5.0-py3-none-any.whl size=11716 sha256=0befd38fe722a304338298f2b89778e1c35867b7c2c6f297f77ec8b881a29be9\n",
            "  Stored in directory: /root/.cache/pip/wheels/5d/2a/9c/3895d9617f8f49a0883ba686326d598e78a1c2f54fe3cae86d\n",
            "Successfully built liac-arff\n",
            "Installing collected packages: texttable, xmltodict, pycryptodome, liac-arff, igraph, gower, pymfe, minio, openml\n",
            "Successfully installed gower-0.1.2 igraph-0.11.8 liac-arff-2.5.0 minio-7.2.10 openml-0.15.0 pycryptodome-3.21.0 pymfe-0.4.3 texttable-1.7.0 xmltodict-0.14.2\n"
          ]
        }
      ]
    },
    {
      "cell_type": "code",
      "execution_count": null,
      "metadata": {
        "colab": {
          "base_uri": "https://localhost:8080/"
        },
        "id": "YXYwJnzZLnp6",
        "outputId": "dbff2c07-15e7-4849-b33e-6b5a04e9eebc"
      },
      "outputs": [
        {
          "output_type": "stream",
          "name": "stderr",
          "text": [
            "WARNING:openml:No permission to create OpenML directory at /root/.config/openml! This can result in OpenML-Python not working properly.\n"
          ]
        },
        {
          "output_type": "stream",
          "name": "stdout",
          "text": [
            "Featurizing task ID: 14965\n",
            "Processing dataset: bank-marketing\n"
          ]
        },
        {
          "output_type": "stream",
          "name": "stderr",
          "text": [
            "/usr/local/lib/python3.10/dist-packages/pymfe/_internal.py:1281: UserWarning:  * Something went wrong while precomputing 'precompute_can_cors'. Will ignore this method. Error message:\n",
            "TypeError(\"OneHotEncoder.__init__() got an unexpected keyword argument 'sparse'\").\n",
            "  warnings.warn(\n",
            "/usr/local/lib/python3.10/dist-packages/scipy/stats/_axis_nan_policy.py:531: UserWarning: scipy.stats.shapiro: Input data has range zero. The results may not be accurate.\n",
            "  res = hypotest_fun_out(*samples, **kwds)\n"
          ]
        },
        {
          "output_type": "stream",
          "name": "stdout",
          "text": [
            "Writing. Do not interrupt...\n",
            "Featurizing task ID: 9977\n",
            "Processing dataset: nomao\n"
          ]
        },
        {
          "output_type": "stream",
          "name": "stderr",
          "text": [
            "/usr/local/lib/python3.10/dist-packages/pymfe/_internal.py:1281: UserWarning:  * Something went wrong while precomputing 'precompute_can_cors'. Will ignore this method. Error message:\n",
            "TypeError(\"OneHotEncoder.__init__() got an unexpected keyword argument 'sparse'\").\n",
            "  warnings.warn(\n"
          ]
        },
        {
          "output_type": "stream",
          "name": "stdout",
          "text": [
            "Writing. Do not interrupt...\n",
            "Featurizing task ID: 34539\n",
            "Processing dataset: Amazon_employee_access\n",
            "Writing. Do not interrupt...\n",
            "Featurizing task ID: 146606\n",
            "Processing dataset: higgs\n"
          ]
        },
        {
          "output_type": "stream",
          "name": "stderr",
          "text": [
            "/usr/local/lib/python3.10/dist-packages/pymfe/_internal.py:1281: UserWarning:  * Something went wrong while precomputing 'precompute_can_cors'. Will ignore this method. Error message:\n",
            "TypeError(\"OneHotEncoder.__init__() got an unexpected keyword argument 'sparse'\").\n",
            "  warnings.warn(\n"
          ]
        },
        {
          "output_type": "stream",
          "name": "stdout",
          "text": [
            "Writing. Do not interrupt...\n",
            "Featurizing task ID: 7592\n",
            "Processing dataset: adult\n"
          ]
        },
        {
          "output_type": "stream",
          "name": "stderr",
          "text": [
            "/usr/local/lib/python3.10/dist-packages/pymfe/_internal.py:1281: UserWarning:  * Something went wrong while precomputing 'precompute_can_cors'. Will ignore this method. Error message:\n",
            "TypeError(\"OneHotEncoder.__init__() got an unexpected keyword argument 'sparse'\").\n",
            "  warnings.warn(\n",
            "/usr/local/lib/python3.10/dist-packages/pymfe/_internal.py:1281: UserWarning:  * Something went wrong while precomputing 'precompute_entropy'. Will ignore this method. Error message:\n",
            "TypeError(\"'<' not supported between instances of 'float' and 'str'\").\n",
            "  warnings.warn(\n"
          ]
        },
        {
          "output_type": "stream",
          "name": "stdout",
          "text": [
            "Writing. Do not interrupt...\n",
            "Featurizing task ID: 146195\n",
            "Processing dataset: connect-4\n",
            "Writing. Do not interrupt...\n",
            "Featurizing task ID: 167119\n",
            "Processing dataset: jungle_chess_2pcs_raw_endgame_complete\n"
          ]
        },
        {
          "output_type": "stream",
          "name": "stderr",
          "text": [
            "/usr/local/lib/python3.10/dist-packages/pymfe/_internal.py:1281: UserWarning:  * Something went wrong while precomputing 'precompute_can_cors'. Will ignore this method. Error message:\n",
            "TypeError(\"OneHotEncoder.__init__() got an unexpected keyword argument 'sparse'\").\n",
            "  warnings.warn(\n",
            "/usr/local/lib/python3.10/dist-packages/scipy/stats/_axis_nan_policy.py:531: UserWarning: scipy.stats.shapiro: Input data has range zero. The results may not be accurate.\n",
            "  res = hypotest_fun_out(*samples, **kwds)\n"
          ]
        },
        {
          "output_type": "stream",
          "name": "stdout",
          "text": [
            "Writing. Do not interrupt...\n",
            "Featurizing task ID: 167120\n",
            "Processing dataset: numerai28.6\n"
          ]
        },
        {
          "output_type": "stream",
          "name": "stderr",
          "text": [
            "/usr/local/lib/python3.10/dist-packages/pymfe/_internal.py:1281: UserWarning:  * Something went wrong while precomputing 'precompute_can_cors'. Will ignore this method. Error message:\n",
            "TypeError(\"OneHotEncoder.__init__() got an unexpected keyword argument 'sparse'\").\n",
            "  warnings.warn(\n"
          ]
        },
        {
          "output_type": "stream",
          "name": "stdout",
          "text": [
            "Writing. Do not interrupt...\n",
            "Featurizing task ID: 168331\n",
            "Processing dataset: volkert\n"
          ]
        },
        {
          "output_type": "stream",
          "name": "stderr",
          "text": [
            "/usr/local/lib/python3.10/dist-packages/pymfe/_internal.py:1281: UserWarning:  * Something went wrong while precomputing 'precompute_can_cors'. Will ignore this method. Error message:\n",
            "TypeError(\"OneHotEncoder.__init__() got an unexpected keyword argument 'sparse'\").\n",
            "  warnings.warn(\n",
            "/usr/local/lib/python3.10/dist-packages/scipy/stats/_axis_nan_policy.py:531: UserWarning: scipy.stats.shapiro: Input data has range zero. The results may not be accurate.\n",
            "  res = hypotest_fun_out(*samples, **kwds)\n"
          ]
        },
        {
          "output_type": "stream",
          "name": "stdout",
          "text": [
            "Writing. Do not interrupt...\n",
            "Featurizing task ID: 168330\n",
            "Processing dataset: jannis\n"
          ]
        },
        {
          "output_type": "stream",
          "name": "stderr",
          "text": [
            "/usr/local/lib/python3.10/dist-packages/pymfe/_internal.py:1281: UserWarning:  * Something went wrong while precomputing 'precompute_can_cors'. Will ignore this method. Error message:\n",
            "TypeError(\"OneHotEncoder.__init__() got an unexpected keyword argument 'sparse'\").\n",
            "  warnings.warn(\n"
          ]
        },
        {
          "output_type": "stream",
          "name": "stdout",
          "text": [
            "Writing. Do not interrupt...\n",
            "Featurizing task ID: 168335\n",
            "Processing dataset: MiniBooNE\n"
          ]
        },
        {
          "output_type": "stream",
          "name": "stderr",
          "text": [
            "/usr/local/lib/python3.10/dist-packages/pymfe/_internal.py:1281: UserWarning:  * Something went wrong while precomputing 'precompute_can_cors'. Will ignore this method. Error message:\n",
            "TypeError(\"OneHotEncoder.__init__() got an unexpected keyword argument 'sparse'\").\n",
            "  warnings.warn(\n"
          ]
        },
        {
          "output_type": "stream",
          "name": "stdout",
          "text": [
            "Writing. Do not interrupt...\n",
            "Featurizing task ID: 146212\n",
            "Processing dataset: shuttle\n"
          ]
        },
        {
          "output_type": "stream",
          "name": "stderr",
          "text": [
            "/usr/local/lib/python3.10/dist-packages/pymfe/_internal.py:1281: UserWarning:  * Something went wrong while precomputing 'precompute_can_cors'. Will ignore this method. Error message:\n",
            "TypeError(\"OneHotEncoder.__init__() got an unexpected keyword argument 'sparse'\").\n",
            "  warnings.warn(\n"
          ]
        },
        {
          "output_type": "stream",
          "name": "stdout",
          "text": [
            "Writing. Do not interrupt...\n",
            "Featurizing task ID: 168868\n",
            "Processing dataset: APSFailure\n"
          ]
        },
        {
          "output_type": "stream",
          "name": "stderr",
          "text": [
            "/usr/local/lib/python3.10/dist-packages/pymfe/_internal.py:1281: UserWarning:  * Something went wrong while precomputing 'precompute_can_cors'. Will ignore this method. Error message:\n",
            "TypeError(\"OneHotEncoder.__init__() got an unexpected keyword argument 'sparse'\").\n",
            "  warnings.warn(\n"
          ]
        },
        {
          "output_type": "stream",
          "name": "stdout",
          "text": [
            "Writing. Do not interrupt...\n",
            "Featurizing task ID: 31\n",
            "Processing dataset: credit-g\n"
          ]
        },
        {
          "output_type": "stream",
          "name": "stderr",
          "text": [
            "/usr/local/lib/python3.10/dist-packages/pymfe/_internal.py:1281: UserWarning:  * Something went wrong while precomputing 'precompute_can_cors'. Will ignore this method. Error message:\n",
            "TypeError(\"OneHotEncoder.__init__() got an unexpected keyword argument 'sparse'\").\n",
            "  warnings.warn(\n"
          ]
        },
        {
          "output_type": "stream",
          "name": "stdout",
          "text": [
            "Writing. Do not interrupt...\n",
            "Featurizing task ID: 10101\n",
            "Processing dataset: blood-transfusion-service-center\n"
          ]
        },
        {
          "output_type": "stream",
          "name": "stderr",
          "text": [
            "/usr/local/lib/python3.10/dist-packages/pymfe/_internal.py:1281: UserWarning:  * Something went wrong while precomputing 'precompute_can_cors'. Will ignore this method. Error message:\n",
            "TypeError(\"OneHotEncoder.__init__() got an unexpected keyword argument 'sparse'\").\n",
            "  warnings.warn(\n"
          ]
        },
        {
          "output_type": "stream",
          "name": "stdout",
          "text": [
            "Writing. Do not interrupt...\n",
            "Featurizing task ID: 3913\n",
            "Processing dataset: kc2\n"
          ]
        },
        {
          "output_type": "stream",
          "name": "stderr",
          "text": [
            "/usr/local/lib/python3.10/dist-packages/pymfe/_internal.py:1281: UserWarning:  * Something went wrong while precomputing 'precompute_can_cors'. Will ignore this method. Error message:\n",
            "TypeError(\"OneHotEncoder.__init__() got an unexpected keyword argument 'sparse'\").\n",
            "  warnings.warn(\n"
          ]
        },
        {
          "output_type": "stream",
          "name": "stdout",
          "text": [
            "Writing. Do not interrupt...\n",
            "Featurizing task ID: 3917\n",
            "Processing dataset: kc1\n"
          ]
        },
        {
          "output_type": "stream",
          "name": "stderr",
          "text": [
            "/usr/local/lib/python3.10/dist-packages/pymfe/_internal.py:1281: UserWarning:  * Something went wrong while precomputing 'precompute_can_cors'. Will ignore this method. Error message:\n",
            "TypeError(\"OneHotEncoder.__init__() got an unexpected keyword argument 'sparse'\").\n",
            "  warnings.warn(\n"
          ]
        },
        {
          "output_type": "stream",
          "name": "stdout",
          "text": [
            "Writing. Do not interrupt...\n",
            "Featurizing task ID: 9957\n",
            "Processing dataset: qsar-biodeg\n"
          ]
        },
        {
          "output_type": "stream",
          "name": "stderr",
          "text": [
            "/usr/local/lib/python3.10/dist-packages/pymfe/_internal.py:1281: UserWarning:  * Something went wrong while precomputing 'precompute_can_cors'. Will ignore this method. Error message:\n",
            "TypeError(\"OneHotEncoder.__init__() got an unexpected keyword argument 'sparse'\").\n",
            "  warnings.warn(\n"
          ]
        },
        {
          "output_type": "stream",
          "name": "stdout",
          "text": [
            "Writing. Do not interrupt...\n",
            "Featurizing task ID: 9946\n",
            "Processing dataset: wdbc\n"
          ]
        },
        {
          "output_type": "stream",
          "name": "stderr",
          "text": [
            "/usr/local/lib/python3.10/dist-packages/pymfe/_internal.py:1281: UserWarning:  * Something went wrong while precomputing 'precompute_can_cors'. Will ignore this method. Error message:\n",
            "TypeError(\"OneHotEncoder.__init__() got an unexpected keyword argument 'sparse'\").\n",
            "  warnings.warn(\n"
          ]
        },
        {
          "output_type": "stream",
          "name": "stdout",
          "text": [
            "Writing. Do not interrupt...\n",
            "Featurizing task ID: 3918\n",
            "Processing dataset: pc1\n"
          ]
        },
        {
          "output_type": "stream",
          "name": "stderr",
          "text": [
            "/usr/local/lib/python3.10/dist-packages/pymfe/_internal.py:1281: UserWarning:  * Something went wrong while precomputing 'precompute_can_cors'. Will ignore this method. Error message:\n",
            "TypeError(\"OneHotEncoder.__init__() got an unexpected keyword argument 'sparse'\").\n",
            "  warnings.warn(\n"
          ]
        },
        {
          "output_type": "stream",
          "name": "stdout",
          "text": [
            "Writing. Do not interrupt...\n",
            "Featurizing task ID: 3903\n",
            "Processing dataset: pc3\n"
          ]
        },
        {
          "output_type": "stream",
          "name": "stderr",
          "text": [
            "/usr/local/lib/python3.10/dist-packages/pymfe/_internal.py:1281: UserWarning:  * Something went wrong while precomputing 'precompute_can_cors'. Will ignore this method. Error message:\n",
            "TypeError(\"OneHotEncoder.__init__() got an unexpected keyword argument 'sparse'\").\n",
            "  warnings.warn(\n"
          ]
        },
        {
          "output_type": "stream",
          "name": "stdout",
          "text": [
            "Writing. Do not interrupt...\n",
            "Featurizing task ID: 37\n",
            "Processing dataset: diabetes\n"
          ]
        },
        {
          "output_type": "stream",
          "name": "stderr",
          "text": [
            "/usr/local/lib/python3.10/dist-packages/pymfe/_internal.py:1281: UserWarning:  * Something went wrong while precomputing 'precompute_can_cors'. Will ignore this method. Error message:\n",
            "TypeError(\"OneHotEncoder.__init__() got an unexpected keyword argument 'sparse'\").\n",
            "  warnings.warn(\n"
          ]
        },
        {
          "output_type": "stream",
          "name": "stdout",
          "text": [
            "Writing. Do not interrupt...\n",
            "Featurizing task ID: 9971\n",
            "Processing dataset: ilpd\n"
          ]
        },
        {
          "output_type": "stream",
          "name": "stderr",
          "text": [
            "/usr/local/lib/python3.10/dist-packages/pymfe/_internal.py:1281: UserWarning:  * Something went wrong while precomputing 'precompute_can_cors'. Will ignore this method. Error message:\n",
            "TypeError(\"OneHotEncoder.__init__() got an unexpected keyword argument 'sparse'\").\n",
            "  warnings.warn(\n"
          ]
        },
        {
          "output_type": "stream",
          "name": "stdout",
          "text": [
            "Writing. Do not interrupt...\n",
            "Featurizing task ID: 9952\n",
            "Processing dataset: phoneme\n"
          ]
        },
        {
          "output_type": "stream",
          "name": "stderr",
          "text": [
            "/usr/local/lib/python3.10/dist-packages/pymfe/_internal.py:1281: UserWarning:  * Something went wrong while precomputing 'precompute_can_cors'. Will ignore this method. Error message:\n",
            "TypeError(\"OneHotEncoder.__init__() got an unexpected keyword argument 'sparse'\").\n",
            "  warnings.warn(\n"
          ]
        },
        {
          "output_type": "stream",
          "name": "stdout",
          "text": [
            "Writing. Do not interrupt...\n",
            "Featurizing task ID: 3902\n",
            "Processing dataset: pc4\n"
          ]
        },
        {
          "output_type": "stream",
          "name": "stderr",
          "text": [
            "/usr/local/lib/python3.10/dist-packages/pymfe/_internal.py:1281: UserWarning:  * Something went wrong while precomputing 'precompute_can_cors'. Will ignore this method. Error message:\n",
            "TypeError(\"OneHotEncoder.__init__() got an unexpected keyword argument 'sparse'\").\n",
            "  warnings.warn(\n"
          ]
        },
        {
          "output_type": "stream",
          "name": "stdout",
          "text": [
            "Writing. Do not interrupt...\n",
            "Featurizing task ID: 49\n",
            "Processing dataset: tic-tac-toe\n",
            "Writing. Do not interrupt...\n",
            "Featurizing task ID: 43\n",
            "Processing dataset: spambase\n"
          ]
        },
        {
          "output_type": "stream",
          "name": "stderr",
          "text": [
            "/usr/local/lib/python3.10/dist-packages/pymfe/_internal.py:1281: UserWarning:  * Something went wrong while precomputing 'precompute_can_cors'. Will ignore this method. Error message:\n",
            "TypeError(\"OneHotEncoder.__init__() got an unexpected keyword argument 'sparse'\").\n",
            "  warnings.warn(\n"
          ]
        },
        {
          "output_type": "stream",
          "name": "stdout",
          "text": [
            "Writing. Do not interrupt...\n",
            "Featurizing task ID: 9978\n",
            "Processing dataset: ozone-level-8hr\n"
          ]
        },
        {
          "output_type": "stream",
          "name": "stderr",
          "text": [
            "/usr/local/lib/python3.10/dist-packages/pymfe/_internal.py:1281: UserWarning:  * Something went wrong while precomputing 'precompute_can_cors'. Will ignore this method. Error message:\n",
            "TypeError(\"OneHotEncoder.__init__() got an unexpected keyword argument 'sparse'\").\n",
            "  warnings.warn(\n"
          ]
        },
        {
          "output_type": "stream",
          "name": "stdout",
          "text": [
            "Writing. Do not interrupt...\n",
            "Featurizing task ID: 10093\n",
            "Processing dataset: banknote-authentication\n"
          ]
        },
        {
          "output_type": "stream",
          "name": "stderr",
          "text": [
            "/usr/local/lib/python3.10/dist-packages/pymfe/_internal.py:1281: UserWarning:  * Something went wrong while precomputing 'precompute_can_cors'. Will ignore this method. Error message:\n",
            "TypeError(\"OneHotEncoder.__init__() got an unexpected keyword argument 'sparse'\").\n",
            "  warnings.warn(\n"
          ]
        },
        {
          "output_type": "stream",
          "name": "stdout",
          "text": [
            "Writing. Do not interrupt...\n",
            "Featurizing task ID: 219\n",
            "Processing dataset: electricity\n"
          ]
        },
        {
          "output_type": "stream",
          "name": "stderr",
          "text": [
            "/usr/local/lib/python3.10/dist-packages/pymfe/_internal.py:1281: UserWarning:  * Something went wrong while precomputing 'precompute_can_cors'. Will ignore this method. Error message:\n",
            "TypeError(\"OneHotEncoder.__init__() got an unexpected keyword argument 'sparse'\").\n",
            "  warnings.warn(\n",
            "/usr/local/lib/python3.10/dist-packages/scipy/stats/_axis_nan_policy.py:531: UserWarning: scipy.stats.shapiro: Input data has range zero. The results may not be accurate.\n",
            "  res = hypotest_fun_out(*samples, **kwds)\n"
          ]
        },
        {
          "output_type": "stream",
          "name": "stdout",
          "text": [
            "Writing. Do not interrupt...\n",
            "Featurizing task ID: 9976\n",
            "Processing dataset: madelon\n"
          ]
        },
        {
          "output_type": "stream",
          "name": "stderr",
          "text": [
            "/usr/local/lib/python3.10/dist-packages/pymfe/_internal.py:1281: UserWarning:  * Something went wrong while precomputing 'precompute_can_cors'. Will ignore this method. Error message:\n",
            "TypeError(\"OneHotEncoder.__init__() got an unexpected keyword argument 'sparse'\").\n",
            "  warnings.warn(\n"
          ]
        },
        {
          "output_type": "stream",
          "name": "stdout",
          "text": [
            "Writing. Do not interrupt...\n",
            "Featurizing task ID: 6\n",
            "Processing dataset: letter\n"
          ]
        },
        {
          "output_type": "stream",
          "name": "stderr",
          "text": [
            "/usr/local/lib/python3.10/dist-packages/pymfe/_internal.py:1281: UserWarning:  * Something went wrong while precomputing 'precompute_can_cors'. Will ignore this method. Error message:\n",
            "TypeError(\"OneHotEncoder.__init__() got an unexpected keyword argument 'sparse'\").\n",
            "  warnings.warn(\n"
          ]
        },
        {
          "output_type": "stream",
          "name": "stdout",
          "text": [
            "Writing. Do not interrupt...\n",
            "Featurizing task ID: 53\n",
            "Processing dataset: vehicle\n"
          ]
        },
        {
          "output_type": "stream",
          "name": "stderr",
          "text": [
            "/usr/local/lib/python3.10/dist-packages/pymfe/_internal.py:1281: UserWarning:  * Something went wrong while precomputing 'precompute_can_cors'. Will ignore this method. Error message:\n",
            "TypeError(\"OneHotEncoder.__init__() got an unexpected keyword argument 'sparse'\").\n",
            "  warnings.warn(\n"
          ]
        },
        {
          "output_type": "stream",
          "name": "stdout",
          "text": [
            "Writing. Do not interrupt...\n",
            "Featurizing task ID: 11\n",
            "Processing dataset: balance-scale\n"
          ]
        },
        {
          "output_type": "stream",
          "name": "stderr",
          "text": [
            "/usr/local/lib/python3.10/dist-packages/pymfe/_internal.py:1281: UserWarning:  * Something went wrong while precomputing 'precompute_can_cors'. Will ignore this method. Error message:\n",
            "TypeError(\"OneHotEncoder.__init__() got an unexpected keyword argument 'sparse'\").\n",
            "  warnings.warn(\n"
          ]
        },
        {
          "output_type": "stream",
          "name": "stdout",
          "text": [
            "Writing. Do not interrupt...\n",
            "Featurizing task ID: 15\n",
            "Processing dataset: breast-w\n"
          ]
        },
        {
          "output_type": "stream",
          "name": "stderr",
          "text": [
            "/usr/local/lib/python3.10/dist-packages/pymfe/_internal.py:1281: UserWarning:  * Something went wrong while precomputing 'precompute_can_cors'. Will ignore this method. Error message:\n",
            "TypeError(\"OneHotEncoder.__init__() got an unexpected keyword argument 'sparse'\").\n",
            "  warnings.warn(\n"
          ]
        },
        {
          "output_type": "stream",
          "name": "stdout",
          "text": [
            "Writing. Do not interrupt...\n",
            "Featurizing task ID: 16\n",
            "Processing dataset: mfeat-karhunen\n"
          ]
        },
        {
          "output_type": "stream",
          "name": "stderr",
          "text": [
            "/usr/local/lib/python3.10/dist-packages/pymfe/_internal.py:1281: UserWarning:  * Something went wrong while precomputing 'precompute_can_cors'. Will ignore this method. Error message:\n",
            "TypeError(\"OneHotEncoder.__init__() got an unexpected keyword argument 'sparse'\").\n",
            "  warnings.warn(\n"
          ]
        },
        {
          "output_type": "stream",
          "name": "stdout",
          "text": [
            "Writing. Do not interrupt...\n",
            "Featurizing task ID: 14\n",
            "Processing dataset: mfeat-fourier\n"
          ]
        },
        {
          "output_type": "stream",
          "name": "stderr",
          "text": [
            "/usr/local/lib/python3.10/dist-packages/pymfe/_internal.py:1281: UserWarning:  * Something went wrong while precomputing 'precompute_can_cors'. Will ignore this method. Error message:\n",
            "TypeError(\"OneHotEncoder.__init__() got an unexpected keyword argument 'sparse'\").\n",
            "  warnings.warn(\n"
          ]
        },
        {
          "output_type": "stream",
          "name": "stdout",
          "text": [
            "Writing. Do not interrupt...\n",
            "Featurizing task ID: 32\n",
            "Processing dataset: pendigits\n"
          ]
        },
        {
          "output_type": "stream",
          "name": "stderr",
          "text": [
            "/usr/local/lib/python3.10/dist-packages/pymfe/_internal.py:1281: UserWarning:  * Something went wrong while precomputing 'precompute_can_cors'. Will ignore this method. Error message:\n",
            "TypeError(\"OneHotEncoder.__init__() got an unexpected keyword argument 'sparse'\").\n",
            "  warnings.warn(\n"
          ]
        },
        {
          "output_type": "stream",
          "name": "stdout",
          "text": [
            "Writing. Do not interrupt...\n",
            "Featurizing task ID: 3549\n",
            "Processing dataset: analcatdata_authorship\n"
          ]
        },
        {
          "output_type": "stream",
          "name": "stderr",
          "text": [
            "/usr/local/lib/python3.10/dist-packages/pymfe/_internal.py:1281: UserWarning:  * Something went wrong while precomputing 'precompute_can_cors'. Will ignore this method. Error message:\n",
            "TypeError(\"OneHotEncoder.__init__() got an unexpected keyword argument 'sparse'\").\n",
            "  warnings.warn(\n"
          ]
        },
        {
          "output_type": "stream",
          "name": "stdout",
          "text": [
            "Writing. Do not interrupt...\n",
            "Featurizing task ID: 12\n",
            "Processing dataset: mfeat-factors\n"
          ]
        },
        {
          "output_type": "stream",
          "name": "stderr",
          "text": [
            "/usr/local/lib/python3.10/dist-packages/pymfe/_internal.py:1281: UserWarning:  * Something went wrong while precomputing 'precompute_can_cors'. Will ignore this method. Error message:\n",
            "TypeError(\"OneHotEncoder.__init__() got an unexpected keyword argument 'sparse'\").\n",
            "  warnings.warn(\n"
          ]
        },
        {
          "output_type": "stream",
          "name": "stdout",
          "text": [
            "Writing. Do not interrupt...\n",
            "Featurizing task ID: 9981\n",
            "Processing dataset: cnae-9\n"
          ]
        },
        {
          "output_type": "stream",
          "name": "stderr",
          "text": [
            "/usr/local/lib/python3.10/dist-packages/pymfe/_internal.py:1281: UserWarning:  * Something went wrong while precomputing 'precompute_can_cors'. Will ignore this method. Error message:\n",
            "TypeError(\"OneHotEncoder.__init__() got an unexpected keyword argument 'sparse'\").\n",
            "  warnings.warn(\n"
          ]
        },
        {
          "output_type": "stream",
          "name": "stdout",
          "text": [
            "Writing. Do not interrupt...\n",
            "Featurizing task ID: 18\n",
            "Processing dataset: mfeat-morphological\n"
          ]
        },
        {
          "output_type": "stream",
          "name": "stderr",
          "text": [
            "/usr/local/lib/python3.10/dist-packages/pymfe/_internal.py:1281: UserWarning:  * Something went wrong while precomputing 'precompute_can_cors'. Will ignore this method. Error message:\n",
            "TypeError(\"OneHotEncoder.__init__() got an unexpected keyword argument 'sparse'\").\n",
            "  warnings.warn(\n"
          ]
        },
        {
          "output_type": "stream",
          "name": "stdout",
          "text": [
            "Writing. Do not interrupt...\n",
            "Featurizing task ID: 28\n",
            "Processing dataset: optdigits\n"
          ]
        },
        {
          "output_type": "stream",
          "name": "stderr",
          "text": [
            "/usr/local/lib/python3.10/dist-packages/pymfe/_internal.py:1281: UserWarning:  * Something went wrong while precomputing 'precompute_can_cors'. Will ignore this method. Error message:\n",
            "TypeError(\"OneHotEncoder.__init__() got an unexpected keyword argument 'sparse'\").\n",
            "  warnings.warn(\n",
            "/usr/local/lib/python3.10/dist-packages/scipy/stats/_axis_nan_policy.py:531: UserWarning: scipy.stats.shapiro: Input data has range zero. The results may not be accurate.\n",
            "  res = hypotest_fun_out(*samples, **kwds)\n"
          ]
        },
        {
          "output_type": "stream",
          "name": "stdout",
          "text": [
            "Writing. Do not interrupt...\n",
            "Featurizing task ID: 2074\n",
            "Processing dataset: satimage\n"
          ]
        },
        {
          "output_type": "stream",
          "name": "stderr",
          "text": [
            "/usr/local/lib/python3.10/dist-packages/pymfe/_internal.py:1281: UserWarning:  * Something went wrong while precomputing 'precompute_can_cors'. Will ignore this method. Error message:\n",
            "TypeError(\"OneHotEncoder.__init__() got an unexpected keyword argument 'sparse'\").\n",
            "  warnings.warn(\n"
          ]
        },
        {
          "output_type": "stream",
          "name": "stdout",
          "text": [
            "Writing. Do not interrupt...\n",
            "Featurizing task ID: 29\n",
            "Processing dataset: credit-approval\n"
          ]
        },
        {
          "output_type": "stream",
          "name": "stderr",
          "text": [
            "/usr/local/lib/python3.10/dist-packages/pymfe/_internal.py:1281: UserWarning:  * Something went wrong while precomputing 'precompute_can_cors'. Will ignore this method. Error message:\n",
            "TypeError(\"OneHotEncoder.__init__() got an unexpected keyword argument 'sparse'\").\n",
            "  warnings.warn(\n",
            "/usr/local/lib/python3.10/dist-packages/pymfe/_internal.py:1281: UserWarning:  * Something went wrong while precomputing 'precompute_entropy'. Will ignore this method. Error message:\n",
            "TypeError(\"'<' not supported between instances of 'str' and 'float'\").\n",
            "  warnings.warn(\n"
          ]
        },
        {
          "output_type": "stream",
          "name": "stdout",
          "text": [
            "Writing. Do not interrupt...\n",
            "Featurizing task ID: 45\n",
            "Processing dataset: splice\n",
            "Writing. Do not interrupt...\n",
            "Featurizing task ID: 125922\n",
            "Processing dataset: texture\n"
          ]
        },
        {
          "output_type": "stream",
          "name": "stderr",
          "text": [
            "/usr/local/lib/python3.10/dist-packages/pymfe/_internal.py:1281: UserWarning:  * Something went wrong while precomputing 'precompute_can_cors'. Will ignore this method. Error message:\n",
            "TypeError(\"OneHotEncoder.__init__() got an unexpected keyword argument 'sparse'\").\n",
            "  warnings.warn(\n"
          ]
        },
        {
          "output_type": "stream",
          "name": "stdout",
          "text": [
            "Writing. Do not interrupt...\n",
            "Featurizing task ID: 9960\n",
            "Processing dataset: wall-robot-navigation\n"
          ]
        },
        {
          "output_type": "stream",
          "name": "stderr",
          "text": [
            "/usr/local/lib/python3.10/dist-packages/pymfe/_internal.py:1281: UserWarning:  * Something went wrong while precomputing 'precompute_can_cors'. Will ignore this method. Error message:\n",
            "TypeError(\"OneHotEncoder.__init__() got an unexpected keyword argument 'sparse'\").\n",
            "  warnings.warn(\n"
          ]
        },
        {
          "output_type": "stream",
          "name": "stdout",
          "text": [
            "Writing. Do not interrupt...\n",
            "Featurizing task ID: 9964\n",
            "Processing dataset: semeion\n"
          ]
        },
        {
          "output_type": "stream",
          "name": "stderr",
          "text": [
            "/usr/local/lib/python3.10/dist-packages/pymfe/_internal.py:1281: UserWarning:  * Something went wrong while precomputing 'precompute_can_cors'. Will ignore this method. Error message:\n",
            "TypeError(\"OneHotEncoder.__init__() got an unexpected keyword argument 'sparse'\").\n",
            "  warnings.warn(\n"
          ]
        },
        {
          "output_type": "stream",
          "name": "stdout",
          "text": [
            "Writing. Do not interrupt...\n",
            "Featurizing task ID: 22\n",
            "Processing dataset: mfeat-zernike\n"
          ]
        },
        {
          "output_type": "stream",
          "name": "stderr",
          "text": [
            "/usr/local/lib/python3.10/dist-packages/pymfe/_internal.py:1281: UserWarning:  * Something went wrong while precomputing 'precompute_can_cors'. Will ignore this method. Error message:\n",
            "TypeError(\"OneHotEncoder.__init__() got an unexpected keyword argument 'sparse'\").\n",
            "  warnings.warn(\n"
          ]
        },
        {
          "output_type": "stream",
          "name": "stdout",
          "text": [
            "Writing. Do not interrupt...\n",
            "Featurizing task ID: 2079\n",
            "Processing dataset: eucalyptus\n"
          ]
        },
        {
          "output_type": "stream",
          "name": "stderr",
          "text": [
            "/usr/local/lib/python3.10/dist-packages/pymfe/_internal.py:1281: UserWarning:  * Something went wrong while precomputing 'precompute_can_cors'. Will ignore this method. Error message:\n",
            "TypeError(\"OneHotEncoder.__init__() got an unexpected keyword argument 'sparse'\").\n",
            "  warnings.warn(\n"
          ]
        },
        {
          "output_type": "stream",
          "name": "stdout",
          "text": [
            "Writing. Do not interrupt...\n",
            "Featurizing task ID: 14969\n",
            "Processing dataset: GesturePhaseSegmentationProcessed\n"
          ]
        },
        {
          "output_type": "stream",
          "name": "stderr",
          "text": [
            "/usr/local/lib/python3.10/dist-packages/pymfe/_internal.py:1281: UserWarning:  * Something went wrong while precomputing 'precompute_can_cors'. Will ignore this method. Error message:\n",
            "TypeError(\"OneHotEncoder.__init__() got an unexpected keyword argument 'sparse'\").\n",
            "  warnings.warn(\n"
          ]
        },
        {
          "output_type": "stream",
          "name": "stdout",
          "text": [
            "Writing. Do not interrupt...\n",
            "Featurizing task ID: 3560\n",
            "Processing dataset: analcatdata_dmft\n",
            "Writing. Do not interrupt...\n",
            "Featurizing task ID: 14952\n",
            "Processing dataset: PhishingWebsites\n",
            "Writing. Do not interrupt...\n",
            "Featurizing task ID: 125920\n",
            "Processing dataset: dresses-sales\n"
          ]
        },
        {
          "output_type": "stream",
          "name": "stderr",
          "text": [
            "/usr/local/lib/python3.10/dist-packages/pymfe/_internal.py:1281: UserWarning:  * Something went wrong while precomputing 'precompute_can_cors'. Will ignore this method. Error message:\n",
            "TypeError(\"OneHotEncoder.__init__() got an unexpected keyword argument 'sparse'\").\n",
            "  warnings.warn(\n",
            "/usr/local/lib/python3.10/dist-packages/pymfe/_internal.py:1281: UserWarning:  * Something went wrong while precomputing 'precompute_entropy'. Will ignore this method. Error message:\n",
            "TypeError(\"'<' not supported between instances of 'float' and 'str'\").\n",
            "  warnings.warn(\n"
          ]
        },
        {
          "output_type": "stream",
          "name": "stdout",
          "text": [
            "Writing. Do not interrupt...\n",
            "Featurizing task ID: 23\n",
            "Processing dataset: cmc\n"
          ]
        },
        {
          "output_type": "stream",
          "name": "stderr",
          "text": [
            "/usr/local/lib/python3.10/dist-packages/pymfe/_internal.py:1281: UserWarning:  * Something went wrong while precomputing 'precompute_can_cors'. Will ignore this method. Error message:\n",
            "TypeError(\"OneHotEncoder.__init__() got an unexpected keyword argument 'sparse'\").\n",
            "  warnings.warn(\n"
          ]
        },
        {
          "output_type": "stream",
          "name": "stdout",
          "text": [
            "Writing. Do not interrupt...\n",
            "Featurizing task ID: 3904\n",
            "Processing dataset: jm1\n"
          ]
        },
        {
          "output_type": "stream",
          "name": "stderr",
          "text": [
            "/usr/local/lib/python3.10/dist-packages/pymfe/_internal.py:1281: UserWarning:  * Something went wrong while precomputing 'precompute_can_cors'. Will ignore this method. Error message:\n",
            "TypeError(\"OneHotEncoder.__init__() got an unexpected keyword argument 'sparse'\").\n",
            "  warnings.warn(\n"
          ]
        },
        {
          "output_type": "stream",
          "name": "stdout",
          "text": [
            "Writing. Do not interrupt...\n",
            "Featurizing task ID: 3022\n",
            "Processing dataset: vowel\n"
          ]
        },
        {
          "output_type": "stream",
          "name": "stderr",
          "text": [
            "/usr/local/lib/python3.10/dist-packages/pymfe/_internal.py:1281: UserWarning:  * Something went wrong while precomputing 'precompute_can_cors'. Will ignore this method. Error message:\n",
            "TypeError(\"OneHotEncoder.__init__() got an unexpected keyword argument 'sparse'\").\n",
            "  warnings.warn(\n"
          ]
        },
        {
          "output_type": "stream",
          "name": "stdout",
          "text": [
            "Writing. Do not interrupt...\n",
            "Featurizing task ID: 9985\n",
            "Processing dataset: first-order-theorem-proving\n"
          ]
        },
        {
          "output_type": "stream",
          "name": "stderr",
          "text": [
            "/usr/local/lib/python3.10/dist-packages/pymfe/_internal.py:1281: UserWarning:  * Something went wrong while precomputing 'precompute_can_cors'. Will ignore this method. Error message:\n",
            "TypeError(\"OneHotEncoder.__init__() got an unexpected keyword argument 'sparse'\").\n",
            "  warnings.warn(\n"
          ]
        },
        {
          "output_type": "stream",
          "name": "stdout",
          "text": [
            "Writing. Do not interrupt...\n",
            "Featurizing task ID: 9910\n",
            "Processing dataset: Bioresponse\n"
          ]
        },
        {
          "output_type": "stream",
          "name": "stderr",
          "text": [
            "/usr/local/lib/python3.10/dist-packages/pymfe/_internal.py:1281: UserWarning:  * Something went wrong while precomputing 'precompute_can_cors'. Will ignore this method. Error message:\n",
            "TypeError(\"OneHotEncoder.__init__() got an unexpected keyword argument 'sparse'\").\n",
            "  warnings.warn(\n"
          ]
        },
        {
          "output_type": "stream",
          "name": "stdout",
          "text": [
            "Writing. Do not interrupt...\n",
            "Featurizing task ID: 14970\n",
            "Processing dataset: har\n"
          ]
        },
        {
          "output_type": "stream",
          "name": "stderr",
          "text": [
            "/usr/local/lib/python3.10/dist-packages/pymfe/_internal.py:1281: UserWarning:  * Something went wrong while precomputing 'precompute_can_cors'. Will ignore this method. Error message:\n",
            "TypeError(\"OneHotEncoder.__init__() got an unexpected keyword argument 'sparse'\").\n",
            "  warnings.warn(\n"
          ]
        },
        {
          "output_type": "stream",
          "name": "stdout",
          "text": [
            "Writing. Do not interrupt...\n",
            "Featurizing task ID: 3021\n",
            "Processing dataset: sick\n"
          ]
        },
        {
          "output_type": "stream",
          "name": "stderr",
          "text": [
            "/usr/local/lib/python3.10/dist-packages/pymfe/_internal.py:1281: UserWarning:  * Something went wrong while precomputing 'precompute_can_cors'. Will ignore this method. Error message:\n",
            "TypeError(\"OneHotEncoder.__init__() got an unexpected keyword argument 'sparse'\").\n",
            "  warnings.warn(\n",
            "/usr/local/lib/python3.10/dist-packages/pymfe/_internal.py:1281: UserWarning:  * Something went wrong while precomputing 'precompute_entropy'. Will ignore this method. Error message:\n",
            "TypeError(\"'<' not supported between instances of 'float' and 'str'\").\n",
            "  warnings.warn(\n"
          ]
        },
        {
          "output_type": "stream",
          "name": "stdout",
          "text": [
            "Writing. Do not interrupt...\n",
            "Featurizing task ID: 3481\n",
            "Processing dataset: isolet\n"
          ]
        },
        {
          "output_type": "stream",
          "name": "stderr",
          "text": [
            "/usr/local/lib/python3.10/dist-packages/pymfe/_internal.py:1281: UserWarning:  * Something went wrong while precomputing 'precompute_can_cors'. Will ignore this method. Error message:\n",
            "TypeError(\"OneHotEncoder.__init__() got an unexpected keyword argument 'sparse'\").\n",
            "  warnings.warn(\n"
          ]
        },
        {
          "output_type": "stream",
          "name": "stdout",
          "text": [
            "Writing. Do not interrupt...\n",
            "Featurizing task ID: 146824\n",
            "Processing dataset: mfeat-pixel\n"
          ]
        },
        {
          "output_type": "stream",
          "name": "stderr",
          "text": [
            "/usr/local/lib/python3.10/dist-packages/pymfe/_internal.py:1281: UserWarning:  * Something went wrong while precomputing 'precompute_can_cors'. Will ignore this method. Error message:\n",
            "TypeError(\"OneHotEncoder.__init__() got an unexpected keyword argument 'sparse'\").\n",
            "  warnings.warn(\n"
          ]
        },
        {
          "output_type": "stream",
          "name": "stdout",
          "text": [
            "Writing. Do not interrupt...\n",
            "Featurizing task ID: 146820\n",
            "Processing dataset: wilt\n"
          ]
        },
        {
          "output_type": "stream",
          "name": "stderr",
          "text": [
            "/usr/local/lib/python3.10/dist-packages/pymfe/_internal.py:1281: UserWarning:  * Something went wrong while precomputing 'precompute_can_cors'. Will ignore this method. Error message:\n",
            "TypeError(\"OneHotEncoder.__init__() got an unexpected keyword argument 'sparse'\").\n",
            "  warnings.warn(\n"
          ]
        },
        {
          "output_type": "stream",
          "name": "stdout",
          "text": [
            "Writing. Do not interrupt...\n",
            "Featurizing task ID: 146822\n",
            "Processing dataset: segment\n"
          ]
        },
        {
          "output_type": "stream",
          "name": "stderr",
          "text": [
            "/usr/local/lib/python3.10/dist-packages/pymfe/_internal.py:1281: UserWarning:  * Something went wrong while precomputing 'precompute_can_cors'. Will ignore this method. Error message:\n",
            "TypeError(\"OneHotEncoder.__init__() got an unexpected keyword argument 'sparse'\").\n",
            "  warnings.warn(\n"
          ]
        },
        {
          "output_type": "stream",
          "name": "stdout",
          "text": [
            "Writing. Do not interrupt...\n",
            "Featurizing task ID: 146800\n",
            "Processing dataset: MiceProtein\n"
          ]
        },
        {
          "output_type": "stream",
          "name": "stderr",
          "text": [
            "/usr/local/lib/python3.10/dist-packages/pymfe/_internal.py:1281: UserWarning:  * Something went wrong while precomputing 'precompute_can_cors'. Will ignore this method. Error message:\n",
            "TypeError(\"OneHotEncoder.__init__() got an unexpected keyword argument 'sparse'\").\n",
            "  warnings.warn(\n"
          ]
        },
        {
          "output_type": "stream",
          "name": "stdout",
          "text": [
            "Writing. Do not interrupt...\n",
            "Featurizing task ID: 146817\n",
            "Processing dataset: steel-plates-fault\n"
          ]
        },
        {
          "output_type": "stream",
          "name": "stderr",
          "text": [
            "/usr/local/lib/python3.10/dist-packages/pymfe/_internal.py:1281: UserWarning:  * Something went wrong while precomputing 'precompute_can_cors'. Will ignore this method. Error message:\n",
            "TypeError(\"OneHotEncoder.__init__() got an unexpected keyword argument 'sparse'\").\n",
            "  warnings.warn(\n"
          ]
        },
        {
          "output_type": "stream",
          "name": "stdout",
          "text": [
            "Writing. Do not interrupt...\n",
            "Featurizing task ID: 146819\n",
            "Processing dataset: climate-model-simulation-crashes\n"
          ]
        },
        {
          "output_type": "stream",
          "name": "stderr",
          "text": [
            "/usr/local/lib/python3.10/dist-packages/pymfe/_internal.py:1281: UserWarning:  * Something went wrong while precomputing 'precompute_can_cors'. Will ignore this method. Error message:\n",
            "TypeError(\"OneHotEncoder.__init__() got an unexpected keyword argument 'sparse'\").\n",
            "  warnings.warn(\n"
          ]
        },
        {
          "output_type": "stream",
          "name": "stdout",
          "text": [
            "Writing. Do not interrupt...\n",
            "Featurizing task ID: 146821\n",
            "Processing dataset: car\n",
            "Writing. Do not interrupt...\n",
            "Featurizing task ID: 14954\n",
            "Processing dataset: cylinder-bands\n"
          ]
        },
        {
          "output_type": "stream",
          "name": "stderr",
          "text": [
            "/usr/local/lib/python3.10/dist-packages/pymfe/_internal.py:1281: UserWarning:  * Something went wrong while precomputing 'precompute_can_cors'. Will ignore this method. Error message:\n",
            "TypeError(\"OneHotEncoder.__init__() got an unexpected keyword argument 'sparse'\").\n",
            "  warnings.warn(\n",
            "/usr/local/lib/python3.10/dist-packages/pymfe/_internal.py:1281: UserWarning:  * Something went wrong while precomputing 'precompute_entropy'. Will ignore this method. Error message:\n",
            "TypeError(\"'<' not supported between instances of 'float' and 'str'\").\n",
            "  warnings.warn(\n"
          ]
        },
        {
          "output_type": "stream",
          "name": "stdout",
          "text": [
            "Writing. Do not interrupt...\n",
            "Featurizing task ID: 167141\n",
            "Processing dataset: churn\n"
          ]
        },
        {
          "output_type": "stream",
          "name": "stderr",
          "text": [
            "/usr/local/lib/python3.10/dist-packages/pymfe/_internal.py:1281: UserWarning:  * Something went wrong while precomputing 'precompute_can_cors'. Will ignore this method. Error message:\n",
            "TypeError(\"OneHotEncoder.__init__() got an unexpected keyword argument 'sparse'\").\n",
            "  warnings.warn(\n"
          ]
        },
        {
          "output_type": "stream",
          "name": "stdout",
          "text": [
            "Writing. Do not interrupt...\n",
            "Featurizing task ID: 167140\n",
            "Processing dataset: dna\n",
            "Writing. Do not interrupt...\n",
            "Featurizing task ID: 167125\n",
            "Processing dataset: Internet-Advertisements\n"
          ]
        },
        {
          "output_type": "stream",
          "name": "stderr",
          "text": [
            "/usr/local/lib/python3.10/dist-packages/pymfe/_internal.py:1281: UserWarning:  * Something went wrong while precomputing 'precompute_can_cors'. Will ignore this method. Error message:\n",
            "TypeError(\"OneHotEncoder.__init__() got an unexpected keyword argument 'sparse'\").\n",
            "  warnings.warn(\n"
          ]
        },
        {
          "output_type": "stream",
          "name": "stdout",
          "text": [
            "Writing. Do not interrupt...\n"
          ]
        }
      ],
      "source": [
        "from pathlib import Path\n",
        "import openml\n",
        "import pandas as pd\n",
        "from pymfe.mfe import MFE\n",
        "from tqdm import tqdm\n",
        "import warnings\n",
        "\n",
        "# Suppress precision and invalid value warnings\n",
        "warnings.filterwarnings(\"ignore\", category=RuntimeWarning)\n",
        "\n",
        "\n",
        "# Meta-feature extraction settings\n",
        "groups = [\"landmarking\", \"general\", \"statistical\", \"model-based\", \"info-theory\", \"relative\"]\n",
        "summary_funcs = [\"mean\", \"sd\", \"count\", \"histogram\", \"iq_range\", \"kurtosis\", \"max\", \"median\", \"min\", \"quantiles\", \"range\", \"skewness\"]\n",
        "scoring = \"balanced-accuracy\"\n",
        "\n",
        "def featurize_dataset(task_id):\n",
        "    # Load data using OpenML task ID\n",
        "    task = openml.tasks.get_task(task_id)\n",
        "    dataset = task.get_dataset()\n",
        "    X, y, _, _ = dataset.get_data(target=dataset.default_target_attribute)\n",
        "\n",
        "    # Convert to numpy arrays\n",
        "    X = X.to_numpy()\n",
        "    y = y.to_numpy()\n",
        "\n",
        "    # Identify categorical columns\n",
        "    categorical_cols = list(dataset.get_features_by_type('nominal', [dataset.default_target_attribute]))\n",
        "\n",
        "    # Check if the dataset is classification\n",
        "    if dataset.qualities[\"NumberOfClasses\"] <= 1:\n",
        "        print(\"Unsupported target type. Skipping.\")\n",
        "        return None\n",
        "\n",
        "    print(f\"Processing dataset: {dataset.name}\")\n",
        "    metafeats = []\n",
        "\n",
        "    # Extract metafeatures\n",
        "    mfe = MFE(groups=groups, summary=summary_funcs, random_state=0, score=scoring)\n",
        "    mfe.fit(X, y, cat_cols=categorical_cols, transform_num=False, transform_cat=None)\n",
        "    ft = mfe.extract()\n",
        "\n",
        "    # Consolidate results\n",
        "    fold_metafeats = {\"dataset_name\": dataset.name}\n",
        "    for group in groups:\n",
        "        ft_group = mfe.parse_by_group(group, ft)\n",
        "        fold_metafeats.update(\n",
        "            {f\"f__pymfe.{group}.{name}\": value for name, value in zip(*ft_group)}\n",
        "        )\n",
        "    metafeats.append(fold_metafeats)\n",
        "\n",
        "    return metafeats\n",
        "\n",
        "def featurize_all_datasets(task_ids):\n",
        "    output_file = Path(\"metafeatures.csv\")\n",
        "    if output_file.exists():\n",
        "        computed_features = pd.read_csv(output_file)\n",
        "        computed_features.set_index(\"dataset_name\", inplace=True)\n",
        "    else:\n",
        "        computed_features = None\n",
        "\n",
        "    for task_id in task_ids:\n",
        "        dataset_name = openml.tasks.get_task(task_id).get_dataset().name\n",
        "        if computed_features is not None and dataset_name in computed_features.index:\n",
        "            continue\n",
        "\n",
        "        print(f\"Featurizing task ID: {task_id}\")\n",
        "        dataset_metafeatures = featurize_dataset(task_id)\n",
        "        if dataset_metafeatures is None:\n",
        "            continue\n",
        "\n",
        "        dataset_metafeatures = pd.DataFrame(dataset_metafeatures)\n",
        "        dataset_metafeatures.set_index(\"dataset_name\", inplace=True)\n",
        "\n",
        "        if computed_features is None:\n",
        "            computed_features = dataset_metafeatures\n",
        "            computed_features = computed_features[sorted(computed_features.columns)]\n",
        "        else:\n",
        "            computed_features = pd.concat([dataset_metafeatures, computed_features])\n",
        "\n",
        "        print(\"Writing. Do not interrupt...\")\n",
        "        computed_features.to_csv(output_file)\n",
        "\n",
        "# Specify OpenML task IDs\n",
        "task_ids = [14965, 9977, 34539, 146606, 7592, 146195, 167119, 167120, 168331, 168330, 168335, 146212,\n",
        "            168868, 31, 10101, 3913, 3917, 9957, 9946, 3918,\n",
        "            3903, 37, 9971, 9952, 3902, 49, 43, 9978, 10093, 219, 9976, 6, 53, 11, 15, 16, 14, 32, 3549,\n",
        "            12, 9981, 18, 28, 2074, 29, 45, 125922, 9960, 9964, 22, 2079, 14969, 3560, 14952, 125920, 23,\n",
        "            3904, 3022, 9985, 9910, 14970, 3021, 3481, 146824, 146820, 146822, 146195, 146800, 146817,\n",
        "            146819, 146821, 14954, 167141, 167140, 167125]\n",
        "featurize_all_datasets(task_ids)\n"
      ]
    },
    {
      "cell_type": "code",
      "source": [
        "pip freeze > requirements.txt"
      ],
      "metadata": {
        "id": "c4t5ptD_6HYP"
      },
      "execution_count": null,
      "outputs": []
    }
  ]
}