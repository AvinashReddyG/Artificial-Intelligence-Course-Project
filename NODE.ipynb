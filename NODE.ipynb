{
  "nbformat": 4,
  "nbformat_minor": 0,
  "metadata": {
    "colab": {
      "provenance": []
    },
    "kernelspec": {
      "name": "python3",
      "display_name": "Python 3"
    },
    "language_info": {
      "name": "python"
    }
  },
  "cells": [
    {
      "cell_type": "markdown",
      "source": [
        "# NODE"
      ],
      "metadata": {
        "id": "2cnRui4C3zCz"
      }
    },
    {
      "cell_type": "code",
      "execution_count": null,
      "metadata": {
        "colab": {
          "base_uri": "https://localhost:8080/"
        },
        "id": "pFKNYWy_Hcwk",
        "outputId": "973db3ff-450e-4875-e09b-7a56ca40bbc6"
      },
      "outputs": [
        {
          "output_type": "stream",
          "name": "stdout",
          "text": [
            "Requirement already satisfied: pandas in /usr/local/lib/python3.10/dist-packages (2.1.4)\n",
            "Requirement already satisfied: scikit-learn in /usr/local/lib/python3.10/dist-packages (1.5.2)\n",
            "Collecting openml\n",
            "  Downloading openml-0.15.0-py3-none-any.whl.metadata (9.9 kB)\n",
            "Requirement already satisfied: torch in /usr/local/lib/python3.10/dist-packages (2.4.1+cu121)\n",
            "Requirement already satisfied: numpy in /usr/local/lib/python3.10/dist-packages (1.26.4)\n",
            "Requirement already satisfied: python-dateutil>=2.8.2 in /usr/local/lib/python3.10/dist-packages (from pandas) (2.8.2)\n",
            "Requirement already satisfied: pytz>=2020.1 in /usr/local/lib/python3.10/dist-packages (from pandas) (2024.2)\n",
            "Requirement already satisfied: tzdata>=2022.1 in /usr/local/lib/python3.10/dist-packages (from pandas) (2024.1)\n",
            "Requirement already satisfied: scipy>=1.6.0 in /usr/local/lib/python3.10/dist-packages (from scikit-learn) (1.13.1)\n",
            "Requirement already satisfied: joblib>=1.2.0 in /usr/local/lib/python3.10/dist-packages (from scikit-learn) (1.4.2)\n",
            "Requirement already satisfied: threadpoolctl>=3.1.0 in /usr/local/lib/python3.10/dist-packages (from scikit-learn) (3.5.0)\n",
            "Collecting liac-arff>=2.4.0 (from openml)\n",
            "  Downloading liac-arff-2.5.0.tar.gz (13 kB)\n",
            "  Preparing metadata (setup.py) ... \u001b[?25l\u001b[?25hdone\n",
            "Collecting xmltodict (from openml)\n",
            "  Downloading xmltodict-0.14.2-py2.py3-none-any.whl.metadata (8.0 kB)\n",
            "Requirement already satisfied: requests in /usr/local/lib/python3.10/dist-packages (from openml) (2.32.3)\n",
            "Collecting minio (from openml)\n",
            "  Downloading minio-7.2.10-py3-none-any.whl.metadata (6.5 kB)\n",
            "Requirement already satisfied: pyarrow in /usr/local/lib/python3.10/dist-packages (from openml) (14.0.2)\n",
            "Requirement already satisfied: tqdm in /usr/local/lib/python3.10/dist-packages (from openml) (4.66.5)\n",
            "Requirement already satisfied: packaging in /usr/local/lib/python3.10/dist-packages (from openml) (24.1)\n",
            "Requirement already satisfied: filelock in /usr/local/lib/python3.10/dist-packages (from torch) (3.16.1)\n",
            "Requirement already satisfied: typing-extensions>=4.8.0 in /usr/local/lib/python3.10/dist-packages (from torch) (4.12.2)\n",
            "Requirement already satisfied: sympy in /usr/local/lib/python3.10/dist-packages (from torch) (1.13.3)\n",
            "Requirement already satisfied: networkx in /usr/local/lib/python3.10/dist-packages (from torch) (3.3)\n",
            "Requirement already satisfied: jinja2 in /usr/local/lib/python3.10/dist-packages (from torch) (3.1.4)\n",
            "Requirement already satisfied: fsspec in /usr/local/lib/python3.10/dist-packages (from torch) (2024.6.1)\n",
            "Requirement already satisfied: six>=1.5 in /usr/local/lib/python3.10/dist-packages (from python-dateutil>=2.8.2->pandas) (1.16.0)\n",
            "Requirement already satisfied: MarkupSafe>=2.0 in /usr/local/lib/python3.10/dist-packages (from jinja2->torch) (2.1.5)\n",
            "Requirement already satisfied: certifi in /usr/local/lib/python3.10/dist-packages (from minio->openml) (2024.8.30)\n",
            "Requirement already satisfied: urllib3 in /usr/local/lib/python3.10/dist-packages (from minio->openml) (2.2.3)\n",
            "Requirement already satisfied: argon2-cffi in /usr/local/lib/python3.10/dist-packages (from minio->openml) (23.1.0)\n",
            "Collecting pycryptodome (from minio->openml)\n",
            "  Downloading pycryptodome-3.21.0-cp36-abi3-manylinux_2_17_x86_64.manylinux2014_x86_64.whl.metadata (3.4 kB)\n",
            "Requirement already satisfied: charset-normalizer<4,>=2 in /usr/local/lib/python3.10/dist-packages (from requests->openml) (3.3.2)\n",
            "Requirement already satisfied: idna<4,>=2.5 in /usr/local/lib/python3.10/dist-packages (from requests->openml) (3.10)\n",
            "Requirement already satisfied: mpmath<1.4,>=1.1.0 in /usr/local/lib/python3.10/dist-packages (from sympy->torch) (1.3.0)\n",
            "Requirement already satisfied: argon2-cffi-bindings in /usr/local/lib/python3.10/dist-packages (from argon2-cffi->minio->openml) (21.2.0)\n",
            "Requirement already satisfied: cffi>=1.0.1 in /usr/local/lib/python3.10/dist-packages (from argon2-cffi-bindings->argon2-cffi->minio->openml) (1.17.1)\n",
            "Requirement already satisfied: pycparser in /usr/local/lib/python3.10/dist-packages (from cffi>=1.0.1->argon2-cffi-bindings->argon2-cffi->minio->openml) (2.22)\n",
            "Downloading openml-0.15.0-py3-none-any.whl (157 kB)\n",
            "\u001b[2K   \u001b[90m━━━━━━━━━━━━━━━━━━━━━━━━━━━━━━━━━━━━━━━━\u001b[0m \u001b[32m158.0/158.0 kB\u001b[0m \u001b[31m5.6 MB/s\u001b[0m eta \u001b[36m0:00:00\u001b[0m\n",
            "\u001b[?25hDownloading minio-7.2.10-py3-none-any.whl (93 kB)\n",
            "\u001b[2K   \u001b[90m━━━━━━━━━━━━━━━━━━━━━━━━━━━━━━━━━━━━━━━━\u001b[0m \u001b[32m93.9/93.9 kB\u001b[0m \u001b[31m4.1 MB/s\u001b[0m eta \u001b[36m0:00:00\u001b[0m\n",
            "\u001b[?25hDownloading xmltodict-0.14.2-py2.py3-none-any.whl (10.0 kB)\n",
            "Downloading pycryptodome-3.21.0-cp36-abi3-manylinux_2_17_x86_64.manylinux2014_x86_64.whl (2.3 MB)\n",
            "\u001b[2K   \u001b[90m━━━━━━━━━━━━━━━━━━━━━━━━━━━━━━━━━━━━━━━━\u001b[0m \u001b[32m2.3/2.3 MB\u001b[0m \u001b[31m36.5 MB/s\u001b[0m eta \u001b[36m0:00:00\u001b[0m\n",
            "\u001b[?25hBuilding wheels for collected packages: liac-arff\n",
            "  Building wheel for liac-arff (setup.py) ... \u001b[?25l\u001b[?25hdone\n",
            "  Created wheel for liac-arff: filename=liac_arff-2.5.0-py3-none-any.whl size=11717 sha256=2874b705016a9d4192b8b7c53b93995abf0362fcafef38f2a627560255a23b09\n",
            "  Stored in directory: /root/.cache/pip/wheels/5d/2a/9c/3895d9617f8f49a0883ba686326d598e78a1c2f54fe3cae86d\n",
            "Successfully built liac-arff\n",
            "Installing collected packages: xmltodict, pycryptodome, liac-arff, minio, openml\n",
            "Successfully installed liac-arff-2.5.0 minio-7.2.10 openml-0.15.0 pycryptodome-3.21.0 xmltodict-0.14.2\n"
          ]
        }
      ],
      "source": [
        "pip install pandas scikit-learn openml torch numpy"
      ]
    },
    {
      "cell_type": "code",
      "source": [
        "pip install torch_optimizer"
      ],
      "metadata": {
        "colab": {
          "base_uri": "https://localhost:8080/"
        },
        "id": "Lw80adV3KpeX",
        "outputId": "24dabdea-0f9b-4f42-de5e-457fc495dc0f"
      },
      "execution_count": null,
      "outputs": [
        {
          "output_type": "stream",
          "name": "stdout",
          "text": [
            "Collecting torch_optimizer\n",
            "  Downloading torch_optimizer-0.3.0-py3-none-any.whl.metadata (55 kB)\n",
            "\u001b[?25l     \u001b[90m━━━━━━━━━━━━━━━━━━━━━━━━━━━━━━━━━━━━━━━━\u001b[0m \u001b[32m0.0/55.9 kB\u001b[0m \u001b[31m?\u001b[0m eta \u001b[36m-:--:--\u001b[0m\r\u001b[2K     \u001b[90m━━━━━━━━━━━━━━━━━━━━━━━━━━━━━━━━━━━━━━━━\u001b[0m \u001b[32m55.9/55.9 kB\u001b[0m \u001b[31m2.5 MB/s\u001b[0m eta \u001b[36m0:00:00\u001b[0m\n",
            "\u001b[?25hRequirement already satisfied: torch>=1.5.0 in /usr/local/lib/python3.10/dist-packages (from torch_optimizer) (2.4.1+cu121)\n",
            "Collecting pytorch-ranger>=0.1.1 (from torch_optimizer)\n",
            "  Downloading pytorch_ranger-0.1.1-py3-none-any.whl.metadata (509 bytes)\n",
            "Requirement already satisfied: filelock in /usr/local/lib/python3.10/dist-packages (from torch>=1.5.0->torch_optimizer) (3.16.1)\n",
            "Requirement already satisfied: typing-extensions>=4.8.0 in /usr/local/lib/python3.10/dist-packages (from torch>=1.5.0->torch_optimizer) (4.12.2)\n",
            "Requirement already satisfied: sympy in /usr/local/lib/python3.10/dist-packages (from torch>=1.5.0->torch_optimizer) (1.13.3)\n",
            "Requirement already satisfied: networkx in /usr/local/lib/python3.10/dist-packages (from torch>=1.5.0->torch_optimizer) (3.3)\n",
            "Requirement already satisfied: jinja2 in /usr/local/lib/python3.10/dist-packages (from torch>=1.5.0->torch_optimizer) (3.1.4)\n",
            "Requirement already satisfied: fsspec in /usr/local/lib/python3.10/dist-packages (from torch>=1.5.0->torch_optimizer) (2024.6.1)\n",
            "Requirement already satisfied: MarkupSafe>=2.0 in /usr/local/lib/python3.10/dist-packages (from jinja2->torch>=1.5.0->torch_optimizer) (2.1.5)\n",
            "Requirement already satisfied: mpmath<1.4,>=1.1.0 in /usr/local/lib/python3.10/dist-packages (from sympy->torch>=1.5.0->torch_optimizer) (1.3.0)\n",
            "Downloading torch_optimizer-0.3.0-py3-none-any.whl (61 kB)\n",
            "\u001b[2K   \u001b[90m━━━━━━━━━━━━━━━━━━━━━━━━━━━━━━━━━━━━━━━━\u001b[0m \u001b[32m61.9/61.9 kB\u001b[0m \u001b[31m2.7 MB/s\u001b[0m eta \u001b[36m0:00:00\u001b[0m\n",
            "\u001b[?25hDownloading pytorch_ranger-0.1.1-py3-none-any.whl (14 kB)\n",
            "Installing collected packages: pytorch-ranger, torch_optimizer\n",
            "Successfully installed pytorch-ranger-0.1.1 torch_optimizer-0.3.0\n"
          ]
        }
      ]
    },
    {
      "cell_type": "code",
      "source": [
        "import time\n",
        "import shutil\n",
        "import numpy as np\n",
        "import openml\n",
        "import pandas as pd  # Make sure to import pandas\n",
        "import torch\n",
        "import torch.nn as nn\n",
        "import torch.nn.functional as F\n",
        "import torch.optim as optim  # Importing standard PyTorch optimizers\n",
        "from sklearn.metrics import accuracy_score\n",
        "from sklearn.preprocessing import StandardScaler, LabelEncoder\n",
        "from sklearn.model_selection import train_test_split\n",
        "import os\n",
        "\n",
        "# Set a custom OpenML cache directory\n",
        "openml.config.cache_directory = os.path.expanduser(\"~/.openml_cache\")\n",
        "\n",
        "class NODE(nn.Module):\n",
        "    def __init__(self, params, num_features, num_classes):\n",
        "        super(NODE, self).__init__()\n",
        "\n",
        "        layer_dim = int(params[\"total_tree_count\"] / params[\"num_layers\"])\n",
        "\n",
        "        self.model = nn.Sequential(\n",
        "            nn.Linear(num_features, layer_dim),  # Example layer, modify as needed\n",
        "            nn.ReLU(),\n",
        "            nn.Linear(layer_dim, num_classes)\n",
        "        )\n",
        "\n",
        "    def forward(self, x):\n",
        "        return self.model(x)\n",
        "\n",
        "    def predict(self, X):\n",
        "        self.eval()\n",
        "        with torch.no_grad():\n",
        "            return self.forward(X)\n",
        "\n",
        "def initialize_weights(m):\n",
        "    if isinstance(m, nn.Linear):\n",
        "        nn.init.xavier_uniform_(m.weight)\n",
        "        m.bias.data.fill_(0.01)\n",
        "\n",
        "def get_random_parameters(seed):\n",
        "    rs = np.random.RandomState(seed)\n",
        "    params = {\n",
        "        \"num_layers\": rs.choice([2, 4, 8]),\n",
        "        \"total_tree_count\": rs.choice([1024, 2048]),\n",
        "        \"tree_depth\": rs.choice([6, 8]),\n",
        "        \"tree_output_dim\": rs.choice([2, 3]),\n",
        "        \"learning_rate\": 1e-4,  # Smaller learning rate\n",
        "        \"epochs\": 100,  # Example value, set as needed\n",
        "        \"objective\": 'classification',  # Assuming classification\n",
        "    }\n",
        "    return params\n",
        "\n",
        "def load_data(task_id):\n",
        "    task = openml.tasks.get_task(task_id)\n",
        "    dataset = openml.datasets.get_dataset(task.dataset_id)\n",
        "\n",
        "    # Retrieve the target feature directly from the task\n",
        "    target_feature = task.target_name  # Changed from task.get_target() to task.target_name\n",
        "\n",
        "    # Retrieve the dataset's data\n",
        "    X, y, _, _ = dataset.get_data(target=target_feature)\n",
        "    return X, y\n",
        "\n",
        "def preprocess_data(X):\n",
        "    # Convert categorical columns to numeric using one-hot encoding\n",
        "    if isinstance(X, pd.DataFrame):\n",
        "        X = pd.get_dummies(X, drop_first=True)  # One-hot encode categorical variables\n",
        "\n",
        "    # Handle NaN values by filling them with the column mean or dropping rows\n",
        "    X = X.fillna(X.mean())  # Fill NaNs with column mean for numeric stability\n",
        "    return X\n",
        "\n",
        "def encode_target(y):\n",
        "    # Use LabelEncoder to convert categorical target variable to numeric\n",
        "    le = LabelEncoder()\n",
        "    return le.fit_transform(y)\n",
        "\n",
        "def train_model(X_train, y_train, X_val, y_val, params):\n",
        "    num_features = X_train.shape[1]\n",
        "    num_classes = len(np.unique(y_train))\n",
        "\n",
        "    model = NODE(params, num_features, num_classes).to(device)\n",
        "\n",
        "    if params['objective'] == 'classification':\n",
        "        loss_function = nn.CrossEntropyLoss()\n",
        "    elif params['objective'] == 'regression':\n",
        "        loss_function = nn.MSELoss()\n",
        "\n",
        "    optimizer = optim.Adam(model.parameters(), lr=params['learning_rate'])  # Use standard PyTorch Adam\n",
        "\n",
        "    # Check for NaN values in input data using Pandas method\n",
        "    if X_train.isna().any().any() or X_val.isna().any().any():\n",
        "        raise ValueError(\"Input data contains NaN values.\")\n",
        "\n",
        "    # Normalize the data\n",
        "    scaler = StandardScaler()\n",
        "    X_train = scaler.fit_transform(X_train)\n",
        "    X_val = scaler.transform(X_val)\n",
        "\n",
        "    # Initialize model weights\n",
        "    model.apply(initialize_weights)\n",
        "\n",
        "    # Training loop\n",
        "    for epoch in range(params['epochs']):\n",
        "        model.train()\n",
        "        optimizer.zero_grad()\n",
        "\n",
        "        # Convert DataFrame to FloatTensor\n",
        "        outputs = model(torch.FloatTensor(X_train).to(device))  # Convert to NumPy array\n",
        "        loss = loss_function(outputs, torch.LongTensor(y_train).to(device))  # Ensure y_train is LongTensor for classification\n",
        "        loss.backward()\n",
        "        optimizer.step()\n",
        "\n",
        "        if np.isnan(loss.item()):  # Check for NaN loss\n",
        "            print(\"NaN loss encountered, stopping training.\")\n",
        "            break\n",
        "\n",
        "    # Validation\n",
        "    model.eval()\n",
        "    with torch.no_grad():\n",
        "        val_outputs = model(torch.FloatTensor(X_val).to(device))  # Convert to NumPy array\n",
        "        val_predictions = torch.argmax(val_outputs, dim=1)\n",
        "        accuracy = accuracy_score(y_val, val_predictions.cpu())\n",
        "\n",
        "    return model, accuracy\n",
        "\n",
        "# Define your parameters\n",
        "params = get_random_parameters(seed=42)\n",
        "\n"
      ],
      "metadata": {
        "id": "dgl-RBCmHvhD",
        "colab": {
          "base_uri": "https://localhost:8080/"
        },
        "outputId": "35ac3e49-ade7-4a1e-99e4-8861bec0a3f0"
      },
      "execution_count": null,
      "outputs": [
        {
          "output_type": "stream",
          "name": "stderr",
          "text": [
            "WARNING:openml:No permission to create OpenML directory at /root/.config/openml! This can result in OpenML-Python not working properly.\n"
          ]
        }
      ]
    },
    {
      "cell_type": "markdown",
      "source": [
        "# Task ID1: 14965"
      ],
      "metadata": {
        "id": "Av3Ht0glwhhn"
      }
    },
    {
      "cell_type": "code",
      "source": [
        "# Load the data from OpenML\n",
        "task_id = 14965  # Replace with your OpenML task ID\n",
        "X, y = load_data(task_id)\n",
        "\n",
        "# Preprocess the data\n",
        "X = preprocess_data(X)\n",
        "\n",
        "# Encode the target variable\n",
        "y = encode_target(y)\n",
        "\n",
        "# Split the data into training and validation sets\n",
        "X_train, X_val, y_train, y_val = train_test_split(X, y, test_size=0.2, random_state=42)\n",
        "\n",
        "# Set the device\n",
        "device = torch.device('cuda' if torch.cuda.is_available() else 'cpu')\n",
        "\n",
        "# Train the model\n",
        "model, accuracy = train_model(X_train, y_train, X_val, y_val, params)\n",
        "print(f'Validation Accuracy: {accuracy:.4f}')\n"
      ],
      "metadata": {
        "colab": {
          "base_uri": "https://localhost:8080/"
        },
        "id": "DY5czDRz4OGd",
        "outputId": "ea98a8ab-1826-47ba-fabe-e55b1c491362"
      },
      "execution_count": null,
      "outputs": [
        {
          "output_type": "stream",
          "name": "stdout",
          "text": [
            "Validation Accuracy: 0.8795\n"
          ]
        }
      ]
    },
    {
      "cell_type": "markdown",
      "source": [
        "# Task ID2: 9977"
      ],
      "metadata": {
        "id": "_bEEFrVDxJk6"
      }
    },
    {
      "cell_type": "code",
      "source": [
        "# Load the data from OpenML\n",
        "task_id = 9977  # Replace with your OpenML task ID\n",
        "X, y = load_data(task_id)\n",
        "\n",
        "# Preprocess the data\n",
        "X = preprocess_data(X)\n",
        "\n",
        "# Encode the target variable\n",
        "y = encode_target(y)\n",
        "\n",
        "# Split the data into training and validation sets\n",
        "X_train, X_val, y_train, y_val = train_test_split(X, y, test_size=0.2, random_state=42)\n",
        "\n",
        "# Set the device\n",
        "device = torch.device('cuda' if torch.cuda.is_available() else 'cpu')\n",
        "\n",
        "# Train the model\n",
        "model, accuracy = train_model(X_train, y_train, X_val, y_val, params)\n",
        "print(f'Validation Accuracy: {accuracy:.4f}')\n"
      ],
      "metadata": {
        "colab": {
          "base_uri": "https://localhost:8080/"
        },
        "id": "dV-b8aZW4ozs",
        "outputId": "ab612daa-d5cd-4d84-998f-e1d2b6c264c9"
      },
      "execution_count": null,
      "outputs": [
        {
          "output_type": "stream",
          "name": "stdout",
          "text": [
            "Validation Accuracy: 0.9179\n"
          ]
        }
      ]
    },
    {
      "cell_type": "markdown",
      "metadata": {
        "id": "7Hz-jF53KD4A"
      },
      "source": [
        "# Task ID3: 34539"
      ]
    },
    {
      "cell_type": "code",
      "source": [
        "# Load the data from OpenML\n",
        "task_id = 34539  # Replace with your OpenML task ID\n",
        "X, y = load_data(task_id)\n",
        "\n",
        "# Preprocess the data\n",
        "X = preprocess_data(X)\n",
        "\n",
        "# Encode the target variable\n",
        "y = encode_target(y)\n",
        "\n",
        "# Split the data into training and validation sets\n",
        "X_train, X_val, y_train, y_val = train_test_split(X, y, test_size=0.2, random_state=42)\n",
        "\n",
        "# Set the device\n",
        "device = torch.device('cuda' if torch.cuda.is_available() else 'cpu')\n",
        "\n",
        "# Train the model\n",
        "model, accuracy = train_model(X_train, y_train, X_val, y_val, params)\n",
        "print(f'Validation Accuracy: {accuracy:.4f}')\n"
      ],
      "metadata": {
        "colab": {
          "base_uri": "https://localhost:8080/"
        },
        "id": "Izhw7l9B4p8k",
        "outputId": "d6f571e6-86a7-4e49-d0bb-4f68f16f4cdd"
      },
      "execution_count": null,
      "outputs": [
        {
          "output_type": "stream",
          "name": "stdout",
          "text": [
            "Validation Accuracy: 0.9179\n"
          ]
        }
      ]
    },
    {
      "cell_type": "markdown",
      "metadata": {
        "id": "KJ1lM1Bv99qs"
      },
      "source": [
        "# Task ID4: 146606"
      ]
    },
    {
      "cell_type": "code",
      "source": [
        "# Load the data from OpenML\n",
        "task_id = 146606  # Replace with your OpenML task ID\n",
        "X, y = load_data(task_id)\n",
        "\n",
        "# Preprocess the data\n",
        "X = preprocess_data(X)\n",
        "\n",
        "# Encode the target variable\n",
        "y = encode_target(y)\n",
        "\n",
        "# Split the data into training and validation sets\n",
        "X_train, X_val, y_train, y_val = train_test_split(X, y, test_size=0.2, random_state=42)\n",
        "\n",
        "# Set the device\n",
        "device = torch.device('cuda' if torch.cuda.is_available() else 'cpu')\n",
        "\n",
        "# Train the model\n",
        "model, accuracy = train_model(X_train, y_train, X_val, y_val, params)\n",
        "print(f'Validation Accuracy: {accuracy:.4f}')\n"
      ],
      "metadata": {
        "colab": {
          "base_uri": "https://localhost:8080/"
        },
        "id": "LfXBlekk4qzA",
        "outputId": "b4506ede-997a-4407-a147-c3ce3998d198"
      },
      "execution_count": null,
      "outputs": [
        {
          "output_type": "stream",
          "name": "stdout",
          "text": [
            "Validation Accuracy: 0.5961\n"
          ]
        }
      ]
    },
    {
      "cell_type": "markdown",
      "metadata": {
        "id": "agXkkvFj-uRE"
      },
      "source": [
        "# Task ID5: 7592\n",
        "\n"
      ]
    },
    {
      "cell_type": "code",
      "source": [
        "# Load the data from OpenML\n",
        "task_id = 7592  # Replace with your OpenML task ID\n",
        "X, y = load_data(task_id)\n",
        "\n",
        "# Preprocess the data\n",
        "X = preprocess_data(X)\n",
        "\n",
        "# Encode the target variable\n",
        "y = encode_target(y)\n",
        "\n",
        "# Split the data into training and validation sets\n",
        "X_train, X_val, y_train, y_val = train_test_split(X, y, test_size=0.2, random_state=42)\n",
        "\n",
        "# Set the device\n",
        "device = torch.device('cuda' if torch.cuda.is_available() else 'cpu')\n",
        "\n",
        "# Train the model\n",
        "model, accuracy = train_model(X_train, y_train, X_val, y_val, params)\n",
        "print(f'Validation Accuracy: {accuracy:.4f}')\n"
      ],
      "metadata": {
        "colab": {
          "base_uri": "https://localhost:8080/"
        },
        "id": "iV-uIgI8B7Uj",
        "outputId": "07c53060-302d-4e47-a446-134945727912"
      },
      "execution_count": null,
      "outputs": [
        {
          "output_type": "stream",
          "name": "stdout",
          "text": [
            "Validation Accuracy: 0.8271\n"
          ]
        }
      ]
    },
    {
      "cell_type": "markdown",
      "metadata": {
        "id": "5qB-NZ-t-wyd"
      },
      "source": [
        "# Task ID6: 146195\n",
        "\n"
      ]
    },
    {
      "cell_type": "code",
      "source": [
        "# Load the data from OpenML\n",
        "task_id = 146195  # Replace with your OpenML task ID\n",
        "X, y = load_data(task_id)\n",
        "\n",
        "# Preprocess the data\n",
        "X = preprocess_data(X)\n",
        "\n",
        "# Encode the target variable\n",
        "y = encode_target(y)\n",
        "\n",
        "# Split the data into training and validation sets\n",
        "X_train, X_val, y_train, y_val = train_test_split(X, y, test_size=0.2, random_state=42)\n",
        "\n",
        "# Set the device\n",
        "device = torch.device('cuda' if torch.cuda.is_available() else 'cpu')\n",
        "\n",
        "# Train the model\n",
        "model, accuracy = train_model(X_train, y_train, X_val, y_val, params)\n",
        "print(f'Validation Accuracy: {accuracy:.4f}')\n"
      ],
      "metadata": {
        "colab": {
          "base_uri": "https://localhost:8080/"
        },
        "id": "1SI6p_XkB8cM",
        "outputId": "5e976538-809a-4307-e496-f44fbe84827d"
      },
      "execution_count": null,
      "outputs": [
        {
          "output_type": "stream",
          "name": "stdout",
          "text": [
            "Validation Accuracy: 0.7077\n"
          ]
        }
      ]
    },
    {
      "cell_type": "markdown",
      "metadata": {
        "id": "D-6lP2ED-yYw"
      },
      "source": [
        "# Task ID7: 167119\n",
        "\n"
      ]
    },
    {
      "cell_type": "code",
      "source": [
        "# Load the data from OpenML\n",
        "task_id = 167119  # Replace with your OpenML task ID\n",
        "X, y = load_data(task_id)\n",
        "\n",
        "# Preprocess the data\n",
        "X = preprocess_data(X)\n",
        "\n",
        "# Encode the target variable\n",
        "y = encode_target(y)\n",
        "\n",
        "# Split the data into training and validation sets\n",
        "X_train, X_val, y_train, y_val = train_test_split(X, y, test_size=0.2, random_state=42)\n",
        "\n",
        "# Set the device\n",
        "device = torch.device('cuda' if torch.cuda.is_available() else 'cpu')\n",
        "\n",
        "# Train the model\n",
        "model, accuracy = train_model(X_train, y_train, X_val, y_val, params)\n",
        "print(f'Validation Accuracy: {accuracy:.4f}')\n"
      ],
      "metadata": {
        "colab": {
          "base_uri": "https://localhost:8080/"
        },
        "id": "0lga-2oQB9xr",
        "outputId": "c841bdeb-8081-4b2a-cfee-de5ba0d769a3"
      },
      "execution_count": null,
      "outputs": [
        {
          "output_type": "stream",
          "name": "stdout",
          "text": [
            "Validation Accuracy: 0.6431\n"
          ]
        }
      ]
    },
    {
      "cell_type": "markdown",
      "metadata": {
        "id": "UhMkxXLjFYC_"
      },
      "source": [
        "# Task ID8: 167120\n",
        "\n"
      ]
    },
    {
      "cell_type": "code",
      "source": [
        "# Load the data from OpenML\n",
        "task_id = 167120  # Replace with your OpenML task ID\n",
        "X, y = load_data(task_id)\n",
        "\n",
        "# Preprocess the data\n",
        "X = preprocess_data(X)\n",
        "\n",
        "# Encode the target variable\n",
        "y = encode_target(y)\n",
        "\n",
        "# Split the data into training and validation sets\n",
        "X_train, X_val, y_train, y_val = train_test_split(X, y, test_size=0.2, random_state=42)\n",
        "\n",
        "# Set the device\n",
        "device = torch.device('cuda' if torch.cuda.is_available() else 'cpu')\n",
        "\n",
        "# Train the model\n",
        "model, accuracy = train_model(X_train, y_train, X_val, y_val, params)\n",
        "print(f'Validation Accuracy: {accuracy:.4f}')\n"
      ],
      "metadata": {
        "colab": {
          "base_uri": "https://localhost:8080/"
        },
        "id": "VCWKeMDVB-hI",
        "outputId": "f4750edb-84cc-4191-8292-5c516f899f9f"
      },
      "execution_count": null,
      "outputs": [
        {
          "output_type": "stream",
          "name": "stdout",
          "text": [
            "Validation Accuracy: 0.5103\n"
          ]
        }
      ]
    },
    {
      "cell_type": "markdown",
      "metadata": {
        "id": "7Or_hKHXYB39"
      },
      "source": [
        "# Task ID11: \t168331\n",
        "\n"
      ]
    },
    {
      "cell_type": "code",
      "source": [
        "# Load the data from OpenML\n",
        "task_id = 168331  # Replace with your OpenML task ID\n",
        "X, y = load_data(task_id)\n",
        "\n",
        "# Preprocess the data\n",
        "X = preprocess_data(X)\n",
        "\n",
        "# Encode the target variable\n",
        "y = encode_target(y)\n",
        "\n",
        "# Split the data into training and validation sets\n",
        "X_train, X_val, y_train, y_val = train_test_split(X, y, test_size=0.2, random_state=42)\n",
        "\n",
        "# Set the device\n",
        "device = torch.device('cuda' if torch.cuda.is_available() else 'cpu')\n",
        "\n",
        "# Train the model\n",
        "model, accuracy = train_model(X_train, y_train, X_val, y_val, params)\n",
        "print(f'Validation Accuracy: {accuracy:.4f}')\n"
      ],
      "metadata": {
        "colab": {
          "base_uri": "https://localhost:8080/"
        },
        "id": "ZlLy9tdtB_eV",
        "outputId": "31a20557-f03d-4c5d-9c81-1b4ca2fd667c"
      },
      "execution_count": null,
      "outputs": [
        {
          "output_type": "stream",
          "name": "stdout",
          "text": [
            "Validation Accuracy: 0.5065\n"
          ]
        }
      ]
    },
    {
      "cell_type": "markdown",
      "metadata": {
        "id": "yUMhEOrBdFAA"
      },
      "source": [
        "# Task ID12: \t168330\n",
        "\n"
      ]
    },
    {
      "cell_type": "code",
      "source": [
        "# Load the data from OpenML\n",
        "task_id = 168330  # Replace with your OpenML task ID\n",
        "X, y = load_data(task_id)\n",
        "\n",
        "# Preprocess the data\n",
        "X = preprocess_data(X)\n",
        "\n",
        "# Encode the target variable\n",
        "y = encode_target(y)\n",
        "\n",
        "# Split the data into training and validation sets\n",
        "X_train, X_val, y_train, y_val = train_test_split(X, y, test_size=0.2, random_state=42)\n",
        "\n",
        "# Set the device\n",
        "device = torch.device('cuda' if torch.cuda.is_available() else 'cpu')\n",
        "\n",
        "# Train the model\n",
        "model, accuracy = train_model(X_train, y_train, X_val, y_val, params)\n",
        "print(f'Validation Accuracy: {accuracy:.4f}')\n"
      ],
      "metadata": {
        "colab": {
          "base_uri": "https://localhost:8080/"
        },
        "id": "dDJ39KNPCAkT",
        "outputId": "2c9ffe99-a9c9-4ed1-e474-20f1c99465dd"
      },
      "execution_count": null,
      "outputs": [
        {
          "output_type": "stream",
          "name": "stdout",
          "text": [
            "Validation Accuracy: 0.5555\n"
          ]
        }
      ]
    },
    {
      "cell_type": "markdown",
      "metadata": {
        "id": "d3yrnlEGULX7"
      },
      "source": [
        "# Task ID13: \t168335\n",
        "\n"
      ]
    },
    {
      "cell_type": "code",
      "source": [
        "# Load the data from OpenML\n",
        "task_id = 168335  # Replace with your OpenML task ID\n",
        "X, y = load_data(task_id)\n",
        "\n",
        "# Preprocess the data\n",
        "X = preprocess_data(X)\n",
        "\n",
        "# Encode the target variable\n",
        "y = encode_target(y)\n",
        "\n",
        "# Split the data into training and validation sets\n",
        "X_train, X_val, y_train, y_val = train_test_split(X, y, test_size=0.2, random_state=42)\n",
        "\n",
        "# Set the device\n",
        "device = torch.device('cuda' if torch.cuda.is_available() else 'cpu')\n",
        "\n",
        "# Train the model\n",
        "model, accuracy = train_model(X_train, y_train, X_val, y_val, params)\n",
        "print(f'Validation Accuracy: {accuracy:.4f}')\n"
      ],
      "metadata": {
        "colab": {
          "base_uri": "https://localhost:8080/"
        },
        "id": "uv1bHx_fCBXB",
        "outputId": "f5046f02-29f6-48de-c99d-fa49540e65d7"
      },
      "execution_count": null,
      "outputs": [
        {
          "output_type": "stream",
          "name": "stdout",
          "text": [
            "Validation Accuracy: 0.8076\n"
          ]
        }
      ]
    },
    {
      "cell_type": "markdown",
      "metadata": {
        "id": "065Jhn3bUN3E"
      },
      "source": [
        "\n",
        "# Task ID16: \t146212\n",
        "\n"
      ]
    },
    {
      "cell_type": "code",
      "source": [
        "# Load the data from OpenML\n",
        "task_id = 146212  # Replace with your OpenML task ID\n",
        "X, y = load_data(task_id)\n",
        "\n",
        "# Preprocess the data\n",
        "X = preprocess_data(X)\n",
        "\n",
        "# Encode the target variable\n",
        "y = encode_target(y)\n",
        "\n",
        "# Split the data into training and validation sets\n",
        "X_train, X_val, y_train, y_val = train_test_split(X, y, test_size=0.2, random_state=42)\n",
        "\n",
        "# Set the device\n",
        "device = torch.device('cuda' if torch.cuda.is_available() else 'cpu')\n",
        "\n",
        "# Train the model\n",
        "model, accuracy = train_model(X_train, y_train, X_val, y_val, params)\n",
        "print(f'Validation Accuracy: {accuracy:.4f}')\n"
      ],
      "metadata": {
        "colab": {
          "base_uri": "https://localhost:8080/"
        },
        "id": "Ywcof5KZCCEB",
        "outputId": "b0ffc7ed-a673-4e01-c9c9-f05577b93da3"
      },
      "execution_count": null,
      "outputs": [
        {
          "output_type": "stream",
          "name": "stdout",
          "text": [
            "Validation Accuracy: 0.8828\n"
          ]
        }
      ]
    },
    {
      "cell_type": "markdown",
      "metadata": {
        "id": "lPP_6tsjUQVe"
      },
      "source": [
        "# Task ID19: \t168868\n",
        "\n"
      ]
    },
    {
      "cell_type": "code",
      "source": [
        "# Load the data from OpenML\n",
        "task_id = 168868  # Replace with your OpenML task ID\n",
        "X, y = load_data(task_id)\n",
        "\n",
        "# Preprocess the data\n",
        "X = preprocess_data(X)\n",
        "\n",
        "# Encode the target variable\n",
        "y = encode_target(y)\n",
        "\n",
        "# Split the data into training and validation sets\n",
        "X_train, X_val, y_train, y_val = train_test_split(X, y, test_size=0.2, random_state=42)\n",
        "\n",
        "# Set the device\n",
        "device = torch.device('cuda' if torch.cuda.is_available() else 'cpu')\n",
        "\n",
        "# Train the model\n",
        "model, accuracy = train_model(X_train, y_train, X_val, y_val, params)\n",
        "print(f'Validation Accuracy: {accuracy:.4f}')\n"
      ],
      "metadata": {
        "colab": {
          "base_uri": "https://localhost:8080/"
        },
        "id": "R18SKcqSCCvF",
        "outputId": "b7dc8777-3dc6-4c8c-c7ad-f7054d9e03a1"
      },
      "execution_count": null,
      "outputs": [
        {
          "output_type": "stream",
          "name": "stdout",
          "text": [
            "Validation Accuracy: 0.9825\n"
          ]
        }
      ]
    },
    {
      "cell_type": "markdown",
      "source": [
        "# Task ID20: 31"
      ],
      "metadata": {
        "id": "UkfKJeLtuxt7"
      }
    },
    {
      "cell_type": "code",
      "source": [
        "# Load the data from OpenML\n",
        "task_id = 31  # Replace with your OpenML task ID\n",
        "X, y = load_data(task_id)\n",
        "\n",
        "# Preprocess the data\n",
        "X = preprocess_data(X)\n",
        "\n",
        "# Encode the target variable\n",
        "y = encode_target(y)\n",
        "\n",
        "# Split the data into training and validation sets\n",
        "X_train, X_val, y_train, y_val = train_test_split(X, y, test_size=0.2, random_state=42)\n",
        "\n",
        "# Set the device\n",
        "device = torch.device('cuda' if torch.cuda.is_available() else 'cpu')\n",
        "\n",
        "# Train the model\n",
        "model, accuracy = train_model(X_train, y_train, X_val, y_val, params)\n",
        "print(f'Validation Accuracy: {accuracy:.4f}')\n"
      ],
      "metadata": {
        "colab": {
          "base_uri": "https://localhost:8080/"
        },
        "id": "AF7NyBUrI_vZ",
        "outputId": "3cb2230e-41dd-42dc-a026-533a54b96368"
      },
      "execution_count": null,
      "outputs": [
        {
          "output_type": "stream",
          "name": "stdout",
          "text": [
            "Validation Accuracy: 0.7300\n"
          ]
        }
      ]
    },
    {
      "cell_type": "markdown",
      "source": [
        "# Task ID21: 10101"
      ],
      "metadata": {
        "id": "u6DpJWyJu_Um"
      }
    },
    {
      "cell_type": "code",
      "source": [
        "# Load the data from OpenML\n",
        "task_id = 10101  # Replace with your OpenML task ID\n",
        "X, y = load_data(task_id)\n",
        "\n",
        "# Preprocess the data\n",
        "X = preprocess_data(X)\n",
        "\n",
        "# Encode the target variable\n",
        "y = encode_target(y)\n",
        "\n",
        "# Split the data into training and validation sets\n",
        "X_train, X_val, y_train, y_val = train_test_split(X, y, test_size=0.2, random_state=42)\n",
        "\n",
        "# Set the device\n",
        "device = torch.device('cuda' if torch.cuda.is_available() else 'cpu')\n",
        "\n",
        "# Train the model\n",
        "model, accuracy = train_model(X_train, y_train, X_val, y_val, params)\n",
        "print(f'Validation Accuracy: {accuracy:.4f}')\n"
      ],
      "metadata": {
        "colab": {
          "base_uri": "https://localhost:8080/"
        },
        "id": "jd_tJqphJB4r",
        "outputId": "143e63cf-c068-44cc-fd45-b420324fed6d"
      },
      "execution_count": null,
      "outputs": [
        {
          "output_type": "stream",
          "name": "stdout",
          "text": [
            "Validation Accuracy: 0.7533\n"
          ]
        }
      ]
    },
    {
      "cell_type": "markdown",
      "source": [
        "# Task ID22: \t3913"
      ],
      "metadata": {
        "id": "L4PMg4K1vD9b"
      }
    },
    {
      "cell_type": "code",
      "source": [
        "# Load the data from OpenML\n",
        "task_id = 3913  # Replace with your OpenML task ID\n",
        "X, y = load_data(task_id)\n",
        "\n",
        "# Preprocess the data\n",
        "X = preprocess_data(X)\n",
        "\n",
        "# Encode the target variable\n",
        "y = encode_target(y)\n",
        "\n",
        "# Split the data into training and validation sets\n",
        "X_train, X_val, y_train, y_val = train_test_split(X, y, test_size=0.2, random_state=42)\n",
        "\n",
        "# Set the device\n",
        "device = torch.device('cuda' if torch.cuda.is_available() else 'cpu')\n",
        "\n",
        "# Train the model\n",
        "model, accuracy = train_model(X_train, y_train, X_val, y_val, params)\n",
        "print(f'Validation Accuracy: {accuracy:.4f}')\n"
      ],
      "metadata": {
        "colab": {
          "base_uri": "https://localhost:8080/"
        },
        "id": "FO3qXRh_JFuA",
        "outputId": "3a0d3c4e-3e58-4f61-c75d-02c95fe3bcfd"
      },
      "execution_count": null,
      "outputs": [
        {
          "output_type": "stream",
          "name": "stdout",
          "text": [
            "Validation Accuracy: 0.8667\n"
          ]
        }
      ]
    },
    {
      "cell_type": "markdown",
      "source": [
        "# Task ID23: 3"
      ],
      "metadata": {
        "id": "6UVYtFS5vFdg"
      }
    },
    {
      "cell_type": "code",
      "source": [
        "# Load the data from OpenML\n",
        "task_id = 3  # Replace with your OpenML task ID\n",
        "X, y = load_data(task_id)\n",
        "\n",
        "# Preprocess the data\n",
        "X = preprocess_data(X)\n",
        "\n",
        "# Encode the target variable\n",
        "y = encode_target(y)\n",
        "\n",
        "# Split the data into training and validation sets\n",
        "X_train, X_val, y_train, y_val = train_test_split(X, y, test_size=0.2, random_state=42)\n",
        "\n",
        "# Set the device\n",
        "device = torch.device('cuda' if torch.cuda.is_available() else 'cpu')\n",
        "\n",
        "# Train the model\n",
        "model, accuracy = train_model(X_train, y_train, X_val, y_val, params)\n",
        "print(f'Validation Accuracy: {accuracy:.4f}')\n"
      ],
      "metadata": {
        "colab": {
          "base_uri": "https://localhost:8080/"
        },
        "id": "MW_oFQKLJIus",
        "outputId": "973faeeb-a3f5-4263-b537-6759fc16ce0e"
      },
      "execution_count": null,
      "outputs": [
        {
          "output_type": "stream",
          "name": "stdout",
          "text": [
            "Validation Accuracy: 0.7391\n"
          ]
        }
      ]
    },
    {
      "cell_type": "markdown",
      "source": [
        "# Task ID24: 3917"
      ],
      "metadata": {
        "id": "vyRHJUzZvHFc"
      }
    },
    {
      "cell_type": "code",
      "source": [
        "# Load the data from OpenML\n",
        "task_id = 3917  # Replace with your OpenML task ID\n",
        "X, y = load_data(task_id)\n",
        "\n",
        "# Preprocess the data\n",
        "X = preprocess_data(X)\n",
        "\n",
        "# Encode the target variable\n",
        "y = encode_target(y)\n",
        "\n",
        "# Split the data into training and validation sets\n",
        "X_train, X_val, y_train, y_val = train_test_split(X, y, test_size=0.2, random_state=42)\n",
        "\n",
        "# Set the device\n",
        "device = torch.device('cuda' if torch.cuda.is_available() else 'cpu')\n",
        "\n",
        "# Train the model\n",
        "model, accuracy = train_model(X_train, y_train, X_val, y_val, params)\n",
        "print(f'Validation Accuracy: {accuracy:.4f}')\n"
      ],
      "metadata": {
        "colab": {
          "base_uri": "https://localhost:8080/"
        },
        "id": "jB4bBKSpJLWr",
        "outputId": "517e87a5-15ed-42b4-e670-59815330ec62"
      },
      "execution_count": null,
      "outputs": [
        {
          "output_type": "stream",
          "name": "stdout",
          "text": [
            "Validation Accuracy: 0.8507\n"
          ]
        }
      ]
    },
    {
      "cell_type": "markdown",
      "source": [
        "# Task ID25: 9957"
      ],
      "metadata": {
        "id": "dzf2O5cvvLhe"
      }
    },
    {
      "cell_type": "code",
      "source": [
        "# Load the data from OpenML\n",
        "task_id = 9957 # Replace with your OpenML task ID\n",
        "X, y = load_data(task_id)\n",
        "\n",
        "# Preprocess the data\n",
        "X = preprocess_data(X)\n",
        "\n",
        "# Encode the target variable\n",
        "y = encode_target(y)\n",
        "\n",
        "# Split the data into training and validation sets\n",
        "X_train, X_val, y_train, y_val = train_test_split(X, y, test_size=0.2, random_state=42)\n",
        "\n",
        "# Set the device\n",
        "device = torch.device('cuda' if torch.cuda.is_available() else 'cpu')\n",
        "\n",
        "# Train the model\n",
        "model, accuracy = train_model(X_train, y_train, X_val, y_val, params)\n",
        "print(f'Validation Accuracy: {accuracy:.4f}')\n"
      ],
      "metadata": {
        "colab": {
          "base_uri": "https://localhost:8080/"
        },
        "id": "z-h3ce9uJOXk",
        "outputId": "cb8a2dee-2ec6-4655-ea5f-3e864f98ec46"
      },
      "execution_count": null,
      "outputs": [
        {
          "output_type": "stream",
          "name": "stdout",
          "text": [
            "Validation Accuracy: 0.8578\n"
          ]
        }
      ]
    },
    {
      "cell_type": "markdown",
      "source": [
        "# Task ID26: 9946"
      ],
      "metadata": {
        "id": "xbL7uSt3vBp0"
      }
    },
    {
      "cell_type": "code",
      "source": [
        "# Load the data from OpenML\n",
        "task_id = 9946  # Replace with your OpenML task ID\n",
        "X, y = load_data(task_id)\n",
        "\n",
        "# Preprocess the data\n",
        "X = preprocess_data(X)\n",
        "\n",
        "# Encode the target variable\n",
        "y = encode_target(y)\n",
        "\n",
        "# Split the data into training and validation sets\n",
        "X_train, X_val, y_train, y_val = train_test_split(X, y, test_size=0.2, random_state=42)\n",
        "\n",
        "# Set the device\n",
        "device = torch.device('cuda' if torch.cuda.is_available() else 'cpu')\n",
        "\n",
        "# Train the model\n",
        "model, accuracy = train_model(X_train, y_train, X_val, y_val, params)\n",
        "print(f'Validation Accuracy: {accuracy:.4f}')\n"
      ],
      "metadata": {
        "colab": {
          "base_uri": "https://localhost:8080/"
        },
        "id": "YYUgK9YmJSQS",
        "outputId": "1d43cbff-ed94-4d46-847a-a6ec0e7db4e7"
      },
      "execution_count": null,
      "outputs": [
        {
          "output_type": "stream",
          "name": "stdout",
          "text": [
            "Validation Accuracy: 0.9561\n"
          ]
        }
      ]
    },
    {
      "cell_type": "markdown",
      "source": [
        "# Task ID27: 3918"
      ],
      "metadata": {
        "id": "4_3XUL5zOr31"
      }
    },
    {
      "cell_type": "code",
      "source": [
        "# Load the data from OpenML\n",
        "task_id = 3918  # Replace with your OpenML task ID\n",
        "X, y = load_data(task_id)\n",
        "\n",
        "# Preprocess the data\n",
        "X = preprocess_data(X)\n",
        "\n",
        "# Encode the target variable\n",
        "y = encode_target(y)\n",
        "\n",
        "# Split the data into training and validation sets\n",
        "X_train, X_val, y_train, y_val = train_test_split(X, y, test_size=0.2, random_state=42)\n",
        "\n",
        "# Set the device\n",
        "device = torch.device('cuda' if torch.cuda.is_available() else 'cpu')\n",
        "\n",
        "# Train the model\n",
        "model, accuracy = train_model(X_train, y_train, X_val, y_val, params)\n",
        "print(f'Validation Accuracy: {accuracy:.4f}')\n"
      ],
      "metadata": {
        "colab": {
          "base_uri": "https://localhost:8080/"
        },
        "outputId": "0a2a0e79-2575-4dcb-861b-5c9b21fd8863",
        "id": "c-1ZVdfvHq0i"
      },
      "execution_count": null,
      "outputs": [
        {
          "output_type": "stream",
          "name": "stdout",
          "text": [
            "Validation Accuracy: 0.9144\n"
          ]
        }
      ]
    },
    {
      "cell_type": "markdown",
      "source": [
        "# Task ID28: 3903"
      ],
      "metadata": {
        "id": "gMfLQ_viOsKc"
      }
    },
    {
      "cell_type": "code",
      "source": [
        "# Load the data from OpenML\n",
        "task_id = 3903  # Replace with your OpenML task ID\n",
        "X, y = load_data(task_id)\n",
        "\n",
        "# Preprocess the data\n",
        "X = preprocess_data(X)\n",
        "\n",
        "# Encode the target variable\n",
        "y = encode_target(y)\n",
        "\n",
        "# Split the data into training and validation sets\n",
        "X_train, X_val, y_train, y_val = train_test_split(X, y, test_size=0.2, random_state=42)\n",
        "\n",
        "# Set the device\n",
        "device = torch.device('cuda' if torch.cuda.is_available() else 'cpu')\n",
        "\n",
        "# Train the model\n",
        "model, accuracy = train_model(X_train, y_train, X_val, y_val, params)\n",
        "print(f'Validation Accuracy: {accuracy:.4f}')\n"
      ],
      "metadata": {
        "colab": {
          "base_uri": "https://localhost:8080/"
        },
        "outputId": "2961bfe7-d88f-4b7e-fb4b-9b01b4bc754f",
        "id": "lYqbyxzlHrRP"
      },
      "execution_count": null,
      "outputs": [
        {
          "output_type": "stream",
          "name": "stdout",
          "text": [
            "Validation Accuracy: 0.8946\n"
          ]
        }
      ]
    },
    {
      "cell_type": "markdown",
      "source": [
        "# Task ID29: 37"
      ],
      "metadata": {
        "id": "p8r0_x-wOsYx"
      }
    },
    {
      "cell_type": "code",
      "source": [
        "# Load the data from OpenML\n",
        "task_id = 37  # Replace with your OpenML task ID\n",
        "X, y = load_data(task_id)\n",
        "\n",
        "# Preprocess the data\n",
        "X = preprocess_data(X)\n",
        "\n",
        "# Encode the target variable\n",
        "y = encode_target(y)\n",
        "\n",
        "# Split the data into training and validation sets\n",
        "X_train, X_val, y_train, y_val = train_test_split(X, y, test_size=0.2, random_state=42)\n",
        "\n",
        "# Set the device\n",
        "device = torch.device('cuda' if torch.cuda.is_available() else 'cpu')\n",
        "\n",
        "# Train the model\n",
        "model, accuracy = train_model(X_train, y_train, X_val, y_val, params)\n",
        "print(f'Validation Accuracy: {accuracy:.4f}')\n"
      ],
      "metadata": {
        "colab": {
          "base_uri": "https://localhost:8080/"
        },
        "outputId": "2f6b1982-ea70-4329-ec4e-04745d71ca5e",
        "id": "6Syx_pZgHrpq"
      },
      "execution_count": null,
      "outputs": [
        {
          "output_type": "stream",
          "name": "stdout",
          "text": [
            "Validation Accuracy: 0.7532\n"
          ]
        }
      ]
    },
    {
      "cell_type": "markdown",
      "source": [
        "# Task ID30: 9971"
      ],
      "metadata": {
        "id": "ZInQ-9WoOsu9"
      }
    },
    {
      "cell_type": "code",
      "source": [
        "# Load the data from OpenML\n",
        "task_id = 9971  # Replace with your OpenML task ID\n",
        "X, y = load_data(task_id)\n",
        "\n",
        "# Preprocess the data\n",
        "X = preprocess_data(X)\n",
        "\n",
        "# Encode the target variable\n",
        "y = encode_target(y)\n",
        "\n",
        "# Split the data into training and validation sets\n",
        "X_train, X_val, y_train, y_val = train_test_split(X, y, test_size=0.2, random_state=42)\n",
        "\n",
        "# Set the device\n",
        "device = torch.device('cuda' if torch.cuda.is_available() else 'cpu')\n",
        "\n",
        "# Train the model\n",
        "model, accuracy = train_model(X_train, y_train, X_val, y_val, params)\n",
        "print(f'Validation Accuracy: {accuracy:.4f}')\n"
      ],
      "metadata": {
        "colab": {
          "base_uri": "https://localhost:8080/"
        },
        "outputId": "d2130878-0e79-44ae-fd77-224b25ae4396",
        "id": "QrMJINSmHsER"
      },
      "execution_count": null,
      "outputs": [
        {
          "output_type": "stream",
          "name": "stdout",
          "text": [
            "Validation Accuracy: 0.7521\n"
          ]
        }
      ]
    },
    {
      "cell_type": "markdown",
      "source": [
        "# Task ID31: 9952"
      ],
      "metadata": {
        "id": "JXEaEKEaOtAm"
      }
    },
    {
      "cell_type": "code",
      "source": [
        "# Load the data from OpenML\n",
        "task_id = 9952  # Replace with your OpenML task ID\n",
        "X, y = load_data(task_id)\n",
        "\n",
        "# Preprocess the data\n",
        "X = preprocess_data(X)\n",
        "\n",
        "# Encode the target variable\n",
        "y = encode_target(y)\n",
        "\n",
        "# Split the data into training and validation sets\n",
        "X_train, X_val, y_train, y_val = train_test_split(X, y, test_size=0.2, random_state=42)\n",
        "\n",
        "# Set the device\n",
        "device = torch.device('cuda' if torch.cuda.is_available() else 'cpu')\n",
        "\n",
        "# Train the model\n",
        "model, accuracy = train_model(X_train, y_train, X_val, y_val, params)\n",
        "print(f'Validation Accuracy: {accuracy:.4f}')\n"
      ],
      "metadata": {
        "colab": {
          "base_uri": "https://localhost:8080/"
        },
        "outputId": "2c73b195-f30a-40d1-b4f3-c16b63c0327f",
        "id": "5tL9dPMFHsnm"
      },
      "execution_count": null,
      "outputs": [
        {
          "output_type": "stream",
          "name": "stdout",
          "text": [
            "Validation Accuracy: 0.7771\n"
          ]
        }
      ]
    },
    {
      "cell_type": "markdown",
      "source": [
        "# Task ID32: 3902"
      ],
      "metadata": {
        "id": "pW00w70pOtPI"
      }
    },
    {
      "cell_type": "code",
      "source": [
        "# Load the data from OpenML\n",
        "task_id = 3902  # Replace with your OpenML task ID\n",
        "X, y = load_data(task_id)\n",
        "\n",
        "# Preprocess the data\n",
        "X = preprocess_data(X)\n",
        "\n",
        "# Encode the target variable\n",
        "y = encode_target(y)\n",
        "\n",
        "# Split the data into training and validation sets\n",
        "X_train, X_val, y_train, y_val = train_test_split(X, y, test_size=0.2, random_state=42)\n",
        "\n",
        "# Set the device\n",
        "device = torch.device('cuda' if torch.cuda.is_available() else 'cpu')\n",
        "\n",
        "# Train the model\n",
        "model, accuracy = train_model(X_train, y_train, X_val, y_val, params)\n",
        "print(f'Validation Accuracy: {accuracy:.4f}')\n"
      ],
      "metadata": {
        "colab": {
          "base_uri": "https://localhost:8080/"
        },
        "outputId": "0773cdf3-35a2-4416-c1d2-dff81873f004",
        "id": "qVSW9MiWHtEv"
      },
      "execution_count": null,
      "outputs": [
        {
          "output_type": "stream",
          "name": "stdout",
          "text": [
            "Validation Accuracy: 0.8493\n"
          ]
        }
      ]
    },
    {
      "cell_type": "markdown",
      "source": [
        "# Task ID33: 49"
      ],
      "metadata": {
        "id": "6zZ17oDlOtbo"
      }
    },
    {
      "cell_type": "code",
      "source": [
        "# Load the data from OpenML\n",
        "task_id = 49  # Replace with your OpenML task ID\n",
        "X, y = load_data(task_id)\n",
        "\n",
        "# Preprocess the data\n",
        "X = preprocess_data(X)\n",
        "\n",
        "# Encode the target variable\n",
        "y = encode_target(y)\n",
        "\n",
        "# Split the data into training and validation sets\n",
        "X_train, X_val, y_train, y_val = train_test_split(X, y, test_size=0.2, random_state=42)\n",
        "\n",
        "# Set the device\n",
        "device = torch.device('cuda' if torch.cuda.is_available() else 'cpu')\n",
        "\n",
        "# Train the model\n",
        "model, accuracy = train_model(X_train, y_train, X_val, y_val, params)\n",
        "print(f'Validation Accuracy: {accuracy:.4f}')\n"
      ],
      "metadata": {
        "colab": {
          "base_uri": "https://localhost:8080/"
        },
        "outputId": "5b4d322c-8230-48ee-fdae-9934396a79a0",
        "id": "Mg2MKiZlHtjW"
      },
      "execution_count": null,
      "outputs": [
        {
          "output_type": "stream",
          "name": "stdout",
          "text": [
            "Validation Accuracy: 0.7083\n"
          ]
        }
      ]
    },
    {
      "cell_type": "markdown",
      "source": [
        "# Task ID34: 43"
      ],
      "metadata": {
        "id": "U5j20q0COtoD"
      }
    },
    {
      "cell_type": "code",
      "source": [
        "# Load the data from OpenML\n",
        "task_id = 43  # Replace with your OpenML task ID\n",
        "X, y = load_data(task_id)\n",
        "\n",
        "# Preprocess the data\n",
        "X = preprocess_data(X)\n",
        "\n",
        "# Encode the target variable\n",
        "y = encode_target(y)\n",
        "\n",
        "# Split the data into training and validation sets\n",
        "X_train, X_val, y_train, y_val = train_test_split(X, y, test_size=0.2, random_state=42)\n",
        "\n",
        "# Set the device\n",
        "device = torch.device('cuda' if torch.cuda.is_available() else 'cpu')\n",
        "\n",
        "# Train the model\n",
        "model, accuracy = train_model(X_train, y_train, X_val, y_val, params)\n",
        "print(f'Validation Accuracy: {accuracy:.4f}')\n"
      ],
      "metadata": {
        "colab": {
          "base_uri": "https://localhost:8080/"
        },
        "outputId": "7f3f8046-b5ce-410b-bd51-79559df2043a",
        "id": "ya1gLfopHuBx"
      },
      "execution_count": null,
      "outputs": [
        {
          "output_type": "stream",
          "name": "stdout",
          "text": [
            "Validation Accuracy: 0.8697\n"
          ]
        }
      ]
    },
    {
      "cell_type": "markdown",
      "source": [
        "# Task ID35: 9978"
      ],
      "metadata": {
        "id": "I-iHZbecOt0s"
      }
    },
    {
      "cell_type": "code",
      "source": [
        "# Load the data from OpenML\n",
        "task_id = 9978  # Replace with your OpenML task ID\n",
        "X, y = load_data(task_id)\n",
        "\n",
        "# Preprocess the data\n",
        "X = preprocess_data(X)\n",
        "\n",
        "# Encode the target variable\n",
        "y = encode_target(y)\n",
        "\n",
        "# Split the data into training and validation sets\n",
        "X_train, X_val, y_train, y_val = train_test_split(X, y, test_size=0.2, random_state=42)\n",
        "\n",
        "# Set the device\n",
        "device = torch.device('cuda' if torch.cuda.is_available() else 'cpu')\n",
        "\n",
        "# Train the model\n",
        "model, accuracy = train_model(X_train, y_train, X_val, y_val, params)\n",
        "print(f'Validation Accuracy: {accuracy:.4f}')\n"
      ],
      "metadata": {
        "colab": {
          "base_uri": "https://localhost:8080/"
        },
        "outputId": "05127f5e-450b-4c79-d797-43f0289c5fc0",
        "id": "NNzGVPkAHugI"
      },
      "execution_count": null,
      "outputs": [
        {
          "output_type": "stream",
          "name": "stdout",
          "text": [
            "Validation Accuracy: 0.9389\n"
          ]
        }
      ]
    },
    {
      "cell_type": "markdown",
      "source": [
        "# Task ID36: 10093"
      ],
      "metadata": {
        "id": "uysN5WV0Oxpu"
      }
    },
    {
      "cell_type": "code",
      "source": [
        "# Load the data from OpenML\n",
        "task_id = 10093  # Replace with your OpenML task ID\n",
        "X, y = load_data(task_id)\n",
        "\n",
        "# Preprocess the data\n",
        "X = preprocess_data(X)\n",
        "\n",
        "# Encode the target variable\n",
        "y = encode_target(y)\n",
        "\n",
        "# Split the data into training and validation sets\n",
        "X_train, X_val, y_train, y_val = train_test_split(X, y, test_size=0.2, random_state=42)\n",
        "\n",
        "# Set the device\n",
        "device = torch.device('cuda' if torch.cuda.is_available() else 'cpu')\n",
        "\n",
        "# Train the model\n",
        "model, accuracy = train_model(X_train, y_train, X_val, y_val, params)\n",
        "print(f'Validation Accuracy: {accuracy:.4f}')\n"
      ],
      "metadata": {
        "colab": {
          "base_uri": "https://localhost:8080/"
        },
        "outputId": "279fbe47-8e62-45c9-c857-2e2799dcc1a6",
        "id": "GhnLly_2Hvw6"
      },
      "execution_count": null,
      "outputs": [
        {
          "output_type": "stream",
          "name": "stdout",
          "text": [
            "Validation Accuracy: 0.6509\n"
          ]
        }
      ]
    },
    {
      "cell_type": "markdown",
      "source": [
        "# Task ID37: 219"
      ],
      "metadata": {
        "id": "yGgmlLAKULw-"
      }
    },
    {
      "cell_type": "code",
      "source": [
        "# Load the data from OpenML\n",
        "task_id = 219  # Replace with your OpenML task ID\n",
        "X, y = load_data(task_id)\n",
        "\n",
        "# Preprocess the data\n",
        "X = preprocess_data(X)\n",
        "\n",
        "# Encode the target variable\n",
        "y = encode_target(y)\n",
        "\n",
        "# Split the data into training and validation sets\n",
        "X_train, X_val, y_train, y_val = train_test_split(X, y, test_size=0.2, random_state=42)\n",
        "\n",
        "# Set the device\n",
        "device = torch.device('cuda' if torch.cuda.is_available() else 'cpu')\n",
        "\n",
        "# Train the model\n",
        "model, accuracy = train_model(X_train, y_train, X_val, y_val, params)\n",
        "print(f'Validation Accuracy: {accuracy:.4f}')\n"
      ],
      "metadata": {
        "colab": {
          "base_uri": "https://localhost:8080/"
        },
        "outputId": "91b92562-ace2-4758-aeee-61b0ff1b9762",
        "id": "_BqZauO0HwM2"
      },
      "execution_count": null,
      "outputs": [
        {
          "output_type": "stream",
          "name": "stdout",
          "text": [
            "Validation Accuracy: 0.6895\n"
          ]
        }
      ]
    },
    {
      "cell_type": "markdown",
      "source": [
        "# Task ID38: 9976"
      ],
      "metadata": {
        "id": "1SP0wCLxUMfZ"
      }
    },
    {
      "cell_type": "code",
      "source": [
        "# Load the data from OpenML\n",
        "task_id = 9976  # Replace with your OpenML task ID\n",
        "X, y = load_data(task_id)\n",
        "\n",
        "# Preprocess the data\n",
        "X = preprocess_data(X)\n",
        "\n",
        "# Encode the target variable\n",
        "y = encode_target(y)\n",
        "\n",
        "# Split the data into training and validation sets\n",
        "X_train, X_val, y_train, y_val = train_test_split(X, y, test_size=0.2, random_state=42)\n",
        "\n",
        "# Set the device\n",
        "device = torch.device('cuda' if torch.cuda.is_available() else 'cpu')\n",
        "\n",
        "# Train the model\n",
        "model, accuracy = train_model(X_train, y_train, X_val, y_val, params)\n",
        "print(f'Validation Accuracy: {accuracy:.4f}')\n"
      ],
      "metadata": {
        "colab": {
          "base_uri": "https://localhost:8080/"
        },
        "outputId": "64846a1b-3e3b-4165-e010-0eb045a331ca",
        "id": "xWQZ9zFmHwtB"
      },
      "execution_count": null,
      "outputs": [
        {
          "output_type": "stream",
          "name": "stdout",
          "text": [
            "Validation Accuracy: 0.5404\n"
          ]
        }
      ]
    },
    {
      "cell_type": "markdown",
      "source": [
        "# Task ID39: 6"
      ],
      "metadata": {
        "id": "S65JoO55UMry"
      }
    },
    {
      "cell_type": "code",
      "source": [
        "# Load the data from OpenML\n",
        "task_id = 6  # Replace with your OpenML task ID\n",
        "X, y = load_data(task_id)\n",
        "\n",
        "# Preprocess the data\n",
        "X = preprocess_data(X)\n",
        "\n",
        "# Encode the target variable\n",
        "y = encode_target(y)\n",
        "\n",
        "# Split the data into training and validation sets\n",
        "X_train, X_val, y_train, y_val = train_test_split(X, y, test_size=0.2, random_state=42)\n",
        "\n",
        "# Set the device\n",
        "device = torch.device('cuda' if torch.cuda.is_available() else 'cpu')\n",
        "\n",
        "# Train the model\n",
        "model, accuracy = train_model(X_train, y_train, X_val, y_val, params)\n",
        "print(f'Validation Accuracy: {accuracy:.4f}')\n"
      ],
      "metadata": {
        "colab": {
          "base_uri": "https://localhost:8080/"
        },
        "outputId": "1a6af198-b707-4c78-ed97-742b95fcc8f1",
        "id": "moX0wTW2HxPu"
      },
      "execution_count": null,
      "outputs": [
        {
          "output_type": "stream",
          "name": "stdout",
          "text": [
            "Validation Accuracy: 0.2350\n"
          ]
        }
      ]
    },
    {
      "cell_type": "markdown",
      "source": [
        "# Task ID40: 53"
      ],
      "metadata": {
        "id": "BEsQTY0-UM3x"
      }
    },
    {
      "cell_type": "code",
      "source": [
        "# Load the data from OpenML\n",
        "task_id = 53  # Replace with your OpenML task ID\n",
        "X, y = load_data(task_id)\n",
        "\n",
        "# Preprocess the data\n",
        "X = preprocess_data(X)\n",
        "\n",
        "# Encode the target variable\n",
        "y = encode_target(y)\n",
        "\n",
        "# Split the data into training and validation sets\n",
        "X_train, X_val, y_train, y_val = train_test_split(X, y, test_size=0.2, random_state=42)\n",
        "\n",
        "# Set the device\n",
        "device = torch.device('cuda' if torch.cuda.is_available() else 'cpu')\n",
        "\n",
        "# Train the model\n",
        "model, accuracy = train_model(X_train, y_train, X_val, y_val, params)\n",
        "print(f'Validation Accuracy: {accuracy:.4f}')\n"
      ],
      "metadata": {
        "colab": {
          "base_uri": "https://localhost:8080/"
        },
        "outputId": "6b0337a0-23f7-449c-ec66-d1d60ca92376",
        "id": "BJUm5UdQHxwY"
      },
      "execution_count": null,
      "outputs": [
        {
          "output_type": "stream",
          "name": "stdout",
          "text": [
            "Validation Accuracy: 0.5353\n"
          ]
        }
      ]
    },
    {
      "cell_type": "markdown",
      "source": [
        "# Task ID41: 11"
      ],
      "metadata": {
        "id": "dI13mhhGUNDw"
      }
    },
    {
      "cell_type": "code",
      "source": [
        "# Load the data from OpenML\n",
        "task_id = 11  # Replace with your OpenML task ID\n",
        "X, y = load_data(task_id)\n",
        "\n",
        "# Preprocess the data\n",
        "X = preprocess_data(X)\n",
        "\n",
        "# Encode the target variable\n",
        "y = encode_target(y)\n",
        "\n",
        "# Split the data into training and validation sets\n",
        "X_train, X_val, y_train, y_val = train_test_split(X, y, test_size=0.2, random_state=42)\n",
        "\n",
        "# Set the device\n",
        "device = torch.device('cuda' if torch.cuda.is_available() else 'cpu')\n",
        "\n",
        "# Train the model\n",
        "model, accuracy = train_model(X_train, y_train, X_val, y_val, params)\n",
        "print(f'Validation Accuracy: {accuracy:.4f}')\n"
      ],
      "metadata": {
        "colab": {
          "base_uri": "https://localhost:8080/"
        },
        "outputId": "e5ff316b-13a6-4fe5-ae7a-aff3ab360cfa",
        "id": "MkfDpuVhHyNO"
      },
      "execution_count": null,
      "outputs": [
        {
          "output_type": "stream",
          "name": "stdout",
          "text": [
            "Validation Accuracy: 0.8080\n"
          ]
        }
      ]
    },
    {
      "cell_type": "markdown",
      "source": [
        "# Task ID42: 15"
      ],
      "metadata": {
        "id": "L6e6nkQbUNPt"
      }
    },
    {
      "cell_type": "code",
      "source": [
        "# Load the data from OpenML\n",
        "task_id = 15  # Replace with your OpenML task ID\n",
        "X, y = load_data(task_id)\n",
        "\n",
        "# Preprocess the data\n",
        "X = preprocess_data(X)\n",
        "\n",
        "# Encode the target variable\n",
        "y = encode_target(y)\n",
        "\n",
        "# Split the data into training and validation sets\n",
        "X_train, X_val, y_train, y_val = train_test_split(X, y, test_size=0.2, random_state=42)\n",
        "\n",
        "# Set the device\n",
        "device = torch.device('cuda' if torch.cuda.is_available() else 'cpu')\n",
        "\n",
        "# Train the model\n",
        "model, accuracy = train_model(X_train, y_train, X_val, y_val, params)\n",
        "print(f'Validation Accuracy: {accuracy:.4f}')\n"
      ],
      "metadata": {
        "colab": {
          "base_uri": "https://localhost:8080/"
        },
        "outputId": "c4d10529-ca92-47f5-f6be-62da945e48ee",
        "id": "C5c4r1LIHytP"
      },
      "execution_count": null,
      "outputs": [
        {
          "output_type": "stream",
          "name": "stdout",
          "text": [
            "Validation Accuracy: 0.9714\n"
          ]
        }
      ]
    },
    {
      "cell_type": "markdown",
      "source": [
        "# Task ID43: 16"
      ],
      "metadata": {
        "id": "iNhJDlrKUNat"
      }
    },
    {
      "cell_type": "code",
      "source": [
        "# Load the data from OpenML\n",
        "task_id = 16  # Replace with your OpenML task ID\n",
        "X, y = load_data(task_id)\n",
        "\n",
        "# Preprocess the data\n",
        "X = preprocess_data(X)\n",
        "\n",
        "# Encode the target variable\n",
        "y = encode_target(y)\n",
        "\n",
        "# Split the data into training and validation sets\n",
        "X_train, X_val, y_train, y_val = train_test_split(X, y, test_size=0.2, random_state=42)\n",
        "\n",
        "# Set the device\n",
        "device = torch.device('cuda' if torch.cuda.is_available() else 'cpu')\n",
        "\n",
        "# Train the model\n",
        "model, accuracy = train_model(X_train, y_train, X_val, y_val, params)\n",
        "print(f'Validation Accuracy: {accuracy:.4f}')\n"
      ],
      "metadata": {
        "colab": {
          "base_uri": "https://localhost:8080/"
        },
        "outputId": "7fbca2ee-6626-4278-c5ea-09d3a06d8df1",
        "id": "hNgxKXQyHzPv"
      },
      "execution_count": null,
      "outputs": [
        {
          "output_type": "stream",
          "name": "stdout",
          "text": [
            "Validation Accuracy: 0.6950\n"
          ]
        }
      ]
    },
    {
      "cell_type": "markdown",
      "source": [
        "# Task ID44: 14"
      ],
      "metadata": {
        "id": "Ng32K-haUNl5"
      }
    },
    {
      "cell_type": "code",
      "source": [
        "# Load the data from OpenML\n",
        "task_id = 14  # Replace with your OpenML task ID\n",
        "X, y = load_data(task_id)\n",
        "\n",
        "# Preprocess the data\n",
        "X = preprocess_data(X)\n",
        "\n",
        "# Encode the target variable\n",
        "y = encode_target(y)\n",
        "\n",
        "# Split the data into training and validation sets\n",
        "X_train, X_val, y_train, y_val = train_test_split(X, y, test_size=0.2, random_state=42)\n",
        "\n",
        "# Set the device\n",
        "device = torch.device('cuda' if torch.cuda.is_available() else 'cpu')\n",
        "\n",
        "# Train the model\n",
        "model, accuracy = train_model(X_train, y_train, X_val, y_val, params)\n",
        "print(f'Validation Accuracy: {accuracy:.4f}')\n"
      ],
      "metadata": {
        "colab": {
          "base_uri": "https://localhost:8080/"
        },
        "outputId": "7fe41dc6-d29a-48e1-be31-d64adc0e7786",
        "id": "baN9sPZ_Hzvw"
      },
      "execution_count": null,
      "outputs": [
        {
          "output_type": "stream",
          "name": "stdout",
          "text": [
            "Validation Accuracy: 0.5350\n"
          ]
        }
      ]
    },
    {
      "cell_type": "markdown",
      "source": [
        "# Task ID45: 32"
      ],
      "metadata": {
        "id": "WL9ZOy4AUNws"
      }
    },
    {
      "cell_type": "code",
      "source": [
        "# Load the data from OpenML\n",
        "task_id = 32  # Replace with your OpenML task ID\n",
        "X, y = load_data(task_id)\n",
        "\n",
        "# Preprocess the data\n",
        "X = preprocess_data(X)\n",
        "\n",
        "# Encode the target variable\n",
        "y = encode_target(y)\n",
        "\n",
        "# Split the data into training and validation sets\n",
        "X_train, X_val, y_train, y_val = train_test_split(X, y, test_size=0.2, random_state=42)\n",
        "\n",
        "# Set the device\n",
        "device = torch.device('cuda' if torch.cuda.is_available() else 'cpu')\n",
        "\n",
        "# Train the model\n",
        "model, accuracy = train_model(X_train, y_train, X_val, y_val, params)\n",
        "print(f'Validation Accuracy: {accuracy:.4f}')\n"
      ],
      "metadata": {
        "colab": {
          "base_uri": "https://localhost:8080/"
        },
        "outputId": "0c177075-babc-49db-c462-7c5a065d46af",
        "id": "V8oePA_GH0On"
      },
      "execution_count": null,
      "outputs": [
        {
          "output_type": "stream",
          "name": "stdout",
          "text": [
            "Validation Accuracy: 0.6221\n"
          ]
        }
      ]
    },
    {
      "cell_type": "markdown",
      "source": [
        "# Task ID46: 3549"
      ],
      "metadata": {
        "id": "ewtX2G2PUN7x"
      }
    },
    {
      "cell_type": "code",
      "source": [
        "# Load the data from OpenML\n",
        "task_id = 3549  # Replace with your OpenML task ID\n",
        "X, y = load_data(task_id)\n",
        "\n",
        "# Preprocess the data\n",
        "X = preprocess_data(X)\n",
        "\n",
        "# Encode the target variable\n",
        "y = encode_target(y)\n",
        "\n",
        "# Split the data into training and validation sets\n",
        "X_train, X_val, y_train, y_val = train_test_split(X, y, test_size=0.2, random_state=42)\n",
        "\n",
        "# Set the device\n",
        "device = torch.device('cuda' if torch.cuda.is_available() else 'cpu')\n",
        "\n",
        "# Train the model\n",
        "model, accuracy = train_model(X_train, y_train, X_val, y_val, params)\n",
        "print(f'Validation Accuracy: {accuracy:.4f}')\n"
      ],
      "metadata": {
        "colab": {
          "base_uri": "https://localhost:8080/"
        },
        "outputId": "3b979ca9-51a7-4d6f-ced5-ec0b1e476391",
        "id": "clcGS47sH1OW"
      },
      "execution_count": null,
      "outputs": [
        {
          "output_type": "stream",
          "name": "stdout",
          "text": [
            "Validation Accuracy: 0.9527\n"
          ]
        }
      ]
    },
    {
      "cell_type": "markdown",
      "source": [
        "# Task ID47: 12"
      ],
      "metadata": {
        "id": "7vNpomuQUOGc"
      }
    },
    {
      "cell_type": "code",
      "source": [
        "# Load the data from OpenML\n",
        "task_id = 12  # Replace with your OpenML task ID\n",
        "X, y = load_data(task_id)\n",
        "\n",
        "# Preprocess the data\n",
        "X = preprocess_data(X)\n",
        "\n",
        "# Encode the target variable\n",
        "y = encode_target(y)\n",
        "\n",
        "# Split the data into training and validation sets\n",
        "X_train, X_val, y_train, y_val = train_test_split(X, y, test_size=0.2, random_state=42)\n",
        "\n",
        "# Set the device\n",
        "device = torch.device('cuda' if torch.cuda.is_available() else 'cpu')\n",
        "\n",
        "# Train the model\n",
        "model, accuracy = train_model(X_train, y_train, X_val, y_val, params)\n",
        "print(f'Validation Accuracy: {accuracy:.4f}')\n"
      ],
      "metadata": {
        "colab": {
          "base_uri": "https://localhost:8080/"
        },
        "outputId": "4c9ee228-756e-45b7-d03c-9e6417b91e56",
        "id": "1mHgZqnsH1wV"
      },
      "execution_count": null,
      "outputs": [
        {
          "output_type": "stream",
          "name": "stdout",
          "text": [
            "Validation Accuracy: 0.9175\n"
          ]
        }
      ]
    },
    {
      "cell_type": "markdown",
      "source": [
        "# Task ID48: 9981"
      ],
      "metadata": {
        "id": "fWOstqIAUORB"
      }
    },
    {
      "cell_type": "code",
      "source": [
        "# Load the data from OpenML\n",
        "task_id = 9981  # Replace with your OpenML task ID\n",
        "X, y = load_data(task_id)\n",
        "\n",
        "# Preprocess the data\n",
        "X = preprocess_data(X)\n",
        "\n",
        "# Encode the target variable\n",
        "y = encode_target(y)\n",
        "\n",
        "# Split the data into training and validation sets\n",
        "X_train, X_val, y_train, y_val = train_test_split(X, y, test_size=0.2, random_state=42)\n",
        "\n",
        "# Set the device\n",
        "device = torch.device('cuda' if torch.cuda.is_available() else 'cpu')\n",
        "\n",
        "# Train the model\n",
        "model, accuracy = train_model(X_train, y_train, X_val, y_val, params)\n",
        "print(f'Validation Accuracy: {accuracy:.4f}')\n"
      ],
      "metadata": {
        "colab": {
          "base_uri": "https://localhost:8080/"
        },
        "outputId": "95cd0351-2c74-4e1b-fd51-b7d50763d335",
        "id": "RrQHBaIaH2M-"
      },
      "execution_count": null,
      "outputs": [
        {
          "output_type": "stream",
          "name": "stdout",
          "text": [
            "Validation Accuracy: 0.8102\n"
          ]
        }
      ]
    },
    {
      "cell_type": "markdown",
      "source": [
        "# Task ID49: 18"
      ],
      "metadata": {
        "id": "lhXlnoGdUObZ"
      }
    },
    {
      "cell_type": "code",
      "source": [
        "# Load the data from OpenML\n",
        "task_id = 18  # Replace with your OpenML task ID\n",
        "X, y = load_data(task_id)\n",
        "\n",
        "# Preprocess the data\n",
        "X = preprocess_data(X)\n",
        "\n",
        "# Encode the target variable\n",
        "y = encode_target(y)\n",
        "\n",
        "# Split the data into training and validation sets\n",
        "X_train, X_val, y_train, y_val = train_test_split(X, y, test_size=0.2, random_state=42)\n",
        "\n",
        "# Set the device\n",
        "device = torch.device('cuda' if torch.cuda.is_available() else 'cpu')\n",
        "\n",
        "# Train the model\n",
        "model, accuracy = train_model(X_train, y_train, X_val, y_val, params)\n",
        "print(f'Validation Accuracy: {accuracy:.4f}')\n"
      ],
      "metadata": {
        "colab": {
          "base_uri": "https://localhost:8080/"
        },
        "outputId": "b8c3f4e3-1742-4599-8c13-d1d71509c1c0",
        "id": "ExB04BleH2rH"
      },
      "execution_count": null,
      "outputs": [
        {
          "output_type": "stream",
          "name": "stdout",
          "text": [
            "Validation Accuracy: 0.3325\n"
          ]
        }
      ]
    },
    {
      "cell_type": "markdown",
      "source": [
        "# Task ID50: 28"
      ],
      "metadata": {
        "id": "WJJ0ZiGDUOnY"
      }
    },
    {
      "cell_type": "code",
      "source": [
        "# Load the data from OpenML\n",
        "task_id = 28  # Replace with your OpenML task ID\n",
        "X, y = load_data(task_id)\n",
        "\n",
        "# Preprocess the data\n",
        "X = preprocess_data(X)\n",
        "\n",
        "# Encode the target variable\n",
        "y = encode_target(y)\n",
        "\n",
        "# Split the data into training and validation sets\n",
        "X_train, X_val, y_train, y_val = train_test_split(X, y, test_size=0.2, random_state=42)\n",
        "\n",
        "# Set the device\n",
        "device = torch.device('cuda' if torch.cuda.is_available() else 'cpu')\n",
        "\n",
        "# Train the model\n",
        "model, accuracy = train_model(X_train, y_train, X_val, y_val, params)\n",
        "print(f'Validation Accuracy: {accuracy:.4f}')\n"
      ],
      "metadata": {
        "colab": {
          "base_uri": "https://localhost:8080/"
        },
        "outputId": "3b75ae79-b9b3-4625-8d86-91ce3d5965d5",
        "id": "5OPmVhIkH3JA"
      },
      "execution_count": null,
      "outputs": [
        {
          "output_type": "stream",
          "name": "stdout",
          "text": [
            "Validation Accuracy: 0.7402\n"
          ]
        }
      ]
    },
    {
      "cell_type": "markdown",
      "source": [
        "# Task ID51: 2074"
      ],
      "metadata": {
        "id": "cDW6wxhbUOzO"
      }
    },
    {
      "cell_type": "code",
      "source": [
        "# Load the data from OpenML\n",
        "task_id = 2074  # Replace with your OpenML task ID\n",
        "X, y = load_data(task_id)\n",
        "\n",
        "# Preprocess the data\n",
        "X = preprocess_data(X)\n",
        "\n",
        "# Encode the target variable\n",
        "y = encode_target(y)\n",
        "\n",
        "# Split the data into training and validation sets\n",
        "X_train, X_val, y_train, y_val = train_test_split(X, y, test_size=0.2, random_state=42)\n",
        "\n",
        "# Set the device\n",
        "device = torch.device('cuda' if torch.cuda.is_available() else 'cpu')\n",
        "\n",
        "# Train the model\n",
        "model, accuracy = train_model(X_train, y_train, X_val, y_val, params)\n",
        "print(f'Validation Accuracy: {accuracy:.4f}')\n"
      ],
      "metadata": {
        "colab": {
          "base_uri": "https://localhost:8080/"
        },
        "outputId": "915519a9-1a15-44c6-b3ca-e70f8a0ef3b0",
        "id": "bzDCLLOCH3oT"
      },
      "execution_count": null,
      "outputs": [
        {
          "output_type": "stream",
          "name": "stdout",
          "text": [
            "Validation Accuracy: 0.7729\n"
          ]
        }
      ]
    },
    {
      "cell_type": "markdown",
      "source": [
        "# Task ID52: 29"
      ],
      "metadata": {
        "id": "x8l_UBrFUO-k"
      }
    },
    {
      "cell_type": "code",
      "source": [
        "# Load the data from OpenML\n",
        "task_id = 29  # Replace with your OpenML task ID\n",
        "X, y = load_data(task_id)\n",
        "\n",
        "# Preprocess the data\n",
        "X = preprocess_data(X)\n",
        "\n",
        "# Encode the target variable\n",
        "y = encode_target(y)\n",
        "\n",
        "# Split the data into training and validation sets\n",
        "X_train, X_val, y_train, y_val = train_test_split(X, y, test_size=0.2, random_state=42)\n",
        "\n",
        "# Set the device\n",
        "device = torch.device('cuda' if torch.cuda.is_available() else 'cpu')\n",
        "\n",
        "# Train the model\n",
        "model, accuracy = train_model(X_train, y_train, X_val, y_val, params)\n",
        "print(f'Validation Accuracy: {accuracy:.4f}')\n"
      ],
      "metadata": {
        "colab": {
          "base_uri": "https://localhost:8080/"
        },
        "outputId": "acd24676-2ab6-45fa-98a8-a6bd510b7bfa",
        "id": "p88WHIEsH4Iz"
      },
      "execution_count": null,
      "outputs": [
        {
          "output_type": "stream",
          "name": "stdout",
          "text": [
            "Validation Accuracy: 0.7971\n"
          ]
        }
      ]
    },
    {
      "cell_type": "markdown",
      "source": [
        "# Task ID53: 45"
      ],
      "metadata": {
        "id": "K8UnhnOzUPJ-"
      }
    },
    {
      "cell_type": "code",
      "source": [
        "# Load the data from OpenML\n",
        "task_id = 45  # Replace with your OpenML task ID\n",
        "X, y = load_data(task_id)\n",
        "\n",
        "# Preprocess the data\n",
        "X = preprocess_data(X)\n",
        "\n",
        "# Encode the target variable\n",
        "y = encode_target(y)\n",
        "\n",
        "# Split the data into training and validation sets\n",
        "X_train, X_val, y_train, y_val = train_test_split(X, y, test_size=0.2, random_state=42)\n",
        "\n",
        "# Set the device\n",
        "device = torch.device('cuda' if torch.cuda.is_available() else 'cpu')\n",
        "\n",
        "# Train the model\n",
        "model, accuracy = train_model(X_train, y_train, X_val, y_val, params)\n",
        "print(f'Validation Accuracy: {accuracy:.4f}')\n"
      ],
      "metadata": {
        "colab": {
          "base_uri": "https://localhost:8080/"
        },
        "outputId": "d8571312-d874-4ca0-d78e-6da7bb3d9fee",
        "id": "NT_Orm3vH4ok"
      },
      "execution_count": null,
      "outputs": [
        {
          "output_type": "stream",
          "name": "stdout",
          "text": [
            "Validation Accuracy: 0.7461\n"
          ]
        }
      ]
    },
    {
      "cell_type": "markdown",
      "source": [
        "# Task ID54: 125922"
      ],
      "metadata": {
        "id": "FIX9XbrkUPVf"
      }
    },
    {
      "cell_type": "code",
      "source": [
        "# Load the data from OpenML\n",
        "task_id = 125922  # Replace with your OpenML task ID\n",
        "X, y = load_data(task_id)\n",
        "\n",
        "# Preprocess the data\n",
        "X = preprocess_data(X)\n",
        "\n",
        "# Encode the target variable\n",
        "y = encode_target(y)\n",
        "\n",
        "# Split the data into training and validation sets\n",
        "X_train, X_val, y_train, y_val = train_test_split(X, y, test_size=0.2, random_state=42)\n",
        "\n",
        "# Set the device\n",
        "device = torch.device('cuda' if torch.cuda.is_available() else 'cpu')\n",
        "\n",
        "# Train the model\n",
        "model, accuracy = train_model(X_train, y_train, X_val, y_val, params)\n",
        "print(f'Validation Accuracy: {accuracy:.4f}')\n"
      ],
      "metadata": {
        "colab": {
          "base_uri": "https://localhost:8080/"
        },
        "outputId": "8636e33d-41d1-472f-e9ac-6c16d4c43197",
        "id": "2wtk1NLPH5Ea"
      },
      "execution_count": null,
      "outputs": [
        {
          "output_type": "stream",
          "name": "stdout",
          "text": [
            "Validation Accuracy: 0.6091\n"
          ]
        }
      ]
    },
    {
      "cell_type": "markdown",
      "source": [
        "# Task ID55: 9960"
      ],
      "metadata": {
        "id": "KbGl87-KUPhg"
      }
    },
    {
      "cell_type": "code",
      "source": [
        "# Load the data from OpenML\n",
        "task_id = 9960  # Replace with your OpenML task ID\n",
        "X, y = load_data(task_id)\n",
        "\n",
        "# Preprocess the data\n",
        "X = preprocess_data(X)\n",
        "\n",
        "# Encode the target variable\n",
        "y = encode_target(y)\n",
        "\n",
        "# Split the data into training and validation sets\n",
        "X_train, X_val, y_train, y_val = train_test_split(X, y, test_size=0.2, random_state=42)\n",
        "\n",
        "# Set the device\n",
        "device = torch.device('cuda' if torch.cuda.is_available() else 'cpu')\n",
        "\n",
        "# Train the model\n",
        "model, accuracy = train_model(X_train, y_train, X_val, y_val, params)\n",
        "print(f'Validation Accuracy: {accuracy:.4f}')\n"
      ],
      "metadata": {
        "colab": {
          "base_uri": "https://localhost:8080/"
        },
        "outputId": "f5da506b-327e-4c22-8c7b-9f1685b207a4",
        "id": "lSysXnx3H5kr"
      },
      "execution_count": null,
      "outputs": [
        {
          "output_type": "stream",
          "name": "stdout",
          "text": [
            "Validation Accuracy: 0.5879\n"
          ]
        }
      ]
    },
    {
      "cell_type": "markdown",
      "source": [
        "# Task ID56: 9964"
      ],
      "metadata": {
        "id": "XykMaPm-UPuA"
      }
    },
    {
      "cell_type": "code",
      "source": [
        "# Load the data from OpenML\n",
        "task_id = 9964  # Replace with your OpenML task ID\n",
        "X, y = load_data(task_id)\n",
        "\n",
        "# Preprocess the data\n",
        "X = preprocess_data(X)\n",
        "\n",
        "# Encode the target variable\n",
        "y = encode_target(y)\n",
        "\n",
        "# Split the data into training and validation sets\n",
        "X_train, X_val, y_train, y_val = train_test_split(X, y, test_size=0.2, random_state=42)\n",
        "\n",
        "# Set the device\n",
        "device = torch.device('cuda' if torch.cuda.is_available() else 'cpu')\n",
        "\n",
        "# Train the model\n",
        "model, accuracy = train_model(X_train, y_train, X_val, y_val, params)\n",
        "print(f'Validation Accuracy: {accuracy:.4f}')\n"
      ],
      "metadata": {
        "colab": {
          "base_uri": "https://localhost:8080/"
        },
        "outputId": "49a92be1-6ff4-46d4-a08e-6b8dbba7156c",
        "id": "eZzUqc_9H6FS"
      },
      "execution_count": null,
      "outputs": [
        {
          "output_type": "stream",
          "name": "stdout",
          "text": [
            "Validation Accuracy: 0.7962\n"
          ]
        }
      ]
    },
    {
      "cell_type": "markdown",
      "source": [
        "# Task ID57: 22"
      ],
      "metadata": {
        "id": "sgLsaY6mUP5o"
      }
    },
    {
      "cell_type": "code",
      "source": [
        "# Load the data from OpenML\n",
        "task_id = 22  # Replace with your OpenML task ID\n",
        "X, y = load_data(task_id)\n",
        "\n",
        "# Preprocess the data\n",
        "X = preprocess_data(X)\n",
        "\n",
        "# Encode the target variable\n",
        "y = encode_target(y)\n",
        "\n",
        "# Split the data into training and validation sets\n",
        "X_train, X_val, y_train, y_val = train_test_split(X, y, test_size=0.2, random_state=42)\n",
        "\n",
        "# Set the device\n",
        "device = torch.device('cuda' if torch.cuda.is_available() else 'cpu')\n",
        "\n",
        "# Train the model\n",
        "model, accuracy = train_model(X_train, y_train, X_val, y_val, params)\n",
        "print(f'Validation Accuracy: {accuracy:.4f}')\n"
      ],
      "metadata": {
        "colab": {
          "base_uri": "https://localhost:8080/"
        },
        "outputId": "c5c15c67-bf25-4ac0-9787-6b05a8b09ce2",
        "id": "_y8XDjtqH7Iu"
      },
      "execution_count": null,
      "outputs": [
        {
          "output_type": "stream",
          "name": "stdout",
          "text": [
            "Validation Accuracy: 0.6225\n"
          ]
        }
      ]
    },
    {
      "cell_type": "markdown",
      "source": [
        "# Task ID58: 2079"
      ],
      "metadata": {
        "id": "iPjBiyKOUQGo"
      }
    },
    {
      "cell_type": "code",
      "source": [
        "# Load the data from OpenML\n",
        "task_id = 2079  # Replace with your OpenML task ID\n",
        "X, y = load_data(task_id)\n",
        "\n",
        "# Preprocess the data\n",
        "X = preprocess_data(X)\n",
        "\n",
        "# Encode the target variable\n",
        "y = encode_target(y)\n",
        "\n",
        "# Split the data into training and validation sets\n",
        "X_train, X_val, y_train, y_val = train_test_split(X, y, test_size=0.2, random_state=42)\n",
        "\n",
        "# Set the device\n",
        "device = torch.device('cuda' if torch.cuda.is_available() else 'cpu')\n",
        "\n",
        "# Train the model\n",
        "model, accuracy = train_model(X_train, y_train, X_val, y_val, params)\n",
        "print(f'Validation Accuracy: {accuracy:.4f}')\n"
      ],
      "metadata": {
        "colab": {
          "base_uri": "https://localhost:8080/"
        },
        "outputId": "c0794bb9-8389-4a15-fa08-5936289b2a0f",
        "id": "QgsB6k0mH7nQ"
      },
      "execution_count": null,
      "outputs": [
        {
          "output_type": "stream",
          "name": "stdout",
          "text": [
            "Validation Accuracy: 0.5270\n"
          ]
        }
      ]
    },
    {
      "cell_type": "markdown",
      "source": [
        "# Task ID59: 14969"
      ],
      "metadata": {
        "id": "DCBskzEeUQTb"
      }
    },
    {
      "cell_type": "code",
      "source": [
        "# Load the data from OpenML\n",
        "task_id = 14969  # Replace with your OpenML task ID\n",
        "X, y = load_data(task_id)\n",
        "\n",
        "# Preprocess the data\n",
        "X = preprocess_data(X)\n",
        "\n",
        "# Encode the target variable\n",
        "y = encode_target(y)\n",
        "\n",
        "# Split the data into training and validation sets\n",
        "X_train, X_val, y_train, y_val = train_test_split(X, y, test_size=0.2, random_state=42)\n",
        "\n",
        "# Set the device\n",
        "device = torch.device('cuda' if torch.cuda.is_available() else 'cpu')\n",
        "\n",
        "# Train the model\n",
        "model, accuracy = train_model(X_train, y_train, X_val, y_val, params)\n",
        "print(f'Validation Accuracy: {accuracy:.4f}')\n"
      ],
      "metadata": {
        "colab": {
          "base_uri": "https://localhost:8080/"
        },
        "outputId": "d5bf006b-7181-4cae-ceb5-52c726a6d4ad",
        "id": "tWybzgj4H8Jw"
      },
      "execution_count": null,
      "outputs": [
        {
          "output_type": "stream",
          "name": "stdout",
          "text": [
            "Validation Accuracy: 0.4608\n"
          ]
        }
      ]
    },
    {
      "cell_type": "markdown",
      "source": [
        "# Task ID60: 3560"
      ],
      "metadata": {
        "id": "3scdUqaAUQfh"
      }
    },
    {
      "cell_type": "code",
      "source": [
        "# Load the data from OpenML\n",
        "task_id = 3560  # Replace with your OpenML task ID\n",
        "X, y = load_data(task_id)\n",
        "\n",
        "# Preprocess the data\n",
        "X = preprocess_data(X)\n",
        "\n",
        "# Encode the target variable\n",
        "y = encode_target(y)\n",
        "\n",
        "# Split the data into training and validation sets\n",
        "X_train, X_val, y_train, y_val = train_test_split(X, y, test_size=0.2, random_state=42)\n",
        "\n",
        "# Set the device\n",
        "device = torch.device('cuda' if torch.cuda.is_available() else 'cpu')\n",
        "\n",
        "# Train the model\n",
        "model, accuracy = train_model(X_train, y_train, X_val, y_val, params)\n",
        "print(f'Validation Accuracy: {accuracy:.4f}')\n"
      ],
      "metadata": {
        "colab": {
          "base_uri": "https://localhost:8080/"
        },
        "outputId": "990b9d2f-8dd1-414b-fa1c-b9c8119efdb0",
        "id": "j_rT5ICUH8mq"
      },
      "execution_count": null,
      "outputs": [
        {
          "output_type": "stream",
          "name": "stdout",
          "text": [
            "Validation Accuracy: 0.2125\n"
          ]
        }
      ]
    },
    {
      "cell_type": "markdown",
      "source": [
        "# Task ID61: 14952"
      ],
      "metadata": {
        "id": "cyp2ScRKUQtY"
      }
    },
    {
      "cell_type": "code",
      "source": [
        "# Load the data from OpenML\n",
        "task_id = 14952  # Replace with your OpenML task ID\n",
        "X, y = load_data(task_id)\n",
        "\n",
        "# Preprocess the data\n",
        "X = preprocess_data(X)\n",
        "\n",
        "# Encode the target variable\n",
        "y = encode_target(y)\n",
        "\n",
        "# Split the data into training and validation sets\n",
        "X_train, X_val, y_train, y_val = train_test_split(X, y, test_size=0.2, random_state=42)\n",
        "\n",
        "# Set the device\n",
        "device = torch.device('cuda' if torch.cuda.is_available() else 'cpu')\n",
        "\n",
        "# Train the model\n",
        "model, accuracy = train_model(X_train, y_train, X_val, y_val, params)\n",
        "print(f'Validation Accuracy: {accuracy:.4f}')\n"
      ],
      "metadata": {
        "colab": {
          "base_uri": "https://localhost:8080/"
        },
        "outputId": "8468a2ba-a0fb-44c5-81fd-dc7a0624cc7b",
        "id": "I7hHeP0rH9Gr"
      },
      "execution_count": null,
      "outputs": [
        {
          "output_type": "stream",
          "name": "stdout",
          "text": [
            "Validation Accuracy: 0.8123\n"
          ]
        }
      ]
    },
    {
      "cell_type": "markdown",
      "source": [
        "# Task ID62: 125920"
      ],
      "metadata": {
        "id": "wmm8YmtYdYqs"
      }
    },
    {
      "cell_type": "code",
      "source": [
        "# Load the data from OpenML\n",
        "task_id = 125920  # Replace with your OpenML task ID\n",
        "X, y = load_data(task_id)\n",
        "\n",
        "# Preprocess the data\n",
        "X = preprocess_data(X)\n",
        "\n",
        "# Encode the target variable\n",
        "y = encode_target(y)\n",
        "\n",
        "# Split the data into training and validation sets\n",
        "X_train, X_val, y_train, y_val = train_test_split(X, y, test_size=0.2, random_state=42)\n",
        "\n",
        "# Set the device\n",
        "device = torch.device('cuda' if torch.cuda.is_available() else 'cpu')\n",
        "\n",
        "# Train the model\n",
        "model, accuracy = train_model(X_train, y_train, X_val, y_val, params)\n",
        "print(f'Validation Accuracy: {accuracy:.4f}')\n"
      ],
      "metadata": {
        "colab": {
          "base_uri": "https://localhost:8080/"
        },
        "outputId": "9ad66a0e-abb6-40ef-e339-e9627666d725",
        "id": "o8qHDM56H9lf"
      },
      "execution_count": null,
      "outputs": [
        {
          "output_type": "stream",
          "name": "stdout",
          "text": [
            "Validation Accuracy: 0.5400\n"
          ]
        }
      ]
    },
    {
      "cell_type": "markdown",
      "source": [
        "# Task ID63: 23"
      ],
      "metadata": {
        "id": "OOeFMqFydZr3"
      }
    },
    {
      "cell_type": "code",
      "source": [
        "# Load the data from OpenML\n",
        "task_id = 23  # Replace with your OpenML task ID\n",
        "X, y = load_data(task_id)\n",
        "\n",
        "# Preprocess the data\n",
        "X = preprocess_data(X)\n",
        "\n",
        "# Encode the target variable\n",
        "y = encode_target(y)\n",
        "\n",
        "# Split the data into training and validation sets\n",
        "X_train, X_val, y_train, y_val = train_test_split(X, y, test_size=0.2, random_state=42)\n",
        "\n",
        "# Set the device\n",
        "device = torch.device('cuda' if torch.cuda.is_available() else 'cpu')\n",
        "\n",
        "# Train the model\n",
        "model, accuracy = train_model(X_train, y_train, X_val, y_val, params)\n",
        "print(f'Validation Accuracy: {accuracy:.4f}')\n"
      ],
      "metadata": {
        "colab": {
          "base_uri": "https://localhost:8080/"
        },
        "outputId": "b9c06e68-2720-41c2-e3d7-6633e0610319",
        "id": "RF_Kp4-5H9_1"
      },
      "execution_count": null,
      "outputs": [
        {
          "output_type": "stream",
          "name": "stdout",
          "text": [
            "Validation Accuracy: 0.4576\n"
          ]
        }
      ]
    },
    {
      "cell_type": "markdown",
      "source": [
        "# Task ID64: 3904"
      ],
      "metadata": {
        "id": "j0ZiCc7_dZ5N"
      }
    },
    {
      "cell_type": "code",
      "source": [
        "# Load the data from OpenML\n",
        "task_id = 3904  # Replace with your OpenML task ID\n",
        "X, y = load_data(task_id)\n",
        "\n",
        "# Preprocess the data\n",
        "X = preprocess_data(X)\n",
        "\n",
        "# Encode the target variable\n",
        "y = encode_target(y)\n",
        "\n",
        "# Split the data into training and validation sets\n",
        "X_train, X_val, y_train, y_val = train_test_split(X, y, test_size=0.2, random_state=42)\n",
        "\n",
        "# Set the device\n",
        "device = torch.device('cuda' if torch.cuda.is_available() else 'cpu')\n",
        "\n",
        "# Train the model\n",
        "model, accuracy = train_model(X_train, y_train, X_val, y_val, params)\n",
        "print(f'Validation Accuracy: {accuracy:.4f}')\n"
      ],
      "metadata": {
        "colab": {
          "base_uri": "https://localhost:8080/"
        },
        "outputId": "e4ddf022-12f0-4307-a715-0f261f9a82cd",
        "id": "TuauG3ERH-cC"
      },
      "execution_count": null,
      "outputs": [
        {
          "output_type": "stream",
          "name": "stdout",
          "text": [
            "Validation Accuracy: 0.8130\n"
          ]
        }
      ]
    },
    {
      "cell_type": "markdown",
      "source": [
        "# Task ID65: 3022"
      ],
      "metadata": {
        "id": "JgmWq_NbdaFn"
      }
    },
    {
      "cell_type": "code",
      "source": [
        "# Load the data from OpenML\n",
        "task_id = 3022  # Replace with your OpenML task ID\n",
        "X, y = load_data(task_id)\n",
        "\n",
        "# Preprocess the data\n",
        "X = preprocess_data(X)\n",
        "\n",
        "# Encode the target variable\n",
        "y = encode_target(y)\n",
        "\n",
        "# Split the data into training and validation sets\n",
        "X_train, X_val, y_train, y_val = train_test_split(X, y, test_size=0.2, random_state=42)\n",
        "\n",
        "# Set the device\n",
        "device = torch.device('cuda' if torch.cuda.is_available() else 'cpu')\n",
        "\n",
        "# Train the model\n",
        "model, accuracy = train_model(X_train, y_train, X_val, y_val, params)\n",
        "print(f'Validation Accuracy: {accuracy:.4f}')\n"
      ],
      "metadata": {
        "colab": {
          "base_uri": "https://localhost:8080/"
        },
        "outputId": "01c73f89-072d-451a-c690-708414a43e05",
        "id": "2gTfon4JH-4N"
      },
      "execution_count": null,
      "outputs": [
        {
          "output_type": "stream",
          "name": "stdout",
          "text": [
            "Validation Accuracy: 0.2475\n"
          ]
        }
      ]
    },
    {
      "cell_type": "markdown",
      "source": [
        "# Task ID66: 9985"
      ],
      "metadata": {
        "id": "k1saJ1SSdaTj"
      }
    },
    {
      "cell_type": "code",
      "source": [
        "# Load the data from OpenML\n",
        "task_id = 9985  # Replace with your OpenML task ID\n",
        "X, y = load_data(task_id)\n",
        "\n",
        "# Preprocess the data\n",
        "X = preprocess_data(X)\n",
        "\n",
        "# Encode the target variable\n",
        "y = encode_target(y)\n",
        "\n",
        "# Split the data into training and validation sets\n",
        "X_train, X_val, y_train, y_val = train_test_split(X, y, test_size=0.2, random_state=42)\n",
        "\n",
        "# Set the device\n",
        "device = torch.device('cuda' if torch.cuda.is_available() else 'cpu')\n",
        "\n",
        "# Train the model\n",
        "model, accuracy = train_model(X_train, y_train, X_val, y_val, params)\n",
        "print(f'Validation Accuracy: {accuracy:.4f}')\n"
      ],
      "metadata": {
        "colab": {
          "base_uri": "https://localhost:8080/"
        },
        "outputId": "3fff8bfd-a36c-46eb-9544-43d67a5c5cbb",
        "id": "8-M6ZN-TH_Qe"
      },
      "execution_count": null,
      "outputs": [
        {
          "output_type": "stream",
          "name": "stdout",
          "text": [
            "Validation Accuracy: 0.4044\n"
          ]
        }
      ]
    },
    {
      "cell_type": "markdown",
      "source": [
        "# Task ID67: 9910"
      ],
      "metadata": {
        "id": "NmZiZ5TQdagj"
      }
    },
    {
      "cell_type": "code",
      "source": [
        "# Load the data from OpenML\n",
        "task_id = 9910  # Replace with your OpenML task ID\n",
        "X, y = load_data(task_id)\n",
        "\n",
        "# Preprocess the data\n",
        "X = preprocess_data(X)\n",
        "\n",
        "# Encode the target variable\n",
        "y = encode_target(y)\n",
        "\n",
        "# Split the data into training and validation sets\n",
        "X_train, X_val, y_train, y_val = train_test_split(X, y, test_size=0.2, random_state=42)\n",
        "\n",
        "# Set the device\n",
        "device = torch.device('cuda' if torch.cuda.is_available() else 'cpu')\n",
        "\n",
        "# Train the model\n",
        "model, accuracy = train_model(X_train, y_train, X_val, y_val, params)\n",
        "print(f'Validation Accuracy: {accuracy:.4f}')\n"
      ],
      "metadata": {
        "colab": {
          "base_uri": "https://localhost:8080/"
        },
        "outputId": "0474d79b-033e-41d3-f713-456d06daffd8",
        "id": "3_kcCUfvH_qm"
      },
      "execution_count": null,
      "outputs": [
        {
          "output_type": "stream",
          "name": "stdout",
          "text": [
            "Validation Accuracy: 0.7790\n"
          ]
        }
      ]
    },
    {
      "cell_type": "markdown",
      "source": [
        "# Task ID68: 14970"
      ],
      "metadata": {
        "id": "hbFnAU79das-"
      }
    },
    {
      "cell_type": "code",
      "source": [
        "# Load the data from OpenML\n",
        "task_id = 14970  # Replace with your OpenML task ID\n",
        "X, y = load_data(task_id)\n",
        "\n",
        "# Preprocess the data\n",
        "X = preprocess_data(X)\n",
        "\n",
        "# Encode the target variable\n",
        "y = encode_target(y)\n",
        "\n",
        "# Split the data into training and validation sets\n",
        "X_train, X_val, y_train, y_val = train_test_split(X, y, test_size=0.2, random_state=42)\n",
        "\n",
        "# Set the device\n",
        "device = torch.device('cuda' if torch.cuda.is_available() else 'cpu')\n",
        "\n",
        "# Train the model\n",
        "model, accuracy = train_model(X_train, y_train, X_val, y_val, params)\n",
        "print(f'Validation Accuracy: {accuracy:.4f}')\n"
      ],
      "metadata": {
        "colab": {
          "base_uri": "https://localhost:8080/"
        },
        "outputId": "20835496-7c5a-4776-8ba6-d3a094c160a3",
        "id": "oLGtRvzdIAd6"
      },
      "execution_count": null,
      "outputs": [
        {
          "output_type": "stream",
          "name": "stdout",
          "text": [
            "Validation Accuracy: 0.9170\n"
          ]
        }
      ]
    },
    {
      "cell_type": "markdown",
      "source": [
        "# Task ID69: 3021"
      ],
      "metadata": {
        "id": "HXGqTwEwda5r"
      }
    },
    {
      "cell_type": "code",
      "source": [
        "# Load the data from OpenML\n",
        "task_id = 3021  # Replace with your OpenML task ID\n",
        "X, y = load_data(task_id)\n",
        "\n",
        "# Preprocess the data\n",
        "X = preprocess_data(X)\n",
        "\n",
        "# Encode the target variable\n",
        "y = encode_target(y)\n",
        "\n",
        "# Split the data into training and validation sets\n",
        "X_train, X_val, y_train, y_val = train_test_split(X, y, test_size=0.2, random_state=42)\n",
        "\n",
        "# Set the device\n",
        "device = torch.device('cuda' if torch.cuda.is_available() else 'cpu')\n",
        "\n",
        "# Train the model\n",
        "model, accuracy = train_model(X_train, y_train, X_val, y_val, params)\n",
        "print(f'Validation Accuracy: {accuracy:.4f}')\n"
      ],
      "metadata": {
        "colab": {
          "base_uri": "https://localhost:8080/"
        },
        "outputId": "dbecc5c7-30a7-42c6-e6eb-312e3e29e3d9",
        "id": "tFnSGryKIA4C"
      },
      "execution_count": null,
      "outputs": [
        {
          "output_type": "stream",
          "name": "stdout",
          "text": [
            "Validation Accuracy: 0.9497\n"
          ]
        }
      ]
    },
    {
      "cell_type": "markdown",
      "source": [
        "# Task ID70: 3481"
      ],
      "metadata": {
        "id": "_SGwxPNTdbG5"
      }
    },
    {
      "cell_type": "code",
      "source": [
        "# Load the data from OpenML\n",
        "task_id = 3481  # Replace with your OpenML task ID\n",
        "X, y = load_data(task_id)\n",
        "\n",
        "# Preprocess the data\n",
        "X = preprocess_data(X)\n",
        "\n",
        "# Encode the target variable\n",
        "y = encode_target(y)\n",
        "\n",
        "# Split the data into training and validation sets\n",
        "X_train, X_val, y_train, y_val = train_test_split(X, y, test_size=0.2, random_state=42)\n",
        "\n",
        "# Set the device\n",
        "device = torch.device('cuda' if torch.cuda.is_available() else 'cpu')\n",
        "\n",
        "# Train the model\n",
        "model, accuracy = train_model(X_train, y_train, X_val, y_val, params)\n",
        "print(f'Validation Accuracy: {accuracy:.4f}')\n"
      ],
      "metadata": {
        "colab": {
          "base_uri": "https://localhost:8080/"
        },
        "outputId": "5d1edbd1-3b75-412f-b5af-e40e625c73bf",
        "id": "47OspdLIIBW5"
      },
      "execution_count": null,
      "outputs": [
        {
          "output_type": "stream",
          "name": "stdout",
          "text": [
            "Validation Accuracy: 0.8154\n"
          ]
        }
      ]
    },
    {
      "cell_type": "markdown",
      "source": [
        "# Task ID71: 3573"
      ],
      "metadata": {
        "id": "pRv7Cn0GdbT-"
      }
    },
    {
      "cell_type": "code",
      "source": [
        "# Load the data from OpenML\n",
        "task_id = 3573  # Replace with your OpenML task ID\n",
        "X, y = load_data(task_id)\n",
        "\n",
        "# Preprocess the data\n",
        "X = preprocess_data(X)\n",
        "\n",
        "# Encode the target variable\n",
        "y = encode_target(y)\n",
        "\n",
        "# Split the data into training and validation sets\n",
        "X_train, X_val, y_train, y_val = train_test_split(X, y, test_size=0.2, random_state=42)\n",
        "\n",
        "# Set the device\n",
        "device = torch.device('cuda' if torch.cuda.is_available() else 'cpu')\n",
        "\n",
        "# Train the model\n",
        "model, accuracy = train_model(X_train, y_train, X_val, y_val, params)\n",
        "print(f'Validation Accuracy: {accuracy:.4f}')\n"
      ],
      "metadata": {
        "id": "m3C1EjLNIB7N"
      },
      "execution_count": null,
      "outputs": []
    },
    {
      "cell_type": "markdown",
      "source": [
        "# Task ID72: 146824"
      ],
      "metadata": {
        "id": "yyid9hePdbi9"
      }
    },
    {
      "cell_type": "code",
      "source": [
        "# Load the data from OpenML\n",
        "task_id = 146824  # Replace with your OpenML task ID\n",
        "X, y = load_data(task_id)\n",
        "\n",
        "# Preprocess the data\n",
        "X = preprocess_data(X)\n",
        "\n",
        "# Encode the target variable\n",
        "y = encode_target(y)\n",
        "\n",
        "# Split the data into training and validation sets\n",
        "X_train, X_val, y_train, y_val = train_test_split(X, y, test_size=0.2, random_state=42)\n",
        "\n",
        "# Set the device\n",
        "device = torch.device('cuda' if torch.cuda.is_available() else 'cpu')\n",
        "\n",
        "# Train the model\n",
        "model, accuracy = train_model(X_train, y_train, X_val, y_val, params)\n",
        "print(f'Validation Accuracy: {accuracy:.4f}')\n"
      ],
      "metadata": {
        "colab": {
          "base_uri": "https://localhost:8080/"
        },
        "outputId": "82c91bfa-0d1b-4f62-9041-e8ae17399895",
        "id": "TVlHkAi5ICVc"
      },
      "execution_count": null,
      "outputs": [
        {
          "output_type": "stream",
          "name": "stdout",
          "text": [
            "Validation Accuracy: 0.9300\n"
          ]
        }
      ]
    },
    {
      "cell_type": "markdown",
      "source": [
        "# Task ID73: 146820"
      ],
      "metadata": {
        "id": "ZErycBTkjcTT"
      }
    },
    {
      "cell_type": "code",
      "source": [
        "# Load the data from OpenML\n",
        "task_id = 146820 # Replace with your OpenML task ID\n",
        "X, y = load_data(task_id)\n",
        "\n",
        "# Preprocess the data\n",
        "X = preprocess_data(X)\n",
        "\n",
        "# Encode the target variable\n",
        "y = encode_target(y)\n",
        "\n",
        "# Split the data into training and validation sets\n",
        "X_train, X_val, y_train, y_val = train_test_split(X, y, test_size=0.2, random_state=42)\n",
        "\n",
        "# Set the device\n",
        "device = torch.device('cuda' if torch.cuda.is_available() else 'cpu')\n",
        "\n",
        "# Train the model\n",
        "model, accuracy = train_model(X_train, y_train, X_val, y_val, params)\n",
        "print(f'Validation Accuracy: {accuracy:.4f}')\n"
      ],
      "metadata": {
        "colab": {
          "base_uri": "https://localhost:8080/"
        },
        "outputId": "62e86746-6e26-4cab-9be2-d3bab75f6095",
        "id": "PL3FRvEyIC0Z"
      },
      "execution_count": null,
      "outputs": [
        {
          "output_type": "stream",
          "name": "stdout",
          "text": [
            "Validation Accuracy: 0.9473\n"
          ]
        }
      ]
    },
    {
      "cell_type": "markdown",
      "source": [
        "# Task ID74: 146822"
      ],
      "metadata": {
        "id": "ApnHqxGOjclf"
      }
    },
    {
      "cell_type": "code",
      "source": [
        "# Load the data from OpenML\n",
        "task_id = 146822  # Replace with your OpenML task ID\n",
        "X, y = load_data(task_id)\n",
        "\n",
        "# Preprocess the data\n",
        "X = preprocess_data(X)\n",
        "\n",
        "# Encode the target variable\n",
        "y = encode_target(y)\n",
        "\n",
        "# Split the data into training and validation sets\n",
        "X_train, X_val, y_train, y_val = train_test_split(X, y, test_size=0.2, random_state=42)\n",
        "\n",
        "# Set the device\n",
        "device = torch.device('cuda' if torch.cuda.is_available() else 'cpu')\n",
        "\n",
        "# Train the model\n",
        "model, accuracy = train_model(X_train, y_train, X_val, y_val, params)\n",
        "print(f'Validation Accuracy: {accuracy:.4f}')\n"
      ],
      "metadata": {
        "colab": {
          "base_uri": "https://localhost:8080/"
        },
        "outputId": "a42a190c-7972-4913-d152-2655f0924b50",
        "id": "6Lfq8yuOIDPL"
      },
      "execution_count": null,
      "outputs": [
        {
          "output_type": "stream",
          "name": "stdout",
          "text": [
            "Validation Accuracy: 0.5455\n"
          ]
        }
      ]
    },
    {
      "cell_type": "markdown",
      "source": [
        "# Task ID75: 146195"
      ],
      "metadata": {
        "id": "Ybce50ysjc0s"
      }
    },
    {
      "cell_type": "code",
      "source": [
        "# Load the data from OpenML\n",
        "task_id = 146195  # Replace with your OpenML task ID\n",
        "X, y = load_data(task_id)\n",
        "\n",
        "# Preprocess the data\n",
        "X = preprocess_data(X)\n",
        "\n",
        "# Encode the target variable\n",
        "y = encode_target(y)\n",
        "\n",
        "# Split the data into training and validation sets\n",
        "X_train, X_val, y_train, y_val = train_test_split(X, y, test_size=0.2, random_state=42)\n",
        "\n",
        "# Set the device\n",
        "device = torch.device('cuda' if torch.cuda.is_available() else 'cpu')\n",
        "\n",
        "# Train the model\n",
        "model, accuracy = train_model(X_train, y_train, X_val, y_val, params)\n",
        "print(f'Validation Accuracy: {accuracy:.4f}')\n"
      ],
      "metadata": {
        "colab": {
          "base_uri": "https://localhost:8080/"
        },
        "outputId": "8657b092-1b12-4011-822d-ec6783044bf6",
        "id": "6xltrPqbIDrO"
      },
      "execution_count": null,
      "outputs": [
        {
          "output_type": "stream",
          "name": "stdout",
          "text": [
            "Validation Accuracy: 0.6934\n"
          ]
        }
      ]
    },
    {
      "cell_type": "markdown",
      "source": [
        "# Task ID76: 146800"
      ],
      "metadata": {
        "id": "hS7jGUhzjdCn"
      }
    },
    {
      "cell_type": "code",
      "source": [
        "# Load the data from OpenML\n",
        "task_id = 146800  # Replace with your OpenML task ID\n",
        "X, y = load_data(task_id)\n",
        "\n",
        "# Preprocess the data\n",
        "X = preprocess_data(X)\n",
        "\n",
        "# Encode the target variable\n",
        "y = encode_target(y)\n",
        "\n",
        "# Split the data into training and validation sets\n",
        "X_train, X_val, y_train, y_val = train_test_split(X, y, test_size=0.2, random_state=42)\n",
        "\n",
        "# Set the device\n",
        "device = torch.device('cuda' if torch.cuda.is_available() else 'cpu')\n",
        "\n",
        "# Train the model\n",
        "model, accuracy = train_model(X_train, y_train, X_val, y_val, params)\n",
        "print(f'Validation Accuracy: {accuracy:.4f}')\n"
      ],
      "metadata": {
        "colab": {
          "base_uri": "https://localhost:8080/"
        },
        "outputId": "453ba230-f2b6-4c3a-fee6-042a8eb93a47",
        "id": "fWEklxIbIEmd"
      },
      "execution_count": null,
      "outputs": [
        {
          "output_type": "stream",
          "name": "stdout",
          "text": [
            "Validation Accuracy: 0.6481\n"
          ]
        }
      ]
    },
    {
      "cell_type": "markdown",
      "source": [
        "# Task ID77: 146817"
      ],
      "metadata": {
        "id": "Cp2KgzM5jdPc"
      }
    },
    {
      "cell_type": "code",
      "source": [
        "# Load the data from OpenML\n",
        "task_id = 146817  # Replace with your OpenML task ID\n",
        "X, y = load_data(task_id)\n",
        "\n",
        "# Preprocess the data\n",
        "X = preprocess_data(X)\n",
        "\n",
        "# Encode the target variable\n",
        "y = encode_target(y)\n",
        "\n",
        "# Split the data into training and validation sets\n",
        "X_train, X_val, y_train, y_val = train_test_split(X, y, test_size=0.2, random_state=42)\n",
        "\n",
        "# Set the device\n",
        "device = torch.device('cuda' if torch.cuda.is_available() else 'cpu')\n",
        "\n",
        "# Train the model\n",
        "model, accuracy = train_model(X_train, y_train, X_val, y_val, params)\n",
        "print(f'Validation Accuracy: {accuracy:.4f}')\n"
      ],
      "metadata": {
        "colab": {
          "base_uri": "https://localhost:8080/"
        },
        "outputId": "3ce2b042-8ced-4d6a-fd64-eaa2c97f47fb",
        "id": "myy0QY3_IFCm"
      },
      "execution_count": null,
      "outputs": [
        {
          "output_type": "stream",
          "name": "stdout",
          "text": [
            "Validation Accuracy: 0.5784\n"
          ]
        }
      ]
    },
    {
      "cell_type": "markdown",
      "source": [
        "# Task ID78: 146819"
      ],
      "metadata": {
        "id": "yXXQpbjwjdb3"
      }
    },
    {
      "cell_type": "code",
      "source": [
        "# Load the data from OpenML\n",
        "task_id = 146819  # Replace with your OpenML task ID\n",
        "X, y = load_data(task_id)\n",
        "\n",
        "# Preprocess the data\n",
        "X = preprocess_data(X)\n",
        "\n",
        "# Encode the target variable\n",
        "y = encode_target(y)\n",
        "\n",
        "# Split the data into training and validation sets\n",
        "X_train, X_val, y_train, y_val = train_test_split(X, y, test_size=0.2, random_state=42)\n",
        "\n",
        "# Set the device\n",
        "device = torch.device('cuda' if torch.cuda.is_available() else 'cpu')\n",
        "\n",
        "# Train the model\n",
        "model, accuracy = train_model(X_train, y_train, X_val, y_val, params)\n",
        "print(f'Validation Accuracy: {accuracy:.4f}')\n"
      ],
      "metadata": {
        "colab": {
          "base_uri": "https://localhost:8080/"
        },
        "outputId": "029c24dd-b02c-40de-b93d-48094e8ade40",
        "id": "YJM3ekx9IFfZ"
      },
      "execution_count": null,
      "outputs": [
        {
          "output_type": "stream",
          "name": "stdout",
          "text": [
            "Validation Accuracy: 0.9074\n"
          ]
        }
      ]
    },
    {
      "cell_type": "markdown",
      "source": [
        "# Task ID79: 146821"
      ],
      "metadata": {
        "id": "FQWP6NUVjdoM"
      }
    },
    {
      "cell_type": "code",
      "source": [
        "# Load the data from OpenML\n",
        "task_id = 146821  # Replace with your OpenML task ID\n",
        "X, y = load_data(task_id)\n",
        "\n",
        "# Preprocess the data\n",
        "X = preprocess_data(X)\n",
        "\n",
        "# Encode the target variable\n",
        "y = encode_target(y)\n",
        "\n",
        "# Split the data into training and validation sets\n",
        "X_train, X_val, y_train, y_val = train_test_split(X, y, test_size=0.2, random_state=42)\n",
        "\n",
        "# Set the device\n",
        "device = torch.device('cuda' if torch.cuda.is_available() else 'cpu')\n",
        "\n",
        "# Train the model\n",
        "model, accuracy = train_model(X_train, y_train, X_val, y_val, params)\n",
        "print(f'Validation Accuracy: {accuracy:.4f}')\n"
      ],
      "metadata": {
        "colab": {
          "base_uri": "https://localhost:8080/"
        },
        "outputId": "8e37e739-9f08-4b22-8ee7-a80a0861e3d1",
        "id": "72KBoLqkIF7R"
      },
      "execution_count": null,
      "outputs": [
        {
          "output_type": "stream",
          "name": "stdout",
          "text": [
            "Validation Accuracy: 0.6821\n"
          ]
        }
      ]
    },
    {
      "cell_type": "markdown",
      "source": [
        "# Task ID80: 14954"
      ],
      "metadata": {
        "id": "R1dUVRBFjd0n"
      }
    },
    {
      "cell_type": "code",
      "source": [
        "# Load the data from OpenML\n",
        "task_id = 14954  # Replace with your OpenML task ID\n",
        "X, y = load_data(task_id)\n",
        "\n",
        "# Preprocess the data\n",
        "X = preprocess_data(X)\n",
        "\n",
        "# Encode the target variable\n",
        "y = encode_target(y)\n",
        "\n",
        "# Split the data into training and validation sets\n",
        "X_train, X_val, y_train, y_val = train_test_split(X, y, test_size=0.2, random_state=42)\n",
        "\n",
        "# Set the device\n",
        "device = torch.device('cuda' if torch.cuda.is_available() else 'cpu')\n",
        "\n",
        "# Train the model\n",
        "model, accuracy = train_model(X_train, y_train, X_val, y_val, params)\n",
        "print(f'Validation Accuracy: {accuracy:.4f}')\n"
      ],
      "metadata": {
        "colab": {
          "base_uri": "https://localhost:8080/"
        },
        "outputId": "31cba0b2-a077-4f75-bb3f-9cdffa24bfa7",
        "id": "vxZtgLxdIGX3"
      },
      "execution_count": null,
      "outputs": [
        {
          "output_type": "stream",
          "name": "stdout",
          "text": [
            "Validation Accuracy: 0.7963\n"
          ]
        }
      ]
    },
    {
      "cell_type": "markdown",
      "source": [
        "# Task ID81: 167141"
      ],
      "metadata": {
        "id": "hZqVKYjojeA6"
      }
    },
    {
      "cell_type": "code",
      "source": [
        "# Load the data from OpenML\n",
        "task_id = 167141  # Replace with your OpenML task ID\n",
        "X, y = load_data(task_id)\n",
        "\n",
        "# Preprocess the data\n",
        "X = preprocess_data(X)\n",
        "\n",
        "# Encode the target variable\n",
        "y = encode_target(y)\n",
        "\n",
        "# Split the data into training and validation sets\n",
        "X_train, X_val, y_train, y_val = train_test_split(X, y, test_size=0.2, random_state=42)\n",
        "\n",
        "# Set the device\n",
        "device = torch.device('cuda' if torch.cuda.is_available() else 'cpu')\n",
        "\n",
        "# Train the model\n",
        "model, accuracy = train_model(X_train, y_train, X_val, y_val, params)\n",
        "print(f'Validation Accuracy: {accuracy:.4f}')\n"
      ],
      "metadata": {
        "colab": {
          "base_uri": "https://localhost:8080/"
        },
        "outputId": "7bdbbbbc-2001-4c30-f72f-a529f07ded39",
        "id": "PaepKK6QIGxf"
      },
      "execution_count": null,
      "outputs": [
        {
          "output_type": "stream",
          "name": "stdout",
          "text": [
            "Validation Accuracy: 0.8510\n"
          ]
        }
      ]
    },
    {
      "cell_type": "markdown",
      "source": [
        "# Task ID82: 167140"
      ],
      "metadata": {
        "id": "S19sCYYBjeNI"
      }
    },
    {
      "cell_type": "code",
      "source": [
        "# Load the data from OpenML\n",
        "task_id = 167140  # Replace with your OpenML task ID\n",
        "X, y = load_data(task_id)\n",
        "\n",
        "# Preprocess the data\n",
        "X = preprocess_data(X)\n",
        "\n",
        "# Encode the target variable\n",
        "y = encode_target(y)\n",
        "\n",
        "# Split the data into training and validation sets\n",
        "X_train, X_val, y_train, y_val = train_test_split(X, y, test_size=0.2, random_state=42)\n",
        "\n",
        "# Set the device\n",
        "device = torch.device('cuda' if torch.cuda.is_available() else 'cpu')\n",
        "\n",
        "# Train the model\n",
        "model, accuracy = train_model(X_train, y_train, X_val, y_val, params)\n",
        "print(f'Validation Accuracy: {accuracy:.4f}')\n"
      ],
      "metadata": {
        "colab": {
          "base_uri": "https://localhost:8080/"
        },
        "outputId": "ea5d850b-abd2-4520-fb02-da07aeee6467",
        "id": "bQABncWsIHO_"
      },
      "execution_count": null,
      "outputs": [
        {
          "output_type": "stream",
          "name": "stdout",
          "text": [
            "Validation Accuracy: 0.8009\n"
          ]
        }
      ]
    },
    {
      "cell_type": "markdown",
      "source": [
        "# Task ID83: 167125"
      ],
      "metadata": {
        "id": "LDgS_tZ8jeZ6"
      }
    },
    {
      "cell_type": "code",
      "source": [
        "# Load the data from OpenML\n",
        "task_id = 167125  # Replace with your OpenML task ID\n",
        "X, y = load_data(task_id)\n",
        "\n",
        "# Preprocess the data\n",
        "X = preprocess_data(X)\n",
        "\n",
        "# Encode the target variable\n",
        "y = encode_target(y)\n",
        "\n",
        "# Split the data into training and validation sets\n",
        "X_train, X_val, y_train, y_val = train_test_split(X, y, test_size=0.2, random_state=42)\n",
        "\n",
        "# Set the device\n",
        "device = torch.device('cuda' if torch.cuda.is_available() else 'cpu')\n",
        "\n",
        "# Train the model\n",
        "model, accuracy = train_model(X_train, y_train, X_val, y_val, params)\n",
        "print(f'Validation Accuracy: {accuracy:.4f}')\n"
      ],
      "metadata": {
        "colab": {
          "base_uri": "https://localhost:8080/"
        },
        "outputId": "2ef1c99a-77f7-43f2-8007-522309316d26",
        "id": "_2UUW8eLIHrv"
      },
      "execution_count": null,
      "outputs": [
        {
          "output_type": "stream",
          "name": "stdout",
          "text": [
            "Validation Accuracy: 0.9771\n"
          ]
        }
      ]
    },
    {
      "cell_type": "markdown",
      "source": [
        "# Task ID84: 167124"
      ],
      "metadata": {
        "id": "y5x3ad8gjenJ"
      }
    },
    {
      "cell_type": "markdown",
      "source": [
        "# Task ID85: 167121"
      ],
      "metadata": {
        "id": "Q82DhhLtjezZ"
      }
    },
    {
      "cell_type": "code",
      "source": [
        "pip freeze > requirements.txt"
      ],
      "metadata": {
        "id": "xwF5CE3Z5FmC"
      },
      "execution_count": null,
      "outputs": []
    }
  ]
}