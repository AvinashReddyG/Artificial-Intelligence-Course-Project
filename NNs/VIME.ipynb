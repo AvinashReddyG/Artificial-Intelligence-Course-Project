{
  "nbformat": 4,
  "nbformat_minor": 0,
  "metadata": {
    "colab": {
      "provenance": [],
      "toc_visible": true
    },
    "kernelspec": {
      "name": "python3",
      "display_name": "Python 3"
    },
    "language_info": {
      "name": "python"
    }
  },
  "cells": [
    {
      "cell_type": "markdown",
      "source": [
        "# VIME"
      ],
      "metadata": {
        "id": "m595ps8LhbC1"
      }
    },
    {
      "cell_type": "code",
      "execution_count": null,
      "metadata": {
        "colab": {
          "base_uri": "https://localhost:8080/"
        },
        "id": "1ZdEsqR-iT-y",
        "outputId": "d86fde8e-fd77-4bed-ac9d-c45cba1ee9c0"
      },
      "outputs": [
        {
          "output_type": "stream",
          "name": "stdout",
          "text": [
            "Requirement already satisfied: pandas in /usr/local/lib/python3.10/dist-packages (2.2.2)\n",
            "Requirement already satisfied: scikit-learn in /usr/local/lib/python3.10/dist-packages (1.5.2)\n",
            "Collecting openml\n",
            "  Downloading openml-0.15.0-py3-none-any.whl.metadata (9.9 kB)\n",
            "Requirement already satisfied: torch in /usr/local/lib/python3.10/dist-packages (2.5.0+cu121)\n",
            "Requirement already satisfied: numpy in /usr/local/lib/python3.10/dist-packages (1.26.4)\n",
            "Requirement already satisfied: python-dateutil>=2.8.2 in /usr/local/lib/python3.10/dist-packages (from pandas) (2.8.2)\n",
            "Requirement already satisfied: pytz>=2020.1 in /usr/local/lib/python3.10/dist-packages (from pandas) (2024.2)\n",
            "Requirement already satisfied: tzdata>=2022.7 in /usr/local/lib/python3.10/dist-packages (from pandas) (2024.2)\n",
            "Requirement already satisfied: scipy>=1.6.0 in /usr/local/lib/python3.10/dist-packages (from scikit-learn) (1.13.1)\n",
            "Requirement already satisfied: joblib>=1.2.0 in /usr/local/lib/python3.10/dist-packages (from scikit-learn) (1.4.2)\n",
            "Requirement already satisfied: threadpoolctl>=3.1.0 in /usr/local/lib/python3.10/dist-packages (from scikit-learn) (3.5.0)\n",
            "Collecting liac-arff>=2.4.0 (from openml)\n",
            "  Downloading liac-arff-2.5.0.tar.gz (13 kB)\n",
            "  Preparing metadata (setup.py) ... \u001b[?25l\u001b[?25hdone\n",
            "Collecting xmltodict (from openml)\n",
            "  Downloading xmltodict-0.14.2-py2.py3-none-any.whl.metadata (8.0 kB)\n",
            "Requirement already satisfied: requests in /usr/local/lib/python3.10/dist-packages (from openml) (2.32.3)\n",
            "Collecting minio (from openml)\n",
            "  Downloading minio-7.2.10-py3-none-any.whl.metadata (6.5 kB)\n",
            "Requirement already satisfied: pyarrow in /usr/local/lib/python3.10/dist-packages (from openml) (17.0.0)\n",
            "Requirement already satisfied: tqdm in /usr/local/lib/python3.10/dist-packages (from openml) (4.66.6)\n",
            "Requirement already satisfied: packaging in /usr/local/lib/python3.10/dist-packages (from openml) (24.1)\n",
            "Requirement already satisfied: filelock in /usr/local/lib/python3.10/dist-packages (from torch) (3.16.1)\n",
            "Requirement already satisfied: typing-extensions>=4.8.0 in /usr/local/lib/python3.10/dist-packages (from torch) (4.12.2)\n",
            "Requirement already satisfied: networkx in /usr/local/lib/python3.10/dist-packages (from torch) (3.4.2)\n",
            "Requirement already satisfied: jinja2 in /usr/local/lib/python3.10/dist-packages (from torch) (3.1.4)\n",
            "Requirement already satisfied: fsspec in /usr/local/lib/python3.10/dist-packages (from torch) (2024.10.0)\n",
            "Requirement already satisfied: sympy==1.13.1 in /usr/local/lib/python3.10/dist-packages (from torch) (1.13.1)\n",
            "Requirement already satisfied: mpmath<1.4,>=1.1.0 in /usr/local/lib/python3.10/dist-packages (from sympy==1.13.1->torch) (1.3.0)\n",
            "Requirement already satisfied: six>=1.5 in /usr/local/lib/python3.10/dist-packages (from python-dateutil>=2.8.2->pandas) (1.16.0)\n",
            "Requirement already satisfied: MarkupSafe>=2.0 in /usr/local/lib/python3.10/dist-packages (from jinja2->torch) (3.0.2)\n",
            "Requirement already satisfied: certifi in /usr/local/lib/python3.10/dist-packages (from minio->openml) (2024.8.30)\n",
            "Requirement already satisfied: urllib3 in /usr/local/lib/python3.10/dist-packages (from minio->openml) (2.2.3)\n",
            "Requirement already satisfied: argon2-cffi in /usr/local/lib/python3.10/dist-packages (from minio->openml) (23.1.0)\n",
            "Collecting pycryptodome (from minio->openml)\n",
            "  Downloading pycryptodome-3.21.0-cp36-abi3-manylinux_2_17_x86_64.manylinux2014_x86_64.whl.metadata (3.4 kB)\n",
            "Requirement already satisfied: charset-normalizer<4,>=2 in /usr/local/lib/python3.10/dist-packages (from requests->openml) (3.4.0)\n",
            "Requirement already satisfied: idna<4,>=2.5 in /usr/local/lib/python3.10/dist-packages (from requests->openml) (3.10)\n",
            "Requirement already satisfied: argon2-cffi-bindings in /usr/local/lib/python3.10/dist-packages (from argon2-cffi->minio->openml) (21.2.0)\n",
            "Requirement already satisfied: cffi>=1.0.1 in /usr/local/lib/python3.10/dist-packages (from argon2-cffi-bindings->argon2-cffi->minio->openml) (1.17.1)\n",
            "Requirement already satisfied: pycparser in /usr/local/lib/python3.10/dist-packages (from cffi>=1.0.1->argon2-cffi-bindings->argon2-cffi->minio->openml) (2.22)\n",
            "Downloading openml-0.15.0-py3-none-any.whl (157 kB)\n",
            "\u001b[2K   \u001b[90m━━━━━━━━━━━━━━━━━━━━━━━━━━━━━━━━━━━━━━━━\u001b[0m \u001b[32m158.0/158.0 kB\u001b[0m \u001b[31m3.3 MB/s\u001b[0m eta \u001b[36m0:00:00\u001b[0m\n",
            "\u001b[?25hDownloading minio-7.2.10-py3-none-any.whl (93 kB)\n",
            "\u001b[2K   \u001b[90m━━━━━━━━━━━━━━━━━━━━━━━━━━━━━━━━━━━━━━━━\u001b[0m \u001b[32m93.9/93.9 kB\u001b[0m \u001b[31m6.9 MB/s\u001b[0m eta \u001b[36m0:00:00\u001b[0m\n",
            "\u001b[?25hDownloading xmltodict-0.14.2-py2.py3-none-any.whl (10.0 kB)\n",
            "Downloading pycryptodome-3.21.0-cp36-abi3-manylinux_2_17_x86_64.manylinux2014_x86_64.whl (2.3 MB)\n",
            "\u001b[2K   \u001b[90m━━━━━━━━━━━━━━━━━━━━━━━━━━━━━━━━━━━━━━━━\u001b[0m \u001b[32m2.3/2.3 MB\u001b[0m \u001b[31m31.5 MB/s\u001b[0m eta \u001b[36m0:00:00\u001b[0m\n",
            "\u001b[?25hBuilding wheels for collected packages: liac-arff\n",
            "  Building wheel for liac-arff (setup.py) ... \u001b[?25l\u001b[?25hdone\n",
            "  Created wheel for liac-arff: filename=liac_arff-2.5.0-py3-none-any.whl size=11716 sha256=be502ff6f4d15aa6a2052f803b67b545b78f433011c05edaf1565cffe665bb6c\n",
            "  Stored in directory: /root/.cache/pip/wheels/5d/2a/9c/3895d9617f8f49a0883ba686326d598e78a1c2f54fe3cae86d\n",
            "Successfully built liac-arff\n",
            "Installing collected packages: xmltodict, pycryptodome, liac-arff, minio, openml\n",
            "Successfully installed liac-arff-2.5.0 minio-7.2.10 openml-0.15.0 pycryptodome-3.21.0 xmltodict-0.14.2\n"
          ]
        }
      ],
      "source": [
        "pip install pandas scikit-learn openml torch numpy"
      ]
    },
    {
      "cell_type": "code",
      "source": [
        "pip install torch torchvision torchaudio\n"
      ],
      "metadata": {
        "colab": {
          "base_uri": "https://localhost:8080/"
        },
        "id": "u_hCych6kM8f",
        "outputId": "2210353d-9387-4bfe-f014-ee75bab434e2"
      },
      "execution_count": null,
      "outputs": [
        {
          "output_type": "stream",
          "name": "stdout",
          "text": [
            "Requirement already satisfied: torch in /usr/local/lib/python3.10/dist-packages (2.5.0+cu121)\n",
            "Requirement already satisfied: torchvision in /usr/local/lib/python3.10/dist-packages (0.20.0+cu121)\n",
            "Requirement already satisfied: torchaudio in /usr/local/lib/python3.10/dist-packages (2.5.0+cu121)\n",
            "Requirement already satisfied: filelock in /usr/local/lib/python3.10/dist-packages (from torch) (3.16.1)\n",
            "Requirement already satisfied: typing-extensions>=4.8.0 in /usr/local/lib/python3.10/dist-packages (from torch) (4.12.2)\n",
            "Requirement already satisfied: networkx in /usr/local/lib/python3.10/dist-packages (from torch) (3.4.2)\n",
            "Requirement already satisfied: jinja2 in /usr/local/lib/python3.10/dist-packages (from torch) (3.1.4)\n",
            "Requirement already satisfied: fsspec in /usr/local/lib/python3.10/dist-packages (from torch) (2024.10.0)\n",
            "Requirement already satisfied: sympy==1.13.1 in /usr/local/lib/python3.10/dist-packages (from torch) (1.13.1)\n",
            "Requirement already satisfied: mpmath<1.4,>=1.1.0 in /usr/local/lib/python3.10/dist-packages (from sympy==1.13.1->torch) (1.3.0)\n",
            "Requirement already satisfied: numpy in /usr/local/lib/python3.10/dist-packages (from torchvision) (1.26.4)\n",
            "Requirement already satisfied: pillow!=8.3.*,>=5.3.0 in /usr/local/lib/python3.10/dist-packages (from torchvision) (10.4.0)\n",
            "Requirement already satisfied: MarkupSafe>=2.0 in /usr/local/lib/python3.10/dist-packages (from jinja2->torch) (3.0.2)\n"
          ]
        }
      ]
    },
    {
      "cell_type": "code",
      "source": [
        "import numpy as np\n",
        "import pandas as pd\n",
        "import torch\n",
        "import torch.nn as nn\n",
        "import torch.nn.functional as F\n",
        "import torch.optim as optim\n",
        "from torch.utils.data import DataLoader, TensorDataset\n",
        "from sklearn.model_selection import train_test_split\n",
        "import openml\n",
        "\n",
        "class VIMESelf(nn.Module):\n",
        "    def __init__(self, input_dim):\n",
        "        super().__init__()\n",
        "        self.input_layer = nn.Linear(input_dim, input_dim)\n",
        "        self.mask_layer = nn.Linear(input_dim, input_dim)\n",
        "        self.feat_layer = nn.Linear(input_dim, input_dim)\n",
        "\n",
        "    def forward(self, x):\n",
        "        x = F.relu(self.input_layer(x))\n",
        "        out_mask = torch.sigmoid(self.mask_layer(x))\n",
        "        out_feat = torch.sigmoid(self.feat_layer(x))\n",
        "        return out_mask, out_feat\n",
        "\n",
        "\n",
        "class VIMESemi(nn.Module):\n",
        "    def __init__(self, input_dim, output_dim, hidden_dim=100, n_layers=5):\n",
        "        super().__init__()\n",
        "        self.input_layer = nn.Linear(input_dim, hidden_dim)\n",
        "        self.layers = nn.ModuleList(\n",
        "            [nn.Linear(hidden_dim, hidden_dim) for _ in range(n_layers - 1)]\n",
        "        )\n",
        "        self.output_layer = nn.Linear(hidden_dim, output_dim)\n",
        "\n",
        "    def forward(self, x):\n",
        "        x = F.relu(self.input_layer(x))\n",
        "        for layer in self.layers:\n",
        "            x = F.relu(layer(x))\n",
        "        out = self.output_layer(x)\n",
        "        return out\n",
        "\n",
        "\n",
        "class VIME:\n",
        "    def __init__(self, params, args):\n",
        "        self.params = params\n",
        "        self.args = args\n",
        "        self.model_self = VIMESelf(args['num_features']).to(args['device'])\n",
        "        self.model_semi = VIMESemi(args['num_features'], args['num_classes']).to(args['device'])\n",
        "\n",
        "        if args['data_parallel']:\n",
        "            self.model_self = nn.DataParallel(self.model_self)\n",
        "            self.model_semi = nn.DataParallel(self.model_semi)\n",
        "\n",
        "    def fit(self, X, y, X_val=None, y_val=None):\n",
        "        self.fit_self(X)\n",
        "        return self.fit_semi(X, y, X_val, y_val)\n",
        "\n",
        "    def fit_self(self, X):\n",
        "        optimizer = optim.RMSprop(self.model_self.parameters(), lr=0.001)\n",
        "        loss_func_mask = nn.BCELoss()\n",
        "        loss_func_feat = nn.MSELoss()\n",
        "\n",
        "        m_unlab = self.mask_generator(0.3, X)\n",
        "        m_label, x_tilde = self.pretext_generator(m_unlab, X)\n",
        "\n",
        "        x_tilde = torch.tensor(x_tilde).float().to(self.args['device'])\n",
        "        m_label = torch.tensor(m_label).float().to(self.args['device'])\n",
        "        X = torch.tensor(X).float().to(self.args['device'])\n",
        "        train_dataset = TensorDataset(x_tilde, m_label, X)\n",
        "        train_loader = DataLoader(train_dataset, batch_size=self.args['batch_size'], shuffle=True)\n",
        "\n",
        "        for epoch in range(10):\n",
        "            for batch_X, batch_mask, batch_feat in train_loader:\n",
        "                out_mask, out_feat = self.model_self(batch_X)\n",
        "                loss_mask = loss_func_mask(out_mask, batch_mask)\n",
        "                loss_feat = loss_func_feat(out_feat, batch_feat)\n",
        "                loss = loss_mask + loss_feat * self.params['alpha']\n",
        "\n",
        "                optimizer.zero_grad()\n",
        "                loss.backward()\n",
        "                optimizer.step()\n",
        "\n",
        "    def fit_semi(self, X, y, X_val=None, y_val=None):\n",
        "        optimizer = optim.AdamW(self.model_semi.parameters())\n",
        "        X = torch.tensor(X).float().to(self.args['device'])\n",
        "        y = torch.tensor(y).long().to(self.args['device'])\n",
        "        X_val = torch.tensor(X_val).float().to(self.args['device'])\n",
        "        y_val = torch.tensor(y_val).long().to(self.args['device'])\n",
        "\n",
        "        loss_func_supervised = nn.CrossEntropyLoss()\n",
        "\n",
        "        train_dataset = TensorDataset(X, y)\n",
        "        train_loader = DataLoader(train_dataset, batch_size=self.args['batch_size'], shuffle=True)\n",
        "\n",
        "        for epoch in range(self.args['epochs']):\n",
        "            for batch_X, batch_y in train_loader:\n",
        "                y_hat = self.model_semi(batch_X)\n",
        "\n",
        "                loss = loss_func_supervised(y_hat, batch_y)\n",
        "\n",
        "                optimizer.zero_grad()\n",
        "                loss.backward()\n",
        "                optimizer.step()\n",
        "\n",
        "        # Evaluation on validation set\n",
        "        with torch.no_grad():\n",
        "            val_preds = self.model_semi(X_val)\n",
        "            val_preds = torch.argmax(val_preds, dim=1)\n",
        "            accuracy = (val_preds == y_val).float().mean().item()\n",
        "            return accuracy\n",
        "\n",
        "    @staticmethod\n",
        "    def mask_generator(p_m, x):\n",
        "        mask = np.random.binomial(1, p_m, x.shape)\n",
        "        return mask\n",
        "\n",
        "    @staticmethod\n",
        "    def pretext_generator(m, x):\n",
        "        no, dim = x.shape\n",
        "        x_bar = np.zeros([no, dim])\n",
        "        for i in range(dim):\n",
        "            idx = np.random.permutation(no)\n",
        "            x_bar[:, i] = x[idx, i]\n",
        "\n",
        "        x_tilde = x * (1 - m) + x_bar * m\n",
        "        m_new = 1 * (x != x_tilde)\n",
        "        return m_new, x_tilde\n",
        "\n",
        "def load_openml_data(task_id):\n",
        "    task = openml.tasks.get_task(task_id)\n",
        "    dataset = task.get_dataset()\n",
        "    X, y, _, _ = dataset.get_data(target=dataset.default_target_attribute)\n",
        "\n",
        "    # Identify categorical columns (exclude numeric columns)\n",
        "    categorical_columns = X.select_dtypes(include=['object', 'category']).columns\n",
        "\n",
        "    # Apply One-Hot Encoding to categorical columns\n",
        "    X = pd.get_dummies(X, columns=categorical_columns, drop_first=True)\n",
        "\n",
        "    # Handle non-finite values by filling NaNs with zeros (or use an appropriate strategy for your case)\n",
        "    X.replace([np.inf, -np.inf], np.nan, inplace=True)\n",
        "    X.fillna(0, inplace=True)\n",
        "\n",
        "    # Ensure all columns in X are numeric\n",
        "    X = X.apply(pd.to_numeric, errors='coerce')\n",
        "    X.fillna(0, inplace=True)\n",
        "\n",
        "    # Check for non-numeric columns\n",
        "    non_numeric_columns = X.select_dtypes(exclude=['number']).columns\n",
        "    if len(non_numeric_columns) > 0:\n",
        "        # Drop non-numeric columns\n",
        "        X = X.drop(columns=non_numeric_columns)\n",
        "\n",
        "    # Convert y to numeric if it's categorical\n",
        "    if y.dtype == 'object' or isinstance(y.dtype, pd.CategoricalDtype):\n",
        "        y = pd.factorize(y)[0]\n",
        "\n",
        "    # Ensure y is a numpy array and has the correct type\n",
        "    y = np.asarray(y).astype(np.int64)\n",
        "\n",
        "    # Final check for non-numeric types in X\n",
        "    if not np.issubdtype(X.values.dtype, np.number):\n",
        "        raise ValueError(\"There are still non-numeric columns in the dataset after conversion.\")\n",
        "\n",
        "    return X.to_numpy(), y\n"
      ],
      "metadata": {
        "id": "OMhytmC5K9WZ",
        "colab": {
          "base_uri": "https://localhost:8080/"
        },
        "outputId": "7f02ea4f-171e-4114-aea9-49e82f8ee8f6"
      },
      "execution_count": null,
      "outputs": [
        {
          "output_type": "stream",
          "name": "stderr",
          "text": [
            "WARNING:openml:No permission to create OpenML directory at /root/.config/openml! This can result in OpenML-Python not working properly.\n"
          ]
        }
      ]
    },
    {
      "cell_type": "markdown",
      "source": [
        "# Task ID1: 14965"
      ],
      "metadata": {
        "id": "Av3Ht0glwhhn"
      }
    },
    {
      "cell_type": "code",
      "source": [
        "\n",
        "\n",
        "# Main execution\n",
        "if __name__ == \"__main__\":\n",
        "    # Specify OpenML task ID\n",
        "    task_id = 14965  # Replace with your desired task ID\n",
        "    X, y = load_openml_data(task_id)\n",
        "\n",
        "    # Determine number of features and classes from the dataset\n",
        "    num_features = X.shape[1]\n",
        "    num_classes = len(np.unique(y))\n",
        "\n",
        "    # Split the dataset\n",
        "    X_train, X_val, y_train, y_val = train_test_split(X, y, test_size=0.2, random_state=42)\n",
        "\n",
        "    # Define parameters and arguments\n",
        "    params = {\n",
        "        \"p_m\": 0.5,\n",
        "        \"alpha\": 3.0,\n",
        "    }\n",
        "    args = {\n",
        "        \"num_features\": num_features,\n",
        "        \"num_classes\": num_classes,\n",
        "        \"batch_size\": 32,\n",
        "        \"epochs\": 10,\n",
        "        \"device\": torch.device(\"cuda\" if torch.cuda.is_available() else \"cpu\"),\n",
        "        \"data_parallel\": False,\n",
        "    }\n",
        "\n",
        "    # Initialize and train VIME model\n",
        "    model = VIME(params, args)\n",
        "    accuracy = model.fit(X_train, y_train, X_val, y_val)\n",
        "\n",
        "    # Print only validation accuracy\n",
        "    print(f\"Validation Accuracy: {accuracy:.4f}\")\n"
      ],
      "metadata": {
        "colab": {
          "base_uri": "https://localhost:8080/"
        },
        "id": "R1qxfn7NhwL5",
        "outputId": "3278b8b9-a10f-4be4-9eb6-b5214ffe336b"
      },
      "execution_count": null,
      "outputs": [
        {
          "output_type": "stream",
          "name": "stdout",
          "text": [
            "Validation Accuracy: 0.8857\n"
          ]
        }
      ]
    },
    {
      "cell_type": "markdown",
      "source": [
        "# Task ID2: 9977"
      ],
      "metadata": {
        "id": "_bEEFrVDxJk6"
      }
    },
    {
      "cell_type": "code",
      "source": [
        "\n",
        "\n",
        "# Main execution\n",
        "if __name__ == \"__main__\":\n",
        "    # Specify OpenML task ID\n",
        "    task_id = 9977  # Replace with your desired task ID\n",
        "    X, y = load_openml_data(task_id)\n",
        "\n",
        "    # Determine number of features and classes from the dataset\n",
        "    num_features = X.shape[1]\n",
        "    num_classes = len(np.unique(y))\n",
        "\n",
        "    # Split the dataset\n",
        "    X_train, X_val, y_train, y_val = train_test_split(X, y, test_size=0.2, random_state=42)\n",
        "\n",
        "    # Define parameters and arguments\n",
        "    params = {\n",
        "        \"p_m\": 0.5,\n",
        "        \"alpha\": 3.0,\n",
        "    }\n",
        "    args = {\n",
        "        \"num_features\": num_features,\n",
        "        \"num_classes\": num_classes,\n",
        "        \"batch_size\": 32,\n",
        "        \"epochs\": 10,\n",
        "        \"device\": torch.device(\"cuda\" if torch.cuda.is_available() else \"cpu\"),\n",
        "        \"data_parallel\": False,\n",
        "    }\n",
        "\n",
        "    # Initialize and train VIME model\n",
        "    model = VIME(params, args)\n",
        "    accuracy = model.fit(X_train, y_train, X_val, y_val)\n",
        "\n",
        "    # Print only validation accuracy\n",
        "    print(f\"Validation Accuracy: {accuracy:.4f}\")\n"
      ],
      "metadata": {
        "colab": {
          "base_uri": "https://localhost:8080/"
        },
        "id": "O_6E5gwWhzD-",
        "outputId": "15a69035-3b4c-41a9-b707-49d366a76392"
      },
      "execution_count": null,
      "outputs": [
        {
          "output_type": "stream",
          "name": "stdout",
          "text": [
            "Validation Accuracy: 0.9479\n"
          ]
        }
      ]
    },
    {
      "cell_type": "markdown",
      "metadata": {
        "id": "7Hz-jF53KD4A"
      },
      "source": [
        "# Task ID3: 34539"
      ]
    },
    {
      "cell_type": "code",
      "source": [
        "# Main execution\n",
        "if __name__ == \"__main__\":\n",
        "    # Specify OpenML task ID\n",
        "    task_id = 34539  # Replace with your desired task ID\n",
        "    X, y = load_openml_data(task_id)\n",
        "\n",
        "    # Determine number of features and classes from the dataset\n",
        "    num_features = X.shape[1]\n",
        "    num_classes = len(np.unique(y))\n",
        "\n",
        "    # Split the dataset\n",
        "    X_train, X_val, y_train, y_val = train_test_split(X, y, test_size=0.2, random_state=42)\n",
        "\n",
        "    # Define parameters and arguments\n",
        "    params = {\n",
        "        \"p_m\": 0.5,\n",
        "        \"alpha\": 3.0,\n",
        "    }\n",
        "    args = {\n",
        "        \"num_features\": num_features,\n",
        "        \"num_classes\": num_classes,\n",
        "        \"batch_size\": 32,\n",
        "        \"epochs\": 10,\n",
        "        \"device\": torch.device(\"cuda\" if torch.cuda.is_available() else \"cpu\"),\n",
        "        \"data_parallel\": False,\n",
        "    }\n",
        "\n",
        "    # Initialize and train VIME model\n",
        "    model = VIME(params, args)\n",
        "    accuracy = model.fit(X_train, y_train, X_val, y_val)\n",
        "\n",
        "    # Print only validation accuracy\n",
        "    print(f\"Validation Accuracy: {accuracy:.4f}\")\n"
      ],
      "metadata": {
        "colab": {
          "base_uri": "https://localhost:8080/"
        },
        "id": "qqj0W2aebYme",
        "outputId": "034ba4b2-038e-4410-d6a8-8d260fdd2ab6"
      },
      "execution_count": null,
      "outputs": [
        {
          "output_type": "stream",
          "name": "stderr",
          "text": [
            "/usr/local/lib/python3.10/dist-packages/torch/nn/init.py:511: UserWarning: Initializing zero-element tensors is a no-op\n",
            "  warnings.warn(\"Initializing zero-element tensors is a no-op\")\n"
          ]
        },
        {
          "output_type": "stream",
          "name": "stdout",
          "text": [
            "Validation Accuracy: 0.9437\n"
          ]
        }
      ]
    },
    {
      "cell_type": "markdown",
      "metadata": {
        "id": "KJ1lM1Bv99qs"
      },
      "source": [
        "# Task ID4: 146606"
      ]
    },
    {
      "cell_type": "code",
      "source": [
        "# Main execution\n",
        "if __name__ == \"__main__\":\n",
        "    # Specify OpenML task ID\n",
        "    task_id = 146606  # Replace with your desired task ID\n",
        "    X, y = load_openml_data(task_id)\n",
        "\n",
        "    # Determine number of features and classes from the dataset\n",
        "    num_features = X.shape[1]\n",
        "    num_classes = len(np.unique(y))\n",
        "\n",
        "    # Split the dataset\n",
        "    X_train, X_val, y_train, y_val = train_test_split(X, y, test_size=0.2, random_state=42)\n",
        "\n",
        "    # Define parameters and arguments\n",
        "    params = {\n",
        "        \"p_m\": 0.5,\n",
        "        \"alpha\": 3.0,\n",
        "    }\n",
        "    args = {\n",
        "        \"num_features\": num_features,\n",
        "        \"num_classes\": num_classes,\n",
        "        \"batch_size\": 32,\n",
        "        \"epochs\": 10,\n",
        "        \"device\": torch.device(\"cuda\" if torch.cuda.is_available() else \"cpu\"),\n",
        "        \"data_parallel\": False,\n",
        "    }\n",
        "\n",
        "    # Initialize and train VIME model\n",
        "    model = VIME(params, args)\n",
        "    accuracy = model.fit(X_train, y_train, X_val, y_val)\n",
        "\n",
        "    # Print only validation accuracy\n",
        "    print(f\"Validation Accuracy: {accuracy:.4f}\")\n"
      ],
      "metadata": {
        "colab": {
          "base_uri": "https://localhost:8080/"
        },
        "id": "OwSQRo86h1Q8",
        "outputId": "de3d738a-19c8-421a-c450-bd5b65062e0e"
      },
      "execution_count": null,
      "outputs": [
        {
          "output_type": "stream",
          "name": "stdout",
          "text": [
            "Validation Accuracy: 0.6869\n"
          ]
        }
      ]
    },
    {
      "cell_type": "markdown",
      "metadata": {
        "id": "agXkkvFj-uRE"
      },
      "source": [
        "# Task ID5: 7592\n",
        "\n"
      ]
    },
    {
      "cell_type": "code",
      "source": [
        "# Main execution\n",
        "if __name__ == \"__main__\":\n",
        "    # Specify OpenML task ID\n",
        "    task_id = 7592  # Replace with your desired task ID\n",
        "    X, y = load_openml_data(task_id)\n",
        "\n",
        "    # Determine number of features and classes from the dataset\n",
        "    num_features = X.shape[1]\n",
        "    num_classes = len(np.unique(y))\n",
        "\n",
        "    # Split the dataset\n",
        "    X_train, X_val, y_train, y_val = train_test_split(X, y, test_size=0.2, random_state=42)\n",
        "\n",
        "    # Define parameters and arguments\n",
        "    params = {\n",
        "        \"p_m\": 0.5,\n",
        "        \"alpha\": 3.0,\n",
        "    }\n",
        "    args = {\n",
        "        \"num_features\": num_features,\n",
        "        \"num_classes\": num_classes,\n",
        "        \"batch_size\": 32,\n",
        "        \"epochs\": 10,\n",
        "        \"device\": torch.device(\"cuda\" if torch.cuda.is_available() else \"cpu\"),\n",
        "        \"data_parallel\": False,\n",
        "    }\n",
        "\n",
        "    # Initialize and train VIME model\n",
        "    model = VIME(params, args)\n",
        "    accuracy = model.fit(X_train, y_train, X_val, y_val)\n",
        "\n",
        "    # Print only validation accuracy\n",
        "    print(f\"Validation Accuracy: {accuracy:.4f}\")\n"
      ],
      "metadata": {
        "colab": {
          "base_uri": "https://localhost:8080/"
        },
        "id": "jbB2O5Dvh2JU",
        "outputId": "857caeb9-c4a8-4f48-e956-bbd3d7093cfb"
      },
      "execution_count": null,
      "outputs": [
        {
          "output_type": "stream",
          "name": "stdout",
          "text": [
            "Validation Accuracy: 0.7945\n"
          ]
        }
      ]
    },
    {
      "cell_type": "markdown",
      "metadata": {
        "id": "5qB-NZ-t-wyd"
      },
      "source": [
        "# Task ID6: 146195\n",
        "\n"
      ]
    },
    {
      "cell_type": "code",
      "source": [
        "# Main execution\n",
        "if __name__ == \"__main__\":\n",
        "    # Specify OpenML task ID\n",
        "    task_id = 146195  # Replace with your desired task ID\n",
        "    X, y = load_openml_data(task_id)\n",
        "\n",
        "    # Determine number of features and classes from the dataset\n",
        "    num_features = X.shape[1]\n",
        "    num_classes = len(np.unique(y))\n",
        "\n",
        "    # Split the dataset\n",
        "    X_train, X_val, y_train, y_val = train_test_split(X, y, test_size=0.2, random_state=42)\n",
        "\n",
        "    # Define parameters and arguments\n",
        "    params = {\n",
        "        \"p_m\": 0.5,\n",
        "        \"alpha\": 3.0,\n",
        "    }\n",
        "    args = {\n",
        "        \"num_features\": num_features,\n",
        "        \"num_classes\": num_classes,\n",
        "        \"batch_size\": 32,\n",
        "        \"epochs\": 10,\n",
        "        \"device\": torch.device(\"cuda\" if torch.cuda.is_available() else \"cpu\"),\n",
        "        \"data_parallel\": False,\n",
        "    }\n",
        "\n",
        "    # Initialize and train VIME model\n",
        "    model = VIME(params, args)\n",
        "    accuracy = model.fit(X_train, y_train, X_val, y_val)\n",
        "\n",
        "    # Print only validation accuracy\n",
        "    print(f\"Validation Accuracy: {accuracy:.4f}\")\n"
      ],
      "metadata": {
        "colab": {
          "base_uri": "https://localhost:8080/"
        },
        "id": "VWujQFy0h3K_",
        "outputId": "7ea67791-3141-4ef2-c153-466724248c2b"
      },
      "execution_count": null,
      "outputs": [
        {
          "output_type": "stream",
          "name": "stderr",
          "text": [
            "/usr/local/lib/python3.10/dist-packages/torch/nn/init.py:511: UserWarning: Initializing zero-element tensors is a no-op\n",
            "  warnings.warn(\"Initializing zero-element tensors is a no-op\")\n"
          ]
        },
        {
          "output_type": "stream",
          "name": "stdout",
          "text": [
            "Validation Accuracy: 0.6569\n"
          ]
        }
      ]
    },
    {
      "cell_type": "markdown",
      "metadata": {
        "id": "D-6lP2ED-yYw"
      },
      "source": [
        "# Task ID7: 167119\n",
        "\n"
      ]
    },
    {
      "cell_type": "code",
      "source": [
        "\n",
        "\n",
        "# Main execution\n",
        "if __name__ == \"__main__\":\n",
        "    # Specify OpenML task ID\n",
        "    task_id = 167119 # Replace with your desired task ID\n",
        "    X, y = load_openml_data(task_id)\n",
        "\n",
        "    # Determine number of features and classes from the dataset\n",
        "    num_features = X.shape[1]\n",
        "    num_classes = len(np.unique(y))\n",
        "\n",
        "    # Split the dataset\n",
        "    X_train, X_val, y_train, y_val = train_test_split(X, y, test_size=0.2, random_state=42)\n",
        "\n",
        "    # Define parameters and arguments\n",
        "    params = {\n",
        "        \"p_m\": 0.5,\n",
        "        \"alpha\": 3.0,\n",
        "    }\n",
        "    args = {\n",
        "        \"num_features\": num_features,\n",
        "        \"num_classes\": num_classes,\n",
        "        \"batch_size\": 32,\n",
        "        \"epochs\": 10,\n",
        "        \"device\": torch.device(\"cuda\" if torch.cuda.is_available() else \"cpu\"),\n",
        "        \"data_parallel\": False,\n",
        "    }\n",
        "\n",
        "    # Initialize and train VIME model\n",
        "    model = VIME(params, args)\n",
        "    accuracy = model.fit(X_train, y_train, X_val, y_val)\n",
        "\n",
        "    # Print only validation accuracy\n",
        "    print(f\"Validation Accuracy: {accuracy:.4f}\")\n"
      ],
      "metadata": {
        "colab": {
          "base_uri": "https://localhost:8080/"
        },
        "id": "5Gd7gYOUh4PB",
        "outputId": "1cc90245-ca36-40cc-9ba6-8931039a5932"
      },
      "execution_count": null,
      "outputs": [
        {
          "output_type": "stream",
          "name": "stdout",
          "text": [
            "Validation Accuracy: 0.8648\n"
          ]
        }
      ]
    },
    {
      "cell_type": "markdown",
      "metadata": {
        "id": "UhMkxXLjFYC_"
      },
      "source": [
        "# Task ID8: 167120\n",
        "\n"
      ]
    },
    {
      "cell_type": "code",
      "source": [
        "\n",
        "\n",
        "# Main execution\n",
        "if __name__ == \"__main__\":\n",
        "    # Specify OpenML task ID\n",
        "    task_id = 167120  # Replace with your desired task ID\n",
        "    X, y = load_openml_data(task_id)\n",
        "\n",
        "    # Determine number of features and classes from the dataset\n",
        "    num_features = X.shape[1]\n",
        "    num_classes = len(np.unique(y))\n",
        "\n",
        "    # Split the dataset\n",
        "    X_train, X_val, y_train, y_val = train_test_split(X, y, test_size=0.2, random_state=42)\n",
        "\n",
        "    # Define parameters and arguments\n",
        "    params = {\n",
        "        \"p_m\": 0.5,\n",
        "        \"alpha\": 3.0,\n",
        "    }\n",
        "    args = {\n",
        "        \"num_features\": num_features,\n",
        "        \"num_classes\": num_classes,\n",
        "        \"batch_size\": 32,\n",
        "        \"epochs\": 10,\n",
        "        \"device\": torch.device(\"cuda\" if torch.cuda.is_available() else \"cpu\"),\n",
        "        \"data_parallel\": False,\n",
        "    }\n",
        "\n",
        "    # Initialize and train VIME model\n",
        "    model = VIME(params, args)\n",
        "    accuracy = model.fit(X_train, y_train, X_val, y_val)\n",
        "\n",
        "    # Print only validation accuracy\n",
        "    print(f\"Validation Accuracy: {accuracy:.4f}\")\n"
      ],
      "metadata": {
        "colab": {
          "base_uri": "https://localhost:8080/"
        },
        "id": "yiU7hXNBh5xD",
        "outputId": "ef6478ff-27e8-4bd1-e980-65f48ba1706d"
      },
      "execution_count": null,
      "outputs": [
        {
          "output_type": "stream",
          "name": "stdout",
          "text": [
            "Validation Accuracy: 0.5195\n"
          ]
        }
      ]
    },
    {
      "cell_type": "markdown",
      "metadata": {
        "id": "7Or_hKHXYB39"
      },
      "source": [
        "# Task ID11: \t168331\n",
        "\n"
      ]
    },
    {
      "cell_type": "code",
      "source": [
        "\n",
        "\n",
        "# Main execution\n",
        "if __name__ == \"__main__\":\n",
        "    # Specify OpenML task ID\n",
        "    task_id = 168331  # Replace with your desired task ID\n",
        "    X, y = load_openml_data(task_id)\n",
        "\n",
        "    # Determine number of features and classes from the dataset\n",
        "    num_features = X.shape[1]\n",
        "    num_classes = len(np.unique(y))\n",
        "\n",
        "    # Split the dataset\n",
        "    X_train, X_val, y_train, y_val = train_test_split(X, y, test_size=0.2, random_state=42)\n",
        "\n",
        "    # Define parameters and arguments\n",
        "    params = {\n",
        "        \"p_m\": 0.5,\n",
        "        \"alpha\": 3.0,\n",
        "    }\n",
        "    args = {\n",
        "        \"num_features\": num_features,\n",
        "        \"num_classes\": num_classes,\n",
        "        \"batch_size\": 32,\n",
        "        \"epochs\": 10,\n",
        "        \"device\": torch.device(\"cuda\" if torch.cuda.is_available() else \"cpu\"),\n",
        "        \"data_parallel\": False,\n",
        "    }\n",
        "\n",
        "    # Initialize and train VIME model\n",
        "    model = VIME(params, args)\n",
        "    accuracy = model.fit(X_train, y_train, X_val, y_val)\n",
        "\n",
        "    # Print only validation accuracy\n",
        "    print(f\"Validation Accuracy: {accuracy:.4f}\")\n"
      ],
      "metadata": {
        "colab": {
          "base_uri": "https://localhost:8080/"
        },
        "id": "loXw9_ayh6ag",
        "outputId": "55aed19b-4ec0-4af3-c3c5-73f6f31801cf"
      },
      "execution_count": null,
      "outputs": [
        {
          "output_type": "stream",
          "name": "stdout",
          "text": [
            "Validation Accuracy: 0.6197\n"
          ]
        }
      ]
    },
    {
      "cell_type": "markdown",
      "metadata": {
        "id": "yUMhEOrBdFAA"
      },
      "source": [
        "# Task ID12: \t168330\n",
        "\n"
      ]
    },
    {
      "cell_type": "code",
      "source": [
        "\n",
        "\n",
        "# Main execution\n",
        "if __name__ == \"__main__\":\n",
        "    # Specify OpenML task ID\n",
        "    task_id = 168330  # Replace with your desired task ID\n",
        "    X, y = load_openml_data(task_id)\n",
        "\n",
        "    # Determine number of features and classes from the dataset\n",
        "    num_features = X.shape[1]\n",
        "    num_classes = len(np.unique(y))\n",
        "\n",
        "    # Split the dataset\n",
        "    X_train, X_val, y_train, y_val = train_test_split(X, y, test_size=0.2, random_state=42)\n",
        "\n",
        "    # Define parameters and arguments\n",
        "    params = {\n",
        "        \"p_m\": 0.5,\n",
        "        \"alpha\": 3.0,\n",
        "    }\n",
        "    args = {\n",
        "        \"num_features\": num_features,\n",
        "        \"num_classes\": num_classes,\n",
        "        \"batch_size\": 32,\n",
        "        \"epochs\": 10,\n",
        "        \"device\": torch.device(\"cuda\" if torch.cuda.is_available() else \"cpu\"),\n",
        "        \"data_parallel\": False,\n",
        "    }\n",
        "\n",
        "    # Initialize and train VIME model\n",
        "    model = VIME(params, args)\n",
        "    accuracy = model.fit(X_train, y_train, X_val, y_val)\n",
        "\n",
        "    # Print only validation accuracy\n",
        "    print(f\"Validation Accuracy: {accuracy:.4f}\")\n"
      ],
      "metadata": {
        "colab": {
          "base_uri": "https://localhost:8080/"
        },
        "id": "b6NjqOC2h8dM",
        "outputId": "e6926468-968e-47f4-ab19-d12afacece87"
      },
      "execution_count": null,
      "outputs": [
        {
          "output_type": "stream",
          "name": "stdout",
          "text": [
            "Validation Accuracy: 0.6627\n"
          ]
        }
      ]
    },
    {
      "cell_type": "markdown",
      "metadata": {
        "id": "d3yrnlEGULX7"
      },
      "source": [
        "# Task ID13: \t168335\n",
        "\n"
      ]
    },
    {
      "cell_type": "code",
      "source": [
        "\n",
        "\n",
        "# Main execution\n",
        "if __name__ == \"__main__\":\n",
        "    # Specify OpenML task ID\n",
        "    task_id = 168335  # Replace with your desired task ID\n",
        "    X, y = load_openml_data(task_id)\n",
        "\n",
        "    # Determine number of features and classes from the dataset\n",
        "    num_features = X.shape[1]\n",
        "    num_classes = len(np.unique(y))\n",
        "\n",
        "    # Split the dataset\n",
        "    X_train, X_val, y_train, y_val = train_test_split(X, y, test_size=0.2, random_state=42)\n",
        "\n",
        "    # Define parameters and arguments\n",
        "    params = {\n",
        "        \"p_m\": 0.5,\n",
        "        \"alpha\": 3.0,\n",
        "    }\n",
        "    args = {\n",
        "        \"num_features\": num_features,\n",
        "        \"num_classes\": num_classes,\n",
        "        \"batch_size\": 32,\n",
        "        \"epochs\": 10,\n",
        "        \"device\": torch.device(\"cuda\" if torch.cuda.is_available() else \"cpu\"),\n",
        "        \"data_parallel\": False,\n",
        "    }\n",
        "\n",
        "    # Initialize and train VIME model\n",
        "    model = VIME(params, args)\n",
        "    accuracy = model.fit(X_train, y_train, X_val, y_val)\n",
        "\n",
        "    # Print only validation accuracy\n",
        "    print(f\"Validation Accuracy: {accuracy:.4f}\")\n"
      ],
      "metadata": {
        "colab": {
          "base_uri": "https://localhost:8080/"
        },
        "id": "XKnbPCWPh9Sd",
        "outputId": "60434df2-8908-4944-d681-3545e1b275d2"
      },
      "execution_count": null,
      "outputs": [
        {
          "output_type": "stream",
          "name": "stdout",
          "text": [
            "Validation Accuracy: 0.9218\n"
          ]
        }
      ]
    },
    {
      "cell_type": "markdown",
      "metadata": {
        "id": "065Jhn3bUN3E"
      },
      "source": [
        "\n",
        "# Task ID16: \t146212\n",
        "\n"
      ]
    },
    {
      "cell_type": "code",
      "source": [
        "\n",
        "\n",
        "# Main execution\n",
        "if __name__ == \"__main__\":\n",
        "    # Specify OpenML task ID\n",
        "    task_id = 146212  # Replace with your desired task ID\n",
        "    X, y = load_openml_data(task_id)\n",
        "\n",
        "    # Determine number of features and classes from the dataset\n",
        "    num_features = X.shape[1]\n",
        "    num_classes = len(np.unique(y))\n",
        "\n",
        "    # Split the dataset\n",
        "    X_train, X_val, y_train, y_val = train_test_split(X, y, test_size=0.2, random_state=42)\n",
        "\n",
        "    # Define parameters and arguments\n",
        "    params = {\n",
        "        \"p_m\": 0.5,\n",
        "        \"alpha\": 3.0,\n",
        "    }\n",
        "    args = {\n",
        "        \"num_features\": num_features,\n",
        "        \"num_classes\": num_classes,\n",
        "        \"batch_size\": 32,\n",
        "        \"epochs\": 10,\n",
        "        \"device\": torch.device(\"cuda\" if torch.cuda.is_available() else \"cpu\"),\n",
        "        \"data_parallel\": False,\n",
        "    }\n",
        "\n",
        "    # Initialize and train VIME model\n",
        "    model = VIME(params, args)\n",
        "    accuracy = model.fit(X_train, y_train, X_val, y_val)\n",
        "\n",
        "    # Print only validation accuracy\n",
        "    print(f\"Validation Accuracy: {accuracy:.4f}\")\n"
      ],
      "metadata": {
        "colab": {
          "base_uri": "https://localhost:8080/"
        },
        "id": "HvDPPY18h-EJ",
        "outputId": "6337abfd-4346-4fd3-f87f-47a36c0d7979"
      },
      "execution_count": null,
      "outputs": [
        {
          "output_type": "stream",
          "name": "stdout",
          "text": [
            "Validation Accuracy: 0.9977\n"
          ]
        }
      ]
    },
    {
      "cell_type": "markdown",
      "metadata": {
        "id": "lPP_6tsjUQVe"
      },
      "source": [
        "# Task ID19: \t168868\n",
        "\n"
      ]
    },
    {
      "cell_type": "code",
      "source": [
        "\n",
        "\n",
        "# Main execution\n",
        "if __name__ == \"__main__\":\n",
        "    # Specify OpenML task ID\n",
        "    task_id = 168868  # Replace with your desired task ID\n",
        "    X, y = load_openml_data(task_id)\n",
        "\n",
        "    # Determine number of features and classes from the dataset\n",
        "    num_features = X.shape[1]\n",
        "    num_classes = len(np.unique(y))\n",
        "\n",
        "    # Split the dataset\n",
        "    X_train, X_val, y_train, y_val = train_test_split(X, y, test_size=0.2, random_state=42)\n",
        "\n",
        "    # Define parameters and arguments\n",
        "    params = {\n",
        "        \"p_m\": 0.5,\n",
        "        \"alpha\": 3.0,\n",
        "    }\n",
        "    args = {\n",
        "        \"num_features\": num_features,\n",
        "        \"num_classes\": num_classes,\n",
        "        \"batch_size\": 32,\n",
        "        \"epochs\": 10,\n",
        "        \"device\": torch.device(\"cuda\" if torch.cuda.is_available() else \"cpu\"),\n",
        "        \"data_parallel\": False,\n",
        "    }\n",
        "\n",
        "    # Initialize and train VIME model\n",
        "    model = VIME(params, args)\n",
        "    accuracy = model.fit(X_train, y_train, X_val, y_val)\n",
        "\n",
        "    # Print only validation accuracy\n",
        "    print(f\"Validation Accuracy: {accuracy:.4f}\")\n"
      ],
      "metadata": {
        "colab": {
          "base_uri": "https://localhost:8080/"
        },
        "id": "5QAJkFOch-vD",
        "outputId": "819a6eea-eea2-4fdc-d595-35c2f5034508"
      },
      "execution_count": null,
      "outputs": [
        {
          "output_type": "stream",
          "name": "stdout",
          "text": [
            "Validation Accuracy: 0.9803\n"
          ]
        }
      ]
    },
    {
      "cell_type": "markdown",
      "source": [
        "# Task ID20: 31"
      ],
      "metadata": {
        "id": "UkfKJeLtuxt7"
      }
    },
    {
      "cell_type": "code",
      "source": [
        "\n",
        "\n",
        "# Main execution\n",
        "if __name__ == \"__main__\":\n",
        "    # Specify OpenML task ID\n",
        "    task_id = 31  # Replace with your desired task ID\n",
        "    X, y = load_openml_data(task_id)\n",
        "\n",
        "    # Determine number of features and classes from the dataset\n",
        "    num_features = X.shape[1]\n",
        "    num_classes = len(np.unique(y))\n",
        "\n",
        "    # Split the dataset\n",
        "    X_train, X_val, y_train, y_val = train_test_split(X, y, test_size=0.2, random_state=42)\n",
        "\n",
        "    # Define parameters and arguments\n",
        "    params = {\n",
        "        \"p_m\": 0.5,\n",
        "        \"alpha\": 3.0,\n",
        "    }\n",
        "    args = {\n",
        "        \"num_features\": num_features,\n",
        "        \"num_classes\": num_classes,\n",
        "        \"batch_size\": 32,\n",
        "        \"epochs\": 10,\n",
        "        \"device\": torch.device(\"cuda\" if torch.cuda.is_available() else \"cpu\"),\n",
        "        \"data_parallel\": False,\n",
        "    }\n",
        "\n",
        "    # Initialize and train VIME model\n",
        "    model = VIME(params, args)\n",
        "    accuracy = model.fit(X_train, y_train, X_val, y_val)\n",
        "\n",
        "    # Print only validation accuracy\n",
        "    print(f\"Validation Accuracy: {accuracy:.4f}\")\n"
      ],
      "metadata": {
        "colab": {
          "base_uri": "https://localhost:8080/"
        },
        "id": "LmvVJzBIKEkC",
        "outputId": "c5bcae94-2344-4dc6-de83-36d481c2d89d"
      },
      "execution_count": null,
      "outputs": [
        {
          "output_type": "stream",
          "name": "stdout",
          "text": [
            "Validation Accuracy: 0.6800\n"
          ]
        }
      ]
    },
    {
      "cell_type": "markdown",
      "source": [
        "# Task ID21: 10101"
      ],
      "metadata": {
        "id": "u6DpJWyJu_Um"
      }
    },
    {
      "cell_type": "code",
      "source": [
        "\n",
        "\n",
        "# Main execution\n",
        "if __name__ == \"__main__\":\n",
        "    # Specify OpenML task ID\n",
        "    task_id = 10101  # Replace with your desired task ID\n",
        "    X, y = load_openml_data(task_id)\n",
        "\n",
        "    # Determine number of features and classes from the dataset\n",
        "    num_features = X.shape[1]\n",
        "    num_classes = len(np.unique(y))\n",
        "\n",
        "    # Split the dataset\n",
        "    X_train, X_val, y_train, y_val = train_test_split(X, y, test_size=0.2, random_state=42)\n",
        "\n",
        "    # Define parameters and arguments\n",
        "    params = {\n",
        "        \"p_m\": 0.5,\n",
        "        \"alpha\": 3.0,\n",
        "    }\n",
        "    args = {\n",
        "        \"num_features\": num_features,\n",
        "        \"num_classes\": num_classes,\n",
        "        \"batch_size\": 32,\n",
        "        \"epochs\": 10,\n",
        "        \"device\": torch.device(\"cuda\" if torch.cuda.is_available() else \"cpu\"),\n",
        "        \"data_parallel\": False,\n",
        "    }\n",
        "\n",
        "    # Initialize and train VIME model\n",
        "    model = VIME(params, args)\n",
        "    accuracy = model.fit(X_train, y_train, X_val, y_val)\n",
        "\n",
        "    # Print only validation accuracy\n",
        "    print(f\"Validation Accuracy: {accuracy:.4f}\")\n"
      ],
      "metadata": {
        "colab": {
          "base_uri": "https://localhost:8080/"
        },
        "id": "Axx30Y7tKJYS",
        "outputId": "d5275552-d96d-4396-9f41-db51f2353055"
      },
      "execution_count": null,
      "outputs": [
        {
          "output_type": "stream",
          "name": "stdout",
          "text": [
            "Validation Accuracy: 0.7533\n"
          ]
        }
      ]
    },
    {
      "cell_type": "markdown",
      "source": [
        "# Task ID22: \t3913"
      ],
      "metadata": {
        "id": "L4PMg4K1vD9b"
      }
    },
    {
      "cell_type": "code",
      "source": [
        "\n",
        "\n",
        "# Main execution\n",
        "if __name__ == \"__main__\":\n",
        "    # Specify OpenML task ID\n",
        "    task_id = 3913  # Replace with your desired task ID\n",
        "    X, y = load_openml_data(task_id)\n",
        "\n",
        "    # Determine number of features and classes from the dataset\n",
        "    num_features = X.shape[1]\n",
        "    num_classes = len(np.unique(y))\n",
        "\n",
        "    # Split the dataset\n",
        "    X_train, X_val, y_train, y_val = train_test_split(X, y, test_size=0.2, random_state=42)\n",
        "\n",
        "    # Define parameters and arguments\n",
        "    params = {\n",
        "        \"p_m\": 0.5,\n",
        "        \"alpha\": 3.0,\n",
        "    }\n",
        "    args = {\n",
        "        \"num_features\": num_features,\n",
        "        \"num_classes\": num_classes,\n",
        "        \"batch_size\": 32,\n",
        "        \"epochs\": 10,\n",
        "        \"device\": torch.device(\"cuda\" if torch.cuda.is_available() else \"cpu\"),\n",
        "        \"data_parallel\": False,\n",
        "    }\n",
        "\n",
        "    # Initialize and train VIME model\n",
        "    model = VIME(params, args)\n",
        "    accuracy = model.fit(X_train, y_train, X_val, y_val)\n",
        "\n",
        "    # Print only validation accuracy\n",
        "    print(f\"Validation Accuracy: {accuracy:.4f}\")\n"
      ],
      "metadata": {
        "colab": {
          "base_uri": "https://localhost:8080/"
        },
        "id": "zpECdz9GKKK1",
        "outputId": "bb254158-e85f-4c8f-b2b1-536d20d03e4a"
      },
      "execution_count": null,
      "outputs": [
        {
          "output_type": "stream",
          "name": "stdout",
          "text": [
            "Validation Accuracy: 0.7619\n"
          ]
        }
      ]
    },
    {
      "cell_type": "markdown",
      "source": [
        "# Task ID23: 3"
      ],
      "metadata": {
        "id": "6UVYtFS5vFdg"
      }
    },
    {
      "cell_type": "code",
      "source": [
        "\n",
        "\n",
        "# Main execution\n",
        "if __name__ == \"__main__\":\n",
        "    # Specify OpenML task ID\n",
        "    task_id = 3  # Replace with your desired task ID\n",
        "    X, y = load_openml_data(task_id)\n",
        "\n",
        "    # Determine number of features and classes from the dataset\n",
        "    num_features = X.shape[1]\n",
        "    num_classes = len(np.unique(y))\n",
        "\n",
        "    # Split the dataset\n",
        "    X_train, X_val, y_train, y_val = train_test_split(X, y, test_size=0.2, random_state=42)\n",
        "\n",
        "    # Define parameters and arguments\n",
        "    params = {\n",
        "        \"p_m\": 0.5,\n",
        "        \"alpha\": 3.0,\n",
        "    }\n",
        "    args = {\n",
        "        \"num_features\": num_features,\n",
        "        \"num_classes\": num_classes,\n",
        "        \"batch_size\": 32,\n",
        "        \"epochs\": 10,\n",
        "        \"device\": torch.device(\"cuda\" if torch.cuda.is_available() else \"cpu\"),\n",
        "        \"data_parallel\": False,\n",
        "    }\n",
        "\n",
        "    # Initialize and train VIME model\n",
        "    model = VIME(params, args)\n",
        "    accuracy = model.fit(X_train, y_train, X_val, y_val)\n",
        "\n",
        "    # Print only validation accuracy\n",
        "    print(f\"Validation Accuracy: {accuracy:.4f}\")\n"
      ],
      "metadata": {
        "colab": {
          "base_uri": "https://localhost:8080/"
        },
        "id": "IXYjkCEhKLM6",
        "outputId": "4e192379-02ce-420f-d86c-0d4a0e3ad7f7"
      },
      "execution_count": null,
      "outputs": [
        {
          "output_type": "stream",
          "name": "stderr",
          "text": [
            "/usr/local/lib/python3.10/dist-packages/torch/nn/init.py:511: UserWarning: Initializing zero-element tensors is a no-op\n",
            "  warnings.warn(\"Initializing zero-element tensors is a no-op\")\n"
          ]
        },
        {
          "output_type": "stream",
          "name": "stdout",
          "text": [
            "Validation Accuracy: 0.5312\n"
          ]
        }
      ]
    },
    {
      "cell_type": "markdown",
      "source": [
        "# Task ID24: 3917"
      ],
      "metadata": {
        "id": "vyRHJUzZvHFc"
      }
    },
    {
      "cell_type": "code",
      "source": [
        "\n",
        "\n",
        "# Main execution\n",
        "if __name__ == \"__main__\":\n",
        "    # Specify OpenML task ID\n",
        "    task_id = 3917  # Replace with your desired task ID\n",
        "    X, y = load_openml_data(task_id)\n",
        "\n",
        "    # Determine number of features and classes from the dataset\n",
        "    num_features = X.shape[1]\n",
        "    num_classes = len(np.unique(y))\n",
        "\n",
        "    # Split the dataset\n",
        "    X_train, X_val, y_train, y_val = train_test_split(X, y, test_size=0.2, random_state=42)\n",
        "\n",
        "    # Define parameters and arguments\n",
        "    params = {\n",
        "        \"p_m\": 0.5,\n",
        "        \"alpha\": 3.0,\n",
        "    }\n",
        "    args = {\n",
        "        \"num_features\": num_features,\n",
        "        \"num_classes\": num_classes,\n",
        "        \"batch_size\": 32,\n",
        "        \"epochs\": 10,\n",
        "        \"device\": torch.device(\"cuda\" if torch.cuda.is_available() else \"cpu\"),\n",
        "        \"data_parallel\": False,\n",
        "    }\n",
        "\n",
        "    # Initialize and train VIME model\n",
        "    model = VIME(params, args)\n",
        "    accuracy = model.fit(X_train, y_train, X_val, y_val)\n",
        "\n",
        "    # Print only validation accuracy\n",
        "    print(f\"Validation Accuracy: {accuracy:.4f}\")\n"
      ],
      "metadata": {
        "colab": {
          "base_uri": "https://localhost:8080/"
        },
        "id": "0SL5HAX9KMBn",
        "outputId": "fb89556d-8495-44b9-998a-dc9b4b1806f5"
      },
      "execution_count": null,
      "outputs": [
        {
          "output_type": "stream",
          "name": "stdout",
          "text": [
            "Validation Accuracy: 0.8436\n"
          ]
        }
      ]
    },
    {
      "cell_type": "markdown",
      "source": [
        "# Task ID25: 9957"
      ],
      "metadata": {
        "id": "dzf2O5cvvLhe"
      }
    },
    {
      "cell_type": "code",
      "source": [
        "\n",
        "\n",
        "# Main execution\n",
        "if __name__ == \"__main__\":\n",
        "    # Specify OpenML task ID\n",
        "    task_id = 9957  # Replace with your desired task ID\n",
        "    X, y = load_openml_data(task_id)\n",
        "\n",
        "    # Determine number of features and classes from the dataset\n",
        "    num_features = X.shape[1]\n",
        "    num_classes = len(np.unique(y))\n",
        "\n",
        "    # Split the dataset\n",
        "    X_train, X_val, y_train, y_val = train_test_split(X, y, test_size=0.2, random_state=42)\n",
        "\n",
        "    # Define parameters and arguments\n",
        "    params = {\n",
        "        \"p_m\": 0.5,\n",
        "        \"alpha\": 3.0,\n",
        "    }\n",
        "    args = {\n",
        "        \"num_features\": num_features,\n",
        "        \"num_classes\": num_classes,\n",
        "        \"batch_size\": 32,\n",
        "        \"epochs\": 10,\n",
        "        \"device\": torch.device(\"cuda\" if torch.cuda.is_available() else \"cpu\"),\n",
        "        \"data_parallel\": False,\n",
        "    }\n",
        "\n",
        "    # Initialize and train VIME model\n",
        "    model = VIME(params, args)\n",
        "    accuracy = model.fit(X_train, y_train, X_val, y_val)\n",
        "\n",
        "    # Print only validation accuracy\n",
        "    print(f\"Validation Accuracy: {accuracy:.4f}\")\n"
      ],
      "metadata": {
        "colab": {
          "base_uri": "https://localhost:8080/"
        },
        "id": "-GHSHiPKKMqg",
        "outputId": "c4cd7f0a-93b2-4820-a7f5-0326de7e3ca8"
      },
      "execution_count": null,
      "outputs": [
        {
          "output_type": "stream",
          "name": "stdout",
          "text": [
            "Validation Accuracy: 0.8673\n"
          ]
        }
      ]
    },
    {
      "cell_type": "markdown",
      "source": [
        "# Task ID26: 9946"
      ],
      "metadata": {
        "id": "xbL7uSt3vBp0"
      }
    },
    {
      "cell_type": "code",
      "source": [
        "\n",
        "\n",
        "# Main execution\n",
        "if __name__ == \"__main__\":\n",
        "    # Specify OpenML task ID\n",
        "    task_id = 9946  # Replace with your desired task ID\n",
        "    X, y = load_openml_data(task_id)\n",
        "\n",
        "    # Determine number of features and classes from the dataset\n",
        "    num_features = X.shape[1]\n",
        "    num_classes = len(np.unique(y))\n",
        "\n",
        "    # Split the dataset\n",
        "    X_train, X_val, y_train, y_val = train_test_split(X, y, test_size=0.2, random_state=42)\n",
        "\n",
        "    # Define parameters and arguments\n",
        "    params = {\n",
        "        \"p_m\": 0.5,\n",
        "        \"alpha\": 3.0,\n",
        "    }\n",
        "    args = {\n",
        "        \"num_features\": num_features,\n",
        "        \"num_classes\": num_classes,\n",
        "        \"batch_size\": 32,\n",
        "        \"epochs\": 10,\n",
        "        \"device\": torch.device(\"cuda\" if torch.cuda.is_available() else \"cpu\"),\n",
        "        \"data_parallel\": False,\n",
        "    }\n",
        "\n",
        "    # Initialize and train VIME model\n",
        "    model = VIME(params, args)\n",
        "    accuracy = model.fit(X_train, y_train, X_val, y_val)\n",
        "\n",
        "    # Print only validation accuracy\n",
        "    print(f\"Validation Accuracy: {accuracy:.4f}\")\n"
      ],
      "metadata": {
        "colab": {
          "base_uri": "https://localhost:8080/"
        },
        "id": "tlx9eTsOKNQR",
        "outputId": "f46cb298-b14b-4097-f03b-364bed3d8d5b"
      },
      "execution_count": null,
      "outputs": [
        {
          "output_type": "stream",
          "name": "stdout",
          "text": [
            "Validation Accuracy: 0.9649\n"
          ]
        }
      ]
    },
    {
      "cell_type": "markdown",
      "source": [
        "# Task ID27: 3918"
      ],
      "metadata": {
        "id": "4_3XUL5zOr31"
      }
    },
    {
      "cell_type": "code",
      "source": [
        "\n",
        "\n",
        "# Main execution\n",
        "if __name__ == \"__main__\":\n",
        "    # Specify OpenML task ID\n",
        "    task_id = 3918  # Replace with your desired task ID\n",
        "    X, y = load_openml_data(task_id)\n",
        "\n",
        "    # Determine number of features and classes from the dataset\n",
        "    num_features = X.shape[1]\n",
        "    num_classes = len(np.unique(y))\n",
        "\n",
        "    # Split the dataset\n",
        "    X_train, X_val, y_train, y_val = train_test_split(X, y, test_size=0.2, random_state=42)\n",
        "\n",
        "    # Define parameters and arguments\n",
        "    params = {\n",
        "        \"p_m\": 0.5,\n",
        "        \"alpha\": 3.0,\n",
        "    }\n",
        "    args = {\n",
        "        \"num_features\": num_features,\n",
        "        \"num_classes\": num_classes,\n",
        "        \"batch_size\": 32,\n",
        "        \"epochs\": 10,\n",
        "        \"device\": torch.device(\"cuda\" if torch.cuda.is_available() else \"cpu\"),\n",
        "        \"data_parallel\": False,\n",
        "    }\n",
        "\n",
        "    # Initialize and train VIME model\n",
        "    model = VIME(params, args)\n",
        "    accuracy = model.fit(X_train, y_train, X_val, y_val)\n",
        "\n",
        "    # Print only validation accuracy\n",
        "    print(f\"Validation Accuracy: {accuracy:.4f}\")\n"
      ],
      "metadata": {
        "colab": {
          "base_uri": "https://localhost:8080/"
        },
        "outputId": "fd19dc7c-5bd8-431a-e5b5-e4b4b70bc645",
        "id": "S59pXJwNINPT"
      },
      "execution_count": null,
      "outputs": [
        {
          "output_type": "stream",
          "name": "stdout",
          "text": [
            "Validation Accuracy: 0.9144\n"
          ]
        }
      ]
    },
    {
      "cell_type": "markdown",
      "source": [
        "# Task ID28: 3903"
      ],
      "metadata": {
        "id": "gMfLQ_viOsKc"
      }
    },
    {
      "cell_type": "code",
      "source": [
        "\n",
        "\n",
        "# Main execution\n",
        "if __name__ == \"__main__\":\n",
        "    # Specify OpenML task ID\n",
        "    task_id = 3903  # Replace with your desired task ID\n",
        "    X, y = load_openml_data(task_id)\n",
        "\n",
        "    # Determine number of features and classes from the dataset\n",
        "    num_features = X.shape[1]\n",
        "    num_classes = len(np.unique(y))\n",
        "\n",
        "    # Split the dataset\n",
        "    X_train, X_val, y_train, y_val = train_test_split(X, y, test_size=0.2, random_state=42)\n",
        "\n",
        "    # Define parameters and arguments\n",
        "    params = {\n",
        "        \"p_m\": 0.5,\n",
        "        \"alpha\": 3.0,\n",
        "    }\n",
        "    args = {\n",
        "        \"num_features\": num_features,\n",
        "        \"num_classes\": num_classes,\n",
        "        \"batch_size\": 32,\n",
        "        \"epochs\": 10,\n",
        "        \"device\": torch.device(\"cuda\" if torch.cuda.is_available() else \"cpu\"),\n",
        "        \"data_parallel\": False,\n",
        "    }\n",
        "\n",
        "    # Initialize and train VIME model\n",
        "    model = VIME(params, args)\n",
        "    accuracy = model.fit(X_train, y_train, X_val, y_val)\n",
        "\n",
        "    # Print only validation accuracy\n",
        "    print(f\"Validation Accuracy: {accuracy:.4f}\")\n"
      ],
      "metadata": {
        "colab": {
          "base_uri": "https://localhost:8080/"
        },
        "outputId": "61ab88e0-1446-4811-f263-f73c592d0704",
        "id": "2UV5-C0LINoq"
      },
      "execution_count": null,
      "outputs": [
        {
          "output_type": "stream",
          "name": "stdout",
          "text": [
            "Validation Accuracy: 0.8978\n"
          ]
        }
      ]
    },
    {
      "cell_type": "markdown",
      "source": [
        "# Task ID29: 37"
      ],
      "metadata": {
        "id": "p8r0_x-wOsYx"
      }
    },
    {
      "cell_type": "code",
      "source": [
        "\n",
        "\n",
        "# Main execution\n",
        "if __name__ == \"__main__\":\n",
        "    # Specify OpenML task ID\n",
        "    task_id = 37  # Replace with your desired task ID\n",
        "    X, y = load_openml_data(task_id)\n",
        "\n",
        "    # Determine number of features and classes from the dataset\n",
        "    num_features = X.shape[1]\n",
        "    num_classes = len(np.unique(y))\n",
        "\n",
        "    # Split the dataset\n",
        "    X_train, X_val, y_train, y_val = train_test_split(X, y, test_size=0.2, random_state=42)\n",
        "\n",
        "    # Define parameters and arguments\n",
        "    params = {\n",
        "        \"p_m\": 0.5,\n",
        "        \"alpha\": 3.0,\n",
        "    }\n",
        "    args = {\n",
        "        \"num_features\": num_features,\n",
        "        \"num_classes\": num_classes,\n",
        "        \"batch_size\": 32,\n",
        "        \"epochs\": 10,\n",
        "        \"device\": torch.device(\"cuda\" if torch.cuda.is_available() else \"cpu\"),\n",
        "        \"data_parallel\": False,\n",
        "    }\n",
        "\n",
        "    # Initialize and train VIME model\n",
        "    model = VIME(params, args)\n",
        "    accuracy = model.fit(X_train, y_train, X_val, y_val)\n",
        "\n",
        "    # Print only validation accuracy\n",
        "    print(f\"Validation Accuracy: {accuracy:.4f}\")\n"
      ],
      "metadata": {
        "colab": {
          "base_uri": "https://localhost:8080/"
        },
        "outputId": "04f55b49-6296-4fcb-b360-a55016c972c9",
        "id": "J_5PA8gSIOHV"
      },
      "execution_count": null,
      "outputs": [
        {
          "output_type": "stream",
          "name": "stdout",
          "text": [
            "Validation Accuracy: 0.7403\n"
          ]
        }
      ]
    },
    {
      "cell_type": "markdown",
      "source": [
        "# Task ID30: 9971"
      ],
      "metadata": {
        "id": "ZInQ-9WoOsu9"
      }
    },
    {
      "cell_type": "code",
      "source": [
        "\n",
        "\n",
        "# Main execution\n",
        "if __name__ == \"__main__\":\n",
        "    # Specify OpenML task ID\n",
        "    task_id = 9971  # Replace with your desired task ID\n",
        "    X, y = load_openml_data(task_id)\n",
        "\n",
        "    # Determine number of features and classes from the dataset\n",
        "    num_features = X.shape[1]\n",
        "    num_classes = len(np.unique(y))\n",
        "\n",
        "    # Split the dataset\n",
        "    X_train, X_val, y_train, y_val = train_test_split(X, y, test_size=0.2, random_state=42)\n",
        "\n",
        "    # Define parameters and arguments\n",
        "    params = {\n",
        "        \"p_m\": 0.5,\n",
        "        \"alpha\": 3.0,\n",
        "    }\n",
        "    args = {\n",
        "        \"num_features\": num_features,\n",
        "        \"num_classes\": num_classes,\n",
        "        \"batch_size\": 32,\n",
        "        \"epochs\": 10,\n",
        "        \"device\": torch.device(\"cuda\" if torch.cuda.is_available() else \"cpu\"),\n",
        "        \"data_parallel\": False,\n",
        "    }\n",
        "\n",
        "    # Initialize and train VIME model\n",
        "    model = VIME(params, args)\n",
        "    accuracy = model.fit(X_train, y_train, X_val, y_val)\n",
        "\n",
        "    # Print only validation accuracy\n",
        "    print(f\"Validation Accuracy: {accuracy:.4f}\")\n"
      ],
      "metadata": {
        "colab": {
          "base_uri": "https://localhost:8080/"
        },
        "outputId": "1c9883de-43bf-4719-8deb-75d112797c67",
        "id": "Dq4KgIAVIOmH"
      },
      "execution_count": null,
      "outputs": [
        {
          "output_type": "stream",
          "name": "stdout",
          "text": [
            "Validation Accuracy: 0.7436\n"
          ]
        }
      ]
    },
    {
      "cell_type": "markdown",
      "source": [
        "# Task ID31: 9952"
      ],
      "metadata": {
        "id": "JXEaEKEaOtAm"
      }
    },
    {
      "cell_type": "code",
      "source": [
        "\n",
        "\n",
        "# Main execution\n",
        "if __name__ == \"__main__\":\n",
        "    # Specify OpenML task ID\n",
        "    task_id = 9952  # Replace with your desired task ID\n",
        "    X, y = load_openml_data(task_id)\n",
        "\n",
        "    # Determine number of features and classes from the dataset\n",
        "    num_features = X.shape[1]\n",
        "    num_classes = len(np.unique(y))\n",
        "\n",
        "    # Split the dataset\n",
        "    X_train, X_val, y_train, y_val = train_test_split(X, y, test_size=0.2, random_state=42)\n",
        "\n",
        "    # Define parameters and arguments\n",
        "    params = {\n",
        "        \"p_m\": 0.5,\n",
        "        \"alpha\": 3.0,\n",
        "    }\n",
        "    args = {\n",
        "        \"num_features\": num_features,\n",
        "        \"num_classes\": num_classes,\n",
        "        \"batch_size\": 32,\n",
        "        \"epochs\": 10,\n",
        "        \"device\": torch.device(\"cuda\" if torch.cuda.is_available() else \"cpu\"),\n",
        "        \"data_parallel\": False,\n",
        "    }\n",
        "\n",
        "    # Initialize and train VIME model\n",
        "    model = VIME(params, args)\n",
        "    accuracy = model.fit(X_train, y_train, X_val, y_val)\n",
        "\n",
        "    # Print only validation accuracy\n",
        "    print(f\"Validation Accuracy: {accuracy:.4f}\")\n"
      ],
      "metadata": {
        "colab": {
          "base_uri": "https://localhost:8080/"
        },
        "outputId": "04af55b4-4d3c-452f-8943-4163020ef23a",
        "id": "ds4K_SqrIPQm"
      },
      "execution_count": null,
      "outputs": [
        {
          "output_type": "stream",
          "name": "stdout",
          "text": [
            "Validation Accuracy: 0.8511\n"
          ]
        }
      ]
    },
    {
      "cell_type": "markdown",
      "source": [
        "# Task ID32: 3902"
      ],
      "metadata": {
        "id": "pW00w70pOtPI"
      }
    },
    {
      "cell_type": "code",
      "source": [
        "\n",
        "\n",
        "# Main execution\n",
        "if __name__ == \"__main__\":\n",
        "    # Specify OpenML task ID\n",
        "    task_id = 3902  # Replace with your desired task ID\n",
        "    X, y = load_openml_data(task_id)\n",
        "\n",
        "    # Determine number of features and classes from the dataset\n",
        "    num_features = X.shape[1]\n",
        "    num_classes = len(np.unique(y))\n",
        "\n",
        "    # Split the dataset\n",
        "    X_train, X_val, y_train, y_val = train_test_split(X, y, test_size=0.2, random_state=42)\n",
        "\n",
        "    # Define parameters and arguments\n",
        "    params = {\n",
        "        \"p_m\": 0.5,\n",
        "        \"alpha\": 3.0,\n",
        "    }\n",
        "    args = {\n",
        "        \"num_features\": num_features,\n",
        "        \"num_classes\": num_classes,\n",
        "        \"batch_size\": 32,\n",
        "        \"epochs\": 10,\n",
        "        \"device\": torch.device(\"cuda\" if torch.cuda.is_available() else \"cpu\"),\n",
        "        \"data_parallel\": False,\n",
        "    }\n",
        "\n",
        "    # Initialize and train VIME model\n",
        "    model = VIME(params, args)\n",
        "    accuracy = model.fit(X_train, y_train, X_val, y_val)\n",
        "\n",
        "    # Print only validation accuracy\n",
        "    print(f\"Validation Accuracy: {accuracy:.4f}\")\n"
      ],
      "metadata": {
        "colab": {
          "base_uri": "https://localhost:8080/"
        },
        "outputId": "20f5fd4a-c221-4029-d471-ec49180dd7e9",
        "id": "EZNvnyY0IP56"
      },
      "execution_count": null,
      "outputs": [
        {
          "output_type": "stream",
          "name": "stdout",
          "text": [
            "Validation Accuracy: 0.7842\n"
          ]
        }
      ]
    },
    {
      "cell_type": "markdown",
      "source": [
        "# Task ID33: 49"
      ],
      "metadata": {
        "id": "6zZ17oDlOtbo"
      }
    },
    {
      "cell_type": "code",
      "source": [
        "\n",
        "\n",
        "# Main execution\n",
        "if __name__ == \"__main__\":\n",
        "    # Specify OpenML task ID\n",
        "    task_id = 49  # Replace with your desired task ID\n",
        "    X, y = load_openml_data(task_id)\n",
        "\n",
        "    # Determine number of features and classes from the dataset\n",
        "    num_features = X.shape[1]\n",
        "    num_classes = len(np.unique(y))\n",
        "\n",
        "    # Split the dataset\n",
        "    X_train, X_val, y_train, y_val = train_test_split(X, y, test_size=0.2, random_state=42)\n",
        "\n",
        "    # Define parameters and arguments\n",
        "    params = {\n",
        "        \"p_m\": 0.5,\n",
        "        \"alpha\": 3.0,\n",
        "    }\n",
        "    args = {\n",
        "        \"num_features\": num_features,\n",
        "        \"num_classes\": num_classes,\n",
        "        \"batch_size\": 32,\n",
        "        \"epochs\": 10,\n",
        "        \"device\": torch.device(\"cuda\" if torch.cuda.is_available() else \"cpu\"),\n",
        "        \"data_parallel\": False,\n",
        "    }\n",
        "\n",
        "    # Initialize and train VIME model\n",
        "    model = VIME(params, args)\n",
        "    accuracy = model.fit(X_train, y_train, X_val, y_val)\n",
        "\n",
        "    # Print only validation accuracy\n",
        "    print(f\"Validation Accuracy: {accuracy:.4f}\")\n"
      ],
      "metadata": {
        "colab": {
          "base_uri": "https://localhost:8080/"
        },
        "outputId": "6fe2a2bc-e191-4356-fd32-e9e242ea3b7a",
        "id": "XIlSI3x9IQR_"
      },
      "execution_count": null,
      "outputs": [
        {
          "output_type": "stream",
          "name": "stderr",
          "text": [
            "/usr/local/lib/python3.10/dist-packages/torch/nn/init.py:511: UserWarning: Initializing zero-element tensors is a no-op\n",
            "  warnings.warn(\"Initializing zero-element tensors is a no-op\")\n"
          ]
        },
        {
          "output_type": "stream",
          "name": "stdout",
          "text": [
            "Validation Accuracy: 0.6510\n"
          ]
        }
      ]
    },
    {
      "cell_type": "markdown",
      "source": [
        "# Task ID34: 43"
      ],
      "metadata": {
        "id": "U5j20q0COtoD"
      }
    },
    {
      "cell_type": "code",
      "source": [
        "\n",
        "\n",
        "# Main execution\n",
        "if __name__ == \"__main__\":\n",
        "    # Specify OpenML task ID\n",
        "    task_id = 43  # Replace with your desired task ID\n",
        "    X, y = load_openml_data(task_id)\n",
        "\n",
        "    # Determine number of features and classes from the dataset\n",
        "    num_features = X.shape[1]\n",
        "    num_classes = len(np.unique(y))\n",
        "\n",
        "    # Split the dataset\n",
        "    X_train, X_val, y_train, y_val = train_test_split(X, y, test_size=0.2, random_state=42)\n",
        "\n",
        "    # Define parameters and arguments\n",
        "    params = {\n",
        "        \"p_m\": 0.5,\n",
        "        \"alpha\": 3.0,\n",
        "    }\n",
        "    args = {\n",
        "        \"num_features\": num_features,\n",
        "        \"num_classes\": num_classes,\n",
        "        \"batch_size\": 32,\n",
        "        \"epochs\": 10,\n",
        "        \"device\": torch.device(\"cuda\" if torch.cuda.is_available() else \"cpu\"),\n",
        "        \"data_parallel\": False,\n",
        "    }\n",
        "\n",
        "    # Initialize and train VIME model\n",
        "    model = VIME(params, args)\n",
        "    accuracy = model.fit(X_train, y_train, X_val, y_val)\n",
        "\n",
        "    # Print only validation accuracy\n",
        "    print(f\"Validation Accuracy: {accuracy:.4f}\")\n"
      ],
      "metadata": {
        "colab": {
          "base_uri": "https://localhost:8080/"
        },
        "outputId": "1396833b-48e8-46cd-eac8-6707b42970a0",
        "id": "80JzKBXvIQqd"
      },
      "execution_count": null,
      "outputs": [
        {
          "output_type": "stream",
          "name": "stdout",
          "text": [
            "Validation Accuracy: 0.9338\n"
          ]
        }
      ]
    },
    {
      "cell_type": "markdown",
      "source": [
        "# Task ID35: 9978"
      ],
      "metadata": {
        "id": "I-iHZbecOt0s"
      }
    },
    {
      "cell_type": "code",
      "source": [
        "\n",
        "\n",
        "# Main execution\n",
        "if __name__ == \"__main__\":\n",
        "    # Specify OpenML task ID\n",
        "    task_id = 9978  # Replace with your desired task ID\n",
        "    X, y = load_openml_data(task_id)\n",
        "\n",
        "    # Determine number of features and classes from the dataset\n",
        "    num_features = X.shape[1]\n",
        "    num_classes = len(np.unique(y))\n",
        "\n",
        "    # Split the dataset\n",
        "    X_train, X_val, y_train, y_val = train_test_split(X, y, test_size=0.2, random_state=42)\n",
        "\n",
        "    # Define parameters and arguments\n",
        "    params = {\n",
        "        \"p_m\": 0.5,\n",
        "        \"alpha\": 3.0,\n",
        "    }\n",
        "    args = {\n",
        "        \"num_features\": num_features,\n",
        "        \"num_classes\": num_classes,\n",
        "        \"batch_size\": 32,\n",
        "        \"epochs\": 10,\n",
        "        \"device\": torch.device(\"cuda\" if torch.cuda.is_available() else \"cpu\"),\n",
        "        \"data_parallel\": False,\n",
        "    }\n",
        "\n",
        "    # Initialize and train VIME model\n",
        "    model = VIME(params, args)\n",
        "    accuracy = model.fit(X_train, y_train, X_val, y_val)\n",
        "\n",
        "    # Print only validation accuracy\n",
        "    print(f\"Validation Accuracy: {accuracy:.4f}\")\n"
      ],
      "metadata": {
        "colab": {
          "base_uri": "https://localhost:8080/"
        },
        "outputId": "131daca9-eca0-4442-f2c6-45dbeb072514",
        "id": "6lOVsKAxIRAF"
      },
      "execution_count": null,
      "outputs": [
        {
          "output_type": "stream",
          "name": "stdout",
          "text": [
            "Validation Accuracy: 0.9349\n"
          ]
        }
      ]
    },
    {
      "cell_type": "markdown",
      "source": [
        "# Task ID36: 10093"
      ],
      "metadata": {
        "id": "uysN5WV0Oxpu"
      }
    },
    {
      "cell_type": "code",
      "source": [
        "\n",
        "\n",
        "# Main execution\n",
        "if __name__ == \"__main__\":\n",
        "    # Specify OpenML task ID\n",
        "    task_id = 10093  # Replace with your desired task ID\n",
        "    X, y = load_openml_data(task_id)\n",
        "\n",
        "    # Determine number of features and classes from the dataset\n",
        "    num_features = X.shape[1]\n",
        "    num_classes = len(np.unique(y))\n",
        "\n",
        "    # Split the dataset\n",
        "    X_train, X_val, y_train, y_val = train_test_split(X, y, test_size=0.2, random_state=42)\n",
        "\n",
        "    # Define parameters and arguments\n",
        "    params = {\n",
        "        \"p_m\": 0.5,\n",
        "        \"alpha\": 3.0,\n",
        "    }\n",
        "    args = {\n",
        "        \"num_features\": num_features,\n",
        "        \"num_classes\": num_classes,\n",
        "        \"batch_size\": 32,\n",
        "        \"epochs\": 10,\n",
        "        \"device\": torch.device(\"cuda\" if torch.cuda.is_available() else \"cpu\"),\n",
        "        \"data_parallel\": False,\n",
        "    }\n",
        "\n",
        "    # Initialize and train VIME model\n",
        "    model = VIME(params, args)\n",
        "    accuracy = model.fit(X_train, y_train, X_val, y_val)\n",
        "\n",
        "    # Print only validation accuracy\n",
        "    print(f\"Validation Accuracy: {accuracy:.4f}\")\n"
      ],
      "metadata": {
        "colab": {
          "base_uri": "https://localhost:8080/"
        },
        "outputId": "ffa6e6a5-06f9-409d-fd54-89fd090c928f",
        "id": "u6tAHtnFIRWC"
      },
      "execution_count": null,
      "outputs": [
        {
          "output_type": "stream",
          "name": "stdout",
          "text": [
            "Validation Accuracy: 1.0000\n"
          ]
        }
      ]
    },
    {
      "cell_type": "markdown",
      "source": [
        "# Task ID37: 219"
      ],
      "metadata": {
        "id": "yGgmlLAKULw-"
      }
    },
    {
      "cell_type": "code",
      "source": [
        "\n",
        "\n",
        "# Main execution\n",
        "if __name__ == \"__main__\":\n",
        "    # Specify OpenML task ID\n",
        "    task_id = 219  # Replace with your desired task ID\n",
        "    X, y = load_openml_data(task_id)\n",
        "\n",
        "    # Determine number of features and classes from the dataset\n",
        "    num_features = X.shape[1]\n",
        "    num_classes = len(np.unique(y))\n",
        "\n",
        "    # Split the dataset\n",
        "    X_train, X_val, y_train, y_val = train_test_split(X, y, test_size=0.2, random_state=42)\n",
        "\n",
        "    # Define parameters and arguments\n",
        "    params = {\n",
        "        \"p_m\": 0.5,\n",
        "        \"alpha\": 3.0,\n",
        "    }\n",
        "    args = {\n",
        "        \"num_features\": num_features,\n",
        "        \"num_classes\": num_classes,\n",
        "        \"batch_size\": 32,\n",
        "        \"epochs\": 10,\n",
        "        \"device\": torch.device(\"cuda\" if torch.cuda.is_available() else \"cpu\"),\n",
        "        \"data_parallel\": False,\n",
        "    }\n",
        "\n",
        "    # Initialize and train VIME model\n",
        "    model = VIME(params, args)\n",
        "    accuracy = model.fit(X_train, y_train, X_val, y_val)\n",
        "\n",
        "    # Print only validation accuracy\n",
        "    print(f\"Validation Accuracy: {accuracy:.4f}\")\n"
      ],
      "metadata": {
        "colab": {
          "base_uri": "https://localhost:8080/"
        },
        "outputId": "3df513ab-b90e-4ec7-9ec7-7149f8ca0f5a",
        "id": "fLqNJQRhIR-1"
      },
      "execution_count": null,
      "outputs": [
        {
          "output_type": "stream",
          "name": "stdout",
          "text": [
            "Validation Accuracy: 0.7723\n"
          ]
        }
      ]
    },
    {
      "cell_type": "markdown",
      "source": [
        "# Task ID38: 9976"
      ],
      "metadata": {
        "id": "1SP0wCLxUMfZ"
      }
    },
    {
      "cell_type": "code",
      "source": [
        "\n",
        "\n",
        "# Main execution\n",
        "if __name__ == \"__main__\":\n",
        "    # Specify OpenML task ID\n",
        "    task_id = 9976  # Replace with your desired task ID\n",
        "    X, y = load_openml_data(task_id)\n",
        "\n",
        "    # Determine number of features and classes from the dataset\n",
        "    num_features = X.shape[1]\n",
        "    num_classes = len(np.unique(y))\n",
        "\n",
        "    # Split the dataset\n",
        "    X_train, X_val, y_train, y_val = train_test_split(X, y, test_size=0.2, random_state=42)\n",
        "\n",
        "    # Define parameters and arguments\n",
        "    params = {\n",
        "        \"p_m\": 0.5,\n",
        "        \"alpha\": 3.0,\n",
        "    }\n",
        "    args = {\n",
        "        \"num_features\": num_features,\n",
        "        \"num_classes\": num_classes,\n",
        "        \"batch_size\": 32,\n",
        "        \"epochs\": 10,\n",
        "        \"device\": torch.device(\"cuda\" if torch.cuda.is_available() else \"cpu\"),\n",
        "        \"data_parallel\": False,\n",
        "    }\n",
        "\n",
        "    # Initialize and train VIME model\n",
        "    model = VIME(params, args)\n",
        "    accuracy = model.fit(X_train, y_train, X_val, y_val)\n",
        "\n",
        "    # Print only validation accuracy\n",
        "    print(f\"Validation Accuracy: {accuracy:.4f}\")\n"
      ],
      "metadata": {
        "colab": {
          "base_uri": "https://localhost:8080/"
        },
        "outputId": "a08dc9df-3e8a-475a-8e42-05bf6138937f",
        "id": "DnKJXlphISXF"
      },
      "execution_count": null,
      "outputs": [
        {
          "output_type": "stream",
          "name": "stdout",
          "text": [
            "Validation Accuracy: 0.4942\n"
          ]
        }
      ]
    },
    {
      "cell_type": "markdown",
      "source": [
        "# Task ID39: 6"
      ],
      "metadata": {
        "id": "S65JoO55UMry"
      }
    },
    {
      "cell_type": "code",
      "source": [
        "\n",
        "\n",
        "# Main execution\n",
        "if __name__ == \"__main__\":\n",
        "    # Specify OpenML task ID\n",
        "    task_id = 6  # Replace with your desired task ID\n",
        "    X, y = load_openml_data(task_id)\n",
        "\n",
        "    # Determine number of features and classes from the dataset\n",
        "    num_features = X.shape[1]\n",
        "    num_classes = len(np.unique(y))\n",
        "\n",
        "    # Split the dataset\n",
        "    X_train, X_val, y_train, y_val = train_test_split(X, y, test_size=0.2, random_state=42)\n",
        "\n",
        "    # Define parameters and arguments\n",
        "    params = {\n",
        "        \"p_m\": 0.5,\n",
        "        \"alpha\": 3.0,\n",
        "    }\n",
        "    args = {\n",
        "        \"num_features\": num_features,\n",
        "        \"num_classes\": num_classes,\n",
        "        \"batch_size\": 32,\n",
        "        \"epochs\": 10,\n",
        "        \"device\": torch.device(\"cuda\" if torch.cuda.is_available() else \"cpu\"),\n",
        "        \"data_parallel\": False,\n",
        "    }\n",
        "\n",
        "    # Initialize and train VIME model\n",
        "    model = VIME(params, args)\n",
        "    accuracy = model.fit(X_train, y_train, X_val, y_val)\n",
        "\n",
        "    # Print only validation accuracy\n",
        "    print(f\"Validation Accuracy: {accuracy:.4f}\")\n"
      ],
      "metadata": {
        "colab": {
          "base_uri": "https://localhost:8080/"
        },
        "outputId": "dd1f691c-9f98-4e07-b20a-34306ec73024",
        "id": "J8DiKDNZIStZ"
      },
      "execution_count": null,
      "outputs": [
        {
          "output_type": "stream",
          "name": "stdout",
          "text": [
            "Validation Accuracy: 0.9143\n"
          ]
        }
      ]
    },
    {
      "cell_type": "markdown",
      "source": [
        "# Task ID40: 53"
      ],
      "metadata": {
        "id": "BEsQTY0-UM3x"
      }
    },
    {
      "cell_type": "code",
      "source": [
        "\n",
        "\n",
        "# Main execution\n",
        "if __name__ == \"__main__\":\n",
        "    # Specify OpenML task ID\n",
        "    task_id = 53  # Replace with your desired task ID\n",
        "    X, y = load_openml_data(task_id)\n",
        "\n",
        "    # Determine number of features and classes from the dataset\n",
        "    num_features = X.shape[1]\n",
        "    num_classes = len(np.unique(y))\n",
        "\n",
        "    # Split the dataset\n",
        "    X_train, X_val, y_train, y_val = train_test_split(X, y, test_size=0.2, random_state=42)\n",
        "\n",
        "    # Define parameters and arguments\n",
        "    params = {\n",
        "        \"p_m\": 0.5,\n",
        "        \"alpha\": 3.0,\n",
        "    }\n",
        "    args = {\n",
        "        \"num_features\": num_features,\n",
        "        \"num_classes\": num_classes,\n",
        "        \"batch_size\": 32,\n",
        "        \"epochs\": 10,\n",
        "        \"device\": torch.device(\"cuda\" if torch.cuda.is_available() else \"cpu\"),\n",
        "        \"data_parallel\": False,\n",
        "    }\n",
        "\n",
        "    # Initialize and train VIME model\n",
        "    model = VIME(params, args)\n",
        "    accuracy = model.fit(X_train, y_train, X_val, y_val)\n",
        "\n",
        "    # Print only validation accuracy\n",
        "    print(f\"Validation Accuracy: {accuracy:.4f}\")\n"
      ],
      "metadata": {
        "colab": {
          "base_uri": "https://localhost:8080/"
        },
        "outputId": "efb77b14-883a-4596-c269-d1b6df6162ed",
        "id": "wv0hdVPxITFK"
      },
      "execution_count": null,
      "outputs": [
        {
          "output_type": "stream",
          "name": "stdout",
          "text": [
            "Validation Accuracy: 0.5176\n"
          ]
        }
      ]
    },
    {
      "cell_type": "markdown",
      "source": [
        "# Task ID41: 11"
      ],
      "metadata": {
        "id": "dI13mhhGUNDw"
      }
    },
    {
      "cell_type": "code",
      "source": [
        "\n",
        "\n",
        "# Main execution\n",
        "if __name__ == \"__main__\":\n",
        "    # Specify OpenML task ID\n",
        "    task_id = 11  # Replace with your desired task ID\n",
        "    X, y = load_openml_data(task_id)\n",
        "\n",
        "    # Determine number of features and classes from the dataset\n",
        "    num_features = X.shape[1]\n",
        "    num_classes = len(np.unique(y))\n",
        "\n",
        "    # Split the dataset\n",
        "    X_train, X_val, y_train, y_val = train_test_split(X, y, test_size=0.2, random_state=42)\n",
        "\n",
        "    # Define parameters and arguments\n",
        "    params = {\n",
        "        \"p_m\": 0.5,\n",
        "        \"alpha\": 3.0,\n",
        "    }\n",
        "    args = {\n",
        "        \"num_features\": num_features,\n",
        "        \"num_classes\": num_classes,\n",
        "        \"batch_size\": 32,\n",
        "        \"epochs\": 10,\n",
        "        \"device\": torch.device(\"cuda\" if torch.cuda.is_available() else \"cpu\"),\n",
        "        \"data_parallel\": False,\n",
        "    }\n",
        "\n",
        "    # Initialize and train VIME model\n",
        "    model = VIME(params, args)\n",
        "    accuracy = model.fit(X_train, y_train, X_val, y_val)\n",
        "\n",
        "    # Print only validation accuracy\n",
        "    print(f\"Validation Accuracy: {accuracy:.4f}\")\n"
      ],
      "metadata": {
        "colab": {
          "base_uri": "https://localhost:8080/"
        },
        "outputId": "a1aa2110-261e-4564-8516-d4fd196036d0",
        "id": "zPqB9lzKITr3"
      },
      "execution_count": null,
      "outputs": [
        {
          "output_type": "stream",
          "name": "stdout",
          "text": [
            "Validation Accuracy: 0.9840\n"
          ]
        }
      ]
    },
    {
      "cell_type": "markdown",
      "source": [
        "# Task ID42: 15"
      ],
      "metadata": {
        "id": "L6e6nkQbUNPt"
      }
    },
    {
      "cell_type": "code",
      "source": [
        "\n",
        "\n",
        "# Main execution\n",
        "if __name__ == \"__main__\":\n",
        "    # Specify OpenML task ID\n",
        "    task_id = 15  # Replace with your desired task ID\n",
        "    X, y = load_openml_data(task_id)\n",
        "\n",
        "    # Determine number of features and classes from the dataset\n",
        "    num_features = X.shape[1]\n",
        "    num_classes = len(np.unique(y))\n",
        "\n",
        "    # Split the dataset\n",
        "    X_train, X_val, y_train, y_val = train_test_split(X, y, test_size=0.2, random_state=42)\n",
        "\n",
        "    # Define parameters and arguments\n",
        "    params = {\n",
        "        \"p_m\": 0.5,\n",
        "        \"alpha\": 3.0,\n",
        "    }\n",
        "    args = {\n",
        "        \"num_features\": num_features,\n",
        "        \"num_classes\": num_classes,\n",
        "        \"batch_size\": 32,\n",
        "        \"epochs\": 10,\n",
        "        \"device\": torch.device(\"cuda\" if torch.cuda.is_available() else \"cpu\"),\n",
        "        \"data_parallel\": False,\n",
        "    }\n",
        "\n",
        "    # Initialize and train VIME model\n",
        "    model = VIME(params, args)\n",
        "    accuracy = model.fit(X_train, y_train, X_val, y_val)\n",
        "\n",
        "    # Print only validation accuracy\n",
        "    print(f\"Validation Accuracy: {accuracy:.4f}\")\n"
      ],
      "metadata": {
        "colab": {
          "base_uri": "https://localhost:8080/"
        },
        "outputId": "968d64a0-5994-4866-8e76-cc3b71b50e96",
        "id": "qKPfcYxtIUKU"
      },
      "execution_count": null,
      "outputs": [
        {
          "output_type": "stream",
          "name": "stdout",
          "text": [
            "Validation Accuracy: 0.9857\n"
          ]
        }
      ]
    },
    {
      "cell_type": "markdown",
      "source": [
        "# Task ID43: 16"
      ],
      "metadata": {
        "id": "iNhJDlrKUNat"
      }
    },
    {
      "cell_type": "code",
      "source": [
        "\n",
        "\n",
        "# Main execution\n",
        "if __name__ == \"__main__\":\n",
        "    # Specify OpenML task ID\n",
        "    task_id = 16  # Replace with your desired task ID\n",
        "    X, y = load_openml_data(task_id)\n",
        "\n",
        "    # Determine number of features and classes from the dataset\n",
        "    num_features = X.shape[1]\n",
        "    num_classes = len(np.unique(y))\n",
        "\n",
        "    # Split the dataset\n",
        "    X_train, X_val, y_train, y_val = train_test_split(X, y, test_size=0.2, random_state=42)\n",
        "\n",
        "    # Define parameters and arguments\n",
        "    params = {\n",
        "        \"p_m\": 0.5,\n",
        "        \"alpha\": 3.0,\n",
        "    }\n",
        "    args = {\n",
        "        \"num_features\": num_features,\n",
        "        \"num_classes\": num_classes,\n",
        "        \"batch_size\": 32,\n",
        "        \"epochs\": 10,\n",
        "        \"device\": torch.device(\"cuda\" if torch.cuda.is_available() else \"cpu\"),\n",
        "        \"data_parallel\": False,\n",
        "    }\n",
        "\n",
        "    # Initialize and train VIME model\n",
        "    model = VIME(params, args)\n",
        "    accuracy = model.fit(X_train, y_train, X_val, y_val)\n",
        "\n",
        "    # Print only validation accuracy\n",
        "    print(f\"Validation Accuracy: {accuracy:.4f}\")\n"
      ],
      "metadata": {
        "colab": {
          "base_uri": "https://localhost:8080/"
        },
        "outputId": "cc4993e2-53a7-4f3b-db05-5b9bba4a2a38",
        "id": "wDAeH9iNIUj7"
      },
      "execution_count": null,
      "outputs": [
        {
          "output_type": "stream",
          "name": "stdout",
          "text": [
            "Validation Accuracy: 0.9725\n"
          ]
        }
      ]
    },
    {
      "cell_type": "markdown",
      "source": [
        "# Task ID44: 14"
      ],
      "metadata": {
        "id": "Ng32K-haUNl5"
      }
    },
    {
      "cell_type": "code",
      "source": [
        "\n",
        "\n",
        "# Main execution\n",
        "if __name__ == \"__main__\":\n",
        "    # Specify OpenML task ID\n",
        "    task_id = 14  # Replace with your desired task ID\n",
        "    X, y = load_openml_data(task_id)\n",
        "\n",
        "    # Determine number of features and classes from the dataset\n",
        "    num_features = X.shape[1]\n",
        "    num_classes = len(np.unique(y))\n",
        "\n",
        "    # Split the dataset\n",
        "    X_train, X_val, y_train, y_val = train_test_split(X, y, test_size=0.2, random_state=42)\n",
        "\n",
        "    # Define parameters and arguments\n",
        "    params = {\n",
        "        \"p_m\": 0.5,\n",
        "        \"alpha\": 3.0,\n",
        "    }\n",
        "    args = {\n",
        "        \"num_features\": num_features,\n",
        "        \"num_classes\": num_classes,\n",
        "        \"batch_size\": 32,\n",
        "        \"epochs\": 10,\n",
        "        \"device\": torch.device(\"cuda\" if torch.cuda.is_available() else \"cpu\"),\n",
        "        \"data_parallel\": False,\n",
        "    }\n",
        "\n",
        "    # Initialize and train VIME model\n",
        "    model = VIME(params, args)\n",
        "    accuracy = model.fit(X_train, y_train, X_val, y_val)\n",
        "\n",
        "    # Print only validation accuracy\n",
        "    print(f\"Validation Accuracy: {accuracy:.4f}\")\n"
      ],
      "metadata": {
        "colab": {
          "base_uri": "https://localhost:8080/"
        },
        "outputId": "4e35193b-2006-474f-c04f-d172510b954c",
        "id": "-0JGwvmyIU78"
      },
      "execution_count": null,
      "outputs": [
        {
          "output_type": "stream",
          "name": "stdout",
          "text": [
            "Validation Accuracy: 0.6975\n"
          ]
        }
      ]
    },
    {
      "cell_type": "markdown",
      "source": [
        "# Task ID45: 32"
      ],
      "metadata": {
        "id": "WL9ZOy4AUNws"
      }
    },
    {
      "cell_type": "code",
      "source": [
        "\n",
        "\n",
        "# Main execution\n",
        "if __name__ == \"__main__\":\n",
        "    # Specify OpenML task ID\n",
        "    task_id = 32  # Replace with your desired task ID\n",
        "    X, y = load_openml_data(task_id)\n",
        "\n",
        "    # Determine number of features and classes from the dataset\n",
        "    num_features = X.shape[1]\n",
        "    num_classes = len(np.unique(y))\n",
        "\n",
        "    # Split the dataset\n",
        "    X_train, X_val, y_train, y_val = train_test_split(X, y, test_size=0.2, random_state=42)\n",
        "\n",
        "    # Define parameters and arguments\n",
        "    params = {\n",
        "        \"p_m\": 0.5,\n",
        "        \"alpha\": 3.0,\n",
        "    }\n",
        "    args = {\n",
        "        \"num_features\": num_features,\n",
        "        \"num_classes\": num_classes,\n",
        "        \"batch_size\": 32,\n",
        "        \"epochs\": 10,\n",
        "        \"device\": torch.device(\"cuda\" if torch.cuda.is_available() else \"cpu\"),\n",
        "        \"data_parallel\": False,\n",
        "    }\n",
        "\n",
        "    # Initialize and train VIME model\n",
        "    model = VIME(params, args)\n",
        "    accuracy = model.fit(X_train, y_train, X_val, y_val)\n",
        "\n",
        "    # Print only validation accuracy\n",
        "    print(f\"Validation Accuracy: {accuracy:.4f}\")\n"
      ],
      "metadata": {
        "colab": {
          "base_uri": "https://localhost:8080/"
        },
        "outputId": "72e4cb3e-2dfc-473b-9c57-84d17748391a",
        "id": "xav-_yaCIVba"
      },
      "execution_count": null,
      "outputs": [
        {
          "output_type": "stream",
          "name": "stdout",
          "text": [
            "Validation Accuracy: 0.9914\n"
          ]
        }
      ]
    },
    {
      "cell_type": "markdown",
      "source": [
        "# Task ID46: 3549"
      ],
      "metadata": {
        "id": "ewtX2G2PUN7x"
      }
    },
    {
      "cell_type": "code",
      "source": [
        "\n",
        "\n",
        "# Main execution\n",
        "if __name__ == \"__main__\":\n",
        "    # Specify OpenML task ID\n",
        "    task_id =  3549  # Replace with your desired task ID\n",
        "    X, y = load_openml_data(task_id)\n",
        "\n",
        "    # Determine number of features and classes from the dataset\n",
        "    num_features = X.shape[1]\n",
        "    num_classes = len(np.unique(y))\n",
        "\n",
        "    # Split the dataset\n",
        "    X_train, X_val, y_train, y_val = train_test_split(X, y, test_size=0.2, random_state=42)\n",
        "\n",
        "    # Define parameters and arguments\n",
        "    params = {\n",
        "        \"p_m\": 0.5,\n",
        "        \"alpha\": 3.0,\n",
        "    }\n",
        "    args = {\n",
        "        \"num_features\": num_features,\n",
        "        \"num_classes\": num_classes,\n",
        "        \"batch_size\": 32,\n",
        "        \"epochs\": 10,\n",
        "        \"device\": torch.device(\"cuda\" if torch.cuda.is_available() else \"cpu\"),\n",
        "        \"data_parallel\": False,\n",
        "    }\n",
        "\n",
        "    # Initialize and train VIME model\n",
        "    model = VIME(params, args)\n",
        "    accuracy = model.fit(X_train, y_train, X_val, y_val)\n",
        "\n",
        "    # Print only validation accuracy\n",
        "    print(f\"Validation Accuracy: {accuracy:.4f}\")\n"
      ],
      "metadata": {
        "colab": {
          "base_uri": "https://localhost:8080/"
        },
        "outputId": "7df58673-718b-4582-e6bb-3af4188e6729",
        "id": "Mo1mi1l8IWpY"
      },
      "execution_count": null,
      "outputs": [
        {
          "output_type": "stream",
          "name": "stdout",
          "text": [
            "Validation Accuracy: 0.9941\n"
          ]
        }
      ]
    },
    {
      "cell_type": "markdown",
      "source": [
        "# Task ID47: 12"
      ],
      "metadata": {
        "id": "7vNpomuQUOGc"
      }
    },
    {
      "cell_type": "code",
      "source": [
        "\n",
        "\n",
        "# Main execution\n",
        "if __name__ == \"__main__\":\n",
        "    # Specify OpenML task ID\n",
        "    task_id = 12  # Replace with your desired task ID\n",
        "    X, y = load_openml_data(task_id)\n",
        "\n",
        "    # Determine number of features and classes from the dataset\n",
        "    num_features = X.shape[1]\n",
        "    num_classes = len(np.unique(y))\n",
        "\n",
        "    # Split the dataset\n",
        "    X_train, X_val, y_train, y_val = train_test_split(X, y, test_size=0.2, random_state=42)\n",
        "\n",
        "    # Define parameters and arguments\n",
        "    params = {\n",
        "        \"p_m\": 0.5,\n",
        "        \"alpha\": 3.0,\n",
        "    }\n",
        "    args = {\n",
        "        \"num_features\": num_features,\n",
        "        \"num_classes\": num_classes,\n",
        "        \"batch_size\": 32,\n",
        "        \"epochs\": 10,\n",
        "        \"device\": torch.device(\"cuda\" if torch.cuda.is_available() else \"cpu\"),\n",
        "        \"data_parallel\": False,\n",
        "    }\n",
        "\n",
        "    # Initialize and train VIME model\n",
        "    model = VIME(params, args)\n",
        "    accuracy = model.fit(X_train, y_train, X_val, y_val)\n",
        "\n",
        "    # Print only validation accuracy\n",
        "    print(f\"Validation Accuracy: {accuracy:.4f}\")\n"
      ],
      "metadata": {
        "colab": {
          "base_uri": "https://localhost:8080/"
        },
        "outputId": "2a470d52-8ff3-40b8-8f52-8bb7b4971dd6",
        "id": "kmj_BrCdIXEl"
      },
      "execution_count": null,
      "outputs": [
        {
          "output_type": "stream",
          "name": "stdout",
          "text": [
            "Validation Accuracy: 0.8675\n"
          ]
        }
      ]
    },
    {
      "cell_type": "markdown",
      "source": [
        "# Task ID48: 9981"
      ],
      "metadata": {
        "id": "fWOstqIAUORB"
      }
    },
    {
      "cell_type": "code",
      "source": [
        "\n",
        "\n",
        "# Main execution\n",
        "if __name__ == \"__main__\":\n",
        "    # Specify OpenML task ID\n",
        "    task_id = 9981  # Replace with your desired task ID\n",
        "    X, y = load_openml_data(task_id)\n",
        "\n",
        "    # Determine number of features and classes from the dataset\n",
        "    num_features = X.shape[1]\n",
        "    num_classes = len(np.unique(y))\n",
        "\n",
        "    # Split the dataset\n",
        "    X_train, X_val, y_train, y_val = train_test_split(X, y, test_size=0.2, random_state=42)\n",
        "\n",
        "    # Define parameters and arguments\n",
        "    params = {\n",
        "        \"p_m\": 0.5,\n",
        "        \"alpha\": 3.0,\n",
        "    }\n",
        "    args = {\n",
        "        \"num_features\": num_features,\n",
        "        \"num_classes\": num_classes,\n",
        "        \"batch_size\": 32,\n",
        "        \"epochs\": 10,\n",
        "        \"device\": torch.device(\"cuda\" if torch.cuda.is_available() else \"cpu\"),\n",
        "        \"data_parallel\": False,\n",
        "    }\n",
        "\n",
        "    # Initialize and train VIME model\n",
        "    model = VIME(params, args)\n",
        "    accuracy = model.fit(X_train, y_train, X_val, y_val)\n",
        "\n",
        "    # Print only validation accuracy\n",
        "    print(f\"Validation Accuracy: {accuracy:.4f}\")\n"
      ],
      "metadata": {
        "colab": {
          "base_uri": "https://localhost:8080/"
        },
        "outputId": "f53b2778-c885-4e8a-ea45-cc0eeaee7f5b",
        "id": "tT_jVhKtIXbI"
      },
      "execution_count": null,
      "outputs": [
        {
          "output_type": "stream",
          "name": "stdout",
          "text": [
            "Validation Accuracy: 0.9398\n"
          ]
        }
      ]
    },
    {
      "cell_type": "markdown",
      "source": [
        "# Task ID49: 18"
      ],
      "metadata": {
        "id": "lhXlnoGdUObZ"
      }
    },
    {
      "cell_type": "code",
      "source": [
        "\n",
        "\n",
        "# Main execution\n",
        "if __name__ == \"__main__\":\n",
        "    # Specify OpenML task ID\n",
        "    task_id = 18  # Replace with your desired task ID\n",
        "    X, y = load_openml_data(task_id)\n",
        "\n",
        "    # Determine number of features and classes from the dataset\n",
        "    num_features = X.shape[1]\n",
        "    num_classes = len(np.unique(y))\n",
        "\n",
        "    # Split the dataset\n",
        "    X_train, X_val, y_train, y_val = train_test_split(X, y, test_size=0.2, random_state=42)\n",
        "\n",
        "    # Define parameters and arguments\n",
        "    params = {\n",
        "        \"p_m\": 0.5,\n",
        "        \"alpha\": 3.0,\n",
        "    }\n",
        "    args = {\n",
        "        \"num_features\": num_features,\n",
        "        \"num_classes\": num_classes,\n",
        "        \"batch_size\": 32,\n",
        "        \"epochs\": 10,\n",
        "        \"device\": torch.device(\"cuda\" if torch.cuda.is_available() else \"cpu\"),\n",
        "        \"data_parallel\": False,\n",
        "    }\n",
        "\n",
        "    # Initialize and train VIME model\n",
        "    model = VIME(params, args)\n",
        "    accuracy = model.fit(X_train, y_train, X_val, y_val)\n",
        "\n",
        "    # Print only validation accuracy\n",
        "    print(f\"Validation Accuracy: {accuracy:.4f}\")\n"
      ],
      "metadata": {
        "colab": {
          "base_uri": "https://localhost:8080/"
        },
        "outputId": "9353f5be-b814-4d96-a265-bc4481b3c5bf",
        "id": "KsjwcFSpIX65"
      },
      "execution_count": null,
      "outputs": [
        {
          "output_type": "stream",
          "name": "stdout",
          "text": [
            "Validation Accuracy: 0.3050\n"
          ]
        }
      ]
    },
    {
      "cell_type": "markdown",
      "source": [
        "# Task ID50: 28"
      ],
      "metadata": {
        "id": "WJJ0ZiGDUOnY"
      }
    },
    {
      "cell_type": "code",
      "source": [
        "\n",
        "\n",
        "# Main execution\n",
        "if __name__ == \"__main__\":\n",
        "    # Specify OpenML task ID\n",
        "    task_id = 28  # Replace with your desired task ID\n",
        "    X, y = load_openml_data(task_id)\n",
        "\n",
        "    # Determine number of features and classes from the dataset\n",
        "    num_features = X.shape[1]\n",
        "    num_classes = len(np.unique(y))\n",
        "\n",
        "    # Split the dataset\n",
        "    X_train, X_val, y_train, y_val = train_test_split(X, y, test_size=0.2, random_state=42)\n",
        "\n",
        "    # Define parameters and arguments\n",
        "    params = {\n",
        "        \"p_m\": 0.5,\n",
        "        \"alpha\": 3.0,\n",
        "    }\n",
        "    args = {\n",
        "        \"num_features\": num_features,\n",
        "        \"num_classes\": num_classes,\n",
        "        \"batch_size\": 32,\n",
        "        \"epochs\": 10,\n",
        "        \"device\": torch.device(\"cuda\" if torch.cuda.is_available() else \"cpu\"),\n",
        "        \"data_parallel\": False,\n",
        "    }\n",
        "\n",
        "    # Initialize and train VIME model\n",
        "    model = VIME(params, args)\n",
        "    accuracy = model.fit(X_train, y_train, X_val, y_val)\n",
        "\n",
        "    # Print only validation accuracy\n",
        "    print(f\"Validation Accuracy: {accuracy:.4f}\")\n"
      ],
      "metadata": {
        "colab": {
          "base_uri": "https://localhost:8080/"
        },
        "outputId": "be0c5329-0e04-4689-ffdd-7e6a777570fc",
        "id": "G1uF136dIYRb"
      },
      "execution_count": null,
      "outputs": [
        {
          "output_type": "stream",
          "name": "stdout",
          "text": [
            "Validation Accuracy: 0.9564\n"
          ]
        }
      ]
    },
    {
      "cell_type": "markdown",
      "source": [
        "# Task ID51: 2074"
      ],
      "metadata": {
        "id": "cDW6wxhbUOzO"
      }
    },
    {
      "cell_type": "code",
      "source": [
        "\n",
        "\n",
        "# Main execution\n",
        "if __name__ == \"__main__\":\n",
        "    # Specify OpenML task ID\n",
        "    task_id = 2074  # Replace with your desired task ID\n",
        "    X, y = load_openml_data(task_id)\n",
        "\n",
        "    # Determine number of features and classes from the dataset\n",
        "    num_features = X.shape[1]\n",
        "    num_classes = len(np.unique(y))\n",
        "\n",
        "    # Split the dataset\n",
        "    X_train, X_val, y_train, y_val = train_test_split(X, y, test_size=0.2, random_state=42)\n",
        "\n",
        "    # Define parameters and arguments\n",
        "    params = {\n",
        "        \"p_m\": 0.5,\n",
        "        \"alpha\": 3.0,\n",
        "    }\n",
        "    args = {\n",
        "        \"num_features\": num_features,\n",
        "        \"num_classes\": num_classes,\n",
        "        \"batch_size\": 32,\n",
        "        \"epochs\": 10,\n",
        "        \"device\": torch.device(\"cuda\" if torch.cuda.is_available() else \"cpu\"),\n",
        "        \"data_parallel\": False,\n",
        "    }\n",
        "\n",
        "    # Initialize and train VIME model\n",
        "    model = VIME(params, args)\n",
        "    accuracy = model.fit(X_train, y_train, X_val, y_val)\n",
        "\n",
        "    # Print only validation accuracy\n",
        "    print(f\"Validation Accuracy: {accuracy:.4f}\")\n"
      ],
      "metadata": {
        "colab": {
          "base_uri": "https://localhost:8080/"
        },
        "outputId": "e4844518-5a0f-448e-9256-271d3f53a317",
        "id": "1dvlPtFCIYpQ"
      },
      "execution_count": null,
      "outputs": [
        {
          "output_type": "stream",
          "name": "stdout",
          "text": [
            "Validation Accuracy: 0.9020\n"
          ]
        }
      ]
    },
    {
      "cell_type": "markdown",
      "source": [
        "# Task ID52: 29"
      ],
      "metadata": {
        "id": "x8l_UBrFUO-k"
      }
    },
    {
      "cell_type": "code",
      "source": [
        "\n",
        "\n",
        "# Main execution\n",
        "if __name__ == \"__main__\":\n",
        "    # Specify OpenML task ID\n",
        "    task_id = 29  # Replace with your desired task ID\n",
        "    X, y = load_openml_data(task_id)\n",
        "\n",
        "    # Determine number of features and classes from the dataset\n",
        "    num_features = X.shape[1]\n",
        "    num_classes = len(np.unique(y))\n",
        "\n",
        "    # Split the dataset\n",
        "    X_train, X_val, y_train, y_val = train_test_split(X, y, test_size=0.2, random_state=42)\n",
        "\n",
        "    # Define parameters and arguments\n",
        "    params = {\n",
        "        \"p_m\": 0.5,\n",
        "        \"alpha\": 3.0,\n",
        "    }\n",
        "    args = {\n",
        "        \"num_features\": num_features,\n",
        "        \"num_classes\": num_classes,\n",
        "        \"batch_size\": 32,\n",
        "        \"epochs\": 10,\n",
        "        \"device\": torch.device(\"cuda\" if torch.cuda.is_available() else \"cpu\"),\n",
        "        \"data_parallel\": False,\n",
        "    }\n",
        "\n",
        "    # Initialize and train VIME model\n",
        "    model = VIME(params, args)\n",
        "    accuracy = model.fit(X_train, y_train, X_val, y_val)\n",
        "\n",
        "    # Print only validation accuracy\n",
        "    print(f\"Validation Accuracy: {accuracy:.4f}\")\n"
      ],
      "metadata": {
        "colab": {
          "base_uri": "https://localhost:8080/"
        },
        "outputId": "ed666cb7-6671-4678-b1e3-a67ca7ec9166",
        "id": "ZXK3ijbzIZAm"
      },
      "execution_count": null,
      "outputs": [
        {
          "output_type": "stream",
          "name": "stdout",
          "text": [
            "Validation Accuracy: 0.6304\n"
          ]
        }
      ]
    },
    {
      "cell_type": "markdown",
      "source": [
        "# Task ID53: 45"
      ],
      "metadata": {
        "id": "K8UnhnOzUPJ-"
      }
    },
    {
      "cell_type": "code",
      "source": [
        "\n",
        "\n",
        "# Main execution\n",
        "if __name__ == \"__main__\":\n",
        "    # Specify OpenML task ID\n",
        "    task_id = 45  # Replace with your desired task ID\n",
        "    X, y = load_openml_data(task_id)\n",
        "\n",
        "    # Determine number of features and classes from the dataset\n",
        "    num_features = X.shape[1]\n",
        "    num_classes = len(np.unique(y))\n",
        "\n",
        "    # Split the dataset\n",
        "    X_train, X_val, y_train, y_val = train_test_split(X, y, test_size=0.2, random_state=42)\n",
        "\n",
        "    # Define parameters and arguments\n",
        "    params = {\n",
        "        \"p_m\": 0.5,\n",
        "        \"alpha\": 3.0,\n",
        "    }\n",
        "    args = {\n",
        "        \"num_features\": num_features,\n",
        "        \"num_classes\": num_classes,\n",
        "        \"batch_size\": 32,\n",
        "        \"epochs\": 10,\n",
        "        \"device\": torch.device(\"cuda\" if torch.cuda.is_available() else \"cpu\"),\n",
        "        \"data_parallel\": False,\n",
        "    }\n",
        "\n",
        "    # Initialize and train VIME model\n",
        "    model = VIME(params, args)\n",
        "    accuracy = model.fit(X_train, y_train, X_val, y_val)\n",
        "\n",
        "    # Print only validation accuracy\n",
        "    print(f\"Validation Accuracy: {accuracy:.4f}\")\n"
      ],
      "metadata": {
        "colab": {
          "base_uri": "https://localhost:8080/"
        },
        "outputId": "863281e5-9339-447e-9922-78a9708e1f4b",
        "id": "u3XSvZ1KIZYU"
      },
      "execution_count": null,
      "outputs": [
        {
          "output_type": "stream",
          "name": "stderr",
          "text": [
            "/usr/local/lib/python3.10/dist-packages/torch/nn/init.py:511: UserWarning: Initializing zero-element tensors is a no-op\n",
            "  warnings.warn(\"Initializing zero-element tensors is a no-op\")\n"
          ]
        },
        {
          "output_type": "stream",
          "name": "stdout",
          "text": [
            "Validation Accuracy: 0.5000\n"
          ]
        }
      ]
    },
    {
      "cell_type": "markdown",
      "source": [
        "# Task ID54: 125922"
      ],
      "metadata": {
        "id": "FIX9XbrkUPVf"
      }
    },
    {
      "cell_type": "code",
      "source": [
        "\n",
        "\n",
        "# Main execution\n",
        "if __name__ == \"__main__\":\n",
        "    # Specify OpenML task ID\n",
        "    task_id = 125922  # Replace with your desired task ID\n",
        "    X, y = load_openml_data(task_id)\n",
        "\n",
        "    # Determine number of features and classes from the dataset\n",
        "    num_features = X.shape[1]\n",
        "    num_classes = len(np.unique(y))\n",
        "\n",
        "    # Split the dataset\n",
        "    X_train, X_val, y_train, y_val = train_test_split(X, y, test_size=0.2, random_state=42)\n",
        "\n",
        "    # Define parameters and arguments\n",
        "    params = {\n",
        "        \"p_m\": 0.5,\n",
        "        \"alpha\": 3.0,\n",
        "    }\n",
        "    args = {\n",
        "        \"num_features\": num_features,\n",
        "        \"num_classes\": num_classes,\n",
        "        \"batch_size\": 32,\n",
        "        \"epochs\": 10,\n",
        "        \"device\": torch.device(\"cuda\" if torch.cuda.is_available() else \"cpu\"),\n",
        "        \"data_parallel\": False,\n",
        "    }\n",
        "\n",
        "    # Initialize and train VIME model\n",
        "    model = VIME(params, args)\n",
        "    accuracy = model.fit(X_train, y_train, X_val, y_val)\n",
        "\n",
        "    # Print only validation accuracy\n",
        "    print(f\"Validation Accuracy: {accuracy:.4f}\")\n"
      ],
      "metadata": {
        "colab": {
          "base_uri": "https://localhost:8080/"
        },
        "outputId": "41c08307-ab12-4dd6-9138-a43e8b3935a2",
        "id": "xUBqXIHsIaD3"
      },
      "execution_count": null,
      "outputs": [
        {
          "output_type": "stream",
          "name": "stdout",
          "text": [
            "Validation Accuracy: 0.9164\n"
          ]
        }
      ]
    },
    {
      "cell_type": "markdown",
      "source": [
        "# Task ID55: 9960"
      ],
      "metadata": {
        "id": "KbGl87-KUPhg"
      }
    },
    {
      "cell_type": "code",
      "source": [
        "\n",
        "\n",
        "# Main execution\n",
        "if __name__ == \"__main__\":\n",
        "    # Specify OpenML task ID\n",
        "    task_id = 9960  # Replace with your desired task ID\n",
        "    X, y = load_openml_data(task_id)\n",
        "\n",
        "    # Determine number of features and classes from the dataset\n",
        "    num_features = X.shape[1]\n",
        "    num_classes = len(np.unique(y))\n",
        "\n",
        "    # Split the dataset\n",
        "    X_train, X_val, y_train, y_val = train_test_split(X, y, test_size=0.2, random_state=42)\n",
        "\n",
        "    # Define parameters and arguments\n",
        "    params = {\n",
        "        \"p_m\": 0.5,\n",
        "        \"alpha\": 3.0,\n",
        "    }\n",
        "    args = {\n",
        "        \"num_features\": num_features,\n",
        "        \"num_classes\": num_classes,\n",
        "        \"batch_size\": 32,\n",
        "        \"epochs\": 10,\n",
        "        \"device\": torch.device(\"cuda\" if torch.cuda.is_available() else \"cpu\"),\n",
        "        \"data_parallel\": False,\n",
        "    }\n",
        "\n",
        "    # Initialize and train VIME model\n",
        "    model = VIME(params, args)\n",
        "    accuracy = model.fit(X_train, y_train, X_val, y_val)\n",
        "\n",
        "    # Print only validation accuracy\n",
        "    print(f\"Validation Accuracy: {accuracy:.4f}\")\n"
      ],
      "metadata": {
        "colab": {
          "base_uri": "https://localhost:8080/"
        },
        "outputId": "84b30642-bedf-404e-de4c-cd9fec528e92",
        "id": "8B1YCtcdIaoS"
      },
      "execution_count": null,
      "outputs": [
        {
          "output_type": "stream",
          "name": "stdout",
          "text": [
            "Validation Accuracy: 0.8718\n"
          ]
        }
      ]
    },
    {
      "cell_type": "markdown",
      "source": [
        "# Task ID56: 9964"
      ],
      "metadata": {
        "id": "XykMaPm-UPuA"
      }
    },
    {
      "cell_type": "code",
      "source": [
        "\n",
        "\n",
        "# Main execution\n",
        "if __name__ == \"__main__\":\n",
        "    # Specify OpenML task ID\n",
        "    task_id = 9964  # Replace with your desired task ID\n",
        "    X, y = load_openml_data(task_id)\n",
        "\n",
        "    # Determine number of features and classes from the dataset\n",
        "    num_features = X.shape[1]\n",
        "    num_classes = len(np.unique(y))\n",
        "\n",
        "    # Split the dataset\n",
        "    X_train, X_val, y_train, y_val = train_test_split(X, y, test_size=0.2, random_state=42)\n",
        "\n",
        "    # Define parameters and arguments\n",
        "    params = {\n",
        "        \"p_m\": 0.5,\n",
        "        \"alpha\": 3.0,\n",
        "    }\n",
        "    args = {\n",
        "        \"num_features\": num_features,\n",
        "        \"num_classes\": num_classes,\n",
        "        \"batch_size\": 32,\n",
        "        \"epochs\": 10,\n",
        "        \"device\": torch.device(\"cuda\" if torch.cuda.is_available() else \"cpu\"),\n",
        "        \"data_parallel\": False,\n",
        "    }\n",
        "\n",
        "    # Initialize and train VIME model\n",
        "    model = VIME(params, args)\n",
        "    accuracy = model.fit(X_train, y_train, X_val, y_val)\n",
        "\n",
        "    # Print only validation accuracy\n",
        "    print(f\"Validation Accuracy: {accuracy:.4f}\")\n"
      ],
      "metadata": {
        "colab": {
          "base_uri": "https://localhost:8080/"
        },
        "outputId": "3d32e76f-dcf4-4af0-8bfd-7ac22d5895ad",
        "id": "2VeCEdc9IbNH"
      },
      "execution_count": null,
      "outputs": [
        {
          "output_type": "stream",
          "name": "stdout",
          "text": [
            "Validation Accuracy: 0.8934\n"
          ]
        }
      ]
    },
    {
      "cell_type": "markdown",
      "source": [
        "# Task ID57: 22"
      ],
      "metadata": {
        "id": "sgLsaY6mUP5o"
      }
    },
    {
      "cell_type": "code",
      "source": [
        "\n",
        "\n",
        "# Main execution\n",
        "if __name__ == \"__main__\":\n",
        "    # Specify OpenML task ID\n",
        "    task_id = 22  # Replace with your desired task ID\n",
        "    X, y = load_openml_data(task_id)\n",
        "\n",
        "    # Determine number of features and classes from the dataset\n",
        "    num_features = X.shape[1]\n",
        "    num_classes = len(np.unique(y))\n",
        "\n",
        "    # Split the dataset\n",
        "    X_train, X_val, y_train, y_val = train_test_split(X, y, test_size=0.2, random_state=42)\n",
        "\n",
        "    # Define parameters and arguments\n",
        "    params = {\n",
        "        \"p_m\": 0.5,\n",
        "        \"alpha\": 3.0,\n",
        "    }\n",
        "    args = {\n",
        "        \"num_features\": num_features,\n",
        "        \"num_classes\": num_classes,\n",
        "        \"batch_size\": 32,\n",
        "        \"epochs\": 10,\n",
        "        \"device\": torch.device(\"cuda\" if torch.cuda.is_available() else \"cpu\"),\n",
        "        \"data_parallel\": False,\n",
        "    }\n",
        "\n",
        "    # Initialize and train VIME model\n",
        "    model = VIME(params, args)\n",
        "    accuracy = model.fit(X_train, y_train, X_val, y_val)\n",
        "\n",
        "    # Print only validation accuracy\n",
        "    print(f\"Validation Accuracy: {accuracy:.4f}\")\n"
      ],
      "metadata": {
        "colab": {
          "base_uri": "https://localhost:8080/"
        },
        "outputId": "19b6c43d-2c3a-473f-d369-adef0e75fba8",
        "id": "lp7lLLnHIcBk"
      },
      "execution_count": null,
      "outputs": [
        {
          "output_type": "stream",
          "name": "stdout",
          "text": [
            "Validation Accuracy: 0.8325\n"
          ]
        }
      ]
    },
    {
      "cell_type": "markdown",
      "source": [
        "# Task ID58: 2079"
      ],
      "metadata": {
        "id": "iPjBiyKOUQGo"
      }
    },
    {
      "cell_type": "code",
      "source": [
        "\n",
        "\n",
        "# Main execution\n",
        "if __name__ == \"__main__\":\n",
        "    # Specify OpenML task ID\n",
        "    task_id = 2079  # Replace with your desired task ID\n",
        "    X, y = load_openml_data(task_id)\n",
        "\n",
        "    # Determine number of features and classes from the dataset\n",
        "    num_features = X.shape[1]\n",
        "    num_classes = len(np.unique(y))\n",
        "\n",
        "    # Split the dataset\n",
        "    X_train, X_val, y_train, y_val = train_test_split(X, y, test_size=0.2, random_state=42)\n",
        "\n",
        "    # Define parameters and arguments\n",
        "    params = {\n",
        "        \"p_m\": 0.5,\n",
        "        \"alpha\": 3.0,\n",
        "    }\n",
        "    args = {\n",
        "        \"num_features\": num_features,\n",
        "        \"num_classes\": num_classes,\n",
        "        \"batch_size\": 32,\n",
        "        \"epochs\": 10,\n",
        "        \"device\": torch.device(\"cuda\" if torch.cuda.is_available() else \"cpu\"),\n",
        "        \"data_parallel\": False,\n",
        "    }\n",
        "\n",
        "    # Initialize and train VIME model\n",
        "    model = VIME(params, args)\n",
        "    accuracy = model.fit(X_train, y_train, X_val, y_val)\n",
        "\n",
        "    # Print only validation accuracy\n",
        "    print(f\"Validation Accuracy: {accuracy:.4f}\")\n"
      ],
      "metadata": {
        "colab": {
          "base_uri": "https://localhost:8080/"
        },
        "outputId": "9d3867fc-e509-40de-d7ec-afe6c566299b",
        "id": "f5GlyavbIcYT"
      },
      "execution_count": null,
      "outputs": [
        {
          "output_type": "stream",
          "name": "stdout",
          "text": [
            "Validation Accuracy: 0.4730\n"
          ]
        }
      ]
    },
    {
      "cell_type": "markdown",
      "source": [
        "# Task ID59: 14969"
      ],
      "metadata": {
        "id": "DCBskzEeUQTb"
      }
    },
    {
      "cell_type": "code",
      "source": [
        "\n",
        "\n",
        "# Main execution\n",
        "if __name__ == \"__main__\":\n",
        "    # Specify OpenML task ID\n",
        "    task_id = 14969  # Replace with your desired task ID\n",
        "    X, y = load_openml_data(task_id)\n",
        "\n",
        "    # Determine number of features and classes from the dataset\n",
        "    num_features = X.shape[1]\n",
        "    num_classes = len(np.unique(y))\n",
        "\n",
        "    # Split the dataset\n",
        "    X_train, X_val, y_train, y_val = train_test_split(X, y, test_size=0.2, random_state=42)\n",
        "\n",
        "    # Define parameters and arguments\n",
        "    params = {\n",
        "        \"p_m\": 0.5,\n",
        "        \"alpha\": 3.0,\n",
        "    }\n",
        "    args = {\n",
        "        \"num_features\": num_features,\n",
        "        \"num_classes\": num_classes,\n",
        "        \"batch_size\": 32,\n",
        "        \"epochs\": 10,\n",
        "        \"device\": torch.device(\"cuda\" if torch.cuda.is_available() else \"cpu\"),\n",
        "        \"data_parallel\": False,\n",
        "    }\n",
        "\n",
        "    # Initialize and train VIME model\n",
        "    model = VIME(params, args)\n",
        "    accuracy = model.fit(X_train, y_train, X_val, y_val)\n",
        "\n",
        "    # Print only validation accuracy\n",
        "    print(f\"Validation Accuracy: {accuracy:.4f}\")\n"
      ],
      "metadata": {
        "colab": {
          "base_uri": "https://localhost:8080/"
        },
        "outputId": "cb7d6659-423d-4e38-eedf-2519962c2e7b",
        "id": "TePjFIAGIc1x"
      },
      "execution_count": null,
      "outputs": [
        {
          "output_type": "stream",
          "name": "stdout",
          "text": [
            "Validation Accuracy: 0.4678\n"
          ]
        }
      ]
    },
    {
      "cell_type": "markdown",
      "source": [
        "# Task ID60: 3560"
      ],
      "metadata": {
        "id": "3scdUqaAUQfh"
      }
    },
    {
      "cell_type": "code",
      "source": [
        "\n",
        "\n",
        "# Main execution\n",
        "if __name__ == \"__main__\":\n",
        "    # Specify OpenML task ID\n",
        "    task_id = 3560  # Replace with your desired task ID\n",
        "    X, y = load_openml_data(task_id)\n",
        "\n",
        "    # Determine number of features and classes from the dataset\n",
        "    num_features = X.shape[1]\n",
        "    num_classes = len(np.unique(y))\n",
        "\n",
        "    # Split the dataset\n",
        "    X_train, X_val, y_train, y_val = train_test_split(X, y, test_size=0.2, random_state=42)\n",
        "\n",
        "    # Define parameters and arguments\n",
        "    params = {\n",
        "        \"p_m\": 0.5,\n",
        "        \"alpha\": 3.0,\n",
        "    }\n",
        "    args = {\n",
        "        \"num_features\": num_features,\n",
        "        \"num_classes\": num_classes,\n",
        "        \"batch_size\": 32,\n",
        "        \"epochs\": 10,\n",
        "        \"device\": torch.device(\"cuda\" if torch.cuda.is_available() else \"cpu\"),\n",
        "        \"data_parallel\": False,\n",
        "    }\n",
        "\n",
        "    # Initialize and train VIME model\n",
        "    model = VIME(params, args)\n",
        "    accuracy = model.fit(X_train, y_train, X_val, y_val)\n",
        "\n",
        "    # Print only validation accuracy\n",
        "    print(f\"Validation Accuracy: {accuracy:.4f}\")\n"
      ],
      "metadata": {
        "colab": {
          "base_uri": "https://localhost:8080/"
        },
        "outputId": "ba6b3ce4-4508-4823-aa58-4266c3e10add",
        "id": "8hzrytzYIdTk"
      },
      "execution_count": null,
      "outputs": [
        {
          "output_type": "stream",
          "name": "stderr",
          "text": [
            "/usr/local/lib/python3.10/dist-packages/torch/nn/init.py:511: UserWarning: Initializing zero-element tensors is a no-op\n",
            "  warnings.warn(\"Initializing zero-element tensors is a no-op\")\n"
          ]
        },
        {
          "output_type": "stream",
          "name": "stdout",
          "text": [
            "Validation Accuracy: 0.2438\n"
          ]
        }
      ]
    },
    {
      "cell_type": "markdown",
      "source": [
        "# Task ID61: 14952"
      ],
      "metadata": {
        "id": "cyp2ScRKUQtY"
      }
    },
    {
      "cell_type": "code",
      "source": [
        "\n",
        "\n",
        "# Main execution\n",
        "if __name__ == \"__main__\":\n",
        "    # Specify OpenML task ID\n",
        "    task_id = 14952  # Replace with your desired task ID\n",
        "    X, y = load_openml_data(task_id)\n",
        "\n",
        "    # Determine number of features and classes from the dataset\n",
        "    num_features = X.shape[1]\n",
        "    num_classes = len(np.unique(y))\n",
        "\n",
        "    # Split the dataset\n",
        "    X_train, X_val, y_train, y_val = train_test_split(X, y, test_size=0.2, random_state=42)\n",
        "\n",
        "    # Define parameters and arguments\n",
        "    params = {\n",
        "        \"p_m\": 0.5,\n",
        "        \"alpha\": 3.0,\n",
        "    }\n",
        "    args = {\n",
        "        \"num_features\": num_features,\n",
        "        \"num_classes\": num_classes,\n",
        "        \"batch_size\": 32,\n",
        "        \"epochs\": 10,\n",
        "        \"device\": torch.device(\"cuda\" if torch.cuda.is_available() else \"cpu\"),\n",
        "        \"data_parallel\": False,\n",
        "    }\n",
        "\n",
        "    # Initialize and train VIME model\n",
        "    model = VIME(params, args)\n",
        "    accuracy = model.fit(X_train, y_train, X_val, y_val)\n",
        "\n",
        "    # Print only validation accuracy\n",
        "    print(f\"Validation Accuracy: {accuracy:.4f}\")\n"
      ],
      "metadata": {
        "colab": {
          "base_uri": "https://localhost:8080/"
        },
        "outputId": "f1745386-1191-45c7-bdbe-fd7786d1aca9",
        "id": "n7F7RKBBId0a"
      },
      "execution_count": null,
      "outputs": [
        {
          "output_type": "stream",
          "name": "stderr",
          "text": [
            "/usr/local/lib/python3.10/dist-packages/torch/nn/init.py:511: UserWarning: Initializing zero-element tensors is a no-op\n",
            "  warnings.warn(\"Initializing zero-element tensors is a no-op\")\n"
          ]
        },
        {
          "output_type": "stream",
          "name": "stdout",
          "text": [
            "Validation Accuracy: 0.5676\n"
          ]
        }
      ]
    },
    {
      "cell_type": "markdown",
      "source": [
        "# Task ID62: 125920"
      ],
      "metadata": {
        "id": "wmm8YmtYdYqs"
      }
    },
    {
      "cell_type": "code",
      "source": [
        "\n",
        "\n",
        "# Main execution\n",
        "if __name__ == \"__main__\":\n",
        "    # Specify OpenML task ID\n",
        "    task_id = 125920  # Replace with your desired task ID\n",
        "    X, y = load_openml_data(task_id)\n",
        "\n",
        "    # Determine number of features and classes from the dataset\n",
        "    num_features = X.shape[1]\n",
        "    num_classes = len(np.unique(y))\n",
        "\n",
        "    # Split the dataset\n",
        "    X_train, X_val, y_train, y_val = train_test_split(X, y, test_size=0.2, random_state=42)\n",
        "\n",
        "    # Define parameters and arguments\n",
        "    params = {\n",
        "        \"p_m\": 0.5,\n",
        "        \"alpha\": 3.0,\n",
        "    }\n",
        "    args = {\n",
        "        \"num_features\": num_features,\n",
        "        \"num_classes\": num_classes,\n",
        "        \"batch_size\": 32,\n",
        "        \"epochs\": 10,\n",
        "        \"device\": torch.device(\"cuda\" if torch.cuda.is_available() else \"cpu\"),\n",
        "        \"data_parallel\": False,\n",
        "    }\n",
        "\n",
        "    # Initialize and train VIME model\n",
        "    model = VIME(params, args)\n",
        "    accuracy = model.fit(X_train, y_train, X_val, y_val)\n",
        "\n",
        "    # Print only validation accuracy\n",
        "    print(f\"Validation Accuracy: {accuracy:.4f}\")\n"
      ],
      "metadata": {
        "colab": {
          "base_uri": "https://localhost:8080/"
        },
        "outputId": "7edf81b2-c525-4460-e821-a708a0b84c21",
        "id": "D4xrohLTIeQR"
      },
      "execution_count": null,
      "outputs": [
        {
          "output_type": "stream",
          "name": "stdout",
          "text": [
            "Validation Accuracy: 0.5800\n"
          ]
        }
      ]
    },
    {
      "cell_type": "markdown",
      "source": [
        "# Task ID63: 23"
      ],
      "metadata": {
        "id": "OOeFMqFydZr3"
      }
    },
    {
      "cell_type": "code",
      "source": [
        "\n",
        "\n",
        "# Main execution\n",
        "if __name__ == \"__main__\":\n",
        "    # Specify OpenML task ID\n",
        "    task_id = 23  # Replace with your desired task ID\n",
        "    X, y = load_openml_data(task_id)\n",
        "\n",
        "    # Determine number of features and classes from the dataset\n",
        "    num_features = X.shape[1]\n",
        "    num_classes = len(np.unique(y))\n",
        "\n",
        "    # Split the dataset\n",
        "    X_train, X_val, y_train, y_val = train_test_split(X, y, test_size=0.2, random_state=42)\n",
        "\n",
        "    # Define parameters and arguments\n",
        "    params = {\n",
        "        \"p_m\": 0.5,\n",
        "        \"alpha\": 3.0,\n",
        "    }\n",
        "    args = {\n",
        "        \"num_features\": num_features,\n",
        "        \"num_classes\": num_classes,\n",
        "        \"batch_size\": 32,\n",
        "        \"epochs\": 10,\n",
        "        \"device\": torch.device(\"cuda\" if torch.cuda.is_available() else \"cpu\"),\n",
        "        \"data_parallel\": False,\n",
        "    }\n",
        "\n",
        "    # Initialize and train VIME model\n",
        "    model = VIME(params, args)\n",
        "    accuracy = model.fit(X_train, y_train, X_val, y_val)\n",
        "\n",
        "    # Print only validation accuracy\n",
        "    print(f\"Validation Accuracy: {accuracy:.4f}\")\n"
      ],
      "metadata": {
        "colab": {
          "base_uri": "https://localhost:8080/"
        },
        "outputId": "31741a28-4035-43d0-9a0c-272da34f7042",
        "id": "hU0tyjMWIerv"
      },
      "execution_count": null,
      "outputs": [
        {
          "output_type": "stream",
          "name": "stdout",
          "text": [
            "Validation Accuracy: 0.4949\n"
          ]
        }
      ]
    },
    {
      "cell_type": "markdown",
      "source": [
        "# Task ID64: 3904"
      ],
      "metadata": {
        "id": "j0ZiCc7_dZ5N"
      }
    },
    {
      "cell_type": "code",
      "source": [
        "\n",
        "\n",
        "# Main execution\n",
        "if __name__ == \"__main__\":\n",
        "    # Specify OpenML task ID\n",
        "    task_id = 3904  # Replace with your desired task ID\n",
        "    X, y = load_openml_data(task_id)\n",
        "\n",
        "    # Determine number of features and classes from the dataset\n",
        "    num_features = X.shape[1]\n",
        "    num_classes = len(np.unique(y))\n",
        "\n",
        "    # Split the dataset\n",
        "    X_train, X_val, y_train, y_val = train_test_split(X, y, test_size=0.2, random_state=42)\n",
        "\n",
        "    # Define parameters and arguments\n",
        "    params = {\n",
        "        \"p_m\": 0.5,\n",
        "        \"alpha\": 3.0,\n",
        "    }\n",
        "    args = {\n",
        "        \"num_features\": num_features,\n",
        "        \"num_classes\": num_classes,\n",
        "        \"batch_size\": 32,\n",
        "        \"epochs\": 10,\n",
        "        \"device\": torch.device(\"cuda\" if torch.cuda.is_available() else \"cpu\"),\n",
        "        \"data_parallel\": False,\n",
        "    }\n",
        "\n",
        "    # Initialize and train VIME model\n",
        "    model = VIME(params, args)\n",
        "    accuracy = model.fit(X_train, y_train, X_val, y_val)\n",
        "\n",
        "    # Print only validation accuracy\n",
        "    print(f\"Validation Accuracy: {accuracy:.4f}\")\n"
      ],
      "metadata": {
        "colab": {
          "base_uri": "https://localhost:8080/"
        },
        "outputId": "dc3e029d-59ab-4721-ab89-784b8edada99",
        "id": "axI0eGdzIfOA"
      },
      "execution_count": null,
      "outputs": [
        {
          "output_type": "stream",
          "name": "stdout",
          "text": [
            "Validation Accuracy: 0.8066\n"
          ]
        }
      ]
    },
    {
      "cell_type": "markdown",
      "source": [
        "# Task ID65: 3022"
      ],
      "metadata": {
        "id": "JgmWq_NbdaFn"
      }
    },
    {
      "cell_type": "code",
      "source": [
        "\n",
        "\n",
        "# Main execution\n",
        "if __name__ == \"__main__\":\n",
        "    # Specify OpenML task ID\n",
        "    task_id = 3022  # Replace with your desired task ID\n",
        "    X, y = load_openml_data(task_id)\n",
        "\n",
        "    # Determine number of features and classes from the dataset\n",
        "    num_features = X.shape[1]\n",
        "    num_classes = len(np.unique(y))\n",
        "\n",
        "    # Split the dataset\n",
        "    X_train, X_val, y_train, y_val = train_test_split(X, y, test_size=0.2, random_state=42)\n",
        "\n",
        "    # Define parameters and arguments\n",
        "    params = {\n",
        "        \"p_m\": 0.5,\n",
        "        \"alpha\": 3.0,\n",
        "    }\n",
        "    args = {\n",
        "        \"num_features\": num_features,\n",
        "        \"num_classes\": num_classes,\n",
        "        \"batch_size\": 32,\n",
        "        \"epochs\": 10,\n",
        "        \"device\": torch.device(\"cuda\" if torch.cuda.is_available() else \"cpu\"),\n",
        "        \"data_parallel\": False,\n",
        "    }\n",
        "\n",
        "    # Initialize and train VIME model\n",
        "    model = VIME(params, args)\n",
        "    accuracy = model.fit(X_train, y_train, X_val, y_val)\n",
        "\n",
        "    # Print only validation accuracy\n",
        "    print(f\"Validation Accuracy: {accuracy:.4f}\")\n"
      ],
      "metadata": {
        "colab": {
          "base_uri": "https://localhost:8080/"
        },
        "outputId": "0f96baa7-fdd8-48b0-8a26-40ce14bba8f1",
        "id": "mtoKDp6eIfkc"
      },
      "execution_count": null,
      "outputs": [
        {
          "output_type": "stream",
          "name": "stdout",
          "text": [
            "Validation Accuracy: 0.6970\n"
          ]
        }
      ]
    },
    {
      "cell_type": "markdown",
      "source": [
        "# Task ID66: 9985"
      ],
      "metadata": {
        "id": "k1saJ1SSdaTj"
      }
    },
    {
      "cell_type": "code",
      "source": [
        "\n",
        "\n",
        "# Main execution\n",
        "if __name__ == \"__main__\":\n",
        "    # Specify OpenML task ID\n",
        "    task_id = 9985  # Replace with your desired task ID\n",
        "    X, y = load_openml_data(task_id)\n",
        "\n",
        "    # Determine number of features and classes from the dataset\n",
        "    num_features = X.shape[1]\n",
        "    num_classes = len(np.unique(y))\n",
        "\n",
        "    # Split the dataset\n",
        "    X_train, X_val, y_train, y_val = train_test_split(X, y, test_size=0.2, random_state=42)\n",
        "\n",
        "    # Define parameters and arguments\n",
        "    params = {\n",
        "        \"p_m\": 0.5,\n",
        "        \"alpha\": 3.0,\n",
        "    }\n",
        "    args = {\n",
        "        \"num_features\": num_features,\n",
        "        \"num_classes\": num_classes,\n",
        "        \"batch_size\": 32,\n",
        "        \"epochs\": 10,\n",
        "        \"device\": torch.device(\"cuda\" if torch.cuda.is_available() else \"cpu\"),\n",
        "        \"data_parallel\": False,\n",
        "    }\n",
        "\n",
        "    # Initialize and train VIME model\n",
        "    model = VIME(params, args)\n",
        "    accuracy = model.fit(X_train, y_train, X_val, y_val)\n",
        "\n",
        "    # Print only validation accuracy\n",
        "    print(f\"Validation Accuracy: {accuracy:.4f}\")\n"
      ],
      "metadata": {
        "colab": {
          "base_uri": "https://localhost:8080/"
        },
        "outputId": "9bb2d5ab-e87a-4fdf-f9c1-ce6706ced13b",
        "id": "7qB3nyovIf8W"
      },
      "execution_count": null,
      "outputs": [
        {
          "output_type": "stream",
          "name": "stdout",
          "text": [
            "Validation Accuracy: 0.5245\n"
          ]
        }
      ]
    },
    {
      "cell_type": "markdown",
      "source": [
        "# Task ID67: 9910"
      ],
      "metadata": {
        "id": "NmZiZ5TQdagj"
      }
    },
    {
      "cell_type": "code",
      "source": [
        "\n",
        "\n",
        "# Main execution\n",
        "if __name__ == \"__main__\":\n",
        "    # Specify OpenML task ID\n",
        "    task_id = 9910  # Replace with your desired task ID\n",
        "    X, y = load_openml_data(task_id)\n",
        "\n",
        "    # Determine number of features and classes from the dataset\n",
        "    num_features = X.shape[1]\n",
        "    num_classes = len(np.unique(y))\n",
        "\n",
        "    # Split the dataset\n",
        "    X_train, X_val, y_train, y_val = train_test_split(X, y, test_size=0.2, random_state=42)\n",
        "\n",
        "    # Define parameters and arguments\n",
        "    params = {\n",
        "        \"p_m\": 0.5,\n",
        "        \"alpha\": 3.0,\n",
        "    }\n",
        "    args = {\n",
        "        \"num_features\": num_features,\n",
        "        \"num_classes\": num_classes,\n",
        "        \"batch_size\": 32,\n",
        "        \"epochs\": 10,\n",
        "        \"device\": torch.device(\"cuda\" if torch.cuda.is_available() else \"cpu\"),\n",
        "        \"data_parallel\": False,\n",
        "    }\n",
        "\n",
        "    # Initialize and train VIME model\n",
        "    model = VIME(params, args)\n",
        "    accuracy = model.fit(X_train, y_train, X_val, y_val)\n",
        "\n",
        "    # Print only validation accuracy\n",
        "    print(f\"Validation Accuracy: {accuracy:.4f}\")\n"
      ],
      "metadata": {
        "colab": {
          "base_uri": "https://localhost:8080/"
        },
        "outputId": "37e112a9-1d26-48f2-9515-1b4c7c7426c7",
        "id": "W4OESPOlIg2u"
      },
      "execution_count": null,
      "outputs": [
        {
          "output_type": "stream",
          "name": "stdout",
          "text": [
            "Validation Accuracy: 0.7816\n"
          ]
        }
      ]
    },
    {
      "cell_type": "markdown",
      "source": [
        "# Task ID68: 14970"
      ],
      "metadata": {
        "id": "hbFnAU79das-"
      }
    },
    {
      "cell_type": "code",
      "source": [
        "\n",
        "\n",
        "# Main execution\n",
        "if __name__ == \"__main__\":\n",
        "    # Specify OpenML task ID\n",
        "    task_id = 14970  # Replace with your desired task ID\n",
        "    X, y = load_openml_data(task_id)\n",
        "\n",
        "    # Determine number of features and classes from the dataset\n",
        "    num_features = X.shape[1]\n",
        "    num_classes = len(np.unique(y))\n",
        "\n",
        "    # Split the dataset\n",
        "    X_train, X_val, y_train, y_val = train_test_split(X, y, test_size=0.2, random_state=42)\n",
        "\n",
        "    # Define parameters and arguments\n",
        "    params = {\n",
        "        \"p_m\": 0.5,\n",
        "        \"alpha\": 3.0,\n",
        "    }\n",
        "    args = {\n",
        "        \"num_features\": num_features,\n",
        "        \"num_classes\": num_classes,\n",
        "        \"batch_size\": 32,\n",
        "        \"epochs\": 10,\n",
        "        \"device\": torch.device(\"cuda\" if torch.cuda.is_available() else \"cpu\"),\n",
        "        \"data_parallel\": False,\n",
        "    }\n",
        "\n",
        "    # Initialize and train VIME model\n",
        "    model = VIME(params, args)\n",
        "    accuracy = model.fit(X_train, y_train, X_val, y_val)\n",
        "\n",
        "    # Print only validation accuracy\n",
        "    print(f\"Validation Accuracy: {accuracy:.4f}\")\n"
      ],
      "metadata": {
        "colab": {
          "base_uri": "https://localhost:8080/"
        },
        "outputId": "82445582-6585-4a85-e626-295144e61651",
        "id": "xAzbBrzXIhfd"
      },
      "execution_count": null,
      "outputs": [
        {
          "output_type": "stream",
          "name": "stdout",
          "text": [
            "Validation Accuracy: 0.9107\n"
          ]
        }
      ]
    },
    {
      "cell_type": "markdown",
      "source": [
        "# Task ID69: 3021"
      ],
      "metadata": {
        "id": "HXGqTwEwda5r"
      }
    },
    {
      "cell_type": "code",
      "source": [
        "\n",
        "\n",
        "# Main execution\n",
        "if __name__ == \"__main__\":\n",
        "    # Specify OpenML task ID\n",
        "    task_id = 3021  # Replace with your desired task ID\n",
        "    X, y = load_openml_data(task_id)\n",
        "\n",
        "    # Determine number of features and classes from the dataset\n",
        "    num_features = X.shape[1]\n",
        "    num_classes = len(np.unique(y))\n",
        "\n",
        "    # Split the dataset\n",
        "    X_train, X_val, y_train, y_val = train_test_split(X, y, test_size=0.2, random_state=42)\n",
        "\n",
        "    # Define parameters and arguments\n",
        "    params = {\n",
        "        \"p_m\": 0.5,\n",
        "        \"alpha\": 3.0,\n",
        "    }\n",
        "    args = {\n",
        "        \"num_features\": num_features,\n",
        "        \"num_classes\": num_classes,\n",
        "        \"batch_size\": 32,\n",
        "        \"epochs\": 10,\n",
        "        \"device\": torch.device(\"cuda\" if torch.cuda.is_available() else \"cpu\"),\n",
        "        \"data_parallel\": False,\n",
        "    }\n",
        "\n",
        "    # Initialize and train VIME model\n",
        "    model = VIME(params, args)\n",
        "    accuracy = model.fit(X_train, y_train, X_val, y_val)\n",
        "\n",
        "    # Print only validation accuracy\n",
        "    print(f\"Validation Accuracy: {accuracy:.4f}\")\n"
      ],
      "metadata": {
        "colab": {
          "base_uri": "https://localhost:8080/"
        },
        "outputId": "f30076fe-2a74-46a2-ed80-bed9b2a3bb23",
        "id": "Q0NxRmK7Ih2d"
      },
      "execution_count": null,
      "outputs": [
        {
          "output_type": "stream",
          "name": "stdout",
          "text": [
            "Validation Accuracy: 0.9497\n"
          ]
        }
      ]
    },
    {
      "cell_type": "markdown",
      "source": [
        "# Task ID70: 3481"
      ],
      "metadata": {
        "id": "_SGwxPNTdbG5"
      }
    },
    {
      "cell_type": "code",
      "source": [
        "\n",
        "\n",
        "# Main execution\n",
        "if __name__ == \"__main__\":\n",
        "    # Specify OpenML task ID\n",
        "    task_id = 3481  # Replace with your desired task ID\n",
        "    X, y = load_openml_data(task_id)\n",
        "\n",
        "    # Determine number of features and classes from the dataset\n",
        "    num_features = X.shape[1]\n",
        "    num_classes = len(np.unique(y))\n",
        "\n",
        "    # Split the dataset\n",
        "    X_train, X_val, y_train, y_val = train_test_split(X, y, test_size=0.2, random_state=42)\n",
        "\n",
        "    # Define parameters and arguments\n",
        "    params = {\n",
        "        \"p_m\": 0.5,\n",
        "        \"alpha\": 3.0,\n",
        "    }\n",
        "    args = {\n",
        "        \"num_features\": num_features,\n",
        "        \"num_classes\": num_classes,\n",
        "        \"batch_size\": 32,\n",
        "        \"epochs\": 10,\n",
        "        \"device\": torch.device(\"cuda\" if torch.cuda.is_available() else \"cpu\"),\n",
        "        \"data_parallel\": False,\n",
        "    }\n",
        "\n",
        "    # Initialize and train VIME model\n",
        "    model = VIME(params, args)\n",
        "    accuracy = model.fit(X_train, y_train, X_val, y_val)\n",
        "\n",
        "    # Print only validation accuracy\n",
        "    print(f\"Validation Accuracy: {accuracy:.4f}\")\n"
      ],
      "metadata": {
        "colab": {
          "base_uri": "https://localhost:8080/"
        },
        "outputId": "6e4d189c-5c71-4199-e497-5db222ee53f3",
        "id": "mv0QdiVPIiMm"
      },
      "execution_count": null,
      "outputs": [
        {
          "output_type": "stream",
          "name": "stdout",
          "text": [
            "Validation Accuracy: 0.9064\n"
          ]
        }
      ]
    },
    {
      "cell_type": "markdown",
      "source": [
        "# Task ID71: 3573"
      ],
      "metadata": {
        "id": "pRv7Cn0GdbT-"
      }
    },
    {
      "cell_type": "code",
      "source": [
        "\n",
        "\n",
        "# Main execution\n",
        "if __name__ == \"__main__\":\n",
        "    # Specify OpenML task ID\n",
        "    task_id = 3573  # Replace with your desired task ID\n",
        "    X, y = load_openml_data(task_id)\n",
        "\n",
        "    # Determine number of features and classes from the dataset\n",
        "    num_features = X.shape[1]\n",
        "    num_classes = len(np.unique(y))\n",
        "\n",
        "    # Split the dataset\n",
        "    X_train, X_val, y_train, y_val = train_test_split(X, y, test_size=0.2, random_state=42)\n",
        "\n",
        "    # Define parameters and arguments\n",
        "    params = {\n",
        "        \"p_m\": 0.5,\n",
        "        \"alpha\": 3.0,\n",
        "    }\n",
        "    args = {\n",
        "        \"num_features\": num_features,\n",
        "        \"num_classes\": num_classes,\n",
        "        \"batch_size\": 32,\n",
        "        \"epochs\": 10,\n",
        "        \"device\": torch.device(\"cuda\" if torch.cuda.is_available() else \"cpu\"),\n",
        "        \"data_parallel\": False,\n",
        "    }\n",
        "\n",
        "    # Initialize and train VIME model\n",
        "    model = VIME(params, args)\n",
        "    accuracy = model.fit(X_train, y_train, X_val, y_val)\n",
        "\n",
        "    # Print only validation accuracy\n",
        "    print(f\"Validation Accuracy: {accuracy:.4f}\")\n"
      ],
      "metadata": {
        "id": "X9EAd0wuIihs"
      },
      "execution_count": null,
      "outputs": []
    },
    {
      "cell_type": "markdown",
      "source": [
        "# Task ID72: 146824"
      ],
      "metadata": {
        "id": "yyid9hePdbi9"
      }
    },
    {
      "cell_type": "code",
      "source": [
        "\n",
        "\n",
        "# Main execution\n",
        "if __name__ == \"__main__\":\n",
        "    # Specify OpenML task ID\n",
        "    task_id = 146824  # Replace with your desired task ID\n",
        "    X, y = load_openml_data(task_id)\n",
        "\n",
        "    # Determine number of features and classes from the dataset\n",
        "    num_features = X.shape[1]\n",
        "    num_classes = len(np.unique(y))\n",
        "\n",
        "    # Split the dataset\n",
        "    X_train, X_val, y_train, y_val = train_test_split(X, y, test_size=0.2, random_state=42)\n",
        "\n",
        "    # Define parameters and arguments\n",
        "    params = {\n",
        "        \"p_m\": 0.5,\n",
        "        \"alpha\": 3.0,\n",
        "    }\n",
        "    args = {\n",
        "        \"num_features\": num_features,\n",
        "        \"num_classes\": num_classes,\n",
        "        \"batch_size\": 32,\n",
        "        \"epochs\": 10,\n",
        "        \"device\": torch.device(\"cuda\" if torch.cuda.is_available() else \"cpu\"),\n",
        "        \"data_parallel\": False,\n",
        "    }\n",
        "\n",
        "    # Initialize and train VIME model\n",
        "    model = VIME(params, args)\n",
        "    accuracy = model.fit(X_train, y_train, X_val, y_val)\n",
        "\n",
        "    # Print only validation accuracy\n",
        "    print(f\"Validation Accuracy: {accuracy:.4f}\")\n"
      ],
      "metadata": {
        "colab": {
          "base_uri": "https://localhost:8080/"
        },
        "outputId": "0608f591-96e8-4e9b-b29e-72f6e3d609a9",
        "id": "5A6azYO7Ii7J"
      },
      "execution_count": null,
      "outputs": [
        {
          "output_type": "stream",
          "name": "stdout",
          "text": [
            "Validation Accuracy: 0.9675\n"
          ]
        }
      ]
    },
    {
      "cell_type": "markdown",
      "source": [
        "# Task ID73: 146820"
      ],
      "metadata": {
        "id": "ZErycBTkjcTT"
      }
    },
    {
      "cell_type": "code",
      "source": [
        "\n",
        "\n",
        "# Main execution\n",
        "if __name__ == \"__main__\":\n",
        "    # Specify OpenML task ID\n",
        "    task_id = 146820  # Replace with your desired task ID\n",
        "    X, y = load_openml_data(task_id)\n",
        "\n",
        "    # Determine number of features and classes from the dataset\n",
        "    num_features = X.shape[1]\n",
        "    num_classes = len(np.unique(y))\n",
        "\n",
        "    # Split the dataset\n",
        "    X_train, X_val, y_train, y_val = train_test_split(X, y, test_size=0.2, random_state=42)\n",
        "\n",
        "    # Define parameters and arguments\n",
        "    params = {\n",
        "        \"p_m\": 0.5,\n",
        "        \"alpha\": 3.0,\n",
        "    }\n",
        "    args = {\n",
        "        \"num_features\": num_features,\n",
        "        \"num_classes\": num_classes,\n",
        "        \"batch_size\": 32,\n",
        "        \"epochs\": 10,\n",
        "        \"device\": torch.device(\"cuda\" if torch.cuda.is_available() else \"cpu\"),\n",
        "        \"data_parallel\": False,\n",
        "    }\n",
        "\n",
        "    # Initialize and train VIME model\n",
        "    model = VIME(params, args)\n",
        "    accuracy = model.fit(X_train, y_train, X_val, y_val)\n",
        "\n",
        "    # Print only validation accuracy\n",
        "    print(f\"Validation Accuracy: {accuracy:.4f}\")\n"
      ],
      "metadata": {
        "colab": {
          "base_uri": "https://localhost:8080/"
        },
        "outputId": "8b67a3e9-11ac-4626-ad53-bdb8b962525d",
        "id": "B4Lre7FPIjT5"
      },
      "execution_count": null,
      "outputs": [
        {
          "output_type": "stream",
          "name": "stdout",
          "text": [
            "Validation Accuracy: 0.9669\n"
          ]
        }
      ]
    },
    {
      "cell_type": "markdown",
      "source": [
        "# Task ID74: 146822"
      ],
      "metadata": {
        "id": "ApnHqxGOjclf"
      }
    },
    {
      "cell_type": "code",
      "source": [
        "\n",
        "\n",
        "# Main execution\n",
        "if __name__ == \"__main__\":\n",
        "    # Specify OpenML task ID\n",
        "    task_id = 146822  # Replace with your desired task ID\n",
        "    X, y = load_openml_data(task_id)\n",
        "\n",
        "    # Determine number of features and classes from the dataset\n",
        "    num_features = X.shape[1]\n",
        "    num_classes = len(np.unique(y))\n",
        "\n",
        "    # Split the dataset\n",
        "    X_train, X_val, y_train, y_val = train_test_split(X, y, test_size=0.2, random_state=42)\n",
        "\n",
        "    # Define parameters and arguments\n",
        "    params = {\n",
        "        \"p_m\": 0.5,\n",
        "        \"alpha\": 3.0,\n",
        "    }\n",
        "    args = {\n",
        "        \"num_features\": num_features,\n",
        "        \"num_classes\": num_classes,\n",
        "        \"batch_size\": 32,\n",
        "        \"epochs\": 10,\n",
        "        \"device\": torch.device(\"cuda\" if torch.cuda.is_available() else \"cpu\"),\n",
        "        \"data_parallel\": False,\n",
        "    }\n",
        "\n",
        "    # Initialize and train VIME model\n",
        "    model = VIME(params, args)\n",
        "    accuracy = model.fit(X_train, y_train, X_val, y_val)\n",
        "\n",
        "    # Print only validation accuracy\n",
        "    print(f\"Validation Accuracy: {accuracy:.4f}\")\n"
      ],
      "metadata": {
        "colab": {
          "base_uri": "https://localhost:8080/"
        },
        "outputId": "d1e29974-80ba-4063-e95e-0254518e2762",
        "id": "YV_SpgNjIjrr"
      },
      "execution_count": null,
      "outputs": [
        {
          "output_type": "stream",
          "name": "stdout",
          "text": [
            "Validation Accuracy: 0.8745\n"
          ]
        }
      ]
    },
    {
      "cell_type": "markdown",
      "source": [
        "# Task ID75: 146195"
      ],
      "metadata": {
        "id": "Ybce50ysjc0s"
      }
    },
    {
      "cell_type": "code",
      "source": [
        "\n",
        "\n",
        "# Main execution\n",
        "if __name__ == \"__main__\":\n",
        "    # Specify OpenML task ID\n",
        "    task_id = 146195  # Replace with your desired task ID\n",
        "    X, y = load_openml_data(task_id)\n",
        "\n",
        "    # Determine number of features and classes from the dataset\n",
        "    num_features = X.shape[1]\n",
        "    num_classes = len(np.unique(y))\n",
        "\n",
        "    # Split the dataset\n",
        "    X_train, X_val, y_train, y_val = train_test_split(X, y, test_size=0.2, random_state=42)\n",
        "\n",
        "    # Define parameters and arguments\n",
        "    params = {\n",
        "        \"p_m\": 0.5,\n",
        "        \"alpha\": 3.0,\n",
        "    }\n",
        "    args = {\n",
        "        \"num_features\": num_features,\n",
        "        \"num_classes\": num_classes,\n",
        "        \"batch_size\": 32,\n",
        "        \"epochs\": 10,\n",
        "        \"device\": torch.device(\"cuda\" if torch.cuda.is_available() else \"cpu\"),\n",
        "        \"data_parallel\": False,\n",
        "    }\n",
        "\n",
        "    # Initialize and train VIME model\n",
        "    model = VIME(params, args)\n",
        "    accuracy = model.fit(X_train, y_train, X_val, y_val)\n",
        "\n",
        "    # Print only validation accuracy\n",
        "    print(f\"Validation Accuracy: {accuracy:.4f}\")\n"
      ],
      "metadata": {
        "colab": {
          "base_uri": "https://localhost:8080/"
        },
        "outputId": "cf5e6a41-a537-42de-9f81-38a341151837",
        "id": "8QYFR-5YIkCk"
      },
      "execution_count": null,
      "outputs": [
        {
          "output_type": "stream",
          "name": "stderr",
          "text": [
            "/usr/local/lib/python3.10/dist-packages/torch/nn/init.py:511: UserWarning: Initializing zero-element tensors is a no-op\n",
            "  warnings.warn(\"Initializing zero-element tensors is a no-op\")\n"
          ]
        },
        {
          "output_type": "stream",
          "name": "stdout",
          "text": [
            "Validation Accuracy: 0.6569\n"
          ]
        }
      ]
    },
    {
      "cell_type": "markdown",
      "source": [
        "# Task ID76: 146800"
      ],
      "metadata": {
        "id": "hS7jGUhzjdCn"
      }
    },
    {
      "cell_type": "code",
      "source": [
        "\n",
        "\n",
        "# Main execution\n",
        "if __name__ == \"__main__\":\n",
        "    # Specify OpenML task ID\n",
        "    task_id = 146800  # Replace with your desired task ID\n",
        "    X, y = load_openml_data(task_id)\n",
        "\n",
        "    # Determine number of features and classes from the dataset\n",
        "    num_features = X.shape[1]\n",
        "    num_classes = len(np.unique(y))\n",
        "\n",
        "    # Split the dataset\n",
        "    X_train, X_val, y_train, y_val = train_test_split(X, y, test_size=0.2, random_state=42)\n",
        "\n",
        "    # Define parameters and arguments\n",
        "    params = {\n",
        "        \"p_m\": 0.5,\n",
        "        \"alpha\": 3.0,\n",
        "    }\n",
        "    args = {\n",
        "        \"num_features\": num_features,\n",
        "        \"num_classes\": num_classes,\n",
        "        \"batch_size\": 32,\n",
        "        \"epochs\": 10,\n",
        "        \"device\": torch.device(\"cuda\" if torch.cuda.is_available() else \"cpu\"),\n",
        "        \"data_parallel\": False,\n",
        "    }\n",
        "\n",
        "    # Initialize and train VIME model\n",
        "    model = VIME(params, args)\n",
        "    accuracy = model.fit(X_train, y_train, X_val, y_val)\n",
        "\n",
        "    # Print only validation accuracy\n",
        "    print(f\"Validation Accuracy: {accuracy:.4f}\")\n"
      ],
      "metadata": {
        "colab": {
          "base_uri": "https://localhost:8080/"
        },
        "outputId": "07909361-3640-4047-f3d2-fa127b5a6175",
        "id": "r2BRAoIzIkbD"
      },
      "execution_count": null,
      "outputs": [
        {
          "output_type": "stream",
          "name": "stdout",
          "text": [
            "Validation Accuracy: 0.5093\n"
          ]
        }
      ]
    },
    {
      "cell_type": "markdown",
      "source": [
        "# Task ID77: 146817"
      ],
      "metadata": {
        "id": "Cp2KgzM5jdPc"
      }
    },
    {
      "cell_type": "code",
      "source": [
        "\n",
        "\n",
        "# Main execution\n",
        "if __name__ == \"__main__\":\n",
        "    # Specify OpenML task ID\n",
        "    task_id = 146817  # Replace with your desired task ID\n",
        "    X, y = load_openml_data(task_id)\n",
        "\n",
        "    # Determine number of features and classes from the dataset\n",
        "    num_features = X.shape[1]\n",
        "    num_classes = len(np.unique(y))\n",
        "\n",
        "    # Split the dataset\n",
        "    X_train, X_val, y_train, y_val = train_test_split(X, y, test_size=0.2, random_state=42)\n",
        "\n",
        "    # Define parameters and arguments\n",
        "    params = {\n",
        "        \"p_m\": 0.5,\n",
        "        \"alpha\": 3.0,\n",
        "    }\n",
        "    args = {\n",
        "        \"num_features\": num_features,\n",
        "        \"num_classes\": num_classes,\n",
        "        \"batch_size\": 32,\n",
        "        \"epochs\": 10,\n",
        "        \"device\": torch.device(\"cuda\" if torch.cuda.is_available() else \"cpu\"),\n",
        "        \"data_parallel\": False,\n",
        "    }\n",
        "\n",
        "    # Initialize and train VIME model\n",
        "    model = VIME(params, args)\n",
        "    accuracy = model.fit(X_train, y_train, X_val, y_val)\n",
        "\n",
        "    # Print only validation accuracy\n",
        "    print(f\"Validation Accuracy: {accuracy:.4f}\")\n"
      ],
      "metadata": {
        "colab": {
          "base_uri": "https://localhost:8080/"
        },
        "outputId": "13088de3-c315-47e2-ff76-709dff78d490",
        "id": "BKadBG7vIk0y"
      },
      "execution_count": null,
      "outputs": [
        {
          "output_type": "stream",
          "name": "stdout",
          "text": [
            "Validation Accuracy: 0.3753\n"
          ]
        }
      ]
    },
    {
      "cell_type": "markdown",
      "source": [
        "# Task ID78: 146819"
      ],
      "metadata": {
        "id": "yXXQpbjwjdb3"
      }
    },
    {
      "cell_type": "code",
      "source": [
        "\n",
        "\n",
        "# Main execution\n",
        "if __name__ == \"__main__\":\n",
        "    # Specify OpenML task ID\n",
        "    task_id = 146819  # Replace with your desired task ID\n",
        "    X, y = load_openml_data(task_id)\n",
        "\n",
        "    # Determine number of features and classes from the dataset\n",
        "    num_features = X.shape[1]\n",
        "    num_classes = len(np.unique(y))\n",
        "\n",
        "    # Split the dataset\n",
        "    X_train, X_val, y_train, y_val = train_test_split(X, y, test_size=0.2, random_state=42)\n",
        "\n",
        "    # Define parameters and arguments\n",
        "    params = {\n",
        "        \"p_m\": 0.5,\n",
        "        \"alpha\": 3.0,\n",
        "    }\n",
        "    args = {\n",
        "        \"num_features\": num_features,\n",
        "        \"num_classes\": num_classes,\n",
        "        \"batch_size\": 32,\n",
        "        \"epochs\": 10,\n",
        "        \"device\": torch.device(\"cuda\" if torch.cuda.is_available() else \"cpu\"),\n",
        "        \"data_parallel\": False,\n",
        "    }\n",
        "\n",
        "    # Initialize and train VIME model\n",
        "    model = VIME(params, args)\n",
        "    accuracy = model.fit(X_train, y_train, X_val, y_val)\n",
        "\n",
        "    # Print only validation accuracy\n",
        "    print(f\"Validation Accuracy: {accuracy:.4f}\")\n"
      ],
      "metadata": {
        "colab": {
          "base_uri": "https://localhost:8080/"
        },
        "outputId": "78296e25-445c-4022-e3d7-bbe1cf78e3d0",
        "id": "_GmbHKFPIlp-"
      },
      "execution_count": null,
      "outputs": [
        {
          "output_type": "stream",
          "name": "stdout",
          "text": [
            "Validation Accuracy: 0.9074\n"
          ]
        }
      ]
    },
    {
      "cell_type": "markdown",
      "source": [
        "# Task ID79: 146821"
      ],
      "metadata": {
        "id": "FQWP6NUVjdoM"
      }
    },
    {
      "cell_type": "code",
      "source": [
        "\n",
        "\n",
        "# Main execution\n",
        "if __name__ == \"__main__\":\n",
        "    # Specify OpenML task ID\n",
        "    task_id = 146821 # Replace with your desired task ID\n",
        "    X, y = load_openml_data(task_id)\n",
        "\n",
        "    # Determine number of features and classes from the dataset\n",
        "    num_features = X.shape[1]\n",
        "    num_classes = len(np.unique(y))\n",
        "\n",
        "    # Split the dataset\n",
        "    X_train, X_val, y_train, y_val = train_test_split(X, y, test_size=0.2, random_state=42)\n",
        "\n",
        "    # Define parameters and arguments\n",
        "    params = {\n",
        "        \"p_m\": 0.5,\n",
        "        \"alpha\": 3.0,\n",
        "    }\n",
        "    args = {\n",
        "        \"num_features\": num_features,\n",
        "        \"num_classes\": num_classes,\n",
        "        \"batch_size\": 32,\n",
        "        \"epochs\": 10,\n",
        "        \"device\": torch.device(\"cuda\" if torch.cuda.is_available() else \"cpu\"),\n",
        "        \"data_parallel\": False,\n",
        "    }\n",
        "\n",
        "    # Initialize and train VIME model\n",
        "    model = VIME(params, args)\n",
        "    accuracy = model.fit(X_train, y_train, X_val, y_val)\n",
        "\n",
        "    # Print only validation accuracy\n",
        "    print(f\"Validation Accuracy: {accuracy:.4f}\")\n"
      ],
      "metadata": {
        "colab": {
          "base_uri": "https://localhost:8080/"
        },
        "outputId": "bc804be1-a024-4418-bdfd-ef1a74c8560b",
        "id": "CgT-j3tAImBx"
      },
      "execution_count": null,
      "outputs": [
        {
          "output_type": "stream",
          "name": "stderr",
          "text": [
            "/usr/local/lib/python3.10/dist-packages/torch/nn/init.py:511: UserWarning: Initializing zero-element tensors is a no-op\n",
            "  warnings.warn(\"Initializing zero-element tensors is a no-op\")\n"
          ]
        },
        {
          "output_type": "stream",
          "name": "stdout",
          "text": [
            "Validation Accuracy: 0.6792\n"
          ]
        }
      ]
    },
    {
      "cell_type": "markdown",
      "source": [
        "# Task ID80: 14954"
      ],
      "metadata": {
        "id": "R1dUVRBFjd0n"
      }
    },
    {
      "cell_type": "code",
      "source": [
        "\n",
        "\n",
        "# Main execution\n",
        "if __name__ == \"__main__\":\n",
        "    # Specify OpenML task ID\n",
        "    task_id = 14954  # Replace with your desired task ID\n",
        "    X, y = load_openml_data(task_id)\n",
        "\n",
        "    # Determine number of features and classes from the dataset\n",
        "    num_features = X.shape[1]\n",
        "    num_classes = len(np.unique(y))\n",
        "\n",
        "    # Split the dataset\n",
        "    X_train, X_val, y_train, y_val = train_test_split(X, y, test_size=0.2, random_state=42)\n",
        "\n",
        "    # Define parameters and arguments\n",
        "    params = {\n",
        "        \"p_m\": 0.5,\n",
        "        \"alpha\": 3.0,\n",
        "    }\n",
        "    args = {\n",
        "        \"num_features\": num_features,\n",
        "        \"num_classes\": num_classes,\n",
        "        \"batch_size\": 32,\n",
        "        \"epochs\": 10,\n",
        "        \"device\": torch.device(\"cuda\" if torch.cuda.is_available() else \"cpu\"),\n",
        "        \"data_parallel\": False,\n",
        "    }\n",
        "\n",
        "    # Initialize and train VIME model\n",
        "    model = VIME(params, args)\n",
        "    accuracy = model.fit(X_train, y_train, X_val, y_val)\n",
        "\n",
        "    # Print only validation accuracy\n",
        "    print(f\"Validation Accuracy: {accuracy:.4f}\")\n"
      ],
      "metadata": {
        "colab": {
          "base_uri": "https://localhost:8080/"
        },
        "outputId": "02a34cc2-abf1-4b47-a89d-b70d6642cbdb",
        "id": "8gazkkBgImXh"
      },
      "execution_count": null,
      "outputs": [
        {
          "output_type": "stream",
          "name": "stdout",
          "text": [
            "Validation Accuracy: 0.4444\n"
          ]
        }
      ]
    },
    {
      "cell_type": "markdown",
      "source": [
        "# Task ID81: 167141"
      ],
      "metadata": {
        "id": "hZqVKYjojeA6"
      }
    },
    {
      "cell_type": "code",
      "source": [
        "\n",
        "\n",
        "# Main execution\n",
        "if __name__ == \"__main__\":\n",
        "    # Specify OpenML task ID\n",
        "    task_id = 167141 # Replace with your desired task ID\n",
        "    X, y = load_openml_data(task_id)\n",
        "\n",
        "    # Determine number of features and classes from the dataset\n",
        "    num_features = X.shape[1]\n",
        "    num_classes = len(np.unique(y))\n",
        "\n",
        "    # Split the dataset\n",
        "    X_train, X_val, y_train, y_val = train_test_split(X, y, test_size=0.2, random_state=42)\n",
        "\n",
        "    # Define parameters and arguments\n",
        "    params = {\n",
        "        \"p_m\": 0.5,\n",
        "        \"alpha\": 3.0,\n",
        "    }\n",
        "    args = {\n",
        "        \"num_features\": num_features,\n",
        "        \"num_classes\": num_classes,\n",
        "        \"batch_size\": 32,\n",
        "        \"epochs\": 10,\n",
        "        \"device\": torch.device(\"cuda\" if torch.cuda.is_available() else \"cpu\"),\n",
        "        \"data_parallel\": False,\n",
        "    }\n",
        "\n",
        "    # Initialize and train VIME model\n",
        "    model = VIME(params, args)\n",
        "    accuracy = model.fit(X_train, y_train, X_val, y_val)\n",
        "\n",
        "    # Print only validation accuracy\n",
        "    print(f\"Validation Accuracy: {accuracy:.4f}\")\n"
      ],
      "metadata": {
        "colab": {
          "base_uri": "https://localhost:8080/"
        },
        "outputId": "68f73d75-a97c-40d8-ab85-eec671ef40b4",
        "id": "3B-gcquoImtE"
      },
      "execution_count": null,
      "outputs": [
        {
          "output_type": "stream",
          "name": "stdout",
          "text": [
            "Validation Accuracy: 0.8650\n"
          ]
        }
      ]
    },
    {
      "cell_type": "markdown",
      "source": [
        "# Task ID82: 167140"
      ],
      "metadata": {
        "id": "S19sCYYBjeNI"
      }
    },
    {
      "cell_type": "code",
      "source": [
        "\n",
        "\n",
        "# Main execution\n",
        "if __name__ == \"__main__\":\n",
        "    # Specify OpenML task ID\n",
        "    task_id = 167140  # Replace with your desired task ID\n",
        "    X, y = load_openml_data(task_id)\n",
        "\n",
        "    # Determine number of features and classes from the dataset\n",
        "    num_features = X.shape[1]\n",
        "    num_classes = len(np.unique(y))\n",
        "\n",
        "    # Split the dataset\n",
        "    X_train, X_val, y_train, y_val = train_test_split(X, y, test_size=0.2, random_state=42)\n",
        "\n",
        "    # Define parameters and arguments\n",
        "    params = {\n",
        "        \"p_m\": 0.5,\n",
        "        \"alpha\": 3.0,\n",
        "    }\n",
        "    args = {\n",
        "        \"num_features\": num_features,\n",
        "        \"num_classes\": num_classes,\n",
        "        \"batch_size\": 32,\n",
        "        \"epochs\": 10,\n",
        "        \"device\": torch.device(\"cuda\" if torch.cuda.is_available() else \"cpu\"),\n",
        "        \"data_parallel\": False,\n",
        "    }\n",
        "\n",
        "    # Initialize and train VIME model\n",
        "    model = VIME(params, args)\n",
        "    accuracy = model.fit(X_train, y_train, X_val, y_val)\n",
        "\n",
        "    # Print only validation accuracy\n",
        "    print(f\"Validation Accuracy: {accuracy:.4f}\")\n"
      ],
      "metadata": {
        "colab": {
          "base_uri": "https://localhost:8080/"
        },
        "outputId": "87726457-7efa-4c91-e937-3da7b844de46",
        "id": "z0SkSujAInDd"
      },
      "execution_count": null,
      "outputs": [
        {
          "output_type": "stream",
          "name": "stderr",
          "text": [
            "/usr/local/lib/python3.10/dist-packages/torch/nn/init.py:511: UserWarning: Initializing zero-element tensors is a no-op\n",
            "  warnings.warn(\"Initializing zero-element tensors is a no-op\")\n"
          ]
        },
        {
          "output_type": "stream",
          "name": "stdout",
          "text": [
            "Validation Accuracy: 0.4969\n"
          ]
        }
      ]
    },
    {
      "cell_type": "markdown",
      "source": [
        "# Task ID83: 167125"
      ],
      "metadata": {
        "id": "LDgS_tZ8jeZ6"
      }
    },
    {
      "cell_type": "code",
      "source": [
        "\n",
        "\n",
        "# Main execution\n",
        "if __name__ == \"__main__\":\n",
        "    # Specify OpenML task ID\n",
        "    task_id = 167125  # Replace with your desired task ID\n",
        "    X, y = load_openml_data(task_id)\n",
        "\n",
        "    # Determine number of features and classes from the dataset\n",
        "    num_features = X.shape[1]\n",
        "    num_classes = len(np.unique(y))\n",
        "\n",
        "    # Split the dataset\n",
        "    X_train, X_val, y_train, y_val = train_test_split(X, y, test_size=0.2, random_state=42)\n",
        "\n",
        "    # Define parameters and arguments\n",
        "    params = {\n",
        "        \"p_m\": 0.5,\n",
        "        \"alpha\": 3.0,\n",
        "    }\n",
        "    args = {\n",
        "        \"num_features\": num_features,\n",
        "        \"num_classes\": num_classes,\n",
        "        \"batch_size\": 32,\n",
        "        \"epochs\": 10,\n",
        "        \"device\": torch.device(\"cuda\" if torch.cuda.is_available() else \"cpu\"),\n",
        "        \"data_parallel\": False,\n",
        "    }\n",
        "\n",
        "    # Initialize and train VIME model\n",
        "    model = VIME(params, args)\n",
        "    accuracy = model.fit(X_train, y_train, X_val, y_val)\n",
        "\n",
        "    # Print only validation accuracy\n",
        "    print(f\"Validation Accuracy: {accuracy:.4f}\")\n"
      ],
      "metadata": {
        "colab": {
          "base_uri": "https://localhost:8080/"
        },
        "outputId": "0a2a9bab-ff43-4b3a-b914-5ca5c71a4c12",
        "id": "1uepyztgInc9"
      },
      "execution_count": null,
      "outputs": [
        {
          "output_type": "stream",
          "name": "stdout",
          "text": [
            "Validation Accuracy: 0.8933\n"
          ]
        }
      ]
    },
    {
      "cell_type": "markdown",
      "source": [
        "# Task ID84: 167124"
      ],
      "metadata": {
        "id": "y5x3ad8gjenJ"
      }
    },
    {
      "cell_type": "markdown",
      "source": [
        "# Task ID85: 167121"
      ],
      "metadata": {
        "id": "Q82DhhLtjezZ"
      }
    },
    {
      "cell_type": "code",
      "source": [
        "pip freeze > requirements.txt"
      ],
      "metadata": {
        "id": "YFeVlB0t6EWk"
      },
      "execution_count": null,
      "outputs": []
    }
  ]
}
