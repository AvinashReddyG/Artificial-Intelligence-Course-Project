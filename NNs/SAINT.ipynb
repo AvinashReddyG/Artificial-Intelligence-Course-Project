{
  "nbformat": 4,
  "nbformat_minor": 0,
  "metadata": {
    "colab": {
      "provenance": [],
      "toc_visible": true
    },
    "kernelspec": {
      "name": "python3",
      "display_name": "Python 3"
    },
    "language_info": {
      "name": "python"
    }
  },
  "cells": [
    {
      "cell_type": "markdown",
      "source": [
        "# SAINT"
      ],
      "metadata": {
        "id": "o56SgvM60xaP"
      }
    },
    {
      "cell_type": "code",
      "execution_count": null,
      "metadata": {
        "colab": {
          "base_uri": "https://localhost:8080/"
        },
        "id": "1ZdEsqR-iT-y",
        "outputId": "3c409066-295e-43ef-deb6-246167cbe053"
      },
      "outputs": [
        {
          "output_type": "stream",
          "name": "stdout",
          "text": [
            "Requirement already satisfied: pandas in /usr/local/lib/python3.10/dist-packages (2.2.2)\n",
            "Requirement already satisfied: scikit-learn in /usr/local/lib/python3.10/dist-packages (1.5.2)\n",
            "Collecting openml\n",
            "  Downloading openml-0.15.0-py3-none-any.whl.metadata (9.9 kB)\n",
            "Requirement already satisfied: torch in /usr/local/lib/python3.10/dist-packages (2.5.0+cu121)\n",
            "Requirement already satisfied: numpy in /usr/local/lib/python3.10/dist-packages (1.26.4)\n",
            "Requirement already satisfied: python-dateutil>=2.8.2 in /usr/local/lib/python3.10/dist-packages (from pandas) (2.8.2)\n",
            "Requirement already satisfied: pytz>=2020.1 in /usr/local/lib/python3.10/dist-packages (from pandas) (2024.2)\n",
            "Requirement already satisfied: tzdata>=2022.7 in /usr/local/lib/python3.10/dist-packages (from pandas) (2024.2)\n",
            "Requirement already satisfied: scipy>=1.6.0 in /usr/local/lib/python3.10/dist-packages (from scikit-learn) (1.13.1)\n",
            "Requirement already satisfied: joblib>=1.2.0 in /usr/local/lib/python3.10/dist-packages (from scikit-learn) (1.4.2)\n",
            "Requirement already satisfied: threadpoolctl>=3.1.0 in /usr/local/lib/python3.10/dist-packages (from scikit-learn) (3.5.0)\n",
            "Collecting liac-arff>=2.4.0 (from openml)\n",
            "  Downloading liac-arff-2.5.0.tar.gz (13 kB)\n",
            "  Preparing metadata (setup.py) ... \u001b[?25l\u001b[?25hdone\n",
            "Collecting xmltodict (from openml)\n",
            "  Downloading xmltodict-0.14.2-py2.py3-none-any.whl.metadata (8.0 kB)\n",
            "Requirement already satisfied: requests in /usr/local/lib/python3.10/dist-packages (from openml) (2.32.3)\n",
            "Collecting minio (from openml)\n",
            "  Downloading minio-7.2.10-py3-none-any.whl.metadata (6.5 kB)\n",
            "Requirement already satisfied: pyarrow in /usr/local/lib/python3.10/dist-packages (from openml) (17.0.0)\n",
            "Requirement already satisfied: tqdm in /usr/local/lib/python3.10/dist-packages (from openml) (4.66.6)\n",
            "Requirement already satisfied: packaging in /usr/local/lib/python3.10/dist-packages (from openml) (24.1)\n",
            "Requirement already satisfied: filelock in /usr/local/lib/python3.10/dist-packages (from torch) (3.16.1)\n",
            "Requirement already satisfied: typing-extensions>=4.8.0 in /usr/local/lib/python3.10/dist-packages (from torch) (4.12.2)\n",
            "Requirement already satisfied: networkx in /usr/local/lib/python3.10/dist-packages (from torch) (3.4.2)\n",
            "Requirement already satisfied: jinja2 in /usr/local/lib/python3.10/dist-packages (from torch) (3.1.4)\n",
            "Requirement already satisfied: fsspec in /usr/local/lib/python3.10/dist-packages (from torch) (2024.10.0)\n",
            "Requirement already satisfied: sympy==1.13.1 in /usr/local/lib/python3.10/dist-packages (from torch) (1.13.1)\n",
            "Requirement already satisfied: mpmath<1.4,>=1.1.0 in /usr/local/lib/python3.10/dist-packages (from sympy==1.13.1->torch) (1.3.0)\n",
            "Requirement already satisfied: six>=1.5 in /usr/local/lib/python3.10/dist-packages (from python-dateutil>=2.8.2->pandas) (1.16.0)\n",
            "Requirement already satisfied: MarkupSafe>=2.0 in /usr/local/lib/python3.10/dist-packages (from jinja2->torch) (3.0.2)\n",
            "Requirement already satisfied: certifi in /usr/local/lib/python3.10/dist-packages (from minio->openml) (2024.8.30)\n",
            "Requirement already satisfied: urllib3 in /usr/local/lib/python3.10/dist-packages (from minio->openml) (2.2.3)\n",
            "Requirement already satisfied: argon2-cffi in /usr/local/lib/python3.10/dist-packages (from minio->openml) (23.1.0)\n",
            "Collecting pycryptodome (from minio->openml)\n",
            "  Downloading pycryptodome-3.21.0-cp36-abi3-manylinux_2_17_x86_64.manylinux2014_x86_64.whl.metadata (3.4 kB)\n",
            "Requirement already satisfied: charset-normalizer<4,>=2 in /usr/local/lib/python3.10/dist-packages (from requests->openml) (3.4.0)\n",
            "Requirement already satisfied: idna<4,>=2.5 in /usr/local/lib/python3.10/dist-packages (from requests->openml) (3.10)\n",
            "Requirement already satisfied: argon2-cffi-bindings in /usr/local/lib/python3.10/dist-packages (from argon2-cffi->minio->openml) (21.2.0)\n",
            "Requirement already satisfied: cffi>=1.0.1 in /usr/local/lib/python3.10/dist-packages (from argon2-cffi-bindings->argon2-cffi->minio->openml) (1.17.1)\n",
            "Requirement already satisfied: pycparser in /usr/local/lib/python3.10/dist-packages (from cffi>=1.0.1->argon2-cffi-bindings->argon2-cffi->minio->openml) (2.22)\n",
            "Downloading openml-0.15.0-py3-none-any.whl (157 kB)\n",
            "\u001b[2K   \u001b[90m━━━━━━━━━━━━━━━━━━━━━━━━━━━━━━━━━━━━━━━━\u001b[0m \u001b[32m158.0/158.0 kB\u001b[0m \u001b[31m6.0 MB/s\u001b[0m eta \u001b[36m0:00:00\u001b[0m\n",
            "\u001b[?25hDownloading minio-7.2.10-py3-none-any.whl (93 kB)\n",
            "\u001b[2K   \u001b[90m━━━━━━━━━━━━━━━━━━━━━━━━━━━━━━━━━━━━━━━━\u001b[0m \u001b[32m93.9/93.9 kB\u001b[0m \u001b[31m7.3 MB/s\u001b[0m eta \u001b[36m0:00:00\u001b[0m\n",
            "\u001b[?25hDownloading xmltodict-0.14.2-py2.py3-none-any.whl (10.0 kB)\n",
            "Downloading pycryptodome-3.21.0-cp36-abi3-manylinux_2_17_x86_64.manylinux2014_x86_64.whl (2.3 MB)\n",
            "\u001b[2K   \u001b[90m━━━━━━━━━━━━━━━━━━━━━━━━━━━━━━━━━━━━━━━━\u001b[0m \u001b[32m2.3/2.3 MB\u001b[0m \u001b[31m26.3 MB/s\u001b[0m eta \u001b[36m0:00:00\u001b[0m\n",
            "\u001b[?25hBuilding wheels for collected packages: liac-arff\n",
            "  Building wheel for liac-arff (setup.py) ... \u001b[?25l\u001b[?25hdone\n",
            "  Created wheel for liac-arff: filename=liac_arff-2.5.0-py3-none-any.whl size=11716 sha256=07f894e4f92433ffa2e1524a5c68f17011c189605e8d2ee34fa24e63046f9e6d\n",
            "  Stored in directory: /root/.cache/pip/wheels/5d/2a/9c/3895d9617f8f49a0883ba686326d598e78a1c2f54fe3cae86d\n",
            "Successfully built liac-arff\n",
            "Installing collected packages: xmltodict, pycryptodome, liac-arff, minio, openml\n",
            "Successfully installed liac-arff-2.5.0 minio-7.2.10 openml-0.15.0 pycryptodome-3.21.0 xmltodict-0.14.2\n"
          ]
        }
      ],
      "source": [
        "pip install pandas scikit-learn openml torch numpy"
      ]
    },
    {
      "cell_type": "code",
      "source": [
        "pip install torch torchvision torchaudio\n"
      ],
      "metadata": {
        "colab": {
          "base_uri": "https://localhost:8080/"
        },
        "id": "u_hCych6kM8f",
        "outputId": "281ab998-ebab-40f0-ea27-41bcbf733ba2"
      },
      "execution_count": null,
      "outputs": [
        {
          "output_type": "stream",
          "name": "stdout",
          "text": [
            "Requirement already satisfied: torch in /usr/local/lib/python3.10/dist-packages (2.5.0+cu121)\n",
            "Requirement already satisfied: torchvision in /usr/local/lib/python3.10/dist-packages (0.20.0+cu121)\n",
            "Requirement already satisfied: torchaudio in /usr/local/lib/python3.10/dist-packages (2.5.0+cu121)\n",
            "Requirement already satisfied: filelock in /usr/local/lib/python3.10/dist-packages (from torch) (3.16.1)\n",
            "Requirement already satisfied: typing-extensions>=4.8.0 in /usr/local/lib/python3.10/dist-packages (from torch) (4.12.2)\n",
            "Requirement already satisfied: networkx in /usr/local/lib/python3.10/dist-packages (from torch) (3.4.2)\n",
            "Requirement already satisfied: jinja2 in /usr/local/lib/python3.10/dist-packages (from torch) (3.1.4)\n",
            "Requirement already satisfied: fsspec in /usr/local/lib/python3.10/dist-packages (from torch) (2024.10.0)\n",
            "Requirement already satisfied: sympy==1.13.1 in /usr/local/lib/python3.10/dist-packages (from torch) (1.13.1)\n",
            "Requirement already satisfied: mpmath<1.4,>=1.1.0 in /usr/local/lib/python3.10/dist-packages (from sympy==1.13.1->torch) (1.3.0)\n",
            "Requirement already satisfied: numpy in /usr/local/lib/python3.10/dist-packages (from torchvision) (1.26.4)\n",
            "Requirement already satisfied: pillow!=8.3.*,>=5.3.0 in /usr/local/lib/python3.10/dist-packages (from torchvision) (10.4.0)\n",
            "Requirement already satisfied: MarkupSafe>=2.0 in /usr/local/lib/python3.10/dist-packages (from jinja2->torch) (3.0.2)\n"
          ]
        }
      ]
    },
    {
      "cell_type": "code",
      "source": [
        "import pandas as pd\n",
        "import numpy as np\n",
        "import torch\n",
        "import torch.nn as nn\n",
        "import torch.optim as optim\n",
        "from torch.utils.data import Dataset, DataLoader\n",
        "import openml\n",
        "from sklearn.model_selection import train_test_split\n",
        "from sklearn.preprocessing import LabelEncoder\n",
        "\n",
        "# Tabular Dataset class to handle data\n",
        "class TabularDataset(Dataset):\n",
        "    def __init__(self, features, targets, categorical_indices):\n",
        "        self.features = torch.tensor(features.values, dtype=torch.float32)  # Convert to numpy array\n",
        "        self.targets = torch.tensor(targets, dtype=torch.long)  # Convert to long for multiclass classification\n",
        "        self.categorical_indices = categorical_indices\n",
        "\n",
        "    def __len__(self):\n",
        "        return len(self.targets)\n",
        "\n",
        "    def __getitem__(self, idx):\n",
        "        return self.features[idx], self.targets[idx]\n",
        "\n",
        "# Load the data from OpenML\n",
        "def load_data(task_id):\n",
        "    task = openml.tasks.get_task(task_id)\n",
        "    dataset = task.get_dataset()\n",
        "    X, y, _, _ = dataset.get_data(target=dataset.default_target_attribute)\n",
        "\n",
        "    cat_columns = [col for col in X.columns if X[col].dtype.name == 'category']\n",
        "    num_columns = [col for col in X.columns if X[col].dtype in ['int64', 'float64']]\n",
        "\n",
        "    return X, y, cat_columns, num_columns\n",
        "\n",
        "def preprocess_data(X, cat_columns):\n",
        "    # Handle missing values in categorical columns\n",
        "    for col in cat_columns:\n",
        "        X[col] = X[col].astype('category')  # Convert the column to 'category' type if not already\n",
        "        X[col] = X[col].cat.add_categories('Unknown')  # Add 'Unknown' as a new category\n",
        "        X[col] = X[col].fillna('Unknown')  # Replace NaN with 'Unknown'\n",
        "\n",
        "    # Apply label encoding for categorical columns\n",
        "    label_encoders = {}\n",
        "    for col in cat_columns:\n",
        "        le = LabelEncoder()\n",
        "        X[col] = le.fit_transform(X[col].astype(str))  # Ensure string type before label encoding\n",
        "        label_encoders[col] = le  # Store the encoder for future use\n",
        "\n",
        "    # Convert all columns to float for PyTorch compatibility\n",
        "    for col in X.columns:\n",
        "        X[col] = X[col].astype(float)\n",
        "\n",
        "    return X, label_encoders\n",
        "\n",
        "\n",
        "# Define the SAINT model\n",
        "class SAINT(nn.Module):\n",
        "    def __init__(self, input_dim, params):\n",
        "        super(SAINT, self).__init__()\n",
        "        self.embedding_dim = params['dim']\n",
        "        self.embedding = nn.Linear(input_dim, self.embedding_dim)\n",
        "        self.fc = nn.Linear(self.embedding_dim, len(np.unique(params['target'])))  # Output for each class\n",
        "\n",
        "    def forward(self, x):\n",
        "        x = self.embedding(x)\n",
        "        x = self.fc(x)\n",
        "        return x\n",
        "\n",
        "# Train the model\n",
        "def train_model(X_train, y_train, X_val, y_val, params):\n",
        "    device = torch.device(\"cuda\" if torch.cuda.is_available() else \"cpu\")\n",
        "    train_dataset = TabularDataset(X_train, y_train, params['cat_idx'])\n",
        "    val_dataset = TabularDataset(X_val, y_val, params['cat_idx'])\n",
        "    train_loader = DataLoader(train_dataset, batch_size=params['batch_size'], shuffle=True)\n",
        "    val_loader = DataLoader(val_dataset, batch_size=params['val_batch_size'], shuffle=False)\n",
        "\n",
        "    model = SAINT(input_dim=X_train.shape[1], params=params).to(device)\n",
        "    criterion = nn.CrossEntropyLoss()  # For multiclass classification\n",
        "    optimizer = optim.AdamW(model.parameters(), lr=params['lr'])\n",
        "\n",
        "    # Training loop\n",
        "    for epoch in range(params['epochs']):\n",
        "        model.train()\n",
        "        for x_batch, y_batch in train_loader:\n",
        "            x_batch, y_batch = x_batch.to(device), y_batch.to(device)\n",
        "            optimizer.zero_grad()\n",
        "            outputs = model(x_batch)\n",
        "            loss = criterion(outputs, y_batch)\n",
        "            loss.backward()\n",
        "            optimizer.step()\n",
        "\n",
        "    # Validation loop\n",
        "    model.eval()\n",
        "    val_accuracy = 0\n",
        "    with torch.no_grad():\n",
        "        all_preds = []\n",
        "        all_labels = []\n",
        "        for x_batch, y_batch in val_loader:\n",
        "            x_batch, y_batch = x_batch.to(device), y_batch.to(device)\n",
        "            outputs = model(x_batch)\n",
        "            preds = torch.argmax(outputs, dim=1)  # Get class predictions for multiclass\n",
        "            all_preds.append(preds.cpu().numpy())\n",
        "            all_labels.append(y_batch.cpu().numpy())\n",
        "\n",
        "        # Flatten the lists to compute accuracy\n",
        "        all_preds = np.concatenate(all_preds)\n",
        "        all_labels = np.concatenate(all_labels)\n",
        "\n",
        "        val_accuracy = np.mean(all_preds == all_labels)  # Compute accuracy\n",
        "\n",
        "    return model, val_accuracy\n",
        "\n",
        "# Generate random hyperparameters\n",
        "def get_random_parameters(seed):\n",
        "    rs = np.random.RandomState(seed)\n",
        "    params = {\n",
        "        \"dim\": rs.choice([32, 64, 128, 256]),\n",
        "        \"depth\": rs.choice([1, 2, 3, 6, 12]),\n",
        "        \"heads\": rs.choice([2, 4, 8]),\n",
        "        \"dropout\": rs.choice([0, 0.1, 0.2, 0.3, 0.4, 0.5, 0.6, 0.7, 0.8]),\n",
        "        \"epochs\": 100,\n",
        "        \"batch_size\": 64,\n",
        "        \"val_batch_size\": 32,\n",
        "        \"lr\": 0.00003,\n",
        "        \"cat_idx\": [],\n",
        "        \"num_idx\": [],\n",
        "    }\n",
        "    return params"
      ],
      "metadata": {
        "id": "9YgEn2WGiU2_"
      },
      "execution_count": null,
      "outputs": []
    },
    {
      "cell_type": "markdown",
      "source": [
        "# Task ID1: 14965"
      ],
      "metadata": {
        "id": "Av3Ht0glwhhn"
      }
    },
    {
      "cell_type": "code",
      "source": [
        "# Load and preprocess the data\n",
        "task_id = 14965\n",
        "X, y, cat_columns, num_columns = load_data(task_id)\n",
        "X, label_encoders = preprocess_data(X, cat_columns)\n",
        "\n",
        "# Encode the target variable\n",
        "target_encoder = LabelEncoder()\n",
        "y_encoded = target_encoder.fit_transform(y)  # Encode the target labels to integers\n",
        "\n",
        "params = get_random_parameters(seed=42)\n",
        "params['cat_idx'] = [X.columns.get_loc(c) for c in cat_columns]\n",
        "params['num_idx'] = [X.columns.get_loc(c) for c in num_columns if c in X.columns]\n",
        "params['target'] = np.unique(y_encoded)  # Add the unique targets for the output layer size\n",
        "\n",
        "# Split the data\n",
        "X_train, X_val, y_train, y_val = train_test_split(X, y_encoded, test_size=0.2, random_state=42)\n",
        "\n",
        "# Train the model\n",
        "model, accuracy = train_model(X_train, y_train, X_val, y_val, params)\n",
        "print(f'Validation Accuracy: {accuracy:.4f}')\n"
      ],
      "metadata": {
        "colab": {
          "base_uri": "https://localhost:8080/"
        },
        "id": "9GZ5SUXAHL-K",
        "outputId": "62cebc92-c0b4-4563-be57-37c33bf380f1"
      },
      "execution_count": null,
      "outputs": [
        {
          "output_type": "stream",
          "name": "stdout",
          "text": [
            "Validation Accuracy: 0.8853\n"
          ]
        }
      ]
    },
    {
      "cell_type": "markdown",
      "source": [
        "# Task ID2: 9977"
      ],
      "metadata": {
        "id": "_bEEFrVDxJk6"
      }
    },
    {
      "cell_type": "code",
      "source": [
        "# Load and preprocess the data\n",
        "task_id = 9977\n",
        "X, y, cat_columns, num_columns = load_data(task_id)\n",
        "X, label_encoders = preprocess_data(X, cat_columns)\n",
        "\n",
        "# Encode the target variable\n",
        "target_encoder = LabelEncoder()\n",
        "y_encoded = target_encoder.fit_transform(y)  # Encode the target labels to integers\n",
        "\n",
        "params = get_random_parameters(seed=42)\n",
        "params['cat_idx'] = [X.columns.get_loc(c) for c in cat_columns]\n",
        "params['num_idx'] = [X.columns.get_loc(c) for c in num_columns if c in X.columns]\n",
        "params['target'] = np.unique(y_encoded)  # Add the unique targets for the output layer size\n",
        "\n",
        "# Split the data\n",
        "X_train, X_val, y_train, y_val = train_test_split(X, y_encoded, test_size=0.2, random_state=42)\n",
        "\n",
        "# Train the model\n",
        "model, accuracy = train_model(X_train, y_train, X_val, y_val, params)\n",
        "print(f'Validation Accuracy: {accuracy:.4f}')\n"
      ],
      "metadata": {
        "colab": {
          "base_uri": "https://localhost:8080/"
        },
        "id": "TuDqRIBF1umB",
        "outputId": "925f18af-cf63-439c-8b0f-b6fb0d377400"
      },
      "execution_count": null,
      "outputs": [
        {
          "output_type": "stream",
          "name": "stdout",
          "text": [
            "Validation Accuracy: 0.9450\n"
          ]
        }
      ]
    },
    {
      "cell_type": "markdown",
      "metadata": {
        "id": "7Hz-jF53KD4A"
      },
      "source": [
        "# Task ID3: 34539"
      ]
    },
    {
      "cell_type": "code",
      "source": [
        "# Load and preprocess the data\n",
        "task_id = 34539\n",
        "X, y, cat_columns, num_columns = load_data(task_id)\n",
        "X, label_encoders = preprocess_data(X, cat_columns)\n",
        "\n",
        "# Encode the target variable\n",
        "target_encoder = LabelEncoder()\n",
        "y_encoded = target_encoder.fit_transform(y)  # Encode the target labels to integers\n",
        "\n",
        "params = get_random_parameters(seed=42)\n",
        "params['cat_idx'] = [X.columns.get_loc(c) for c in cat_columns]\n",
        "params['num_idx'] = [X.columns.get_loc(c) for c in num_columns if c in X.columns]\n",
        "params['target'] = np.unique(y_encoded)  # Add the unique targets for the output layer size\n",
        "\n",
        "# Split the data\n",
        "X_train, X_val, y_train, y_val = train_test_split(X, y_encoded, test_size=0.2, random_state=42)\n",
        "\n",
        "# Train the model\n",
        "model, accuracy = train_model(X_train, y_train, X_val, y_val, params)\n",
        "print(f'Validation Accuracy: {accuracy:.4f}')\n"
      ],
      "metadata": {
        "colab": {
          "base_uri": "https://localhost:8080/"
        },
        "id": "gf1WUOGTI3Xd",
        "outputId": "93ce2642-a46a-44c7-9061-268bbe63378d"
      },
      "execution_count": null,
      "outputs": [
        {
          "output_type": "stream",
          "name": "stdout",
          "text": [
            "Validation Accuracy: 0.9437\n"
          ]
        }
      ]
    },
    {
      "cell_type": "markdown",
      "metadata": {
        "id": "KJ1lM1Bv99qs"
      },
      "source": [
        "# Task ID4: 146606"
      ]
    },
    {
      "cell_type": "code",
      "source": [
        "# Load and preprocess the data\n",
        "task_id = 146606\n",
        "X, y, cat_columns, num_columns = load_data(task_id)\n",
        "X, label_encoders = preprocess_data(X, cat_columns)\n",
        "\n",
        "# Encode the target variable\n",
        "target_encoder = LabelEncoder()\n",
        "y_encoded = target_encoder.fit_transform(y)  # Encode the target labels to integers\n",
        "\n",
        "params = get_random_parameters(seed=42)\n",
        "params['cat_idx'] = [X.columns.get_loc(c) for c in cat_columns]\n",
        "params['num_idx'] = [X.columns.get_loc(c) for c in num_columns if c in X.columns]\n",
        "params['target'] = np.unique(y_encoded)  # Add the unique targets for the output layer size\n",
        "\n",
        "# Split the data\n",
        "X_train, X_val, y_train, y_val = train_test_split(X, y_encoded, test_size=0.2, random_state=42)\n",
        "\n",
        "# Train the model\n",
        "model, accuracy = train_model(X_train, y_train, X_val, y_val, params)\n",
        "print(f'Validation Accuracy: {accuracy:.4f}')\n"
      ],
      "metadata": {
        "colab": {
          "base_uri": "https://localhost:8080/"
        },
        "id": "o_KuzZvMI4eZ",
        "outputId": "e3e2a232-76b9-4ff9-c0a9-6510ecc8294c"
      },
      "execution_count": null,
      "outputs": [
        {
          "output_type": "stream",
          "name": "stdout",
          "text": [
            "Validation Accuracy: 0.6380\n"
          ]
        }
      ]
    },
    {
      "cell_type": "markdown",
      "metadata": {
        "id": "agXkkvFj-uRE"
      },
      "source": [
        "# Task ID5: 7592\n",
        "\n"
      ]
    },
    {
      "cell_type": "code",
      "source": [
        "# Load and preprocess the data\n",
        "task_id = 7592\n",
        "X, y, cat_columns, num_columns = load_data(task_id)\n",
        "X, label_encoders = preprocess_data(X, cat_columns)\n",
        "\n",
        "# Encode the target variable\n",
        "target_encoder = LabelEncoder()\n",
        "y_encoded = target_encoder.fit_transform(y)  # Encode the target labels to integers\n",
        "\n",
        "params = get_random_parameters(seed=42)\n",
        "params['cat_idx'] = [X.columns.get_loc(c) for c in cat_columns]\n",
        "params['num_idx'] = [X.columns.get_loc(c) for c in num_columns if c in X.columns]\n",
        "params['target'] = np.unique(y_encoded)  # Add the unique targets for the output layer size\n",
        "\n",
        "# Split the data\n",
        "X_train, X_val, y_train, y_val = train_test_split(X, y_encoded, test_size=0.2, random_state=42)\n",
        "\n",
        "# Train the model\n",
        "model, accuracy = train_model(X_train, y_train, X_val, y_val, params)\n",
        "print(f'Validation Accuracy: {accuracy:.4f}')\n"
      ],
      "metadata": {
        "colab": {
          "base_uri": "https://localhost:8080/"
        },
        "id": "E_eeSv5IViCx",
        "outputId": "61f10b88-9eaa-4cf4-c7f2-d8dd0fa0b0df"
      },
      "execution_count": null,
      "outputs": [
        {
          "output_type": "stream",
          "name": "stdout",
          "text": [
            "Validation Accuracy: 0.8008\n"
          ]
        }
      ]
    },
    {
      "cell_type": "markdown",
      "metadata": {
        "id": "5qB-NZ-t-wyd"
      },
      "source": [
        "# Task ID6: 146195\n",
        "\n"
      ]
    },
    {
      "cell_type": "code",
      "source": [
        "# Load and preprocess the data\n",
        "task_id = 146195\n",
        "X, y, cat_columns, num_columns = load_data(task_id)\n",
        "X, label_encoders = preprocess_data(X, cat_columns)\n",
        "\n",
        "# Encode the target variable\n",
        "target_encoder = LabelEncoder()\n",
        "y_encoded = target_encoder.fit_transform(y)  # Encode the target labels to integers\n",
        "\n",
        "params = get_random_parameters(seed=42)\n",
        "params['cat_idx'] = [X.columns.get_loc(c) for c in cat_columns]\n",
        "params['num_idx'] = [X.columns.get_loc(c) for c in num_columns if c in X.columns]\n",
        "params['target'] = np.unique(y_encoded)  # Add the unique targets for the output layer size\n",
        "\n",
        "# Split the data\n",
        "X_train, X_val, y_train, y_val = train_test_split(X, y_encoded, test_size=0.2, random_state=42)\n",
        "\n",
        "# Train the model\n",
        "model, accuracy = train_model(X_train, y_train, X_val, y_val, params)\n",
        "print(f'Validation Accuracy: {accuracy:.4f}')\n"
      ],
      "metadata": {
        "colab": {
          "base_uri": "https://localhost:8080/"
        },
        "id": "X6eFoyg_I6LT",
        "outputId": "d816fda8-dd5d-4109-c925-badca2345238"
      },
      "execution_count": null,
      "outputs": [
        {
          "output_type": "stream",
          "name": "stdout",
          "text": [
            "Validation Accuracy: 0.6584\n"
          ]
        }
      ]
    },
    {
      "cell_type": "markdown",
      "metadata": {
        "id": "D-6lP2ED-yYw"
      },
      "source": [
        "# Task ID7: 167119\n",
        "\n"
      ]
    },
    {
      "cell_type": "code",
      "source": [
        "# Load and preprocess the data\n",
        "task_id = 167119\n",
        "X, y, cat_columns, num_columns = load_data(task_id)\n",
        "X, label_encoders = preprocess_data(X, cat_columns)\n",
        "\n",
        "# Encode the target variable\n",
        "target_encoder = LabelEncoder()\n",
        "y_encoded = target_encoder.fit_transform(y)  # Encode the target labels to integers\n",
        "\n",
        "params = get_random_parameters(seed=42)\n",
        "params['cat_idx'] = [X.columns.get_loc(c) for c in cat_columns]\n",
        "params['num_idx'] = [X.columns.get_loc(c) for c in num_columns if c in X.columns]\n",
        "params['target'] = np.unique(y_encoded)  # Add the unique targets for the output layer size\n",
        "\n",
        "# Split the data\n",
        "X_train, X_val, y_train, y_val = train_test_split(X, y_encoded, test_size=0.2, random_state=42)\n",
        "\n",
        "# Train the model\n",
        "model, accuracy = train_model(X_train, y_train, X_val, y_val, params)\n",
        "print(f'Validation Accuracy: {accuracy:.4f}')\n"
      ],
      "metadata": {
        "colab": {
          "base_uri": "https://localhost:8080/"
        },
        "id": "OyeN2IZHtcdr",
        "outputId": "e2ae76d1-c3f7-44ba-8a19-43c006c8e53f"
      },
      "execution_count": null,
      "outputs": [
        {
          "output_type": "stream",
          "name": "stdout",
          "text": [
            "Validation Accuracy: 0.6746\n"
          ]
        }
      ]
    },
    {
      "cell_type": "markdown",
      "metadata": {
        "id": "UhMkxXLjFYC_"
      },
      "source": [
        "# Task ID8: 167120\n",
        "\n"
      ]
    },
    {
      "cell_type": "code",
      "source": [
        "# Load and preprocess the data\n",
        "task_id = 167120\n",
        "X, y, cat_columns, num_columns = load_data(task_id)\n",
        "X, label_encoders = preprocess_data(X, cat_columns)\n",
        "\n",
        "# Encode the target variable\n",
        "target_encoder = LabelEncoder()\n",
        "y_encoded = target_encoder.fit_transform(y)  # Encode the target labels to integers\n",
        "\n",
        "params = get_random_parameters(seed=42)\n",
        "params['cat_idx'] = [X.columns.get_loc(c) for c in cat_columns]\n",
        "params['num_idx'] = [X.columns.get_loc(c) for c in num_columns if c in X.columns]\n",
        "params['target'] = np.unique(y_encoded)  # Add the unique targets for the output layer size\n",
        "\n",
        "# Split the data\n",
        "X_train, X_val, y_train, y_val = train_test_split(X, y_encoded, test_size=0.2, random_state=42)\n",
        "\n",
        "# Train the model\n",
        "model, accuracy = train_model(X_train, y_train, X_val, y_val, params)\n",
        "print(f'Validation Accuracy: {accuracy:.4f}')\n"
      ],
      "metadata": {
        "colab": {
          "base_uri": "https://localhost:8080/"
        },
        "id": "-iCSf0exI7i2",
        "outputId": "d1f030ef-d7bd-4422-abd2-fb4529310e24"
      },
      "execution_count": null,
      "outputs": [
        {
          "output_type": "stream",
          "name": "stdout",
          "text": [
            "Validation Accuracy: 0.5197\n"
          ]
        }
      ]
    },
    {
      "cell_type": "markdown",
      "metadata": {
        "id": "7Or_hKHXYB39"
      },
      "source": [
        "# Task ID11: \t168331\n",
        "\n"
      ]
    },
    {
      "cell_type": "code",
      "source": [
        "# Load and preprocess the data\n",
        "task_id = 168331\n",
        "X, y, cat_columns, num_columns = load_data(task_id)\n",
        "X, label_encoders = preprocess_data(X, cat_columns)\n",
        "\n",
        "# Encode the target variable\n",
        "target_encoder = LabelEncoder()\n",
        "y_encoded = target_encoder.fit_transform(y)  # Encode the target labels to integers\n",
        "\n",
        "params = get_random_parameters(seed=42)\n",
        "params['cat_idx'] = [X.columns.get_loc(c) for c in cat_columns]\n",
        "params['num_idx'] = [X.columns.get_loc(c) for c in num_columns if c in X.columns]\n",
        "params['target'] = np.unique(y_encoded)  # Add the unique targets for the output layer size\n",
        "\n",
        "# Split the data\n",
        "X_train, X_val, y_train, y_val = train_test_split(X, y_encoded, test_size=0.2, random_state=42)\n",
        "\n",
        "# Train the model\n",
        "model, accuracy = train_model(X_train, y_train, X_val, y_val, params)\n",
        "print(f'Validation Accuracy: {accuracy:.4f}')\n"
      ],
      "metadata": {
        "colab": {
          "base_uri": "https://localhost:8080/"
        },
        "id": "psewhcIJI8d2",
        "outputId": "207ad73c-c549-453a-9b2a-bbedafe0396c"
      },
      "execution_count": null,
      "outputs": [
        {
          "output_type": "stream",
          "name": "stdout",
          "text": [
            "Validation Accuracy: 0.5564\n"
          ]
        }
      ]
    },
    {
      "cell_type": "markdown",
      "metadata": {
        "id": "yUMhEOrBdFAA"
      },
      "source": [
        "# Task ID12: \t168330\n",
        "\n"
      ]
    },
    {
      "cell_type": "code",
      "source": [
        "# Load and preprocess the data\n",
        "task_id = 168330\n",
        "X, y, cat_columns, num_columns = load_data(task_id)\n",
        "X, label_encoders = preprocess_data(X, cat_columns)\n",
        "\n",
        "# Encode the target variable\n",
        "target_encoder = LabelEncoder()\n",
        "y_encoded = target_encoder.fit_transform(y)  # Encode the target labels to integers\n",
        "\n",
        "params = get_random_parameters(seed=42)\n",
        "params['cat_idx'] = [X.columns.get_loc(c) for c in cat_columns]\n",
        "params['num_idx'] = [X.columns.get_loc(c) for c in num_columns if c in X.columns]\n",
        "params['target'] = np.unique(y_encoded)  # Add the unique targets for the output layer size\n",
        "\n",
        "# Split the data\n",
        "X_train, X_val, y_train, y_val = train_test_split(X, y_encoded, test_size=0.2, random_state=42)\n",
        "\n",
        "# Train the model\n",
        "model, accuracy = train_model(X_train, y_train, X_val, y_val, params)\n",
        "print(f'Validation Accuracy: {accuracy:.4f}')\n"
      ],
      "metadata": {
        "colab": {
          "base_uri": "https://localhost:8080/"
        },
        "id": "fub25hu5I9Xq",
        "outputId": "7548c335-cfb7-4103-b2ee-eb85fa6c0a2d"
      },
      "execution_count": null,
      "outputs": [
        {
          "output_type": "stream",
          "name": "stdout",
          "text": [
            "Validation Accuracy: 0.6357\n"
          ]
        }
      ]
    },
    {
      "cell_type": "markdown",
      "metadata": {
        "id": "d3yrnlEGULX7"
      },
      "source": [
        "# Task ID13: \t168335\n",
        "\n"
      ]
    },
    {
      "cell_type": "code",
      "source": [
        "# Load and preprocess the data\n",
        "task_id = 168335\n",
        "X, y, cat_columns, num_columns = load_data(task_id)\n",
        "X, label_encoders = preprocess_data(X, cat_columns)\n",
        "\n",
        "# Encode the target variable\n",
        "target_encoder = LabelEncoder()\n",
        "y_encoded = target_encoder.fit_transform(y)  # Encode the target labels to integers\n",
        "\n",
        "params = get_random_parameters(seed=42)\n",
        "params['cat_idx'] = [X.columns.get_loc(c) for c in cat_columns]\n",
        "params['num_idx'] = [X.columns.get_loc(c) for c in num_columns if c in X.columns]\n",
        "params['target'] = np.unique(y_encoded)  # Add the unique targets for the output layer size\n",
        "\n",
        "# Split the data\n",
        "X_train, X_val, y_train, y_val = train_test_split(X, y_encoded, test_size=0.2, random_state=42)\n",
        "\n",
        "# Train the model\n",
        "model, accuracy = train_model(X_train, y_train, X_val, y_val, params)\n",
        "print(f'Validation Accuracy: {accuracy:.4f}')\n"
      ],
      "metadata": {
        "colab": {
          "base_uri": "https://localhost:8080/"
        },
        "id": "TilbghI2I-RH",
        "outputId": "219464df-8ed3-4e4f-e036-767aded31c99"
      },
      "execution_count": null,
      "outputs": [
        {
          "output_type": "stream",
          "name": "stdout",
          "text": [
            "Validation Accuracy: 0.8809\n"
          ]
        }
      ]
    },
    {
      "cell_type": "markdown",
      "metadata": {
        "id": "065Jhn3bUN3E"
      },
      "source": [
        "\n",
        "# Task ID16: \t146212\n",
        "\n"
      ]
    },
    {
      "cell_type": "code",
      "source": [
        "# Load and preprocess the data\n",
        "task_id = 146212\n",
        "X, y, cat_columns, num_columns = load_data(task_id)\n",
        "X, label_encoders = preprocess_data(X, cat_columns)\n",
        "\n",
        "# Encode the target variable\n",
        "target_encoder = LabelEncoder()\n",
        "y_encoded = target_encoder.fit_transform(y)  # Encode the target labels to integers\n",
        "\n",
        "params = get_random_parameters(seed=42)\n",
        "params['cat_idx'] = [X.columns.get_loc(c) for c in cat_columns]\n",
        "params['num_idx'] = [X.columns.get_loc(c) for c in num_columns if c in X.columns]\n",
        "params['target'] = np.unique(y_encoded)  # Add the unique targets for the output layer size\n",
        "\n",
        "# Split the data\n",
        "X_train, X_val, y_train, y_val = train_test_split(X, y_encoded, test_size=0.2, random_state=42)\n",
        "\n",
        "# Train the model\n",
        "model, accuracy = train_model(X_train, y_train, X_val, y_val, params)\n",
        "print(f'Validation Accuracy: {accuracy:.4f}')\n"
      ],
      "metadata": {
        "colab": {
          "base_uri": "https://localhost:8080/"
        },
        "id": "pWQ3L4lKI_UU",
        "outputId": "78433681-56b1-4759-d355-df4061c64145"
      },
      "execution_count": null,
      "outputs": [
        {
          "output_type": "stream",
          "name": "stdout",
          "text": [
            "Validation Accuracy: 0.9280\n"
          ]
        }
      ]
    },
    {
      "cell_type": "markdown",
      "metadata": {
        "id": "lPP_6tsjUQVe"
      },
      "source": [
        "# Task ID19: \t168868\n",
        "\n"
      ]
    },
    {
      "cell_type": "code",
      "source": [
        "# Load and preprocess the data\n",
        "task_id = 168868\n",
        "X, y, cat_columns, num_columns = load_data(task_id)\n",
        "X, label_encoders = preprocess_data(X, cat_columns)\n",
        "\n",
        "# Encode the target variable\n",
        "target_encoder = LabelEncoder()\n",
        "y_encoded = target_encoder.fit_transform(y)  # Encode the target labels to integers\n",
        "\n",
        "params = get_random_parameters(seed=42)\n",
        "params['cat_idx'] = [X.columns.get_loc(c) for c in cat_columns]\n",
        "params['num_idx'] = [X.columns.get_loc(c) for c in num_columns if c in X.columns]\n",
        "params['target'] = np.unique(y_encoded)  # Add the unique targets for the output layer size\n",
        "\n",
        "# Split the data\n",
        "X_train, X_val, y_train, y_val = train_test_split(X, y_encoded, test_size=0.2, random_state=42)\n",
        "\n",
        "# Train the model\n",
        "model, accuracy = train_model(X_train, y_train, X_val, y_val, params)\n",
        "print(f'Validation Accuracy: {accuracy:.4f}')\n"
      ],
      "metadata": {
        "colab": {
          "base_uri": "https://localhost:8080/"
        },
        "id": "EaxQNIFAJAOW",
        "outputId": "bf8c62c1-621c-4a2c-b5a9-bfd6a7aa5ae3"
      },
      "execution_count": null,
      "outputs": [
        {
          "output_type": "stream",
          "name": "stdout",
          "text": [
            "Validation Accuracy: 0.9803\n"
          ]
        }
      ]
    },
    {
      "cell_type": "markdown",
      "source": [
        "# Task ID20: 31"
      ],
      "metadata": {
        "id": "UkfKJeLtuxt7"
      }
    },
    {
      "cell_type": "code",
      "source": [
        "# Load and preprocess the data\n",
        "task_id = 31\n",
        "X, y, cat_columns, num_columns = load_data(task_id)\n",
        "X, label_encoders = preprocess_data(X, cat_columns)\n",
        "\n",
        "# Encode the target variable\n",
        "target_encoder = LabelEncoder()\n",
        "y_encoded = target_encoder.fit_transform(y)  # Encode the target labels to integers\n",
        "\n",
        "params = get_random_parameters(seed=42)\n",
        "params['cat_idx'] = [X.columns.get_loc(c) for c in cat_columns]\n",
        "params['num_idx'] = [X.columns.get_loc(c) for c in num_columns if c in X.columns]\n",
        "params['target'] = np.unique(y_encoded)  # Add the unique targets for the output layer size\n",
        "\n",
        "# Split the data\n",
        "X_train, X_val, y_train, y_val = train_test_split(X, y_encoded, test_size=0.2, random_state=42)\n",
        "\n",
        "# Train the model\n",
        "model, accuracy = train_model(X_train, y_train, X_val, y_val, params)\n",
        "print(f'Validation Accuracy: {accuracy:.4f}')\n"
      ],
      "metadata": {
        "colab": {
          "base_uri": "https://localhost:8080/"
        },
        "id": "jXCuUIo4LJym",
        "outputId": "545d4b05-0058-4578-c73c-83d8a7fa9d83"
      },
      "execution_count": null,
      "outputs": [
        {
          "output_type": "stream",
          "name": "stdout",
          "text": [
            "Validation Accuracy: 0.7200\n"
          ]
        }
      ]
    },
    {
      "cell_type": "markdown",
      "source": [
        "# Task ID21: 10101"
      ],
      "metadata": {
        "id": "u6DpJWyJu_Um"
      }
    },
    {
      "cell_type": "code",
      "source": [
        "# Load and preprocess the data\n",
        "task_id = 10101\n",
        "X, y, cat_columns, num_columns = load_data(task_id)\n",
        "X, label_encoders = preprocess_data(X, cat_columns)\n",
        "\n",
        "# Encode the target variable\n",
        "target_encoder = LabelEncoder()\n",
        "y_encoded = target_encoder.fit_transform(y)  # Encode the target labels to integers\n",
        "\n",
        "params = get_random_parameters(seed=42)\n",
        "params['cat_idx'] = [X.columns.get_loc(c) for c in cat_columns]\n",
        "params['num_idx'] = [X.columns.get_loc(c) for c in num_columns if c in X.columns]\n",
        "params['target'] = np.unique(y_encoded)  # Add the unique targets for the output layer size\n",
        "\n",
        "# Split the data\n",
        "X_train, X_val, y_train, y_val = train_test_split(X, y_encoded, test_size=0.2, random_state=42)\n",
        "\n",
        "# Train the model\n",
        "model, accuracy = train_model(X_train, y_train, X_val, y_val, params)\n",
        "print(f'Validation Accuracy: {accuracy:.4f}')\n"
      ],
      "metadata": {
        "colab": {
          "base_uri": "https://localhost:8080/"
        },
        "id": "QbbaIsSnLMD_",
        "outputId": "aa646acd-7e6e-4a63-8759-b496dc94c519"
      },
      "execution_count": null,
      "outputs": [
        {
          "output_type": "stream",
          "name": "stdout",
          "text": [
            "Validation Accuracy: 0.6533\n"
          ]
        }
      ]
    },
    {
      "cell_type": "markdown",
      "source": [
        "# Task ID22: \t3913"
      ],
      "metadata": {
        "id": "L4PMg4K1vD9b"
      }
    },
    {
      "cell_type": "code",
      "source": [
        "# Load and preprocess the data\n",
        "task_id = 3913\n",
        "X, y, cat_columns, num_columns = load_data(task_id)\n",
        "X, label_encoders = preprocess_data(X, cat_columns)\n",
        "\n",
        "# Encode the target variable\n",
        "target_encoder = LabelEncoder()\n",
        "y_encoded = target_encoder.fit_transform(y)  # Encode the target labels to integers\n",
        "\n",
        "params = get_random_parameters(seed=42)\n",
        "params['cat_idx'] = [X.columns.get_loc(c) for c in cat_columns]\n",
        "params['num_idx'] = [X.columns.get_loc(c) for c in num_columns if c in X.columns]\n",
        "params['target'] = np.unique(y_encoded)  # Add the unique targets for the output layer size\n",
        "\n",
        "# Split the data\n",
        "X_train, X_val, y_train, y_val = train_test_split(X, y_encoded, test_size=0.2, random_state=42)\n",
        "\n",
        "# Train the model\n",
        "model, accuracy = train_model(X_train, y_train, X_val, y_val, params)\n",
        "print(f'Validation Accuracy: {accuracy:.4f}')\n"
      ],
      "metadata": {
        "colab": {
          "base_uri": "https://localhost:8080/"
        },
        "id": "Mzuyjb3qLM6G",
        "outputId": "9451d0ba-2acc-473e-b07a-d2ad71a4fd5e"
      },
      "execution_count": null,
      "outputs": [
        {
          "output_type": "stream",
          "name": "stdout",
          "text": [
            "Validation Accuracy: 0.5714\n"
          ]
        }
      ]
    },
    {
      "cell_type": "markdown",
      "source": [
        "# Task ID23: 3"
      ],
      "metadata": {
        "id": "6UVYtFS5vFdg"
      }
    },
    {
      "cell_type": "code",
      "source": [
        "# Load and preprocess the data\n",
        "task_id = 3\n",
        "X, y, cat_columns, num_columns = load_data(task_id)\n",
        "X, label_encoders = preprocess_data(X, cat_columns)\n",
        "\n",
        "# Encode the target variable\n",
        "target_encoder = LabelEncoder()\n",
        "y_encoded = target_encoder.fit_transform(y)  # Encode the target labels to integers\n",
        "\n",
        "params = get_random_parameters(seed=42)\n",
        "params['cat_idx'] = [X.columns.get_loc(c) for c in cat_columns]\n",
        "params['num_idx'] = [X.columns.get_loc(c) for c in num_columns if c in X.columns]\n",
        "params['target'] = np.unique(y_encoded)  # Add the unique targets for the output layer size\n",
        "\n",
        "# Split the data\n",
        "X_train, X_val, y_train, y_val = train_test_split(X, y_encoded, test_size=0.2, random_state=42)\n",
        "\n",
        "# Train the model\n",
        "model, accuracy = train_model(X_train, y_train, X_val, y_val, params)\n",
        "print(f'Validation Accuracy: {accuracy:.4f}')\n"
      ],
      "metadata": {
        "colab": {
          "base_uri": "https://localhost:8080/"
        },
        "id": "n0qefzuCLNt0",
        "outputId": "4b0de2aa-24f3-4e34-bd82-f3b315a5469c"
      },
      "execution_count": null,
      "outputs": [
        {
          "output_type": "stream",
          "name": "stdout",
          "text": [
            "Validation Accuracy: 0.9141\n"
          ]
        }
      ]
    },
    {
      "cell_type": "markdown",
      "source": [
        "# Task ID24: 3917"
      ],
      "metadata": {
        "id": "vyRHJUzZvHFc"
      }
    },
    {
      "cell_type": "code",
      "source": [
        "# Load and preprocess the data\n",
        "task_id = 3917\n",
        "X, y, cat_columns, num_columns = load_data(task_id)\n",
        "X, label_encoders = preprocess_data(X, cat_columns)\n",
        "\n",
        "# Encode the target variable\n",
        "target_encoder = LabelEncoder()\n",
        "y_encoded = target_encoder.fit_transform(y)  # Encode the target labels to integers\n",
        "\n",
        "params = get_random_parameters(seed=42)\n",
        "params['cat_idx'] = [X.columns.get_loc(c) for c in cat_columns]\n",
        "params['num_idx'] = [X.columns.get_loc(c) for c in num_columns if c in X.columns]\n",
        "params['target'] = np.unique(y_encoded)  # Add the unique targets for the output layer size\n",
        "\n",
        "# Split the data\n",
        "X_train, X_val, y_train, y_val = train_test_split(X, y_encoded, test_size=0.2, random_state=42)\n",
        "\n",
        "# Train the model\n",
        "model, accuracy = train_model(X_train, y_train, X_val, y_val, params)\n",
        "print(f'Validation Accuracy: {accuracy:.4f}')\n"
      ],
      "metadata": {
        "colab": {
          "base_uri": "https://localhost:8080/"
        },
        "id": "19oM3bQdLOXT",
        "outputId": "1fad75cc-8169-4a17-9768-9d292def3822"
      },
      "execution_count": null,
      "outputs": [
        {
          "output_type": "stream",
          "name": "stdout",
          "text": [
            "Validation Accuracy: 0.7796\n"
          ]
        }
      ]
    },
    {
      "cell_type": "markdown",
      "source": [
        "# Task ID25: 9957"
      ],
      "metadata": {
        "id": "dzf2O5cvvLhe"
      }
    },
    {
      "cell_type": "code",
      "source": [
        "# Load and preprocess the data\n",
        "task_id = 9957\n",
        "X, y, cat_columns, num_columns = load_data(task_id)\n",
        "X, label_encoders = preprocess_data(X, cat_columns)\n",
        "\n",
        "# Encode the target variable\n",
        "target_encoder = LabelEncoder()\n",
        "y_encoded = target_encoder.fit_transform(y)  # Encode the target labels to integers\n",
        "\n",
        "params = get_random_parameters(seed=42)\n",
        "params['cat_idx'] = [X.columns.get_loc(c) for c in cat_columns]\n",
        "params['num_idx'] = [X.columns.get_loc(c) for c in num_columns if c in X.columns]\n",
        "params['target'] = np.unique(y_encoded)  # Add the unique targets for the output layer size\n",
        "\n",
        "# Split the data\n",
        "X_train, X_val, y_train, y_val = train_test_split(X, y_encoded, test_size=0.2, random_state=42)\n",
        "\n",
        "# Train the model\n",
        "model, accuracy = train_model(X_train, y_train, X_val, y_val, params)\n",
        "print(f'Validation Accuracy: {accuracy:.4f}')\n"
      ],
      "metadata": {
        "colab": {
          "base_uri": "https://localhost:8080/"
        },
        "id": "s_M971SBLPGx",
        "outputId": "61fb60e3-904e-40e5-a1d9-079b0e22fec8"
      },
      "execution_count": null,
      "outputs": [
        {
          "output_type": "stream",
          "name": "stdout",
          "text": [
            "Validation Accuracy: 0.8294\n"
          ]
        }
      ]
    },
    {
      "cell_type": "markdown",
      "source": [
        "# Task ID26: 9946"
      ],
      "metadata": {
        "id": "xbL7uSt3vBp0"
      }
    },
    {
      "cell_type": "code",
      "source": [
        "# Load and preprocess the data\n",
        "task_id = 9946\n",
        "X, y, cat_columns, num_columns = load_data(task_id)\n",
        "X, label_encoders = preprocess_data(X, cat_columns)\n",
        "\n",
        "# Encode the target variable\n",
        "target_encoder = LabelEncoder()\n",
        "y_encoded = target_encoder.fit_transform(y)  # Encode the target labels to integers\n",
        "\n",
        "params = get_random_parameters(seed=42)\n",
        "params['cat_idx'] = [X.columns.get_loc(c) for c in cat_columns]\n",
        "params['num_idx'] = [X.columns.get_loc(c) for c in num_columns if c in X.columns]\n",
        "params['target'] = np.unique(y_encoded)  # Add the unique targets for the output layer size\n",
        "\n",
        "# Split the data\n",
        "X_train, X_val, y_train, y_val = train_test_split(X, y_encoded, test_size=0.2, random_state=42)\n",
        "\n",
        "# Train the model\n",
        "model, accuracy = train_model(X_train, y_train, X_val, y_val, params)\n",
        "print(f'Validation Accuracy: {accuracy:.4f}')\n"
      ],
      "metadata": {
        "colab": {
          "base_uri": "https://localhost:8080/"
        },
        "id": "V8WjMaf_LP7j",
        "outputId": "bf0b003b-2e30-49cd-e7aa-517caca8b4b9"
      },
      "execution_count": null,
      "outputs": [
        {
          "output_type": "stream",
          "name": "stdout",
          "text": [
            "Validation Accuracy: 0.9298\n"
          ]
        }
      ]
    },
    {
      "cell_type": "markdown",
      "source": [
        "# Task ID27: 3918"
      ],
      "metadata": {
        "id": "4_3XUL5zOr31"
      }
    },
    {
      "cell_type": "code",
      "source": [
        "# Load and preprocess the data\n",
        "task_id = 3918\n",
        "X, y, cat_columns, num_columns = load_data(task_id)\n",
        "X, label_encoders = preprocess_data(X, cat_columns)\n",
        "\n",
        "# Encode the target variable\n",
        "target_encoder = LabelEncoder()\n",
        "y_encoded = target_encoder.fit_transform(y)  # Encode the target labels to integers\n",
        "\n",
        "params = get_random_parameters(seed=42)\n",
        "params['cat_idx'] = [X.columns.get_loc(c) for c in cat_columns]\n",
        "params['num_idx'] = [X.columns.get_loc(c) for c in num_columns if c in X.columns]\n",
        "params['target'] = np.unique(y_encoded)  # Add the unique targets for the output layer size\n",
        "\n",
        "# Split the data\n",
        "X_train, X_val, y_train, y_val = train_test_split(X, y_encoded, test_size=0.2, random_state=42)\n",
        "\n",
        "# Train the model\n",
        "model, accuracy = train_model(X_train, y_train, X_val, y_val, params)\n",
        "print(f'Validation Accuracy: {accuracy:.4f}')\n"
      ],
      "metadata": {
        "colab": {
          "base_uri": "https://localhost:8080/"
        },
        "outputId": "cdd264e6-94b8-45e1-be9d-b2dd8a54a27e",
        "id": "fZ8CLopoIqw7"
      },
      "execution_count": null,
      "outputs": [
        {
          "output_type": "stream",
          "name": "stdout",
          "text": [
            "Validation Accuracy: 0.8108\n"
          ]
        }
      ]
    },
    {
      "cell_type": "markdown",
      "source": [
        "# Task ID28: 3903"
      ],
      "metadata": {
        "id": "gMfLQ_viOsKc"
      }
    },
    {
      "cell_type": "code",
      "source": [
        "# Load and preprocess the data\n",
        "task_id = 3903\n",
        "X, y, cat_columns, num_columns = load_data(task_id)\n",
        "X, label_encoders = preprocess_data(X, cat_columns)\n",
        "\n",
        "# Encode the target variable\n",
        "target_encoder = LabelEncoder()\n",
        "y_encoded = target_encoder.fit_transform(y)  # Encode the target labels to integers\n",
        "\n",
        "params = get_random_parameters(seed=42)\n",
        "params['cat_idx'] = [X.columns.get_loc(c) for c in cat_columns]\n",
        "params['num_idx'] = [X.columns.get_loc(c) for c in num_columns if c in X.columns]\n",
        "params['target'] = np.unique(y_encoded)  # Add the unique targets for the output layer size\n",
        "\n",
        "# Split the data\n",
        "X_train, X_val, y_train, y_val = train_test_split(X, y_encoded, test_size=0.2, random_state=42)\n",
        "\n",
        "# Train the model\n",
        "model, accuracy = train_model(X_train, y_train, X_val, y_val, params)\n",
        "print(f'Validation Accuracy: {accuracy:.4f}')\n"
      ],
      "metadata": {
        "colab": {
          "base_uri": "https://localhost:8080/"
        },
        "outputId": "f7a2a8c3-2a33-49a8-d355-1db7a5d4cb74",
        "id": "GnYqmjQxIrLV"
      },
      "execution_count": null,
      "outputs": [
        {
          "output_type": "stream",
          "name": "stdout",
          "text": [
            "Validation Accuracy: 0.8051\n"
          ]
        }
      ]
    },
    {
      "cell_type": "markdown",
      "source": [
        "# Task ID29: 37"
      ],
      "metadata": {
        "id": "p8r0_x-wOsYx"
      }
    },
    {
      "cell_type": "code",
      "source": [
        "# Load and preprocess the data\n",
        "task_id = 37\n",
        "X, y, cat_columns, num_columns = load_data(task_id)\n",
        "X, label_encoders = preprocess_data(X, cat_columns)\n",
        "\n",
        "# Encode the target variable\n",
        "target_encoder = LabelEncoder()\n",
        "y_encoded = target_encoder.fit_transform(y)  # Encode the target labels to integers\n",
        "\n",
        "params = get_random_parameters(seed=42)\n",
        "params['cat_idx'] = [X.columns.get_loc(c) for c in cat_columns]\n",
        "params['num_idx'] = [X.columns.get_loc(c) for c in num_columns if c in X.columns]\n",
        "params['target'] = np.unique(y_encoded)  # Add the unique targets for the output layer size\n",
        "\n",
        "# Split the data\n",
        "X_train, X_val, y_train, y_val = train_test_split(X, y_encoded, test_size=0.2, random_state=42)\n",
        "\n",
        "# Train the model\n",
        "model, accuracy = train_model(X_train, y_train, X_val, y_val, params)\n",
        "print(f'Validation Accuracy: {accuracy:.4f}')\n"
      ],
      "metadata": {
        "colab": {
          "base_uri": "https://localhost:8080/"
        },
        "outputId": "2b5b9e95-ebbf-4a69-85e5-f11f89909543",
        "id": "jSWLMExqIrhg"
      },
      "execution_count": null,
      "outputs": [
        {
          "output_type": "stream",
          "name": "stdout",
          "text": [
            "Validation Accuracy: 0.7013\n"
          ]
        }
      ]
    },
    {
      "cell_type": "markdown",
      "source": [
        "# Task ID30: 9971"
      ],
      "metadata": {
        "id": "ZInQ-9WoOsu9"
      }
    },
    {
      "cell_type": "code",
      "source": [
        "# Load and preprocess the data\n",
        "task_id = 9971\n",
        "X, y, cat_columns, num_columns = load_data(task_id)\n",
        "X, label_encoders = preprocess_data(X, cat_columns)\n",
        "\n",
        "# Encode the target variable\n",
        "target_encoder = LabelEncoder()\n",
        "y_encoded = target_encoder.fit_transform(y)  # Encode the target labels to integers\n",
        "\n",
        "params = get_random_parameters(seed=42)\n",
        "params['cat_idx'] = [X.columns.get_loc(c) for c in cat_columns]\n",
        "params['num_idx'] = [X.columns.get_loc(c) for c in num_columns if c in X.columns]\n",
        "params['target'] = np.unique(y_encoded)  # Add the unique targets for the output layer size\n",
        "\n",
        "# Split the data\n",
        "X_train, X_val, y_train, y_val = train_test_split(X, y_encoded, test_size=0.2, random_state=42)\n",
        "\n",
        "# Train the model\n",
        "model, accuracy = train_model(X_train, y_train, X_val, y_val, params)\n",
        "print(f'Validation Accuracy: {accuracy:.4f}')\n"
      ],
      "metadata": {
        "colab": {
          "base_uri": "https://localhost:8080/"
        },
        "outputId": "57c9a23c-bb09-405c-f7e0-43de71722823",
        "id": "gzEtgwqaIr2C"
      },
      "execution_count": null,
      "outputs": [
        {
          "output_type": "stream",
          "name": "stdout",
          "text": [
            "Validation Accuracy: 0.7436\n"
          ]
        }
      ]
    },
    {
      "cell_type": "markdown",
      "source": [
        "# Task ID31: 9952"
      ],
      "metadata": {
        "id": "JXEaEKEaOtAm"
      }
    },
    {
      "cell_type": "code",
      "source": [
        "# Load and preprocess the data\n",
        "task_id = 9952\n",
        "X, y, cat_columns, num_columns = load_data(task_id)\n",
        "X, label_encoders = preprocess_data(X, cat_columns)\n",
        "\n",
        "# Encode the target variable\n",
        "target_encoder = LabelEncoder()\n",
        "y_encoded = target_encoder.fit_transform(y)  # Encode the target labels to integers\n",
        "\n",
        "params = get_random_parameters(seed=42)\n",
        "params['cat_idx'] = [X.columns.get_loc(c) for c in cat_columns]\n",
        "params['num_idx'] = [X.columns.get_loc(c) for c in num_columns if c in X.columns]\n",
        "params['target'] = np.unique(y_encoded)  # Add the unique targets for the output layer size\n",
        "\n",
        "# Split the data\n",
        "X_train, X_val, y_train, y_val = train_test_split(X, y_encoded, test_size=0.2, random_state=42)\n",
        "\n",
        "# Train the model\n",
        "model, accuracy = train_model(X_train, y_train, X_val, y_val, params)\n",
        "print(f'Validation Accuracy: {accuracy:.4f}')\n"
      ],
      "metadata": {
        "colab": {
          "base_uri": "https://localhost:8080/"
        },
        "outputId": "c7478b59-9a80-4c96-ec8a-86d62f8c827d",
        "id": "yrUBIMq1IsMt"
      },
      "execution_count": null,
      "outputs": [
        {
          "output_type": "stream",
          "name": "stdout",
          "text": [
            "Validation Accuracy: 0.7576\n"
          ]
        }
      ]
    },
    {
      "cell_type": "markdown",
      "source": [
        "# Task ID32: 3902"
      ],
      "metadata": {
        "id": "pW00w70pOtPI"
      }
    },
    {
      "cell_type": "code",
      "source": [
        "# Load and preprocess the data\n",
        "task_id = 3902\n",
        "X, y, cat_columns, num_columns = load_data(task_id)\n",
        "X, label_encoders = preprocess_data(X, cat_columns)\n",
        "\n",
        "# Encode the target variable\n",
        "target_encoder = LabelEncoder()\n",
        "y_encoded = target_encoder.fit_transform(y)  # Encode the target labels to integers\n",
        "\n",
        "params = get_random_parameters(seed=42)\n",
        "params['cat_idx'] = [X.columns.get_loc(c) for c in cat_columns]\n",
        "params['num_idx'] = [X.columns.get_loc(c) for c in num_columns if c in X.columns]\n",
        "params['target'] = np.unique(y_encoded)  # Add the unique targets for the output layer size\n",
        "\n",
        "# Split the data\n",
        "X_train, X_val, y_train, y_val = train_test_split(X, y_encoded, test_size=0.2, random_state=42)\n",
        "\n",
        "# Train the model\n",
        "model, accuracy = train_model(X_train, y_train, X_val, y_val, params)\n",
        "print(f'Validation Accuracy: {accuracy:.4f}')\n"
      ],
      "metadata": {
        "colab": {
          "base_uri": "https://localhost:8080/"
        },
        "outputId": "70875b94-2396-4b83-c811-9888e0b233eb",
        "id": "s04H4iF1Isho"
      },
      "execution_count": null,
      "outputs": [
        {
          "output_type": "stream",
          "name": "stdout",
          "text": [
            "Validation Accuracy: 0.6644\n"
          ]
        }
      ]
    },
    {
      "cell_type": "markdown",
      "source": [
        "# Task ID33: 49"
      ],
      "metadata": {
        "id": "6zZ17oDlOtbo"
      }
    },
    {
      "cell_type": "code",
      "source": [
        "# Load and preprocess the data\n",
        "task_id = 49\n",
        "X, y, cat_columns, num_columns = load_data(task_id)\n",
        "X, label_encoders = preprocess_data(X, cat_columns)\n",
        "\n",
        "# Encode the target variable\n",
        "target_encoder = LabelEncoder()\n",
        "y_encoded = target_encoder.fit_transform(y)  # Encode the target labels to integers\n",
        "\n",
        "params = get_random_parameters(seed=42)\n",
        "params['cat_idx'] = [X.columns.get_loc(c) for c in cat_columns]\n",
        "params['num_idx'] = [X.columns.get_loc(c) for c in num_columns if c in X.columns]\n",
        "params['target'] = np.unique(y_encoded)  # Add the unique targets for the output layer size\n",
        "\n",
        "# Split the data\n",
        "X_train, X_val, y_train, y_val = train_test_split(X, y_encoded, test_size=0.2, random_state=42)\n",
        "\n",
        "# Train the model\n",
        "model, accuracy = train_model(X_train, y_train, X_val, y_val, params)\n",
        "print(f'Validation Accuracy: {accuracy:.4f}')\n"
      ],
      "metadata": {
        "colab": {
          "base_uri": "https://localhost:8080/"
        },
        "outputId": "0c4b03c5-e51a-4091-f462-c9f3804120fe",
        "id": "w8nyCks6Is9w"
      },
      "execution_count": null,
      "outputs": [
        {
          "output_type": "stream",
          "name": "stdout",
          "text": [
            "Validation Accuracy: 0.6667\n"
          ]
        }
      ]
    },
    {
      "cell_type": "markdown",
      "source": [
        "# Task ID34: 43"
      ],
      "metadata": {
        "id": "U5j20q0COtoD"
      }
    },
    {
      "cell_type": "code",
      "source": [
        "# Load and preprocess the data\n",
        "task_id = 43\n",
        "X, y, cat_columns, num_columns = load_data(task_id)\n",
        "X, label_encoders = preprocess_data(X, cat_columns)\n",
        "\n",
        "# Encode the target variable\n",
        "target_encoder = LabelEncoder()\n",
        "y_encoded = target_encoder.fit_transform(y)  # Encode the target labels to integers\n",
        "\n",
        "params = get_random_parameters(seed=42)\n",
        "params['cat_idx'] = [X.columns.get_loc(c) for c in cat_columns]\n",
        "params['num_idx'] = [X.columns.get_loc(c) for c in num_columns if c in X.columns]\n",
        "params['target'] = np.unique(y_encoded)  # Add the unique targets for the output layer size\n",
        "\n",
        "# Split the data\n",
        "X_train, X_val, y_train, y_val = train_test_split(X, y_encoded, test_size=0.2, random_state=42)\n",
        "\n",
        "# Train the model\n",
        "model, accuracy = train_model(X_train, y_train, X_val, y_val, params)\n",
        "print(f'Validation Accuracy: {accuracy:.4f}')\n"
      ],
      "metadata": {
        "colab": {
          "base_uri": "https://localhost:8080/"
        },
        "outputId": "2b5af4f0-2a13-4930-f8e4-f02bef40ea41",
        "id": "-lm51BB9Itx4"
      },
      "execution_count": null,
      "outputs": [
        {
          "output_type": "stream",
          "name": "stdout",
          "text": [
            "Validation Accuracy: 0.9229\n"
          ]
        }
      ]
    },
    {
      "cell_type": "markdown",
      "source": [
        "# Task ID35: 9978"
      ],
      "metadata": {
        "id": "I-iHZbecOt0s"
      }
    },
    {
      "cell_type": "code",
      "source": [
        "# Load and preprocess the data\n",
        "task_id = 9978\n",
        "X, y, cat_columns, num_columns = load_data(task_id)\n",
        "X, label_encoders = preprocess_data(X, cat_columns)\n",
        "\n",
        "# Encode the target variable\n",
        "target_encoder = LabelEncoder()\n",
        "y_encoded = target_encoder.fit_transform(y)  # Encode the target labels to integers\n",
        "\n",
        "params = get_random_parameters(seed=42)\n",
        "params['cat_idx'] = [X.columns.get_loc(c) for c in cat_columns]\n",
        "params['num_idx'] = [X.columns.get_loc(c) for c in num_columns if c in X.columns]\n",
        "params['target'] = np.unique(y_encoded)  # Add the unique targets for the output layer size\n",
        "\n",
        "# Split the data\n",
        "X_train, X_val, y_train, y_val = train_test_split(X, y_encoded, test_size=0.2, random_state=42)\n",
        "\n",
        "# Train the model\n",
        "model, accuracy = train_model(X_train, y_train, X_val, y_val, params)\n",
        "print(f'Validation Accuracy: {accuracy:.4f}')\n"
      ],
      "metadata": {
        "colab": {
          "base_uri": "https://localhost:8080/"
        },
        "outputId": "50d73868-65f4-4794-f70a-30df8d01c0d7",
        "id": "OmRYuZTTIuIH"
      },
      "execution_count": null,
      "outputs": [
        {
          "output_type": "stream",
          "name": "stdout",
          "text": [
            "Validation Accuracy: 0.9349\n"
          ]
        }
      ]
    },
    {
      "cell_type": "markdown",
      "source": [
        "# Task ID36: 10093"
      ],
      "metadata": {
        "id": "uysN5WV0Oxpu"
      }
    },
    {
      "cell_type": "code",
      "source": [
        "# Load and preprocess the data\n",
        "task_id = 10093\n",
        "X, y, cat_columns, num_columns = load_data(task_id)\n",
        "X, label_encoders = preprocess_data(X, cat_columns)\n",
        "\n",
        "# Encode the target variable\n",
        "target_encoder = LabelEncoder()\n",
        "y_encoded = target_encoder.fit_transform(y)  # Encode the target labels to integers\n",
        "\n",
        "params = get_random_parameters(seed=42)\n",
        "params['cat_idx'] = [X.columns.get_loc(c) for c in cat_columns]\n",
        "params['num_idx'] = [X.columns.get_loc(c) for c in num_columns if c in X.columns]\n",
        "params['target'] = np.unique(y_encoded)  # Add the unique targets for the output layer size\n",
        "\n",
        "# Split the data\n",
        "X_train, X_val, y_train, y_val = train_test_split(X, y_encoded, test_size=0.2, random_state=42)\n",
        "\n",
        "# Train the model\n",
        "model, accuracy = train_model(X_train, y_train, X_val, y_val, params)\n",
        "print(f'Validation Accuracy: {accuracy:.4f}')\n"
      ],
      "metadata": {
        "colab": {
          "base_uri": "https://localhost:8080/"
        },
        "outputId": "e3cf5db4-d04a-4243-f81a-304fc2916483",
        "id": "KbLsMz8zIugU"
      },
      "execution_count": null,
      "outputs": [
        {
          "output_type": "stream",
          "name": "stdout",
          "text": [
            "Validation Accuracy: 0.9673\n"
          ]
        }
      ]
    },
    {
      "cell_type": "markdown",
      "source": [
        "# Task ID37: 219"
      ],
      "metadata": {
        "id": "yGgmlLAKULw-"
      }
    },
    {
      "cell_type": "code",
      "source": [
        "# Load and preprocess the data\n",
        "task_id = 219\n",
        "X, y, cat_columns, num_columns = load_data(task_id)\n",
        "X, label_encoders = preprocess_data(X, cat_columns)\n",
        "\n",
        "# Encode the target variable\n",
        "target_encoder = LabelEncoder()\n",
        "y_encoded = target_encoder.fit_transform(y)  # Encode the target labels to integers\n",
        "\n",
        "params = get_random_parameters(seed=42)\n",
        "params['cat_idx'] = [X.columns.get_loc(c) for c in cat_columns]\n",
        "params['num_idx'] = [X.columns.get_loc(c) for c in num_columns if c in X.columns]\n",
        "params['target'] = np.unique(y_encoded)  # Add the unique targets for the output layer size\n",
        "\n",
        "# Split the data\n",
        "X_train, X_val, y_train, y_val = train_test_split(X, y_encoded, test_size=0.2, random_state=42)\n",
        "\n",
        "# Train the model\n",
        "model, accuracy = train_model(X_train, y_train, X_val, y_val, params)\n",
        "print(f'Validation Accuracy: {accuracy:.4f}')\n"
      ],
      "metadata": {
        "colab": {
          "base_uri": "https://localhost:8080/"
        },
        "outputId": "8da1b8fc-208c-4801-c614-5e3ad9af8e0e",
        "id": "tnIYsbavIu21"
      },
      "execution_count": null,
      "outputs": [
        {
          "output_type": "stream",
          "name": "stdout",
          "text": [
            "Validation Accuracy: 0.7499\n"
          ]
        }
      ]
    },
    {
      "cell_type": "markdown",
      "source": [
        "# Task ID38: 9976"
      ],
      "metadata": {
        "id": "1SP0wCLxUMfZ"
      }
    },
    {
      "cell_type": "code",
      "source": [
        "# Load and preprocess the data\n",
        "task_id = 9976\n",
        "X, y, cat_columns, num_columns = load_data(task_id)\n",
        "X, label_encoders = preprocess_data(X, cat_columns)\n",
        "\n",
        "# Encode the target variable\n",
        "target_encoder = LabelEncoder()\n",
        "y_encoded = target_encoder.fit_transform(y)  # Encode the target labels to integers\n",
        "\n",
        "params = get_random_parameters(seed=42)\n",
        "params['cat_idx'] = [X.columns.get_loc(c) for c in cat_columns]\n",
        "params['num_idx'] = [X.columns.get_loc(c) for c in num_columns if c in X.columns]\n",
        "params['target'] = np.unique(y_encoded)  # Add the unique targets for the output layer size\n",
        "\n",
        "# Split the data\n",
        "X_train, X_val, y_train, y_val = train_test_split(X, y_encoded, test_size=0.2, random_state=42)\n",
        "\n",
        "# Train the model\n",
        "model, accuracy = train_model(X_train, y_train, X_val, y_val, params)\n",
        "print(f'Validation Accuracy: {accuracy:.4f}')\n"
      ],
      "metadata": {
        "colab": {
          "base_uri": "https://localhost:8080/"
        },
        "outputId": "e3656d38-b3e1-4492-f188-0e9dd1ad06e1",
        "id": "wjeVYYPqIvMm"
      },
      "execution_count": null,
      "outputs": [
        {
          "output_type": "stream",
          "name": "stdout",
          "text": [
            "Validation Accuracy: 0.5231\n"
          ]
        }
      ]
    },
    {
      "cell_type": "markdown",
      "source": [
        "# Task ID39: 6"
      ],
      "metadata": {
        "id": "S65JoO55UMry"
      }
    },
    {
      "cell_type": "code",
      "source": [
        "# Load and preprocess the data\n",
        "task_id = 6\n",
        "X, y, cat_columns, num_columns = load_data(task_id)\n",
        "X, label_encoders = preprocess_data(X, cat_columns)\n",
        "\n",
        "# Encode the target variable\n",
        "target_encoder = LabelEncoder()\n",
        "y_encoded = target_encoder.fit_transform(y)  # Encode the target labels to integers\n",
        "\n",
        "params = get_random_parameters(seed=42)\n",
        "params['cat_idx'] = [X.columns.get_loc(c) for c in cat_columns]\n",
        "params['num_idx'] = [X.columns.get_loc(c) for c in num_columns if c in X.columns]\n",
        "params['target'] = np.unique(y_encoded)  # Add the unique targets for the output layer size\n",
        "\n",
        "# Split the data\n",
        "X_train, X_val, y_train, y_val = train_test_split(X, y_encoded, test_size=0.2, random_state=42)\n",
        "\n",
        "# Train the model\n",
        "model, accuracy = train_model(X_train, y_train, X_val, y_val, params)\n",
        "print(f'Validation Accuracy: {accuracy:.4f}')\n"
      ],
      "metadata": {
        "colab": {
          "base_uri": "https://localhost:8080/"
        },
        "outputId": "564e47d4-25ce-4ed9-82f6-6020b9c758be",
        "id": "nOhkxDPDIvhu"
      },
      "execution_count": null,
      "outputs": [
        {
          "output_type": "stream",
          "name": "stdout",
          "text": [
            "Validation Accuracy: 0.7515\n"
          ]
        }
      ]
    },
    {
      "cell_type": "markdown",
      "source": [
        "# Task ID40: 53"
      ],
      "metadata": {
        "id": "BEsQTY0-UM3x"
      }
    },
    {
      "cell_type": "code",
      "source": [
        "# Load and preprocess the data\n",
        "task_id = 53\n",
        "X, y, cat_columns, num_columns = load_data(task_id)\n",
        "X, label_encoders = preprocess_data(X, cat_columns)\n",
        "\n",
        "# Encode the target variable\n",
        "target_encoder = LabelEncoder()\n",
        "y_encoded = target_encoder.fit_transform(y)  # Encode the target labels to integers\n",
        "\n",
        "params = get_random_parameters(seed=42)\n",
        "params['cat_idx'] = [X.columns.get_loc(c) for c in cat_columns]\n",
        "params['num_idx'] = [X.columns.get_loc(c) for c in num_columns if c in X.columns]\n",
        "params['target'] = np.unique(y_encoded)  # Add the unique targets for the output layer size\n",
        "\n",
        "# Split the data\n",
        "X_train, X_val, y_train, y_val = train_test_split(X, y_encoded, test_size=0.2, random_state=42)\n",
        "\n",
        "# Train the model\n",
        "model, accuracy = train_model(X_train, y_train, X_val, y_val, params)\n",
        "print(f'Validation Accuracy: {accuracy:.4f}')\n"
      ],
      "metadata": {
        "colab": {
          "base_uri": "https://localhost:8080/"
        },
        "outputId": "a6e8adab-3017-4b8c-98ad-d3c93820f28c",
        "id": "Yc6UncpvIv2n"
      },
      "execution_count": null,
      "outputs": [
        {
          "output_type": "stream",
          "name": "stdout",
          "text": [
            "Validation Accuracy: 0.3706\n"
          ]
        }
      ]
    },
    {
      "cell_type": "markdown",
      "source": [
        "# Task ID41: 11"
      ],
      "metadata": {
        "id": "dI13mhhGUNDw"
      }
    },
    {
      "cell_type": "code",
      "source": [
        "# Load and preprocess the data\n",
        "task_id = 11\n",
        "X, y, cat_columns, num_columns = load_data(task_id)\n",
        "X, label_encoders = preprocess_data(X, cat_columns)\n",
        "\n",
        "# Encode the target variable\n",
        "target_encoder = LabelEncoder()\n",
        "y_encoded = target_encoder.fit_transform(y)  # Encode the target labels to integers\n",
        "\n",
        "params = get_random_parameters(seed=42)\n",
        "params['cat_idx'] = [X.columns.get_loc(c) for c in cat_columns]\n",
        "params['num_idx'] = [X.columns.get_loc(c) for c in num_columns if c in X.columns]\n",
        "params['target'] = np.unique(y_encoded)  # Add the unique targets for the output layer size\n",
        "\n",
        "# Split the data\n",
        "X_train, X_val, y_train, y_val = train_test_split(X, y_encoded, test_size=0.2, random_state=42)\n",
        "\n",
        "# Train the model\n",
        "model, accuracy = train_model(X_train, y_train, X_val, y_val, params)\n",
        "print(f'Validation Accuracy: {accuracy:.4f}')\n"
      ],
      "metadata": {
        "colab": {
          "base_uri": "https://localhost:8080/"
        },
        "outputId": "56359252-a457-4fe4-aef6-04081a19d17d",
        "id": "NY10ojLiIwM6"
      },
      "execution_count": null,
      "outputs": [
        {
          "output_type": "stream",
          "name": "stdout",
          "text": [
            "Validation Accuracy: 0.8400\n"
          ]
        }
      ]
    },
    {
      "cell_type": "markdown",
      "source": [
        "# Task ID42: 15"
      ],
      "metadata": {
        "id": "L6e6nkQbUNPt"
      }
    },
    {
      "cell_type": "code",
      "source": [
        "# Load and preprocess the data\n",
        "task_id = 15\n",
        "X, y, cat_columns, num_columns = load_data(task_id)\n",
        "X, label_encoders = preprocess_data(X, cat_columns)\n",
        "\n",
        "# Encode the target variable\n",
        "target_encoder = LabelEncoder()\n",
        "y_encoded = target_encoder.fit_transform(y)  # Encode the target labels to integers\n",
        "\n",
        "params = get_random_parameters(seed=42)\n",
        "params['cat_idx'] = [X.columns.get_loc(c) for c in cat_columns]\n",
        "params['num_idx'] = [X.columns.get_loc(c) for c in num_columns if c in X.columns]\n",
        "params['target'] = np.unique(y_encoded)  # Add the unique targets for the output layer size\n",
        "\n",
        "# Split the data\n",
        "X_train, X_val, y_train, y_val = train_test_split(X, y_encoded, test_size=0.2, random_state=42)\n",
        "\n",
        "# Train the model\n",
        "model, accuracy = train_model(X_train, y_train, X_val, y_val, params)\n",
        "print(f'Validation Accuracy: {accuracy:.4f}')\n"
      ],
      "metadata": {
        "colab": {
          "base_uri": "https://localhost:8080/"
        },
        "outputId": "dc365d94-afb6-4d4a-e235-7175ad25f982",
        "id": "tKjqXOs1Iwpe"
      },
      "execution_count": null,
      "outputs": [
        {
          "output_type": "stream",
          "name": "stdout",
          "text": [
            "Validation Accuracy: 0.6786\n"
          ]
        }
      ]
    },
    {
      "cell_type": "markdown",
      "source": [
        "# Task ID43: 16"
      ],
      "metadata": {
        "id": "iNhJDlrKUNat"
      }
    },
    {
      "cell_type": "code",
      "source": [
        "# Load and preprocess the data\n",
        "task_id = 16\n",
        "X, y, cat_columns, num_columns = load_data(task_id)\n",
        "X, label_encoders = preprocess_data(X, cat_columns)\n",
        "\n",
        "# Encode the target variable\n",
        "target_encoder = LabelEncoder()\n",
        "y_encoded = target_encoder.fit_transform(y)  # Encode the target labels to integers\n",
        "\n",
        "params = get_random_parameters(seed=42)\n",
        "params['cat_idx'] = [X.columns.get_loc(c) for c in cat_columns]\n",
        "params['num_idx'] = [X.columns.get_loc(c) for c in num_columns if c in X.columns]\n",
        "params['target'] = np.unique(y_encoded)  # Add the unique targets for the output layer size\n",
        "\n",
        "# Split the data\n",
        "X_train, X_val, y_train, y_val = train_test_split(X, y_encoded, test_size=0.2, random_state=42)\n",
        "\n",
        "# Train the model\n",
        "model, accuracy = train_model(X_train, y_train, X_val, y_val, params)\n",
        "print(f'Validation Accuracy: {accuracy:.4f}')\n"
      ],
      "metadata": {
        "colab": {
          "base_uri": "https://localhost:8080/"
        },
        "outputId": "b07990df-170a-47e7-d052-d43efb04b308",
        "id": "M-MiOAQ_IxUc"
      },
      "execution_count": null,
      "outputs": [
        {
          "output_type": "stream",
          "name": "stdout",
          "text": [
            "Validation Accuracy: 0.9600\n"
          ]
        }
      ]
    },
    {
      "cell_type": "markdown",
      "source": [
        "# Task ID44: 14"
      ],
      "metadata": {
        "id": "Ng32K-haUNl5"
      }
    },
    {
      "cell_type": "code",
      "source": [
        "# Load and preprocess the data\n",
        "task_id = 14\n",
        "X, y, cat_columns, num_columns = load_data(task_id)\n",
        "X, label_encoders = preprocess_data(X, cat_columns)\n",
        "\n",
        "# Encode the target variable\n",
        "target_encoder = LabelEncoder()\n",
        "y_encoded = target_encoder.fit_transform(y)  # Encode the target labels to integers\n",
        "\n",
        "params = get_random_parameters(seed=42)\n",
        "params['cat_idx'] = [X.columns.get_loc(c) for c in cat_columns]\n",
        "params['num_idx'] = [X.columns.get_loc(c) for c in num_columns if c in X.columns]\n",
        "params['target'] = np.unique(y_encoded)  # Add the unique targets for the output layer size\n",
        "\n",
        "# Split the data\n",
        "X_train, X_val, y_train, y_val = train_test_split(X, y_encoded, test_size=0.2, random_state=42)\n",
        "\n",
        "# Train the model\n",
        "model, accuracy = train_model(X_train, y_train, X_val, y_val, params)\n",
        "print(f'Validation Accuracy: {accuracy:.4f}')\n"
      ],
      "metadata": {
        "colab": {
          "base_uri": "https://localhost:8080/"
        },
        "outputId": "fb3905d3-a7f9-4134-ad51-0a013a921597",
        "id": "Dc057xjCIxsm"
      },
      "execution_count": null,
      "outputs": [
        {
          "output_type": "stream",
          "name": "stdout",
          "text": [
            "Validation Accuracy: 0.5575\n"
          ]
        }
      ]
    },
    {
      "cell_type": "markdown",
      "source": [
        "# Task ID45: 32"
      ],
      "metadata": {
        "id": "WL9ZOy4AUNws"
      }
    },
    {
      "cell_type": "code",
      "source": [
        "# Load and preprocess the data\n",
        "task_id = 32\n",
        "X, y, cat_columns, num_columns = load_data(task_id)\n",
        "X, label_encoders = preprocess_data(X, cat_columns)\n",
        "\n",
        "# Encode the target variable\n",
        "target_encoder = LabelEncoder()\n",
        "y_encoded = target_encoder.fit_transform(y)  # Encode the target labels to integers\n",
        "\n",
        "params = get_random_parameters(seed=42)\n",
        "params['cat_idx'] = [X.columns.get_loc(c) for c in cat_columns]\n",
        "params['num_idx'] = [X.columns.get_loc(c) for c in num_columns if c in X.columns]\n",
        "params['target'] = np.unique(y_encoded)  # Add the unique targets for the output layer size\n",
        "\n",
        "# Split the data\n",
        "X_train, X_val, y_train, y_val = train_test_split(X, y_encoded, test_size=0.2, random_state=42)\n",
        "\n",
        "# Train the model\n",
        "model, accuracy = train_model(X_train, y_train, X_val, y_val, params)\n",
        "print(f'Validation Accuracy: {accuracy:.4f}')\n"
      ],
      "metadata": {
        "colab": {
          "base_uri": "https://localhost:8080/"
        },
        "outputId": "5e46b312-8c64-4bdf-de13-d1621d436a8a",
        "id": "Uwm-rK8wIyE1"
      },
      "execution_count": null,
      "outputs": [
        {
          "output_type": "stream",
          "name": "stdout",
          "text": [
            "Validation Accuracy: 0.9363\n"
          ]
        }
      ]
    },
    {
      "cell_type": "markdown",
      "source": [
        "# Task ID46: 3549"
      ],
      "metadata": {
        "id": "ewtX2G2PUN7x"
      }
    },
    {
      "cell_type": "code",
      "source": [
        "# Load and preprocess the data\n",
        "task_id = 3549\n",
        "X, y, cat_columns, num_columns = load_data(task_id)\n",
        "X, label_encoders = preprocess_data(X, cat_columns)\n",
        "\n",
        "# Encode the target variable\n",
        "target_encoder = LabelEncoder()\n",
        "y_encoded = target_encoder.fit_transform(y)  # Encode the target labels to integers\n",
        "\n",
        "params = get_random_parameters(seed=42)\n",
        "params['cat_idx'] = [X.columns.get_loc(c) for c in cat_columns]\n",
        "params['num_idx'] = [X.columns.get_loc(c) for c in num_columns if c in X.columns]\n",
        "params['target'] = np.unique(y_encoded)  # Add the unique targets for the output layer size\n",
        "\n",
        "# Split the data\n",
        "X_train, X_val, y_train, y_val = train_test_split(X, y_encoded, test_size=0.2, random_state=42)\n",
        "\n",
        "# Train the model\n",
        "model, accuracy = train_model(X_train, y_train, X_val, y_val, params)\n",
        "print(f'Validation Accuracy: {accuracy:.4f}')\n"
      ],
      "metadata": {
        "colab": {
          "base_uri": "https://localhost:8080/"
        },
        "outputId": "b818aa40-ba21-4fad-e632-5c86601abb50",
        "id": "ONYjhgUvIyaV"
      },
      "execution_count": null,
      "outputs": [
        {
          "output_type": "stream",
          "name": "stdout",
          "text": [
            "Validation Accuracy: 0.9941\n"
          ]
        }
      ]
    },
    {
      "cell_type": "markdown",
      "source": [
        "# Task ID47: 12"
      ],
      "metadata": {
        "id": "7vNpomuQUOGc"
      }
    },
    {
      "cell_type": "code",
      "source": [
        "# Load and preprocess the data\n",
        "task_id = 12\n",
        "X, y, cat_columns, num_columns = load_data(task_id)\n",
        "X, label_encoders = preprocess_data(X, cat_columns)\n",
        "\n",
        "# Encode the target variable\n",
        "target_encoder = LabelEncoder()\n",
        "y_encoded = target_encoder.fit_transform(y)  # Encode the target labels to integers\n",
        "\n",
        "params = get_random_parameters(seed=42)\n",
        "params['cat_idx'] = [X.columns.get_loc(c) for c in cat_columns]\n",
        "params['num_idx'] = [X.columns.get_loc(c) for c in num_columns if c in X.columns]\n",
        "params['target'] = np.unique(y_encoded)  # Add the unique targets for the output layer size\n",
        "\n",
        "# Split the data\n",
        "X_train, X_val, y_train, y_val = train_test_split(X, y_encoded, test_size=0.2, random_state=42)\n",
        "\n",
        "# Train the model\n",
        "model, accuracy = train_model(X_train, y_train, X_val, y_val, params)\n",
        "print(f'Validation Accuracy: {accuracy:.4f}')\n"
      ],
      "metadata": {
        "colab": {
          "base_uri": "https://localhost:8080/"
        },
        "outputId": "58674ef4-e2ff-4d38-fac7-2b1ec4adccfd",
        "id": "IRDiQ2ZNIyxT"
      },
      "execution_count": null,
      "outputs": [
        {
          "output_type": "stream",
          "name": "stdout",
          "text": [
            "Validation Accuracy: 0.9000\n"
          ]
        }
      ]
    },
    {
      "cell_type": "markdown",
      "source": [
        "# Task ID48: 9981"
      ],
      "metadata": {
        "id": "fWOstqIAUORB"
      }
    },
    {
      "cell_type": "code",
      "source": [
        "# Load and preprocess the data\n",
        "task_id = 9981\n",
        "X, y, cat_columns, num_columns = load_data(task_id)\n",
        "X, label_encoders = preprocess_data(X, cat_columns)\n",
        "\n",
        "# Encode the target variable\n",
        "target_encoder = LabelEncoder()\n",
        "y_encoded = target_encoder.fit_transform(y)  # Encode the target labels to integers\n",
        "\n",
        "params = get_random_parameters(seed=42)\n",
        "params['cat_idx'] = [X.columns.get_loc(c) for c in cat_columns]\n",
        "params['num_idx'] = [X.columns.get_loc(c) for c in num_columns if c in X.columns]\n",
        "params['target'] = np.unique(y_encoded)  # Add the unique targets for the output layer size\n",
        "\n",
        "# Split the data\n",
        "X_train, X_val, y_train, y_val = train_test_split(X, y_encoded, test_size=0.2, random_state=42)\n",
        "\n",
        "# Train the model\n",
        "model, accuracy = train_model(X_train, y_train, X_val, y_val, params)\n",
        "print(f'Validation Accuracy: {accuracy:.4f}')\n"
      ],
      "metadata": {
        "colab": {
          "base_uri": "https://localhost:8080/"
        },
        "outputId": "ab508d5f-c997-4c6e-d39d-74cb97b8d4b3",
        "id": "7eB8d2yYIzJV"
      },
      "execution_count": null,
      "outputs": [
        {
          "output_type": "stream",
          "name": "stdout",
          "text": [
            "Validation Accuracy: 0.9444\n"
          ]
        }
      ]
    },
    {
      "cell_type": "markdown",
      "source": [
        "# Task ID49: 18"
      ],
      "metadata": {
        "id": "lhXlnoGdUObZ"
      }
    },
    {
      "cell_type": "code",
      "source": [
        "# Load and preprocess the data\n",
        "task_id = 18\n",
        "X, y, cat_columns, num_columns = load_data(task_id)\n",
        "X, label_encoders = preprocess_data(X, cat_columns)\n",
        "\n",
        "# Encode the target variable\n",
        "target_encoder = LabelEncoder()\n",
        "y_encoded = target_encoder.fit_transform(y)  # Encode the target labels to integers\n",
        "\n",
        "params = get_random_parameters(seed=42)\n",
        "params['cat_idx'] = [X.columns.get_loc(c) for c in cat_columns]\n",
        "params['num_idx'] = [X.columns.get_loc(c) for c in num_columns if c in X.columns]\n",
        "params['target'] = np.unique(y_encoded)  # Add the unique targets for the output layer size\n",
        "\n",
        "# Split the data\n",
        "X_train, X_val, y_train, y_val = train_test_split(X, y_encoded, test_size=0.2, random_state=42)\n",
        "\n",
        "# Train the model\n",
        "model, accuracy = train_model(X_train, y_train, X_val, y_val, params)\n",
        "print(f'Validation Accuracy: {accuracy:.4f}')\n"
      ],
      "metadata": {
        "colab": {
          "base_uri": "https://localhost:8080/"
        },
        "outputId": "827bf604-f770-4802-beb5-96b7621ebf84",
        "id": "GM1FBEZ0IzfG"
      },
      "execution_count": null,
      "outputs": [
        {
          "output_type": "stream",
          "name": "stdout",
          "text": [
            "Validation Accuracy: 0.4325\n"
          ]
        }
      ]
    },
    {
      "cell_type": "markdown",
      "source": [
        "# Task ID50: 28"
      ],
      "metadata": {
        "id": "WJJ0ZiGDUOnY"
      }
    },
    {
      "cell_type": "code",
      "source": [
        "# Load and preprocess the data\n",
        "task_id = 28\n",
        "X, y, cat_columns, num_columns = load_data(task_id)\n",
        "X, label_encoders = preprocess_data(X, cat_columns)\n",
        "\n",
        "# Encode the target variable\n",
        "target_encoder = LabelEncoder()\n",
        "y_encoded = target_encoder.fit_transform(y)  # Encode the target labels to integers\n",
        "\n",
        "params = get_random_parameters(seed=42)\n",
        "params['cat_idx'] = [X.columns.get_loc(c) for c in cat_columns]\n",
        "params['num_idx'] = [X.columns.get_loc(c) for c in num_columns if c in X.columns]\n",
        "params['target'] = np.unique(y_encoded)  # Add the unique targets for the output layer size\n",
        "\n",
        "# Split the data\n",
        "X_train, X_val, y_train, y_val = train_test_split(X, y_encoded, test_size=0.2, random_state=42)\n",
        "\n",
        "# Train the model\n",
        "model, accuracy = train_model(X_train, y_train, X_val, y_val, params)\n",
        "print(f'Validation Accuracy: {accuracy:.4f}')\n"
      ],
      "metadata": {
        "colab": {
          "base_uri": "https://localhost:8080/"
        },
        "outputId": "dc6f889f-aed6-418b-cb5c-6b1d9a7b533d",
        "id": "18ERbIGYIz1W"
      },
      "execution_count": null,
      "outputs": [
        {
          "output_type": "stream",
          "name": "stdout",
          "text": [
            "Validation Accuracy: 0.9600\n"
          ]
        }
      ]
    },
    {
      "cell_type": "markdown",
      "source": [
        "# Task ID51: 2074"
      ],
      "metadata": {
        "id": "cDW6wxhbUOzO"
      }
    },
    {
      "cell_type": "code",
      "source": [
        "# Load and preprocess the data\n",
        "task_id = 2074\n",
        "X, y, cat_columns, num_columns = load_data(task_id)\n",
        "X, label_encoders = preprocess_data(X, cat_columns)\n",
        "\n",
        "# Encode the target variable\n",
        "target_encoder = LabelEncoder()\n",
        "y_encoded = target_encoder.fit_transform(y)  # Encode the target labels to integers\n",
        "\n",
        "params = get_random_parameters(seed=42)\n",
        "params['cat_idx'] = [X.columns.get_loc(c) for c in cat_columns]\n",
        "params['num_idx'] = [X.columns.get_loc(c) for c in num_columns if c in X.columns]\n",
        "params['target'] = np.unique(y_encoded)  # Add the unique targets for the output layer size\n",
        "\n",
        "# Split the data\n",
        "X_train, X_val, y_train, y_val = train_test_split(X, y_encoded, test_size=0.2, random_state=42)\n",
        "\n",
        "# Train the model\n",
        "model, accuracy = train_model(X_train, y_train, X_val, y_val, params)\n",
        "print(f'Validation Accuracy: {accuracy:.4f}')\n"
      ],
      "metadata": {
        "colab": {
          "base_uri": "https://localhost:8080/"
        },
        "outputId": "06d9953c-3f43-4715-abb8-7d78cd760ad4",
        "id": "NPVlQ_6jI0N-"
      },
      "execution_count": null,
      "outputs": [
        {
          "output_type": "stream",
          "name": "stdout",
          "text": [
            "Validation Accuracy: 0.8375\n"
          ]
        }
      ]
    },
    {
      "cell_type": "markdown",
      "source": [
        "# Task ID52: 29"
      ],
      "metadata": {
        "id": "x8l_UBrFUO-k"
      }
    },
    {
      "cell_type": "code",
      "source": [
        "# Load and preprocess the data\n",
        "task_id = 29\n",
        "X, y, cat_columns, num_columns = load_data(task_id)\n",
        "X, label_encoders = preprocess_data(X, cat_columns)\n",
        "\n",
        "# Encode the target variable\n",
        "target_encoder = LabelEncoder()\n",
        "y_encoded = target_encoder.fit_transform(y)  # Encode the target labels to integers\n",
        "\n",
        "params = get_random_parameters(seed=42)\n",
        "params['cat_idx'] = [X.columns.get_loc(c) for c in cat_columns]\n",
        "params['num_idx'] = [X.columns.get_loc(c) for c in num_columns if c in X.columns]\n",
        "params['target'] = np.unique(y_encoded)  # Add the unique targets for the output layer size\n",
        "\n",
        "# Split the data\n",
        "X_train, X_val, y_train, y_val = train_test_split(X, y_encoded, test_size=0.2, random_state=42)\n",
        "\n",
        "# Train the model\n",
        "model, accuracy = train_model(X_train, y_train, X_val, y_val, params)\n",
        "print(f'Validation Accuracy: {accuracy:.4f}')\n"
      ],
      "metadata": {
        "colab": {
          "base_uri": "https://localhost:8080/"
        },
        "outputId": "868c1a84-6ec7-40ba-af49-98b7f9b47e29",
        "id": "bL7b62fDI01q"
      },
      "execution_count": null,
      "outputs": [
        {
          "output_type": "stream",
          "name": "stdout",
          "text": [
            "Validation Accuracy: 0.5072\n"
          ]
        }
      ]
    },
    {
      "cell_type": "markdown",
      "source": [
        "# Task ID53: 45"
      ],
      "metadata": {
        "id": "K8UnhnOzUPJ-"
      }
    },
    {
      "cell_type": "code",
      "source": [
        "# Load and preprocess the data\n",
        "task_id = 45\n",
        "X, y, cat_columns, num_columns = load_data(task_id)\n",
        "X, label_encoders = preprocess_data(X, cat_columns)\n",
        "\n",
        "# Encode the target variable\n",
        "target_encoder = LabelEncoder()\n",
        "y_encoded = target_encoder.fit_transform(y)  # Encode the target labels to integers\n",
        "\n",
        "params = get_random_parameters(seed=42)\n",
        "params['cat_idx'] = [X.columns.get_loc(c) for c in cat_columns]\n",
        "params['num_idx'] = [X.columns.get_loc(c) for c in num_columns if c in X.columns]\n",
        "params['target'] = np.unique(y_encoded)  # Add the unique targets for the output layer size\n",
        "\n",
        "# Split the data\n",
        "X_train, X_val, y_train, y_val = train_test_split(X, y_encoded, test_size=0.2, random_state=42)\n",
        "\n",
        "# Train the model\n",
        "model, accuracy = train_model(X_train, y_train, X_val, y_val, params)\n",
        "print(f'Validation Accuracy: {accuracy:.4f}')\n"
      ],
      "metadata": {
        "colab": {
          "base_uri": "https://localhost:8080/"
        },
        "outputId": "5f012845-2d5f-48df-ee62-4e860a014c73",
        "id": "v5AxNv7HI1NB"
      },
      "execution_count": null,
      "outputs": [
        {
          "output_type": "stream",
          "name": "stdout",
          "text": [
            "Validation Accuracy: 0.7994\n"
          ]
        }
      ]
    },
    {
      "cell_type": "markdown",
      "source": [
        "# Task ID54: 125922"
      ],
      "metadata": {
        "id": "FIX9XbrkUPVf"
      }
    },
    {
      "cell_type": "code",
      "source": [
        "# Load and preprocess the data\n",
        "task_id = 125922\n",
        "X, y, cat_columns, num_columns = load_data(task_id)\n",
        "X, label_encoders = preprocess_data(X, cat_columns)\n",
        "\n",
        "# Encode the target variable\n",
        "target_encoder = LabelEncoder()\n",
        "y_encoded = target_encoder.fit_transform(y)  # Encode the target labels to integers\n",
        "\n",
        "params = get_random_parameters(seed=42)\n",
        "params['cat_idx'] = [X.columns.get_loc(c) for c in cat_columns]\n",
        "params['num_idx'] = [X.columns.get_loc(c) for c in num_columns if c in X.columns]\n",
        "params['target'] = np.unique(y_encoded)  # Add the unique targets for the output layer size\n",
        "\n",
        "# Split the data\n",
        "X_train, X_val, y_train, y_val = train_test_split(X, y_encoded, test_size=0.2, random_state=42)\n",
        "\n",
        "# Train the model\n",
        "model, accuracy = train_model(X_train, y_train, X_val, y_val, params)\n",
        "print(f'Validation Accuracy: {accuracy:.4f}')\n"
      ],
      "metadata": {
        "colab": {
          "base_uri": "https://localhost:8080/"
        },
        "outputId": "f182a54e-3649-41da-d56d-2bab23ef7bbf",
        "id": "weCKM5CNI1jo"
      },
      "execution_count": null,
      "outputs": [
        {
          "output_type": "stream",
          "name": "stdout",
          "text": [
            "Validation Accuracy: 0.8882\n"
          ]
        }
      ]
    },
    {
      "cell_type": "markdown",
      "source": [
        "# Task ID55: 9960"
      ],
      "metadata": {
        "id": "KbGl87-KUPhg"
      }
    },
    {
      "cell_type": "code",
      "source": [
        "# Load and preprocess the data\n",
        "task_id = 9960\n",
        "X, y, cat_columns, num_columns = load_data(task_id)\n",
        "X, label_encoders = preprocess_data(X, cat_columns)\n",
        "\n",
        "# Encode the target variable\n",
        "target_encoder = LabelEncoder()\n",
        "y_encoded = target_encoder.fit_transform(y)  # Encode the target labels to integers\n",
        "\n",
        "params = get_random_parameters(seed=42)\n",
        "params['cat_idx'] = [X.columns.get_loc(c) for c in cat_columns]\n",
        "params['num_idx'] = [X.columns.get_loc(c) for c in num_columns if c in X.columns]\n",
        "params['target'] = np.unique(y_encoded)  # Add the unique targets for the output layer size\n",
        "\n",
        "# Split the data\n",
        "X_train, X_val, y_train, y_val = train_test_split(X, y_encoded, test_size=0.2, random_state=42)\n",
        "\n",
        "# Train the model\n",
        "model, accuracy = train_model(X_train, y_train, X_val, y_val, params)\n",
        "print(f'Validation Accuracy: {accuracy:.4f}')\n"
      ],
      "metadata": {
        "colab": {
          "base_uri": "https://localhost:8080/"
        },
        "outputId": "d8593a01-f99f-4ddd-ee75-ea45c456d5f5",
        "id": "rTd7UP4fI155"
      },
      "execution_count": null,
      "outputs": [
        {
          "output_type": "stream",
          "name": "stdout",
          "text": [
            "Validation Accuracy: 0.6822\n"
          ]
        }
      ]
    },
    {
      "cell_type": "markdown",
      "source": [
        "# Task ID56: 9964"
      ],
      "metadata": {
        "id": "XykMaPm-UPuA"
      }
    },
    {
      "cell_type": "code",
      "source": [
        "# Load and preprocess the data\n",
        "task_id = 9964\n",
        "X, y, cat_columns, num_columns = load_data(task_id)\n",
        "X, label_encoders = preprocess_data(X, cat_columns)\n",
        "\n",
        "# Encode the target variable\n",
        "target_encoder = LabelEncoder()\n",
        "y_encoded = target_encoder.fit_transform(y)  # Encode the target labels to integers\n",
        "\n",
        "params = get_random_parameters(seed=42)\n",
        "params['cat_idx'] = [X.columns.get_loc(c) for c in cat_columns]\n",
        "params['num_idx'] = [X.columns.get_loc(c) for c in num_columns if c in X.columns]\n",
        "params['target'] = np.unique(y_encoded)  # Add the unique targets for the output layer size\n",
        "\n",
        "# Split the data\n",
        "X_train, X_val, y_train, y_val = train_test_split(X, y_encoded, test_size=0.2, random_state=42)\n",
        "\n",
        "# Train the model\n",
        "model, accuracy = train_model(X_train, y_train, X_val, y_val, params)\n",
        "print(f'Validation Accuracy: {accuracy:.4f}')\n"
      ],
      "metadata": {
        "colab": {
          "base_uri": "https://localhost:8080/"
        },
        "outputId": "79ab39d9-524e-4a90-d9e0-007633af9bde",
        "id": "7eEK707GI2QA"
      },
      "execution_count": null,
      "outputs": [
        {
          "output_type": "stream",
          "name": "stdout",
          "text": [
            "Validation Accuracy: 0.8777\n"
          ]
        }
      ]
    },
    {
      "cell_type": "markdown",
      "source": [
        "# Task ID57: 22"
      ],
      "metadata": {
        "id": "sgLsaY6mUP5o"
      }
    },
    {
      "cell_type": "code",
      "source": [
        "# Load and preprocess the data\n",
        "task_id = 22\n",
        "X, y, cat_columns, num_columns = load_data(task_id)\n",
        "X, label_encoders = preprocess_data(X, cat_columns)\n",
        "\n",
        "# Encode the target variable\n",
        "target_encoder = LabelEncoder()\n",
        "y_encoded = target_encoder.fit_transform(y)  # Encode the target labels to integers\n",
        "\n",
        "params = get_random_parameters(seed=42)\n",
        "params['cat_idx'] = [X.columns.get_loc(c) for c in cat_columns]\n",
        "params['num_idx'] = [X.columns.get_loc(c) for c in num_columns if c in X.columns]\n",
        "params['target'] = np.unique(y_encoded)  # Add the unique targets for the output layer size\n",
        "\n",
        "# Split the data\n",
        "X_train, X_val, y_train, y_val = train_test_split(X, y_encoded, test_size=0.2, random_state=42)\n",
        "\n",
        "# Train the model\n",
        "model, accuracy = train_model(X_train, y_train, X_val, y_val, params)\n",
        "print(f'Validation Accuracy: {accuracy:.4f}')\n"
      ],
      "metadata": {
        "colab": {
          "base_uri": "https://localhost:8080/"
        },
        "outputId": "4c40f678-7062-45ed-fe6e-f78bb99fa9e5",
        "id": "w8LxWEKII2m9"
      },
      "execution_count": null,
      "outputs": [
        {
          "output_type": "stream",
          "name": "stdout",
          "text": [
            "Validation Accuracy: 0.7800\n"
          ]
        }
      ]
    },
    {
      "cell_type": "markdown",
      "source": [
        "# Task ID58: 2079"
      ],
      "metadata": {
        "id": "iPjBiyKOUQGo"
      }
    },
    {
      "cell_type": "code",
      "source": [
        "# Load and preprocess the data\n",
        "task_id = 2079\n",
        "X, y, cat_columns, num_columns = load_data(task_id)\n",
        "X, label_encoders = preprocess_data(X, cat_columns)\n",
        "\n",
        "# Encode the target variable\n",
        "target_encoder = LabelEncoder()\n",
        "y_encoded = target_encoder.fit_transform(y)  # Encode the target labels to integers\n",
        "\n",
        "params = get_random_parameters(seed=42)\n",
        "params['cat_idx'] = [X.columns.get_loc(c) for c in cat_columns]\n",
        "params['num_idx'] = [X.columns.get_loc(c) for c in num_columns if c in X.columns]\n",
        "params['target'] = np.unique(y_encoded)  # Add the unique targets for the output layer size\n",
        "\n",
        "# Split the data\n",
        "X_train, X_val, y_train, y_val = train_test_split(X, y_encoded, test_size=0.2, random_state=42)\n",
        "\n",
        "# Train the model\n",
        "model, accuracy = train_model(X_train, y_train, X_val, y_val, params)\n",
        "print(f'Validation Accuracy: {accuracy:.4f}')\n"
      ],
      "metadata": {
        "colab": {
          "base_uri": "https://localhost:8080/"
        },
        "outputId": "4e6156ef-b613-4301-d174-9a326478f6b2",
        "id": "3MDMgMPII3UR"
      },
      "execution_count": null,
      "outputs": [
        {
          "output_type": "stream",
          "name": "stdout",
          "text": [
            "Validation Accuracy: 0.1486\n"
          ]
        }
      ]
    },
    {
      "cell_type": "markdown",
      "source": [
        "# Task ID59: 14969"
      ],
      "metadata": {
        "id": "DCBskzEeUQTb"
      }
    },
    {
      "cell_type": "code",
      "source": [
        "# Load and preprocess the data\n",
        "task_id = 14969\n",
        "X, y, cat_columns, num_columns = load_data(task_id)\n",
        "X, label_encoders = preprocess_data(X, cat_columns)\n",
        "\n",
        "# Encode the target variable\n",
        "target_encoder = LabelEncoder()\n",
        "y_encoded = target_encoder.fit_transform(y)  # Encode the target labels to integers\n",
        "\n",
        "params = get_random_parameters(seed=42)\n",
        "params['cat_idx'] = [X.columns.get_loc(c) for c in cat_columns]\n",
        "params['num_idx'] = [X.columns.get_loc(c) for c in num_columns if c in X.columns]\n",
        "params['target'] = np.unique(y_encoded)  # Add the unique targets for the output layer size\n",
        "\n",
        "# Split the data\n",
        "X_train, X_val, y_train, y_val = train_test_split(X, y_encoded, test_size=0.2, random_state=42)\n",
        "\n",
        "# Train the model\n",
        "model, accuracy = train_model(X_train, y_train, X_val, y_val, params)\n",
        "print(f'Validation Accuracy: {accuracy:.4f}')\n"
      ],
      "metadata": {
        "colab": {
          "base_uri": "https://localhost:8080/"
        },
        "outputId": "422d064d-33fb-4412-c2f6-2a36915da69c",
        "id": "mUodXnRYI3pL"
      },
      "execution_count": null,
      "outputs": [
        {
          "output_type": "stream",
          "name": "stdout",
          "text": [
            "Validation Accuracy: 0.4385\n"
          ]
        }
      ]
    },
    {
      "cell_type": "markdown",
      "source": [
        "# Task ID60: 3560"
      ],
      "metadata": {
        "id": "3scdUqaAUQfh"
      }
    },
    {
      "cell_type": "code",
      "source": [
        "# Load and preprocess the data\n",
        "task_id = 3560\n",
        "X, y, cat_columns, num_columns = load_data(task_id)\n",
        "X, label_encoders = preprocess_data(X, cat_columns)\n",
        "\n",
        "# Encode the target variable\n",
        "target_encoder = LabelEncoder()\n",
        "y_encoded = target_encoder.fit_transform(y)  # Encode the target labels to integers\n",
        "\n",
        "params = get_random_parameters(seed=42)\n",
        "params['cat_idx'] = [X.columns.get_loc(c) for c in cat_columns]\n",
        "params['num_idx'] = [X.columns.get_loc(c) for c in num_columns if c in X.columns]\n",
        "params['target'] = np.unique(y_encoded)  # Add the unique targets for the output layer size\n",
        "\n",
        "# Split the data\n",
        "X_train, X_val, y_train, y_val = train_test_split(X, y_encoded, test_size=0.2, random_state=42)\n",
        "\n",
        "# Train the model\n",
        "model, accuracy = train_model(X_train, y_train, X_val, y_val, params)\n",
        "print(f'Validation Accuracy: {accuracy:.4f}')\n"
      ],
      "metadata": {
        "colab": {
          "base_uri": "https://localhost:8080/"
        },
        "outputId": "4da05fec-5e5f-4833-8487-926d6cc76fef",
        "id": "DQXloovkI3-u"
      },
      "execution_count": null,
      "outputs": [
        {
          "output_type": "stream",
          "name": "stdout",
          "text": [
            "Validation Accuracy: 0.1500\n"
          ]
        }
      ]
    },
    {
      "cell_type": "markdown",
      "source": [
        "# Task ID61: 14952"
      ],
      "metadata": {
        "id": "cyp2ScRKUQtY"
      }
    },
    {
      "cell_type": "code",
      "source": [
        "# Load and preprocess the data\n",
        "task_id = 14952\n",
        "X, y, cat_columns, num_columns = load_data(task_id)\n",
        "X, label_encoders = preprocess_data(X, cat_columns)\n",
        "\n",
        "# Encode the target variable\n",
        "target_encoder = LabelEncoder()\n",
        "y_encoded = target_encoder.fit_transform(y)  # Encode the target labels to integers\n",
        "\n",
        "params = get_random_parameters(seed=42)\n",
        "params['cat_idx'] = [X.columns.get_loc(c) for c in cat_columns]\n",
        "params['num_idx'] = [X.columns.get_loc(c) for c in num_columns if c in X.columns]\n",
        "params['target'] = np.unique(y_encoded)  # Add the unique targets for the output layer size\n",
        "\n",
        "# Split the data\n",
        "X_train, X_val, y_train, y_val = train_test_split(X, y_encoded, test_size=0.2, random_state=42)\n",
        "\n",
        "# Train the model\n",
        "model, accuracy = train_model(X_train, y_train, X_val, y_val, params)\n",
        "print(f'Validation Accuracy: {accuracy:.4f}')\n"
      ],
      "metadata": {
        "colab": {
          "base_uri": "https://localhost:8080/"
        },
        "outputId": "8751b47f-2d1a-484d-96c5-1d2390593a89",
        "id": "5gXzxh3LI4VA"
      },
      "execution_count": null,
      "outputs": [
        {
          "output_type": "stream",
          "name": "stdout",
          "text": [
            "Validation Accuracy: 0.9172\n"
          ]
        }
      ]
    },
    {
      "cell_type": "markdown",
      "source": [
        "# Task ID62: 125920"
      ],
      "metadata": {
        "id": "wmm8YmtYdYqs"
      }
    },
    {
      "cell_type": "code",
      "source": [
        "# Load and preprocess the data\n",
        "task_id = 125920\n",
        "X, y, cat_columns, num_columns = load_data(task_id)\n",
        "X, label_encoders = preprocess_data(X, cat_columns)\n",
        "\n",
        "# Encode the target variable\n",
        "target_encoder = LabelEncoder()\n",
        "y_encoded = target_encoder.fit_transform(y)  # Encode the target labels to integers\n",
        "\n",
        "params = get_random_parameters(seed=42)\n",
        "params['cat_idx'] = [X.columns.get_loc(c) for c in cat_columns]\n",
        "params['num_idx'] = [X.columns.get_loc(c) for c in num_columns if c in X.columns]\n",
        "params['target'] = np.unique(y_encoded)  # Add the unique targets for the output layer size\n",
        "\n",
        "# Split the data\n",
        "X_train, X_val, y_train, y_val = train_test_split(X, y_encoded, test_size=0.2, random_state=42)\n",
        "\n",
        "# Train the model\n",
        "model, accuracy = train_model(X_train, y_train, X_val, y_val, params)\n",
        "print(f'Validation Accuracy: {accuracy:.4f}')\n"
      ],
      "metadata": {
        "colab": {
          "base_uri": "https://localhost:8080/"
        },
        "outputId": "819f7694-083a-4289-c4ed-41c08cf1a9aa",
        "id": "30V2bz4GI4qI"
      },
      "execution_count": null,
      "outputs": [
        {
          "output_type": "stream",
          "name": "stdout",
          "text": [
            "Validation Accuracy: 0.6000\n"
          ]
        }
      ]
    },
    {
      "cell_type": "markdown",
      "source": [
        "# Task ID63: 23"
      ],
      "metadata": {
        "id": "OOeFMqFydZr3"
      }
    },
    {
      "cell_type": "code",
      "source": [
        "# Load and preprocess the data\n",
        "task_id = 23\n",
        "X, y, cat_columns, num_columns = load_data(task_id)\n",
        "X, label_encoders = preprocess_data(X, cat_columns)\n",
        "\n",
        "# Encode the target variable\n",
        "target_encoder = LabelEncoder()\n",
        "y_encoded = target_encoder.fit_transform(y)  # Encode the target labels to integers\n",
        "\n",
        "params = get_random_parameters(seed=42)\n",
        "params['cat_idx'] = [X.columns.get_loc(c) for c in cat_columns]\n",
        "params['num_idx'] = [X.columns.get_loc(c) for c in num_columns if c in X.columns]\n",
        "params['target'] = np.unique(y_encoded)  # Add the unique targets for the output layer size\n",
        "\n",
        "# Split the data\n",
        "X_train, X_val, y_train, y_val = train_test_split(X, y_encoded, test_size=0.2, random_state=42)\n",
        "\n",
        "# Train the model\n",
        "model, accuracy = train_model(X_train, y_train, X_val, y_val, params)\n",
        "print(f'Validation Accuracy: {accuracy:.4f}')\n"
      ],
      "metadata": {
        "colab": {
          "base_uri": "https://localhost:8080/"
        },
        "outputId": "8f0f6454-d768-489f-e350-46ec445c73d1",
        "id": "7rlCmYTgI5Ac"
      },
      "execution_count": null,
      "outputs": [
        {
          "output_type": "stream",
          "name": "stdout",
          "text": [
            "Validation Accuracy: 0.4847\n"
          ]
        }
      ]
    },
    {
      "cell_type": "markdown",
      "source": [
        "# Task ID64: 3904"
      ],
      "metadata": {
        "id": "j0ZiCc7_dZ5N"
      }
    },
    {
      "cell_type": "code",
      "source": [
        "# Load and preprocess the data\n",
        "task_id = 3904\n",
        "X, y, cat_columns, num_columns = load_data(task_id)\n",
        "X, label_encoders = preprocess_data(X, cat_columns)\n",
        "\n",
        "# Encode the target variable\n",
        "target_encoder = LabelEncoder()\n",
        "y_encoded = target_encoder.fit_transform(y)  # Encode the target labels to integers\n",
        "\n",
        "params = get_random_parameters(seed=42)\n",
        "params['cat_idx'] = [X.columns.get_loc(c) for c in cat_columns]\n",
        "params['num_idx'] = [X.columns.get_loc(c) for c in num_columns if c in X.columns]\n",
        "params['target'] = np.unique(y_encoded)  # Add the unique targets for the output layer size\n",
        "\n",
        "# Split the data\n",
        "X_train, X_val, y_train, y_val = train_test_split(X, y_encoded, test_size=0.2, random_state=42)\n",
        "\n",
        "# Train the model\n",
        "model, accuracy = train_model(X_train, y_train, X_val, y_val, params)\n",
        "print(f'Validation Accuracy: {accuracy:.4f}')\n"
      ],
      "metadata": {
        "colab": {
          "base_uri": "https://localhost:8080/"
        },
        "outputId": "469b61e4-7e35-410f-e7a9-a6ccb81bfe8f",
        "id": "uJ02TbtiI5zb"
      },
      "execution_count": null,
      "outputs": [
        {
          "output_type": "stream",
          "name": "stdout",
          "text": [
            "Validation Accuracy: 0.8075\n"
          ]
        }
      ]
    },
    {
      "cell_type": "markdown",
      "source": [
        "# Task ID65: 3022"
      ],
      "metadata": {
        "id": "JgmWq_NbdaFn"
      }
    },
    {
      "cell_type": "code",
      "source": [
        "# Load and preprocess the data\n",
        "task_id = 3022\n",
        "X, y, cat_columns, num_columns = load_data(task_id)\n",
        "X, label_encoders = preprocess_data(X, cat_columns)\n",
        "\n",
        "# Encode the target variable\n",
        "target_encoder = LabelEncoder()\n",
        "y_encoded = target_encoder.fit_transform(y)  # Encode the target labels to integers\n",
        "\n",
        "params = get_random_parameters(seed=42)\n",
        "params['cat_idx'] = [X.columns.get_loc(c) for c in cat_columns]\n",
        "params['num_idx'] = [X.columns.get_loc(c) for c in num_columns if c in X.columns]\n",
        "params['target'] = np.unique(y_encoded)  # Add the unique targets for the output layer size\n",
        "\n",
        "# Split the data\n",
        "X_train, X_val, y_train, y_val = train_test_split(X, y_encoded, test_size=0.2, random_state=42)\n",
        "\n",
        "# Train the model\n",
        "model, accuracy = train_model(X_train, y_train, X_val, y_val, params)\n",
        "print(f'Validation Accuracy: {accuracy:.4f}')\n"
      ],
      "metadata": {
        "colab": {
          "base_uri": "https://localhost:8080/"
        },
        "outputId": "8328b1f9-7181-4ac7-e6d1-a6512848103b",
        "id": "hRBzU89AI6KF"
      },
      "execution_count": null,
      "outputs": [
        {
          "output_type": "stream",
          "name": "stdout",
          "text": [
            "Validation Accuracy: 0.2323\n"
          ]
        }
      ]
    },
    {
      "cell_type": "markdown",
      "source": [
        "# Task ID66: 9985"
      ],
      "metadata": {
        "id": "k1saJ1SSdaTj"
      }
    },
    {
      "cell_type": "code",
      "source": [
        "# Load and preprocess the data\n",
        "task_id = 9985\n",
        "X, y, cat_columns, num_columns = load_data(task_id)\n",
        "X, label_encoders = preprocess_data(X, cat_columns)\n",
        "\n",
        "# Encode the target variable\n",
        "target_encoder = LabelEncoder()\n",
        "y_encoded = target_encoder.fit_transform(y)  # Encode the target labels to integers\n",
        "\n",
        "params = get_random_parameters(seed=42)\n",
        "params['cat_idx'] = [X.columns.get_loc(c) for c in cat_columns]\n",
        "params['num_idx'] = [X.columns.get_loc(c) for c in num_columns if c in X.columns]\n",
        "params['target'] = np.unique(y_encoded)  # Add the unique targets for the output layer size\n",
        "\n",
        "# Split the data\n",
        "X_train, X_val, y_train, y_val = train_test_split(X, y_encoded, test_size=0.2, random_state=42)\n",
        "\n",
        "# Train the model\n",
        "model, accuracy = train_model(X_train, y_train, X_val, y_val, params)\n",
        "print(f'Validation Accuracy: {accuracy:.4f}')\n"
      ],
      "metadata": {
        "colab": {
          "base_uri": "https://localhost:8080/"
        },
        "outputId": "39e91387-2b1c-46eb-fc71-59a77f6203f3",
        "id": "aPi45D1JI6fy"
      },
      "execution_count": null,
      "outputs": [
        {
          "output_type": "stream",
          "name": "stdout",
          "text": [
            "Validation Accuracy: 0.4436\n"
          ]
        }
      ]
    },
    {
      "cell_type": "markdown",
      "source": [
        "# Task ID67: 9910"
      ],
      "metadata": {
        "id": "NmZiZ5TQdagj"
      }
    },
    {
      "cell_type": "code",
      "source": [
        "# Load and preprocess the data\n",
        "task_id = 9910\n",
        "X, y, cat_columns, num_columns = load_data(task_id)\n",
        "X, label_encoders = preprocess_data(X, cat_columns)\n",
        "\n",
        "# Encode the target variable\n",
        "target_encoder = LabelEncoder()\n",
        "y_encoded = target_encoder.fit_transform(y)  # Encode the target labels to integers\n",
        "\n",
        "params = get_random_parameters(seed=42)\n",
        "params['cat_idx'] = [X.columns.get_loc(c) for c in cat_columns]\n",
        "params['num_idx'] = [X.columns.get_loc(c) for c in num_columns if c in X.columns]\n",
        "params['target'] = np.unique(y_encoded)  # Add the unique targets for the output layer size\n",
        "\n",
        "# Split the data\n",
        "X_train, X_val, y_train, y_val = train_test_split(X, y_encoded, test_size=0.2, random_state=42)\n",
        "\n",
        "# Train the model\n",
        "model, accuracy = train_model(X_train, y_train, X_val, y_val, params)\n",
        "print(f'Validation Accuracy: {accuracy:.4f}')\n"
      ],
      "metadata": {
        "colab": {
          "base_uri": "https://localhost:8080/"
        },
        "outputId": "f4e618db-eb25-4293-8df8-3f29b5bffaa1",
        "id": "w4UBHL6qI63F"
      },
      "execution_count": null,
      "outputs": [
        {
          "output_type": "stream",
          "name": "stdout",
          "text": [
            "Validation Accuracy: 0.7630\n"
          ]
        }
      ]
    },
    {
      "cell_type": "markdown",
      "source": [
        "# Task ID68: 14970"
      ],
      "metadata": {
        "id": "hbFnAU79das-"
      }
    },
    {
      "cell_type": "code",
      "source": [
        "# Load and preprocess the data\n",
        "task_id = 14970\n",
        "X, y, cat_columns, num_columns = load_data(task_id)\n",
        "X, label_encoders = preprocess_data(X, cat_columns)\n",
        "\n",
        "# Encode the target variable\n",
        "target_encoder = LabelEncoder()\n",
        "y_encoded = target_encoder.fit_transform(y)  # Encode the target labels to integers\n",
        "\n",
        "params = get_random_parameters(seed=42)\n",
        "params['cat_idx'] = [X.columns.get_loc(c) for c in cat_columns]\n",
        "params['num_idx'] = [X.columns.get_loc(c) for c in num_columns if c in X.columns]\n",
        "params['target'] = np.unique(y_encoded)  # Add the unique targets for the output layer size\n",
        "\n",
        "# Split the data\n",
        "X_train, X_val, y_train, y_val = train_test_split(X, y_encoded, test_size=0.2, random_state=42)\n",
        "\n",
        "# Train the model\n",
        "model, accuracy = train_model(X_train, y_train, X_val, y_val, params)\n",
        "print(f'Validation Accuracy: {accuracy:.4f}')\n"
      ],
      "metadata": {
        "colab": {
          "base_uri": "https://localhost:8080/"
        },
        "outputId": "9d63baa6-3ad9-476d-9ab2-c0e67b35440c",
        "id": "z8wO4ytEI7PU"
      },
      "execution_count": null,
      "outputs": [
        {
          "output_type": "stream",
          "name": "stdout",
          "text": [
            "Validation Accuracy: 0.9738\n"
          ]
        }
      ]
    },
    {
      "cell_type": "markdown",
      "source": [
        "# Task ID69: 3021"
      ],
      "metadata": {
        "id": "HXGqTwEwda5r"
      }
    },
    {
      "cell_type": "code",
      "source": [
        "# Load and preprocess the data\n",
        "task_id = 3021\n",
        "X, y, cat_columns, num_columns = load_data(task_id)\n",
        "X, label_encoders = preprocess_data(X, cat_columns)\n",
        "\n",
        "# Encode the target variable\n",
        "target_encoder = LabelEncoder()\n",
        "y_encoded = target_encoder.fit_transform(y)  # Encode the target labels to integers\n",
        "\n",
        "params = get_random_parameters(seed=42)\n",
        "params['cat_idx'] = [X.columns.get_loc(c) for c in cat_columns]\n",
        "params['num_idx'] = [X.columns.get_loc(c) for c in num_columns if c in X.columns]\n",
        "params['target'] = np.unique(y_encoded)  # Add the unique targets for the output layer size\n",
        "\n",
        "# Split the data\n",
        "X_train, X_val, y_train, y_val = train_test_split(X, y_encoded, test_size=0.2, random_state=42)\n",
        "\n",
        "# Train the model\n",
        "model, accuracy = train_model(X_train, y_train, X_val, y_val, params)\n",
        "print(f'Validation Accuracy: {accuracy:.4f}')\n"
      ],
      "metadata": {
        "colab": {
          "base_uri": "https://localhost:8080/"
        },
        "outputId": "102aeec6-81ac-4022-b3d1-455e6e3ad010",
        "id": "WSHkoty2I7lH"
      },
      "execution_count": null,
      "outputs": [
        {
          "output_type": "stream",
          "name": "stdout",
          "text": [
            "Validation Accuracy: 0.9497\n"
          ]
        }
      ]
    },
    {
      "cell_type": "markdown",
      "source": [
        "# Task ID70: 3481"
      ],
      "metadata": {
        "id": "_SGwxPNTdbG5"
      }
    },
    {
      "cell_type": "code",
      "source": [
        "# Load and preprocess the data\n",
        "task_id = 3481\n",
        "X, y, cat_columns, num_columns = load_data(task_id)\n",
        "X, label_encoders = preprocess_data(X, cat_columns)\n",
        "\n",
        "# Encode the target variable\n",
        "target_encoder = LabelEncoder()\n",
        "y_encoded = target_encoder.fit_transform(y)  # Encode the target labels to integers\n",
        "\n",
        "params = get_random_parameters(seed=42)\n",
        "params['cat_idx'] = [X.columns.get_loc(c) for c in cat_columns]\n",
        "params['num_idx'] = [X.columns.get_loc(c) for c in num_columns if c in X.columns]\n",
        "params['target'] = np.unique(y_encoded)  # Add the unique targets for the output layer size\n",
        "\n",
        "# Split the data\n",
        "X_train, X_val, y_train, y_val = train_test_split(X, y_encoded, test_size=0.2, random_state=42)\n",
        "\n",
        "# Train the model\n",
        "model, accuracy = train_model(X_train, y_train, X_val, y_val, params)\n",
        "print(f'Validation Accuracy: {accuracy:.4f}')\n"
      ],
      "metadata": {
        "colab": {
          "base_uri": "https://localhost:8080/"
        },
        "outputId": "83770db8-1054-4148-c88e-a22d78a024b2",
        "id": "0ktseXxFI772"
      },
      "execution_count": null,
      "outputs": [
        {
          "output_type": "stream",
          "name": "stdout",
          "text": [
            "Validation Accuracy: 0.9449\n"
          ]
        }
      ]
    },
    {
      "cell_type": "markdown",
      "source": [
        "# Task ID71: 3573"
      ],
      "metadata": {
        "id": "pRv7Cn0GdbT-"
      }
    },
    {
      "cell_type": "code",
      "source": [
        "# Load and preprocess the data\n",
        "task_id = 3573\n",
        "X, y, cat_columns, num_columns = load_data(task_id)\n",
        "X, label_encoders = preprocess_data(X, cat_columns)\n",
        "\n",
        "# Encode the target variable\n",
        "target_encoder = LabelEncoder()\n",
        "y_encoded = target_encoder.fit_transform(y)  # Encode the target labels to integers\n",
        "\n",
        "params = get_random_parameters(seed=42)\n",
        "params['cat_idx'] = [X.columns.get_loc(c) for c in cat_columns]\n",
        "params['num_idx'] = [X.columns.get_loc(c) for c in num_columns if c in X.columns]\n",
        "params['target'] = np.unique(y_encoded)  # Add the unique targets for the output layer size\n",
        "\n",
        "# Split the data\n",
        "X_train, X_val, y_train, y_val = train_test_split(X, y_encoded, test_size=0.2, random_state=42)\n",
        "\n",
        "# Train the model\n",
        "model, accuracy = train_model(X_train, y_train, X_val, y_val, params)\n",
        "print(f'Validation Accuracy: {accuracy:.4f}')\n"
      ],
      "metadata": {
        "colab": {
          "base_uri": "https://localhost:8080/"
        },
        "outputId": "bb45d56c-731b-4094-9738-b19f57076079",
        "id": "Er8SOavjI8R1"
      },
      "execution_count": null,
      "outputs": [
        {
          "output_type": "stream",
          "name": "stdout",
          "text": [
            "Validation Accuracy: 0.9059\n"
          ]
        }
      ]
    },
    {
      "cell_type": "markdown",
      "source": [
        "# Task ID72: 146824"
      ],
      "metadata": {
        "id": "yyid9hePdbi9"
      }
    },
    {
      "cell_type": "code",
      "source": [
        "# Load and preprocess the data\n",
        "task_id = 146824\n",
        "X, y, cat_columns, num_columns = load_data(task_id)\n",
        "X, label_encoders = preprocess_data(X, cat_columns)\n",
        "\n",
        "# Encode the target variable\n",
        "target_encoder = LabelEncoder()\n",
        "y_encoded = target_encoder.fit_transform(y)  # Encode the target labels to integers\n",
        "\n",
        "params = get_random_parameters(seed=42)\n",
        "params['cat_idx'] = [X.columns.get_loc(c) for c in cat_columns]\n",
        "params['num_idx'] = [X.columns.get_loc(c) for c in num_columns if c in X.columns]\n",
        "params['target'] = np.unique(y_encoded)  # Add the unique targets for the output layer size\n",
        "\n",
        "# Split the data\n",
        "X_train, X_val, y_train, y_val = train_test_split(X, y_encoded, test_size=0.2, random_state=42)\n",
        "\n",
        "# Train the model\n",
        "model, accuracy = train_model(X_train, y_train, X_val, y_val, params)\n",
        "print(f'Validation Accuracy: {accuracy:.4f}')\n"
      ],
      "metadata": {
        "colab": {
          "base_uri": "https://localhost:8080/"
        },
        "outputId": "a0bb1f0b-6dc1-4fe4-f764-8c7b8ef58b7a",
        "id": "GppSCwvLI9Iy"
      },
      "execution_count": null,
      "outputs": [
        {
          "output_type": "stream",
          "name": "stdout",
          "text": [
            "Validation Accuracy: 0.9650\n"
          ]
        }
      ]
    },
    {
      "cell_type": "markdown",
      "source": [
        "# Task ID73: 146820"
      ],
      "metadata": {
        "id": "ZErycBTkjcTT"
      }
    },
    {
      "cell_type": "code",
      "source": [
        "# Load and preprocess the data\n",
        "task_id = 146820\n",
        "X, y, cat_columns, num_columns = load_data(task_id)\n",
        "X, label_encoders = preprocess_data(X, cat_columns)\n",
        "\n",
        "# Encode the target variable\n",
        "target_encoder = LabelEncoder()\n",
        "y_encoded = target_encoder.fit_transform(y)  # Encode the target labels to integers\n",
        "\n",
        "params = get_random_parameters(seed=42)\n",
        "params['cat_idx'] = [X.columns.get_loc(c) for c in cat_columns]\n",
        "params['num_idx'] = [X.columns.get_loc(c) for c in num_columns if c in X.columns]\n",
        "params['target'] = np.unique(y_encoded)  # Add the unique targets for the output layer size\n",
        "\n",
        "# Split the data\n",
        "X_train, X_val, y_train, y_val = train_test_split(X, y_encoded, test_size=0.2, random_state=42)\n",
        "\n",
        "# Train the model\n",
        "model, accuracy = train_model(X_train, y_train, X_val, y_val, params)\n",
        "print(f'Validation Accuracy: {accuracy:.4f}')\n"
      ],
      "metadata": {
        "colab": {
          "base_uri": "https://localhost:8080/"
        },
        "outputId": "96a62871-faa6-42ab-d71c-b5c84a946b08",
        "id": "lMYM2WJCI9eh"
      },
      "execution_count": null,
      "outputs": [
        {
          "output_type": "stream",
          "name": "stdout",
          "text": [
            "Validation Accuracy: 0.9421\n"
          ]
        }
      ]
    },
    {
      "cell_type": "markdown",
      "source": [
        "# Task ID74: 146822"
      ],
      "metadata": {
        "id": "ApnHqxGOjclf"
      }
    },
    {
      "cell_type": "code",
      "source": [
        "# Load and preprocess the data\n",
        "task_id = 146822\n",
        "X, y, cat_columns, num_columns = load_data(task_id)\n",
        "X, label_encoders = preprocess_data(X, cat_columns)\n",
        "\n",
        "# Encode the target variable\n",
        "target_encoder = LabelEncoder()\n",
        "y_encoded = target_encoder.fit_transform(y)  # Encode the target labels to integers\n",
        "\n",
        "params = get_random_parameters(seed=42)\n",
        "params['cat_idx'] = [X.columns.get_loc(c) for c in cat_columns]\n",
        "params['num_idx'] = [X.columns.get_loc(c) for c in num_columns if c in X.columns]\n",
        "params['target'] = np.unique(y_encoded)  # Add the unique targets for the output layer size\n",
        "\n",
        "# Split the data\n",
        "X_train, X_val, y_train, y_val = train_test_split(X, y_encoded, test_size=0.2, random_state=42)\n",
        "\n",
        "# Train the model\n",
        "model, accuracy = train_model(X_train, y_train, X_val, y_val, params)\n",
        "print(f'Validation Accuracy: {accuracy:.4f}')\n"
      ],
      "metadata": {
        "colab": {
          "base_uri": "https://localhost:8080/"
        },
        "outputId": "b451ed63-d68a-4572-9cdb-d57379961541",
        "id": "Pw5jUnaSI91c"
      },
      "execution_count": null,
      "outputs": [
        {
          "output_type": "stream",
          "name": "stdout",
          "text": [
            "Validation Accuracy: 0.8333\n"
          ]
        }
      ]
    },
    {
      "cell_type": "markdown",
      "source": [
        "# Task ID75: 146195"
      ],
      "metadata": {
        "id": "Ybce50ysjc0s"
      }
    },
    {
      "cell_type": "code",
      "source": [
        "# Load and preprocess the data\n",
        "task_id = 146195\n",
        "X, y, cat_columns, num_columns = load_data(task_id)\n",
        "X, label_encoders = preprocess_data(X, cat_columns)\n",
        "\n",
        "# Encode the target variable\n",
        "target_encoder = LabelEncoder()\n",
        "y_encoded = target_encoder.fit_transform(y)  # Encode the target labels to integers\n",
        "\n",
        "params = get_random_parameters(seed=42)\n",
        "params['cat_idx'] = [X.columns.get_loc(c) for c in cat_columns]\n",
        "params['num_idx'] = [X.columns.get_loc(c) for c in num_columns if c in X.columns]\n",
        "params['target'] = np.unique(y_encoded)  # Add the unique targets for the output layer size\n",
        "\n",
        "# Split the data\n",
        "X_train, X_val, y_train, y_val = train_test_split(X, y_encoded, test_size=0.2, random_state=42)\n",
        "\n",
        "# Train the model\n",
        "model, accuracy = train_model(X_train, y_train, X_val, y_val, params)\n",
        "print(f'Validation Accuracy: {accuracy:.4f}')\n"
      ],
      "metadata": {
        "colab": {
          "base_uri": "https://localhost:8080/"
        },
        "outputId": "c7a0ea72-47ed-42f0-f4f9-e928a63936f6",
        "id": "0PQelWQHI-I6"
      },
      "execution_count": null,
      "outputs": [
        {
          "output_type": "stream",
          "name": "stdout",
          "text": [
            "Validation Accuracy: 0.6585\n"
          ]
        }
      ]
    },
    {
      "cell_type": "markdown",
      "source": [
        "# Task ID76: 146800"
      ],
      "metadata": {
        "id": "hS7jGUhzjdCn"
      }
    },
    {
      "cell_type": "code",
      "source": [
        "# Load and preprocess the data\n",
        "task_id = 146800\n",
        "X, y, cat_columns, num_columns = load_data(task_id)\n",
        "X, label_encoders = preprocess_data(X, cat_columns)\n",
        "\n",
        "# Encode the target variable\n",
        "target_encoder = LabelEncoder()\n",
        "y_encoded = target_encoder.fit_transform(y)  # Encode the target labels to integers\n",
        "\n",
        "params = get_random_parameters(seed=42)\n",
        "params['cat_idx'] = [X.columns.get_loc(c) for c in cat_columns]\n",
        "params['num_idx'] = [X.columns.get_loc(c) for c in num_columns if c in X.columns]\n",
        "params['target'] = np.unique(y_encoded)  # Add the unique targets for the output layer size\n",
        "\n",
        "# Split the data\n",
        "X_train, X_val, y_train, y_val = train_test_split(X, y_encoded, test_size=0.2, random_state=42)\n",
        "\n",
        "# Train the model\n",
        "model, accuracy = train_model(X_train, y_train, X_val, y_val, params)\n",
        "print(f'Validation Accuracy: {accuracy:.4f}')\n"
      ],
      "metadata": {
        "colab": {
          "base_uri": "https://localhost:8080/"
        },
        "outputId": "9bc00904-c93f-4f60-c9f8-c594732f7029",
        "id": "NWvL9zl3I-dV"
      },
      "execution_count": null,
      "outputs": [
        {
          "output_type": "stream",
          "name": "stdout",
          "text": [
            "Validation Accuracy: 0.1481\n"
          ]
        }
      ]
    },
    {
      "cell_type": "markdown",
      "source": [
        "# Task ID77: 146817"
      ],
      "metadata": {
        "id": "Cp2KgzM5jdPc"
      }
    },
    {
      "cell_type": "code",
      "source": [
        "# Load and preprocess the data\n",
        "task_id = 146817\n",
        "X, y, cat_columns, num_columns = load_data(task_id)\n",
        "X, label_encoders = preprocess_data(X, cat_columns)\n",
        "\n",
        "# Encode the target variable\n",
        "target_encoder = LabelEncoder()\n",
        "y_encoded = target_encoder.fit_transform(y)  # Encode the target labels to integers\n",
        "\n",
        "params = get_random_parameters(seed=42)\n",
        "params['cat_idx'] = [X.columns.get_loc(c) for c in cat_columns]\n",
        "params['num_idx'] = [X.columns.get_loc(c) for c in num_columns if c in X.columns]\n",
        "params['target'] = np.unique(y_encoded)  # Add the unique targets for the output layer size\n",
        "\n",
        "# Split the data\n",
        "X_train, X_val, y_train, y_val = train_test_split(X, y_encoded, test_size=0.2, random_state=42)\n",
        "\n",
        "# Train the model\n",
        "model, accuracy = train_model(X_train, y_train, X_val, y_val, params)\n",
        "print(f'Validation Accuracy: {accuracy:.4f}')\n"
      ],
      "metadata": {
        "colab": {
          "base_uri": "https://localhost:8080/"
        },
        "outputId": "fad41cd0-a11b-4fdf-f907-e1a5ef14536f",
        "id": "ZaNHtcpHI-zd"
      },
      "execution_count": null,
      "outputs": [
        {
          "output_type": "stream",
          "name": "stdout",
          "text": [
            "Validation Accuracy: 0.4473\n"
          ]
        }
      ]
    },
    {
      "cell_type": "markdown",
      "source": [
        "# Task ID78: 146819"
      ],
      "metadata": {
        "id": "yXXQpbjwjdb3"
      }
    },
    {
      "cell_type": "code",
      "source": [
        "# Load and preprocess the data\n",
        "task_id = 146819\n",
        "X, y, cat_columns, num_columns = load_data(task_id)\n",
        "X, label_encoders = preprocess_data(X, cat_columns)\n",
        "\n",
        "# Encode the target variable\n",
        "target_encoder = LabelEncoder()\n",
        "y_encoded = target_encoder.fit_transform(y)  # Encode the target labels to integers\n",
        "\n",
        "params = get_random_parameters(seed=42)\n",
        "params['cat_idx'] = [X.columns.get_loc(c) for c in cat_columns]\n",
        "params['num_idx'] = [X.columns.get_loc(c) for c in num_columns if c in X.columns]\n",
        "params['target'] = np.unique(y_encoded)  # Add the unique targets for the output layer size\n",
        "\n",
        "# Split the data\n",
        "X_train, X_val, y_train, y_val = train_test_split(X, y_encoded, test_size=0.2, random_state=42)\n",
        "\n",
        "# Train the model\n",
        "model, accuracy = train_model(X_train, y_train, X_val, y_val, params)\n",
        "print(f'Validation Accuracy: {accuracy:.4f}')\n"
      ],
      "metadata": {
        "colab": {
          "base_uri": "https://localhost:8080/"
        },
        "outputId": "5eca54a8-881b-4ffd-884d-a67d2d4abb43",
        "id": "7Y-zf5dvI_GV"
      },
      "execution_count": null,
      "outputs": [
        {
          "output_type": "stream",
          "name": "stdout",
          "text": [
            "Validation Accuracy: 0.9074\n"
          ]
        }
      ]
    },
    {
      "cell_type": "markdown",
      "source": [
        "# Task ID79: 146821"
      ],
      "metadata": {
        "id": "FQWP6NUVjdoM"
      }
    },
    {
      "cell_type": "code",
      "source": [
        "# Load and preprocess the data\n",
        "task_id = 146821\n",
        "X, y, cat_columns, num_columns = load_data(task_id)\n",
        "X, label_encoders = preprocess_data(X, cat_columns)\n",
        "\n",
        "# Encode the target variable\n",
        "target_encoder = LabelEncoder()\n",
        "y_encoded = target_encoder.fit_transform(y)  # Encode the target labels to integers\n",
        "\n",
        "params = get_random_parameters(seed=42)\n",
        "params['cat_idx'] = [X.columns.get_loc(c) for c in cat_columns]\n",
        "params['num_idx'] = [X.columns.get_loc(c) for c in num_columns if c in X.columns]\n",
        "params['target'] = np.unique(y_encoded)  # Add the unique targets for the output layer size\n",
        "\n",
        "# Split the data\n",
        "X_train, X_val, y_train, y_val = train_test_split(X, y_encoded, test_size=0.2, random_state=42)\n",
        "\n",
        "# Train the model\n",
        "model, accuracy = train_model(X_train, y_train, X_val, y_val, params)\n",
        "print(f'Validation Accuracy: {accuracy:.4f}')\n"
      ],
      "metadata": {
        "colab": {
          "base_uri": "https://localhost:8080/"
        },
        "outputId": "a3fa17f5-a280-46a6-af4c-1c1c52e55198",
        "id": "4aHQ49ZyI_mn"
      },
      "execution_count": null,
      "outputs": [
        {
          "output_type": "stream",
          "name": "stdout",
          "text": [
            "Validation Accuracy: 0.6676\n"
          ]
        }
      ]
    },
    {
      "cell_type": "markdown",
      "source": [
        "# Task ID80: 14954"
      ],
      "metadata": {
        "id": "R1dUVRBFjd0n"
      }
    },
    {
      "cell_type": "code",
      "source": [
        "# Load and preprocess the data\n",
        "task_id = 14954\n",
        "X, y, cat_columns, num_columns = load_data(task_id)\n",
        "X, label_encoders = preprocess_data(X, cat_columns)\n",
        "\n",
        "# Encode the target variable\n",
        "target_encoder = LabelEncoder()\n",
        "y_encoded = target_encoder.fit_transform(y)  # Encode the target labels to integers\n",
        "\n",
        "params = get_random_parameters(seed=42)\n",
        "params['cat_idx'] = [X.columns.get_loc(c) for c in cat_columns]\n",
        "params['num_idx'] = [X.columns.get_loc(c) for c in num_columns if c in X.columns]\n",
        "params['target'] = np.unique(y_encoded)  # Add the unique targets for the output layer size\n",
        "\n",
        "# Split the data\n",
        "X_train, X_val, y_train, y_val = train_test_split(X, y_encoded, test_size=0.2, random_state=42)\n",
        "\n",
        "# Train the model\n",
        "model, accuracy = train_model(X_train, y_train, X_val, y_val, params)\n",
        "print(f'Validation Accuracy: {accuracy:.4f}')\n"
      ],
      "metadata": {
        "colab": {
          "base_uri": "https://localhost:8080/"
        },
        "outputId": "cf5ca63e-0019-43bd-9839-be4862f285bb",
        "id": "mp5w-6QUI_7q"
      },
      "execution_count": null,
      "outputs": [
        {
          "output_type": "stream",
          "name": "stdout",
          "text": [
            "Validation Accuracy: 0.4444\n"
          ]
        }
      ]
    },
    {
      "cell_type": "markdown",
      "source": [
        "# Task ID81: 167141"
      ],
      "metadata": {
        "id": "hZqVKYjojeA6"
      }
    },
    {
      "cell_type": "code",
      "source": [
        "# Load and preprocess the data\n",
        "task_id = 167141\n",
        "X, y, cat_columns, num_columns = load_data(task_id)\n",
        "X, label_encoders = preprocess_data(X, cat_columns)\n",
        "\n",
        "# Encode the target variable\n",
        "target_encoder = LabelEncoder()\n",
        "y_encoded = target_encoder.fit_transform(y)  # Encode the target labels to integers\n",
        "\n",
        "params = get_random_parameters(seed=42)\n",
        "params['cat_idx'] = [X.columns.get_loc(c) for c in cat_columns]\n",
        "params['num_idx'] = [X.columns.get_loc(c) for c in num_columns if c in X.columns]\n",
        "params['target'] = np.unique(y_encoded)  # Add the unique targets for the output layer size\n",
        "\n",
        "# Split the data\n",
        "X_train, X_val, y_train, y_val = train_test_split(X, y_encoded, test_size=0.2, random_state=42)\n",
        "\n",
        "# Train the model\n",
        "model, accuracy = train_model(X_train, y_train, X_val, y_val, params)\n",
        "print(f'Validation Accuracy: {accuracy:.4f}')\n"
      ],
      "metadata": {
        "colab": {
          "base_uri": "https://localhost:8080/"
        },
        "outputId": "cfc9c1a2-d333-4586-af6e-b2da53e078d8",
        "id": "VwneNT7wJARA"
      },
      "execution_count": null,
      "outputs": [
        {
          "output_type": "stream",
          "name": "stdout",
          "text": [
            "Validation Accuracy: 0.8620\n"
          ]
        }
      ]
    },
    {
      "cell_type": "markdown",
      "source": [
        "# Task ID82: 167140"
      ],
      "metadata": {
        "id": "S19sCYYBjeNI"
      }
    },
    {
      "cell_type": "code",
      "source": [
        "# Load and preprocess the data\n",
        "task_id = 167140\n",
        "X, y, cat_columns, num_columns = load_data(task_id)\n",
        "X, label_encoders = preprocess_data(X, cat_columns)\n",
        "\n",
        "# Encode the target variable\n",
        "target_encoder = LabelEncoder()\n",
        "y_encoded = target_encoder.fit_transform(y)  # Encode the target labels to integers\n",
        "\n",
        "params = get_random_parameters(seed=42)\n",
        "params['cat_idx'] = [X.columns.get_loc(c) for c in cat_columns]\n",
        "params['num_idx'] = [X.columns.get_loc(c) for c in num_columns if c in X.columns]\n",
        "params['target'] = np.unique(y_encoded)  # Add the unique targets for the output layer size\n",
        "\n",
        "# Split the data\n",
        "X_train, X_val, y_train, y_val = train_test_split(X, y_encoded, test_size=0.2, random_state=42)\n",
        "\n",
        "# Train the model\n",
        "model, accuracy = train_model(X_train, y_train, X_val, y_val, params)\n",
        "print(f'Validation Accuracy: {accuracy:.4f}')\n"
      ],
      "metadata": {
        "colab": {
          "base_uri": "https://localhost:8080/"
        },
        "outputId": "1b648d68-a027-432a-df5c-1c178dd5fd67",
        "id": "rYrj0vJDJAlA"
      },
      "execution_count": null,
      "outputs": [
        {
          "output_type": "stream",
          "name": "stdout",
          "text": [
            "Validation Accuracy: 0.9342\n"
          ]
        }
      ]
    },
    {
      "cell_type": "markdown",
      "source": [
        "# Task ID83: 167125"
      ],
      "metadata": {
        "id": "LDgS_tZ8jeZ6"
      }
    },
    {
      "cell_type": "code",
      "source": [
        "# Load and preprocess the data\n",
        "task_id = 167125\n",
        "X, y, cat_columns, num_columns = load_data(task_id)\n",
        "X, label_encoders = preprocess_data(X, cat_columns)\n",
        "\n",
        "# Encode the target variable\n",
        "target_encoder = LabelEncoder()\n",
        "y_encoded = target_encoder.fit_transform(y)  # Encode the target labels to integers\n",
        "\n",
        "params = get_random_parameters(seed=42)\n",
        "params['cat_idx'] = [X.columns.get_loc(c) for c in cat_columns]\n",
        "params['num_idx'] = [X.columns.get_loc(c) for c in num_columns if c in X.columns]\n",
        "params['target'] = np.unique(y_encoded)  # Add the unique targets for the output layer size\n",
        "\n",
        "# Split the data\n",
        "X_train, X_val, y_train, y_val = train_test_split(X, y_encoded, test_size=0.2, random_state=42)\n",
        "\n",
        "# Train the model\n",
        "model, accuracy = train_model(X_train, y_train, X_val, y_val, params)\n",
        "print(f'Validation Accuracy: {accuracy:.4f}')\n"
      ],
      "metadata": {
        "colab": {
          "base_uri": "https://localhost:8080/"
        },
        "outputId": "8eecf4f2-1323-44fe-91f3-eed495930ab3",
        "id": "wwzVPTKfJA7a"
      },
      "execution_count": null,
      "outputs": [
        {
          "output_type": "stream",
          "name": "stdout",
          "text": [
            "Validation Accuracy: 0.9573\n"
          ]
        }
      ]
    },
    {
      "cell_type": "markdown",
      "source": [
        "# Task ID84: 167124"
      ],
      "metadata": {
        "id": "y5x3ad8gjenJ"
      }
    },
    {
      "cell_type": "markdown",
      "source": [
        "# Task ID85: 167121"
      ],
      "metadata": {
        "id": "Q82DhhLtjezZ"
      }
    },
    {
      "cell_type": "code",
      "source": [
        "pip freeze > requirements.txt"
      ],
      "metadata": {
        "id": "9UKTUQsr5_Nx"
      },
      "execution_count": null,
      "outputs": []
    }
  ]
}
